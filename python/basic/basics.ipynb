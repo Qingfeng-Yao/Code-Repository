{
 "cells": [
  {
   "cell_type": "code",
   "execution_count": null,
   "source": [],
   "outputs": [],
   "metadata": {}
  },
  {
   "cell_type": "markdown",
   "source": [
    "- 基本信息\n",
    "    - 版本\n",
    "    - 下划线，对象属性\n",
    "    - 迭代器和生成器\n",
    "    - 鸭子类型\n",
    "    - 单例模式\n",
    "    - 闭包\n",
    "    - 面向切面编程AOP和装饰器\n",
    "    - is和==\n",
    "    - 新式类和经典类\n",
    "- 异常\n",
    "- 关键词\n",
    "    - import\n",
    "    - yield\n",
    "    - global和nonlocal\n",
    "- 数据类型\n",
    "    - 类型转换\n",
    "    - 自省\n",
    "- 变量\n",
    "    - 类变量和实例变量\n",
    "    - 变量的作用域\n",
    "- 对象\n",
    "    - 可更改和不可更改对象\n",
    "    - 面向对象\n",
    "- 方法\n",
    "    - 静态方法，类方法和实例方法\n",
    "- 函数\n",
    "    - 函数式编程和高阶函数\n",
    "        - map, reduce, filter, sorted, lambda\n",
    "    - zip, enumerate, bin, int, reversed, min, max, sum, eval\n",
    "    - super, locals\n",
    "    - 函数参数: *args和**kwargs\n",
    "    - 函数重载\n",
    "- 列表\n",
    "    - 索引和切片\n",
    "    - insert, pop, remove, id\n",
    "    - IndexError\n",
    "    - 基本操作\n",
    "        - 利用集合找异同或者删除重复元素\n",
    "        - 展平列表\n",
    "            - 使用sum函数\n",
    "            - 嵌套的列表可以进行递归展平\n",
    "- 字典\n",
    "    - 字典生成/推导式\n",
    "    - 字典排序\n",
    "    - `__getitem__`\n",
    "    - 从列表构建字典\n",
    "- 字符串\n",
    "    - 内嵌函数\n",
    "    - 正则表达式\n",
    "    - ASCII\n",
    "    - 字符串格式化\n",
    "    - 字符串编码\n",
    "    - 基本操作\n",
    "        - 生成26个字母\n",
    "- 文件及目录操作\n",
    "    - shutil\n",
    "    - glob\n",
    "    - os\n",
    "    - zipfile\n",
    "    - 文件读写\n",
    "- sys\n",
    "- logging\n",
    "- 拷贝: copy\n",
    "- pickle\n",
    "- zipfile\n",
    "- argparse\n",
    "- click\n",
    "- importlib\n",
    "- xlrd\n",
    "- json\n",
    "- datetime\n",
    "- random\n",
    "- itertools\n",
    "- heapq\n",
    "- collections\n",
    "- matplotlib\n",
    "- numpy\n",
    "- pandas\n",
    "- sklearn\n",
    "- scipy\n",
    "- math\n",
    "- nltk\n",
    "- 神经元和神经网络实现"
   ],
   "metadata": {}
  },
  {
   "cell_type": "markdown",
   "source": [
    "### 基本信息"
   ],
   "metadata": {}
  },
  {
   "cell_type": "code",
   "execution_count": 12,
   "source": [
    "# python版本\n",
    "import sys\n",
    "print(sys.version_info)\n",
    "print(sys.version_info > (3, 0))"
   ],
   "outputs": [
    {
     "output_type": "stream",
     "name": "stdout",
     "text": [
      "sys.version_info(major=3, minor=7, micro=10, releaselevel='final', serial=0)\n",
      "True\n"
     ]
    }
   ],
   "metadata": {}
  },
  {
   "cell_type": "code",
   "execution_count": null,
   "source": [
    "# ImportError: No module named 'cPickle'\n",
    "    # python2有cPickle，但是在python3下，是没有cPickle的\n",
    "    # 将cPickle改为pickle即可"
   ],
   "outputs": [],
   "metadata": {}
  },
  {
   "cell_type": "code",
   "execution_count": null,
   "source": [
    "# Python中单下划线和双下划线\n",
    "    ## __foo__:一种约定,Python内部的名字,用来区别其他用户自定义的命名,以防冲突，就是例如__init__()/构造器(当一个实例被创建的时候初始化的方法，但是它并不是实例化调用的第一个方法，__new__才是实例化对象调用的第一个方法),__del__(),__call__()/让一个类的实例像函数一样被调用 这些特殊方法，也叫魔法方法\n",
    "        # __new__是一个静态方法,而__init__是一个实例方法.\n",
    "        # __new__方法会返回一个创建的实例,而__init__什么都不返回\n",
    "        # 只有在__new__返回一个cls的实例时后面的__init__才能被调用\n",
    "        # 当创建一个新实例时调用__new__,初始化一个实例时用__init__\n",
    "        # __metaclass__是创建类时起作用.所以我们可以分别使用__metaclass__,__new__和__init__来分别在类创建,实例创建和实例初始化的时候做一些小手脚\n",
    "        # __repr__(): 自定义对象输出\n",
    "        # 比较:\n",
    "            # def __eq__(self, other):\n",
    "            #     return self.value == other.value\n",
    "\n",
    "            # def __lt__(self, other):\n",
    "            #     return self.value < other.value\n",
    "\n",
    "            # def __ge__(self, other):\n",
    "            #     return self.value >= other.value\n",
    "        # 还可以重载__len__()、__str__()函数；若想要让对象成为迭代器，则使用__iter__()，这允许我们调用next()\n",
    "    ## _foo:一种约定,用来指定变量私有.程序员用来指定私有变量的一种方式.不能用from module import * 导入，其他方面和公有一样访问\n",
    "    ## __foo:这个有真正的意义:解析器用_classname__foo来代替这个名字,以区别和其他类相同的命名,它无法直接像公有成员一样随便访问,通过对象名._类名__xxx这样的方式可以访问."
   ],
   "outputs": [],
   "metadata": {}
  },
  {
   "cell_type": "code",
   "execution_count": null,
   "source": [
    "# 在类里定义__slots__ = ('name', 'age') # 用tuple定义允许绑定的属性名称，如只允许对实例添加name和age属性\n",
    "# 使用__slots__要注意，__slots__定义的属性仅对当前类起作用，对继承的子类是不起作用的"
   ],
   "outputs": [],
   "metadata": {}
  },
  {
   "cell_type": "code",
   "execution_count": 3,
   "source": [
    "# 面向对象中实现只读属性: 将对象私有化，通过共有方法提供一个读取数据的接口\n",
    "class person:\n",
    "    def __init__(self, x):\n",
    "        self.__age = 10\n",
    "    def age(self):\n",
    "        return self.__age\n",
    "t = person(22)\n",
    "print(t.age())\n",
    "t.__age"
   ],
   "outputs": [
    {
     "output_type": "stream",
     "name": "stdout",
     "text": [
      "10\n"
     ]
    },
    {
     "output_type": "error",
     "ename": "AttributeError",
     "evalue": "'person' object has no attribute '__age'",
     "traceback": [
      "\u001b[0;31m---------------------------------------------------------------------------\u001b[0m",
      "\u001b[0;31mAttributeError\u001b[0m                            Traceback (most recent call last)",
      "\u001b[0;32m<ipython-input-3-6f1a76059f27>\u001b[0m in \u001b[0;36m<module>\u001b[0;34m\u001b[0m\n\u001b[1;32m      7\u001b[0m \u001b[0mt\u001b[0m \u001b[0;34m=\u001b[0m \u001b[0mperson\u001b[0m\u001b[0;34m(\u001b[0m\u001b[0;36m22\u001b[0m\u001b[0;34m)\u001b[0m\u001b[0;34m\u001b[0m\u001b[0;34m\u001b[0m\u001b[0m\n\u001b[1;32m      8\u001b[0m \u001b[0mprint\u001b[0m\u001b[0;34m(\u001b[0m\u001b[0mt\u001b[0m\u001b[0;34m.\u001b[0m\u001b[0mage\u001b[0m\u001b[0;34m(\u001b[0m\u001b[0;34m)\u001b[0m\u001b[0;34m)\u001b[0m\u001b[0;34m\u001b[0m\u001b[0;34m\u001b[0m\u001b[0m\n\u001b[0;32m----> 9\u001b[0;31m \u001b[0mt\u001b[0m\u001b[0;34m.\u001b[0m\u001b[0m__age\u001b[0m\u001b[0;34m\u001b[0m\u001b[0;34m\u001b[0m\u001b[0m\n\u001b[0m",
      "\u001b[0;31mAttributeError\u001b[0m: 'person' object has no attribute '__age'"
     ]
    }
   ],
   "metadata": {}
  },
  {
   "cell_type": "code",
   "execution_count": 11,
   "source": [
    "class MyClass():\n",
    "    def __init__(self):\n",
    "        self.__superprivate = \"Hello\"\n",
    "        self._semiprivate = \", world!\"\n",
    "mc = MyClass()\n",
    "print(mc.__superprivate)"
   ],
   "outputs": [
    {
     "output_type": "error",
     "ename": "AttributeError",
     "evalue": "'MyClass' object has no attribute '__superprivate'",
     "traceback": [
      "\u001b[0;31m---------------------------------------------------------------------------\u001b[0m",
      "\u001b[0;31mAttributeError\u001b[0m                            Traceback (most recent call last)",
      "\u001b[0;32m<ipython-input-11-b5b24a72a279>\u001b[0m in \u001b[0;36m<module>\u001b[0;34m\u001b[0m\n\u001b[1;32m      4\u001b[0m         \u001b[0mself\u001b[0m\u001b[0;34m.\u001b[0m\u001b[0m_semiprivate\u001b[0m \u001b[0;34m=\u001b[0m \u001b[0;34m\", world!\"\u001b[0m\u001b[0;34m\u001b[0m\u001b[0;34m\u001b[0m\u001b[0m\n\u001b[1;32m      5\u001b[0m \u001b[0mmc\u001b[0m \u001b[0;34m=\u001b[0m \u001b[0mMyClass\u001b[0m\u001b[0;34m(\u001b[0m\u001b[0;34m)\u001b[0m\u001b[0;34m\u001b[0m\u001b[0;34m\u001b[0m\u001b[0m\n\u001b[0;32m----> 6\u001b[0;31m \u001b[0mprint\u001b[0m\u001b[0;34m(\u001b[0m\u001b[0mmc\u001b[0m\u001b[0;34m.\u001b[0m\u001b[0m__superprivate\u001b[0m\u001b[0;34m)\u001b[0m\u001b[0;34m\u001b[0m\u001b[0;34m\u001b[0m\u001b[0m\n\u001b[0m",
      "\u001b[0;31mAttributeError\u001b[0m: 'MyClass' object has no attribute '__superprivate'"
     ]
    }
   ],
   "metadata": {}
  },
  {
   "cell_type": "code",
   "execution_count": 12,
   "source": [
    "print(mc._semiprivate)\n",
    "print(mc.__dict__)"
   ],
   "outputs": [
    {
     "output_type": "stream",
     "name": "stdout",
     "text": [
      ", world!\n",
      "{'_MyClass__superprivate': 'Hello', '_semiprivate': ', world!'}\n"
     ]
    }
   ],
   "metadata": {}
  },
  {
   "cell_type": "code",
   "execution_count": 16,
   "source": [
    "# 迭代器和生成器\n",
    "    ## 将列表生成式中[]改成()之后数据结构是否改变？ 答案：是，从列表变为生成器\n",
    "    ## 通过列表生成式，可以直接创建一个列表。但是，受到内存限制，列表容量肯定是有限的。而且，创建一个包含百万元素的列表，不仅是占用很大的内存空间，如：我们只需要访问前面的几个元素，后面大部分元素所占的空间都是浪费的。因此，没有必要创建完整的列表（节省大量内存空间）。在Python中，我们可以采用生成器：边循环，边计算的机制—>generator\n",
    "L = [x*x for x in range(10)]\n",
    "print(L)\n",
    "g = (x*x for x in range(10))\n",
    "print(g)\n"
   ],
   "outputs": [
    {
     "output_type": "stream",
     "name": "stdout",
     "text": [
      "[0, 1, 4, 9, 16, 25, 36, 49, 64, 81]\n",
      "<generator object <genexpr> at 0x7f24f217d1d0>\n"
     ]
    }
   ],
   "metadata": {}
  },
  {
   "cell_type": "code",
   "execution_count": null,
   "source": [
    "# 鸭子类型\n",
    "    ## 我们并不关心对象是什么类型，到底是不是鸭子，只关心行为。\n",
    "    ## 比如在python中，有很多file-like的东西，比如StringIO,GzipFile,socket。它们有很多相同的方法，我们把它们当作文件使用。\n",
    "    ## 又比如list.extend()方法中,我们并不关心它的参数是不是list,只要它是可迭代的,所以它的参数可以是list/tuple/dict/字符串/生成器等.\n",
    "    ## 鸭子类型在动态语言中经常使用，非常灵活"
   ],
   "outputs": [],
   "metadata": {}
  },
  {
   "cell_type": "code",
   "execution_count": null,
   "source": [
    "# 单例模式\n",
    "    # 单例模式是一种常用的软件设计模式。在它的核心结构中只包含一个被称为单例类的特殊类。通过单例模式可以保证系统中一个类只有一个实例而且该实例易于外界访问，从而方便对实例个数的控制并节约系统资源。如果希望在系统中某个类的对象只能存在一个，单例模式是最好的解决方案。\n",
    "    # __new__()在__init__()之前被调用，用于生成实例对象。利用这个方法和类的属性的特点可以实现设计模式的单例模式。单例模式是指创建唯一对象，单例模式设计的类只能实例\n"
   ],
   "outputs": [],
   "metadata": {}
  },
  {
   "cell_type": "code",
   "execution_count": 2,
   "source": [
    "class Singleton(object): # 使用__new__方法，new是真正创建实例对象的方法，所以重写基类的new方法\n",
    "    def __new__(cls, *args, **kw):\n",
    "        if not hasattr(cls, '_instance'):\n",
    "            orig = super(Singleton, cls)\n",
    "            cls._instance = orig.__new__(cls, *args, **kw)\n",
    "        return cls._instance\n",
    "\n",
    "class MyClass(Singleton):\n",
    "    pass\n",
    "c1=MyClass()\n",
    "c2=MyClass()\n",
    "print(c1 is c2)"
   ],
   "outputs": [
    {
     "output_type": "stream",
     "name": "stdout",
     "text": [
      "True\n"
     ]
    }
   ],
   "metadata": {}
  },
  {
   "cell_type": "code",
   "execution_count": 1,
   "source": [
    "def singleton(cls): # 装饰器版本\n",
    "    instances = {}\n",
    "    def getinstance(*args, **kw):\n",
    "        if cls not in instances:\n",
    "            instances[cls] = cls(*args, **kw)\n",
    "        return instances[cls]\n",
    "    return getinstance\n",
    "\n",
    "@singleton\n",
    "class MyClass:\n",
    "    pass\n",
    "f1=MyClass()\n",
    "f2=MyClass()\n",
    "print(f1 is f2)"
   ],
   "outputs": [
    {
     "output_type": "stream",
     "name": "stdout",
     "text": [
      "True\n"
     ]
    }
   ],
   "metadata": {}
  },
  {
   "cell_type": "code",
   "execution_count": 4,
   "source": [
    "class Singleton(type):  # type是python的元类，元类是用于创建类对象的类，类对象创建实例对象时一定要调用call方法，因此在调用call时候保证始终只创建一个实例即可\n",
    "    def __call__(cls, *args, **kwargs):\n",
    "        if not hasattr(cls, '_instance'):\n",
    "            cls._instance = super(Singleton, cls).__call__(*args, **kwargs)\n",
    "        return cls._instance\n",
    "\n",
    "class Foo(metaclass=Singleton):\n",
    "    pass\n",
    "\n",
    "foo1 = Foo()\n",
    "foo2 = Foo()\n",
    "print(foo1 is foo2)"
   ],
   "outputs": [
    {
     "output_type": "stream",
     "name": "stdout",
     "text": [
      "True\n"
     ]
    }
   ],
   "metadata": {}
  },
  {
   "cell_type": "code",
   "execution_count": null,
   "source": [
    "class My_Singleton(object): # mysingleton.py   import方法    作为python的模块是天然的单例模式\n",
    "    def foo(self):\n",
    "        pass\n",
    "\n",
    "my_singleton = My_Singleton()\n",
    "\n",
    "# to use\n",
    "from mysingleton import my_singleton\n",
    "\n",
    "my_singleton.foo()"
   ],
   "outputs": [],
   "metadata": {}
  },
  {
   "cell_type": "code",
   "execution_count": null,
   "source": [
    "# 闭包(closure)是函数式编程的重要的语法结构。闭包也是一种组织代码的结构，它同样提高了代码的可重复使用性\n",
    "    # 当一个内嵌函数引用其外部作用域的变量,我们就会得到一个闭包\n",
    "    # 创建一个闭包必须满足以下几点:\n",
    "        # 必须有一个内嵌函数\n",
    "        # 内嵌函数必须引用外部函数中的变量\n",
    "        # 外部函数的返回值必须是内嵌函数"
   ],
   "outputs": [],
   "metadata": {}
  },
  {
   "cell_type": "code",
   "execution_count": 4,
   "source": [
    "# 闭包的延迟绑定\n",
    "    # 内部函数被调用时，参数的值在闭包内进行查找。因此，当任何由multipliers()返回的函数被调用时,i的值将在附近的范围进行查找。那时，不管返回的函数是否被调用，for循环已经完成，i被赋予了最终的值3\n",
    "def multipliers():\n",
    "    return [lambda x: i*x for i in range(4)]\n",
    "print([m(2) for m in multipliers()])"
   ],
   "outputs": [
    {
     "output_type": "stream",
     "name": "stdout",
     "text": [
      "[6, 6, 6, 6]\n"
     ]
    }
   ],
   "metadata": {}
  },
  {
   "cell_type": "code",
   "execution_count": 5,
   "source": [
    "def multipliers():\n",
    "    for i in range(4):\n",
    "        yield lambda x: i*x\n",
    "print([m(2) for m in multipliers()])"
   ],
   "outputs": [
    {
     "output_type": "stream",
     "name": "stdout",
     "text": [
      "[0, 2, 4, 6]\n"
     ]
    }
   ],
   "metadata": {}
  },
  {
   "cell_type": "code",
   "execution_count": 3,
   "source": [
    "# 面向切面编程AOP(Aspect Oriented Programming)和装饰器\n",
    "    # 装饰器是一个很著名的设计模式，经常被用于有切面需求的场景，较为经典的有插入日志、性能测试、事务处理等。装饰器是解决这类问题的绝佳设计，有了装饰器，我们就可以抽离出大量函数中与函数功能本身无关的雷同代码并继续重用。概括的讲，装饰器的作用就是为已经存在的对象添加额外的功能\n",
    "# 装饰器\n",
    "    # 写一个判断时间的装饰器\n",
    "import datetime\n",
    "\n",
    "class TimeException(Exception):\n",
    "    def __init__(self, exception_info):\n",
    "        super().__init__()\n",
    "        self.info = exception_info\n",
    "\n",
    "    def __str__(self):\n",
    "        return self.info\n",
    "\n",
    "def timecheck(func):\n",
    "    def wrapper(*args, **kwargs):\n",
    "        if datetime.datetime.now().year == 2021:\n",
    "            func(*args, **kwargs)\n",
    "        else:\n",
    "            raise TimeException(\"函数已过时\")\n",
    "\n",
    "    return wrapper\n",
    "\n",
    "@timecheck\n",
    "def test(name):\n",
    "    print(\"Hello {}, 2021 Happy\".format(name))\n",
    "\n",
    "test(\"backbp\")"
   ],
   "outputs": [
    {
     "output_type": "stream",
     "name": "stdout",
     "text": [
      "Hello backbp, 2021 Happy\n"
     ]
    }
   ],
   "metadata": {}
  },
  {
   "cell_type": "code",
   "execution_count": 6,
   "source": [
    "# 计算时间的装饰器\n",
    "import time\n",
    "def timeit(fn): \n",
    "    # *args and **kwargs are to support positional and named arguments of fn\n",
    "    def get_time(*args, **kwargs): \n",
    "        start = time.time() \n",
    "        output = fn(*args, **kwargs)\n",
    "        print(f\"Time taken in {fn.__name__}: {time.time() - start:.7f}\")\n",
    "        return output  # make sure that the decorator returns the output of fn\n",
    "    return get_time \n",
    "\n",
    "def fib_helper(n):\n",
    "    if n < 2:\n",
    "        return n\n",
    "    return fib_helper(n - 1) + fib_helper(n - 2)\n",
    "\n",
    "def fib_m_helper(n, computed):\n",
    "    if n in computed:\n",
    "        return computed[n]\n",
    "    computed[n] = fib_m_helper(n - 1, computed) + fib_m_helper(n - 2, computed)\n",
    "    return computed[n]\n",
    "\n",
    "@timeit\n",
    "def fib(n):\n",
    "    return fib_helper(n)\n",
    "\n",
    "@timeit\n",
    "def fib_m(n):\n",
    "    return fib_m_helper(n, {0: 0, 1: 1})\n",
    "\n",
    "fib(30)\n",
    "fib_m(30)"
   ],
   "outputs": [
    {
     "output_type": "stream",
     "name": "stdout",
     "text": [
      "Time taken in fib: 0.2612131\n",
      "Time taken in fib_m: 0.0000117\n"
     ]
    },
    {
     "output_type": "execute_result",
     "data": {
      "text/plain": [
       "832040"
      ]
     },
     "metadata": {},
     "execution_count": 6
    }
   ],
   "metadata": {}
  },
  {
   "cell_type": "code",
   "execution_count": 7,
   "source": [
    "# 上述的memoization是缓存的一种形式，python中提供了内置装饰器让函数能够进行缓存；lru表示least recently used\n",
    "import functools\n",
    "\n",
    "@functools.lru_cache()\n",
    "def fib_helper(n): # 重用之前已经计算过的数字\n",
    "    if n < 2:\n",
    "        return n\n",
    "    return fib_helper(n - 1) + fib_helper(n - 2)\n",
    "\n",
    "@timeit\n",
    "def fib(n):\n",
    "    \"\"\" fib is a wrapper function so that later we can change its behavior\n",
    "    at the top level without affecting the behavior at every recursion step.\n",
    "    \"\"\"\n",
    "    return fib_helper(n)\n",
    "\n",
    "fib(50)\n",
    "fib_m(50)"
   ],
   "outputs": [
    {
     "output_type": "stream",
     "name": "stdout",
     "text": [
      "Time taken in fib: 0.0000758\n",
      "Time taken in fib_m: 0.0000570\n"
     ]
    },
    {
     "output_type": "execute_result",
     "data": {
      "text/plain": [
       "12586269025"
      ]
     },
     "metadata": {},
     "execution_count": 7
    }
   ],
   "metadata": {}
  },
  {
   "cell_type": "code",
   "execution_count": null,
   "source": [
    "# is是对比地址,==是对比值\n",
    "    # is：比较的是两个对象的id值是否相等，也就是比较俩对象是否为同一个实例对象。是否指向同一个内存地址\n",
    "    # == ： 比较的两个对象的内容/值是否相等，默认会调用对象的eq()方法"
   ],
   "outputs": [],
   "metadata": {}
  },
  {
   "cell_type": "code",
   "execution_count": null,
   "source": [
    "# python新式类和经典类的区别\n",
    "    # 在python里凡是继承了object的类，都是新式类\n",
    "    # python3里只有新式类\n",
    "    # python2里面继承object的是新式类，没有写父类的是经典类\n",
    "    # 经典类目前在python里基本没有应用\n",
    "    # 保持class与type的统一: 对新式类的实例执行a.__class__与type(a)的结果是一致的，对于旧式类来说就不一样了\n",
    "    # 对于多重继承的属性搜索顺序不一样: 新式类是采用广度优先搜索，旧式类采用深度优先搜索"
   ],
   "outputs": [],
   "metadata": {}
  },
  {
   "cell_type": "code",
   "execution_count": null,
   "source": [
    "# import\n",
    "    # 如: from parts import * \n",
    "    # 若在parts.py的第一行中指定__all__ = ['Encoder', 'Decoder', 'Loss']，则只会导入Encoder, Decoder, Loss\n",
    "# ImportError: cannot import name 'create_T_one_hot'\n",
    "    # 交叉import: a,b两个python文件，在a中import b中的类，又在b中import a中的类，就会报这种异常"
   ],
   "outputs": [],
   "metadata": {}
  },
  {
   "cell_type": "code",
   "execution_count": null,
   "source": [
    "# \"train\" if train else \"valid\" if val else \"test\""
   ],
   "outputs": [],
   "metadata": {}
  },
  {
   "cell_type": "markdown",
   "source": [
    "### 异常"
   ],
   "metadata": {}
  },
  {
   "cell_type": "code",
   "execution_count": null,
   "source": [
    "# Exception: 常规错误的基类\n",
    "    # try: ... except Exception as e: ...\n",
    "    # raise Exception()\n",
    "# RuntimeError: 一般的运行时错误\n",
    "    # raise RuntimeError()\n",
    "# KeyError\n",
    "\n",
    "# 也可使用assert bool, \"print error msg\""
   ],
   "outputs": [],
   "metadata": {}
  },
  {
   "cell_type": "markdown",
   "source": [
    "### 关键词"
   ],
   "metadata": {}
  },
  {
   "cell_type": "code",
   "execution_count": null,
   "source": [
    "# import\n",
    "    # 如: from parts import * \n",
    "    # 若在parts.py的第一行中指定__all__ = ['Encoder', 'Decoder', 'Loss']，则只会导入Encoder, Decoder, Loss"
   ],
   "outputs": [],
   "metadata": {}
  },
  {
   "cell_type": "code",
   "execution_count": 14,
   "source": [
    "# yield: 它首先是个return，就是在程序中返回某个值，返回之后程序就不再往下运行了。看做return之后再把它看做一个是生成器（generator）的一部分（带yield的函数才是真正的迭代器）\n",
    "# yield from后面加上可迭代对象，它可以把可迭代对象里的每个元素一个一个的yield出来\n",
    "def foo():\n",
    "    print(\"starting...\")\n",
    "    while True:\n",
    "        res = yield 4\n",
    "        print(\"res:\",res)\n",
    "g = foo() # 因为foo函数中有yield关键字，所以foo函数并不会真的执行，而是先得到一个生成器g(相当于一个对象)\n",
    "print(next(g)) # 直到调用next方法，foo函数正式开始执行，先执行foo函数中的print方法，然后进入while循环。程序遇到yield关键字，然后把yield想想成return,return了一个4之后，程序停止，并没有执行赋值给res操作，此时next(g)语句执行完成，所以输出前两行\n",
    "print(\"*\"*20) \n",
    "print(next(g)) # 这个时候和上面那个差不多，不过不同的是，这个时候是从刚才那个next程序停止的地方开始执行的，也就是要执行res的赋值操作，这时候要注意，这个时候赋值操作的右边是没有值的（因为刚才那个是return出去了，并没有给赋值操作的左边传参数），所以这个时候res赋值是None,所以接着下面的输出就是res: None。程序会继续在while里执行，又一次碰到yield,这个时候同样return出4，然后程序停止，print函数输出的4就是这次return出的4"
   ],
   "outputs": [
    {
     "output_type": "stream",
     "name": "stdout",
     "text": [
      "starting...\n",
      "4\n",
      "********************\n",
      "res: None\n",
      "4\n"
     ]
    }
   ],
   "metadata": {}
  },
  {
   "cell_type": "code",
   "execution_count": null,
   "source": [
    "# global与nonlocal的区别\n",
    "    # 第一，两者的功能不同。global关键字修饰变量后标识该变量是全局变量，对该变量进行修改就是修改全局变量，而nonlocal关键字修饰变量后标识该变量是上一级函数中的局部变量，如果上一级函数中不存在该局部变量，nonlocal位置会发生错误（最上层的函数使用nonlocal修饰变量必定会报错）\n",
    "    # 第二，两者使用的范围不同。global关键字可以用在任何地方，包括最上层函数中和嵌套函数中，即使之前未定义该变量，global修饰后也可以直接使用，而nonlocal关键字只能用于嵌套函数中，并且外层函数中定义了相应的局部变量，否则会发生错误（见第一）"
   ],
   "outputs": [],
   "metadata": {}
  },
  {
   "cell_type": "markdown",
   "source": [
    "### 数据类型"
   ],
   "metadata": {}
  },
  {
   "cell_type": "code",
   "execution_count": null,
   "source": [
    "# 数据类型转换\n",
    "    ## 获取整数的各位数: 将数字转换成一个字符数组(python 中的字符串)(如A = map(int, str(N)))，或者不断地把数字除以 10，取整数的最后一个数字"
   ],
   "outputs": [],
   "metadata": {}
  },
  {
   "cell_type": "code",
   "execution_count": null,
   "source": [
    "# python自省就是面向对象的语言所写的程序在运行时,所能知道对象的类型.简单一句就是运行时能够获得对象的类型.比如type(),dir(),getattr(),hasattr(),isinstance().\n",
    "    # getattr()传入对象名字和属性名称\n",
    "    # dir()获取对象所有的属性和方法"
   ],
   "outputs": [],
   "metadata": {}
  },
  {
   "cell_type": "code",
   "execution_count": 10,
   "source": [
    "a = [1,2,3]\n",
    "b = {'a':1,'b':2,'c':3}\n",
    "c = True\n",
    "print(type(a),type(b),type(c)) # <type 'list'> <type 'dict'> <type 'bool'>\n",
    "print(isinstance(a,list))  # True"
   ],
   "outputs": [
    {
     "output_type": "stream",
     "name": "stdout",
     "text": [
      "<class 'list'> <class 'dict'> <class 'bool'>\n",
      "True\n"
     ]
    }
   ],
   "metadata": {}
  },
  {
   "cell_type": "markdown",
   "source": [
    "### 变量"
   ],
   "metadata": {}
  },
  {
   "cell_type": "code",
   "execution_count": null,
   "source": [
    "# 类变量：是可在类的所有实例之间共享的值（也就是说，它们不是单独分配给每个实例的）例如下面第一个例子中，num_of_instance 就是类变量，用于跟踪存在着多少个Test的实例。\n",
    "# 实例变量：实例化之后，每个实例单独拥有的变量"
   ],
   "outputs": [],
   "metadata": {}
  },
  {
   "cell_type": "code",
   "execution_count": 7,
   "source": [
    "class Test(object):  \n",
    "    num_of_instance = 0  \n",
    "    def __init__(self, name):  \n",
    "        self.name = name  \n",
    "        Test.num_of_instance += 1  \n",
    "  \n",
    "print(Test.num_of_instance)   # 0\n",
    "t1 = Test('jack')  \n",
    "print(Test.num_of_instance)   # 1\n",
    "t2 = Test('lucy')  \n",
    "print(t1.name , t1.num_of_instance)  # jack 2\n",
    "print(t2.name , t2.num_of_instance)  # lucy 2"
   ],
   "outputs": [
    {
     "output_type": "stream",
     "name": "stdout",
     "text": [
      "0\n",
      "1\n",
      "jack 2\n",
      "lucy 2\n"
     ]
    }
   ],
   "metadata": {}
  },
  {
   "cell_type": "code",
   "execution_count": 9,
   "source": [
    "class Person:\n",
    "    name=\"aaa\"\n",
    "\n",
    "p1=Person()\n",
    "p2=Person()\n",
    "p1.name=\"bbb\" # 实例调用了类变量,p1.name一开始是指向的类变量name=\"aaa\",但是在实例的作用域里把类变量的引用改变了,就变成了一个实例变量,self.name不再引用Person的类变量name了\n",
    "print(p1.name)  # bbb\n",
    "print(p2.name)  # aaa\n",
    "print(Person.name)  # aaa"
   ],
   "outputs": [
    {
     "output_type": "stream",
     "name": "stdout",
     "text": [
      "bbb\n",
      "aaa\n",
      "aaa\n"
     ]
    }
   ],
   "metadata": {}
  },
  {
   "cell_type": "code",
   "execution_count": null,
   "source": [
    "class Person:\n",
    "    name=[]\n",
    "\n",
    "p1=Person()\n",
    "p2=Person()\n",
    "p1.name.append(1)\n",
    "print(p1.name)  # [1]\n",
    "print(p2.name)  # [1]\n",
    "print(Person.name)  # [1]"
   ],
   "outputs": [],
   "metadata": {}
  },
  {
   "cell_type": "code",
   "execution_count": null,
   "source": [
    "# 变量的作用域(变量查找顺序)\n",
    "    # 函数作用域的LEGB顺序: L: local 函数内部作用域; E: enclosing 函数内部与内嵌函数之间; G: global 全局作用域; B: build-in 内置作用\n",
    "    # python在函数里面的查找分为4种，称之为LEGB，也正是按照这顺序来查找的"
   ],
   "outputs": [],
   "metadata": {}
  },
  {
   "cell_type": "markdown",
   "source": [
    "### 对象"
   ],
   "metadata": {}
  },
  {
   "cell_type": "code",
   "execution_count": null,
   "source": [
    "# 在python中，strings, tuples, 和numbers是不可更改的对象，而 list, dict, set 等则是可以修改的对象\n",
    "    # 当进行修改操作时，可变类型传递的是内存中的地址，也就是说，直接修改内存中的值，并没有开辟新的内存；不可变类型被改变时，并没有改变原内存地址中的值，而是开辟一块新的内存，将原地址中的值复制过去，对这块新开辟的内存中的值进行操作\n",
    "    # 当一个引用传递给函数的时候,函数自动复制一份引用,这个函数里的引用和外边的引用没有半毛关系了.所以下面第一个例子里函数把引用指向了一个不可变对象,当函数返回的时候,外面的引用没半毛感觉.而第二个例子就不一样了,函数内的引用指向的是可变对象,对它的操作就和定位了指针地址一样,在内存里进行修改"
   ],
   "outputs": [],
   "metadata": {}
  },
  {
   "cell_type": "code",
   "execution_count": 4,
   "source": [
    "a = 1\n",
    "def fun(a):\n",
    "    print(\"func_in\",id(a))   \n",
    "    a = 2\n",
    "    print(\"re-point\",id(a), id(2))  \n",
    "print(\"func_out\",id(a), id(1))  \n",
    "fun(a)\n",
    "print(a)  # 1"
   ],
   "outputs": [
    {
     "output_type": "stream",
     "name": "stdout",
     "text": [
      "func_out 94867170013952 94867170013952\n",
      "func_in 94867170013952\n",
      "re-point 94867170013984 94867170013984\n",
      "1\n"
     ]
    }
   ],
   "metadata": {}
  },
  {
   "cell_type": "code",
   "execution_count": 5,
   "source": [
    "a = []\n",
    "def fun(a):\n",
    "    print(\"func_in\",id(a))  \n",
    "    a.append(1)\n",
    "print(\"func_out\",id(a))    \n",
    "fun(a)\n",
    "print(a)  "
   ],
   "outputs": [
    {
     "output_type": "stream",
     "name": "stdout",
     "text": [
      "func_out 139797084417952\n",
      "func_in 139797084417952\n",
      "[1]\n"
     ]
    }
   ],
   "metadata": {}
  },
  {
   "cell_type": "code",
   "execution_count": null,
   "source": [
    "# 面向对象\n",
    "    # 面向对象是相当于面向过程而言的，面向过程语言是一种基于功能分析的，以算法为中心的程序设计方法，而面向对象是一种基于结构分析的，以数据为中心的程序设计思想。在面向对象语言中有一个很重要的东西，叫做类。面向对象有三大特性：封装、继承、多态"
   ],
   "outputs": [],
   "metadata": {}
  },
  {
   "cell_type": "markdown",
   "source": [
    "### 方法"
   ],
   "metadata": {}
  },
  {
   "cell_type": "code",
   "execution_count": null,
   "source": [
    "# Python有3个方法,即静态方法(staticmethod),类方法(classmethod)和实例方法\n",
    "    # 这里先理解下函数参数里面的self和cls.这个self和cls是对实例或者类的绑定,对于一般的函数来说我们可以这么调用foo(x),这个函数就是最常用的,它的工作跟任何东西(类,实例)无关.对于实例方法,我们知道在类里每次定义方法的时候都需要绑定这个实例,就是foo(self, x),为什么要这么做呢?因为实例方法的调用离不开实例,我们需要把实例自己传给函数,调用的时候是这样的a.foo(x)(其实是foo(a, x)).类方法一样,只不过它传递的是类而不是实例,A.class_foo(x)(也可以使用a.class_foo(x)).注意这里的self和cls可以替换别的参数,但是python的约定是这俩,还是不要改的好.\n",
    "# 对于静态方法其实和普通的方法一样,不需要对谁进行绑定,唯一的区别是调用的时候需要使用a.static_foo(x)或者A.static_foo(x)来调用"
   ],
   "outputs": [],
   "metadata": {}
  },
  {
   "cell_type": "code",
   "execution_count": 6,
   "source": [
    "def foo(x):\n",
    "    print(\"executing foo(%s)\"%(x))\n",
    "\n",
    "class A(object):\n",
    "    def foo(self,x):\n",
    "        print(\"executing foo(%s,%s)\"%(self,x))\n",
    "\n",
    "    @classmethod\n",
    "    def class_foo(cls,x):\n",
    "        print(\"executing class_foo(%s,%s)\"%(cls,x))\n",
    "\n",
    "    @staticmethod\n",
    "    def static_foo(x):\n",
    "        print(\"executing static_foo(%s)\"%x)\n",
    "\n",
    "a=A()"
   ],
   "outputs": [],
   "metadata": {}
  },
  {
   "cell_type": "markdown",
   "source": [
    "### 函数"
   ],
   "metadata": {}
  },
  {
   "cell_type": "code",
   "execution_count": null,
   "source": [
    "# Python函数式编程\n",
    "    # map | reduce | filter"
   ],
   "outputs": [],
   "metadata": {}
  },
  {
   "cell_type": "code",
   "execution_count": null,
   "source": [
    "# 高阶函数: map | reduce | filter | sorted\n",
    "    # map()函数接收两个参数，一个是函数，一个是Iterable(如列表)，map将传入的函数依次作用到序列的每个元素，并把结果作为新的Iterator返回；Iterator是惰性序列，因此通过list()函数让它把整个序列都计算出来并返回一个list\n",
    "    # reduce把一个函数作用在一个序列[x1, x2, x3, ...]上，这个函数必须接收两个参数，reduce把结果继续和序列的下一个元素做累积计算；reduce函数中的第三个参数为其中函数的第一个参数的初始值\n",
    "        ## 在 functools 库下，自从 Python3 以来不再是默认就可以使用的函数\n",
    "    # filter()函数用于过滤序列，接收一个函数和一个序列，把传入的函数依次作用于每个元素，然后根据返回值是True还是False决定保留还是丢弃该元素   |   filter(str.isalnum, s.lower())\n",
    "    # sorted()函数可以接收一个key函数来实现自定义的排序 第三个参数reverse=True进行反向排序 默认是升序\n",
    "        ## key仅仅支持一个参数\n",
    "        ## key如何对两个参数做对比: from functools import cmp_to_key，然后key = cmp_to_key(lambda x,y: ...)\n",
    "        ## 传入两个参数(x,y)对应于(self,other)，这里的self表示当前的数，而other是前面已经出现比较过的对象\n",
    "# 关键字lambda表示匿名函数(和函数式编程有关)，冒号前面的x表示函数参数\n",
    "    # 返回值可结合and和or进行条件选择"
   ],
   "outputs": [],
   "metadata": {}
  },
  {
   "cell_type": "code",
   "execution_count": 1,
   "source": [
    "a = lambda x:2*x\n",
    "a(2)"
   ],
   "outputs": [
    {
     "output_type": "execute_result",
     "data": {
      "text/plain": [
       "4"
      ]
     },
     "metadata": {},
     "execution_count": 1
    }
   ],
   "metadata": {}
  },
  {
   "cell_type": "code",
   "execution_count": 5,
   "source": [
    "a = [1,2,3,4,5,6,7]\n",
    "b = filter(lambda x: x > 5, a)\n",
    "print(list(b))"
   ],
   "outputs": [
    {
     "output_type": "stream",
     "name": "stdout",
     "text": [
      "[6, 7]\n"
     ]
    }
   ],
   "metadata": {}
  },
  {
   "cell_type": "code",
   "execution_count": 6,
   "source": [
    "a = map(lambda x:x*2,[1,2,3])\n",
    "list(a)"
   ],
   "outputs": [
    {
     "output_type": "execute_result",
     "data": {
      "text/plain": [
       "[2, 4, 6]"
      ]
     },
     "metadata": {},
     "execution_count": 6
    }
   ],
   "metadata": {}
  },
  {
   "cell_type": "code",
   "execution_count": 9,
   "source": [
    "a = map(lambda x,y:x*y,[1,2,3],[1,2,3])\n",
    "list(a)"
   ],
   "outputs": [
    {
     "output_type": "execute_result",
     "data": {
      "text/plain": [
       "[1, 4, 9]"
      ]
     },
     "metadata": {},
     "execution_count": 9
    }
   ],
   "metadata": {}
  },
  {
   "cell_type": "code",
   "execution_count": 14,
   "source": [
    "from functools import reduce\n",
    "print(reduce(lambda x,y:x*y,range(1,4))) # 求3的阶乘\n",
    "print(reduce(lambda x,y:x+y,range(1,4)))\n",
    "print(reduce(lambda x,y:x+y,range(1,4),10))"
   ],
   "outputs": [
    {
     "output_type": "stream",
     "name": "stdout",
     "text": [
      "6\n",
      "6\n",
      "16\n"
     ]
    }
   ],
   "metadata": {}
  },
  {
   "cell_type": "code",
   "execution_count": 46,
   "source": [
    "# lambda返回值可结合and和or进行条件选择\n",
    "    # 找出一个整数数组中，第二大的数\n",
    "    # 设置两个标志位一个存储最大数一个存储次大数\n",
    "from functools import reduce\n",
    "num_list = [34, 11, 23, 56, 78, 0, 9, 12, 3, 7, 5]\n",
    "num = reduce(lambda ot, x: ot[1] < x and (ot[1], x) or ot[0] < x and (x, ot[1]) or ot, num_list, (0, 0))[0]\n",
    "print(\"Second_large_num is :\", num)"
   ],
   "outputs": [
    {
     "output_type": "stream",
     "name": "stdout",
     "text": [
      "Second_large_num is : 56\n"
     ]
    }
   ],
   "metadata": {}
  },
  {
   "cell_type": "code",
   "execution_count": 6,
   "source": [
    "# zip\n",
    "a = [1,2,3]\n",
    "b = [4,5,6]\n",
    "zipped = zip(a,b) \n",
    "print(list(zipped)) # 打包为元组的列表\n",
    "c = [4,5,6,7,8]\n",
    "print(list(zip(a,c))) # 元素个数与最短的列表一致\n",
    "zipped = zip(a,b)\n",
    "print(list(zip(*zipped))) # 与 zip 相反，*zipped 可理解为解压，返回二维矩阵式\n",
    "\n",
    "\n",
    "# zip(dict1, dict2)\n",
    "# list(zip(a,b)) --> [(1, 2), (2, 5)] 其中a={1:2,2:3},b={2:4,5:6}"
   ],
   "outputs": [
    {
     "output_type": "stream",
     "name": "stdout",
     "text": [
      "[(1, 4), (2, 5), (3, 6)]\n",
      "[(1, 4), (2, 5), (3, 6)]\n",
      "[(1, 2, 3), (4, 5, 6)]\n"
     ]
    }
   ],
   "metadata": {}
  },
  {
   "cell_type": "code",
   "execution_count": 1,
   "source": [
    "a = [1,2,3]\n",
    "b = [4,5,6]\n",
    "c = [7,8,9]\n",
    "zipped = zip(a,b,c) \n",
    "print(list(zipped))"
   ],
   "outputs": [
    {
     "output_type": "stream",
     "name": "stdout",
     "text": [
      "[(1, 4, 7), (2, 5, 8), (3, 6, 9)]\n"
     ]
    }
   ],
   "metadata": {}
  },
  {
   "cell_type": "code",
   "execution_count": null,
   "source": [
    "# enumerate(sequence, start=0): sequence为一个序列、迭代器或其他支持迭代对象；start为下标起始位置"
   ],
   "outputs": [],
   "metadata": {}
  },
  {
   "cell_type": "code",
   "execution_count": null,
   "source": [
    "# bin函数得到二进制的字符串，int函数有两个参数，第二个参数指明进制，如int(a,2)将a转换成二进制整数"
   ],
   "outputs": [],
   "metadata": {}
  },
  {
   "cell_type": "code",
   "execution_count": 2,
   "source": [
    "# reversed\n",
    "a = [1,5,2,3]\n",
    "print(list(reversed(a)))"
   ],
   "outputs": [
    {
     "output_type": "stream",
     "name": "stdout",
     "text": [
      "[3, 2, 5, 1]\n"
     ]
    }
   ],
   "metadata": {}
  },
  {
   "cell_type": "code",
   "execution_count": 2,
   "source": [
    "# min/max\n",
    "strs = [\"flower\",\"flow\",\"flight\"]\n",
    "shortest = min(strs,key=len)\n",
    "print(shortest)\n",
    "\n",
    "import collections\n",
    "a = [1,2,2,3,3,3,3]\n",
    "counts = collections.Counter(a)\n",
    "print(max(counts.keys(), key=counts.get))"
   ],
   "outputs": [
    {
     "output_type": "stream",
     "name": "stdout",
     "text": [
      "flow\n",
      "3\n"
     ]
    }
   ],
   "metadata": {}
  },
  {
   "cell_type": "code",
   "execution_count": null,
   "source": [
    "# sum(iter, start=0)\n",
    "    # strat参数指明初始值"
   ],
   "outputs": [],
   "metadata": {}
  },
  {
   "cell_type": "code",
   "execution_count": 13,
   "source": [
    "# eval(): 用来执行一个字符串表达式，并返回表达式的值\n",
    "x = 7\n",
    "print(eval( '3 * x' ))\n",
    "t = \"%s * 1\" % '2'\n",
    "print(eval(t))"
   ],
   "outputs": [
    {
     "output_type": "stream",
     "name": "stdout",
     "text": [
      "21\n",
      "2\n"
     ]
    }
   ],
   "metadata": {}
  },
  {
   "cell_type": "code",
   "execution_count": null,
   "source": [
    "# super() 函数: 调用父类(超类)的一个方法\n",
    "    # 一个常见用法是在 __init__() 方法中确保父类被正确的初始化了\n",
    "class A:\n",
    "    def __init__(self):\n",
    "        self.x = 0\n",
    "\n",
    "class B(A):\n",
    "    def __init__(self):\n",
    "        super().__init__()\n",
    "        self.y = 1\n",
    "    # 另外一个常见用法出现在覆盖Python特殊方法的代码中\n",
    "        # __setattr__() 的实现包含一个名字检查。 如果某个属性名以下划线(_)开头，就通过 super() 调用原始的 __setattr__() ， 否则的话就委派给内部的代理对象 self._obj 去处理。 这看上去有点意思，因为就算没有显式的指明某个类的父类， super() 仍然可以有效的工作\n",
    "class Proxy:\n",
    "    def __init__(self, obj):\n",
    "        self._obj = obj\n",
    "\n",
    "    # Delegate attribute lookup to internal obj\n",
    "    def __getattr__(self, name):\n",
    "        return getattr(self._obj, name)\n",
    "\n",
    "    # Delegate attribute assignment\n",
    "    def __setattr__(self, name, value):\n",
    "        if name.startswith('_'):\n",
    "            super().__setattr__(name, value) # Call original __setattr__\n",
    "        else:\n",
    "            setattr(self._obj, name, value)\n"
   ],
   "outputs": [],
   "metadata": {}
  },
  {
   "cell_type": "code",
   "execution_count": 1,
   "source": [
    "# locals()函数: 返回一个含有定义在局部命名空间中变量的字典\n",
    "class Model1:\n",
    "    def __init__(self, hidden_size=100, num_layers=3, learning_rate=3e-4):\n",
    "        print(locals())\n",
    "        self.hidden_size = hidden_size\n",
    "        self.num_layers = num_layers\n",
    "        self.learning_rate = learning_rate\n",
    "\n",
    "model1 = Model1()"
   ],
   "outputs": [
    {
     "output_type": "stream",
     "name": "stdout",
     "text": [
      "{'self': <__main__.Model1 object at 0x7f9b606bc3d0>, 'hidden_size': 100, 'num_layers': 3, 'learning_rate': 0.0003}\n"
     ]
    }
   ],
   "metadata": {}
  },
  {
   "cell_type": "code",
   "execution_count": 2,
   "source": [
    "# 对象的所有属性存储在它的__dict__\n",
    "print(model1.__dict__)"
   ],
   "outputs": [
    {
     "output_type": "stream",
     "name": "stdout",
     "text": [
      "{'hidden_size': 100, 'num_layers': 3, 'learning_rate': 0.0003}\n"
     ]
    }
   ],
   "metadata": {}
  },
  {
   "cell_type": "code",
   "execution_count": 4,
   "source": [
    "# 可利用locals()和__dict__进行快速赋值\n",
    "class Model2:\n",
    "    def __init__(self, hidden_size=100, num_layers=3, learning_rate=3e-4):\n",
    "        params = locals()\n",
    "        del params['self']\n",
    "        self.__dict__ = params\n",
    "\n",
    "model2 = Model2()\n",
    "print(model2.__dict__)\n",
    "\n",
    "# 或者进行如下的快速赋值\n",
    "class Model3:\n",
    "    def __init__(self, **kwargs):\n",
    "        self.__dict__ = kwargs\n",
    "\n",
    "model3 = Model3(hidden_size=100, num_layers=3, learning_rate=3e-4)\n",
    "print(model3.__dict__)"
   ],
   "outputs": [
    {
     "output_type": "stream",
     "name": "stdout",
     "text": [
      "{'hidden_size': 100, 'num_layers': 3, 'learning_rate': 0.0003}\n",
      "{'hidden_size': 100, 'num_layers': 3, 'learning_rate': 0.0003}\n"
     ]
    }
   ],
   "metadata": {}
  },
  {
   "cell_type": "code",
   "execution_count": null,
   "source": [
    "# 函数参数：*args和**kwargs\n",
    "    ## 当你不确定你的函数里将要传递多少参数时你可以用*args.例如,它可以传递任意数量的参数\n",
    "    ## **kwargs允许你使用没有事先定义的参数名\n",
    "    ## 也可以混着用.命名参数首先获得参数值然后所有的其他参数都传递给*args和**kwargs.命名参数在列表的最前端.例如:def table_things(titlestring, **kwargs).*args和**kwargs可以同时在函数的定义中,但是*args必须在**kwargs前面.\n",
    "    ## 当调用函数时你也可以用*和**语法\n"
   ],
   "outputs": [],
   "metadata": {}
  },
  {
   "cell_type": "code",
   "execution_count": null,
   "source": [
    "# 函数重载\n",
    "    ## 函数重载主要是为了解决两个问题。可变参数类型。可变参数个数。\n",
    "    ## 一个基本的设计原则是，仅仅当两个函数除了参数类型和参数个数不同以外，其功能是完全相同的，此时才使用函数重载，如果两个函数的功能其实不同，那么不应当使用重载，而应当使用一个名字不同的函数\n",
    "    ## 对于情况 1 ，函数功能相同，但是参数类型不同，python 如何处理？答案是根本不需要处理，因为 python 可以接受任何类型的参数，如果函数的功能相同，那么不同的参数类型在 python 中很可能是相同的代码，没有必要做成两个不同函数\n",
    "    ## 对于情况 2 ，函数功能相同，但参数个数不同，python 如何处理？大家知道，答案就是缺省参数。对那些缺少的参数设定为缺省参数即可解决问题。因为你假设函数功能相同，那么那些缺少的参数终归是需要用的\n",
    "    ## python不需要函数重载了"
   ],
   "outputs": [],
   "metadata": {}
  },
  {
   "cell_type": "code",
   "execution_count": 18,
   "source": [
    "def print_everything(*args): # 参数列表\n",
    "    for count, thing in enumerate(args):\n",
    "        print('{0}. {1}'.format(count, thing))\n",
    "print_everything('apple', 'banana', 'cabbage')"
   ],
   "outputs": [
    {
     "output_type": "stream",
     "name": "stdout",
     "text": [
      "0. apple\n",
      "1. banana\n",
      "2. cabbage\n"
     ]
    }
   ],
   "metadata": {}
  },
  {
   "cell_type": "code",
   "execution_count": 19,
   "source": [
    "def table_things(**kwargs): # 字典\n",
    "    for name, value in kwargs.items():\n",
    "        print('{0} = {1}'.format(name, value))\n",
    "table_things(apple = 'fruit', cabbage = 'vegetable')"
   ],
   "outputs": [
    {
     "output_type": "stream",
     "name": "stdout",
     "text": [
      "apple = fruit\n",
      "cabbage = vegetable\n"
     ]
    }
   ],
   "metadata": {}
  },
  {
   "cell_type": "code",
   "execution_count": 20,
   "source": [
    "def print_three_things(a, b, c):\n",
    "    print('a = {0}, b = {1}, c = {2}'.format(a,b,c))\n",
    "mylist = ['aardvark', 'baboon', 'cat']\n",
    "print_three_things(*mylist)"
   ],
   "outputs": [
    {
     "output_type": "stream",
     "name": "stdout",
     "text": [
      "a = aardvark, b = baboon, c = cat\n"
     ]
    }
   ],
   "metadata": {}
  },
  {
   "cell_type": "markdown",
   "source": [
    "### 列表"
   ],
   "metadata": {}
  },
  {
   "cell_type": "code",
   "execution_count": 11,
   "source": [
    "# 反转[::-1] | 隔一位反转[::-2]\n",
    "# 奇数位和偶数位: [1::2] [0::2]\n",
    "elems = list(range(10))\n",
    "print(elems)\n",
    "reversed_evens = elems[-2::-2]\n",
    "print(reversed_evens)\n",
    "del elems[::2]\n",
    "print(elems)"
   ],
   "outputs": [
    {
     "output_type": "stream",
     "name": "stdout",
     "text": [
      "[0, 1, 2, 3, 4, 5, 6, 7, 8, 9]\n",
      "[8, 6, 4, 2, 0]\n",
      "[1, 3, 5, 7, 9]\n"
     ]
    }
   ],
   "metadata": {}
  },
  {
   "cell_type": "code",
   "execution_count": 1,
   "source": [
    "# 插入\n",
    "elems = list(range(10))\n",
    "elems[1:2] = [20, 30, 40] # 替换索引1\n",
    "print(elems)\n",
    "elems = list(range(10))\n",
    "elems[1:1] = [0.2, 0.3, 0.5] # 在索引0和1之间插入\n",
    "print(elems)"
   ],
   "outputs": [
    {
     "output_type": "stream",
     "name": "stdout",
     "text": [
      "[0, 20, 30, 40, 2, 3, 4, 5, 6, 7, 8, 9]\n",
      "[0, 0.2, 0.3, 0.5, 1, 2, 3, 4, 5, 6, 7, 8, 9]\n"
     ]
    }
   ],
   "metadata": {}
  },
  {
   "cell_type": "code",
   "execution_count": 44,
   "source": [
    "# insert | pop\n",
    "a = [1,2,3,4]\n",
    "a.insert(0, a.pop(2))\n",
    "a"
   ],
   "outputs": [
    {
     "output_type": "execute_result",
     "data": {
      "text/plain": [
       "[3, 1, 2, 4]"
      ]
     },
     "metadata": {},
     "execution_count": 44
    }
   ],
   "metadata": {}
  },
  {
   "cell_type": "code",
   "execution_count": 2,
   "source": [
    "# list.remove()\n",
    "# id(list)\n",
    "a = [1,2,3,4,5,6,7,8]\n",
    "print(id(a))\n",
    "print(id(a[:]))\n",
    "for i in a[:]:\n",
    "    if i>5:\n",
    "        pass\n",
    "    else:\n",
    "        a.remove(i)\n",
    "    print(a)\n",
    "print('-----------')\n",
    "print(id(a))"
   ],
   "outputs": [
    {
     "output_type": "stream",
     "name": "stdout",
     "text": [
      "140296253491400\n",
      "140296253490824\n",
      "[2, 3, 4, 5, 6, 7, 8]\n",
      "[3, 4, 5, 6, 7, 8]\n",
      "[4, 5, 6, 7, 8]\n",
      "[5, 6, 7, 8]\n",
      "[6, 7, 8]\n",
      "[6, 7, 8]\n",
      "[6, 7, 8]\n",
      "[6, 7, 8]\n",
      "-----------\n",
      "140296253491400\n"
     ]
    }
   ],
   "metadata": {}
  },
  {
   "cell_type": "code",
   "execution_count": 3,
   "source": [
    "a=[1,2,3,4,5,6,7,8] \n",
    "print(id(a))\n",
    "for i in range(len(a)-1,-1,-1): # 倒序删除\n",
    "    if a[i]>5:\n",
    "        pass\n",
    "    else:\n",
    "        a.remove(a[i])\n",
    "print(id(a))\n",
    "print('-----------')\n",
    "print(a)"
   ],
   "outputs": [
    {
     "output_type": "stream",
     "name": "stdout",
     "text": [
      "140296253490632\n",
      "140296253490632\n",
      "-----------\n",
      "[6, 7, 8]\n"
     ]
    }
   ],
   "metadata": {}
  },
  {
   "cell_type": "code",
   "execution_count": 8,
   "source": [
    "# 代码将输出[],不会产生IndexError错误\n",
    "# 尝试获取list[10]和之后的成员，会导致IndexError。然而，尝试获取列表的切片，开始的index超过了成员个数不会产生IndexError，而是仅仅返回一个空列表\n",
    "l = ['a','b','c','d','e']\n",
    "print(l[10:])"
   ],
   "outputs": [
    {
     "output_type": "stream",
     "name": "stdout",
     "text": [
      "[]\n"
     ]
    }
   ],
   "metadata": {}
  },
  {
   "cell_type": "code",
   "execution_count": 2,
   "source": [
    "# 给定两个列表，怎么找出他们相同的元素和不同的元素？\n",
    "list1 = [1,2,3]\n",
    "list2 = [3,4,5]\n",
    "set1 = set(list1)\n",
    "set2 = set(list2)\n",
    "print(set1 & set2)\n",
    "print(set1 ^ set2)"
   ],
   "outputs": [
    {
     "output_type": "stream",
     "name": "stdout",
     "text": [
      "{3}\n",
      "{1, 2, 4, 5}\n"
     ]
    }
   ],
   "metadata": {}
  },
  {
   "cell_type": "code",
   "execution_count": 9,
   "source": [
    "# 实现删除list里面的重复元素\n",
    "l1 = ['b','c','d','c','a','a']\n",
    "l2 = sorted(set(l1),key=l1.index)\n",
    "print(l2)"
   ],
   "outputs": [
    {
     "output_type": "stream",
     "name": "stdout",
     "text": [
      "['b', 'c', 'd', 'a']\n"
     ]
    }
   ],
   "metadata": {}
  },
  {
   "cell_type": "code",
   "execution_count": 15,
   "source": [
    "# 用sum展平一个列表\n",
    "    # sum函数的初始值为[]，则执行列表合并\n",
    "list_of_lists = [[1], [2, 3], [4, 5, 6]]\n",
    "print(sum(list_of_lists, []))\n",
    "# 如果一个列表中有嵌套的列表，可以进行递归展平\n",
    "nested_lists = [[1, 2], [[3, 4], [5, 6], [[7, 8], [9, 10], [[11, [12, 13]]]]]]\n",
    "flatten = lambda x: [y for l in x for y in flatten(l)] if type(x) is list else [x]\n",
    "print(flatten(nested_lists))"
   ],
   "outputs": [
    {
     "output_type": "stream",
     "name": "stdout",
     "text": [
      "[1, 2, 3, 4, 5, 6]\n",
      "[1, 2, 3, 4, 5, 6, 7, 8, 9, 10, 11, 12, 13]\n"
     ]
    }
   ],
   "metadata": {}
  },
  {
   "cell_type": "markdown",
   "source": [
    "### 字典"
   ],
   "metadata": {}
  },
  {
   "cell_type": "code",
   "execution_count": 5,
   "source": [
    "# 字典生成/推导式\n",
    "    ## d = {key: value for (key, value) in iterable}\n",
    "s = \"k:1|k1:2|k2:3|k3:4\"\n",
    "d = {k:int(v) for t in s.split(\"|\") for k, v in (t.split(\":\"),)}\n",
    "print(d)"
   ],
   "outputs": [
    {
     "output_type": "stream",
     "name": "stdout",
     "text": [
      "{'k': 1, 'k1': 2, 'k2': 3, 'k3': 4}\n"
     ]
    }
   ],
   "metadata": {}
  },
  {
   "cell_type": "code",
   "execution_count": null,
   "source": [
    "# 字典按value值进行排序\n",
    "    # sorted(d.items(),key=lambda x:x[1]) # x[0]代表用key进行排序；x[1]代表用value进行排序"
   ],
   "outputs": [],
   "metadata": {}
  },
  {
   "cell_type": "code",
   "execution_count": 37,
   "source": [
    "# __getitem__\n",
    "d = {'k': 1, 'k1': 2, 'k2': 3, 'k3': 4}\n",
    "d['k'],d.__getitem__('k1')"
   ],
   "outputs": [
    {
     "output_type": "execute_result",
     "data": {
      "text/plain": [
       "(1, 2)"
      ]
     },
     "metadata": {},
     "execution_count": 37
    }
   ],
   "metadata": {}
  },
  {
   "cell_type": "code",
   "execution_count": 4,
   "source": [
    "# 从列表构建字典: fromkeys  |  可对列表进行去重\n",
    "b = {}\n",
    "a = [1,1,2,2,3]\n",
    "b = b.fromkeys(a)\n",
    "c = list(b.keys())\n",
    "print(c)\n",
    "print(b)"
   ],
   "outputs": [
    {
     "output_type": "stream",
     "name": "stdout",
     "text": [
      "[1, 2, 3]\n",
      "{1: None, 2: None, 3: None}\n"
     ]
    }
   ],
   "metadata": {}
  },
  {
   "cell_type": "code",
   "execution_count": 2,
   "source": [
    "# .pop()\n",
    "d={1:2,2:3}\n",
    "print(d.pop(1))\n",
    "d"
   ],
   "outputs": [
    {
     "output_type": "stream",
     "name": "stdout",
     "text": [
      "2\n"
     ]
    },
    {
     "output_type": "execute_result",
     "data": {
      "text/plain": [
       "{2: 3}"
      ]
     },
     "metadata": {},
     "execution_count": 2
    }
   ],
   "metadata": {}
  },
  {
   "cell_type": "markdown",
   "source": [
    "### 字符串"
   ],
   "metadata": {}
  },
  {
   "cell_type": "code",
   "execution_count": null,
   "source": [
    "# .isalpha() | .isdigit() | .isalnum() | .islower() | .isupper() | .lower() | .upper() | .capitalize() | .istitle() | .isspace()\n",
    "# .split() | .replace() | .index() | .reverse()\n",
    "    # split(str, num): str为分隔符，默认为所有的空字符，包括空格、换行(\\n)、制表符(\\t)等；num为分割次数，默认为 -1，即分隔所有\n",
    "    # .rsplit(): 参数同上，只不过是从后向前分割\n",
    "# ord() | chr()\n",
    "# .endswith()"
   ],
   "outputs": [],
   "metadata": {}
  },
  {
   "cell_type": "code",
   "execution_count": 27,
   "source": [
    "# 正则表达式\n",
    "import re\n",
    "'''\n",
    "^ 匹配字符串的开头 | ^\\d必须以数字开头 | $ 匹配字符串的末尾 | \\d$必须以数字结尾\n",
    "* 匹配0个或多个的字符 | + 匹配1个或多个的字符 | ? 匹配0个或1个字符 相当于{0,1} | . 匹配任意字符，除了换行符\n",
    "\\w 匹配一个字母或数字或下划线(\\W非单词) | \\s 匹配一个空格(也包括Tab等空白符)(\\S匹配任意非空字符) | \\b 匹配一个单词边界(如， 'er\\b' 可以匹配\"never\" 中的 'er'，但不能匹配 \"verb\" 中的 'er')(\\B匹配非单词边界)\n",
    "{n} n个 | {n,} 如{1,}相当于x+\n",
    "[\\u4e00-\\u9fa5]匹配中文 | [^abc] 匹配除了a、b、c以外的字符\n",
    "\n",
    "正则匹配默认是贪婪匹配，也就是匹配尽可能多的字符。后加个?就可以采用非贪婪匹配\n",
    "    当?后缀于*,+,?,{n},{n,},{n,m}之后，则代表非贪心匹配模式，也就是说，尽可能少的匹配左边的字符或表达式\n",
    "'''\n",
    "\n",
    "# re.sub与str.replace('', '')类似\n",
    "    # re.sub(pat,newpat,s) 对字符串中s的包含的所有符合pat的连续字符串进行替换，如果newpat为str,那么就是替换为newpat,如果newpat是函数，那么就按照函数返回值替换。sub函数两个有默认值的参数分别是count表示最多只处理前几个匹配的字符串，默认为0表示全部处理；最后一个是flags，默认为0\n",
    "phone = \"2004-959-559\"\n",
    "num = re.sub(r'\\D', \"\", phone)\n",
    "print(\"电话号码是 : \", num)\n",
    "number = \"123 4-567\"\n",
    "print(re.sub('(...?(?=..))', r'\\1-', re.sub('\\D', '', number))) # \\1...\\9 匹配第n个分组的内容; (?=..) 前向肯定界定符/前向否定界定符 (?!..) 不包含..形式的串，它是不占位置的，起到一种指示作用\n",
    "print(\"-\"*20)\n",
    "\n",
    "# re.match 尝试从字符串的起始位置匹配一个模式，匹配成功re.match方法返回一个匹配的对象；如果不是起始位置匹配成功的话，match()就返回none\n",
    "print(re.match('www', 'www.runoob.com'))  # 在起始位置匹配\n",
    "print(re.match('com', 'www.runoob.com'))  # 不在起始位置匹配\n",
    "    # 正则表达式有提取子串的功能。用()表示的就是要提取的分组（Group）\n",
    "print(re.match(r'^(\\d{3})-(\\d{3,8})$', '010-12345'))\n",
    "print(re.match(r'^(\\d{3})-(\\d{3,8})$', '010-12345').groups()) # 返回元组\n",
    "print(re.match(r'^(\\d{3})-(\\d{3,8})$', '010-12345').group())\n",
    "print(re.match(r'^(\\d{3})-(\\d{3,8})$', '010-12345').group(0))\n",
    "print(re.match(r'^(\\d{3})-(\\d{3,8})$', '010-12345').group(1))\n",
    "print(re.match(r'^(\\d{3})-(\\d{3,8})$', '010-12345').group(2))\n"
   ],
   "outputs": [
    {
     "output_type": "stream",
     "name": "stdout",
     "text": [
      "电话号码是 :  2004959559\n",
      "123-45-67\n",
      "--------------------\n",
      "<_sre.SRE_Match object; span=(0, 3), match='www'>\n",
      "None\n",
      "<_sre.SRE_Match object; span=(0, 9), match='010-12345'>\n",
      "('010', '12345')\n",
      "010-12345\n",
      "010-12345\n",
      "010\n",
      "12345\n"
     ]
    }
   ],
   "metadata": {}
  },
  {
   "cell_type": "code",
   "execution_count": 8,
   "source": [
    "# re.search(pat, s)\n",
    "    # 从字符串s的任意位置都进行匹配，比如(‘123’,’01234’)就是匹配上了，只要s存在符合pat的连续字符串就算匹配上了，没有匹配上返回None，匹配上返回matchobject\n",
    "import re\n",
    "print(re.search('com', 'www.runoob.com'))"
   ],
   "outputs": [
    {
     "output_type": "stream",
     "name": "stdout",
     "text": [
      "<re.Match object; span=(11, 14), match='com'>\n"
     ]
    }
   ],
   "metadata": {}
  },
  {
   "cell_type": "code",
   "execution_count": null,
   "source": [
    "# 过滤评论中的表情？re.sub\n",
    "pattern = re.compile(u'[\\uD800-\\uDBFF][\\uDC00-\\uDFFF]')\n",
    "pattern.sub('',text)"
   ],
   "outputs": [],
   "metadata": {}
  },
  {
   "cell_type": "code",
   "execution_count": 19,
   "source": [
    "# compile 函数用于编译正则表达式，生成一个正则表达式（ Pattern ）对象\n",
    "pattern = re.compile(r'\\d+') \n",
    "m = pattern.match('one12twothree34four') # 查找头部，没有匹配\n",
    "print(m)\n",
    "m = pattern.match('one12twothree34four', 2, 10) # 从'e'的位置开始匹配，没有匹配\n",
    "print(m)\n",
    "m = pattern.match('one12twothree34four', 3, 10) # 从'1'的位置开始匹配，正好匹配\n",
    "print(m)\n",
    "print(\"-\"*20)\n",
    "\n",
    "# match是匹配一次，findall是匹配所有\n",
    "result1 = pattern.findall('runoob 123 google 456')\n",
    "result2 = pattern.findall('run88oob123google456', 0, 10)\n",
    "print(result1)\n",
    "print(result2)"
   ],
   "outputs": [
    {
     "output_type": "stream",
     "name": "stdout",
     "text": [
      "None\n",
      "None\n",
      "<_sre.SRE_Match object; span=(3, 5), match='12'>\n",
      "--------------------\n",
      "['123', '456']\n",
      "['88', '12']\n"
     ]
    }
   ],
   "metadata": {}
  },
  {
   "cell_type": "code",
   "execution_count": 6,
   "source": [
    "# str.find()\n",
    "print('aabbcc'.find('bb')) # 返回str中第一次出现的substr的第一个字母的标号，如果str中没有substr则返回-1，也就是说从左边算起的第一次出现的substr的首字母标号\n",
    "# str.index()\n",
    "    # index()函数类似于find()函数，在Python中也是在字符串中查找子串第一次出现的位置，跟find()不同的是，未找到则抛出异常\n",
    "# str.rfind()：倒序字符串查找函数\n",
    "print('adsfddf'.rfind('d')) # 返回str中最后出现的substr的第一个字母的标号，如果str中没有substr则返回-1，也就是说从右边算起的第一次出现的substr的首字母标号\n",
    "# str.rindex()\n",
    "    # rindex()函数类似于rfind()函数，在Python中也是在字符串中倒序查找子串最后一次出现的位置，跟rfind()不同的是，未找到则抛出异常"
   ],
   "outputs": [
    {
     "output_type": "stream",
     "name": "stdout",
     "text": [
      "2\n",
      "5\n"
     ]
    }
   ],
   "metadata": {}
  },
  {
   "cell_type": "code",
   "execution_count": null,
   "source": [
    "# ASCII: '0':48; 'A':65; 'a':97\n",
    "# 问题: SyntaxError: Non-UTF-8 code starting with '\\xbb' in file quick_start.py on line 13, but no encoding declared\n",
    "    # 当python文件中出现中文\n",
    "    # 解决办法为: 在文件首行添加: # -*- coding:utf-8 -*-"
   ],
   "outputs": [],
   "metadata": {}
  },
  {
   "cell_type": "code",
   "execution_count": 14,
   "source": [
    "# 字符串格式化:%和.format\n",
    "## %无法传递元组，format没有问题\n",
    "name=(1,2,3)\n",
    "print(\"hi there %s\" % name)"
   ],
   "outputs": [
    {
     "output_type": "error",
     "ename": "TypeError",
     "evalue": "not all arguments converted during string formatting",
     "traceback": [
      "\u001b[0;31m---------------------------------------------------------------------------\u001b[0m",
      "\u001b[0;31mTypeError\u001b[0m                                 Traceback (most recent call last)",
      "\u001b[0;32m<ipython-input-14-831d062bccf9>\u001b[0m in \u001b[0;36m<module>\u001b[0;34m\u001b[0m\n\u001b[1;32m      1\u001b[0m \u001b[0;31m# 字符串格式化:%和.format\u001b[0m\u001b[0;34m\u001b[0m\u001b[0;34m\u001b[0m\u001b[0;34m\u001b[0m\u001b[0m\n\u001b[1;32m      2\u001b[0m \u001b[0mname\u001b[0m\u001b[0;34m=\u001b[0m\u001b[0;34m(\u001b[0m\u001b[0;36m1\u001b[0m\u001b[0;34m,\u001b[0m\u001b[0;36m2\u001b[0m\u001b[0;34m,\u001b[0m\u001b[0;36m3\u001b[0m\u001b[0;34m)\u001b[0m\u001b[0;34m\u001b[0m\u001b[0;34m\u001b[0m\u001b[0m\n\u001b[0;32m----> 3\u001b[0;31m \u001b[0mprint\u001b[0m\u001b[0;34m(\u001b[0m\u001b[0;34m\"hi there %s\"\u001b[0m \u001b[0;34m%\u001b[0m \u001b[0mname\u001b[0m\u001b[0;34m)\u001b[0m\u001b[0;34m\u001b[0m\u001b[0;34m\u001b[0m\u001b[0m\n\u001b[0m",
      "\u001b[0;31mTypeError\u001b[0m: not all arguments converted during string formatting"
     ]
    }
   ],
   "metadata": {}
  },
  {
   "cell_type": "code",
   "execution_count": 15,
   "source": [
    "print(\"hi there %s\" % (name,) ) # 提供一个单元素的数组而不是一个参数"
   ],
   "outputs": [
    {
     "output_type": "stream",
     "name": "stdout",
     "text": [
      "hi there (1, 2, 3)\n"
     ]
    }
   ],
   "metadata": {}
  },
  {
   "cell_type": "code",
   "execution_count": null,
   "source": [
    "# 字符串前加u: 以Unicode格式进行编码，一般用在中文字符串前面，防止因为源码储存格式问题，导致再次使用时出现乱码\n",
    "# 加r: 去掉反斜杠的转义机制，常用于正则表达式\n",
    "# 加b: 表示这是一个bytes对象，网络编程中，服务器和浏览器只认bytes类型数据，如：send函数的参数和recv函数的返回值都是bytes类型\n",
    "# 加f: 表示在字符串内支持大括号内的python表达式\n",
    "# 在 Python3 中，bytes和str的互相转换方式是\n",
    "    # str.encode('utf-8')\n",
    "    # bytes.decode('utf-8')"
   ],
   "outputs": [],
   "metadata": {}
  },
  {
   "cell_type": "code",
   "execution_count": 11,
   "source": [
    "# 生成26个小写字母\n",
    "    # 方法一\n",
    "import string\n",
    "letters = string.ascii_lowercase\n",
    "print(letters)\n",
    "    # 方法二\n",
    "letters = \"\".join(map(chr, range(ord('a'), ord('z') + 1)))\n",
    "print(letters)"
   ],
   "outputs": [
    {
     "output_type": "stream",
     "name": "stdout",
     "text": [
      "abcdefghijklmnopqrstuvwxyz\n",
      "abcdefghijklmnopqrstuvwxyz\n"
     ]
    }
   ],
   "metadata": {}
  },
  {
   "cell_type": "code",
   "execution_count": null,
   "source": [
    "# '*'*5.0: TypeError: can't multiply sequence by non-int of type 'float'\n",
    "    # '*'*5则没有问题"
   ],
   "outputs": [],
   "metadata": {}
  },
  {
   "cell_type": "code",
   "execution_count": null,
   "source": [
    "# 去除标点\n",
    "# text = text.translate(str.maketrans(string.punctuation, ' ' * len(string.punctuation)))"
   ],
   "outputs": [],
   "metadata": {}
  },
  {
   "cell_type": "markdown",
   "source": [
    "### 文件及目录操作"
   ],
   "metadata": {}
  },
  {
   "cell_type": "code",
   "execution_count": 6,
   "source": [
    "# shutil提供了一系列对文件和文件集合的高阶操作\n",
    "import shutil \n",
    "import os\n",
    "from tensorboardX import SummaryWriter\n",
    "\n",
    "log_dir = \"test/\"\n",
    "if not os.path.exists(log_dir):\n",
    "    os.makedirs(log_dir)\n",
    "writer = SummaryWriter(log_dir) # log_dir下会产生一个文件\n",
    "shutil.rmtree(log_dir) # 递归删除一个目录以及目录内的所有内容，即log_dir消失"
   ],
   "outputs": [],
   "metadata": {}
  },
  {
   "cell_type": "code",
   "execution_count": null,
   "source": [
    "# shutil.copyfileobj(fsrc, fdst): 将文件类对象fsrc的内容拷贝到文件类对象fdst\n",
    "# with urllib.request.urlopen(url) as response, \\\n",
    "# \t\t\topen(filename, 'wb') as outfile:\n",
    "# \t\t\tshutil.copyfileobj(response, outfile)"
   ],
   "outputs": [],
   "metadata": {}
  },
  {
   "cell_type": "code",
   "execution_count": 10,
   "source": [
    "# glob.glob\n",
    "# os.path.basename\n",
    "import glob\n",
    "dirname = \"test/test_glob\"\n",
    "files = glob.glob(dirname+'/*.pkl') # 获取dir下所有的pkl文件\n",
    "print(files)\n",
    "print(os.path.basename(files[0])) # 获取文件名"
   ],
   "outputs": [
    {
     "output_type": "stream",
     "name": "stdout",
     "text": [
      "['test/test_glob/1.pkl', 'test/test_glob/2.pkl', 'test/test_glob/3.pkl']\n",
      "1.pkl\n"
     ]
    }
   ],
   "metadata": {}
  },
  {
   "cell_type": "code",
   "execution_count": null,
   "source": [
    "# glob.iglob()函数获取一个可遍历对象，与glob.glob()的区别是：glob.glob()可同时获取所有的匹配路径，而glob.iglob()一次只能获取一个匹配路径"
   ],
   "outputs": [],
   "metadata": {}
  },
  {
   "cell_type": "code",
   "execution_count": null,
   "source": [
    "# os.remove(file)\n",
    "# os.listdir | os.path.join | os.path.isdir | os.path.isfile\n",
    "def print_directory_contents(sPath):\n",
    "# 这个函数接收文件夹的名称作为输入参数，返回该文件夹中文件的路径以及其包含文件夹中文件的路径\n",
    "    for s_child in os.listdir(s_path):\n",
    "        s_child_path = os.path.join(s_path, s_child)\n",
    "        if os.path.isdir(s_child_path):\n",
    "            print_directory_contents(s_child_path)\n",
    "        else:\n",
    "            print(s_child_path)"
   ],
   "outputs": [],
   "metadata": {}
  },
  {
   "cell_type": "code",
   "execution_count": 7,
   "source": [
    "# os.walk\n",
    "import os\n",
    "dir = '/home/yaoqf/yaoqingfeng/Code-Repository/leetcodes'\n",
    "for root,dirs,files in os.walk(dir):\n",
    "    print(\"root:{}\".format(root))\n",
    "    print(\"dirs:{}\".format(dirs))\n",
    "    print(\"files:{}\".format(files))\n"
   ],
   "outputs": [
    {
     "output_type": "stream",
     "name": "stdout",
     "text": [
      "root:/home/yaoqf/yaoqingfeng/Code-Repository/leetcodes\n",
      "dirs:['test']\n",
      "files:['array_matrix.ipynb', 'subsequence.ipynb', 'others.ipynb', 'readme.md', 'backtrack.ipynb', 'design.ipynb', 'string.ipynb', 'basics.ipynb', 'binary.ipynb', 'array_others.ipynb', 'linktable.ipynb', 'array_basic.ipynb', 'sortings.ipynb', 'tree.ipynb']\n",
      "root:/home/yaoqf/yaoqingfeng/Code-Repository/leetcodes/test\n",
      "dirs:['test_glob']\n",
      "files:[]\n",
      "root:/home/yaoqf/yaoqingfeng/Code-Repository/leetcodes/test/test_glob\n",
      "dirs:[]\n",
      "files:['1.pkl', '2.pkl', '3.pkl']\n"
     ]
    }
   ],
   "metadata": {}
  },
  {
   "cell_type": "code",
   "execution_count": 8,
   "source": [
    "# os.path.splitext\n",
    "filename = \"a.pyc\"\n",
    "name,suf = os.path.splitext(filename)\n",
    "print(name,suf)"
   ],
   "outputs": [
    {
     "output_type": "stream",
     "name": "stdout",
     "text": [
      "a .pyc\n"
     ]
    }
   ],
   "metadata": {}
  },
  {
   "cell_type": "code",
   "execution_count": null,
   "source": [
    "# os.makedirs(dirname, exist_ok=True)\n",
    "# os.path.exists"
   ],
   "outputs": [],
   "metadata": {}
  },
  {
   "cell_type": "code",
   "execution_count": null,
   "source": [
    "# 文件读写\n",
    "    # read 读取整个文件\n",
    "    # readline 读取下一行,使用生成器方法\n",
    "    # readlines 读取整个文件到一个迭代器以供我们遍历\n",
    "def get_lines():\n",
    "    with open('file.txt','rb') as f:\n",
    "        return f.readlines()\n",
    "    # 现在要处理一个大小为10G的文件，但是内存只有4G  -->   需要分批读入，太小会在读取操作花费过多时间\n",
    "def get_lines():\n",
    "    with open('file.txt','rb') as f:\n",
    "        for i in f:\n",
    "            yield i\n",
    "    # 分批读入数据要记录每次读入数据的位置\n",
    "from mmap import mmap # mmap是一种虚拟内存映射文件的方法，即将一个文件或者其它对象映射到进程的地址空间，实现文件磁盘地址和进程虚拟地址空间中一段虚拟地址的一一对映关系\n",
    "def get_lines(fp):\n",
    "    with open(fp,\"r+\") as f: # r是只读，r+是读写\n",
    "        m = mmap(f.fileno(), 0) # 第一个参数是文件描述符，第二个参数是要映射文件部分的大小（以字节为单位），这个值为0，则映射整个文件，如果大小大于文件当前大小，则扩展这个文件\n",
    "        tmp = 0\n",
    "        for i, char in enumerate(m):\n",
    "            if char==b\"\\n\":\n",
    "                yield m[tmp:i+1].decode()\n",
    "                tmp = i+1"
   ],
   "outputs": [],
   "metadata": {}
  },
  {
   "cell_type": "code",
   "execution_count": null,
   "source": [
    "# zipfile.ZipFile(filename).read()"
   ],
   "outputs": [],
   "metadata": {}
  },
  {
   "cell_type": "markdown",
   "source": [
    "### sys"
   ],
   "metadata": {}
  },
  {
   "cell_type": "code",
   "execution_count": null,
   "source": [
    "# sys.exit(1)"
   ],
   "outputs": [],
   "metadata": {}
  },
  {
   "cell_type": "markdown",
   "source": [
    "### logging"
   ],
   "metadata": {}
  },
  {
   "cell_type": "code",
   "execution_count": null,
   "source": [
    "# logging.basicConfig(level=logging.INFO)\n",
    "# logger = logging.getLogger()\n",
    "# logger.setLevel(logging.INFO)\n",
    "# formatter = logging.Formatter('%(asctime)s - %(name)s - %(levelname)s - %(message)s')\n",
    "# file_handler = logging.FileHandler(log_file_path)\n",
    "# file_handler.setLevel(logging.INFO)\n",
    "# file_handler.setFormatter(formatter)\n",
    "# logger.addHandler(file_handler)\n",
    "# logger.info('xxx')"
   ],
   "outputs": [],
   "metadata": {}
  },
  {
   "cell_type": "markdown",
   "source": [
    "### 拷贝"
   ],
   "metadata": {}
  },
  {
   "cell_type": "code",
   "execution_count": 9,
   "source": [
    "# copy(),deepcopy()\n",
    "import copy\n",
    "a = [1, 2, 3, 4, ['a', 'b']]  #原始对象\n",
    "\n",
    "b = a  #赋值，传对象的引用\n",
    "c = copy.copy(a)  #对象拷贝，浅拷贝\n",
    "d = copy.deepcopy(a)  #对象拷贝，深拷贝\n",
    "\n",
    "a.append(5)  #修改对象a\n",
    "a[4].append('c')  #修改对象a中的['a', 'b']数组对象\n",
    "\n",
    "print('a = ', a)\n",
    "print('b = ', b)\n",
    "print('c = ', c)\n",
    "print('d = ', d)"
   ],
   "outputs": [
    {
     "output_type": "stream",
     "name": "stdout",
     "text": [
      "a =  [1, 2, 3, 4, ['a', 'b', 'c'], 5]\n",
      "b =  [1, 2, 3, 4, ['a', 'b', 'c'], 5]\n",
      "c =  [1, 2, 3, 4, ['a', 'b', 'c']]\n",
      "d =  [1, 2, 3, 4, ['a', 'b']]\n"
     ]
    }
   ],
   "metadata": {}
  },
  {
   "cell_type": "markdown",
   "source": [
    "### pickle"
   ],
   "metadata": {}
  },
  {
   "cell_type": "code",
   "execution_count": null,
   "source": [
    "# pickle.HIGHEST_PROTOCOL: 这是一个整数，表示最高可用的协议版本。这个值可以作为参数protocol传给函数dump()和dumps()\n",
    "    # 对应的协议5是3.8中的\n",
    "# pickle.DEFAULT_PROTOCOL: 这是一个整数，表示用来pickling的默认协议版本。可能比pickle.HIGHEST_PROTOCOL小。目前默认的协议版本是3，协议3是专门为Python3设计的一种新的协议"
   ],
   "outputs": [],
   "metadata": {}
  },
  {
   "cell_type": "code",
   "execution_count": null,
   "source": [
    "# pickle.dump(obj, file, protocol=None)\n",
    "# pickle.load(file)"
   ],
   "outputs": [],
   "metadata": {}
  },
  {
   "cell_type": "markdown",
   "source": [
    "### zipfile"
   ],
   "metadata": {}
  },
  {
   "cell_type": "code",
   "execution_count": null,
   "source": [
    "# zipfile.ZipFile(filename).read('text8').decode('utf-8')"
   ],
   "outputs": [],
   "metadata": {}
  },
  {
   "cell_type": "markdown",
   "source": [
    "### argparse"
   ],
   "metadata": {}
  },
  {
   "cell_type": "code",
   "execution_count": null,
   "source": [
    "# 创建一个解析器——创建 ArgumentParser() 对象\n",
    "    # parser = argparse.ArgumentParser(description)\n",
    "# 添加参数——调用 add_argument() 方法添加参数\n",
    "    # 该函数的参数\n",
    "        # required - 可选参数是否可以省略 (仅针对可选参数)\n",
    "# args = parser.parse_args()"
   ],
   "outputs": [],
   "metadata": {}
  },
  {
   "cell_type": "markdown",
   "source": [
    "### click"
   ],
   "metadata": {}
  },
  {
   "cell_type": "code",
   "execution_count": null,
   "source": [
    "# import click\n",
    "# @click.command()\n",
    "    # Click是通过装饰器来把一个函数方法装饰成命令行接口的，这个装饰器方法就是 @click.command()\n",
    "# @click.argument('xxx') 命令行直接给出对应值\n",
    "# @click.option('--xxx') 命令行需要先--xxx，再给出对应值\n",
    "# 还可包括参数type, default, help, is_flag(布尔值)\n",
    "    # 其中type可取值: click.Choice([xx,xx,xx]), click.Path(exists=True), str, int, float"
   ],
   "outputs": [],
   "metadata": {}
  },
  {
   "cell_type": "markdown",
   "source": [
    "### importlib"
   ],
   "metadata": {}
  },
  {
   "cell_type": "code",
   "execution_count": null,
   "source": [
    "# importlib.import_module('b.c.c') # 绝对导入"
   ],
   "outputs": [],
   "metadata": {}
  },
  {
   "cell_type": "markdown",
   "source": [
    "### xlrd"
   ],
   "metadata": {}
  },
  {
   "cell_type": "code",
   "execution_count": null,
   "source": [
    "# w = xlrd.open_workbook(path)\n",
    "# w.sheet_names()\n",
    "# s = w.sheet_by_index(0)\n",
    "# s.nrows s.ncols\n",
    "# s.row_values(i) i是行索引"
   ],
   "outputs": [],
   "metadata": {}
  },
  {
   "cell_type": "markdown",
   "source": [
    "### csv"
   ],
   "metadata": {}
  },
  {
   "cell_type": "code",
   "execution_count": null,
   "source": [
    "# 打开csv文件\n",
    "# with open(path) as csvfile:\n",
    "\t# csv_reader = csv.reader(csvfile)\n",
    "\t# header = next(csv_reader) # 打印列名\n",
    "\t# for row in csv_reader: \n",
    "        \t# print(row)\n",
    "# 或者使用pandas读取"
   ],
   "outputs": [],
   "metadata": {}
  },
  {
   "cell_type": "markdown",
   "source": [
    "### json"
   ],
   "metadata": {}
  },
  {
   "cell_type": "code",
   "execution_count": null,
   "source": [
    "# json.dump(content, file_object, indent=4)"
   ],
   "outputs": [],
   "metadata": {}
  },
  {
   "cell_type": "markdown",
   "source": [
    "### datetime"
   ],
   "metadata": {}
  },
  {
   "cell_type": "code",
   "execution_count": 1,
   "source": [
    "import datetime\n",
    "# 输入日期， 判断这一天是这一年的第几天？ 2019.4.3\n",
    "def ymd():\n",
    "    year = input(\"请输入年份: \")\n",
    "    month = input(\"请输入月份: \")\n",
    "    day = input(\"请输入天: \")\n",
    "    date1 = datetime.date(year=int(year),month=int(month),day=int(day))\n",
    "    date2 = datetime.date(year=int(year),month=1,day=1)\n",
    "    return (date1-date2).days+1\n",
    "ymd()"
   ],
   "outputs": [
    {
     "output_type": "execute_result",
     "data": {
      "text/plain": [
       "93"
      ]
     },
     "metadata": {},
     "execution_count": 1
    }
   ],
   "metadata": {}
  },
  {
   "cell_type": "markdown",
   "source": [
    "### random"
   ],
   "metadata": {}
  },
  {
   "cell_type": "code",
   "execution_count": 2,
   "source": [
    "import random\n",
    "# 打乱一个排好序的list对象alist\n",
    "alist = [1,2,3,4,5]\n",
    "random.shuffle(alist)\n",
    "print(alist)"
   ],
   "outputs": [
    {
     "output_type": "stream",
     "name": "stdout",
     "text": [
      "[2, 1, 3, 4, 5]\n"
     ]
    }
   ],
   "metadata": {}
  },
  {
   "cell_type": "code",
   "execution_count": null,
   "source": [
    "from random import randint\n",
    "# random.sample(list, 2) # 从list中随机抽取2个元素"
   ],
   "outputs": [],
   "metadata": {}
  },
  {
   "cell_type": "markdown",
   "source": [
    "### itertools"
   ],
   "metadata": {}
  },
  {
   "cell_type": "code",
   "execution_count": 5,
   "source": [
    "# 排列组合\n",
    "import itertools\n",
    "\n",
    "print(list(itertools.combinations(\"abc\",2)))\n",
    "print(list(itertools.permutations(\"abc\",2)))\n"
   ],
   "outputs": [
    {
     "output_type": "stream",
     "name": "stdout",
     "text": [
      "[('a', 'b'), ('a', 'c'), ('b', 'c')]\n",
      "[('a', 'b'), ('a', 'c'), ('b', 'a'), ('b', 'c'), ('c', 'a'), ('c', 'b')]\n"
     ]
    }
   ],
   "metadata": {}
  },
  {
   "cell_type": "code",
   "execution_count": 2,
   "source": [
    "from itertools import combinations_with_replacement \n",
    "\n",
    "a =\"GEeks\"\n",
    "print(list(combinations_with_replacement(a, 2))) # 包括本身"
   ],
   "outputs": [
    {
     "output_type": "stream",
     "name": "stdout",
     "text": [
      "[('G', 'G'), ('G', 'E'), ('G', 'e'), ('G', 'k'), ('G', 's'), ('E', 'E'), ('E', 'e'), ('E', 'k'), ('E', 's'), ('e', 'e'), ('e', 'k'), ('e', 's'), ('k', 'k'), ('k', 's'), ('s', 's')]\n"
     ]
    }
   ],
   "metadata": {}
  },
  {
   "cell_type": "code",
   "execution_count": 3,
   "source": [
    "from itertools import accumulate\n",
    "\n",
    "s=[1,2,3]\n",
    "print(list(accumulate(s)))"
   ],
   "outputs": [
    {
     "output_type": "stream",
     "name": "stdout",
     "text": [
      "[1, 3, 6]\n"
     ]
    }
   ],
   "metadata": {}
  },
  {
   "cell_type": "code",
   "execution_count": 11,
   "source": [
    "# 集合的笛卡尔乘积是从所有集合中选择每种可能的组合\n",
    "f = lambda x: (x.lower(), x.upper()) if x.isalpha() else x\n",
    "a =\"GEe2ks3\"\n",
    "print(list(map(f, a)))\n",
    "print(list(map(\"\".join, itertools.product(*map(f, a)))))"
   ],
   "outputs": [
    {
     "output_type": "stream",
     "name": "stdout",
     "text": [
      "[('g', 'G'), ('e', 'E'), ('e', 'E'), '2', ('k', 'K'), ('s', 'S'), '3']\n",
      "['gee2ks3', 'gee2kS3', 'gee2Ks3', 'gee2KS3', 'geE2ks3', 'geE2kS3', 'geE2Ks3', 'geE2KS3', 'gEe2ks3', 'gEe2kS3', 'gEe2Ks3', 'gEe2KS3', 'gEE2ks3', 'gEE2kS3', 'gEE2Ks3', 'gEE2KS3', 'Gee2ks3', 'Gee2kS3', 'Gee2Ks3', 'Gee2KS3', 'GeE2ks3', 'GeE2kS3', 'GeE2Ks3', 'GeE2KS3', 'GEe2ks3', 'GEe2kS3', 'GEe2Ks3', 'GEe2KS3', 'GEE2ks3', 'GEE2kS3', 'GEE2Ks3', 'GEE2KS3']\n"
     ]
    }
   ],
   "metadata": {}
  },
  {
   "cell_type": "code",
   "execution_count": null,
   "source": [
    "from itertools import chain\n",
    "# chain()可以把一组迭代对象串联起来，形成一个更大的迭代器，如列表\n",
    "# chain.from_iterable()"
   ],
   "outputs": [],
   "metadata": {}
  },
  {
   "cell_type": "markdown",
   "source": [
    "### heapq"
   ],
   "metadata": {}
  },
  {
   "cell_type": "code",
   "execution_count": 5,
   "source": [
    "# 堆\n",
    "import heapq\n",
    "a = [1, 2, 9, 7, 3]\n",
    "heapq.heappush(a,10)\n",
    "print(a)\n",
    "heapq.heappop(a) # 弹出最小的值\n",
    "print(a)\n",
    "heapq.heappop(a) # 弹出最小的值\n",
    "print(a)\n",
    "print(a[0]) # # 查看堆中最小的值，不弹出\n",
    "heapq.heapify(a) # 以线性时间将一个列表转为堆\n",
    "print(a)"
   ],
   "outputs": [
    {
     "output_type": "stream",
     "name": "stdout",
     "text": [
      "[1, 2, 9, 7, 3, 10]\n",
      "[2, 3, 9, 7, 10]\n",
      "[3, 7, 9, 10]\n",
      "3\n",
      "[3, 7, 9, 10]\n"
     ]
    }
   ],
   "metadata": {}
  },
  {
   "cell_type": "code",
   "execution_count": null,
   "source": [
    "# heapq.nlargest(K, list)"
   ],
   "outputs": [],
   "metadata": {}
  },
  {
   "cell_type": "markdown",
   "source": [
    "### collections"
   ],
   "metadata": {}
  },
  {
   "cell_type": "code",
   "execution_count": 28,
   "source": [
    "import collections\n",
    "\n",
    "# 队列\n",
    "d=collections.deque('abcdefg') # 和list很像\n",
    "print(d)"
   ],
   "outputs": [
    {
     "output_type": "stream",
     "name": "stdout",
     "text": [
      "deque(['a', 'b', 'c', 'd', 'e', 'f', 'g'])\n"
     ]
    }
   ],
   "metadata": {}
  },
  {
   "cell_type": "code",
   "execution_count": 13,
   "source": [
    "# deque是通过extend方法初始化集合元素的，同时可以通过extendleft将结合元素从“左边”加入到集合中\n",
    "# append默认从集合的右边增加数组元素，而另一个appendleft可以从集合的左边增加元素\n",
    "# 与append和appendleft方法对应的还有pop和popleft方法分别用于从集合中取出元素\n",
    "d1=collections.deque()\n",
    "d2=collections.deque()\n",
    "d1.extend('abcdefg')\n",
    "d2.extendleft(range(6))\n",
    "print(d1)\n",
    "print(d2)\n",
    "d1.append('h')\n",
    "print(d1)\n",
    "\n"
   ],
   "outputs": [
    {
     "output_type": "stream",
     "name": "stdout",
     "text": [
      "deque(['a', 'b', 'c', 'd', 'e', 'f', 'g'])\n",
      "deque([5, 4, 3, 2, 1, 0])\n",
      "deque(['a', 'b', 'c', 'd', 'e', 'f', 'g', 'h'])\n"
     ]
    }
   ],
   "metadata": {}
  },
  {
   "cell_type": "code",
   "execution_count": 5,
   "source": [
    "# defaultdict: 创建一个类似dict对象，里面任何values都是int的实例，就算不存在的key，d[key]也有一个默认值0，可以自行赋值\n",
    "# Counter: 以字典的形式统计元素个数\n",
    "d = collections.defaultdict(int) # 接受一个工厂函数作为参数，可以是list、set、str等等，作用是当key不存在时，返回的是工厂函数的默认值。比如list对应[ ]，str对应的是空字符串，set对应set( )，int对应0\n",
    "print(d[1])\n",
    "A=['a','b','b','c','d','b','a']\n",
    "c = collections.Counter(A)\n",
    "print(c)\n"
   ],
   "outputs": [
    {
     "output_type": "stream",
     "name": "stdout",
     "text": [
      "0\n",
      "Counter({'b': 3, 'a': 2, 'c': 1, 'd': 1})\n"
     ]
    }
   ],
   "metadata": {}
  },
  {
   "cell_type": "code",
   "execution_count": 41,
   "source": [
    "# Counter中值最大的前几个key\n",
    "import collections\n",
    "A=['a','b','b','c','d','b','a']\n",
    "c = collections.Counter(A)\n",
    "c.most_common(2) # 不加参数则输出全部\n"
   ],
   "outputs": [
    {
     "output_type": "execute_result",
     "data": {
      "text/plain": [
       "[('b', 3), ('a', 2)]"
      ]
     },
     "metadata": {},
     "execution_count": 41
    }
   ],
   "metadata": {}
  },
  {
   "cell_type": "code",
   "execution_count": 29,
   "source": [
    "# 普通的dict是无序的，不管你按什么顺序添加，输出的都是无序的，随机的。而Oredereddict是有序的，你按照什么顺序添加，输出的就是什么顺序\n",
    "# 实现了对字典对象中元素的排序\n",
    "dd = {'banana': 3, 'apple':4, 'pear': 1, 'orange': 2}\n",
    "#按key排序\n",
    "kd = collections.OrderedDict(sorted(dd.items(), key=lambda t: t[0]))\n",
    "print(kd)\n",
    "#按照value排序\n",
    "vd = collections.OrderedDict(sorted(dd.items(),key=lambda t:t[1]))\n",
    "print(vd)"
   ],
   "outputs": [
    {
     "output_type": "stream",
     "name": "stdout",
     "text": [
      "OrderedDict([('apple', 4), ('banana', 3), ('orange', 2), ('pear', 1)])\n",
      "OrderedDict([('pear', 1), ('orange', 2), ('banana', 3), ('apple', 4)])\n"
     ]
    }
   ],
   "metadata": {}
  },
  {
   "cell_type": "code",
   "execution_count": 1,
   "source": [
    "from collections import namedtuple\n",
    "coordinate = namedtuple('Coordinate', ['x', 'y'])\n",
    "co = coordinate(10,20)\n",
    "print(co.x,co.y)\n",
    "print(co[0],co[1])"
   ],
   "outputs": [
    {
     "output_type": "stream",
     "name": "stdout",
     "text": [
      "10 20\n",
      "10 20\n"
     ]
    }
   ],
   "metadata": {}
  },
  {
   "cell_type": "markdown",
   "source": [
    "### Matplotlib"
   ],
   "metadata": {}
  },
  {
   "cell_type": "code",
   "execution_count": null,
   "source": [
    "# 创建绘图时，可能会看到此文本“<matplotlib.collections.PathCollection at 0x9fae910>”处\n",
    "## 要隐藏那行文字，可以在代码末尾加上分号"
   ],
   "outputs": [],
   "metadata": {}
  },
  {
   "cell_type": "code",
   "execution_count": 17,
   "source": [
    "# plt.hist: 第二个参数bins指定共有几个条状图，默认为10\n",
    "from matplotlib import pyplot as plt\n",
    "import torch\n",
    "plt.hist(torch.randn(1000).numpy(), 100);"
   ],
   "outputs": [
    {
     "output_type": "display_data",
     "data": {
      "text/plain": [
       "<Figure size 432x288 with 1 Axes>"
      ],
      "image/svg+xml": "<?xml version=\"1.0\" encoding=\"utf-8\" standalone=\"no\"?>\n<!DOCTYPE svg PUBLIC \"-//W3C//DTD SVG 1.1//EN\"\n  \"http://www.w3.org/Graphics/SVG/1.1/DTD/svg11.dtd\">\n<svg height=\"248.518125pt\" version=\"1.1\" viewBox=\"0 0 368.925 248.518125\" width=\"368.925pt\" xmlns=\"http://www.w3.org/2000/svg\" xmlns:xlink=\"http://www.w3.org/1999/xlink\">\n <metadata>\n  <rdf:RDF xmlns:cc=\"http://creativecommons.org/ns#\" xmlns:dc=\"http://purl.org/dc/elements/1.1/\" xmlns:rdf=\"http://www.w3.org/1999/02/22-rdf-syntax-ns#\">\n   <cc:Work>\n    <dc:type rdf:resource=\"http://purl.org/dc/dcmitype/StillImage\"/>\n    <dc:date>2021-06-14T10:19:10.467856</dc:date>\n    <dc:format>image/svg+xml</dc:format>\n    <dc:creator>\n     <cc:Agent>\n      <dc:title>Matplotlib v3.4.1, https://matplotlib.org/</dc:title>\n     </cc:Agent>\n    </dc:creator>\n   </cc:Work>\n  </rdf:RDF>\n </metadata>\n <defs>\n  <style type=\"text/css\">*{stroke-linecap:butt;stroke-linejoin:round;}</style>\n </defs>\n <g id=\"figure_1\">\n  <g id=\"patch_1\">\n   <path d=\"M -0 248.518125 \nL 368.925 248.518125 \nL 368.925 0 \nL -0 0 \nz\n\" style=\"fill:none;\"/>\n  </g>\n  <g id=\"axes_1\">\n   <g id=\"patch_2\">\n    <path d=\"M 26.925 224.64 \nL 361.725 224.64 \nL 361.725 7.2 \nL 26.925 7.2 \nz\n\" style=\"fill:#ffffff;\"/>\n   </g>\n   <g id=\"patch_3\">\n    <path clip-path=\"url(#p35127ff901)\" d=\"M 42.143182 224.64 \nL 45.186823 224.64 \nL 45.186823 218.168571 \nL 42.143182 218.168571 \nz\n\" style=\"fill:#1f77b4;\"/>\n   </g>\n   <g id=\"patch_4\">\n    <path clip-path=\"url(#p35127ff901)\" d=\"M 45.186835 224.64 \nL 48.230465 224.64 \nL 48.230465 224.64 \nL 45.186835 224.64 \nz\n\" style=\"fill:#1f77b4;\"/>\n   </g>\n   <g id=\"patch_5\">\n    <path clip-path=\"url(#p35127ff901)\" d=\"M 48.230453 224.64 \nL 51.274095 224.64 \nL 51.274095 224.64 \nL 48.230453 224.64 \nz\n\" style=\"fill:#1f77b4;\"/>\n   </g>\n   <g id=\"patch_6\">\n    <path clip-path=\"url(#p35127ff901)\" d=\"M 51.274095 224.64 \nL 54.317725 224.64 \nL 54.317725 224.64 \nL 51.274095 224.64 \nz\n\" style=\"fill:#1f77b4;\"/>\n   </g>\n   <g id=\"patch_7\">\n    <path clip-path=\"url(#p35127ff901)\" d=\"M 54.317725 224.64 \nL 57.361367 224.64 \nL 57.361367 218.168571 \nL 54.317725 218.168571 \nz\n\" style=\"fill:#1f77b4;\"/>\n   </g>\n   <g id=\"patch_8\">\n    <path clip-path=\"url(#p35127ff901)\" d=\"M 57.361378 224.64 \nL 60.405008 224.64 \nL 60.405008 224.64 \nL 57.361378 224.64 \nz\n\" style=\"fill:#1f77b4;\"/>\n   </g>\n   <g id=\"patch_9\">\n    <path clip-path=\"url(#p35127ff901)\" d=\"M 60.404997 224.64 \nL 63.448638 224.64 \nL 63.448638 224.64 \nL 60.404997 224.64 \nz\n\" style=\"fill:#1f77b4;\"/>\n   </g>\n   <g id=\"patch_10\">\n    <path clip-path=\"url(#p35127ff901)\" d=\"M 63.448638 224.64 \nL 66.492268 224.64 \nL 66.492268 224.64 \nL 63.448638 224.64 \nz\n\" style=\"fill:#1f77b4;\"/>\n   </g>\n   <g id=\"patch_11\">\n    <path clip-path=\"url(#p35127ff901)\" d=\"M 66.492268 224.64 \nL 69.53591 224.64 \nL 69.53591 224.64 \nL 66.492268 224.64 \nz\n\" style=\"fill:#1f77b4;\"/>\n   </g>\n   <g id=\"patch_12\">\n    <path clip-path=\"url(#p35127ff901)\" d=\"M 69.535921 224.64 \nL 72.579551 224.64 \nL 72.579551 224.64 \nL 69.535921 224.64 \nz\n\" style=\"fill:#1f77b4;\"/>\n   </g>\n   <g id=\"patch_13\">\n    <path clip-path=\"url(#p35127ff901)\" d=\"M 72.57954 224.64 \nL 75.623181 224.64 \nL 75.623181 211.697143 \nL 72.57954 211.697143 \nz\n\" style=\"fill:#1f77b4;\"/>\n   </g>\n   <g id=\"patch_14\">\n    <path clip-path=\"url(#p35127ff901)\" d=\"M 75.623181 224.64 \nL 78.666823 224.64 \nL 78.666823 211.697143 \nL 75.623181 211.697143 \nz\n\" style=\"fill:#1f77b4;\"/>\n   </g>\n   <g id=\"patch_15\">\n    <path clip-path=\"url(#p35127ff901)\" d=\"M 78.666823 224.64 \nL 81.710453 224.64 \nL 81.710453 218.168571 \nL 78.666823 218.168571 \nz\n\" style=\"fill:#1f77b4;\"/>\n   </g>\n   <g id=\"patch_16\">\n    <path clip-path=\"url(#p35127ff901)\" d=\"M 81.710453 224.64 \nL 84.754094 224.64 \nL 84.754094 224.64 \nL 81.710453 224.64 \nz\n\" style=\"fill:#1f77b4;\"/>\n   </g>\n   <g id=\"patch_17\">\n    <path clip-path=\"url(#p35127ff901)\" d=\"M 84.754106 224.64 \nL 87.797736 224.64 \nL 87.797736 224.64 \nL 84.754106 224.64 \nz\n\" style=\"fill:#1f77b4;\"/>\n   </g>\n   <g id=\"patch_18\">\n    <path clip-path=\"url(#p35127ff901)\" d=\"M 87.797724 224.64 \nL 90.841366 224.64 \nL 90.841366 211.697143 \nL 87.797724 211.697143 \nz\n\" style=\"fill:#1f77b4;\"/>\n   </g>\n   <g id=\"patch_19\">\n    <path clip-path=\"url(#p35127ff901)\" d=\"M 90.841366 224.64 \nL 93.884996 224.64 \nL 93.884996 179.34 \nL 90.841366 179.34 \nz\n\" style=\"fill:#1f77b4;\"/>\n   </g>\n   <g id=\"patch_20\">\n    <path clip-path=\"url(#p35127ff901)\" d=\"M 93.884996 224.64 \nL 96.928638 224.64 \nL 96.928638 198.754286 \nL 93.884996 198.754286 \nz\n\" style=\"fill:#1f77b4;\"/>\n   </g>\n   <g id=\"patch_21\">\n    <path clip-path=\"url(#p35127ff901)\" d=\"M 96.928638 224.64 \nL 99.972279 224.64 \nL 99.972279 198.754286 \nL 96.928638 198.754286 \nz\n\" style=\"fill:#1f77b4;\"/>\n   </g>\n   <g id=\"patch_22\">\n    <path clip-path=\"url(#p35127ff901)\" d=\"M 99.972268 224.64 \nL 103.015909 224.64 \nL 103.015909 192.282857 \nL 99.972268 192.282857 \nz\n\" style=\"fill:#1f77b4;\"/>\n   </g>\n   <g id=\"patch_23\">\n    <path clip-path=\"url(#p35127ff901)\" d=\"M 103.015909 224.64 \nL 106.059551 224.64 \nL 106.059551 205.225714 \nL 103.015909 205.225714 \nz\n\" style=\"fill:#1f77b4;\"/>\n   </g>\n   <g id=\"patch_24\">\n    <path clip-path=\"url(#p35127ff901)\" d=\"M 106.059539 224.64 \nL 109.103181 224.64 \nL 109.103181 192.282857 \nL 106.059539 192.282857 \nz\n\" style=\"fill:#1f77b4;\"/>\n   </g>\n   <g id=\"patch_25\">\n    <path clip-path=\"url(#p35127ff901)\" d=\"M 109.103181 224.64 \nL 112.146822 224.64 \nL 112.146822 172.868571 \nL 109.103181 172.868571 \nz\n\" style=\"fill:#1f77b4;\"/>\n   </g>\n   <g id=\"patch_26\">\n    <path clip-path=\"url(#p35127ff901)\" d=\"M 112.146811 224.64 \nL 115.190452 224.64 \nL 115.190452 205.225714 \nL 112.146811 205.225714 \nz\n\" style=\"fill:#1f77b4;\"/>\n   </g>\n   <g id=\"patch_27\">\n    <path clip-path=\"url(#p35127ff901)\" d=\"M 115.190452 224.64 \nL 118.234094 224.64 \nL 118.234094 198.754286 \nL 115.190452 198.754286 \nz\n\" style=\"fill:#1f77b4;\"/>\n   </g>\n   <g id=\"patch_28\">\n    <path clip-path=\"url(#p35127ff901)\" d=\"M 118.234094 224.64 \nL 121.277735 224.64 \nL 121.277735 179.34 \nL 118.234094 179.34 \nz\n\" style=\"fill:#1f77b4;\"/>\n   </g>\n   <g id=\"patch_29\">\n    <path clip-path=\"url(#p35127ff901)\" d=\"M 121.277724 224.64 \nL 124.321365 224.64 \nL 124.321365 166.397143 \nL 121.277724 166.397143 \nz\n\" style=\"fill:#1f77b4;\"/>\n   </g>\n   <g id=\"patch_30\">\n    <path clip-path=\"url(#p35127ff901)\" d=\"M 124.321365 224.64 \nL 127.365007 224.64 \nL 127.365007 153.454286 \nL 124.321365 153.454286 \nz\n\" style=\"fill:#1f77b4;\"/>\n   </g>\n   <g id=\"patch_31\">\n    <path clip-path=\"url(#p35127ff901)\" d=\"M 127.364995 224.64 \nL 130.408637 224.64 \nL 130.408637 179.34 \nL 127.364995 179.34 \nz\n\" style=\"fill:#1f77b4;\"/>\n   </g>\n   <g id=\"patch_32\">\n    <path clip-path=\"url(#p35127ff901)\" d=\"M 130.408637 224.64 \nL 133.452279 224.64 \nL 133.452279 153.454286 \nL 130.408637 153.454286 \nz\n\" style=\"fill:#1f77b4;\"/>\n   </g>\n   <g id=\"patch_33\">\n    <path clip-path=\"url(#p35127ff901)\" d=\"M 133.452267 224.64 \nL 136.495909 224.64 \nL 136.495909 121.097143 \nL 133.452267 121.097143 \nz\n\" style=\"fill:#1f77b4;\"/>\n   </g>\n   <g id=\"patch_34\">\n    <path clip-path=\"url(#p35127ff901)\" d=\"M 136.495909 224.64 \nL 139.53955 224.64 \nL 139.53955 153.454286 \nL 136.495909 153.454286 \nz\n\" style=\"fill:#1f77b4;\"/>\n   </g>\n   <g id=\"patch_35\">\n    <path clip-path=\"url(#p35127ff901)\" d=\"M 139.539539 224.64 \nL 142.58318 224.64 \nL 142.58318 127.568571 \nL 139.539539 127.568571 \nz\n\" style=\"fill:#1f77b4;\"/>\n   </g>\n   <g id=\"patch_36\">\n    <path clip-path=\"url(#p35127ff901)\" d=\"M 142.58318 224.64 \nL 145.626822 224.64 \nL 145.626822 95.211429 \nL 142.58318 95.211429 \nz\n\" style=\"fill:#1f77b4;\"/>\n   </g>\n   <g id=\"patch_37\">\n    <path clip-path=\"url(#p35127ff901)\" d=\"M 145.626816 224.64 \nL 148.670457 224.64 \nL 148.670457 114.625714 \nL 145.626816 114.625714 \nz\n\" style=\"fill:#1f77b4;\"/>\n   </g>\n   <g id=\"patch_38\">\n    <path clip-path=\"url(#p35127ff901)\" d=\"M 148.670452 224.64 \nL 151.714093 224.64 \nL 151.714093 140.511429 \nL 148.670452 140.511429 \nz\n\" style=\"fill:#1f77b4;\"/>\n   </g>\n   <g id=\"patch_39\">\n    <path clip-path=\"url(#p35127ff901)\" d=\"M 151.714087 224.64 \nL 154.757729 224.64 \nL 154.757729 82.268571 \nL 151.714087 82.268571 \nz\n\" style=\"fill:#1f77b4;\"/>\n   </g>\n   <g id=\"patch_40\">\n    <path clip-path=\"url(#p35127ff901)\" d=\"M 154.757723 224.64 \nL 157.801365 224.64 \nL 157.801365 146.982857 \nL 154.757723 146.982857 \nz\n\" style=\"fill:#1f77b4;\"/>\n   </g>\n   <g id=\"patch_41\">\n    <path clip-path=\"url(#p35127ff901)\" d=\"M 157.801362 224.64 \nL 160.845003 224.64 \nL 160.845003 82.268571 \nL 157.801362 82.268571 \nz\n\" style=\"fill:#1f77b4;\"/>\n   </g>\n   <g id=\"patch_42\">\n    <path clip-path=\"url(#p35127ff901)\" d=\"M 160.844998 224.64 \nL 163.888639 224.64 \nL 163.888639 56.382857 \nL 160.844998 56.382857 \nz\n\" style=\"fill:#1f77b4;\"/>\n   </g>\n   <g id=\"patch_43\">\n    <path clip-path=\"url(#p35127ff901)\" d=\"M 163.888633 224.64 \nL 166.932275 224.64 \nL 166.932275 121.097143 \nL 163.888633 121.097143 \nz\n\" style=\"fill:#1f77b4;\"/>\n   </g>\n   <g id=\"patch_44\">\n    <path clip-path=\"url(#p35127ff901)\" d=\"M 166.932269 224.64 \nL 169.975911 224.64 \nL 169.975911 121.097143 \nL 166.932269 121.097143 \nz\n\" style=\"fill:#1f77b4;\"/>\n   </g>\n   <g id=\"patch_45\">\n    <path clip-path=\"url(#p35127ff901)\" d=\"M 169.975905 224.64 \nL 173.019547 224.64 \nL 173.019547 101.682857 \nL 169.975905 101.682857 \nz\n\" style=\"fill:#1f77b4;\"/>\n   </g>\n   <g id=\"patch_46\">\n    <path clip-path=\"url(#p35127ff901)\" d=\"M 173.019544 224.64 \nL 176.063185 224.64 \nL 176.063185 75.797143 \nL 173.019544 75.797143 \nz\n\" style=\"fill:#1f77b4;\"/>\n   </g>\n   <g id=\"patch_47\">\n    <path clip-path=\"url(#p35127ff901)\" d=\"M 176.06318 224.64 \nL 179.106821 224.64 \nL 179.106821 62.854286 \nL 176.06318 62.854286 \nz\n\" style=\"fill:#1f77b4;\"/>\n   </g>\n   <g id=\"patch_48\">\n    <path clip-path=\"url(#p35127ff901)\" d=\"M 179.106815 224.64 \nL 182.150457 224.64 \nL 182.150457 82.268571 \nL 179.106815 82.268571 \nz\n\" style=\"fill:#1f77b4;\"/>\n   </g>\n   <g id=\"patch_49\">\n    <path clip-path=\"url(#p35127ff901)\" d=\"M 182.150451 224.64 \nL 185.194093 224.64 \nL 185.194093 17.554286 \nL 182.150451 17.554286 \nz\n\" style=\"fill:#1f77b4;\"/>\n   </g>\n   <g id=\"patch_50\">\n    <path clip-path=\"url(#p35127ff901)\" d=\"M 185.194088 224.64 \nL 188.23773 224.64 \nL 188.23773 36.968571 \nL 185.194088 36.968571 \nz\n\" style=\"fill:#1f77b4;\"/>\n   </g>\n   <g id=\"patch_51\">\n    <path clip-path=\"url(#p35127ff901)\" d=\"M 188.237724 224.64 \nL 191.281366 224.64 \nL 191.281366 56.382857 \nL 188.237724 56.382857 \nz\n\" style=\"fill:#1f77b4;\"/>\n   </g>\n   <g id=\"patch_52\">\n    <path clip-path=\"url(#p35127ff901)\" d=\"M 191.281361 224.64 \nL 194.325003 224.64 \nL 194.325003 82.268571 \nL 191.281361 82.268571 \nz\n\" style=\"fill:#1f77b4;\"/>\n   </g>\n   <g id=\"patch_53\">\n    <path clip-path=\"url(#p35127ff901)\" d=\"M 194.324997 224.64 \nL 197.368639 224.64 \nL 197.368639 49.911429 \nL 194.324997 49.911429 \nz\n\" style=\"fill:#1f77b4;\"/>\n   </g>\n   <g id=\"patch_54\">\n    <path clip-path=\"url(#p35127ff901)\" d=\"M 197.368634 224.64 \nL 200.412275 224.64 \nL 200.412275 69.325714 \nL 197.368634 69.325714 \nz\n\" style=\"fill:#1f77b4;\"/>\n   </g>\n   <g id=\"patch_55\">\n    <path clip-path=\"url(#p35127ff901)\" d=\"M 200.41227 224.64 \nL 203.455912 224.64 \nL 203.455912 82.268571 \nL 200.41227 82.268571 \nz\n\" style=\"fill:#1f77b4;\"/>\n   </g>\n   <g id=\"patch_56\">\n    <path clip-path=\"url(#p35127ff901)\" d=\"M 203.455906 224.64 \nL 206.499547 224.64 \nL 206.499547 62.854286 \nL 203.455906 62.854286 \nz\n\" style=\"fill:#1f77b4;\"/>\n   </g>\n   <g id=\"patch_57\">\n    <path clip-path=\"url(#p35127ff901)\" d=\"M 206.499543 224.64 \nL 209.543185 224.64 \nL 209.543185 75.797143 \nL 206.499543 75.797143 \nz\n\" style=\"fill:#1f77b4;\"/>\n   </g>\n   <g id=\"patch_58\">\n    <path clip-path=\"url(#p35127ff901)\" d=\"M 209.543179 224.64 \nL 212.58682 224.64 \nL 212.58682 114.625714 \nL 209.543179 114.625714 \nz\n\" style=\"fill:#1f77b4;\"/>\n   </g>\n   <g id=\"patch_59\">\n    <path clip-path=\"url(#p35127ff901)\" d=\"M 212.586815 224.64 \nL 215.630456 224.64 \nL 215.630456 56.382857 \nL 212.586815 56.382857 \nz\n\" style=\"fill:#1f77b4;\"/>\n   </g>\n   <g id=\"patch_60\">\n    <path clip-path=\"url(#p35127ff901)\" d=\"M 215.630452 224.64 \nL 218.674094 224.64 \nL 218.674094 69.325714 \nL 215.630452 69.325714 \nz\n\" style=\"fill:#1f77b4;\"/>\n   </g>\n   <g id=\"patch_61\">\n    <path clip-path=\"url(#p35127ff901)\" d=\"M 218.674089 224.64 \nL 221.717731 224.64 \nL 221.717731 43.44 \nL 218.674089 43.44 \nz\n\" style=\"fill:#1f77b4;\"/>\n   </g>\n   <g id=\"patch_62\">\n    <path clip-path=\"url(#p35127ff901)\" d=\"M 221.717725 224.64 \nL 224.761367 224.64 \nL 224.761367 127.568571 \nL 221.717725 127.568571 \nz\n\" style=\"fill:#1f77b4;\"/>\n   </g>\n   <g id=\"patch_63\">\n    <path clip-path=\"url(#p35127ff901)\" d=\"M 224.761361 224.64 \nL 227.805002 224.64 \nL 227.805002 75.797143 \nL 224.761361 75.797143 \nz\n\" style=\"fill:#1f77b4;\"/>\n   </g>\n   <g id=\"patch_64\">\n    <path clip-path=\"url(#p35127ff901)\" d=\"M 227.804997 224.64 \nL 230.848638 224.64 \nL 230.848638 127.568571 \nL 227.804997 127.568571 \nz\n\" style=\"fill:#1f77b4;\"/>\n   </g>\n   <g id=\"patch_65\">\n    <path clip-path=\"url(#p35127ff901)\" d=\"M 230.848635 224.64 \nL 233.892277 224.64 \nL 233.892277 62.854286 \nL 230.848635 62.854286 \nz\n\" style=\"fill:#1f77b4;\"/>\n   </g>\n   <g id=\"patch_66\">\n    <path clip-path=\"url(#p35127ff901)\" d=\"M 233.892271 224.64 \nL 236.935913 224.64 \nL 236.935913 101.682857 \nL 233.892271 101.682857 \nz\n\" style=\"fill:#1f77b4;\"/>\n   </g>\n   <g id=\"patch_67\">\n    <path clip-path=\"url(#p35127ff901)\" d=\"M 236.935907 224.64 \nL 239.979548 224.64 \nL 239.979548 146.982857 \nL 236.935907 146.982857 \nz\n\" style=\"fill:#1f77b4;\"/>\n   </g>\n   <g id=\"patch_68\">\n    <path clip-path=\"url(#p35127ff901)\" d=\"M 239.979543 224.64 \nL 243.023184 224.64 \nL 243.023184 82.268571 \nL 239.979543 82.268571 \nz\n\" style=\"fill:#1f77b4;\"/>\n   </g>\n   <g id=\"patch_69\">\n    <path clip-path=\"url(#p35127ff901)\" d=\"M 243.023178 224.64 \nL 246.06682 224.64 \nL 246.06682 121.097143 \nL 243.023178 121.097143 \nz\n\" style=\"fill:#1f77b4;\"/>\n   </g>\n   <g id=\"patch_70\">\n    <path clip-path=\"url(#p35127ff901)\" d=\"M 246.06682 224.64 \nL 249.110461 224.64 \nL 249.110461 88.74 \nL 246.06682 88.74 \nz\n\" style=\"fill:#1f77b4;\"/>\n   </g>\n   <g id=\"patch_71\">\n    <path clip-path=\"url(#p35127ff901)\" d=\"M 249.11045 224.64 \nL 252.154091 224.64 \nL 252.154091 146.982857 \nL 249.11045 146.982857 \nz\n\" style=\"fill:#1f77b4;\"/>\n   </g>\n   <g id=\"patch_72\">\n    <path clip-path=\"url(#p35127ff901)\" d=\"M 252.154091 224.64 \nL 255.197733 224.64 \nL 255.197733 179.34 \nL 252.154091 179.34 \nz\n\" style=\"fill:#1f77b4;\"/>\n   </g>\n   <g id=\"patch_73\">\n    <path clip-path=\"url(#p35127ff901)\" d=\"M 255.197721 224.64 \nL 258.241363 224.64 \nL 258.241363 146.982857 \nL 255.197721 146.982857 \nz\n\" style=\"fill:#1f77b4;\"/>\n   </g>\n   <g id=\"patch_74\">\n    <path clip-path=\"url(#p35127ff901)\" d=\"M 258.241363 224.64 \nL 261.285005 224.64 \nL 261.285005 179.34 \nL 258.241363 179.34 \nz\n\" style=\"fill:#1f77b4;\"/>\n   </g>\n   <g id=\"patch_75\">\n    <path clip-path=\"url(#p35127ff901)\" d=\"M 261.284993 224.64 \nL 264.328635 224.64 \nL 264.328635 185.811429 \nL 261.284993 185.811429 \nz\n\" style=\"fill:#1f77b4;\"/>\n   </g>\n   <g id=\"patch_76\">\n    <path clip-path=\"url(#p35127ff901)\" d=\"M 264.328635 224.64 \nL 267.372276 224.64 \nL 267.372276 146.982857 \nL 264.328635 146.982857 \nz\n\" style=\"fill:#1f77b4;\"/>\n   </g>\n   <g id=\"patch_77\">\n    <path clip-path=\"url(#p35127ff901)\" d=\"M 267.372265 224.64 \nL 270.415906 224.64 \nL 270.415906 205.225714 \nL 267.372265 205.225714 \nz\n\" style=\"fill:#1f77b4;\"/>\n   </g>\n   <g id=\"patch_78\">\n    <path clip-path=\"url(#p35127ff901)\" d=\"M 270.415906 224.64 \nL 273.459548 224.64 \nL 273.459548 192.282857 \nL 270.415906 192.282857 \nz\n\" style=\"fill:#1f77b4;\"/>\n   </g>\n   <g id=\"patch_79\">\n    <path clip-path=\"url(#p35127ff901)\" d=\"M 273.459548 224.64 \nL 276.503189 224.64 \nL 276.503189 179.34 \nL 273.459548 179.34 \nz\n\" style=\"fill:#1f77b4;\"/>\n   </g>\n   <g id=\"patch_80\">\n    <path clip-path=\"url(#p35127ff901)\" d=\"M 276.503178 224.64 \nL 279.546819 224.64 \nL 279.546819 198.754286 \nL 276.503178 198.754286 \nz\n\" style=\"fill:#1f77b4;\"/>\n   </g>\n   <g id=\"patch_81\">\n    <path clip-path=\"url(#p35127ff901)\" d=\"M 279.546819 224.64 \nL 282.590461 224.64 \nL 282.590461 185.811429 \nL 279.546819 185.811429 \nz\n\" style=\"fill:#1f77b4;\"/>\n   </g>\n   <g id=\"patch_82\">\n    <path clip-path=\"url(#p35127ff901)\" d=\"M 282.590449 224.64 \nL 285.634091 224.64 \nL 285.634091 198.754286 \nL 282.590449 198.754286 \nz\n\" style=\"fill:#1f77b4;\"/>\n   </g>\n   <g id=\"patch_83\">\n    <path clip-path=\"url(#p35127ff901)\" d=\"M 285.634091 224.64 \nL 288.677732 224.64 \nL 288.677732 211.697143 \nL 285.634091 211.697143 \nz\n\" style=\"fill:#1f77b4;\"/>\n   </g>\n   <g id=\"patch_84\">\n    <path clip-path=\"url(#p35127ff901)\" d=\"M 288.677721 224.64 \nL 291.721362 224.64 \nL 291.721362 185.811429 \nL 288.677721 185.811429 \nz\n\" style=\"fill:#1f77b4;\"/>\n   </g>\n   <g id=\"patch_85\">\n    <path clip-path=\"url(#p35127ff901)\" d=\"M 291.721362 224.64 \nL 294.765004 224.64 \nL 294.765004 224.64 \nL 291.721362 224.64 \nz\n\" style=\"fill:#1f77b4;\"/>\n   </g>\n   <g id=\"patch_86\">\n    <path clip-path=\"url(#p35127ff901)\" d=\"M 294.765004 224.64 \nL 297.808634 224.64 \nL 297.808634 185.811429 \nL 294.765004 185.811429 \nz\n\" style=\"fill:#1f77b4;\"/>\n   </g>\n   <g id=\"patch_87\">\n    <path clip-path=\"url(#p35127ff901)\" d=\"M 297.808634 224.64 \nL 300.852276 224.64 \nL 300.852276 205.225714 \nL 297.808634 205.225714 \nz\n\" style=\"fill:#1f77b4;\"/>\n   </g>\n   <g id=\"patch_88\">\n    <path clip-path=\"url(#p35127ff901)\" d=\"M 300.852287 224.64 \nL 303.895917 224.64 \nL 303.895917 211.697143 \nL 300.852287 211.697143 \nz\n\" style=\"fill:#1f77b4;\"/>\n   </g>\n   <g id=\"patch_89\">\n    <path clip-path=\"url(#p35127ff901)\" d=\"M 303.895906 224.64 \nL 306.939547 224.64 \nL 306.939547 198.754286 \nL 303.895906 198.754286 \nz\n\" style=\"fill:#1f77b4;\"/>\n   </g>\n   <g id=\"patch_90\">\n    <path clip-path=\"url(#p35127ff901)\" d=\"M 306.939547 224.64 \nL 309.983177 224.64 \nL 309.983177 211.697143 \nL 306.939547 211.697143 \nz\n\" style=\"fill:#1f77b4;\"/>\n   </g>\n   <g id=\"patch_91\">\n    <path clip-path=\"url(#p35127ff901)\" d=\"M 309.983177 224.64 \nL 313.026819 224.64 \nL 313.026819 224.64 \nL 309.983177 224.64 \nz\n\" style=\"fill:#1f77b4;\"/>\n   </g>\n   <g id=\"patch_92\">\n    <path clip-path=\"url(#p35127ff901)\" d=\"M 313.02683 224.64 \nL 316.07046 224.64 \nL 316.07046 224.64 \nL 313.02683 224.64 \nz\n\" style=\"fill:#1f77b4;\"/>\n   </g>\n   <g id=\"patch_93\">\n    <path clip-path=\"url(#p35127ff901)\" d=\"M 316.070449 224.64 \nL 319.11409 224.64 \nL 319.11409 218.168571 \nL 316.070449 218.168571 \nz\n\" style=\"fill:#1f77b4;\"/>\n   </g>\n   <g id=\"patch_94\">\n    <path clip-path=\"url(#p35127ff901)\" d=\"M 319.11409 224.64 \nL 322.157732 224.64 \nL 322.157732 218.168571 \nL 319.11409 218.168571 \nz\n\" style=\"fill:#1f77b4;\"/>\n   </g>\n   <g id=\"patch_95\">\n    <path clip-path=\"url(#p35127ff901)\" d=\"M 322.157732 224.64 \nL 325.201362 224.64 \nL 325.201362 224.64 \nL 322.157732 224.64 \nz\n\" style=\"fill:#1f77b4;\"/>\n   </g>\n   <g id=\"patch_96\">\n    <path clip-path=\"url(#p35127ff901)\" d=\"M 325.201362 224.64 \nL 328.245003 224.64 \nL 328.245003 218.168571 \nL 325.201362 218.168571 \nz\n\" style=\"fill:#1f77b4;\"/>\n   </g>\n   <g id=\"patch_97\">\n    <path clip-path=\"url(#p35127ff901)\" d=\"M 328.245015 224.64 \nL 331.288645 224.64 \nL 331.288645 218.168571 \nL 328.245015 218.168571 \nz\n\" style=\"fill:#1f77b4;\"/>\n   </g>\n   <g id=\"patch_98\">\n    <path clip-path=\"url(#p35127ff901)\" d=\"M 331.288633 224.64 \nL 334.332275 224.64 \nL 334.332275 224.64 \nL 331.288633 224.64 \nz\n\" style=\"fill:#1f77b4;\"/>\n   </g>\n   <g id=\"patch_99\">\n    <path clip-path=\"url(#p35127ff901)\" d=\"M 334.332275 224.64 \nL 337.375905 224.64 \nL 337.375905 224.64 \nL 334.332275 224.64 \nz\n\" style=\"fill:#1f77b4;\"/>\n   </g>\n   <g id=\"patch_100\">\n    <path clip-path=\"url(#p35127ff901)\" d=\"M 337.375905 224.64 \nL 340.419547 224.64 \nL 340.419547 224.64 \nL 337.375905 224.64 \nz\n\" style=\"fill:#1f77b4;\"/>\n   </g>\n   <g id=\"patch_101\">\n    <path clip-path=\"url(#p35127ff901)\" d=\"M 340.419558 224.64 \nL 343.463188 224.64 \nL 343.463188 224.64 \nL 340.419558 224.64 \nz\n\" style=\"fill:#1f77b4;\"/>\n   </g>\n   <g id=\"patch_102\">\n    <path clip-path=\"url(#p35127ff901)\" d=\"M 343.463177 224.64 \nL 346.506818 224.64 \nL 346.506818 218.168571 \nL 343.463177 218.168571 \nz\n\" style=\"fill:#1f77b4;\"/>\n   </g>\n   <g id=\"matplotlib.axis_1\">\n    <g id=\"xtick_1\">\n     <g id=\"line2d_1\">\n      <defs>\n       <path d=\"M 0 0 \nL 0 3.5 \n\" id=\"mc2f657256c\" style=\"stroke:#000000;stroke-width:0.8;\"/>\n      </defs>\n      <g>\n       <use style=\"stroke:#000000;stroke-width:0.8;\" x=\"50.03332\" xlink:href=\"#mc2f657256c\" y=\"224.64\"/>\n      </g>\n     </g>\n     <g id=\"text_1\">\n      <!-- −3 -->\n      <g transform=\"translate(42.662226 239.238437)scale(0.1 -0.1)\">\n       <defs>\n        <path d=\"M 678 2272 \nL 4684 2272 \nL 4684 1741 \nL 678 1741 \nL 678 2272 \nz\n\" id=\"DejaVuSans-2212\" transform=\"scale(0.015625)\"/>\n        <path d=\"M 2597 2516 \nQ 3050 2419 3304 2112 \nQ 3559 1806 3559 1356 \nQ 3559 666 3084 287 \nQ 2609 -91 1734 -91 \nQ 1441 -91 1130 -33 \nQ 819 25 488 141 \nL 488 750 \nQ 750 597 1062 519 \nQ 1375 441 1716 441 \nQ 2309 441 2620 675 \nQ 2931 909 2931 1356 \nQ 2931 1769 2642 2001 \nQ 2353 2234 1838 2234 \nL 1294 2234 \nL 1294 2753 \nL 1863 2753 \nQ 2328 2753 2575 2939 \nQ 2822 3125 2822 3475 \nQ 2822 3834 2567 4026 \nQ 2313 4219 1838 4219 \nQ 1578 4219 1281 4162 \nQ 984 4106 628 3988 \nL 628 4550 \nQ 988 4650 1302 4700 \nQ 1616 4750 1894 4750 \nQ 2613 4750 3031 4423 \nQ 3450 4097 3450 3541 \nQ 3450 3153 3228 2886 \nQ 3006 2619 2597 2516 \nz\n\" id=\"DejaVuSans-33\" transform=\"scale(0.015625)\"/>\n       </defs>\n       <use xlink:href=\"#DejaVuSans-2212\"/>\n       <use x=\"83.789062\" xlink:href=\"#DejaVuSans-33\"/>\n      </g>\n     </g>\n    </g>\n    <g id=\"xtick_2\">\n     <g id=\"line2d_2\">\n      <g>\n       <use style=\"stroke:#000000;stroke-width:0.8;\" x=\"98.577145\" xlink:href=\"#mc2f657256c\" y=\"224.64\"/>\n      </g>\n     </g>\n     <g id=\"text_2\">\n      <!-- −2 -->\n      <g transform=\"translate(91.206051 239.238437)scale(0.1 -0.1)\">\n       <defs>\n        <path d=\"M 1228 531 \nL 3431 531 \nL 3431 0 \nL 469 0 \nL 469 531 \nQ 828 903 1448 1529 \nQ 2069 2156 2228 2338 \nQ 2531 2678 2651 2914 \nQ 2772 3150 2772 3378 \nQ 2772 3750 2511 3984 \nQ 2250 4219 1831 4219 \nQ 1534 4219 1204 4116 \nQ 875 4013 500 3803 \nL 500 4441 \nQ 881 4594 1212 4672 \nQ 1544 4750 1819 4750 \nQ 2544 4750 2975 4387 \nQ 3406 4025 3406 3419 \nQ 3406 3131 3298 2873 \nQ 3191 2616 2906 2266 \nQ 2828 2175 2409 1742 \nQ 1991 1309 1228 531 \nz\n\" id=\"DejaVuSans-32\" transform=\"scale(0.015625)\"/>\n       </defs>\n       <use xlink:href=\"#DejaVuSans-2212\"/>\n       <use x=\"83.789062\" xlink:href=\"#DejaVuSans-32\"/>\n      </g>\n     </g>\n    </g>\n    <g id=\"xtick_3\">\n     <g id=\"line2d_3\">\n      <g>\n       <use style=\"stroke:#000000;stroke-width:0.8;\" x=\"147.12097\" xlink:href=\"#mc2f657256c\" y=\"224.64\"/>\n      </g>\n     </g>\n     <g id=\"text_3\">\n      <!-- −1 -->\n      <g transform=\"translate(139.749876 239.238437)scale(0.1 -0.1)\">\n       <defs>\n        <path d=\"M 794 531 \nL 1825 531 \nL 1825 4091 \nL 703 3866 \nL 703 4441 \nL 1819 4666 \nL 2450 4666 \nL 2450 531 \nL 3481 531 \nL 3481 0 \nL 794 0 \nL 794 531 \nz\n\" id=\"DejaVuSans-31\" transform=\"scale(0.015625)\"/>\n       </defs>\n       <use xlink:href=\"#DejaVuSans-2212\"/>\n       <use x=\"83.789062\" xlink:href=\"#DejaVuSans-31\"/>\n      </g>\n     </g>\n    </g>\n    <g id=\"xtick_4\">\n     <g id=\"line2d_4\">\n      <g>\n       <use style=\"stroke:#000000;stroke-width:0.8;\" x=\"195.664795\" xlink:href=\"#mc2f657256c\" y=\"224.64\"/>\n      </g>\n     </g>\n     <g id=\"text_4\">\n      <!-- 0 -->\n      <g transform=\"translate(192.483545 239.238437)scale(0.1 -0.1)\">\n       <defs>\n        <path d=\"M 2034 4250 \nQ 1547 4250 1301 3770 \nQ 1056 3291 1056 2328 \nQ 1056 1369 1301 889 \nQ 1547 409 2034 409 \nQ 2525 409 2770 889 \nQ 3016 1369 3016 2328 \nQ 3016 3291 2770 3770 \nQ 2525 4250 2034 4250 \nz\nM 2034 4750 \nQ 2819 4750 3233 4129 \nQ 3647 3509 3647 2328 \nQ 3647 1150 3233 529 \nQ 2819 -91 2034 -91 \nQ 1250 -91 836 529 \nQ 422 1150 422 2328 \nQ 422 3509 836 4129 \nQ 1250 4750 2034 4750 \nz\n\" id=\"DejaVuSans-30\" transform=\"scale(0.015625)\"/>\n       </defs>\n       <use xlink:href=\"#DejaVuSans-30\"/>\n      </g>\n     </g>\n    </g>\n    <g id=\"xtick_5\">\n     <g id=\"line2d_5\">\n      <g>\n       <use style=\"stroke:#000000;stroke-width:0.8;\" x=\"244.20862\" xlink:href=\"#mc2f657256c\" y=\"224.64\"/>\n      </g>\n     </g>\n     <g id=\"text_5\">\n      <!-- 1 -->\n      <g transform=\"translate(241.02737 239.238437)scale(0.1 -0.1)\">\n       <use xlink:href=\"#DejaVuSans-31\"/>\n      </g>\n     </g>\n    </g>\n    <g id=\"xtick_6\">\n     <g id=\"line2d_6\">\n      <g>\n       <use style=\"stroke:#000000;stroke-width:0.8;\" x=\"292.752445\" xlink:href=\"#mc2f657256c\" y=\"224.64\"/>\n      </g>\n     </g>\n     <g id=\"text_6\">\n      <!-- 2 -->\n      <g transform=\"translate(289.571195 239.238437)scale(0.1 -0.1)\">\n       <use xlink:href=\"#DejaVuSans-32\"/>\n      </g>\n     </g>\n    </g>\n    <g id=\"xtick_7\">\n     <g id=\"line2d_7\">\n      <g>\n       <use style=\"stroke:#000000;stroke-width:0.8;\" x=\"341.29627\" xlink:href=\"#mc2f657256c\" y=\"224.64\"/>\n      </g>\n     </g>\n     <g id=\"text_7\">\n      <!-- 3 -->\n      <g transform=\"translate(338.11502 239.238437)scale(0.1 -0.1)\">\n       <use xlink:href=\"#DejaVuSans-33\"/>\n      </g>\n     </g>\n    </g>\n   </g>\n   <g id=\"matplotlib.axis_2\">\n    <g id=\"ytick_1\">\n     <g id=\"line2d_8\">\n      <defs>\n       <path d=\"M 0 0 \nL -3.5 0 \n\" id=\"m1382be3ed3\" style=\"stroke:#000000;stroke-width:0.8;\"/>\n      </defs>\n      <g>\n       <use style=\"stroke:#000000;stroke-width:0.8;\" x=\"26.925\" xlink:href=\"#m1382be3ed3\" y=\"224.64\"/>\n      </g>\n     </g>\n     <g id=\"text_8\">\n      <!-- 0 -->\n      <g transform=\"translate(13.5625 228.439219)scale(0.1 -0.1)\">\n       <use xlink:href=\"#DejaVuSans-30\"/>\n      </g>\n     </g>\n    </g>\n    <g id=\"ytick_2\">\n     <g id=\"line2d_9\">\n      <g>\n       <use style=\"stroke:#000000;stroke-width:0.8;\" x=\"26.925\" xlink:href=\"#m1382be3ed3\" y=\"192.282857\"/>\n      </g>\n     </g>\n     <g id=\"text_9\">\n      <!-- 5 -->\n      <g transform=\"translate(13.5625 196.082076)scale(0.1 -0.1)\">\n       <defs>\n        <path d=\"M 691 4666 \nL 3169 4666 \nL 3169 4134 \nL 1269 4134 \nL 1269 2991 \nQ 1406 3038 1543 3061 \nQ 1681 3084 1819 3084 \nQ 2600 3084 3056 2656 \nQ 3513 2228 3513 1497 \nQ 3513 744 3044 326 \nQ 2575 -91 1722 -91 \nQ 1428 -91 1123 -41 \nQ 819 9 494 109 \nL 494 744 \nQ 775 591 1075 516 \nQ 1375 441 1709 441 \nQ 2250 441 2565 725 \nQ 2881 1009 2881 1497 \nQ 2881 1984 2565 2268 \nQ 2250 2553 1709 2553 \nQ 1456 2553 1204 2497 \nQ 953 2441 691 2322 \nL 691 4666 \nz\n\" id=\"DejaVuSans-35\" transform=\"scale(0.015625)\"/>\n       </defs>\n       <use xlink:href=\"#DejaVuSans-35\"/>\n      </g>\n     </g>\n    </g>\n    <g id=\"ytick_3\">\n     <g id=\"line2d_10\">\n      <g>\n       <use style=\"stroke:#000000;stroke-width:0.8;\" x=\"26.925\" xlink:href=\"#m1382be3ed3\" y=\"159.925714\"/>\n      </g>\n     </g>\n     <g id=\"text_10\">\n      <!-- 10 -->\n      <g transform=\"translate(7.2 163.724933)scale(0.1 -0.1)\">\n       <use xlink:href=\"#DejaVuSans-31\"/>\n       <use x=\"63.623047\" xlink:href=\"#DejaVuSans-30\"/>\n      </g>\n     </g>\n    </g>\n    <g id=\"ytick_4\">\n     <g id=\"line2d_11\">\n      <g>\n       <use style=\"stroke:#000000;stroke-width:0.8;\" x=\"26.925\" xlink:href=\"#m1382be3ed3\" y=\"127.568571\"/>\n      </g>\n     </g>\n     <g id=\"text_11\">\n      <!-- 15 -->\n      <g transform=\"translate(7.2 131.36779)scale(0.1 -0.1)\">\n       <use xlink:href=\"#DejaVuSans-31\"/>\n       <use x=\"63.623047\" xlink:href=\"#DejaVuSans-35\"/>\n      </g>\n     </g>\n    </g>\n    <g id=\"ytick_5\">\n     <g id=\"line2d_12\">\n      <g>\n       <use style=\"stroke:#000000;stroke-width:0.8;\" x=\"26.925\" xlink:href=\"#m1382be3ed3\" y=\"95.211429\"/>\n      </g>\n     </g>\n     <g id=\"text_12\">\n      <!-- 20 -->\n      <g transform=\"translate(7.2 99.010647)scale(0.1 -0.1)\">\n       <use xlink:href=\"#DejaVuSans-32\"/>\n       <use x=\"63.623047\" xlink:href=\"#DejaVuSans-30\"/>\n      </g>\n     </g>\n    </g>\n    <g id=\"ytick_6\">\n     <g id=\"line2d_13\">\n      <g>\n       <use style=\"stroke:#000000;stroke-width:0.8;\" x=\"26.925\" xlink:href=\"#m1382be3ed3\" y=\"62.854286\"/>\n      </g>\n     </g>\n     <g id=\"text_13\">\n      <!-- 25 -->\n      <g transform=\"translate(7.2 66.653504)scale(0.1 -0.1)\">\n       <use xlink:href=\"#DejaVuSans-32\"/>\n       <use x=\"63.623047\" xlink:href=\"#DejaVuSans-35\"/>\n      </g>\n     </g>\n    </g>\n    <g id=\"ytick_7\">\n     <g id=\"line2d_14\">\n      <g>\n       <use style=\"stroke:#000000;stroke-width:0.8;\" x=\"26.925\" xlink:href=\"#m1382be3ed3\" y=\"30.497143\"/>\n      </g>\n     </g>\n     <g id=\"text_14\">\n      <!-- 30 -->\n      <g transform=\"translate(7.2 34.296362)scale(0.1 -0.1)\">\n       <use xlink:href=\"#DejaVuSans-33\"/>\n       <use x=\"63.623047\" xlink:href=\"#DejaVuSans-30\"/>\n      </g>\n     </g>\n    </g>\n   </g>\n   <g id=\"patch_103\">\n    <path d=\"M 26.925 224.64 \nL 26.925 7.2 \n\" style=\"fill:none;stroke:#000000;stroke-linecap:square;stroke-linejoin:miter;stroke-width:0.8;\"/>\n   </g>\n   <g id=\"patch_104\">\n    <path d=\"M 361.725 224.64 \nL 361.725 7.2 \n\" style=\"fill:none;stroke:#000000;stroke-linecap:square;stroke-linejoin:miter;stroke-width:0.8;\"/>\n   </g>\n   <g id=\"patch_105\">\n    <path d=\"M 26.925 224.64 \nL 361.725 224.64 \n\" style=\"fill:none;stroke:#000000;stroke-linecap:square;stroke-linejoin:miter;stroke-width:0.8;\"/>\n   </g>\n   <g id=\"patch_106\">\n    <path d=\"M 26.925 7.2 \nL 361.725 7.2 \n\" style=\"fill:none;stroke:#000000;stroke-linecap:square;stroke-linejoin:miter;stroke-width:0.8;\"/>\n   </g>\n  </g>\n </g>\n <defs>\n  <clipPath id=\"p35127ff901\">\n   <rect height=\"217.44\" width=\"334.8\" x=\"26.925\" y=\"7.2\"/>\n  </clipPath>\n </defs>\n</svg>\n",
      "image/png": "[encoded data removed]"
     },
     "metadata": {
      "needs_background": "light"
     }
    }
   ],
   "metadata": {}
  },
  {
   "cell_type": "code",
   "execution_count": 18,
   "source": [
    "# 自定义res可视化库\n",
    "from res.plot_lib import set_default\n",
    "set_default()\n",
    "plt.hist(torch.randn(1000).numpy(), 100);"
   ],
   "outputs": [
    {
     "output_type": "display_data",
     "data": {
      "text/plain": [
       "<Figure size 1000x1000 with 1 Axes>"
      ],
      "image/svg+xml": "<?xml version=\"1.0\" encoding=\"utf-8\" standalone=\"no\"?>\n<!DOCTYPE svg PUBLIC \"-//W3C//DTD SVG 1.1//EN\"\n  \"http://www.w3.org/Graphics/SVG/1.1/DTD/svg11.dtd\">\n<svg height=\"571.178125pt\" version=\"1.1\" viewBox=\"0 0 588.625 571.178125\" width=\"588.625pt\" xmlns=\"http://www.w3.org/2000/svg\" xmlns:xlink=\"http://www.w3.org/1999/xlink\">\n <metadata>\n  <rdf:RDF xmlns:cc=\"http://creativecommons.org/ns#\" xmlns:dc=\"http://purl.org/dc/elements/1.1/\" xmlns:rdf=\"http://www.w3.org/1999/02/22-rdf-syntax-ns#\">\n   <cc:Work>\n    <dc:type rdf:resource=\"http://purl.org/dc/dcmitype/StillImage\"/>\n    <dc:date>2021-06-14T10:30:10.732138</dc:date>\n    <dc:format>image/svg+xml</dc:format>\n    <dc:creator>\n     <cc:Agent>\n      <dc:title>Matplotlib v3.4.1, https://matplotlib.org/</dc:title>\n     </cc:Agent>\n    </dc:creator>\n   </cc:Work>\n  </rdf:RDF>\n </metadata>\n <defs>\n  <style type=\"text/css\">*{stroke-linecap:butt;stroke-linejoin:round;}</style>\n </defs>\n <g id=\"figure_1\">\n  <g id=\"patch_1\">\n   <path d=\"M 0 571.178125 \nL 588.625 571.178125 \nL 588.625 0 \nL 0 0 \nz\n\"/>\n  </g>\n  <g id=\"axes_1\">\n   <g id=\"patch_2\">\n    <path d=\"M 23.425 550.8 \nL 581.425 550.8 \nL 581.425 7.2 \nL 23.425 7.2 \nz\n\"/>\n   </g>\n   <g id=\"patch_3\">\n    <path clip-path=\"url(#pd7ddce1e2b)\" d=\"M 48.788636 550.8 \nL 53.861355 550.8 \nL 53.861355 522.038095 \nL 48.788636 522.038095 \nz\n\" style=\"fill:#348abd;\"/>\n   </g>\n   <g id=\"patch_4\">\n    <path clip-path=\"url(#pd7ddce1e2b)\" d=\"M 53.861336 550.8 \nL 58.934074 550.8 \nL 58.934074 550.8 \nL 53.861336 550.8 \nz\n\" style=\"fill:#348abd;\"/>\n   </g>\n   <g id=\"patch_5\">\n    <path clip-path=\"url(#pd7ddce1e2b)\" d=\"M 58.934093 550.8 \nL 64.006812 550.8 \nL 64.006812 550.8 \nL 58.934093 550.8 \nz\n\" style=\"fill:#348abd;\"/>\n   </g>\n   <g id=\"patch_6\">\n    <path clip-path=\"url(#pd7ddce1e2b)\" d=\"M 64.006812 550.8 \nL 69.07955 550.8 \nL 69.07955 550.8 \nL 64.006812 550.8 \nz\n\" style=\"fill:#348abd;\"/>\n   </g>\n   <g id=\"patch_7\">\n    <path clip-path=\"url(#pd7ddce1e2b)\" d=\"M 69.07955 550.8 \nL 74.152269 550.8 \nL 74.152269 536.419048 \nL 69.07955 536.419048 \nz\n\" style=\"fill:#348abd;\"/>\n   </g>\n   <g id=\"patch_8\">\n    <path clip-path=\"url(#pd7ddce1e2b)\" d=\"M 74.152249 550.8 \nL 79.224988 550.8 \nL 79.224988 536.419048 \nL 74.152249 536.419048 \nz\n\" style=\"fill:#348abd;\"/>\n   </g>\n   <g id=\"patch_9\">\n    <path clip-path=\"url(#pd7ddce1e2b)\" d=\"M 79.225007 550.8 \nL 84.297726 550.8 \nL 84.297726 536.419048 \nL 79.225007 536.419048 \nz\n\" style=\"fill:#348abd;\"/>\n   </g>\n   <g id=\"patch_10\">\n    <path clip-path=\"url(#pd7ddce1e2b)\" d=\"M 84.297726 550.8 \nL 89.370464 550.8 \nL 89.370464 536.419048 \nL 84.297726 536.419048 \nz\n\" style=\"fill:#348abd;\"/>\n   </g>\n   <g id=\"patch_11\">\n    <path clip-path=\"url(#pd7ddce1e2b)\" d=\"M 89.370464 550.8 \nL 94.443183 550.8 \nL 94.443183 536.419048 \nL 89.370464 536.419048 \nz\n\" style=\"fill:#348abd;\"/>\n   </g>\n   <g id=\"patch_12\">\n    <path clip-path=\"url(#pd7ddce1e2b)\" d=\"M 94.443183 550.8 \nL 99.515901 550.8 \nL 99.515901 493.27619 \nL 94.443183 493.27619 \nz\n\" style=\"fill:#348abd;\"/>\n   </g>\n   <g id=\"patch_13\">\n    <path clip-path=\"url(#pd7ddce1e2b)\" d=\"M 99.515882 550.8 \nL 104.58862 550.8 \nL 104.58862 550.8 \nL 99.515882 550.8 \nz\n\" style=\"fill:#348abd;\"/>\n   </g>\n   <g id=\"patch_14\">\n    <path clip-path=\"url(#pd7ddce1e2b)\" d=\"M 104.588639 550.8 \nL 109.661358 550.8 \nL 109.661358 522.038095 \nL 104.588639 522.038095 \nz\n\" style=\"fill:#348abd;\"/>\n   </g>\n   <g id=\"patch_15\">\n    <path clip-path=\"url(#pd7ddce1e2b)\" d=\"M 109.661358 550.8 \nL 114.734096 550.8 \nL 114.734096 507.657143 \nL 109.661358 507.657143 \nz\n\" style=\"fill:#348abd;\"/>\n   </g>\n   <g id=\"patch_16\">\n    <path clip-path=\"url(#pd7ddce1e2b)\" d=\"M 114.734096 550.8 \nL 119.806815 550.8 \nL 119.806815 536.419048 \nL 114.734096 536.419048 \nz\n\" style=\"fill:#348abd;\"/>\n   </g>\n   <g id=\"patch_17\">\n    <path clip-path=\"url(#pd7ddce1e2b)\" d=\"M 119.806815 550.8 \nL 124.879534 550.8 \nL 124.879534 522.038095 \nL 119.806815 522.038095 \nz\n\" style=\"fill:#348abd;\"/>\n   </g>\n   <g id=\"patch_18\">\n    <path clip-path=\"url(#pd7ddce1e2b)\" d=\"M 124.879553 550.8 \nL 129.952272 550.8 \nL 129.952272 507.657143 \nL 124.879553 507.657143 \nz\n\" style=\"fill:#348abd;\"/>\n   </g>\n   <g id=\"patch_19\">\n    <path clip-path=\"url(#pd7ddce1e2b)\" d=\"M 129.952272 550.8 \nL 135.024991 550.8 \nL 135.024991 493.27619 \nL 129.952272 493.27619 \nz\n\" style=\"fill:#348abd;\"/>\n   </g>\n   <g id=\"patch_20\">\n    <path clip-path=\"url(#pd7ddce1e2b)\" d=\"M 135.02501 550.8 \nL 140.097729 550.8 \nL 140.097729 493.27619 \nL 135.02501 493.27619 \nz\n\" style=\"fill:#348abd;\"/>\n   </g>\n   <g id=\"patch_21\">\n    <path clip-path=\"url(#pd7ddce1e2b)\" d=\"M 140.097729 550.8 \nL 145.170448 550.8 \nL 145.170448 464.514286 \nL 140.097729 464.514286 \nz\n\" style=\"fill:#348abd;\"/>\n   </g>\n   <g id=\"patch_22\">\n    <path clip-path=\"url(#pd7ddce1e2b)\" d=\"M 145.170467 550.8 \nL 150.243186 550.8 \nL 150.243186 522.038095 \nL 145.170467 522.038095 \nz\n\" style=\"fill:#348abd;\"/>\n   </g>\n   <g id=\"patch_23\">\n    <path clip-path=\"url(#pd7ddce1e2b)\" d=\"M 150.243186 550.8 \nL 155.315904 550.8 \nL 155.315904 464.514286 \nL 150.243186 464.514286 \nz\n\" style=\"fill:#348abd;\"/>\n   </g>\n   <g id=\"patch_24\">\n    <path clip-path=\"url(#pd7ddce1e2b)\" d=\"M 155.315904 550.8 \nL 160.388623 550.8 \nL 160.388623 464.514286 \nL 155.315904 464.514286 \nz\n\" style=\"fill:#348abd;\"/>\n   </g>\n   <g id=\"patch_25\">\n    <path clip-path=\"url(#pd7ddce1e2b)\" d=\"M 160.388643 550.8 \nL 165.461361 550.8 \nL 165.461361 493.27619 \nL 160.388643 493.27619 \nz\n\" style=\"fill:#348abd;\"/>\n   </g>\n   <g id=\"patch_26\">\n    <path clip-path=\"url(#pd7ddce1e2b)\" d=\"M 165.461361 550.8 \nL 170.53408 550.8 \nL 170.53408 406.990476 \nL 165.461361 406.990476 \nz\n\" style=\"fill:#348abd;\"/>\n   </g>\n   <g id=\"patch_27\">\n    <path clip-path=\"url(#pd7ddce1e2b)\" d=\"M 170.534099 550.8 \nL 175.606818 550.8 \nL 175.606818 464.514286 \nL 170.534099 464.514286 \nz\n\" style=\"fill:#348abd;\"/>\n   </g>\n   <g id=\"patch_28\">\n    <path clip-path=\"url(#pd7ddce1e2b)\" d=\"M 175.606818 550.8 \nL 180.679537 550.8 \nL 180.679537 378.228571 \nL 175.606818 378.228571 \nz\n\" style=\"fill:#348abd;\"/>\n   </g>\n   <g id=\"patch_29\">\n    <path clip-path=\"url(#pd7ddce1e2b)\" d=\"M 180.679556 550.8 \nL 185.752275 550.8 \nL 185.752275 392.609524 \nL 180.679556 392.609524 \nz\n\" style=\"fill:#348abd;\"/>\n   </g>\n   <g id=\"patch_30\">\n    <path clip-path=\"url(#pd7ddce1e2b)\" d=\"M 185.752275 550.8 \nL 190.824994 550.8 \nL 190.824994 378.228571 \nL 185.752275 378.228571 \nz\n\" style=\"fill:#348abd;\"/>\n   </g>\n   <g id=\"patch_31\">\n    <path clip-path=\"url(#pd7ddce1e2b)\" d=\"M 190.825013 550.8 \nL 195.897732 550.8 \nL 195.897732 306.32381 \nL 190.825013 306.32381 \nz\n\" style=\"fill:#348abd;\"/>\n   </g>\n   <g id=\"patch_32\">\n    <path clip-path=\"url(#pd7ddce1e2b)\" d=\"M 195.897732 550.8 \nL 200.970451 550.8 \nL 200.970451 320.704762 \nL 195.897732 320.704762 \nz\n\" style=\"fill:#348abd;\"/>\n   </g>\n   <g id=\"patch_33\">\n    <path clip-path=\"url(#pd7ddce1e2b)\" d=\"M 200.970451 550.8 \nL 206.043189 550.8 \nL 206.043189 335.085714 \nL 200.970451 335.085714 \nz\n\" style=\"fill:#348abd;\"/>\n   </g>\n   <g id=\"patch_34\">\n    <path clip-path=\"url(#pd7ddce1e2b)\" d=\"M 206.043189 550.8 \nL 211.115908 550.8 \nL 211.115908 277.561905 \nL 206.043189 277.561905 \nz\n\" style=\"fill:#348abd;\"/>\n   </g>\n   <g id=\"patch_35\">\n    <path clip-path=\"url(#pd7ddce1e2b)\" d=\"M 211.115912 550.8 \nL 216.188631 550.8 \nL 216.188631 421.371429 \nL 211.115912 421.371429 \nz\n\" style=\"fill:#348abd;\"/>\n   </g>\n   <g id=\"patch_36\">\n    <path clip-path=\"url(#pd7ddce1e2b)\" d=\"M 216.188641 550.8 \nL 221.26136 550.8 \nL 221.26136 205.657143 \nL 216.188641 205.657143 \nz\n\" style=\"fill:#348abd;\"/>\n   </g>\n   <g id=\"patch_37\">\n    <path clip-path=\"url(#pd7ddce1e2b)\" d=\"M 221.261369 550.8 \nL 226.334088 550.8 \nL 226.334088 306.32381 \nL 221.261369 306.32381 \nz\n\" style=\"fill:#348abd;\"/>\n   </g>\n   <g id=\"patch_38\">\n    <path clip-path=\"url(#pd7ddce1e2b)\" d=\"M 226.334093 550.8 \nL 231.406812 550.8 \nL 231.406812 349.466667 \nL 226.334093 349.466667 \nz\n\" style=\"fill:#348abd;\"/>\n   </g>\n   <g id=\"patch_39\">\n    <path clip-path=\"url(#pd7ddce1e2b)\" d=\"M 231.406821 550.8 \nL 236.47954 550.8 \nL 236.47954 176.895238 \nL 231.406821 176.895238 \nz\n\" style=\"fill:#348abd;\"/>\n   </g>\n   <g id=\"patch_40\">\n    <path clip-path=\"url(#pd7ddce1e2b)\" d=\"M 236.47955 550.8 \nL 241.552268 550.8 \nL 241.552268 335.085714 \nL 236.47955 335.085714 \nz\n\" style=\"fill:#348abd;\"/>\n   </g>\n   <g id=\"patch_41\">\n    <path clip-path=\"url(#pd7ddce1e2b)\" d=\"M 241.552278 550.8 \nL 246.624997 550.8 \nL 246.624997 277.561905 \nL 241.552278 277.561905 \nz\n\" style=\"fill:#348abd;\"/>\n   </g>\n   <g id=\"patch_42\">\n    <path clip-path=\"url(#pd7ddce1e2b)\" d=\"M 246.625004 550.8 \nL 251.697723 550.8 \nL 251.697723 263.180952 \nL 246.625004 263.180952 \nz\n\" style=\"fill:#348abd;\"/>\n   </g>\n   <g id=\"patch_43\">\n    <path clip-path=\"url(#pd7ddce1e2b)\" d=\"M 251.69773 550.8 \nL 256.770449 550.8 \nL 256.770449 277.561905 \nL 251.69773 277.561905 \nz\n\" style=\"fill:#348abd;\"/>\n   </g>\n   <g id=\"patch_44\">\n    <path clip-path=\"url(#pd7ddce1e2b)\" d=\"M 256.770459 550.8 \nL 261.843177 550.8 \nL 261.843177 205.657143 \nL 256.770459 205.657143 \nz\n\" style=\"fill:#348abd;\"/>\n   </g>\n   <g id=\"patch_45\">\n    <path clip-path=\"url(#pd7ddce1e2b)\" d=\"M 261.843187 550.8 \nL 266.915906 550.8 \nL 266.915906 133.752381 \nL 261.843187 133.752381 \nz\n\" style=\"fill:#348abd;\"/>\n   </g>\n   <g id=\"patch_46\">\n    <path clip-path=\"url(#pd7ddce1e2b)\" d=\"M 266.915913 550.8 \nL 271.988632 550.8 \nL 271.988632 234.419048 \nL 266.915913 234.419048 \nz\n\" style=\"fill:#348abd;\"/>\n   </g>\n   <g id=\"patch_47\">\n    <path clip-path=\"url(#pd7ddce1e2b)\" d=\"M 271.988642 550.8 \nL 277.06136 550.8 \nL 277.06136 205.657143 \nL 271.988642 205.657143 \nz\n\" style=\"fill:#348abd;\"/>\n   </g>\n   <g id=\"patch_48\">\n    <path clip-path=\"url(#pd7ddce1e2b)\" d=\"M 277.061368 550.8 \nL 282.134087 550.8 \nL 282.134087 33.085714 \nL 277.061368 33.085714 \nz\n\" style=\"fill:#348abd;\"/>\n   </g>\n   <g id=\"patch_49\">\n    <path clip-path=\"url(#pd7ddce1e2b)\" d=\"M 282.134095 550.8 \nL 287.206814 550.8 \nL 287.206814 349.466667 \nL 282.134095 349.466667 \nz\n\" style=\"fill:#348abd;\"/>\n   </g>\n   <g id=\"patch_50\">\n    <path clip-path=\"url(#pd7ddce1e2b)\" d=\"M 287.206823 550.8 \nL 292.279541 550.8 \nL 292.279541 104.990476 \nL 287.206823 104.990476 \nz\n\" style=\"fill:#348abd;\"/>\n   </g>\n   <g id=\"patch_51\">\n    <path clip-path=\"url(#pd7ddce1e2b)\" d=\"M 292.27955 550.8 \nL 297.352269 550.8 \nL 297.352269 263.180952 \nL 292.27955 263.180952 \nz\n\" style=\"fill:#348abd;\"/>\n   </g>\n   <g id=\"patch_52\">\n    <path clip-path=\"url(#pd7ddce1e2b)\" d=\"M 297.352276 550.8 \nL 302.424995 550.8 \nL 302.424995 133.752381 \nL 297.352276 133.752381 \nz\n\" style=\"fill:#348abd;\"/>\n   </g>\n   <g id=\"patch_53\">\n    <path clip-path=\"url(#pd7ddce1e2b)\" d=\"M 302.425005 550.8 \nL 307.497724 550.8 \nL 307.497724 234.419048 \nL 302.425005 234.419048 \nz\n\" style=\"fill:#348abd;\"/>\n   </g>\n   <g id=\"patch_54\">\n    <path clip-path=\"url(#pd7ddce1e2b)\" d=\"M 307.497733 550.8 \nL 312.570452 550.8 \nL 312.570452 335.085714 \nL 307.497733 335.085714 \nz\n\" style=\"fill:#348abd;\"/>\n   </g>\n   <g id=\"patch_55\">\n    <path clip-path=\"url(#pd7ddce1e2b)\" d=\"M 312.570459 550.8 \nL 317.643178 550.8 \nL 317.643178 363.847619 \nL 312.570459 363.847619 \nz\n\" style=\"fill:#348abd;\"/>\n   </g>\n   <g id=\"patch_56\">\n    <path clip-path=\"url(#pd7ddce1e2b)\" d=\"M 317.643185 550.8 \nL 322.715904 550.8 \nL 322.715904 119.371429 \nL 317.643185 119.371429 \nz\n\" style=\"fill:#348abd;\"/>\n   </g>\n   <g id=\"patch_57\">\n    <path clip-path=\"url(#pd7ddce1e2b)\" d=\"M 322.715914 550.8 \nL 327.788632 550.8 \nL 327.788632 248.8 \nL 322.715914 248.8 \nz\n\" style=\"fill:#348abd;\"/>\n   </g>\n   <g id=\"patch_58\">\n    <path clip-path=\"url(#pd7ddce1e2b)\" d=\"M 327.788642 550.8 \nL 332.861361 550.8 \nL 332.861361 148.133333 \nL 327.788642 148.133333 \nz\n\" style=\"fill:#348abd;\"/>\n   </g>\n   <g id=\"patch_59\">\n    <path clip-path=\"url(#pd7ddce1e2b)\" d=\"M 332.861371 550.8 \nL 337.934089 550.8 \nL 337.934089 363.847619 \nL 332.861371 363.847619 \nz\n\" style=\"fill:#348abd;\"/>\n   </g>\n   <g id=\"patch_60\">\n    <path clip-path=\"url(#pd7ddce1e2b)\" d=\"M 337.934094 550.8 \nL 343.006813 550.8 \nL 343.006813 248.8 \nL 337.934094 248.8 \nz\n\" style=\"fill:#348abd;\"/>\n   </g>\n   <g id=\"patch_61\">\n    <path clip-path=\"url(#pd7ddce1e2b)\" d=\"M 343.006823 550.8 \nL 348.079541 550.8 \nL 348.079541 76.228571 \nL 343.006823 76.228571 \nz\n\" style=\"fill:#348abd;\"/>\n   </g>\n   <g id=\"patch_62\">\n    <path clip-path=\"url(#pd7ddce1e2b)\" d=\"M 348.079551 550.8 \nL 353.15227 550.8 \nL 353.15227 234.419048 \nL 348.079551 234.419048 \nz\n\" style=\"fill:#348abd;\"/>\n   </g>\n   <g id=\"patch_63\">\n    <path clip-path=\"url(#pd7ddce1e2b)\" d=\"M 353.152275 550.8 \nL 358.224993 550.8 \nL 358.224993 205.657143 \nL 353.152275 205.657143 \nz\n\" style=\"fill:#348abd;\"/>\n   </g>\n   <g id=\"patch_64\">\n    <path clip-path=\"url(#pd7ddce1e2b)\" d=\"M 358.225003 550.8 \nL 363.297722 550.8 \nL 363.297722 406.990476 \nL 358.225003 406.990476 \nz\n\" style=\"fill:#348abd;\"/>\n   </g>\n   <g id=\"patch_65\">\n    <path clip-path=\"url(#pd7ddce1e2b)\" d=\"M 363.297732 550.8 \nL 368.37045 550.8 \nL 368.37045 335.085714 \nL 363.297732 335.085714 \nz\n\" style=\"fill:#348abd;\"/>\n   </g>\n   <g id=\"patch_66\">\n    <path clip-path=\"url(#pd7ddce1e2b)\" d=\"M 368.37046 550.8 \nL 373.443179 550.8 \nL 373.443179 263.180952 \nL 368.37046 263.180952 \nz\n\" style=\"fill:#348abd;\"/>\n   </g>\n   <g id=\"patch_67\">\n    <path clip-path=\"url(#pd7ddce1e2b)\" d=\"M 373.443179 550.8 \nL 378.515897 550.8 \nL 378.515897 320.704762 \nL 373.443179 320.704762 \nz\n\" style=\"fill:#348abd;\"/>\n   </g>\n   <g id=\"patch_68\">\n    <path clip-path=\"url(#pd7ddce1e2b)\" d=\"M 378.515917 550.8 \nL 383.588636 550.8 \nL 383.588636 263.180952 \nL 378.515917 263.180952 \nz\n\" style=\"fill:#348abd;\"/>\n   </g>\n   <g id=\"patch_69\">\n    <path clip-path=\"url(#pd7ddce1e2b)\" d=\"M 383.588636 550.8 \nL 388.661354 550.8 \nL 388.661354 392.609524 \nL 383.588636 392.609524 \nz\n\" style=\"fill:#348abd;\"/>\n   </g>\n   <g id=\"patch_70\">\n    <path clip-path=\"url(#pd7ddce1e2b)\" d=\"M 388.661374 550.8 \nL 393.734092 550.8 \nL 393.734092 435.752381 \nL 388.661374 435.752381 \nz\n\" style=\"fill:#348abd;\"/>\n   </g>\n   <g id=\"patch_71\">\n    <path clip-path=\"url(#pd7ddce1e2b)\" d=\"M 393.734092 550.8 \nL 398.806811 550.8 \nL 398.806811 406.990476 \nL 393.734092 406.990476 \nz\n\" style=\"fill:#348abd;\"/>\n   </g>\n   <g id=\"patch_72\">\n    <path clip-path=\"url(#pd7ddce1e2b)\" d=\"M 398.806831 550.8 \nL 403.879549 550.8 \nL 403.879549 435.752381 \nL 398.806831 435.752381 \nz\n\" style=\"fill:#348abd;\"/>\n   </g>\n   <g id=\"patch_73\">\n    <path clip-path=\"url(#pd7ddce1e2b)\" d=\"M 403.879549 550.8 \nL 408.952268 550.8 \nL 408.952268 421.371429 \nL 403.879549 421.371429 \nz\n\" style=\"fill:#348abd;\"/>\n   </g>\n   <g id=\"patch_74\">\n    <path clip-path=\"url(#pd7ddce1e2b)\" d=\"M 408.952268 550.8 \nL 414.024987 550.8 \nL 414.024987 450.133333 \nL 408.952268 450.133333 \nz\n\" style=\"fill:#348abd;\"/>\n   </g>\n   <g id=\"patch_75\">\n    <path clip-path=\"url(#pd7ddce1e2b)\" d=\"M 414.025006 550.8 \nL 419.097725 550.8 \nL 419.097725 392.609524 \nL 414.025006 392.609524 \nz\n\" style=\"fill:#348abd;\"/>\n   </g>\n   <g id=\"patch_76\">\n    <path clip-path=\"url(#pd7ddce1e2b)\" d=\"M 419.097725 550.8 \nL 424.170444 550.8 \nL 424.170444 421.371429 \nL 419.097725 421.371429 \nz\n\" style=\"fill:#348abd;\"/>\n   </g>\n   <g id=\"patch_77\">\n    <path clip-path=\"url(#pd7ddce1e2b)\" d=\"M 424.170463 550.8 \nL 429.243182 550.8 \nL 429.243182 478.895238 \nL 424.170463 478.895238 \nz\n\" style=\"fill:#348abd;\"/>\n   </g>\n   <g id=\"patch_78\">\n    <path clip-path=\"url(#pd7ddce1e2b)\" d=\"M 429.243182 550.8 \nL 434.315901 550.8 \nL 434.315901 450.133333 \nL 429.243182 450.133333 \nz\n\" style=\"fill:#348abd;\"/>\n   </g>\n   <g id=\"patch_79\">\n    <path clip-path=\"url(#pd7ddce1e2b)\" d=\"M 434.31592 550.8 \nL 439.388639 550.8 \nL 439.388639 507.657143 \nL 434.31592 507.657143 \nz\n\" style=\"fill:#348abd;\"/>\n   </g>\n   <g id=\"patch_80\">\n    <path clip-path=\"url(#pd7ddce1e2b)\" d=\"M 439.388639 550.8 \nL 444.461357 550.8 \nL 444.461357 507.657143 \nL 439.388639 507.657143 \nz\n\" style=\"fill:#348abd;\"/>\n   </g>\n   <g id=\"patch_81\">\n    <path clip-path=\"url(#pd7ddce1e2b)\" d=\"M 444.461377 550.8 \nL 449.534096 550.8 \nL 449.534096 522.038095 \nL 444.461377 522.038095 \nz\n\" style=\"fill:#348abd;\"/>\n   </g>\n   <g id=\"patch_82\">\n    <path clip-path=\"url(#pd7ddce1e2b)\" d=\"M 449.534096 550.8 \nL 454.606814 550.8 \nL 454.606814 536.419048 \nL 449.534096 536.419048 \nz\n\" style=\"fill:#348abd;\"/>\n   </g>\n   <g id=\"patch_83\">\n    <path clip-path=\"url(#pd7ddce1e2b)\" d=\"M 454.606814 550.8 \nL 459.679552 550.8 \nL 459.679552 522.038095 \nL 454.606814 522.038095 \nz\n\" style=\"fill:#348abd;\"/>\n   </g>\n   <g id=\"patch_84\">\n    <path clip-path=\"url(#pd7ddce1e2b)\" d=\"M 459.679552 550.8 \nL 464.752271 550.8 \nL 464.752271 536.419048 \nL 459.679552 536.419048 \nz\n\" style=\"fill:#348abd;\"/>\n   </g>\n   <g id=\"patch_85\">\n    <path clip-path=\"url(#pd7ddce1e2b)\" d=\"M 464.752252 550.8 \nL 469.82499 550.8 \nL 469.82499 493.27619 \nL 464.752252 493.27619 \nz\n\" style=\"fill:#348abd;\"/>\n   </g>\n   <g id=\"patch_86\">\n    <path clip-path=\"url(#pd7ddce1e2b)\" d=\"M 469.825009 550.8 \nL 474.897728 550.8 \nL 474.897728 550.8 \nL 469.825009 550.8 \nz\n\" style=\"fill:#348abd;\"/>\n   </g>\n   <g id=\"patch_87\">\n    <path clip-path=\"url(#pd7ddce1e2b)\" d=\"M 474.897728 550.8 \nL 479.970447 550.8 \nL 479.970447 522.038095 \nL 474.897728 522.038095 \nz\n\" style=\"fill:#348abd;\"/>\n   </g>\n   <g id=\"patch_88\">\n    <path clip-path=\"url(#pd7ddce1e2b)\" d=\"M 479.970447 550.8 \nL 485.043185 550.8 \nL 485.043185 536.419048 \nL 479.970447 536.419048 \nz\n\" style=\"fill:#348abd;\"/>\n   </g>\n   <g id=\"patch_89\">\n    <path clip-path=\"url(#pd7ddce1e2b)\" d=\"M 485.043185 550.8 \nL 490.115904 550.8 \nL 490.115904 507.657143 \nL 485.043185 507.657143 \nz\n\" style=\"fill:#348abd;\"/>\n   </g>\n   <g id=\"patch_90\">\n    <path clip-path=\"url(#pd7ddce1e2b)\" d=\"M 490.115884 550.8 \nL 495.188622 550.8 \nL 495.188622 536.419048 \nL 490.115884 536.419048 \nz\n\" style=\"fill:#348abd;\"/>\n   </g>\n   <g id=\"patch_91\">\n    <path clip-path=\"url(#pd7ddce1e2b)\" d=\"M 495.188642 550.8 \nL 500.261361 550.8 \nL 500.261361 522.038095 \nL 495.188642 522.038095 \nz\n\" style=\"fill:#348abd;\"/>\n   </g>\n   <g id=\"patch_92\">\n    <path clip-path=\"url(#pd7ddce1e2b)\" d=\"M 500.261361 550.8 \nL 505.334099 550.8 \nL 505.334099 550.8 \nL 500.261361 550.8 \nz\n\" style=\"fill:#348abd;\"/>\n   </g>\n   <g id=\"patch_93\">\n    <path clip-path=\"url(#pd7ddce1e2b)\" d=\"M 505.334099 550.8 \nL 510.406817 550.8 \nL 510.406817 550.8 \nL 505.334099 550.8 \nz\n\" style=\"fill:#348abd;\"/>\n   </g>\n   <g id=\"patch_94\">\n    <path clip-path=\"url(#pd7ddce1e2b)\" d=\"M 510.406817 550.8 \nL 515.479536 550.8 \nL 515.479536 550.8 \nL 510.406817 550.8 \nz\n\" style=\"fill:#348abd;\"/>\n   </g>\n   <g id=\"patch_95\">\n    <path clip-path=\"url(#pd7ddce1e2b)\" d=\"M 515.479517 550.8 \nL 520.552255 550.8 \nL 520.552255 550.8 \nL 515.479517 550.8 \nz\n\" style=\"fill:#348abd;\"/>\n   </g>\n   <g id=\"patch_96\">\n    <path clip-path=\"url(#pd7ddce1e2b)\" d=\"M 520.552274 550.8 \nL 525.624993 550.8 \nL 525.624993 550.8 \nL 520.552274 550.8 \nz\n\" style=\"fill:#348abd;\"/>\n   </g>\n   <g id=\"patch_97\">\n    <path clip-path=\"url(#pd7ddce1e2b)\" d=\"M 525.624993 550.8 \nL 530.697731 550.8 \nL 530.697731 536.419048 \nL 525.624993 536.419048 \nz\n\" style=\"fill:#348abd;\"/>\n   </g>\n   <g id=\"patch_98\">\n    <path clip-path=\"url(#pd7ddce1e2b)\" d=\"M 530.697731 550.8 \nL 535.77045 550.8 \nL 535.77045 536.419048 \nL 530.697731 536.419048 \nz\n\" style=\"fill:#348abd;\"/>\n   </g>\n   <g id=\"patch_99\">\n    <path clip-path=\"url(#pd7ddce1e2b)\" d=\"M 535.77043 550.8 \nL 540.843169 550.8 \nL 540.843169 550.8 \nL 535.77043 550.8 \nz\n\" style=\"fill:#348abd;\"/>\n   </g>\n   <g id=\"patch_100\">\n    <path clip-path=\"url(#pd7ddce1e2b)\" d=\"M 540.843188 550.8 \nL 545.915907 550.8 \nL 545.915907 550.8 \nL 540.843188 550.8 \nz\n\" style=\"fill:#348abd;\"/>\n   </g>\n   <g id=\"patch_101\">\n    <path clip-path=\"url(#pd7ddce1e2b)\" d=\"M 545.915907 550.8 \nL 550.988645 550.8 \nL 550.988645 550.8 \nL 545.915907 550.8 \nz\n\" style=\"fill:#348abd;\"/>\n   </g>\n   <g id=\"patch_102\">\n    <path clip-path=\"url(#pd7ddce1e2b)\" d=\"M 550.988645 550.8 \nL 556.061364 550.8 \nL 556.061364 536.419048 \nL 550.988645 536.419048 \nz\n\" style=\"fill:#348abd;\"/>\n   </g>\n   <g id=\"matplotlib.axis_1\">\n    <g id=\"xtick_1\">\n     <g id=\"line2d_1\">\n      <path clip-path=\"url(#pd7ddce1e2b)\" d=\"M 41.615122 550.8 \nL 41.615122 7.2 \n\" style=\"fill:none;stroke:#b2b2b2;stroke-dasharray:1.85,0.8;stroke-dashoffset:0;stroke-width:0.5;\"/>\n     </g>\n     <g id=\"line2d_2\">\n      <defs>\n       <path d=\"M 0 0 \nL 0 -3.5 \n\" id=\"m73a9394291\" style=\"stroke:#ffffff;stroke-width:0.8;\"/>\n      </defs>\n      <g>\n       <use style=\"fill:#ffffff;stroke:#ffffff;stroke-width:0.8;\" x=\"41.615122\" xlink:href=\"#m73a9394291\" y=\"550.8\"/>\n      </g>\n     </g>\n     <g id=\"text_1\">\n      <!-- −3 -->\n      <g style=\"fill:#ffffff;\" transform=\"translate(34.244029 561.898438)scale(0.1 -0.1)\">\n       <defs>\n        <path d=\"M 678 2272 \nL 4684 2272 \nL 4684 1741 \nL 678 1741 \nL 678 2272 \nz\n\" id=\"DejaVuSans-2212\" transform=\"scale(0.015625)\"/>\n        <path d=\"M 2597 2516 \nQ 3050 2419 3304 2112 \nQ 3559 1806 3559 1356 \nQ 3559 666 3084 287 \nQ 2609 -91 1734 -91 \nQ 1441 -91 1130 -33 \nQ 819 25 488 141 \nL 488 750 \nQ 750 597 1062 519 \nQ 1375 441 1716 441 \nQ 2309 441 2620 675 \nQ 2931 909 2931 1356 \nQ 2931 1769 2642 2001 \nQ 2353 2234 1838 2234 \nL 1294 2234 \nL 1294 2753 \nL 1863 2753 \nQ 2328 2753 2575 2939 \nQ 2822 3125 2822 3475 \nQ 2822 3834 2567 4026 \nQ 2313 4219 1838 4219 \nQ 1578 4219 1281 4162 \nQ 984 4106 628 3988 \nL 628 4550 \nQ 988 4650 1302 4700 \nQ 1616 4750 1894 4750 \nQ 2613 4750 3031 4423 \nQ 3450 4097 3450 3541 \nQ 3450 3153 3228 2886 \nQ 3006 2619 2597 2516 \nz\n\" id=\"DejaVuSans-33\" transform=\"scale(0.015625)\"/>\n       </defs>\n       <use xlink:href=\"#DejaVuSans-2212\"/>\n       <use x=\"83.789062\" xlink:href=\"#DejaVuSans-33\"/>\n      </g>\n     </g>\n    </g>\n    <g id=\"xtick_2\">\n     <g id=\"line2d_3\">\n      <path clip-path=\"url(#pd7ddce1e2b)\" d=\"M 123.012745 550.8 \nL 123.012745 7.2 \n\" style=\"fill:none;stroke:#b2b2b2;stroke-dasharray:1.85,0.8;stroke-dashoffset:0;stroke-width:0.5;\"/>\n     </g>\n     <g id=\"line2d_4\">\n      <g>\n       <use style=\"fill:#ffffff;stroke:#ffffff;stroke-width:0.8;\" x=\"123.012745\" xlink:href=\"#m73a9394291\" y=\"550.8\"/>\n      </g>\n     </g>\n     <g id=\"text_2\">\n      <!-- −2 -->\n      <g style=\"fill:#ffffff;\" transform=\"translate(115.641651 561.898438)scale(0.1 -0.1)\">\n       <defs>\n        <path d=\"M 1228 531 \nL 3431 531 \nL 3431 0 \nL 469 0 \nL 469 531 \nQ 828 903 1448 1529 \nQ 2069 2156 2228 2338 \nQ 2531 2678 2651 2914 \nQ 2772 3150 2772 3378 \nQ 2772 3750 2511 3984 \nQ 2250 4219 1831 4219 \nQ 1534 4219 1204 4116 \nQ 875 4013 500 3803 \nL 500 4441 \nQ 881 4594 1212 4672 \nQ 1544 4750 1819 4750 \nQ 2544 4750 2975 4387 \nQ 3406 4025 3406 3419 \nQ 3406 3131 3298 2873 \nQ 3191 2616 2906 2266 \nQ 2828 2175 2409 1742 \nQ 1991 1309 1228 531 \nz\n\" id=\"DejaVuSans-32\" transform=\"scale(0.015625)\"/>\n       </defs>\n       <use xlink:href=\"#DejaVuSans-2212\"/>\n       <use x=\"83.789062\" xlink:href=\"#DejaVuSans-32\"/>\n      </g>\n     </g>\n    </g>\n    <g id=\"xtick_3\">\n     <g id=\"line2d_5\">\n      <path clip-path=\"url(#pd7ddce1e2b)\" d=\"M 204.410367 550.8 \nL 204.410367 7.2 \n\" style=\"fill:none;stroke:#b2b2b2;stroke-dasharray:1.85,0.8;stroke-dashoffset:0;stroke-width:0.5;\"/>\n     </g>\n     <g id=\"line2d_6\">\n      <g>\n       <use style=\"fill:#ffffff;stroke:#ffffff;stroke-width:0.8;\" x=\"204.410367\" xlink:href=\"#m73a9394291\" y=\"550.8\"/>\n      </g>\n     </g>\n     <g id=\"text_3\">\n      <!-- −1 -->\n      <g style=\"fill:#ffffff;\" transform=\"translate(197.039273 561.898438)scale(0.1 -0.1)\">\n       <defs>\n        <path d=\"M 794 531 \nL 1825 531 \nL 1825 4091 \nL 703 3866 \nL 703 4441 \nL 1819 4666 \nL 2450 4666 \nL 2450 531 \nL 3481 531 \nL 3481 0 \nL 794 0 \nL 794 531 \nz\n\" id=\"DejaVuSans-31\" transform=\"scale(0.015625)\"/>\n       </defs>\n       <use xlink:href=\"#DejaVuSans-2212\"/>\n       <use x=\"83.789062\" xlink:href=\"#DejaVuSans-31\"/>\n      </g>\n     </g>\n    </g>\n    <g id=\"xtick_4\">\n     <g id=\"line2d_7\">\n      <path clip-path=\"url(#pd7ddce1e2b)\" d=\"M 285.807989 550.8 \nL 285.807989 7.2 \n\" style=\"fill:none;stroke:#b2b2b2;stroke-dasharray:1.85,0.8;stroke-dashoffset:0;stroke-width:0.5;\"/>\n     </g>\n     <g id=\"line2d_8\">\n      <g>\n       <use style=\"fill:#ffffff;stroke:#ffffff;stroke-width:0.8;\" x=\"285.807989\" xlink:href=\"#m73a9394291\" y=\"550.8\"/>\n      </g>\n     </g>\n     <g id=\"text_4\">\n      <!-- 0 -->\n      <g style=\"fill:#ffffff;\" transform=\"translate(282.626739 561.898438)scale(0.1 -0.1)\">\n       <defs>\n        <path d=\"M 2034 4250 \nQ 1547 4250 1301 3770 \nQ 1056 3291 1056 2328 \nQ 1056 1369 1301 889 \nQ 1547 409 2034 409 \nQ 2525 409 2770 889 \nQ 3016 1369 3016 2328 \nQ 3016 3291 2770 3770 \nQ 2525 4250 2034 4250 \nz\nM 2034 4750 \nQ 2819 4750 3233 4129 \nQ 3647 3509 3647 2328 \nQ 3647 1150 3233 529 \nQ 2819 -91 2034 -91 \nQ 1250 -91 836 529 \nQ 422 1150 422 2328 \nQ 422 3509 836 4129 \nQ 1250 4750 2034 4750 \nz\n\" id=\"DejaVuSans-30\" transform=\"scale(0.015625)\"/>\n       </defs>\n       <use xlink:href=\"#DejaVuSans-30\"/>\n      </g>\n     </g>\n    </g>\n    <g id=\"xtick_5\">\n     <g id=\"line2d_9\">\n      <path clip-path=\"url(#pd7ddce1e2b)\" d=\"M 367.205611 550.8 \nL 367.205611 7.2 \n\" style=\"fill:none;stroke:#b2b2b2;stroke-dasharray:1.85,0.8;stroke-dashoffset:0;stroke-width:0.5;\"/>\n     </g>\n     <g id=\"line2d_10\">\n      <g>\n       <use style=\"fill:#ffffff;stroke:#ffffff;stroke-width:0.8;\" x=\"367.205611\" xlink:href=\"#m73a9394291\" y=\"550.8\"/>\n      </g>\n     </g>\n     <g id=\"text_5\">\n      <!-- 1 -->\n      <g style=\"fill:#ffffff;\" transform=\"translate(364.024361 561.898438)scale(0.1 -0.1)\">\n       <use xlink:href=\"#DejaVuSans-31\"/>\n      </g>\n     </g>\n    </g>\n    <g id=\"xtick_6\">\n     <g id=\"line2d_11\">\n      <path clip-path=\"url(#pd7ddce1e2b)\" d=\"M 448.603234 550.8 \nL 448.603234 7.2 \n\" style=\"fill:none;stroke:#b2b2b2;stroke-dasharray:1.85,0.8;stroke-dashoffset:0;stroke-width:0.5;\"/>\n     </g>\n     <g id=\"line2d_12\">\n      <g>\n       <use style=\"fill:#ffffff;stroke:#ffffff;stroke-width:0.8;\" x=\"448.603234\" xlink:href=\"#m73a9394291\" y=\"550.8\"/>\n      </g>\n     </g>\n     <g id=\"text_6\">\n      <!-- 2 -->\n      <g style=\"fill:#ffffff;\" transform=\"translate(445.421984 561.898438)scale(0.1 -0.1)\">\n       <use xlink:href=\"#DejaVuSans-32\"/>\n      </g>\n     </g>\n    </g>\n    <g id=\"xtick_7\">\n     <g id=\"line2d_13\">\n      <path clip-path=\"url(#pd7ddce1e2b)\" d=\"M 530.000856 550.8 \nL 530.000856 7.2 \n\" style=\"fill:none;stroke:#b2b2b2;stroke-dasharray:1.85,0.8;stroke-dashoffset:0;stroke-width:0.5;\"/>\n     </g>\n     <g id=\"line2d_14\">\n      <g>\n       <use style=\"fill:#ffffff;stroke:#ffffff;stroke-width:0.8;\" x=\"530.000856\" xlink:href=\"#m73a9394291\" y=\"550.8\"/>\n      </g>\n     </g>\n     <g id=\"text_7\">\n      <!-- 3 -->\n      <g style=\"fill:#ffffff;\" transform=\"translate(526.819606 561.898438)scale(0.1 -0.1)\">\n       <use xlink:href=\"#DejaVuSans-33\"/>\n      </g>\n     </g>\n    </g>\n   </g>\n   <g id=\"matplotlib.axis_2\">\n    <g id=\"ytick_1\">\n     <g id=\"line2d_15\">\n      <path clip-path=\"url(#pd7ddce1e2b)\" d=\"M 23.425 550.8 \nL 581.425 550.8 \n\" style=\"fill:none;stroke:#b2b2b2;stroke-dasharray:1.85,0.8;stroke-dashoffset:0;stroke-width:0.5;\"/>\n     </g>\n     <g id=\"line2d_16\">\n      <defs>\n       <path d=\"M 0 0 \nL 3.5 0 \n\" id=\"mce69acbf62\" style=\"stroke:#ffffff;stroke-width:0.8;\"/>\n      </defs>\n      <g>\n       <use style=\"fill:#ffffff;stroke:#ffffff;stroke-width:0.8;\" x=\"23.425\" xlink:href=\"#mce69acbf62\" y=\"550.8\"/>\n      </g>\n     </g>\n     <g id=\"text_8\">\n      <!-- 0 -->\n      <g style=\"fill:#ffffff;\" transform=\"translate(13.5625 554.599219)scale(0.1 -0.1)\">\n       <use xlink:href=\"#DejaVuSans-30\"/>\n      </g>\n     </g>\n    </g>\n    <g id=\"ytick_2\">\n     <g id=\"line2d_17\">\n      <path clip-path=\"url(#pd7ddce1e2b)\" d=\"M 23.425 478.895238 \nL 581.425 478.895238 \n\" style=\"fill:none;stroke:#b2b2b2;stroke-dasharray:1.85,0.8;stroke-dashoffset:0;stroke-width:0.5;\"/>\n     </g>\n     <g id=\"line2d_18\">\n      <g>\n       <use style=\"fill:#ffffff;stroke:#ffffff;stroke-width:0.8;\" x=\"23.425\" xlink:href=\"#mce69acbf62\" y=\"478.895238\"/>\n      </g>\n     </g>\n     <g id=\"text_9\">\n      <!-- 5 -->\n      <g style=\"fill:#ffffff;\" transform=\"translate(13.5625 482.694457)scale(0.1 -0.1)\">\n       <defs>\n        <path d=\"M 691 4666 \nL 3169 4666 \nL 3169 4134 \nL 1269 4134 \nL 1269 2991 \nQ 1406 3038 1543 3061 \nQ 1681 3084 1819 3084 \nQ 2600 3084 3056 2656 \nQ 3513 2228 3513 1497 \nQ 3513 744 3044 326 \nQ 2575 -91 1722 -91 \nQ 1428 -91 1123 -41 \nQ 819 9 494 109 \nL 494 744 \nQ 775 591 1075 516 \nQ 1375 441 1709 441 \nQ 2250 441 2565 725 \nQ 2881 1009 2881 1497 \nQ 2881 1984 2565 2268 \nQ 2250 2553 1709 2553 \nQ 1456 2553 1204 2497 \nQ 953 2441 691 2322 \nL 691 4666 \nz\n\" id=\"DejaVuSans-35\" transform=\"scale(0.015625)\"/>\n       </defs>\n       <use xlink:href=\"#DejaVuSans-35\"/>\n      </g>\n     </g>\n    </g>\n    <g id=\"ytick_3\">\n     <g id=\"line2d_19\">\n      <path clip-path=\"url(#pd7ddce1e2b)\" d=\"M 23.425 406.990476 \nL 581.425 406.990476 \n\" style=\"fill:none;stroke:#b2b2b2;stroke-dasharray:1.85,0.8;stroke-dashoffset:0;stroke-width:0.5;\"/>\n     </g>\n     <g id=\"line2d_20\">\n      <g>\n       <use style=\"fill:#ffffff;stroke:#ffffff;stroke-width:0.8;\" x=\"23.425\" xlink:href=\"#mce69acbf62\" y=\"406.990476\"/>\n      </g>\n     </g>\n     <g id=\"text_10\">\n      <!-- 10 -->\n      <g style=\"fill:#ffffff;\" transform=\"translate(7.2 410.789695)scale(0.1 -0.1)\">\n       <use xlink:href=\"#DejaVuSans-31\"/>\n       <use x=\"63.623047\" xlink:href=\"#DejaVuSans-30\"/>\n      </g>\n     </g>\n    </g>\n    <g id=\"ytick_4\">\n     <g id=\"line2d_21\">\n      <path clip-path=\"url(#pd7ddce1e2b)\" d=\"M 23.425 335.085714 \nL 581.425 335.085714 \n\" style=\"fill:none;stroke:#b2b2b2;stroke-dasharray:1.85,0.8;stroke-dashoffset:0;stroke-width:0.5;\"/>\n     </g>\n     <g id=\"line2d_22\">\n      <g>\n       <use style=\"fill:#ffffff;stroke:#ffffff;stroke-width:0.8;\" x=\"23.425\" xlink:href=\"#mce69acbf62\" y=\"335.085714\"/>\n      </g>\n     </g>\n     <g id=\"text_11\">\n      <!-- 15 -->\n      <g style=\"fill:#ffffff;\" transform=\"translate(7.2 338.884933)scale(0.1 -0.1)\">\n       <use xlink:href=\"#DejaVuSans-31\"/>\n       <use x=\"63.623047\" xlink:href=\"#DejaVuSans-35\"/>\n      </g>\n     </g>\n    </g>\n    <g id=\"ytick_5\">\n     <g id=\"line2d_23\">\n      <path clip-path=\"url(#pd7ddce1e2b)\" d=\"M 23.425 263.180952 \nL 581.425 263.180952 \n\" style=\"fill:none;stroke:#b2b2b2;stroke-dasharray:1.85,0.8;stroke-dashoffset:0;stroke-width:0.5;\"/>\n     </g>\n     <g id=\"line2d_24\">\n      <g>\n       <use style=\"fill:#ffffff;stroke:#ffffff;stroke-width:0.8;\" x=\"23.425\" xlink:href=\"#mce69acbf62\" y=\"263.180952\"/>\n      </g>\n     </g>\n     <g id=\"text_12\">\n      <!-- 20 -->\n      <g style=\"fill:#ffffff;\" transform=\"translate(7.2 266.980171)scale(0.1 -0.1)\">\n       <use xlink:href=\"#DejaVuSans-32\"/>\n       <use x=\"63.623047\" xlink:href=\"#DejaVuSans-30\"/>\n      </g>\n     </g>\n    </g>\n    <g id=\"ytick_6\">\n     <g id=\"line2d_25\">\n      <path clip-path=\"url(#pd7ddce1e2b)\" d=\"M 23.425 191.27619 \nL 581.425 191.27619 \n\" style=\"fill:none;stroke:#b2b2b2;stroke-dasharray:1.85,0.8;stroke-dashoffset:0;stroke-width:0.5;\"/>\n     </g>\n     <g id=\"line2d_26\">\n      <g>\n       <use style=\"fill:#ffffff;stroke:#ffffff;stroke-width:0.8;\" x=\"23.425\" xlink:href=\"#mce69acbf62\" y=\"191.27619\"/>\n      </g>\n     </g>\n     <g id=\"text_13\">\n      <!-- 25 -->\n      <g style=\"fill:#ffffff;\" transform=\"translate(7.2 195.075409)scale(0.1 -0.1)\">\n       <use xlink:href=\"#DejaVuSans-32\"/>\n       <use x=\"63.623047\" xlink:href=\"#DejaVuSans-35\"/>\n      </g>\n     </g>\n    </g>\n    <g id=\"ytick_7\">\n     <g id=\"line2d_27\">\n      <path clip-path=\"url(#pd7ddce1e2b)\" d=\"M 23.425 119.371429 \nL 581.425 119.371429 \n\" style=\"fill:none;stroke:#b2b2b2;stroke-dasharray:1.85,0.8;stroke-dashoffset:0;stroke-width:0.5;\"/>\n     </g>\n     <g id=\"line2d_28\">\n      <g>\n       <use style=\"fill:#ffffff;stroke:#ffffff;stroke-width:0.8;\" x=\"23.425\" xlink:href=\"#mce69acbf62\" y=\"119.371429\"/>\n      </g>\n     </g>\n     <g id=\"text_14\">\n      <!-- 30 -->\n      <g style=\"fill:#ffffff;\" transform=\"translate(7.2 123.170647)scale(0.1 -0.1)\">\n       <use xlink:href=\"#DejaVuSans-33\"/>\n       <use x=\"63.623047\" xlink:href=\"#DejaVuSans-30\"/>\n      </g>\n     </g>\n    </g>\n    <g id=\"ytick_8\">\n     <g id=\"line2d_29\">\n      <path clip-path=\"url(#pd7ddce1e2b)\" d=\"M 23.425 47.466667 \nL 581.425 47.466667 \n\" style=\"fill:none;stroke:#b2b2b2;stroke-dasharray:1.85,0.8;stroke-dashoffset:0;stroke-width:0.5;\"/>\n     </g>\n     <g id=\"line2d_30\">\n      <g>\n       <use style=\"fill:#ffffff;stroke:#ffffff;stroke-width:0.8;\" x=\"23.425\" xlink:href=\"#mce69acbf62\" y=\"47.466667\"/>\n      </g>\n     </g>\n     <g id=\"text_15\">\n      <!-- 35 -->\n      <g style=\"fill:#ffffff;\" transform=\"translate(7.2 51.265885)scale(0.1 -0.1)\">\n       <use xlink:href=\"#DejaVuSans-33\"/>\n       <use x=\"63.623047\" xlink:href=\"#DejaVuSans-35\"/>\n      </g>\n     </g>\n    </g>\n   </g>\n   <g id=\"patch_103\">\n    <path d=\"M 23.425 550.8 \nL 23.425 7.2 \n\" style=\"fill:none;stroke:#bcbcbc;stroke-linecap:square;stroke-linejoin:miter;stroke-width:0.8;\"/>\n   </g>\n   <g id=\"patch_104\">\n    <path d=\"M 581.425 550.8 \nL 581.425 7.2 \n\" style=\"fill:none;stroke:#bcbcbc;stroke-linecap:square;stroke-linejoin:miter;stroke-width:0.8;\"/>\n   </g>\n   <g id=\"patch_105\">\n    <path d=\"M 23.425 550.8 \nL 581.425 550.8 \n\" style=\"fill:none;stroke:#bcbcbc;stroke-linecap:square;stroke-linejoin:miter;stroke-width:0.8;\"/>\n   </g>\n   <g id=\"patch_106\">\n    <path d=\"M 23.425 7.2 \nL 581.425 7.2 \n\" style=\"fill:none;stroke:#bcbcbc;stroke-linecap:square;stroke-linejoin:miter;stroke-width:0.8;\"/>\n   </g>\n  </g>\n </g>\n <defs>\n  <clipPath id=\"pd7ddce1e2b\">\n   <rect height=\"543.6\" width=\"558\" x=\"23.425\" y=\"7.2\"/>\n  </clipPath>\n </defs>\n</svg>\n",
      "image/png": "[encoded data removed]"
     },
     "metadata": {}
    }
   ],
   "metadata": {}
  },
  {
   "cell_type": "code",
   "execution_count": 19,
   "source": [
    "plt.hist(torch.randn(10**6).numpy(), 100); "
   ],
   "outputs": [
    {
     "output_type": "display_data",
     "data": {
      "text/plain": [
       "<Figure size 1000x1000 with 1 Axes>"
      ],
      "image/svg+xml": "<?xml version=\"1.0\" encoding=\"utf-8\" standalone=\"no\"?>\n<!DOCTYPE svg PUBLIC \"-//W3C//DTD SVG 1.1//EN\"\n  \"http://www.w3.org/Graphics/SVG/1.1/DTD/svg11.dtd\">\n<svg height=\"571.178125pt\" version=\"1.1\" viewBox=\"0 0 607.7125 571.178125\" width=\"607.7125pt\" xmlns=\"http://www.w3.org/2000/svg\" xmlns:xlink=\"http://www.w3.org/1999/xlink\">\n <metadata>\n  <rdf:RDF xmlns:cc=\"http://creativecommons.org/ns#\" xmlns:dc=\"http://purl.org/dc/elements/1.1/\" xmlns:rdf=\"http://www.w3.org/1999/02/22-rdf-syntax-ns#\">\n   <cc:Work>\n    <dc:type rdf:resource=\"http://purl.org/dc/dcmitype/StillImage\"/>\n    <dc:date>2021-06-14T10:32:40.260822</dc:date>\n    <dc:format>image/svg+xml</dc:format>\n    <dc:creator>\n     <cc:Agent>\n      <dc:title>Matplotlib v3.4.1, https://matplotlib.org/</dc:title>\n     </cc:Agent>\n    </dc:creator>\n   </cc:Work>\n  </rdf:RDF>\n </metadata>\n <defs>\n  <style type=\"text/css\">*{stroke-linecap:butt;stroke-linejoin:round;}</style>\n </defs>\n <g id=\"figure_1\">\n  <g id=\"patch_1\">\n   <path d=\"M 0 571.178125 \nL 607.7125 571.178125 \nL 607.7125 0 \nL 0 0 \nz\n\"/>\n  </g>\n  <g id=\"axes_1\">\n   <g id=\"patch_2\">\n    <path d=\"M 42.5125 550.8 \nL 600.5125 550.8 \nL 600.5125 7.2 \nL 42.5125 7.2 \nz\n\"/>\n   </g>\n   <g id=\"patch_3\">\n    <path clip-path=\"url(#p1ad53fdbd5)\" d=\"M 67.876136 550.8 \nL 72.948871 550.8 \nL 72.948871 550.758091 \nL 67.876136 550.758091 \nz\n\" style=\"fill:#348abd;\"/>\n   </g>\n   <g id=\"patch_4\">\n    <path clip-path=\"url(#p1ad53fdbd5)\" d=\"M 72.948871 550.8 \nL 78.021579 550.8 \nL 78.021579 550.78603 \nL 72.948871 550.78603 \nz\n\" style=\"fill:#348abd;\"/>\n   </g>\n   <g id=\"patch_5\">\n    <path clip-path=\"url(#p1ad53fdbd5)\" d=\"M 78.021579 550.8 \nL 83.094313 550.8 \nL 83.094313 550.8 \nL 78.021579 550.8 \nz\n\" style=\"fill:#348abd;\"/>\n   </g>\n   <g id=\"patch_6\">\n    <path clip-path=\"url(#p1ad53fdbd5)\" d=\"M 83.094313 550.8 \nL 88.167048 550.8 \nL 88.167048 550.772061 \nL 83.094313 550.772061 \nz\n\" style=\"fill:#348abd;\"/>\n   </g>\n   <g id=\"patch_7\">\n    <path clip-path=\"url(#p1ad53fdbd5)\" d=\"M 88.167048 550.8 \nL 93.239782 550.8 \nL 93.239782 550.646334 \nL 88.167048 550.646334 \nz\n\" style=\"fill:#348abd;\"/>\n   </g>\n   <g id=\"patch_8\">\n    <path clip-path=\"url(#p1ad53fdbd5)\" d=\"M 93.239808 550.8 \nL 98.312516 550.8 \nL 98.312516 550.646334 \nL 93.239808 550.646334 \nz\n\" style=\"fill:#348abd;\"/>\n   </g>\n   <g id=\"patch_9\">\n    <path clip-path=\"url(#p1ad53fdbd5)\" d=\"M 98.312503 550.8 \nL 103.385211 550.8 \nL 103.385211 550.534577 \nL 98.312503 550.534577 \nz\n\" style=\"fill:#348abd;\"/>\n   </g>\n   <g id=\"patch_10\">\n    <path clip-path=\"url(#p1ad53fdbd5)\" d=\"M 103.385224 550.8 \nL 108.457959 550.8 \nL 108.457959 550.492668 \nL 103.385224 550.492668 \nz\n\" style=\"fill:#348abd;\"/>\n   </g>\n   <g id=\"patch_11\">\n    <path clip-path=\"url(#p1ad53fdbd5)\" d=\"M 108.457972 550.8 \nL 113.53068 550.8 \nL 113.53068 550.269154 \nL 108.457972 550.269154 \nz\n\" style=\"fill:#348abd;\"/>\n   </g>\n   <g id=\"patch_12\">\n    <path clip-path=\"url(#p1ad53fdbd5)\" d=\"M 113.53068 550.8 \nL 118.603414 550.8 \nL 118.603414 550.07358 \nL 113.53068 550.07358 \nz\n\" style=\"fill:#348abd;\"/>\n   </g>\n   <g id=\"patch_13\">\n    <path clip-path=\"url(#p1ad53fdbd5)\" d=\"M 118.603414 550.8 \nL 123.676123 550.8 \nL 123.676123 549.361129 \nL 118.603414 549.361129 \nz\n\" style=\"fill:#348abd;\"/>\n   </g>\n   <g id=\"patch_14\">\n    <path clip-path=\"url(#p1ad53fdbd5)\" d=\"M 123.676136 550.8 \nL 128.74887 550.8 \nL 128.74887 549.514795 \nL 123.676136 549.514795 \nz\n\" style=\"fill:#348abd;\"/>\n   </g>\n   <g id=\"patch_15\">\n    <path clip-path=\"url(#p1ad53fdbd5)\" d=\"M 128.748883 550.8 \nL 133.821591 550.8 \nL 133.821591 548.704556 \nL 128.748883 548.704556 \nz\n\" style=\"fill:#348abd;\"/>\n   </g>\n   <g id=\"patch_16\">\n    <path clip-path=\"url(#p1ad53fdbd5)\" d=\"M 133.821591 550.8 \nL 138.894299 550.8 \nL 138.894299 548.173711 \nL 133.821591 548.173711 \nz\n\" style=\"fill:#348abd;\"/>\n   </g>\n   <g id=\"patch_17\">\n    <path clip-path=\"url(#p1ad53fdbd5)\" d=\"M 138.894312 550.8 \nL 143.967047 550.8 \nL 143.967047 546.804687 \nL 138.894312 546.804687 \nz\n\" style=\"fill:#348abd;\"/>\n   </g>\n   <g id=\"patch_18\">\n    <path clip-path=\"url(#p1ad53fdbd5)\" d=\"M 143.96706 550.8 \nL 149.039768 550.8 \nL 149.039768 545.407725 \nL 143.96706 545.407725 \nz\n\" style=\"fill:#348abd;\"/>\n   </g>\n   <g id=\"patch_19\">\n    <path clip-path=\"url(#p1ad53fdbd5)\" d=\"M 149.039768 550.8 \nL 154.112502 550.8 \nL 154.112502 543.912975 \nL 149.039768 543.912975 \nz\n\" style=\"fill:#348abd;\"/>\n   </g>\n   <g id=\"patch_20\">\n    <path clip-path=\"url(#p1ad53fdbd5)\" d=\"M 154.112502 550.8 \nL 159.185211 550.8 \nL 159.185211 541.719744 \nL 154.112502 541.719744 \nz\n\" style=\"fill:#348abd;\"/>\n   </g>\n   <g id=\"patch_21\">\n    <path clip-path=\"url(#p1ad53fdbd5)\" d=\"M 159.185224 550.8 \nL 164.257958 550.8 \nL 164.257958 538.814062 \nL 159.185224 538.814062 \nz\n\" style=\"fill:#348abd;\"/>\n   </g>\n   <g id=\"patch_22\">\n    <path clip-path=\"url(#p1ad53fdbd5)\" d=\"M 164.257971 550.8 \nL 169.330679 550.8 \nL 169.330679 535.307686 \nL 164.257971 535.307686 \nz\n\" style=\"fill:#348abd;\"/>\n   </g>\n   <g id=\"patch_23\">\n    <path clip-path=\"url(#p1ad53fdbd5)\" d=\"M 169.330679 550.8 \nL 174.403414 550.8 \nL 174.403414 532.108642 \nL 169.330679 532.108642 \nz\n\" style=\"fill:#348abd;\"/>\n   </g>\n   <g id=\"patch_24\">\n    <path clip-path=\"url(#p1ad53fdbd5)\" d=\"M 174.403414 550.8 \nL 179.476122 550.8 \nL 179.476122 526.367127 \nL 174.403414 526.367127 \nz\n\" style=\"fill:#348abd;\"/>\n   </g>\n   <g id=\"patch_25\">\n    <path clip-path=\"url(#p1ad53fdbd5)\" d=\"M 179.476135 550.8 \nL 184.548869 550.8 \nL 184.548869 521.589515 \nL 179.476135 521.589515 \nz\n\" style=\"fill:#348abd;\"/>\n   </g>\n   <g id=\"patch_26\">\n    <path clip-path=\"url(#p1ad53fdbd5)\" d=\"M 184.548882 550.8 \nL 189.62159 550.8 \nL 189.62159 513.738586 \nL 184.548882 513.738586 \nz\n\" style=\"fill:#348abd;\"/>\n   </g>\n   <g id=\"patch_27\">\n    <path clip-path=\"url(#p1ad53fdbd5)\" d=\"M 189.62159 550.8 \nL 194.694299 550.8 \nL 194.694299 504.923753 \nL 189.62159 504.923753 \nz\n\" style=\"fill:#348abd;\"/>\n   </g>\n   <g id=\"patch_28\">\n    <path clip-path=\"url(#p1ad53fdbd5)\" d=\"M 194.694312 550.8 \nL 199.767046 550.8 \nL 199.767046 494.055385 \nL 194.694312 494.055385 \nz\n\" style=\"fill:#348abd;\"/>\n   </g>\n   <g id=\"patch_29\">\n    <path clip-path=\"url(#p1ad53fdbd5)\" d=\"M 199.767046 550.8 \nL 204.83978 550.8 \nL 204.83978 483.955347 \nL 199.767046 483.955347 \nz\n\" style=\"fill:#348abd;\"/>\n   </g>\n   <g id=\"patch_30\">\n    <path clip-path=\"url(#p1ad53fdbd5)\" d=\"M 204.839767 550.8 \nL 209.912502 550.8 \nL 209.912502 468.742425 \nL 204.839767 468.742425 \nz\n\" style=\"fill:#348abd;\"/>\n   </g>\n   <g id=\"patch_31\">\n    <path clip-path=\"url(#p1ad53fdbd5)\" d=\"M 209.912502 550.8 \nL 214.985236 550.8 \nL 214.985236 455.16395 \nL 209.912502 455.16395 \nz\n\" style=\"fill:#348abd;\"/>\n   </g>\n   <g id=\"patch_32\">\n    <path clip-path=\"url(#p1ad53fdbd5)\" d=\"M 214.985223 550.8 \nL 220.057957 550.8 \nL 220.057957 436.500532 \nL 214.985223 436.500532 \nz\n\" style=\"fill:#348abd;\"/>\n   </g>\n   <g id=\"patch_33\">\n    <path clip-path=\"url(#p1ad53fdbd5)\" d=\"M 220.057957 550.8 \nL 225.130691 550.8 \nL 225.130691 419.555377 \nL 220.057957 419.555377 \nz\n\" style=\"fill:#348abd;\"/>\n   </g>\n   <g id=\"patch_34\">\n    <path clip-path=\"url(#p1ad53fdbd5)\" d=\"M 225.130691 550.8 \nL 230.2034 550.8 \nL 230.2034 393.180726 \nL 225.130691 393.180726 \nz\n\" style=\"fill:#348abd;\"/>\n   </g>\n   <g id=\"patch_35\">\n    <path clip-path=\"url(#p1ad53fdbd5)\" d=\"M 230.2034 550.8 \nL 235.276134 550.8 \nL 235.276134 368.580217 \nL 230.2034 368.580217 \nz\n\" style=\"fill:#348abd;\"/>\n   </g>\n   <g id=\"patch_36\">\n    <path clip-path=\"url(#p1ad53fdbd5)\" d=\"M 235.276134 550.8 \nL 240.348868 550.8 \nL 240.348868 345.935456 \nL 235.276134 345.935456 \nz\n\" style=\"fill:#348abd;\"/>\n   </g>\n   <g id=\"patch_37\">\n    <path clip-path=\"url(#p1ad53fdbd5)\" d=\"M 240.348855 550.8 \nL 245.42159 550.8 \nL 245.42159 318.946141 \nL 240.348855 318.946141 \nz\n\" style=\"fill:#348abd;\"/>\n   </g>\n   <g id=\"patch_38\">\n    <path clip-path=\"url(#p1ad53fdbd5)\" d=\"M 245.42159 550.8 \nL 250.494324 550.8 \nL 250.494324 290.71353 \nL 245.42159 290.71353 \nz\n\" style=\"fill:#348abd;\"/>\n   </g>\n   <g id=\"patch_39\">\n    <path clip-path=\"url(#p1ad53fdbd5)\" d=\"M 250.494311 550.8 \nL 255.567045 550.8 \nL 255.567045 265.288814 \nL 250.494311 265.288814 \nz\n\" style=\"fill:#348abd;\"/>\n   </g>\n   <g id=\"patch_40\">\n    <path clip-path=\"url(#p1ad53fdbd5)\" d=\"M 255.567045 550.8 \nL 260.639779 550.8 \nL 260.639779 234.471822 \nL 255.567045 234.471822 \nz\n\" style=\"fill:#348abd;\"/>\n   </g>\n   <g id=\"patch_41\">\n    <path clip-path=\"url(#p1ad53fdbd5)\" d=\"M 260.63977 550.8 \nL 265.712504 550.8 \nL 265.712504 205.428972 \nL 260.63977 205.428972 \nz\n\" style=\"fill:#348abd;\"/>\n   </g>\n   <g id=\"patch_42\">\n    <path clip-path=\"url(#p1ad53fdbd5)\" d=\"M 265.712498 550.8 \nL 270.785232 550.8 \nL 270.785232 174.458315 \nL 265.712498 174.458315 \nz\n\" style=\"fill:#348abd;\"/>\n   </g>\n   <g id=\"patch_43\">\n    <path clip-path=\"url(#p1ad53fdbd5)\" d=\"M 270.785222 550.8 \nL 275.857956 550.8 \nL 275.857956 145.108134 \nL 270.785222 145.108134 \nz\n\" style=\"fill:#348abd;\"/>\n   </g>\n   <g id=\"patch_44\">\n    <path clip-path=\"url(#p1ad53fdbd5)\" d=\"M 275.85795 550.8 \nL 280.930684 550.8 \nL 280.930684 124.726451 \nL 275.85795 124.726451 \nz\n\" style=\"fill:#348abd;\"/>\n   </g>\n   <g id=\"patch_45\">\n    <path clip-path=\"url(#p1ad53fdbd5)\" d=\"M 280.930678 550.8 \nL 286.003412 550.8 \nL 286.003412 97.62538 \nL 280.930678 97.62538 \nz\n\" style=\"fill:#348abd;\"/>\n   </g>\n   <g id=\"patch_46\">\n    <path clip-path=\"url(#p1ad53fdbd5)\" d=\"M 286.003405 550.8 \nL 291.07614 550.8 \nL 291.07614 80.819921 \nL 286.003405 80.819921 \nz\n\" style=\"fill:#348abd;\"/>\n   </g>\n   <g id=\"patch_47\">\n    <path clip-path=\"url(#p1ad53fdbd5)\" d=\"M 291.076133 550.8 \nL 296.148868 550.8 \nL 296.148868 60.647784 \nL 291.076133 60.647784 \nz\n\" style=\"fill:#348abd;\"/>\n   </g>\n   <g id=\"patch_48\">\n    <path clip-path=\"url(#p1ad53fdbd5)\" d=\"M 296.148861 550.8 \nL 301.221595 550.8 \nL 301.221595 54.878329 \nL 296.148861 54.878329 \nz\n\" style=\"fill:#348abd;\"/>\n   </g>\n   <g id=\"patch_49\">\n    <path clip-path=\"url(#p1ad53fdbd5)\" d=\"M 301.221587 550.8 \nL 306.294322 550.8 \nL 306.294322 37.234693 \nL 301.221587 37.234693 \nz\n\" style=\"fill:#348abd;\"/>\n   </g>\n   <g id=\"patch_50\">\n    <path clip-path=\"url(#p1ad53fdbd5)\" d=\"M 306.294315 550.8 \nL 311.367049 550.8 \nL 311.367049 35.907578 \nL 306.294315 35.907578 \nz\n\" style=\"fill:#348abd;\"/>\n   </g>\n   <g id=\"patch_51\">\n    <path clip-path=\"url(#p1ad53fdbd5)\" d=\"M 311.367042 550.8 \nL 316.439776 550.8 \nL 316.439776 36.620029 \nL 311.367042 36.620029 \nz\n\" style=\"fill:#348abd;\"/>\n   </g>\n   <g id=\"patch_52\">\n    <path clip-path=\"url(#p1ad53fdbd5)\" d=\"M 316.439769 550.8 \nL 321.512503 550.8 \nL 321.512503 33.085714 \nL 316.439769 33.085714 \nz\n\" style=\"fill:#348abd;\"/>\n   </g>\n   <g id=\"patch_53\">\n    <path clip-path=\"url(#p1ad53fdbd5)\" d=\"M 321.512497 550.8 \nL 326.585231 550.8 \nL 326.585231 46.99946 \nL 321.512497 46.99946 \nz\n\" style=\"fill:#348abd;\"/>\n   </g>\n   <g id=\"patch_54\">\n    <path clip-path=\"url(#p1ad53fdbd5)\" d=\"M 326.585225 550.8 \nL 331.657959 550.8 \nL 331.657959 55.884142 \nL 326.585225 55.884142 \nz\n\" style=\"fill:#348abd;\"/>\n   </g>\n   <g id=\"patch_55\">\n    <path clip-path=\"url(#p1ad53fdbd5)\" d=\"M 331.657951 550.8 \nL 336.730685 550.8 \nL 336.730685 72.801357 \nL 331.657951 72.801357 \nz\n\" style=\"fill:#348abd;\"/>\n   </g>\n   <g id=\"patch_56\">\n    <path clip-path=\"url(#p1ad53fdbd5)\" d=\"M 336.730677 550.8 \nL 341.803411 550.8 \nL 341.803411 91.28317 \nL 336.730677 91.28317 \nz\n\" style=\"fill:#348abd;\"/>\n   </g>\n   <g id=\"patch_57\">\n    <path clip-path=\"url(#p1ad53fdbd5)\" d=\"M 341.803405 550.8 \nL 346.876139 550.8 \nL 346.876139 115.632226 \nL 341.803405 115.632226 \nz\n\" style=\"fill:#348abd;\"/>\n   </g>\n   <g id=\"patch_58\">\n    <path clip-path=\"url(#p1ad53fdbd5)\" d=\"M 346.876132 550.8 \nL 351.948867 550.8 \nL 351.948867 145.275769 \nL 346.876132 145.275769 \nz\n\" style=\"fill:#348abd;\"/>\n   </g>\n   <g id=\"patch_59\">\n    <path clip-path=\"url(#p1ad53fdbd5)\" d=\"M 351.94886 550.8 \nL 357.021595 550.8 \nL 357.021595 165.866996 \nL 351.94886 165.866996 \nz\n\" style=\"fill:#348abd;\"/>\n   </g>\n   <g id=\"patch_60\">\n    <path clip-path=\"url(#p1ad53fdbd5)\" d=\"M 357.021588 550.8 \nL 362.094322 550.8 \nL 362.094322 193.666548 \nL 357.021588 193.666548 \nz\n\" style=\"fill:#348abd;\"/>\n   </g>\n   <g id=\"patch_61\">\n    <path clip-path=\"url(#p1ad53fdbd5)\" d=\"M 362.094316 550.8 \nL 367.16705 550.8 \nL 367.16705 223.310092 \nL 362.094316 223.310092 \nz\n\" style=\"fill:#348abd;\"/>\n   </g>\n   <g id=\"patch_62\">\n    <path clip-path=\"url(#p1ad53fdbd5)\" d=\"M 367.167044 550.8 \nL 372.239778 550.8 \nL 372.239778 253.52639 \nL 367.167044 253.52639 \nz\n\" style=\"fill:#348abd;\"/>\n   </g>\n   <g id=\"patch_63\">\n    <path clip-path=\"url(#p1ad53fdbd5)\" d=\"M 372.239765 550.8 \nL 377.312499 550.8 \nL 377.312499 280.096616 \nL 372.239765 280.096616 \nz\n\" style=\"fill:#348abd;\"/>\n   </g>\n   <g id=\"patch_64\">\n    <path clip-path=\"url(#p1ad53fdbd5)\" d=\"M 377.312499 550.8 \nL 382.385234 550.8 \nL 382.385234 309.810007 \nL 377.312499 309.810007 \nz\n\" style=\"fill:#348abd;\"/>\n   </g>\n   <g id=\"patch_65\">\n    <path clip-path=\"url(#p1ad53fdbd5)\" d=\"M 382.385221 550.8 \nL 387.457955 550.8 \nL 387.457955 337.707347 \nL 382.385221 337.707347 \nz\n\" style=\"fill:#348abd;\"/>\n   </g>\n   <g id=\"patch_66\">\n    <path clip-path=\"url(#p1ad53fdbd5)\" d=\"M 387.457955 550.8 \nL 392.530689 550.8 \nL 392.530689 365.185599 \nL 387.457955 365.185599 \nz\n\" style=\"fill:#348abd;\"/>\n   </g>\n   <g id=\"patch_67\">\n    <path clip-path=\"url(#p1ad53fdbd5)\" d=\"M 392.530676 550.8 \nL 397.60341 550.8 \nL 397.60341 386.154005 \nL 392.530676 386.154005 \nz\n\" style=\"fill:#348abd;\"/>\n   </g>\n   <g id=\"patch_68\">\n    <path clip-path=\"url(#p1ad53fdbd5)\" d=\"M 397.60341 550.8 \nL 402.676145 550.8 \nL 402.676145 408.561283 \nL 397.60341 408.561283 \nz\n\" style=\"fill:#348abd;\"/>\n   </g>\n   <g id=\"patch_69\">\n    <path clip-path=\"url(#p1ad53fdbd5)\" d=\"M 402.676132 550.8 \nL 407.748866 550.8 \nL 407.748866 427.727608 \nL 402.676132 427.727608 \nz\n\" style=\"fill:#348abd;\"/>\n   </g>\n   <g id=\"patch_70\">\n    <path clip-path=\"url(#p1ad53fdbd5)\" d=\"M 407.748866 550.8 \nL 412.8216 550.8 \nL 412.8216 447.159355 \nL 407.748866 447.159355 \nz\n\" style=\"fill:#348abd;\"/>\n   </g>\n   <g id=\"patch_71\">\n    <path clip-path=\"url(#p1ad53fdbd5)\" d=\"M 412.8216 550.8 \nL 417.894309 550.8 \nL 417.894309 464.789022 \nL 412.8216 464.789022 \nz\n\" style=\"fill:#348abd;\"/>\n   </g>\n   <g id=\"patch_72\">\n    <path clip-path=\"url(#p1ad53fdbd5)\" d=\"M 417.894309 550.8 \nL 422.967043 550.8 \nL 422.967043 478.269709 \nL 417.894309 478.269709 \nz\n\" style=\"fill:#348abd;\"/>\n   </g>\n   <g id=\"patch_73\">\n    <path clip-path=\"url(#p1ad53fdbd5)\" d=\"M 422.967043 550.8 \nL 428.039777 550.8 \nL 428.039777 488.453566 \nL 422.967043 488.453566 \nz\n\" style=\"fill:#348abd;\"/>\n   </g>\n   <g id=\"patch_74\">\n    <path clip-path=\"url(#p1ad53fdbd5)\" d=\"M 428.03979 550.8 \nL 433.112498 550.8 \nL 433.112498 502.018071 \nL 428.03979 502.018071 \nz\n\" style=\"fill:#348abd;\"/>\n   </g>\n   <g id=\"patch_75\">\n    <path clip-path=\"url(#p1ad53fdbd5)\" d=\"M 433.112498 550.8 \nL 438.185233 550.8 \nL 438.185233 510.60939 \nL 433.112498 510.60939 \nz\n\" style=\"fill:#348abd;\"/>\n   </g>\n   <g id=\"patch_76\">\n    <path clip-path=\"url(#p1ad53fdbd5)\" d=\"M 438.185233 550.8 \nL 443.257941 550.8 \nL 443.257941 518.977195 \nL 438.185233 518.977195 \nz\n\" style=\"fill:#348abd;\"/>\n   </g>\n   <g id=\"patch_77\">\n    <path clip-path=\"url(#p1ad53fdbd5)\" d=\"M 443.257954 550.8 \nL 448.330688 550.8 \nL 448.330688 525.081921 \nL 443.257954 525.081921 \nz\n\" style=\"fill:#348abd;\"/>\n   </g>\n   <g id=\"patch_78\">\n    <path clip-path=\"url(#p1ad53fdbd5)\" d=\"M 448.330701 550.8 \nL 453.40341 550.8 \nL 453.40341 529.817624 \nL 448.330701 529.817624 \nz\n\" style=\"fill:#348abd;\"/>\n   </g>\n   <g id=\"patch_79\">\n    <path clip-path=\"url(#p1ad53fdbd5)\" d=\"M 453.40341 550.8 \nL 458.476118 550.8 \nL 458.476118 534.860658 \nL 453.40341 534.860658 \nz\n\" style=\"fill:#348abd;\"/>\n   </g>\n   <g id=\"patch_80\">\n    <path clip-path=\"url(#p1ad53fdbd5)\" d=\"M 458.476131 550.8 \nL 463.548865 550.8 \nL 463.548865 537.822219 \nL 458.476131 537.822219 \nz\n\" style=\"fill:#348abd;\"/>\n   </g>\n   <g id=\"patch_81\">\n    <path clip-path=\"url(#p1ad53fdbd5)\" d=\"M 463.548878 550.8 \nL 468.621586 550.8 \nL 468.621586 541.5102 \nL 463.548878 541.5102 \nz\n\" style=\"fill:#348abd;\"/>\n   </g>\n   <g id=\"patch_82\">\n    <path clip-path=\"url(#p1ad53fdbd5)\" d=\"M 468.621586 550.8 \nL 473.694321 550.8 \nL 473.694321 543.144646 \nL 468.621586 543.144646 \nz\n\" style=\"fill:#348abd;\"/>\n   </g>\n   <g id=\"patch_83\">\n    <path clip-path=\"url(#p1ad53fdbd5)\" d=\"M 473.694321 550.8 \nL 478.767029 550.8 \nL 478.767029 545.449634 \nL 473.694321 545.449634 \nz\n\" style=\"fill:#348abd;\"/>\n   </g>\n   <g id=\"patch_84\">\n    <path clip-path=\"url(#p1ad53fdbd5)\" d=\"M 478.767042 550.8 \nL 483.839776 550.8 \nL 483.839776 546.567204 \nL 478.767042 546.567204 \nz\n\" style=\"fill:#348abd;\"/>\n   </g>\n   <g id=\"patch_85\">\n    <path clip-path=\"url(#p1ad53fdbd5)\" d=\"M 483.839789 550.8 \nL 488.912498 550.8 \nL 488.912498 547.614926 \nL 483.839789 547.614926 \nz\n\" style=\"fill:#348abd;\"/>\n   </g>\n   <g id=\"patch_86\">\n    <path clip-path=\"url(#p1ad53fdbd5)\" d=\"M 488.912498 550.8 \nL 493.985232 550.8 \nL 493.985232 548.327376 \nL 488.912498 548.327376 \nz\n\" style=\"fill:#348abd;\"/>\n   </g>\n   <g id=\"patch_87\">\n    <path clip-path=\"url(#p1ad53fdbd5)\" d=\"M 493.985232 550.8 \nL 499.05794 550.8 \nL 499.05794 549.067767 \nL 493.985232 549.067767 \nz\n\" style=\"fill:#348abd;\"/>\n   </g>\n   <g id=\"patch_88\">\n    <path clip-path=\"url(#p1ad53fdbd5)\" d=\"M 499.057953 550.8 \nL 504.130688 550.8 \nL 504.130688 549.430977 \nL 499.057953 549.430977 \nz\n\" style=\"fill:#348abd;\"/>\n   </g>\n   <g id=\"patch_89\">\n    <path clip-path=\"url(#p1ad53fdbd5)\" d=\"M 504.130701 550.8 \nL 509.203409 550.8 \nL 509.203409 549.850066 \nL 504.130701 549.850066 \nz\n\" style=\"fill:#348abd;\"/>\n   </g>\n   <g id=\"patch_90\">\n    <path clip-path=\"url(#p1ad53fdbd5)\" d=\"M 509.203409 550.8 \nL 514.276117 550.8 \nL 514.276117 550.087549 \nL 509.203409 550.087549 \nz\n\" style=\"fill:#348abd;\"/>\n   </g>\n   <g id=\"patch_91\">\n    <path clip-path=\"url(#p1ad53fdbd5)\" d=\"M 514.27613 550.8 \nL 519.348864 550.8 \nL 519.348864 550.380911 \nL 514.27613 550.380911 \nz\n\" style=\"fill:#348abd;\"/>\n   </g>\n   <g id=\"patch_92\">\n    <path clip-path=\"url(#p1ad53fdbd5)\" d=\"M 519.348877 550.8 \nL 524.421586 550.8 \nL 524.421586 550.478699 \nL 519.348877 550.478699 \nz\n\" style=\"fill:#348abd;\"/>\n   </g>\n   <g id=\"patch_93\">\n    <path clip-path=\"url(#p1ad53fdbd5)\" d=\"M 524.421586 550.8 \nL 529.49432 550.8 \nL 529.49432 550.618395 \nL 524.421586 550.618395 \nz\n\" style=\"fill:#348abd;\"/>\n   </g>\n   <g id=\"patch_94\">\n    <path clip-path=\"url(#p1ad53fdbd5)\" d=\"M 529.49432 550.8 \nL 534.567015 550.8 \nL 534.567015 550.590456 \nL 529.49432 550.590456 \nz\n\" style=\"fill:#348abd;\"/>\n   </g>\n   <g id=\"patch_95\">\n    <path clip-path=\"url(#p1ad53fdbd5)\" d=\"M 534.567041 550.8 \nL 539.639776 550.8 \nL 539.639776 550.716182 \nL 534.567041 550.716182 \nz\n\" style=\"fill:#348abd;\"/>\n   </g>\n   <g id=\"patch_96\">\n    <path clip-path=\"url(#p1ad53fdbd5)\" d=\"M 539.639776 550.8 \nL 544.71251 550.8 \nL 544.71251 550.716182 \nL 539.639776 550.716182 \nz\n\" style=\"fill:#348abd;\"/>\n   </g>\n   <g id=\"patch_97\">\n    <path clip-path=\"url(#p1ad53fdbd5)\" d=\"M 544.712536 550.8 \nL 549.785244 550.8 \nL 549.785244 550.716182 \nL 544.712536 550.716182 \nz\n\" style=\"fill:#348abd;\"/>\n   </g>\n   <g id=\"patch_98\">\n    <path clip-path=\"url(#p1ad53fdbd5)\" d=\"M 549.785218 550.8 \nL 554.857952 550.8 \nL 554.857952 550.758091 \nL 549.785218 550.758091 \nz\n\" style=\"fill:#348abd;\"/>\n   </g>\n   <g id=\"patch_99\">\n    <path clip-path=\"url(#p1ad53fdbd5)\" d=\"M 554.857952 550.8 \nL 559.930687 550.8 \nL 559.930687 550.78603 \nL 554.857952 550.78603 \nz\n\" style=\"fill:#348abd;\"/>\n   </g>\n   <g id=\"patch_100\">\n    <path clip-path=\"url(#p1ad53fdbd5)\" d=\"M 559.930687 550.8 \nL 565.003421 550.8 \nL 565.003421 550.78603 \nL 559.930687 550.78603 \nz\n\" style=\"fill:#348abd;\"/>\n   </g>\n   <g id=\"patch_101\">\n    <path clip-path=\"url(#p1ad53fdbd5)\" d=\"M 565.003421 550.8 \nL 570.076129 550.8 \nL 570.076129 550.78603 \nL 565.003421 550.78603 \nz\n\" style=\"fill:#348abd;\"/>\n   </g>\n   <g id=\"patch_102\">\n    <path clip-path=\"url(#p1ad53fdbd5)\" d=\"M 570.076129 550.8 \nL 575.148864 550.8 \nL 575.148864 550.78603 \nL 570.076129 550.78603 \nz\n\" style=\"fill:#348abd;\"/>\n   </g>\n   <g id=\"matplotlib.axis_1\">\n    <g id=\"xtick_1\">\n     <g id=\"line2d_1\">\n      <path clip-path=\"url(#p1ad53fdbd5)\" d=\"M 93.934102 550.8 \nL 93.934102 7.2 \n\" style=\"fill:none;stroke:#b2b2b2;stroke-dasharray:1.85,0.8;stroke-dashoffset:0;stroke-width:0.5;\"/>\n     </g>\n     <g id=\"line2d_2\">\n      <defs>\n       <path d=\"M 0 0 \nL 0 -3.5 \n\" id=\"m503a4b816f\" style=\"stroke:#ffffff;stroke-width:0.8;\"/>\n      </defs>\n      <g>\n       <use style=\"fill:#ffffff;stroke:#ffffff;stroke-width:0.8;\" x=\"93.934102\" xlink:href=\"#m503a4b816f\" y=\"550.8\"/>\n      </g>\n     </g>\n     <g id=\"text_1\">\n      <!-- −4 -->\n      <g style=\"fill:#ffffff;\" transform=\"translate(86.563008 561.898438)scale(0.1 -0.1)\">\n       <defs>\n        <path d=\"M 678 2272 \nL 4684 2272 \nL 4684 1741 \nL 678 1741 \nL 678 2272 \nz\n\" id=\"DejaVuSans-2212\" transform=\"scale(0.015625)\"/>\n        <path d=\"M 2419 4116 \nL 825 1625 \nL 2419 1625 \nL 2419 4116 \nz\nM 2253 4666 \nL 3047 4666 \nL 3047 1625 \nL 3713 1625 \nL 3713 1100 \nL 3047 1100 \nL 3047 0 \nL 2419 0 \nL 2419 1100 \nL 313 1100 \nL 313 1709 \nL 2253 4666 \nz\n\" id=\"DejaVuSans-34\" transform=\"scale(0.015625)\"/>\n       </defs>\n       <use xlink:href=\"#DejaVuSans-2212\"/>\n       <use x=\"83.789062\" xlink:href=\"#DejaVuSans-34\"/>\n      </g>\n     </g>\n    </g>\n    <g id=\"xtick_2\">\n     <g id=\"line2d_3\">\n      <path clip-path=\"url(#p1ad53fdbd5)\" d=\"M 203.09072 550.8 \nL 203.09072 7.2 \n\" style=\"fill:none;stroke:#b2b2b2;stroke-dasharray:1.85,0.8;stroke-dashoffset:0;stroke-width:0.5;\"/>\n     </g>\n     <g id=\"line2d_4\">\n      <g>\n       <use style=\"fill:#ffffff;stroke:#ffffff;stroke-width:0.8;\" x=\"203.09072\" xlink:href=\"#m503a4b816f\" y=\"550.8\"/>\n      </g>\n     </g>\n     <g id=\"text_2\">\n      <!-- −2 -->\n      <g style=\"fill:#ffffff;\" transform=\"translate(195.719627 561.898438)scale(0.1 -0.1)\">\n       <defs>\n        <path d=\"M 1228 531 \nL 3431 531 \nL 3431 0 \nL 469 0 \nL 469 531 \nQ 828 903 1448 1529 \nQ 2069 2156 2228 2338 \nQ 2531 2678 2651 2914 \nQ 2772 3150 2772 3378 \nQ 2772 3750 2511 3984 \nQ 2250 4219 1831 4219 \nQ 1534 4219 1204 4116 \nQ 875 4013 500 3803 \nL 500 4441 \nQ 881 4594 1212 4672 \nQ 1544 4750 1819 4750 \nQ 2544 4750 2975 4387 \nQ 3406 4025 3406 3419 \nQ 3406 3131 3298 2873 \nQ 3191 2616 2906 2266 \nQ 2828 2175 2409 1742 \nQ 1991 1309 1228 531 \nz\n\" id=\"DejaVuSans-32\" transform=\"scale(0.015625)\"/>\n       </defs>\n       <use xlink:href=\"#DejaVuSans-2212\"/>\n       <use x=\"83.789062\" xlink:href=\"#DejaVuSans-32\"/>\n      </g>\n     </g>\n    </g>\n    <g id=\"xtick_3\">\n     <g id=\"line2d_5\">\n      <path clip-path=\"url(#p1ad53fdbd5)\" d=\"M 312.247339 550.8 \nL 312.247339 7.2 \n\" style=\"fill:none;stroke:#b2b2b2;stroke-dasharray:1.85,0.8;stroke-dashoffset:0;stroke-width:0.5;\"/>\n     </g>\n     <g id=\"line2d_6\">\n      <g>\n       <use style=\"fill:#ffffff;stroke:#ffffff;stroke-width:0.8;\" x=\"312.247339\" xlink:href=\"#m503a4b816f\" y=\"550.8\"/>\n      </g>\n     </g>\n     <g id=\"text_3\">\n      <!-- 0 -->\n      <g style=\"fill:#ffffff;\" transform=\"translate(309.066089 561.898438)scale(0.1 -0.1)\">\n       <defs>\n        <path d=\"M 2034 4250 \nQ 1547 4250 1301 3770 \nQ 1056 3291 1056 2328 \nQ 1056 1369 1301 889 \nQ 1547 409 2034 409 \nQ 2525 409 2770 889 \nQ 3016 1369 3016 2328 \nQ 3016 3291 2770 3770 \nQ 2525 4250 2034 4250 \nz\nM 2034 4750 \nQ 2819 4750 3233 4129 \nQ 3647 3509 3647 2328 \nQ 3647 1150 3233 529 \nQ 2819 -91 2034 -91 \nQ 1250 -91 836 529 \nQ 422 1150 422 2328 \nQ 422 3509 836 4129 \nQ 1250 4750 2034 4750 \nz\n\" id=\"DejaVuSans-30\" transform=\"scale(0.015625)\"/>\n       </defs>\n       <use xlink:href=\"#DejaVuSans-30\"/>\n      </g>\n     </g>\n    </g>\n    <g id=\"xtick_4\">\n     <g id=\"line2d_7\">\n      <path clip-path=\"url(#p1ad53fdbd5)\" d=\"M 421.403957 550.8 \nL 421.403957 7.2 \n\" style=\"fill:none;stroke:#b2b2b2;stroke-dasharray:1.85,0.8;stroke-dashoffset:0;stroke-width:0.5;\"/>\n     </g>\n     <g id=\"line2d_8\">\n      <g>\n       <use style=\"fill:#ffffff;stroke:#ffffff;stroke-width:0.8;\" x=\"421.403957\" xlink:href=\"#m503a4b816f\" y=\"550.8\"/>\n      </g>\n     </g>\n     <g id=\"text_4\">\n      <!-- 2 -->\n      <g style=\"fill:#ffffff;\" transform=\"translate(418.222707 561.898438)scale(0.1 -0.1)\">\n       <use xlink:href=\"#DejaVuSans-32\"/>\n      </g>\n     </g>\n    </g>\n    <g id=\"xtick_5\">\n     <g id=\"line2d_9\">\n      <path clip-path=\"url(#p1ad53fdbd5)\" d=\"M 530.560576 550.8 \nL 530.560576 7.2 \n\" style=\"fill:none;stroke:#b2b2b2;stroke-dasharray:1.85,0.8;stroke-dashoffset:0;stroke-width:0.5;\"/>\n     </g>\n     <g id=\"line2d_10\">\n      <g>\n       <use style=\"fill:#ffffff;stroke:#ffffff;stroke-width:0.8;\" x=\"530.560576\" xlink:href=\"#m503a4b816f\" y=\"550.8\"/>\n      </g>\n     </g>\n     <g id=\"text_5\">\n      <!-- 4 -->\n      <g style=\"fill:#ffffff;\" transform=\"translate(527.379326 561.898438)scale(0.1 -0.1)\">\n       <use xlink:href=\"#DejaVuSans-34\"/>\n      </g>\n     </g>\n    </g>\n   </g>\n   <g id=\"matplotlib.axis_2\">\n    <g id=\"ytick_1\">\n     <g id=\"line2d_11\">\n      <path clip-path=\"url(#p1ad53fdbd5)\" d=\"M 42.5125 550.8 \nL 600.5125 550.8 \n\" style=\"fill:none;stroke:#b2b2b2;stroke-dasharray:1.85,0.8;stroke-dashoffset:0;stroke-width:0.5;\"/>\n     </g>\n     <g id=\"line2d_12\">\n      <defs>\n       <path d=\"M 0 0 \nL 3.5 0 \n\" id=\"m078794d264\" style=\"stroke:#ffffff;stroke-width:0.8;\"/>\n      </defs>\n      <g>\n       <use style=\"fill:#ffffff;stroke:#ffffff;stroke-width:0.8;\" x=\"42.5125\" xlink:href=\"#m078794d264\" y=\"550.8\"/>\n      </g>\n     </g>\n     <g id=\"text_6\">\n      <!-- 0 -->\n      <g style=\"fill:#ffffff;\" transform=\"translate(32.65 554.599219)scale(0.1 -0.1)\">\n       <use xlink:href=\"#DejaVuSans-30\"/>\n      </g>\n     </g>\n    </g>\n    <g id=\"ytick_2\">\n     <g id=\"line2d_13\">\n      <path clip-path=\"url(#p1ad53fdbd5)\" d=\"M 42.5125 480.951877 \nL 600.5125 480.951877 \n\" style=\"fill:none;stroke:#b2b2b2;stroke-dasharray:1.85,0.8;stroke-dashoffset:0;stroke-width:0.5;\"/>\n     </g>\n     <g id=\"line2d_14\">\n      <g>\n       <use style=\"fill:#ffffff;stroke:#ffffff;stroke-width:0.8;\" x=\"42.5125\" xlink:href=\"#m078794d264\" y=\"480.951877\"/>\n      </g>\n     </g>\n     <g id=\"text_7\">\n      <!-- 5000 -->\n      <g style=\"fill:#ffffff;\" transform=\"translate(13.5625 484.751096)scale(0.1 -0.1)\">\n       <defs>\n        <path d=\"M 691 4666 \nL 3169 4666 \nL 3169 4134 \nL 1269 4134 \nL 1269 2991 \nQ 1406 3038 1543 3061 \nQ 1681 3084 1819 3084 \nQ 2600 3084 3056 2656 \nQ 3513 2228 3513 1497 \nQ 3513 744 3044 326 \nQ 2575 -91 1722 -91 \nQ 1428 -91 1123 -41 \nQ 819 9 494 109 \nL 494 744 \nQ 775 591 1075 516 \nQ 1375 441 1709 441 \nQ 2250 441 2565 725 \nQ 2881 1009 2881 1497 \nQ 2881 1984 2565 2268 \nQ 2250 2553 1709 2553 \nQ 1456 2553 1204 2497 \nQ 953 2441 691 2322 \nL 691 4666 \nz\n\" id=\"DejaVuSans-35\" transform=\"scale(0.015625)\"/>\n       </defs>\n       <use xlink:href=\"#DejaVuSans-35\"/>\n       <use x=\"63.623047\" xlink:href=\"#DejaVuSans-30\"/>\n       <use x=\"127.246094\" xlink:href=\"#DejaVuSans-30\"/>\n       <use x=\"190.869141\" xlink:href=\"#DejaVuSans-30\"/>\n      </g>\n     </g>\n    </g>\n    <g id=\"ytick_3\">\n     <g id=\"line2d_15\">\n      <path clip-path=\"url(#p1ad53fdbd5)\" d=\"M 42.5125 411.103755 \nL 600.5125 411.103755 \n\" style=\"fill:none;stroke:#b2b2b2;stroke-dasharray:1.85,0.8;stroke-dashoffset:0;stroke-width:0.5;\"/>\n     </g>\n     <g id=\"line2d_16\">\n      <g>\n       <use style=\"fill:#ffffff;stroke:#ffffff;stroke-width:0.8;\" x=\"42.5125\" xlink:href=\"#m078794d264\" y=\"411.103755\"/>\n      </g>\n     </g>\n     <g id=\"text_8\">\n      <!-- 10000 -->\n      <g style=\"fill:#ffffff;\" transform=\"translate(7.2 414.902973)scale(0.1 -0.1)\">\n       <defs>\n        <path d=\"M 794 531 \nL 1825 531 \nL 1825 4091 \nL 703 3866 \nL 703 4441 \nL 1819 4666 \nL 2450 4666 \nL 2450 531 \nL 3481 531 \nL 3481 0 \nL 794 0 \nL 794 531 \nz\n\" id=\"DejaVuSans-31\" transform=\"scale(0.015625)\"/>\n       </defs>\n       <use xlink:href=\"#DejaVuSans-31\"/>\n       <use x=\"63.623047\" xlink:href=\"#DejaVuSans-30\"/>\n       <use x=\"127.246094\" xlink:href=\"#DejaVuSans-30\"/>\n       <use x=\"190.869141\" xlink:href=\"#DejaVuSans-30\"/>\n       <use x=\"254.492188\" xlink:href=\"#DejaVuSans-30\"/>\n      </g>\n     </g>\n    </g>\n    <g id=\"ytick_4\">\n     <g id=\"line2d_17\">\n      <path clip-path=\"url(#p1ad53fdbd5)\" d=\"M 42.5125 341.255632 \nL 600.5125 341.255632 \n\" style=\"fill:none;stroke:#b2b2b2;stroke-dasharray:1.85,0.8;stroke-dashoffset:0;stroke-width:0.5;\"/>\n     </g>\n     <g id=\"line2d_18\">\n      <g>\n       <use style=\"fill:#ffffff;stroke:#ffffff;stroke-width:0.8;\" x=\"42.5125\" xlink:href=\"#m078794d264\" y=\"341.255632\"/>\n      </g>\n     </g>\n     <g id=\"text_9\">\n      <!-- 15000 -->\n      <g style=\"fill:#ffffff;\" transform=\"translate(7.2 345.054851)scale(0.1 -0.1)\">\n       <use xlink:href=\"#DejaVuSans-31\"/>\n       <use x=\"63.623047\" xlink:href=\"#DejaVuSans-35\"/>\n       <use x=\"127.246094\" xlink:href=\"#DejaVuSans-30\"/>\n       <use x=\"190.869141\" xlink:href=\"#DejaVuSans-30\"/>\n       <use x=\"254.492188\" xlink:href=\"#DejaVuSans-30\"/>\n      </g>\n     </g>\n    </g>\n    <g id=\"ytick_5\">\n     <g id=\"line2d_19\">\n      <path clip-path=\"url(#p1ad53fdbd5)\" d=\"M 42.5125 271.407509 \nL 600.5125 271.407509 \n\" style=\"fill:none;stroke:#b2b2b2;stroke-dasharray:1.85,0.8;stroke-dashoffset:0;stroke-width:0.5;\"/>\n     </g>\n     <g id=\"line2d_20\">\n      <g>\n       <use style=\"fill:#ffffff;stroke:#ffffff;stroke-width:0.8;\" x=\"42.5125\" xlink:href=\"#m078794d264\" y=\"271.407509\"/>\n      </g>\n     </g>\n     <g id=\"text_10\">\n      <!-- 20000 -->\n      <g style=\"fill:#ffffff;\" transform=\"translate(7.2 275.206728)scale(0.1 -0.1)\">\n       <use xlink:href=\"#DejaVuSans-32\"/>\n       <use x=\"63.623047\" xlink:href=\"#DejaVuSans-30\"/>\n       <use x=\"127.246094\" xlink:href=\"#DejaVuSans-30\"/>\n       <use x=\"190.869141\" xlink:href=\"#DejaVuSans-30\"/>\n       <use x=\"254.492188\" xlink:href=\"#DejaVuSans-30\"/>\n      </g>\n     </g>\n    </g>\n    <g id=\"ytick_6\">\n     <g id=\"line2d_21\">\n      <path clip-path=\"url(#p1ad53fdbd5)\" d=\"M 42.5125 201.559386 \nL 600.5125 201.559386 \n\" style=\"fill:none;stroke:#b2b2b2;stroke-dasharray:1.85,0.8;stroke-dashoffset:0;stroke-width:0.5;\"/>\n     </g>\n     <g id=\"line2d_22\">\n      <g>\n       <use style=\"fill:#ffffff;stroke:#ffffff;stroke-width:0.8;\" x=\"42.5125\" xlink:href=\"#m078794d264\" y=\"201.559386\"/>\n      </g>\n     </g>\n     <g id=\"text_11\">\n      <!-- 25000 -->\n      <g style=\"fill:#ffffff;\" transform=\"translate(7.2 205.358605)scale(0.1 -0.1)\">\n       <use xlink:href=\"#DejaVuSans-32\"/>\n       <use x=\"63.623047\" xlink:href=\"#DejaVuSans-35\"/>\n       <use x=\"127.246094\" xlink:href=\"#DejaVuSans-30\"/>\n       <use x=\"190.869141\" xlink:href=\"#DejaVuSans-30\"/>\n       <use x=\"254.492188\" xlink:href=\"#DejaVuSans-30\"/>\n      </g>\n     </g>\n    </g>\n    <g id=\"ytick_7\">\n     <g id=\"line2d_23\">\n      <path clip-path=\"url(#p1ad53fdbd5)\" d=\"M 42.5125 131.711264 \nL 600.5125 131.711264 \n\" style=\"fill:none;stroke:#b2b2b2;stroke-dasharray:1.85,0.8;stroke-dashoffset:0;stroke-width:0.5;\"/>\n     </g>\n     <g id=\"line2d_24\">\n      <g>\n       <use style=\"fill:#ffffff;stroke:#ffffff;stroke-width:0.8;\" x=\"42.5125\" xlink:href=\"#m078794d264\" y=\"131.711264\"/>\n      </g>\n     </g>\n     <g id=\"text_12\">\n      <!-- 30000 -->\n      <g style=\"fill:#ffffff;\" transform=\"translate(7.2 135.510482)scale(0.1 -0.1)\">\n       <defs>\n        <path d=\"M 2597 2516 \nQ 3050 2419 3304 2112 \nQ 3559 1806 3559 1356 \nQ 3559 666 3084 287 \nQ 2609 -91 1734 -91 \nQ 1441 -91 1130 -33 \nQ 819 25 488 141 \nL 488 750 \nQ 750 597 1062 519 \nQ 1375 441 1716 441 \nQ 2309 441 2620 675 \nQ 2931 909 2931 1356 \nQ 2931 1769 2642 2001 \nQ 2353 2234 1838 2234 \nL 1294 2234 \nL 1294 2753 \nL 1863 2753 \nQ 2328 2753 2575 2939 \nQ 2822 3125 2822 3475 \nQ 2822 3834 2567 4026 \nQ 2313 4219 1838 4219 \nQ 1578 4219 1281 4162 \nQ 984 4106 628 3988 \nL 628 4550 \nQ 988 4650 1302 4700 \nQ 1616 4750 1894 4750 \nQ 2613 4750 3031 4423 \nQ 3450 4097 3450 3541 \nQ 3450 3153 3228 2886 \nQ 3006 2619 2597 2516 \nz\n\" id=\"DejaVuSans-33\" transform=\"scale(0.015625)\"/>\n       </defs>\n       <use xlink:href=\"#DejaVuSans-33\"/>\n       <use x=\"63.623047\" xlink:href=\"#DejaVuSans-30\"/>\n       <use x=\"127.246094\" xlink:href=\"#DejaVuSans-30\"/>\n       <use x=\"190.869141\" xlink:href=\"#DejaVuSans-30\"/>\n       <use x=\"254.492188\" xlink:href=\"#DejaVuSans-30\"/>\n      </g>\n     </g>\n    </g>\n    <g id=\"ytick_8\">\n     <g id=\"line2d_25\">\n      <path clip-path=\"url(#p1ad53fdbd5)\" d=\"M 42.5125 61.863141 \nL 600.5125 61.863141 \n\" style=\"fill:none;stroke:#b2b2b2;stroke-dasharray:1.85,0.8;stroke-dashoffset:0;stroke-width:0.5;\"/>\n     </g>\n     <g id=\"line2d_26\">\n      <g>\n       <use style=\"fill:#ffffff;stroke:#ffffff;stroke-width:0.8;\" x=\"42.5125\" xlink:href=\"#m078794d264\" y=\"61.863141\"/>\n      </g>\n     </g>\n     <g id=\"text_13\">\n      <!-- 35000 -->\n      <g style=\"fill:#ffffff;\" transform=\"translate(7.2 65.66236)scale(0.1 -0.1)\">\n       <use xlink:href=\"#DejaVuSans-33\"/>\n       <use x=\"63.623047\" xlink:href=\"#DejaVuSans-35\"/>\n       <use x=\"127.246094\" xlink:href=\"#DejaVuSans-30\"/>\n       <use x=\"190.869141\" xlink:href=\"#DejaVuSans-30\"/>\n       <use x=\"254.492188\" xlink:href=\"#DejaVuSans-30\"/>\n      </g>\n     </g>\n    </g>\n   </g>\n   <g id=\"patch_103\">\n    <path d=\"M 42.5125 550.8 \nL 42.5125 7.2 \n\" style=\"fill:none;stroke:#bcbcbc;stroke-linecap:square;stroke-linejoin:miter;stroke-width:0.8;\"/>\n   </g>\n   <g id=\"patch_104\">\n    <path d=\"M 600.5125 550.8 \nL 600.5125 7.2 \n\" style=\"fill:none;stroke:#bcbcbc;stroke-linecap:square;stroke-linejoin:miter;stroke-width:0.8;\"/>\n   </g>\n   <g id=\"patch_105\">\n    <path d=\"M 42.5125 550.8 \nL 600.5125 550.8 \n\" style=\"fill:none;stroke:#bcbcbc;stroke-linecap:square;stroke-linejoin:miter;stroke-width:0.8;\"/>\n   </g>\n   <g id=\"patch_106\">\n    <path d=\"M 42.5125 7.2 \nL 600.5125 7.2 \n\" style=\"fill:none;stroke:#bcbcbc;stroke-linecap:square;stroke-linejoin:miter;stroke-width:0.8;\"/>\n   </g>\n  </g>\n </g>\n <defs>\n  <clipPath id=\"p1ad53fdbd5\">\n   <rect height=\"543.6\" width=\"558\" x=\"42.5125\" y=\"7.2\"/>\n  </clipPath>\n </defs>\n</svg>\n",
      "image/png": "[encoded data removed]"
     },
     "metadata": {}
    }
   ],
   "metadata": {}
  },
  {
   "cell_type": "code",
   "execution_count": 20,
   "source": [
    "plt.hist(torch.rand(10**6).numpy(), 100);"
   ],
   "outputs": [
    {
     "output_type": "display_data",
     "data": {
      "text/plain": [
       "<Figure size 1000x1000 with 1 Axes>"
      ],
      "image/svg+xml": "<?xml version=\"1.0\" encoding=\"utf-8\" standalone=\"no\"?>\n<!DOCTYPE svg PUBLIC \"-//W3C//DTD SVG 1.1//EN\"\n  \"http://www.w3.org/Graphics/SVG/1.1/DTD/svg11.dtd\">\n<svg height=\"571.178125pt\" version=\"1.1\" viewBox=\"0 0 607.7125 571.178125\" width=\"607.7125pt\" xmlns=\"http://www.w3.org/2000/svg\" xmlns:xlink=\"http://www.w3.org/1999/xlink\">\n <metadata>\n  <rdf:RDF xmlns:cc=\"http://creativecommons.org/ns#\" xmlns:dc=\"http://purl.org/dc/elements/1.1/\" xmlns:rdf=\"http://www.w3.org/1999/02/22-rdf-syntax-ns#\">\n   <cc:Work>\n    <dc:type rdf:resource=\"http://purl.org/dc/dcmitype/StillImage\"/>\n    <dc:date>2021-06-14T10:33:10.198818</dc:date>\n    <dc:format>image/svg+xml</dc:format>\n    <dc:creator>\n     <cc:Agent>\n      <dc:title>Matplotlib v3.4.1, https://matplotlib.org/</dc:title>\n     </cc:Agent>\n    </dc:creator>\n   </cc:Work>\n  </rdf:RDF>\n </metadata>\n <defs>\n  <style type=\"text/css\">*{stroke-linecap:butt;stroke-linejoin:round;}</style>\n </defs>\n <g id=\"figure_1\">\n  <g id=\"patch_1\">\n   <path d=\"M 0 571.178125 \nL 607.7125 571.178125 \nL 607.7125 0 \nL 0 0 \nz\n\"/>\n  </g>\n  <g id=\"axes_1\">\n   <g id=\"patch_2\">\n    <path d=\"M 42.5125 550.8 \nL 600.5125 550.8 \nL 600.5125 7.2 \nL 42.5125 7.2 \nz\n\"/>\n   </g>\n   <g id=\"patch_3\">\n    <path clip-path=\"url(#pf126624114)\" d=\"M 67.876136 550.8 \nL 72.948863 550.8 \nL 72.948863 48.037751 \nL 67.876136 48.037751 \nz\n\" style=\"fill:#348abd;\"/>\n   </g>\n   <g id=\"patch_4\">\n    <path clip-path=\"url(#pf126624114)\" d=\"M 72.948863 550.8 \nL 78.021589 550.8 \nL 78.021589 44.602824 \nL 72.948863 44.602824 \nz\n\" style=\"fill:#348abd;\"/>\n   </g>\n   <g id=\"patch_5\">\n    <path clip-path=\"url(#pf126624114)\" d=\"M 78.02159 550.8 \nL 83.094318 550.8 \nL 83.094318 33.590851 \nL 78.02159 33.590851 \nz\n\" style=\"fill:#348abd;\"/>\n   </g>\n   <g id=\"patch_6\">\n    <path clip-path=\"url(#pf126624114)\" d=\"M 83.094317 550.8 \nL 88.167043 550.8 \nL 88.167043 48.340833 \nL 83.094317 48.340833 \nz\n\" style=\"fill:#348abd;\"/>\n   </g>\n   <g id=\"patch_7\">\n    <path clip-path=\"url(#pf126624114)\" d=\"M 88.167045 550.8 \nL 93.239772 550.8 \nL 93.239772 52.836547 \nL 88.167045 52.836547 \nz\n\" style=\"fill:#348abd;\"/>\n   </g>\n   <g id=\"patch_8\">\n    <path clip-path=\"url(#pf126624114)\" d=\"M 93.239772 550.8 \nL 98.3125 550.8 \nL 98.3125 47.987238 \nL 93.239772 47.987238 \nz\n\" style=\"fill:#348abd;\"/>\n   </g>\n   <g id=\"patch_9\">\n    <path clip-path=\"url(#pf126624114)\" d=\"M 98.312498 550.8 \nL 103.385222 550.8 \nL 103.385222 52.17987 \nL 98.312498 52.17987 \nz\n\" style=\"fill:#348abd;\"/>\n   </g>\n   <g id=\"patch_10\">\n    <path clip-path=\"url(#pf126624114)\" d=\"M 103.385225 550.8 \nL 108.457953 550.8 \nL 108.457953 43.036901 \nL 103.385225 43.036901 \nz\n\" style=\"fill:#348abd;\"/>\n   </g>\n   <g id=\"patch_11\">\n    <path clip-path=\"url(#pf126624114)\" d=\"M 108.457953 550.8 \nL 113.530681 550.8 \nL 113.530681 45.158474 \nL 108.457953 45.158474 \nz\n\" style=\"fill:#348abd;\"/>\n   </g>\n   <g id=\"patch_12\">\n    <path clip-path=\"url(#pf126624114)\" d=\"M 113.530681 550.8 \nL 118.603408 550.8 \nL 118.603408 48.441861 \nL 113.530681 48.441861 \nz\n\" style=\"fill:#348abd;\"/>\n   </g>\n   <g id=\"patch_13\">\n    <path clip-path=\"url(#pf126624114)\" d=\"M 118.603408 550.8 \nL 123.676136 550.8 \nL 123.676136 41.369951 \nL 118.603408 41.369951 \nz\n\" style=\"fill:#348abd;\"/>\n   </g>\n   <g id=\"patch_14\">\n    <path clip-path=\"url(#pf126624114)\" d=\"M 123.676136 550.8 \nL 128.748863 550.8 \nL 128.748863 46.572856 \nL 123.676136 46.572856 \nz\n\" style=\"fill:#348abd;\"/>\n   </g>\n   <g id=\"patch_15\">\n    <path clip-path=\"url(#pf126624114)\" d=\"M 128.748859 550.8 \nL 133.82158 550.8 \nL 133.82158 40.309165 \nL 128.748859 40.309165 \nz\n\" style=\"fill:#348abd;\"/>\n   </g>\n   <g id=\"patch_16\">\n    <path clip-path=\"url(#pf126624114)\" d=\"M 133.821587 550.8 \nL 138.894315 550.8 \nL 138.894315 38.541187 \nL 133.821587 38.541187 \nz\n\" style=\"fill:#348abd;\"/>\n   </g>\n   <g id=\"patch_17\">\n    <path clip-path=\"url(#pf126624114)\" d=\"M 138.894315 550.8 \nL 143.967042 550.8 \nL 143.967042 34.651637 \nL 138.894315 34.651637 \nz\n\" style=\"fill:#348abd;\"/>\n   </g>\n   <g id=\"patch_18\">\n    <path clip-path=\"url(#pf126624114)\" d=\"M 143.967042 550.8 \nL 149.03977 550.8 \nL 149.03977 48.037751 \nL 143.967042 48.037751 \nz\n\" style=\"fill:#348abd;\"/>\n   </g>\n   <g id=\"patch_19\">\n    <path clip-path=\"url(#pf126624114)\" d=\"M 149.03977 550.8 \nL 154.112497 550.8 \nL 154.112497 51.62422 \nL 149.03977 51.62422 \nz\n\" style=\"fill:#348abd;\"/>\n   </g>\n   <g id=\"patch_20\">\n    <path clip-path=\"url(#pf126624114)\" d=\"M 154.112497 550.8 \nL 159.185225 550.8 \nL 159.185225 44.55231 \nL 154.112497 44.55231 \nz\n\" style=\"fill:#348abd;\"/>\n   </g>\n   <g id=\"patch_21\">\n    <path clip-path=\"url(#pf126624114)\" d=\"M 159.185225 550.8 \nL 164.257953 550.8 \nL 164.257953 49.199565 \nL 159.185225 49.199565 \nz\n\" style=\"fill:#348abd;\"/>\n   </g>\n   <g id=\"patch_22\">\n    <path clip-path=\"url(#pf126624114)\" d=\"M 164.257953 550.8 \nL 169.33068 550.8 \nL 169.33068 50.664461 \nL 164.257953 50.664461 \nz\n\" style=\"fill:#348abd;\"/>\n   </g>\n   <g id=\"patch_23\">\n    <path clip-path=\"url(#pf126624114)\" d=\"M 169.33068 550.8 \nL 174.403408 550.8 \nL 174.403408 39.652487 \nL 169.33068 39.652487 \nz\n\" style=\"fill:#348abd;\"/>\n   </g>\n   <g id=\"patch_24\">\n    <path clip-path=\"url(#pf126624114)\" d=\"M 174.403408 550.8 \nL 179.476135 550.8 \nL 179.476135 39.753515 \nL 174.403408 39.753515 \nz\n\" style=\"fill:#348abd;\"/>\n   </g>\n   <g id=\"patch_25\">\n    <path clip-path=\"url(#pf126624114)\" d=\"M 179.476135 550.8 \nL 184.548863 550.8 \nL 184.548863 47.936724 \nL 179.476135 47.936724 \nz\n\" style=\"fill:#348abd;\"/>\n   </g>\n   <g id=\"patch_26\">\n    <path clip-path=\"url(#pf126624114)\" d=\"M 184.548863 550.8 \nL 189.62159 550.8 \nL 189.62159 57.938425 \nL 184.548863 57.938425 \nz\n\" style=\"fill:#348abd;\"/>\n   </g>\n   <g id=\"patch_27\">\n    <path clip-path=\"url(#pf126624114)\" d=\"M 189.621598 550.8 \nL 194.694326 550.8 \nL 194.694326 46.067719 \nL 189.621598 46.067719 \nz\n\" style=\"fill:#348abd;\"/>\n   </g>\n   <g id=\"patch_28\">\n    <path clip-path=\"url(#pf126624114)\" d=\"M 194.694326 550.8 \nL 199.767038 550.8 \nL 199.767038 56.271475 \nL 194.694326 56.271475 \nz\n\" style=\"fill:#348abd;\"/>\n   </g>\n   <g id=\"patch_29\">\n    <path clip-path=\"url(#pf126624114)\" d=\"M 199.767038 550.8 \nL 204.839766 550.8 \nL 204.839766 47.785183 \nL 199.767038 47.785183 \nz\n\" style=\"fill:#348abd;\"/>\n   </g>\n   <g id=\"patch_30\">\n    <path clip-path=\"url(#pf126624114)\" d=\"M 204.839766 550.8 \nL 209.912493 550.8 \nL 209.912493 41.723547 \nL 204.839766 41.723547 \nz\n\" style=\"fill:#348abd;\"/>\n   </g>\n   <g id=\"patch_31\">\n    <path clip-path=\"url(#pf126624114)\" d=\"M 209.912493 550.8 \nL 214.985221 550.8 \nL 214.985221 46.825424 \nL 209.912493 46.825424 \nz\n\" style=\"fill:#348abd;\"/>\n   </g>\n   <g id=\"patch_32\">\n    <path clip-path=\"url(#pf126624114)\" d=\"M 214.985221 550.8 \nL 220.057948 550.8 \nL 220.057948 55.917879 \nL 214.985221 55.917879 \nz\n\" style=\"fill:#348abd;\"/>\n   </g>\n   <g id=\"patch_33\">\n    <path clip-path=\"url(#pf126624114)\" d=\"M 220.057948 550.8 \nL 225.130676 550.8 \nL 225.130676 42.733819 \nL 220.057948 42.733819 \nz\n\" style=\"fill:#348abd;\"/>\n   </g>\n   <g id=\"patch_34\">\n    <path clip-path=\"url(#pf126624114)\" d=\"M 225.130676 550.8 \nL 230.203403 550.8 \nL 230.203403 42.127656 \nL 225.130676 42.127656 \nz\n\" style=\"fill:#348abd;\"/>\n   </g>\n   <g id=\"patch_35\">\n    <path clip-path=\"url(#pf126624114)\" d=\"M 230.203403 550.8 \nL 235.276131 550.8 \nL 235.276131 48.744942 \nL 230.203403 48.744942 \nz\n\" style=\"fill:#348abd;\"/>\n   </g>\n   <g id=\"patch_36\">\n    <path clip-path=\"url(#pf126624114)\" d=\"M 235.276131 550.8 \nL 240.348859 550.8 \nL 240.348859 56.726097 \nL 235.276131 56.726097 \nz\n\" style=\"fill:#348abd;\"/>\n   </g>\n   <g id=\"patch_37\">\n    <path clip-path=\"url(#pf126624114)\" d=\"M 240.348859 550.8 \nL 245.421586 550.8 \nL 245.421586 49.755215 \nL 240.348859 49.755215 \nz\n\" style=\"fill:#348abd;\"/>\n   </g>\n   <g id=\"patch_38\">\n    <path clip-path=\"url(#pf126624114)\" d=\"M 245.421586 550.8 \nL 250.494314 550.8 \nL 250.494314 50.664461 \nL 245.421586 50.664461 \nz\n\" style=\"fill:#348abd;\"/>\n   </g>\n   <g id=\"patch_39\">\n    <path clip-path=\"url(#pf126624114)\" d=\"M 250.494314 550.8 \nL 255.567041 550.8 \nL 255.567041 47.532615 \nL 250.494314 47.532615 \nz\n\" style=\"fill:#348abd;\"/>\n   </g>\n   <g id=\"patch_40\">\n    <path clip-path=\"url(#pf126624114)\" d=\"M 255.567041 550.8 \nL 260.639769 550.8 \nL 260.639769 39.096837 \nL 255.567041 39.096837 \nz\n\" style=\"fill:#348abd;\"/>\n   </g>\n   <g id=\"patch_41\">\n    <path clip-path=\"url(#pf126624114)\" d=\"M 260.639769 550.8 \nL 265.712497 550.8 \nL 265.712497 33.085714 \nL 260.639769 33.085714 \nz\n\" style=\"fill:#348abd;\"/>\n   </g>\n   <g id=\"patch_42\">\n    <path clip-path=\"url(#pf126624114)\" d=\"M 265.712497 550.8 \nL 270.785224 550.8 \nL 270.785224 35.207287 \nL 265.712497 35.207287 \nz\n\" style=\"fill:#348abd;\"/>\n   </g>\n   <g id=\"patch_43\">\n    <path clip-path=\"url(#pf126624114)\" d=\"M 270.785224 550.8 \nL 275.857952 550.8 \nL 275.857952 34.853692 \nL 270.785224 34.853692 \nz\n\" style=\"fill:#348abd;\"/>\n   </g>\n   <g id=\"patch_44\">\n    <path clip-path=\"url(#pf126624114)\" d=\"M 275.857952 550.8 \nL 280.930679 550.8 \nL 280.930679 51.270624 \nL 275.857952 51.270624 \nz\n\" style=\"fill:#348abd;\"/>\n   </g>\n   <g id=\"patch_45\">\n    <path clip-path=\"url(#pf126624114)\" d=\"M 280.930679 550.8 \nL 286.003407 550.8 \nL 286.003407 47.684156 \nL 280.930679 47.684156 \nz\n\" style=\"fill:#348abd;\"/>\n   </g>\n   <g id=\"patch_46\">\n    <path clip-path=\"url(#pf126624114)\" d=\"M 286.003407 550.8 \nL 291.076134 550.8 \nL 291.076134 40.511219 \nL 286.003407 40.511219 \nz\n\" style=\"fill:#348abd;\"/>\n   </g>\n   <g id=\"patch_47\">\n    <path clip-path=\"url(#pf126624114)\" d=\"M 291.076134 550.8 \nL 296.148862 550.8 \nL 296.148862 44.451283 \nL 291.076134 44.451283 \nz\n\" style=\"fill:#348abd;\"/>\n   </g>\n   <g id=\"patch_48\">\n    <path clip-path=\"url(#pf126624114)\" d=\"M 296.148862 550.8 \nL 301.22159 550.8 \nL 301.22159 43.946147 \nL 296.148862 43.946147 \nz\n\" style=\"fill:#348abd;\"/>\n   </g>\n   <g id=\"patch_49\">\n    <path clip-path=\"url(#pf126624114)\" d=\"M 301.22159 550.8 \nL 306.294317 550.8 \nL 306.294317 51.725247 \nL 301.22159 51.725247 \nz\n\" style=\"fill:#348abd;\"/>\n   </g>\n   <g id=\"patch_50\">\n    <path clip-path=\"url(#pf126624114)\" d=\"M 306.294317 550.8 \nL 311.367045 550.8 \nL 311.367045 54.149902 \nL 306.294317 54.149902 \nz\n\" style=\"fill:#348abd;\"/>\n   </g>\n   <g id=\"patch_51\">\n    <path clip-path=\"url(#pf126624114)\" d=\"M 311.367045 550.8 \nL 316.439772 550.8 \nL 316.439772 43.592551 \nL 311.367045 43.592551 \nz\n\" style=\"fill:#348abd;\"/>\n   </g>\n   <g id=\"patch_52\">\n    <path clip-path=\"url(#pf126624114)\" d=\"M 316.439787 550.8 \nL 321.512515 550.8 \nL 321.512515 43.845119 \nL 316.439787 43.845119 \nz\n\" style=\"fill:#348abd;\"/>\n   </g>\n   <g id=\"patch_53\">\n    <path clip-path=\"url(#pf126624114)\" d=\"M 321.512515 550.8 \nL 326.585212 550.8 \nL 326.585212 43.087415 \nL 321.512515 43.087415 \nz\n\" style=\"fill:#348abd;\"/>\n   </g>\n   <g id=\"patch_54\">\n    <path clip-path=\"url(#pf126624114)\" d=\"M 326.585212 550.8 \nL 331.65794 550.8 \nL 331.65794 40.056596 \nL 326.585212 40.056596 \nz\n\" style=\"fill:#348abd;\"/>\n   </g>\n   <g id=\"patch_55\">\n    <path clip-path=\"url(#pf126624114)\" d=\"M 331.65794 550.8 \nL 336.730667 550.8 \nL 336.730667 46.825424 \nL 331.65794 46.825424 \nz\n\" style=\"fill:#348abd;\"/>\n   </g>\n   <g id=\"patch_56\">\n    <path clip-path=\"url(#pf126624114)\" d=\"M 336.730667 550.8 \nL 341.803395 550.8 \nL 341.803395 41.268924 \nL 336.730667 41.268924 \nz\n\" style=\"fill:#348abd;\"/>\n   </g>\n   <g id=\"patch_57\">\n    <path clip-path=\"url(#pf126624114)\" d=\"M 341.803395 550.8 \nL 346.876123 550.8 \nL 346.876123 50.816002 \nL 341.803395 50.816002 \nz\n\" style=\"fill:#348abd;\"/>\n   </g>\n   <g id=\"patch_58\">\n    <path clip-path=\"url(#pf126624114)\" d=\"M 346.876123 550.8 \nL 351.94885 550.8 \nL 351.94885 40.410192 \nL 346.876123 40.410192 \nz\n\" style=\"fill:#348abd;\"/>\n   </g>\n   <g id=\"patch_59\">\n    <path clip-path=\"url(#pf126624114)\" d=\"M 351.94885 550.8 \nL 357.021578 550.8 \nL 357.021578 37.732969 \nL 351.94885 37.732969 \nz\n\" style=\"fill:#348abd;\"/>\n   </g>\n   <g id=\"patch_60\">\n    <path clip-path=\"url(#pf126624114)\" d=\"M 357.021578 550.8 \nL 362.094305 550.8 \nL 362.094305 42.077142 \nL 357.021578 42.077142 \nz\n\" style=\"fill:#348abd;\"/>\n   </g>\n   <g id=\"patch_61\">\n    <path clip-path=\"url(#pf126624114)\" d=\"M 362.094305 550.8 \nL 367.167033 550.8 \nL 367.167033 50.361379 \nL 362.094305 50.361379 \nz\n\" style=\"fill:#348abd;\"/>\n   </g>\n   <g id=\"patch_62\">\n    <path clip-path=\"url(#pf126624114)\" d=\"M 367.167033 550.8 \nL 372.239761 550.8 \nL 372.239761 43.491524 \nL 367.167033 43.491524 \nz\n\" style=\"fill:#348abd;\"/>\n   </g>\n   <g id=\"patch_63\">\n    <path clip-path=\"url(#pf126624114)\" d=\"M 372.239761 550.8 \nL 377.312488 550.8 \nL 377.312488 46.269774 \nL 372.239761 46.269774 \nz\n\" style=\"fill:#348abd;\"/>\n   </g>\n   <g id=\"patch_64\">\n    <path clip-path=\"url(#pf126624114)\" d=\"M 377.312488 550.8 \nL 382.385216 550.8 \nL 382.385216 44.703851 \nL 377.312488 44.703851 \nz\n\" style=\"fill:#348abd;\"/>\n   </g>\n   <g id=\"patch_65\">\n    <path clip-path=\"url(#pf126624114)\" d=\"M 382.385216 550.8 \nL 387.457943 550.8 \nL 387.457943 40.915328 \nL 382.385216 40.915328 \nz\n\" style=\"fill:#348abd;\"/>\n   </g>\n   <g id=\"patch_66\">\n    <path clip-path=\"url(#pf126624114)\" d=\"M 387.457943 550.8 \nL 392.530671 550.8 \nL 392.530671 45.461556 \nL 387.457943 45.461556 \nz\n\" style=\"fill:#348abd;\"/>\n   </g>\n   <g id=\"patch_67\">\n    <path clip-path=\"url(#pf126624114)\" d=\"M 392.530671 550.8 \nL 397.603398 550.8 \nL 397.603398 50.361379 \nL 392.530671 50.361379 \nz\n\" style=\"fill:#348abd;\"/>\n   </g>\n   <g id=\"patch_68\">\n    <path clip-path=\"url(#pf126624114)\" d=\"M 397.603398 550.8 \nL 402.676126 550.8 \nL 402.676126 45.057447 \nL 397.603398 45.057447 \nz\n\" style=\"fill:#348abd;\"/>\n   </g>\n   <g id=\"patch_69\">\n    <path clip-path=\"url(#pf126624114)\" d=\"M 402.676126 550.8 \nL 407.748854 550.8 \nL 407.748854 45.461556 \nL 402.676126 45.461556 \nz\n\" style=\"fill:#348abd;\"/>\n   </g>\n   <g id=\"patch_70\">\n    <path clip-path=\"url(#pf126624114)\" d=\"M 407.748854 550.8 \nL 412.821581 550.8 \nL 412.821581 44.653338 \nL 407.748854 44.653338 \nz\n\" style=\"fill:#348abd;\"/>\n   </g>\n   <g id=\"patch_71\">\n    <path clip-path=\"url(#pf126624114)\" d=\"M 412.821581 550.8 \nL 417.894309 550.8 \nL 417.894309 44.754365 \nL 412.821581 44.754365 \nz\n\" style=\"fill:#348abd;\"/>\n   </g>\n   <g id=\"patch_72\">\n    <path clip-path=\"url(#pf126624114)\" d=\"M 417.894309 550.8 \nL 422.967036 550.8 \nL 422.967036 41.925601 \nL 417.894309 41.925601 \nz\n\" style=\"fill:#348abd;\"/>\n   </g>\n   <g id=\"patch_73\">\n    <path clip-path=\"url(#pf126624114)\" d=\"M 422.967036 550.8 \nL 428.039764 550.8 \nL 428.039764 49.553161 \nL 422.967036 49.553161 \nz\n\" style=\"fill:#348abd;\"/>\n   </g>\n   <g id=\"patch_74\">\n    <path clip-path=\"url(#pf126624114)\" d=\"M 428.039764 550.8 \nL 433.112491 550.8 \nL 433.112491 39.55146 \nL 428.039764 39.55146 \nz\n\" style=\"fill:#348abd;\"/>\n   </g>\n   <g id=\"patch_75\">\n    <path clip-path=\"url(#pf126624114)\" d=\"M 433.112491 550.8 \nL 438.185219 550.8 \nL 438.185219 51.119083 \nL 433.112491 51.119083 \nz\n\" style=\"fill:#348abd;\"/>\n   </g>\n   <g id=\"patch_76\">\n    <path clip-path=\"url(#pf126624114)\" d=\"M 438.185219 550.8 \nL 443.257947 550.8 \nL 443.257947 45.461556 \nL 438.185219 45.461556 \nz\n\" style=\"fill:#348abd;\"/>\n   </g>\n   <g id=\"patch_77\">\n    <path clip-path=\"url(#pf126624114)\" d=\"M 443.257947 550.8 \nL 448.330674 550.8 \nL 448.330674 53.695279 \nL 443.257947 53.695279 \nz\n\" style=\"fill:#348abd;\"/>\n   </g>\n   <g id=\"patch_78\">\n    <path clip-path=\"url(#pf126624114)\" d=\"M 448.330674 550.8 \nL 453.403402 550.8 \nL 453.403402 40.157624 \nL 448.330674 40.157624 \nz\n\" style=\"fill:#348abd;\"/>\n   </g>\n   <g id=\"patch_79\">\n    <path clip-path=\"url(#pf126624114)\" d=\"M 453.403402 550.8 \nL 458.476129 550.8 \nL 458.476129 46.572856 \nL 453.403402 46.572856 \nz\n\" style=\"fill:#348abd;\"/>\n   </g>\n   <g id=\"patch_80\">\n    <path clip-path=\"url(#pf126624114)\" d=\"M 458.476129 550.8 \nL 463.548857 550.8 \nL 463.548857 36.066019 \nL 458.476129 36.066019 \nz\n\" style=\"fill:#348abd;\"/>\n   </g>\n   <g id=\"patch_81\">\n    <path clip-path=\"url(#pf126624114)\" d=\"M 463.548857 550.8 \nL 468.621585 550.8 \nL 468.621585 55.816852 \nL 463.548857 55.816852 \nz\n\" style=\"fill:#348abd;\"/>\n   </g>\n   <g id=\"patch_82\">\n    <path clip-path=\"url(#pf126624114)\" d=\"M 468.621585 550.8 \nL 473.694312 550.8 \nL 473.694312 41.824574 \nL 468.621585 41.824574 \nz\n\" style=\"fill:#348abd;\"/>\n   </g>\n   <g id=\"patch_83\">\n    <path clip-path=\"url(#pf126624114)\" d=\"M 473.694312 550.8 \nL 478.76704 550.8 \nL 478.76704 46.572856 \nL 473.694312 46.572856 \nz\n\" style=\"fill:#348abd;\"/>\n   </g>\n   <g id=\"patch_84\">\n    <path clip-path=\"url(#pf126624114)\" d=\"M 478.76704 550.8 \nL 483.839767 550.8 \nL 483.839767 58.140479 \nL 478.76704 58.140479 \nz\n\" style=\"fill:#348abd;\"/>\n   </g>\n   <g id=\"patch_85\">\n    <path clip-path=\"url(#pf126624114)\" d=\"M 483.839767 550.8 \nL 488.912495 550.8 \nL 488.912495 50.411892 \nL 483.839767 50.411892 \nz\n\" style=\"fill:#348abd;\"/>\n   </g>\n   <g id=\"patch_86\">\n    <path clip-path=\"url(#pf126624114)\" d=\"M 488.912495 550.8 \nL 493.985222 550.8 \nL 493.985222 44.804879 \nL 488.912495 44.804879 \nz\n\" style=\"fill:#348abd;\"/>\n   </g>\n   <g id=\"patch_87\">\n    <path clip-path=\"url(#pf126624114)\" d=\"M 493.985222 550.8 \nL 499.05795 550.8 \nL 499.05795 35.560883 \nL 493.985222 35.560883 \nz\n\" style=\"fill:#348abd;\"/>\n   </g>\n   <g id=\"patch_88\">\n    <path clip-path=\"url(#pf126624114)\" d=\"M 499.05795 550.8 \nL 504.130678 550.8 \nL 504.130678 53.745793 \nL 499.05795 53.745793 \nz\n\" style=\"fill:#348abd;\"/>\n   </g>\n   <g id=\"patch_89\">\n    <path clip-path=\"url(#pf126624114)\" d=\"M 504.130678 550.8 \nL 509.203405 550.8 \nL 509.203405 45.916179 \nL 504.130678 45.916179 \nz\n\" style=\"fill:#348abd;\"/>\n   </g>\n   <g id=\"patch_90\">\n    <path clip-path=\"url(#pf126624114)\" d=\"M 509.203405 550.8 \nL 514.276133 550.8 \nL 514.276133 54.40247 \nL 509.203405 54.40247 \nz\n\" style=\"fill:#348abd;\"/>\n   </g>\n   <g id=\"patch_91\">\n    <path clip-path=\"url(#pf126624114)\" d=\"M 514.276133 550.8 \nL 519.34886 550.8 \nL 519.34886 37.530915 \nL 514.276133 37.530915 \nz\n\" style=\"fill:#348abd;\"/>\n   </g>\n   <g id=\"patch_92\">\n    <path clip-path=\"url(#pf126624114)\" d=\"M 519.34886 550.8 \nL 524.421588 550.8 \nL 524.421588 48.037751 \nL 519.34886 48.037751 \nz\n\" style=\"fill:#348abd;\"/>\n   </g>\n   <g id=\"patch_93\">\n    <path clip-path=\"url(#pf126624114)\" d=\"M 524.421588 550.8 \nL 529.494315 550.8 \nL 529.494315 48.795456 \nL 524.421588 48.795456 \nz\n\" style=\"fill:#348abd;\"/>\n   </g>\n   <g id=\"patch_94\">\n    <path clip-path=\"url(#pf126624114)\" d=\"M 529.494315 550.8 \nL 534.567043 550.8 \nL 534.567043 50.51292 \nL 529.494315 50.51292 \nz\n\" style=\"fill:#348abd;\"/>\n   </g>\n   <g id=\"patch_95\">\n    <path clip-path=\"url(#pf126624114)\" d=\"M 534.567043 550.8 \nL 539.639771 550.8 \nL 539.639771 35.358828 \nL 534.567043 35.358828 \nz\n\" style=\"fill:#348abd;\"/>\n   </g>\n   <g id=\"patch_96\">\n    <path clip-path=\"url(#pf126624114)\" d=\"M 539.639771 550.8 \nL 544.712498 550.8 \nL 544.712498 45.006933 \nL 539.639771 45.006933 \nz\n\" style=\"fill:#348abd;\"/>\n   </g>\n   <g id=\"patch_97\">\n    <path clip-path=\"url(#pf126624114)\" d=\"M 544.712498 550.8 \nL 549.785226 550.8 \nL 549.785226 45.10796 \nL 544.712498 45.10796 \nz\n\" style=\"fill:#348abd;\"/>\n   </g>\n   <g id=\"patch_98\">\n    <path clip-path=\"url(#pf126624114)\" d=\"M 549.785226 550.8 \nL 554.857953 550.8 \nL 554.857953 52.280897 \nL 549.785226 52.280897 \nz\n\" style=\"fill:#348abd;\"/>\n   </g>\n   <g id=\"patch_99\">\n    <path clip-path=\"url(#pf126624114)\" d=\"M 554.857953 550.8 \nL 559.930681 550.8 \nL 559.930681 45.66361 \nL 554.857953 45.66361 \nz\n\" style=\"fill:#348abd;\"/>\n   </g>\n   <g id=\"patch_100\">\n    <path clip-path=\"url(#pf126624114)\" d=\"M 559.930681 550.8 \nL 565.003408 550.8 \nL 565.003408 37.177319 \nL 559.930681 37.177319 \nz\n\" style=\"fill:#348abd;\"/>\n   </g>\n   <g id=\"patch_101\">\n    <path clip-path=\"url(#pf126624114)\" d=\"M 565.003408 550.8 \nL 570.076136 550.8 \nL 570.076136 44.047174 \nL 565.003408 44.047174 \nz\n\" style=\"fill:#348abd;\"/>\n   </g>\n   <g id=\"patch_102\">\n    <path clip-path=\"url(#pf126624114)\" d=\"M 570.076136 550.8 \nL 575.148864 550.8 \nL 575.148864 50.462406 \nL 570.076136 50.462406 \nz\n\" style=\"fill:#348abd;\"/>\n   </g>\n   <g id=\"matplotlib.axis_1\">\n    <g id=\"xtick_1\">\n     <g id=\"line2d_1\">\n      <path clip-path=\"url(#pf126624114)\" d=\"M 67.875834 550.8 \nL 67.875834 7.2 \n\" style=\"fill:none;stroke:#b2b2b2;stroke-dasharray:1.85,0.8;stroke-dashoffset:0;stroke-width:0.5;\"/>\n     </g>\n     <g id=\"line2d_2\">\n      <defs>\n       <path d=\"M 0 0 \nL 0 -3.5 \n\" id=\"meabf8ddedb\" style=\"stroke:#ffffff;stroke-width:0.8;\"/>\n      </defs>\n      <g>\n       <use style=\"fill:#ffffff;stroke:#ffffff;stroke-width:0.8;\" x=\"67.875834\" xlink:href=\"#meabf8ddedb\" y=\"550.8\"/>\n      </g>\n     </g>\n     <g id=\"text_1\">\n      <!-- 0.0 -->\n      <g style=\"fill:#ffffff;\" transform=\"translate(59.924271 561.898438)scale(0.1 -0.1)\">\n       <defs>\n        <path d=\"M 2034 4250 \nQ 1547 4250 1301 3770 \nQ 1056 3291 1056 2328 \nQ 1056 1369 1301 889 \nQ 1547 409 2034 409 \nQ 2525 409 2770 889 \nQ 3016 1369 3016 2328 \nQ 3016 3291 2770 3770 \nQ 2525 4250 2034 4250 \nz\nM 2034 4750 \nQ 2819 4750 3233 4129 \nQ 3647 3509 3647 2328 \nQ 3647 1150 3233 529 \nQ 2819 -91 2034 -91 \nQ 1250 -91 836 529 \nQ 422 1150 422 2328 \nQ 422 3509 836 4129 \nQ 1250 4750 2034 4750 \nz\n\" id=\"DejaVuSans-30\" transform=\"scale(0.015625)\"/>\n        <path d=\"M 684 794 \nL 1344 794 \nL 1344 0 \nL 684 0 \nL 684 794 \nz\n\" id=\"DejaVuSans-2e\" transform=\"scale(0.015625)\"/>\n       </defs>\n       <use xlink:href=\"#DejaVuSans-30\"/>\n       <use x=\"63.623047\" xlink:href=\"#DejaVuSans-2e\"/>\n       <use x=\"95.410156\" xlink:href=\"#DejaVuSans-30\"/>\n      </g>\n     </g>\n    </g>\n    <g id=\"xtick_2\">\n     <g id=\"line2d_3\">\n      <path clip-path=\"url(#pf126624114)\" d=\"M 169.330482 550.8 \nL 169.330482 7.2 \n\" style=\"fill:none;stroke:#b2b2b2;stroke-dasharray:1.85,0.8;stroke-dashoffset:0;stroke-width:0.5;\"/>\n     </g>\n     <g id=\"line2d_4\">\n      <g>\n       <use style=\"fill:#ffffff;stroke:#ffffff;stroke-width:0.8;\" x=\"169.330482\" xlink:href=\"#meabf8ddedb\" y=\"550.8\"/>\n      </g>\n     </g>\n     <g id=\"text_2\">\n      <!-- 0.2 -->\n      <g style=\"fill:#ffffff;\" transform=\"translate(161.37892 561.898438)scale(0.1 -0.1)\">\n       <defs>\n        <path d=\"M 1228 531 \nL 3431 531 \nL 3431 0 \nL 469 0 \nL 469 531 \nQ 828 903 1448 1529 \nQ 2069 2156 2228 2338 \nQ 2531 2678 2651 2914 \nQ 2772 3150 2772 3378 \nQ 2772 3750 2511 3984 \nQ 2250 4219 1831 4219 \nQ 1534 4219 1204 4116 \nQ 875 4013 500 3803 \nL 500 4441 \nQ 881 4594 1212 4672 \nQ 1544 4750 1819 4750 \nQ 2544 4750 2975 4387 \nQ 3406 4025 3406 3419 \nQ 3406 3131 3298 2873 \nQ 3191 2616 2906 2266 \nQ 2828 2175 2409 1742 \nQ 1991 1309 1228 531 \nz\n\" id=\"DejaVuSans-32\" transform=\"scale(0.015625)\"/>\n       </defs>\n       <use xlink:href=\"#DejaVuSans-30\"/>\n       <use x=\"63.623047\" xlink:href=\"#DejaVuSans-2e\"/>\n       <use x=\"95.410156\" xlink:href=\"#DejaVuSans-32\"/>\n      </g>\n     </g>\n    </g>\n    <g id=\"xtick_3\">\n     <g id=\"line2d_5\">\n      <path clip-path=\"url(#pf126624114)\" d=\"M 270.78513 550.8 \nL 270.78513 7.2 \n\" style=\"fill:none;stroke:#b2b2b2;stroke-dasharray:1.85,0.8;stroke-dashoffset:0;stroke-width:0.5;\"/>\n     </g>\n     <g id=\"line2d_6\">\n      <g>\n       <use style=\"fill:#ffffff;stroke:#ffffff;stroke-width:0.8;\" x=\"270.78513\" xlink:href=\"#meabf8ddedb\" y=\"550.8\"/>\n      </g>\n     </g>\n     <g id=\"text_3\">\n      <!-- 0.4 -->\n      <g style=\"fill:#ffffff;\" transform=\"translate(262.833568 561.898438)scale(0.1 -0.1)\">\n       <defs>\n        <path d=\"M 2419 4116 \nL 825 1625 \nL 2419 1625 \nL 2419 4116 \nz\nM 2253 4666 \nL 3047 4666 \nL 3047 1625 \nL 3713 1625 \nL 3713 1100 \nL 3047 1100 \nL 3047 0 \nL 2419 0 \nL 2419 1100 \nL 313 1100 \nL 313 1709 \nL 2253 4666 \nz\n\" id=\"DejaVuSans-34\" transform=\"scale(0.015625)\"/>\n       </defs>\n       <use xlink:href=\"#DejaVuSans-30\"/>\n       <use x=\"63.623047\" xlink:href=\"#DejaVuSans-2e\"/>\n       <use x=\"95.410156\" xlink:href=\"#DejaVuSans-34\"/>\n      </g>\n     </g>\n    </g>\n    <g id=\"xtick_4\">\n     <g id=\"line2d_7\">\n      <path clip-path=\"url(#pf126624114)\" d=\"M 372.239779 550.8 \nL 372.239779 7.2 \n\" style=\"fill:none;stroke:#b2b2b2;stroke-dasharray:1.85,0.8;stroke-dashoffset:0;stroke-width:0.5;\"/>\n     </g>\n     <g id=\"line2d_8\">\n      <g>\n       <use style=\"fill:#ffffff;stroke:#ffffff;stroke-width:0.8;\" x=\"372.239779\" xlink:href=\"#meabf8ddedb\" y=\"550.8\"/>\n      </g>\n     </g>\n     <g id=\"text_4\">\n      <!-- 0.6 -->\n      <g style=\"fill:#ffffff;\" transform=\"translate(364.288216 561.898438)scale(0.1 -0.1)\">\n       <defs>\n        <path d=\"M 2113 2584 \nQ 1688 2584 1439 2293 \nQ 1191 2003 1191 1497 \nQ 1191 994 1439 701 \nQ 1688 409 2113 409 \nQ 2538 409 2786 701 \nQ 3034 994 3034 1497 \nQ 3034 2003 2786 2293 \nQ 2538 2584 2113 2584 \nz\nM 3366 4563 \nL 3366 3988 \nQ 3128 4100 2886 4159 \nQ 2644 4219 2406 4219 \nQ 1781 4219 1451 3797 \nQ 1122 3375 1075 2522 \nQ 1259 2794 1537 2939 \nQ 1816 3084 2150 3084 \nQ 2853 3084 3261 2657 \nQ 3669 2231 3669 1497 \nQ 3669 778 3244 343 \nQ 2819 -91 2113 -91 \nQ 1303 -91 875 529 \nQ 447 1150 447 2328 \nQ 447 3434 972 4092 \nQ 1497 4750 2381 4750 \nQ 2619 4750 2861 4703 \nQ 3103 4656 3366 4563 \nz\n\" id=\"DejaVuSans-36\" transform=\"scale(0.015625)\"/>\n       </defs>\n       <use xlink:href=\"#DejaVuSans-30\"/>\n       <use x=\"63.623047\" xlink:href=\"#DejaVuSans-2e\"/>\n       <use x=\"95.410156\" xlink:href=\"#DejaVuSans-36\"/>\n      </g>\n     </g>\n    </g>\n    <g id=\"xtick_5\">\n     <g id=\"line2d_9\">\n      <path clip-path=\"url(#pf126624114)\" d=\"M 473.694427 550.8 \nL 473.694427 7.2 \n\" style=\"fill:none;stroke:#b2b2b2;stroke-dasharray:1.85,0.8;stroke-dashoffset:0;stroke-width:0.5;\"/>\n     </g>\n     <g id=\"line2d_10\">\n      <g>\n       <use style=\"fill:#ffffff;stroke:#ffffff;stroke-width:0.8;\" x=\"473.694427\" xlink:href=\"#meabf8ddedb\" y=\"550.8\"/>\n      </g>\n     </g>\n     <g id=\"text_5\">\n      <!-- 0.8 -->\n      <g style=\"fill:#ffffff;\" transform=\"translate(465.742864 561.898438)scale(0.1 -0.1)\">\n       <defs>\n        <path d=\"M 2034 2216 \nQ 1584 2216 1326 1975 \nQ 1069 1734 1069 1313 \nQ 1069 891 1326 650 \nQ 1584 409 2034 409 \nQ 2484 409 2743 651 \nQ 3003 894 3003 1313 \nQ 3003 1734 2745 1975 \nQ 2488 2216 2034 2216 \nz\nM 1403 2484 \nQ 997 2584 770 2862 \nQ 544 3141 544 3541 \nQ 544 4100 942 4425 \nQ 1341 4750 2034 4750 \nQ 2731 4750 3128 4425 \nQ 3525 4100 3525 3541 \nQ 3525 3141 3298 2862 \nQ 3072 2584 2669 2484 \nQ 3125 2378 3379 2068 \nQ 3634 1759 3634 1313 \nQ 3634 634 3220 271 \nQ 2806 -91 2034 -91 \nQ 1263 -91 848 271 \nQ 434 634 434 1313 \nQ 434 1759 690 2068 \nQ 947 2378 1403 2484 \nz\nM 1172 3481 \nQ 1172 3119 1398 2916 \nQ 1625 2713 2034 2713 \nQ 2441 2713 2670 2916 \nQ 2900 3119 2900 3481 \nQ 2900 3844 2670 4047 \nQ 2441 4250 2034 4250 \nQ 1625 4250 1398 4047 \nQ 1172 3844 1172 3481 \nz\n\" id=\"DejaVuSans-38\" transform=\"scale(0.015625)\"/>\n       </defs>\n       <use xlink:href=\"#DejaVuSans-30\"/>\n       <use x=\"63.623047\" xlink:href=\"#DejaVuSans-2e\"/>\n       <use x=\"95.410156\" xlink:href=\"#DejaVuSans-38\"/>\n      </g>\n     </g>\n    </g>\n    <g id=\"xtick_6\">\n     <g id=\"line2d_11\">\n      <path clip-path=\"url(#pf126624114)\" d=\"M 575.149075 550.8 \nL 575.149075 7.2 \n\" style=\"fill:none;stroke:#b2b2b2;stroke-dasharray:1.85,0.8;stroke-dashoffset:0;stroke-width:0.5;\"/>\n     </g>\n     <g id=\"line2d_12\">\n      <g>\n       <use style=\"fill:#ffffff;stroke:#ffffff;stroke-width:0.8;\" x=\"575.149075\" xlink:href=\"#meabf8ddedb\" y=\"550.8\"/>\n      </g>\n     </g>\n     <g id=\"text_6\">\n      <!-- 1.0 -->\n      <g style=\"fill:#ffffff;\" transform=\"translate(567.197513 561.898438)scale(0.1 -0.1)\">\n       <defs>\n        <path d=\"M 794 531 \nL 1825 531 \nL 1825 4091 \nL 703 3866 \nL 703 4441 \nL 1819 4666 \nL 2450 4666 \nL 2450 531 \nL 3481 531 \nL 3481 0 \nL 794 0 \nL 794 531 \nz\n\" id=\"DejaVuSans-31\" transform=\"scale(0.015625)\"/>\n       </defs>\n       <use xlink:href=\"#DejaVuSans-31\"/>\n       <use x=\"63.623047\" xlink:href=\"#DejaVuSans-2e\"/>\n       <use x=\"95.410156\" xlink:href=\"#DejaVuSans-30\"/>\n      </g>\n     </g>\n    </g>\n   </g>\n   <g id=\"matplotlib.axis_2\">\n    <g id=\"ytick_1\">\n     <g id=\"line2d_13\">\n      <path clip-path=\"url(#pf126624114)\" d=\"M 42.5125 550.8 \nL 600.5125 550.8 \n\" style=\"fill:none;stroke:#b2b2b2;stroke-dasharray:1.85,0.8;stroke-dashoffset:0;stroke-width:0.5;\"/>\n     </g>\n     <g id=\"line2d_14\">\n      <defs>\n       <path d=\"M 0 0 \nL 3.5 0 \n\" id=\"m0b4bc372ec\" style=\"stroke:#ffffff;stroke-width:0.8;\"/>\n      </defs>\n      <g>\n       <use style=\"fill:#ffffff;stroke:#ffffff;stroke-width:0.8;\" x=\"42.5125\" xlink:href=\"#m0b4bc372ec\" y=\"550.8\"/>\n      </g>\n     </g>\n     <g id=\"text_7\">\n      <!-- 0 -->\n      <g style=\"fill:#ffffff;\" transform=\"translate(32.65 554.599219)scale(0.1 -0.1)\">\n       <use xlink:href=\"#DejaVuSans-30\"/>\n      </g>\n     </g>\n    </g>\n    <g id=\"ytick_2\">\n     <g id=\"line2d_15\">\n      <path clip-path=\"url(#pf126624114)\" d=\"M 42.5125 449.772722 \nL 600.5125 449.772722 \n\" style=\"fill:none;stroke:#b2b2b2;stroke-dasharray:1.85,0.8;stroke-dashoffset:0;stroke-width:0.5;\"/>\n     </g>\n     <g id=\"line2d_16\">\n      <g>\n       <use style=\"fill:#ffffff;stroke:#ffffff;stroke-width:0.8;\" x=\"42.5125\" xlink:href=\"#m0b4bc372ec\" y=\"449.772722\"/>\n      </g>\n     </g>\n     <g id=\"text_8\">\n      <!-- 2000 -->\n      <g style=\"fill:#ffffff;\" transform=\"translate(13.5625 453.571941)scale(0.1 -0.1)\">\n       <use xlink:href=\"#DejaVuSans-32\"/>\n       <use x=\"63.623047\" xlink:href=\"#DejaVuSans-30\"/>\n       <use x=\"127.246094\" xlink:href=\"#DejaVuSans-30\"/>\n       <use x=\"190.869141\" xlink:href=\"#DejaVuSans-30\"/>\n      </g>\n     </g>\n    </g>\n    <g id=\"ytick_3\">\n     <g id=\"line2d_17\">\n      <path clip-path=\"url(#pf126624114)\" d=\"M 42.5125 348.745444 \nL 600.5125 348.745444 \n\" style=\"fill:none;stroke:#b2b2b2;stroke-dasharray:1.85,0.8;stroke-dashoffset:0;stroke-width:0.5;\"/>\n     </g>\n     <g id=\"line2d_18\">\n      <g>\n       <use style=\"fill:#ffffff;stroke:#ffffff;stroke-width:0.8;\" x=\"42.5125\" xlink:href=\"#m0b4bc372ec\" y=\"348.745444\"/>\n      </g>\n     </g>\n     <g id=\"text_9\">\n      <!-- 4000 -->\n      <g style=\"fill:#ffffff;\" transform=\"translate(13.5625 352.544663)scale(0.1 -0.1)\">\n       <use xlink:href=\"#DejaVuSans-34\"/>\n       <use x=\"63.623047\" xlink:href=\"#DejaVuSans-30\"/>\n       <use x=\"127.246094\" xlink:href=\"#DejaVuSans-30\"/>\n       <use x=\"190.869141\" xlink:href=\"#DejaVuSans-30\"/>\n      </g>\n     </g>\n    </g>\n    <g id=\"ytick_4\">\n     <g id=\"line2d_19\">\n      <path clip-path=\"url(#pf126624114)\" d=\"M 42.5125 247.718166 \nL 600.5125 247.718166 \n\" style=\"fill:none;stroke:#b2b2b2;stroke-dasharray:1.85,0.8;stroke-dashoffset:0;stroke-width:0.5;\"/>\n     </g>\n     <g id=\"line2d_20\">\n      <g>\n       <use style=\"fill:#ffffff;stroke:#ffffff;stroke-width:0.8;\" x=\"42.5125\" xlink:href=\"#m0b4bc372ec\" y=\"247.718166\"/>\n      </g>\n     </g>\n     <g id=\"text_10\">\n      <!-- 6000 -->\n      <g style=\"fill:#ffffff;\" transform=\"translate(13.5625 251.517385)scale(0.1 -0.1)\">\n       <use xlink:href=\"#DejaVuSans-36\"/>\n       <use x=\"63.623047\" xlink:href=\"#DejaVuSans-30\"/>\n       <use x=\"127.246094\" xlink:href=\"#DejaVuSans-30\"/>\n       <use x=\"190.869141\" xlink:href=\"#DejaVuSans-30\"/>\n      </g>\n     </g>\n    </g>\n    <g id=\"ytick_5\">\n     <g id=\"line2d_21\">\n      <path clip-path=\"url(#pf126624114)\" d=\"M 42.5125 146.690888 \nL 600.5125 146.690888 \n\" style=\"fill:none;stroke:#b2b2b2;stroke-dasharray:1.85,0.8;stroke-dashoffset:0;stroke-width:0.5;\"/>\n     </g>\n     <g id=\"line2d_22\">\n      <g>\n       <use style=\"fill:#ffffff;stroke:#ffffff;stroke-width:0.8;\" x=\"42.5125\" xlink:href=\"#m0b4bc372ec\" y=\"146.690888\"/>\n      </g>\n     </g>\n     <g id=\"text_11\">\n      <!-- 8000 -->\n      <g style=\"fill:#ffffff;\" transform=\"translate(13.5625 150.490107)scale(0.1 -0.1)\">\n       <use xlink:href=\"#DejaVuSans-38\"/>\n       <use x=\"63.623047\" xlink:href=\"#DejaVuSans-30\"/>\n       <use x=\"127.246094\" xlink:href=\"#DejaVuSans-30\"/>\n       <use x=\"190.869141\" xlink:href=\"#DejaVuSans-30\"/>\n      </g>\n     </g>\n    </g>\n    <g id=\"ytick_6\">\n     <g id=\"line2d_23\">\n      <path clip-path=\"url(#pf126624114)\" d=\"M 42.5125 45.66361 \nL 600.5125 45.66361 \n\" style=\"fill:none;stroke:#b2b2b2;stroke-dasharray:1.85,0.8;stroke-dashoffset:0;stroke-width:0.5;\"/>\n     </g>\n     <g id=\"line2d_24\">\n      <g>\n       <use style=\"fill:#ffffff;stroke:#ffffff;stroke-width:0.8;\" x=\"42.5125\" xlink:href=\"#m0b4bc372ec\" y=\"45.66361\"/>\n      </g>\n     </g>\n     <g id=\"text_12\">\n      <!-- 10000 -->\n      <g style=\"fill:#ffffff;\" transform=\"translate(7.2 49.462829)scale(0.1 -0.1)\">\n       <use xlink:href=\"#DejaVuSans-31\"/>\n       <use x=\"63.623047\" xlink:href=\"#DejaVuSans-30\"/>\n       <use x=\"127.246094\" xlink:href=\"#DejaVuSans-30\"/>\n       <use x=\"190.869141\" xlink:href=\"#DejaVuSans-30\"/>\n       <use x=\"254.492188\" xlink:href=\"#DejaVuSans-30\"/>\n      </g>\n     </g>\n    </g>\n   </g>\n   <g id=\"patch_103\">\n    <path d=\"M 42.5125 550.8 \nL 42.5125 7.2 \n\" style=\"fill:none;stroke:#bcbcbc;stroke-linecap:square;stroke-linejoin:miter;stroke-width:0.8;\"/>\n   </g>\n   <g id=\"patch_104\">\n    <path d=\"M 600.5125 550.8 \nL 600.5125 7.2 \n\" style=\"fill:none;stroke:#bcbcbc;stroke-linecap:square;stroke-linejoin:miter;stroke-width:0.8;\"/>\n   </g>\n   <g id=\"patch_105\">\n    <path d=\"M 42.5125 550.8 \nL 600.5125 550.8 \n\" style=\"fill:none;stroke:#bcbcbc;stroke-linecap:square;stroke-linejoin:miter;stroke-width:0.8;\"/>\n   </g>\n   <g id=\"patch_106\">\n    <path d=\"M 42.5125 7.2 \nL 600.5125 7.2 \n\" style=\"fill:none;stroke:#bcbcbc;stroke-linecap:square;stroke-linejoin:miter;stroke-width:0.8;\"/>\n   </g>\n  </g>\n </g>\n <defs>\n  <clipPath id=\"pf126624114\">\n   <rect height=\"543.6\" width=\"558\" x=\"42.5125\" y=\"7.2\"/>\n  </clipPath>\n </defs>\n</svg>\n",
      "image/png": "[encoded data removed]"
     },
     "metadata": {}
    }
   ],
   "metadata": {}
  },
  {
   "cell_type": "markdown",
   "source": [
    "### numpy"
   ],
   "metadata": {}
  },
  {
   "cell_type": "code",
   "execution_count": 1,
   "source": [
    "import numpy as np\n",
    "## numpy版本以及配置\n",
    "print(np.__version__)\n",
    "# np.show_config()"
   ],
   "outputs": [
    {
     "output_type": "stream",
     "name": "stdout",
     "text": [
      "1.19.5\n"
     ]
    }
   ],
   "metadata": {}
  },
  {
   "cell_type": "code",
   "execution_count": 2,
   "source": [
    "a = np.arange(25).reshape((5,5))\n",
    "print(a)\n",
    "print(a[:, None])\n",
    "print(a[:, None].shape)\n",
    "print(a[:, :, None].shape)\n",
    "print(a[..., None].shape)# 省略所有的冒号来用省略号代替"
   ],
   "outputs": [
    {
     "output_type": "stream",
     "name": "stdout",
     "text": [
      "[[ 0  1  2  3  4]\n",
      " [ 5  6  7  8  9]\n",
      " [10 11 12 13 14]\n",
      " [15 16 17 18 19]\n",
      " [20 21 22 23 24]]\n",
      "[[[ 0  1  2  3  4]]\n",
      "\n",
      " [[ 5  6  7  8  9]]\n",
      "\n",
      " [[10 11 12 13 14]]\n",
      "\n",
      " [[15 16 17 18 19]]\n",
      "\n",
      " [[20 21 22 23 24]]]\n",
      "(5, 1, 5)\n",
      "(5, 5, 1)\n",
      "(5, 5, 1)\n"
     ]
    }
   ],
   "metadata": {}
  },
  {
   "cell_type": "code",
   "execution_count": 8,
   "source": [
    "## 创建数组: np.zeros | np.arange\n",
    "print(np.zeros((2,3))) # 这是一个null矩阵，可添加参数dtype=int指明类型\n",
    "print(np.arange(10,50))\n",
    "print(np.arange(9).reshape(3, 3))"
   ],
   "outputs": [
    {
     "output_type": "stream",
     "name": "stdout",
     "text": [
      "[[0. 0. 0.]\n",
      " [0. 0. 0.]]\n",
      "[10 11 12 13 14 15 16 17 18 19 20 21 22 23 24 25 26 27 28 29 30 31 32 33\n",
      " 34 35 36 37 38 39 40 41 42 43 44 45 46 47 48 49]\n",
      "[[0 1 2]\n",
      " [3 4 5]\n",
      " [6 7 8]]\n"
     ]
    }
   ],
   "metadata": {}
  },
  {
   "cell_type": "code",
   "execution_count": 2,
   "source": [
    "# .ravel() 展成一维数组\n",
    "a = np.zeros((2,3))\n",
    "a.ravel()"
   ],
   "outputs": [
    {
     "output_type": "execute_result",
     "data": {
      "text/plain": [
       "array([0., 0., 0., 0., 0., 0.])"
      ]
     },
     "metadata": {},
     "execution_count": 2
    }
   ],
   "metadata": {}
  },
  {
   "cell_type": "code",
   "execution_count": 12,
   "source": [
    "# np.zeros(shape, dtype)\n",
    "# np.meshgrid\n",
    "Z = np.zeros((5,5), [('x',float),('y',float)]) # 第二个参数是dtype\n",
    "Z['x'], Z['y'] = np.meshgrid(np.linspace(0,1,5),\n",
    "                             np.linspace(0,1,5))\n",
    "print(Z)\n",
    "print(Z.shape)"
   ],
   "outputs": [
    {
     "output_type": "stream",
     "name": "stdout",
     "text": [
      "[[(0.  , 0.  ) (0.25, 0.  ) (0.5 , 0.  ) (0.75, 0.  ) (1.  , 0.  )]\n",
      " [(0.  , 0.25) (0.25, 0.25) (0.5 , 0.25) (0.75, 0.25) (1.  , 0.25)]\n",
      " [(0.  , 0.5 ) (0.25, 0.5 ) (0.5 , 0.5 ) (0.75, 0.5 ) (1.  , 0.5 )]\n",
      " [(0.  , 0.75) (0.25, 0.75) (0.5 , 0.75) (0.75, 0.75) (1.  , 0.75)]\n",
      " [(0.  , 1.  ) (0.25, 1.  ) (0.5 , 1.  ) (0.75, 1.  ) (1.  , 1.  )]]\n",
      "(5, 5)\n"
     ]
    }
   ],
   "metadata": {}
  },
  {
   "cell_type": "code",
   "execution_count": 3,
   "source": [
    "Z = np.zeros(10, [ ('position', [ ('x', float, 1),\n",
    "                                  ('y', float, 1)]),\n",
    "                   ('color',    [ ('r', float, 1),\n",
    "                                  ('g', float, 1),\n",
    "                                  ('b', float, 1)])])\n",
    "print(Z)"
   ],
   "outputs": [
    {
     "output_type": "stream",
     "name": "stdout",
     "text": [
      "[((0., 0.), (0., 0., 0.)) ((0., 0.), (0., 0., 0.))\n",
      " ((0., 0.), (0., 0., 0.)) ((0., 0.), (0., 0., 0.))\n",
      " ((0., 0.), (0., 0., 0.)) ((0., 0.), (0., 0., 0.))\n",
      " ((0., 0.), (0., 0., 0.)) ((0., 0.), (0., 0., 0.))\n",
      " ((0., 0.), (0., 0., 0.)) ((0., 0.), (0., 0., 0.))]\n",
      "/home/yaoqf/miniconda3/envs/dynamicgcn/lib/python3.7/site-packages/ipykernel_launcher.py:5: FutureWarning: Passing (type, 1) or '1type' as a synonym of type is deprecated; in a future version of numpy, it will be understood as (type, (1,)) / '(1,)type'.\n",
      "  \"\"\"\n"
     ]
    }
   ],
   "metadata": {}
  },
  {
   "cell_type": "code",
   "execution_count": 15,
   "source": [
    "# 生成类高斯数组\n",
    "# np.meshgrid\n",
    "X, Y = np.meshgrid(np.linspace(-1,1,10), np.linspace(-1,1,10))\n",
    "print(X.shape)\n",
    "print(X)\n",
    "print(Y.shape)\n",
    "print(Y)\n",
    "D = np.sqrt(X*X+Y*Y)\n",
    "sigma, mu = 1.0, 0.0\n",
    "G = np.exp(-( (D-mu)**2 / ( 2.0 * sigma**2 ) ) )"
   ],
   "outputs": [
    {
     "output_type": "stream",
     "name": "stdout",
     "text": [
      "(10, 10)\n",
      "[[-1.         -0.77777778 -0.55555556 -0.33333333 -0.11111111  0.11111111\n",
      "   0.33333333  0.55555556  0.77777778  1.        ]\n",
      " [-1.         -0.77777778 -0.55555556 -0.33333333 -0.11111111  0.11111111\n",
      "   0.33333333  0.55555556  0.77777778  1.        ]\n",
      " [-1.         -0.77777778 -0.55555556 -0.33333333 -0.11111111  0.11111111\n",
      "   0.33333333  0.55555556  0.77777778  1.        ]\n",
      " [-1.         -0.77777778 -0.55555556 -0.33333333 -0.11111111  0.11111111\n",
      "   0.33333333  0.55555556  0.77777778  1.        ]\n",
      " [-1.         -0.77777778 -0.55555556 -0.33333333 -0.11111111  0.11111111\n",
      "   0.33333333  0.55555556  0.77777778  1.        ]\n",
      " [-1.         -0.77777778 -0.55555556 -0.33333333 -0.11111111  0.11111111\n",
      "   0.33333333  0.55555556  0.77777778  1.        ]\n",
      " [-1.         -0.77777778 -0.55555556 -0.33333333 -0.11111111  0.11111111\n",
      "   0.33333333  0.55555556  0.77777778  1.        ]\n",
      " [-1.         -0.77777778 -0.55555556 -0.33333333 -0.11111111  0.11111111\n",
      "   0.33333333  0.55555556  0.77777778  1.        ]\n",
      " [-1.         -0.77777778 -0.55555556 -0.33333333 -0.11111111  0.11111111\n",
      "   0.33333333  0.55555556  0.77777778  1.        ]\n",
      " [-1.         -0.77777778 -0.55555556 -0.33333333 -0.11111111  0.11111111\n",
      "   0.33333333  0.55555556  0.77777778  1.        ]]\n",
      "(10, 10)\n",
      "[[-1.         -1.         -1.         -1.         -1.         -1.\n",
      "  -1.         -1.         -1.         -1.        ]\n",
      " [-0.77777778 -0.77777778 -0.77777778 -0.77777778 -0.77777778 -0.77777778\n",
      "  -0.77777778 -0.77777778 -0.77777778 -0.77777778]\n",
      " [-0.55555556 -0.55555556 -0.55555556 -0.55555556 -0.55555556 -0.55555556\n",
      "  -0.55555556 -0.55555556 -0.55555556 -0.55555556]\n",
      " [-0.33333333 -0.33333333 -0.33333333 -0.33333333 -0.33333333 -0.33333333\n",
      "  -0.33333333 -0.33333333 -0.33333333 -0.33333333]\n",
      " [-0.11111111 -0.11111111 -0.11111111 -0.11111111 -0.11111111 -0.11111111\n",
      "  -0.11111111 -0.11111111 -0.11111111 -0.11111111]\n",
      " [ 0.11111111  0.11111111  0.11111111  0.11111111  0.11111111  0.11111111\n",
      "   0.11111111  0.11111111  0.11111111  0.11111111]\n",
      " [ 0.33333333  0.33333333  0.33333333  0.33333333  0.33333333  0.33333333\n",
      "   0.33333333  0.33333333  0.33333333  0.33333333]\n",
      " [ 0.55555556  0.55555556  0.55555556  0.55555556  0.55555556  0.55555556\n",
      "   0.55555556  0.55555556  0.55555556  0.55555556]\n",
      " [ 0.77777778  0.77777778  0.77777778  0.77777778  0.77777778  0.77777778\n",
      "   0.77777778  0.77777778  0.77777778  0.77777778]\n",
      " [ 1.          1.          1.          1.          1.          1.\n",
      "   1.          1.          1.          1.        ]]\n"
     ]
    }
   ],
   "metadata": {}
  },
  {
   "cell_type": "code",
   "execution_count": 14,
   "source": [
    "# 数据类型\n",
    "# dtype: 'float32', 'float64'\n",
    "for dtype in [np.int8, np.int32, np.int64]:\n",
    "    print(np.iinfo(dtype).min)\n",
    "    print(np.iinfo(dtype).max)\n",
    "for dtype in [np.float32, np.float64]:\n",
    "    print(np.finfo(dtype).min)\n",
    "    print(np.finfo(dtype).max)\n",
    "    print(np.finfo(dtype).eps)"
   ],
   "outputs": [
    {
     "output_type": "stream",
     "name": "stdout",
     "text": [
      "-128\n",
      "127\n",
      "-2147483648\n",
      "2147483647\n",
      "-9223372036854775808\n",
      "9223372036854775807\n",
      "-3.4028235e+38\n",
      "3.4028235e+38\n",
      "1.1920929e-07\n",
      "-1.7976931348623157e+308\n",
      "1.7976931348623157e+308\n",
      "2.220446049250313e-16\n"
     ]
    }
   ],
   "metadata": {}
  },
  {
   "cell_type": "code",
   "execution_count": 3,
   "source": [
    "# array和asarray都可以将结构数据转化为ndarray，但是主要区别就是当数据源是ndarray时，array仍然会copy出一个副本，占用新的内存，但asarray不会\n",
    "a=[[1,2,3],[4,5,6],[7,8,9]]\n",
    "b=np.array(a)\n",
    "c=np.asarray(a)\n",
    "a[2]=1 # np.array与np.asarray功能是一样的，都是将输入转为矩阵格式。当输入是列表的时候，更改列表的值并不会影响转化为矩阵的值\n",
    "print(a)\n",
    "print(b)\n",
    "print(c)\n",
    "print(\"list---------\")\n",
    "print(\"ndarray------\")\n",
    "a=np.random.random((3,3))\n",
    "print(a.dtype)\n",
    "b=np.array(a,dtype='float64')\n",
    "c=np.asarray(a,dtype='float64')\n",
    "a[2]=2\n",
    "print(a)\n",
    "print(b)\n",
    "print(c)"
   ],
   "outputs": [
    {
     "output_type": "stream",
     "name": "stdout",
     "text": [
      "[[1, 2, 3], [4, 5, 6], 1]\n",
      "[[1 2 3]\n",
      " [4 5 6]\n",
      " [7 8 9]]\n",
      "[[1 2 3]\n",
      " [4 5 6]\n",
      " [7 8 9]]\n",
      "list---------\n",
      "ndarray------\n",
      "float64\n",
      "[[0.76642387 0.30638509 0.25181517]\n",
      " [0.17831494 0.63521877 0.21232494]\n",
      " [2.         2.         2.        ]]\n",
      "[[0.76642387 0.30638509 0.25181517]\n",
      " [0.17831494 0.63521877 0.21232494]\n",
      " [0.85859225 0.37510162 0.90993765]]\n",
      "[[0.76642387 0.30638509 0.25181517]\n",
      " [0.17831494 0.63521877 0.21232494]\n",
      " [2.         2.         2.        ]]\n"
     ]
    }
   ],
   "metadata": {}
  },
  {
   "cell_type": "code",
   "execution_count": 4,
   "source": [
    "# array类型转为list类型 .tolist()\n",
    "# .tolist是将数组转为list的格式，等同于np.array的反向，那什么情况下需要将np.ndarray转为list的格式呢？当需要序列化的时候(serialization)，由于np.ndarray是不可序列化的\n",
    "a=np.random.random((3,3))\n",
    "print(a.dtype)\n",
    "b=a.tolist()\n",
    "a[1]=2\n",
    "print(a)\n",
    "print(b)"
   ],
   "outputs": [
    {
     "output_type": "stream",
     "name": "stdout",
     "text": [
      "float64\n",
      "[[0.59321655 0.56008782 0.12349878]\n",
      " [2.         2.         2.        ]\n",
      " [0.92728738 0.2682036  0.42935502]]\n",
      "[[0.5932165542118568, 0.5600878169954748, 0.12349877642531581], [0.4428831022608949, 0.543734083444816, 0.5880601744491496], [0.9272873757747849, 0.2682036011356066, 0.429355015325699]]\n"
     ]
    }
   ],
   "metadata": {}
  },
  {
   "cell_type": "code",
   "execution_count": null,
   "source": [
    "# np.eye(3) | np.ones((10,10))\n",
    "# np.full 构造一个数组，用指定值填充其元素\n",
    "# np.empty 构造一个长度为 shape 的未初始化数组，这个数组的元素可能是内存位置上存在的任何数值"
   ],
   "outputs": [],
   "metadata": {}
  },
  {
   "cell_type": "code",
   "execution_count": 17,
   "source": [
    "# np.linspace\n",
    "Z = np.linspace(0,1,11,endpoint=False)[1:]\n",
    "print(Z)\n",
    "print(np.linspace(0,1,11,endpoint=False))\n",
    "print(np.linspace(0,1,11))"
   ],
   "outputs": [
    {
     "output_type": "stream",
     "name": "stdout",
     "text": [
      "[0.09090909 0.18181818 0.27272727 0.36363636 0.45454545 0.54545455\n",
      " 0.63636364 0.72727273 0.81818182 0.90909091]\n",
      "[0.         0.09090909 0.18181818 0.27272727 0.36363636 0.45454545\n",
      " 0.54545455 0.63636364 0.72727273 0.81818182 0.90909091]\n",
      "[0.  0.1 0.2 0.3 0.4 0.5 0.6 0.7 0.8 0.9 1. ]\n"
     ]
    }
   ],
   "metadata": {}
  },
  {
   "cell_type": "code",
   "execution_count": 5,
   "source": [
    "# 原地更改数组\n",
    "Z = np.arange(11)\n",
    "Z[(3 < Z) & (Z < 8)] *= -1\n",
    "print(Z)"
   ],
   "outputs": [
    {
     "output_type": "stream",
     "name": "stdout",
     "text": [
      "[ 0  1  2  3 -4 -5 -6 -7  8  9 10]\n"
     ]
    }
   ],
   "metadata": {}
  },
  {
   "cell_type": "code",
   "execution_count": 7,
   "source": [
    "# 更改数组类型\n",
    "# np.random.rand\n",
    "# np.random.uniform()\n",
    "# .astype(np.float32) | .view(np.int32)\n",
    "Z = (np.random.rand(10)*100).astype(np.float32)\n",
    "print(Z)\n",
    "Y = Z.view(np.int32)\n",
    "print(Y)\n",
    "print(Z)\n",
    "Y[:] = Z\n",
    "print(Y)"
   ],
   "outputs": [
    {
     "output_type": "stream",
     "name": "stdout",
     "text": [
      "[41.426197 64.82094  30.93856  34.45048  21.383808 92.63415  70.02699\n",
      " 54.725338 70.215324 55.811523]\n",
      "[1109767277 1115792466 1106739756 1107938635 1101730314 1119437999\n",
      " 1116474834 1113253567 1116499519 1113538304]\n",
      "[41.426197 64.82094  30.93856  34.45048  21.383808 92.63415  70.02699\n",
      " 54.725338 70.215324 55.811523]\n",
      "[41 64 30 34 21 92 70 54 70 55]\n"
     ]
    }
   ],
   "metadata": {}
  },
  {
   "cell_type": "code",
   "execution_count": null,
   "source": [
    "# 将一个数组的值都打印出来\n",
    "np.set_printoptions(threshold=float(\"inf\"))\n",
    "Z = np.zeros((40,40))\n",
    "print(Z)"
   ],
   "outputs": [],
   "metadata": {}
  },
  {
   "cell_type": "code",
   "execution_count": 10,
   "source": [
    "# 打印数组的索引和对应的值，等价于enumerate\n",
    "Z = np.arange(9).reshape(3,3)\n",
    "for index, value in np.ndenumerate(Z):\n",
    "    print(index, value)\n",
    "print(\"*\"*20)\n",
    "for index in np.ndindex(Z.shape): # 还可以这样使用: np.ndindex(3, 2, 2)\n",
    "    print(index, Z[index])"
   ],
   "outputs": [
    {
     "output_type": "stream",
     "name": "stdout",
     "text": [
      "(0, 0) 0\n",
      "(0, 1) 1\n",
      "(0, 2) 2\n",
      "(1, 0) 3\n",
      "(1, 1) 4\n",
      "(1, 2) 5\n",
      "(2, 0) 6\n",
      "(2, 1) 7\n",
      "(2, 2) 8\n",
      "********************\n",
      "(0, 0) 0\n",
      "(0, 1) 1\n",
      "(0, 2) 2\n",
      "(1, 0) 3\n",
      "(1, 1) 4\n",
      "(1, 2) 5\n",
      "(2, 0) 6\n",
      "(2, 1) 7\n",
      "(2, 2) 8\n"
     ]
    }
   ],
   "metadata": {}
  },
  {
   "cell_type": "code",
   "execution_count": 7,
   "source": [
    "# 创建对角矩阵\n",
    "Z = np.diag(1+np.arange(4),k=0) # k值默认为0，若为负则在主对角线下方，若为正则在上方\n",
    "print(Z)\n",
    "Z = np.diag(1+np.arange(4),k=-1)\n",
    "print(Z)\n",
    "    # 当np.diag的输入是一个一维数组时，结果是以一维数组为对角线元素的矩阵，若输入是一个矩阵时，则输出矩阵的对角线元素\n",
    "b = np.arange(1, 10).reshape(3, 3)\n",
    "print(b)\n",
    "print(np.diag(b))\n"
   ],
   "outputs": [
    {
     "output_type": "stream",
     "name": "stdout",
     "text": [
      "[[1 0 0 0]\n",
      " [0 2 0 0]\n",
      " [0 0 3 0]\n",
      " [0 0 0 4]]\n",
      "[[0 0 0 0 0]\n",
      " [1 0 0 0 0]\n",
      " [0 2 0 0 0]\n",
      " [0 0 3 0 0]\n",
      " [0 0 0 4 0]]\n",
      "[[1 2 3]\n",
      " [4 5 6]\n",
      " [7 8 9]]\n",
      "[1 5 9]\n"
     ]
    }
   ],
   "metadata": {}
  },
  {
   "cell_type": "code",
   "execution_count": 13,
   "source": [
    "# 给定两个数组，创建柯西矩阵，即(Cij =1/(xi - yj))\n",
    "# np.subtract.outer\n",
    "# np.linalg.det: 矩阵求行列式\n",
    "X = np.arange(8)\n",
    "Y = X + 0.5\n",
    "C = 1.0 / np.subtract.outer(X, Y)\n",
    "print(np.linalg.det(C))"
   ],
   "outputs": [
    {
     "output_type": "stream",
     "name": "stdout",
     "text": [
      "3638.1636371179666\n"
     ]
    }
   ],
   "metadata": {}
  },
  {
   "cell_type": "code",
   "execution_count": null,
   "source": [
    "# np.linalg.inv()：矩阵求逆\n",
    "# np.linalg.norm(x, ord):求范数，ord默认是二范数\n",
    "# np.linalg.qr: 计算矩阵的QR分解。把矩阵A作为QR，q是正交的，r是上三角形"
   ],
   "outputs": [],
   "metadata": {}
  },
  {
   "cell_type": "code",
   "execution_count": 2,
   "source": [
    "# 让一个矩阵的外围是1，内部是0\n",
    "Z = np.ones((10,10))\n",
    "Z[1:-1,1:-1] = 0\n",
    "print(Z)"
   ],
   "outputs": [
    {
     "output_type": "stream",
     "name": "stdout",
     "text": [
      "[[1. 1. 1. 1. 1. 1. 1. 1. 1. 1.]\n",
      " [1. 0. 0. 0. 0. 0. 0. 0. 0. 1.]\n",
      " [1. 0. 0. 0. 0. 0. 0. 0. 0. 1.]\n",
      " [1. 0. 0. 0. 0. 0. 0. 0. 0. 1.]\n",
      " [1. 0. 0. 0. 0. 0. 0. 0. 0. 1.]\n",
      " [1. 0. 0. 0. 0. 0. 0. 0. 0. 1.]\n",
      " [1. 0. 0. 0. 0. 0. 0. 0. 0. 1.]\n",
      " [1. 0. 0. 0. 0. 0. 0. 0. 0. 1.]\n",
      " [1. 0. 0. 0. 0. 0. 0. 0. 0. 1.]\n",
      " [1. 1. 1. 1. 1. 1. 1. 1. 1. 1.]]\n"
     ]
    }
   ],
   "metadata": {}
  },
  {
   "cell_type": "code",
   "execution_count": 3,
   "source": [
    "# 给一个已经存在的矩阵加上以0值填充的外围: np.pad | 索引\n",
    "Z = np.ones((5,5))\n",
    "Z = np.pad(Z, pad_width=1, mode='constant', constant_values=0)\n",
    "print(Z)\n",
    "\n",
    "# Using fancy indexing\n",
    "Z[:, [0, -1]] = 0\n",
    "Z[[0, -1], :] = 0\n",
    "print(Z)"
   ],
   "outputs": [
    {
     "output_type": "stream",
     "name": "stdout",
     "text": [
      "[[0. 0. 0. 0. 0. 0. 0.]\n",
      " [0. 1. 1. 1. 1. 1. 0.]\n",
      " [0. 1. 1. 1. 1. 1. 0.]\n",
      " [0. 1. 1. 1. 1. 1. 0.]\n",
      " [0. 1. 1. 1. 1. 1. 0.]\n",
      " [0. 1. 1. 1. 1. 1. 0.]\n",
      " [0. 0. 0. 0. 0. 0. 0.]]\n",
      "[[0. 0. 0. 0. 0. 0. 0.]\n",
      " [0. 1. 1. 1. 1. 1. 0.]\n",
      " [0. 1. 1. 1. 1. 1. 0.]\n",
      " [0. 1. 1. 1. 1. 1. 0.]\n",
      " [0. 1. 1. 1. 1. 1. 0.]\n",
      " [0. 1. 1. 1. 1. 1. 0.]\n",
      " [0. 0. 0. 0. 0. 0. 0.]]\n"
     ]
    }
   ],
   "metadata": {}
  },
  {
   "cell_type": "code",
   "execution_count": 2,
   "source": [
    "# 得到一个棋盘模式的矩阵: 索引 | np.tile\n",
    "Z = np.zeros((8,8),dtype=int)\n",
    "Z[1::2,::2] = 1\n",
    "Z[::2,1::2] = 1\n",
    "print(Z)\n",
    "\n",
    "Z = np.tile( np.array([[0,1],[1,0]]), (4,4)) # 将第一个参数数组沿着第二个参数指明的方向扩大，第二个参数只有一个数字，则默认是沿行的方向\n",
    "print(Z)"
   ],
   "outputs": [
    {
     "output_type": "stream",
     "name": "stdout",
     "text": [
      "[[0 1 0 1 0 1 0 1]\n",
      " [1 0 1 0 1 0 1 0]\n",
      " [0 1 0 1 0 1 0 1]\n",
      " [1 0 1 0 1 0 1 0]\n",
      " [0 1 0 1 0 1 0 1]\n",
      " [1 0 1 0 1 0 1 0]\n",
      " [0 1 0 1 0 1 0 1]\n",
      " [1 0 1 0 1 0 1 0]]\n",
      "[[0 1 0 1 0 1 0 1]\n",
      " [1 0 1 0 1 0 1 0]\n",
      " [0 1 0 1 0 1 0 1]\n",
      " [1 0 1 0 1 0 1 0]\n",
      " [0 1 0 1 0 1 0 1]\n",
      " [1 0 1 0 1 0 1 0]\n",
      " [0 1 0 1 0 1 0 1]\n",
      " [1 0 1 0 1 0 1 0]]\n"
     ]
    }
   ],
   "metadata": {}
  },
  {
   "cell_type": "code",
   "execution_count": 3,
   "source": [
    "# np.tile\n",
    "Z = np.tile( np.array([[0,1],[1,0]]), 4) \n",
    "print(Z)"
   ],
   "outputs": [
    {
     "output_type": "stream",
     "name": "stdout",
     "text": [
      "[[0 1 0 1 0 1 0 1]\n",
      " [1 0 1 0 1 0 1 0]]\n"
     ]
    }
   ],
   "metadata": {}
  },
  {
   "cell_type": "code",
   "execution_count": 2,
   "source": [
    "np.tile(np.array([1,0]), (4,1))"
   ],
   "outputs": [
    {
     "output_type": "execute_result",
     "data": {
      "text/plain": [
       "array([[1, 0],\n",
       "       [1, 0],\n",
       "       [1, 0],\n",
       "       [1, 0]])"
      ]
     },
     "metadata": {},
     "execution_count": 2
    }
   ],
   "metadata": {}
  },
  {
   "cell_type": "code",
   "execution_count": 12,
   "source": [
    "Z = np.zeros((5,5))\n",
    "Z += np.arange(5)\n",
    "print(Z)\n",
    "\n",
    "# without broadcasting\n",
    "Z = np.tile(np.arange(0, 5), (5,1))\n",
    "print(Z)"
   ],
   "outputs": [
    {
     "output_type": "stream",
     "name": "stdout",
     "text": [
      "[[0. 1. 2. 3. 4.]\n",
      " [0. 1. 2. 3. 4.]\n",
      " [0. 1. 2. 3. 4.]\n",
      " [0. 1. 2. 3. 4.]\n",
      " [0. 1. 2. 3. 4.]]\n",
      "[[0 1 2 3 4]\n",
      " [0 1 2 3 4]\n",
      " [0 1 2 3 4]\n",
      " [0 1 2 3 4]\n",
      " [0 1 2 3 4]]\n"
     ]
    }
   ],
   "metadata": {}
  },
  {
   "cell_type": "code",
   "execution_count": 14,
   "source": [
    "# 从生成器函数创建数组\n",
    "def generate():\n",
    "    for x in range(10):\n",
    "        yield x\n",
    "Z = np.fromiter(generate(),dtype=float,count=1) # 参数count表示从数组缓冲区中读取的项目数，-1表示全部读取\n",
    "print(Z)"
   ],
   "outputs": [
    {
     "output_type": "stream",
     "name": "stdout",
     "text": [
      "[0.]\n"
     ]
    }
   ],
   "metadata": {}
  },
  {
   "cell_type": "code",
   "execution_count": null,
   "source": [
    "# np.column_stack 按列合并\n",
    "# np.row_stack 按行合并\n",
    "# np.concatenate((a,b), axis=0)\n",
    "# np.stack"
   ],
   "outputs": [],
   "metadata": {}
  },
  {
   "cell_type": "code",
   "execution_count": 4,
   "source": [
    "# np.nan | np.inf\n",
    "print(0 * np.nan)\n",
    "print(np.nan == np.nan)\n",
    "print(np.inf > np.nan)\n",
    "print(np.nan - np.nan)\n",
    "print(np.nan in set([np.nan]))\n",
    "print(0.3 == 3 * 0.1)"
   ],
   "outputs": [
    {
     "output_type": "stream",
     "name": "stdout",
     "text": [
      "nan\n",
      "False\n",
      "False\n",
      "nan\n",
      "True\n",
      "False\n"
     ]
    }
   ],
   "metadata": {}
  },
  {
   "cell_type": "code",
   "execution_count": 6,
   "source": [
    "# 让一个数组不可改变/只读\n",
    "Z = np.zeros(10)\n",
    "Z.flags.writeable = False\n",
    "Z[0] = 1"
   ],
   "outputs": [
    {
     "output_type": "error",
     "ename": "ValueError",
     "evalue": "assignment destination is read-only",
     "traceback": [
      "\u001b[0;31m---------------------------------------------------------------------------\u001b[0m",
      "\u001b[0;31mValueError\u001b[0m                                Traceback (most recent call last)",
      "\u001b[0;32m<ipython-input-6-cf10519d3d63>\u001b[0m in \u001b[0;36m<module>\u001b[0;34m\u001b[0m\n\u001b[1;32m      2\u001b[0m \u001b[0mZ\u001b[0m \u001b[0;34m=\u001b[0m \u001b[0mnp\u001b[0m\u001b[0;34m.\u001b[0m\u001b[0mzeros\u001b[0m\u001b[0;34m(\u001b[0m\u001b[0;36m10\u001b[0m\u001b[0;34m)\u001b[0m\u001b[0;34m\u001b[0m\u001b[0;34m\u001b[0m\u001b[0m\n\u001b[1;32m      3\u001b[0m \u001b[0mZ\u001b[0m\u001b[0;34m.\u001b[0m\u001b[0mflags\u001b[0m\u001b[0;34m.\u001b[0m\u001b[0mwriteable\u001b[0m \u001b[0;34m=\u001b[0m \u001b[0;32mFalse\u001b[0m\u001b[0;34m\u001b[0m\u001b[0;34m\u001b[0m\u001b[0m\n\u001b[0;32m----> 4\u001b[0;31m \u001b[0mZ\u001b[0m\u001b[0;34m[\u001b[0m\u001b[0;36m0\u001b[0m\u001b[0;34m]\u001b[0m \u001b[0;34m=\u001b[0m \u001b[0;36m1\u001b[0m\u001b[0;34m\u001b[0m\u001b[0;34m\u001b[0m\u001b[0m\n\u001b[0m",
      "\u001b[0;31mValueError\u001b[0m: assignment destination is read-only"
     ]
    }
   ],
   "metadata": {}
  },
  {
   "cell_type": "code",
   "execution_count": 5,
   "source": [
    "# 确定每个数组的内存大小\n",
    "a = np.zeros((2,3))\n",
    "print(\"%d x %d = %d bytes\" % (a.size, a.itemsize, a.size * a.itemsize))"
   ],
   "outputs": [
    {
     "output_type": "stream",
     "name": "stdout",
     "text": [
      "6 x 8 = 48 bytes\n"
     ]
    }
   ],
   "metadata": {}
  },
  {
   "cell_type": "code",
   "execution_count": 9,
   "source": [
    "# 找非零元素的索引\n",
    "nz = np.nonzero([1,2,0,0,4,0])\n",
    "print(nz)"
   ],
   "outputs": [
    {
     "output_type": "stream",
     "name": "stdout",
     "text": [
      "(array([0, 1, 4]),)\n"
     ]
    }
   ],
   "metadata": {}
  },
  {
   "cell_type": "code",
   "execution_count": 9,
   "source": [
    "# np.unravel_index\n",
    "print(np.unravel_index(99,(6,7,8))) # 考虑一个形如(6,7,8)的数组，确定第100个元素的索引"
   ],
   "outputs": [
    {
     "output_type": "stream",
     "name": "stdout",
     "text": [
      "(1, 5, 3)\n"
     ]
    }
   ],
   "metadata": {}
  },
  {
   "cell_type": "code",
   "execution_count": 5,
   "source": [
    "# 找点与点之间的距离\n",
    "    # 方法1: np.atleast_2d\n",
    "    # 方法2: scipy.spatial\n",
    "Z = np.random.random((10,2))\n",
    "X,Y = np.atleast_2d(Z[:,0], Z[:,1]) # 将输入的数组转换成至少两维\n",
    "D = np.sqrt( (X-X.T)**2 + (Y-Y.T)**2)\n",
    "print(D)\n",
    "\n",
    "# Much faster with scipy\n",
    "import scipy.spatial\n",
    "D = scipy.spatial.distance.cdist(Z,Z)\n",
    "print(D)"
   ],
   "outputs": [
    {
     "output_type": "stream",
     "name": "stdout",
     "text": [
      "[[0.         0.30981757 0.57406908 1.15490125 0.82140475 0.49343794\n",
      "  0.85293249 0.71396395 0.57585099 0.07538335]\n",
      " [0.30981757 0.         0.37578479 0.94954023 0.52502209 0.29975812\n",
      "  0.87667925 0.54860667 0.34008686 0.35974213]\n",
      " [0.57406908 0.37578479 0.         0.58606352 0.37336278 0.08209262\n",
      "  0.62485338 0.17568912 0.07909523 0.57835106]\n",
      " [1.15490125 0.94954023 0.58606352 0.         0.59085856 0.66814807\n",
      "  0.76685895 0.44552102 0.60945515 1.14947542]\n",
      " [0.82140475 0.52502209 0.37336278 0.59085856 0.         0.40712027\n",
      "  0.96789164 0.44836561 0.30856153 0.85369078]\n",
      " [0.49343794 0.29975812 0.08209262 0.66814807 0.40712027 0.\n",
      "  0.64505915 0.24901835 0.10071641 0.50067579]\n",
      " [0.85293249 0.87667925 0.62485338 0.76685895 0.96789164 0.64505915\n",
      "  0.         0.52154029 0.70390339 0.79888769]\n",
      " [0.71396395 0.54860667 0.17568912 0.44552102 0.44836561 0.24901835\n",
      "  0.52154029 0.         0.23820374 0.70477089]\n",
      " [0.57585099 0.34008686 0.07909523 0.60945515 0.30856153 0.10071641\n",
      "  0.70390339 0.23820374 0.         0.59030117]\n",
      " [0.07538335 0.35974213 0.57835106 1.14947542 0.85369078 0.50067579\n",
      "  0.79888769 0.70477089 0.59030117 0.        ]]\n",
      "[[0.         0.30981757 0.57406908 1.15490125 0.82140475 0.49343794\n",
      "  0.85293249 0.71396395 0.57585099 0.07538335]\n",
      " [0.30981757 0.         0.37578479 0.94954023 0.52502209 0.29975812\n",
      "  0.87667925 0.54860667 0.34008686 0.35974213]\n",
      " [0.57406908 0.37578479 0.         0.58606352 0.37336278 0.08209262\n",
      "  0.62485338 0.17568912 0.07909523 0.57835106]\n",
      " [1.15490125 0.94954023 0.58606352 0.         0.59085856 0.66814807\n",
      "  0.76685895 0.44552102 0.60945515 1.14947542]\n",
      " [0.82140475 0.52502209 0.37336278 0.59085856 0.         0.40712027\n",
      "  0.96789164 0.44836561 0.30856153 0.85369078]\n",
      " [0.49343794 0.29975812 0.08209262 0.66814807 0.40712027 0.\n",
      "  0.64505915 0.24901835 0.10071641 0.50067579]\n",
      " [0.85293249 0.87667925 0.62485338 0.76685895 0.96789164 0.64505915\n",
      "  0.         0.52154029 0.70390339 0.79888769]\n",
      " [0.71396395 0.54860667 0.17568912 0.44552102 0.44836561 0.24901835\n",
      "  0.52154029 0.         0.23820374 0.70477089]\n",
      " [0.57585099 0.34008686 0.07909523 0.60945515 0.30856153 0.10071641\n",
      "  0.70390339 0.23820374 0.         0.59030117]\n",
      " [0.07538335 0.35974213 0.57835106 1.14947542 0.85369078 0.50067579\n",
      "  0.79888769 0.70477089 0.59030117 0.        ]]\n"
     ]
    }
   ],
   "metadata": {}
  },
  {
   "cell_type": "code",
   "execution_count": 4,
   "source": [
    "# np.atleast_2d\n",
    "np.atleast_2d(1, [1, 2], [[1, 2]])"
   ],
   "outputs": [
    {
     "output_type": "execute_result",
     "data": {
      "text/plain": [
       "[array([[1]]), array([[1, 2]]), array([[1, 2]])]"
      ]
     },
     "metadata": {},
     "execution_count": 4
    }
   ],
   "metadata": {}
  },
  {
   "cell_type": "code",
   "execution_count": 1,
   "source": [
    "# np.random.random((3,3,3))\n",
    "# 归一化\n",
    "    Z = np.random.random((5,5))\n",
    "    Z = (Z - np.mean (Z)) / (np.std (Z))\n",
    "\n",
    "# np.random.shuffle\n",
    "# 打乱顺序\n",
    "import numpy as np\n",
    "idx = list(range(5))\n",
    "np.random.shuffle(idx)\n",
    "print(idx)\n",
    "\n",
    "import random\n",
    "a = [1,5,2,3,4]\n",
    "random.shuffle(a)\n",
    "print(a)"
   ],
   "outputs": [
    {
     "output_type": "stream",
     "name": "stdout",
     "text": [
      "[4, 1, 0, 2, 3]\n",
      "[3, 5, 1, 2, 4]\n"
     ]
    }
   ],
   "metadata": {}
  },
  {
   "cell_type": "code",
   "execution_count": 18,
   "source": [
    "# np.random.uniform\n",
    "# 找某个向量中与给定向量元素差值最小的元素值\n",
    "Z = np.arange(100)\n",
    "v = np.random.uniform(0,100)\n",
    "index = (np.abs(Z-v)).argmin()\n",
    "print(Z[index])"
   ],
   "outputs": [
    {
     "output_type": "stream",
     "name": "stdout",
     "text": [
      "78\n"
     ]
    }
   ],
   "metadata": {}
  },
  {
   "cell_type": "code",
   "execution_count": 7,
   "source": [
    "# 从笛卡尔坐标转换成极坐标\n",
    "Z = np.random.random((10,2))\n",
    "X,Y = Z[:,0], Z[:,1]\n",
    "R = np.sqrt(X**2+Y**2)\n",
    "T = np.arctan2(Y,X)\n",
    "print(R)\n",
    "print(T)"
   ],
   "outputs": [
    {
     "output_type": "stream",
     "name": "stdout",
     "text": [
      "[0.66998888 1.2965928  0.93360878 0.68206245 0.9968436  0.89236474\n",
      " 0.99091895 0.75422003 0.69421704 0.93410525]\n",
      "[1.2848821  0.70351765 0.74517562 1.23755762 0.64729273 1.26165083\n",
      " 0.504588   0.44955925 0.86963437 1.47673894]\n"
     ]
    }
   ],
   "metadata": {}
  },
  {
   "cell_type": "code",
   "execution_count": 9,
   "source": [
    "# 替换最大值\n",
    "Z = np.random.random(10)\n",
    "print(Z)\n",
    "Z[Z.argmax()] = 0\n",
    "print(Z)"
   ],
   "outputs": [
    {
     "output_type": "stream",
     "name": "stdout",
     "text": [
      "[0.85197468 0.14359269 0.66204207 0.8163523  0.80379989 0.24117041\n",
      " 0.67305811 0.49457476 0.85976403 0.19293299]\n",
      "[0.85197468 0.14359269 0.66204207 0.8163523  0.80379989 0.24117041\n",
      " 0.67305811 0.49457476 0.         0.19293299]\n"
     ]
    }
   ],
   "metadata": {}
  },
  {
   "cell_type": "code",
   "execution_count": 16,
   "source": [
    "# np.random.choice(a, size=None, replace=True, p=None)\n",
    "    # 从数组中随机抽取元素\n",
    "    # 从a(只要是ndarray都可以，但必须是一维的)中随机抽取数字，并组成指定大小(size)的数组\n",
    "    # replace:True表示可以取相同数字，False表示不可以取相同数字\n",
    "    # 与数组a相对应，表示取数组a中每个元素的概率，默认为选取每个元素的概率相同\n",
    "# np.put(a, ind, v): 替换值，第一个参数表示目标数组，第二个参数表示目标索引，第三个参数表示要替换的值\n",
    "n = 10\n",
    "p = 3\n",
    "Z = np.zeros((n,n))\n",
    "np.put(Z, np.random.choice(range(n*n), p, replace=False),1)\n",
    "print(Z)"
   ],
   "outputs": [
    {
     "output_type": "stream",
     "name": "stdout",
     "text": [
      "[[0. 0. 1. 0. 0. 0. 0. 0. 0. 0.]\n",
      " [0. 0. 0. 0. 0. 0. 0. 0. 0. 0.]\n",
      " [0. 0. 0. 0. 0. 0. 0. 0. 0. 0.]\n",
      " [0. 0. 0. 0. 0. 0. 0. 0. 0. 0.]\n",
      " [0. 0. 0. 0. 0. 0. 0. 0. 0. 0.]\n",
      " [0. 0. 0. 0. 0. 0. 0. 0. 0. 0.]\n",
      " [0. 0. 0. 0. 0. 0. 0. 0. 0. 0.]\n",
      " [0. 0. 0. 0. 0. 0. 0. 0. 0. 0.]\n",
      " [0. 0. 0. 0. 0. 0. 0. 0. 0. 1.]\n",
      " [0. 0. 0. 0. 0. 0. 0. 1. 0. 0.]]\n"
     ]
    }
   ],
   "metadata": {}
  },
  {
   "cell_type": "code",
   "execution_count": 11,
   "source": [
    "# np.random.uniform\n",
    "Z = np.random.uniform(-10,+10,10)\n",
    "print(Z)\n",
    "print(np.copysign(np.ceil(np.abs(Z)), Z))\n",
    "\n",
    "# 或者\n",
    "print(np.where(Z>0, np.ceil(Z), np.floor(Z)))"
   ],
   "outputs": [
    {
     "output_type": "stream",
     "name": "stdout",
     "text": [
      "[ 8.40075143  0.82053244 -5.6202243   9.20897539 -1.37355607 -1.74431653\n",
      " -4.78169784 -3.80061955 -7.83071834 -0.87553202]\n",
      "[ 9.  1. -6. 10. -2. -2. -5. -4. -8. -1.]\n",
      "[ 9.  1. -6. 10. -2. -2. -5. -4. -8. -1.]\n"
     ]
    }
   ],
   "metadata": {}
  },
  {
   "cell_type": "code",
   "execution_count": 11,
   "source": [
    "# 得到数组每个元素的整数部分\n",
    "Z = np.random.uniform(0,10,10)\n",
    "print(Z)\n",
    "print(Z - Z%1)\n",
    "print(Z // 1)\n",
    "print(np.floor(Z))\n",
    "print(Z.astype(int))\n",
    "print(np.trunc(Z))"
   ],
   "outputs": [
    {
     "output_type": "stream",
     "name": "stdout",
     "text": [
      "[5.14404168 1.97897059 8.38653561 9.2737273  1.92440973 8.58379532\n",
      " 7.45066443 0.13041476 2.21465363 9.66850459]\n",
      "[5. 1. 8. 9. 1. 8. 7. 0. 2. 9.]\n",
      "[5. 1. 8. 9. 1. 8. 7. 0. 2. 9.]\n",
      "[5. 1. 8. 9. 1. 8. 7. 0. 2. 9.]\n",
      "[5 1 8 9 1 8 7 0 2 9]\n",
      "[5. 1. 8. 9. 1. 8. 7. 0. 2. 9.]\n"
     ]
    }
   ],
   "metadata": {}
  },
  {
   "cell_type": "code",
   "execution_count": 9,
   "source": [
    "# np.copysign: 将第一个参数的值保留，符号用第二个参数替代\n",
    "print(np.copysign([-1, 0, 1], -1.1))"
   ],
   "outputs": [
    {
     "output_type": "stream",
     "name": "stdout",
     "text": [
      "[-1. -0. -1.]\n"
     ]
    }
   ],
   "metadata": {}
  },
  {
   "cell_type": "code",
   "execution_count": 13,
   "source": [
    "# np.random.randint\n",
    "# np.intersect1d: 找两个数组的共有的值\n",
    "Z1 = np.random.randint(0,10,10)\n",
    "Z2 = np.random.randint(0,10,10)\n",
    "print(Z1)\n",
    "print(Z2)\n",
    "print(np.intersect1d(Z1,Z2))"
   ],
   "outputs": [
    {
     "output_type": "stream",
     "name": "stdout",
     "text": [
      "[0 8 5 4 0 1 9 5 8 5]\n",
      "[4 1 0 9 6 6 0 8 4 6]\n",
      "[0 1 4 8 9]\n"
     ]
    }
   ],
   "metadata": {}
  },
  {
   "cell_type": "code",
   "execution_count": 19,
   "source": [
    "# 数组比较\n",
    "# np.random.randint\n",
    "A = np.random.randint(0,2,5)\n",
    "B = np.random.randint(0,2,5)\n",
    "print(A)\n",
    "\n",
    "# Assuming identical shape of the arrays and a tolerance for the comparison of values\n",
    "equal = np.allclose(A,B) # 比较两个array是不是每一元素都相等，默认在1e-05的误差范围内\n",
    "print(equal)\n",
    "\n",
    "# Checking both the shape and the element values, no tolerance (values have to be exactly equal)\n",
    "equal = np.array_equal(A,B)\n",
    "print(equal)"
   ],
   "outputs": [
    {
     "output_type": "stream",
     "name": "stdout",
     "text": [
      "[1 1 1 1 0]\n",
      "False\n",
      "False\n"
     ]
    }
   ],
   "metadata": {}
  },
  {
   "cell_type": "code",
   "execution_count": 20,
   "source": [
    "# 排序: 按列排序\n",
    "# .argsort()\n",
    "Z = np.random.randint(0,10,(3,3))\n",
    "print(Z)\n",
    "print(Z[Z[:,1].argsort()])\n"
   ],
   "outputs": [
    {
     "output_type": "stream",
     "name": "stdout",
     "text": [
      "[[8 9 7]\n",
      " [4 0 9]\n",
      " [1 9 9]]\n",
      "[[4 0 9]\n",
      " [8 9 7]\n",
      " [1 9 9]]\n"
     ]
    }
   ],
   "metadata": {}
  },
  {
   "cell_type": "code",
   "execution_count": 21,
   "source": [
    "# 判断一个二维数组有空的列\n",
    "# .any()\n",
    "Z = np.random.randint(0,3,(3,10))\n",
    "print((~Z.any(axis=0)).any())"
   ],
   "outputs": [
    {
     "output_type": "stream",
     "name": "stdout",
     "text": [
      "False\n"
     ]
    }
   ],
   "metadata": {}
  },
  {
   "cell_type": "code",
   "execution_count": 21,
   "source": [
    "# numpy.where() 有两种用法：\n",
    "# 1、np.where(condition, x, y)：满足条件(condition)，输出x，不满足输出y\n",
    "# 2、np.where(condition)：只有条件 (condition)，没有x和y，则输出满足条件 (即非0) 元素的坐标 (等价于numpy.nonzero)。这里的坐标以tuple的形式给出，通常原数组有多少维，输出的tuple中就包含几个数组，分别对应符合条件元素的各维坐标。\n",
    "aa = np.arange(10)\n",
    "print(np.where(aa > 5,1,-1))\n",
    "print(np.where(aa > 5)) # 返回索引\n",
    "\n"
   ],
   "outputs": [
    {
     "output_type": "stream",
     "name": "stdout",
     "text": [
      "[-1 -1 -1 -1 -1 -1  1  1  1  1]\n",
      "(array([6, 7, 8, 9]),)\n"
     ]
    }
   ],
   "metadata": {}
  },
  {
   "cell_type": "code",
   "execution_count": 2,
   "source": [
    "# 值裁剪\n",
    "a=np.array([1,3,79,3])\n",
    "print(np.clip(a,3,8))"
   ],
   "outputs": [
    {
     "output_type": "stream",
     "name": "stdout",
     "text": [
      "[3 3 8 3]\n"
     ]
    }
   ],
   "metadata": {}
  },
  {
   "cell_type": "code",
   "execution_count": null,
   "source": [
    "# 自定义数据类型\n",
    "    # 如定义一个类型将颜色描述成四个无符号字节unsigned bytes\n",
    "color = np.dtype([(\"r\", np.ubyte),\n",
    "                  (\"g\", np.ubyte),\n",
    "                  (\"b\", np.ubyte),\n",
    "                  (\"a\", np.ubyte)])"
   ],
   "outputs": [],
   "metadata": {}
  },
  {
   "cell_type": "code",
   "execution_count": null,
   "source": [
    "# np.pi\n",
    "# np.cos\n",
    "# np.sin\n",
    "# np.sign\n",
    "# np.log\n",
    "# np.abs\n",
    "# np.triu\n",
    "# np.tril"
   ],
   "outputs": [],
   "metadata": {}
  },
  {
   "cell_type": "code",
   "execution_count": 6,
   "source": [
    "# 求和: sum\n",
    "print(sum(range(5),-1)) # 后一个参数指定初始值，这是python自带的sum函数\n",
    "from numpy import *\n",
    "print(sum(range(5),-1)) # numpy中的sum函数中第二个参数为axis，若要指定初始值则要使用initial参数"
   ],
   "outputs": [
    {
     "output_type": "stream",
     "name": "stdout",
     "text": [
      "9\n",
      "10\n"
     ]
    }
   ],
   "metadata": {}
  },
  {
   "cell_type": "code",
   "execution_count": 3,
   "source": [
    "# 求和: 比np.sum更快的np.add.reduce\n",
    "Z = np.arange(10)\n",
    "np.add.reduce(Z)"
   ],
   "outputs": [
    {
     "output_type": "execute_result",
     "data": {
      "text/plain": [
       "45"
      ]
     },
     "metadata": {},
     "execution_count": 3
    }
   ],
   "metadata": {}
  },
  {
   "cell_type": "code",
   "execution_count": 18,
   "source": [
    "# 减去矩阵每一行的均值\n",
    "X = np.random.rand(5, 10)\n",
    "print(X)\n",
    "Y = X - X.mean(axis=1, keepdims=True)\n",
    "print(Y)\n",
    "print(X.mean(axis=1, keepdims=True).shape)"
   ],
   "outputs": [
    {
     "output_type": "stream",
     "name": "stdout",
     "text": [
      "[[5.28002266e-01 2.46436442e-01 1.76467884e-01 5.61311042e-01\n",
      "  7.33211696e-01 6.71763119e-01 6.71878263e-01 4.07947734e-01\n",
      "  6.34071572e-01 9.20631229e-01]\n",
      " [8.87651299e-01 3.54607414e-01 6.53575114e-01 9.01982445e-01\n",
      "  3.66474794e-01 4.18496438e-02 3.69007998e-01 9.76194301e-01\n",
      "  9.87506553e-01 7.57044344e-01]\n",
      " [4.22187259e-01 8.93332606e-01 5.97849399e-01 6.44016693e-01\n",
      "  9.10890277e-01 4.39983290e-01 8.58749088e-02 9.00693420e-01\n",
      "  3.98326943e-01 4.26731261e-04]\n",
      " [2.16038002e-01 8.95139404e-02 4.37431615e-01 6.89930989e-01\n",
      "  8.42955968e-02 3.23496498e-01 5.76987287e-02 7.18298561e-01\n",
      "  5.55119510e-01 9.98174017e-01]\n",
      " [2.64214620e-01 5.56893157e-02 5.02642405e-01 1.98351319e-02\n",
      "  1.59900218e-01 3.61791041e-01 5.74073987e-01 5.95130555e-01\n",
      "  7.94910034e-01 1.89269222e-01]]\n",
      "[[-0.02716986 -0.30873568 -0.37870424  0.00613892  0.17803957  0.11659099\n",
      "   0.11670614 -0.14722439  0.07889945  0.3654591 ]\n",
      " [ 0.25806191 -0.27498198  0.02398572  0.27239305 -0.2631146  -0.58773975\n",
      "  -0.26058139  0.34660491  0.35791716  0.12745495]\n",
      " [-0.10717089  0.36397445  0.06849125  0.11465854  0.38153212 -0.08937486\n",
      "  -0.44348324  0.37133527 -0.13103121 -0.52893142]\n",
      " [-0.20096174 -0.32748581  0.02043187  0.27293124 -0.33270415 -0.09350325\n",
      "  -0.35930102  0.30129882  0.13811976  0.58117427]\n",
      " [-0.08753103 -0.29605634  0.15089675 -0.33191052 -0.19184543  0.01004539\n",
      "   0.22232833  0.2433849   0.44316438 -0.16247643]]\n",
      "(5, 1)\n"
     ]
    }
   ],
   "metadata": {}
  },
  {
   "cell_type": "code",
   "execution_count": 4,
   "source": [
    "# 矩阵乘法: np.dot | @\n",
    "Z = np.dot(np.ones((5,3)), np.ones((3,2)))\n",
    "print(Z)\n",
    "\n",
    "# Alternative solution, in Python 3.5 and above\n",
    "Z = np.ones((5,3)) @ np.ones((3,2))\n",
    "print(Z)"
   ],
   "outputs": [
    {
     "output_type": "stream",
     "name": "stdout",
     "text": [
      "[[3. 3.]\n",
      " [3. 3.]\n",
      " [3. 3.]\n",
      " [3. 3.]\n",
      " [3. 3.]]\n",
      "[[3. 3.]\n",
      " [3. 3.]\n",
      " [3. 3.]\n",
      " [3. 3.]\n",
      " [3. 3.]]\n"
     ]
    }
   ],
   "metadata": {}
  },
  {
   "cell_type": "code",
   "execution_count": 7,
   "source": [
    "# 除法\n",
    "print(np.array(0) / np.array(0))\n",
    "print(np.array(0) // np.array(0))\n",
    "print(np.array([np.nan]).astype(int).astype(float))"
   ],
   "outputs": [
    {
     "output_type": "stream",
     "name": "stdout",
     "text": [
      "nan\n",
      "0\n",
      "[-9.22337204e+18]\n",
      "/home/yaoqf/miniconda3/envs/dynamicgcn/lib/python3.7/site-packages/ipykernel_launcher.py:1: RuntimeWarning: invalid value encountered in true_divide\n",
      "  \"\"\"Entry point for launching an IPython kernel.\n",
      "/home/yaoqf/miniconda3/envs/dynamicgcn/lib/python3.7/site-packages/ipykernel_launcher.py:2: RuntimeWarning: divide by zero encountered in floor_divide\n",
      "  \n"
     ]
    }
   ],
   "metadata": {}
  },
  {
   "cell_type": "code",
   "execution_count": 6,
   "source": [
    "# 开方\n",
    "print(np.sqrt(-1))\n",
    "print(np.emath.sqrt(-1))"
   ],
   "outputs": [
    {
     "output_type": "stream",
     "name": "stdout",
     "text": [
      "nan\n",
      "1j\n",
      "/home/yaoqf/miniconda3/envs/dynamicgcn/lib/python3.7/site-packages/ipykernel_launcher.py:2: RuntimeWarning: invalid value encountered in sqrt\n",
      "  \n"
     ]
    }
   ],
   "metadata": {}
  },
  {
   "cell_type": "code",
   "execution_count": 4,
   "source": [
    "# np.binary_repr: 得到对应数值的二进制表示\n",
    "# np.invert: 对数值按位取反\n",
    "print(list(np.binary_repr(4, width=8)))"
   ],
   "outputs": [
    {
     "output_type": "stream",
     "name": "stdout",
     "text": [
      "['0', '0', '0', '0', '0', '1', '0', '0']\n"
     ]
    }
   ],
   "metadata": {}
  },
  {
   "cell_type": "code",
   "execution_count": 9,
   "source": [
    "# 原地进行计算\n",
    "A = np.ones(3)*1\n",
    "B = np.ones(3)*2\n",
    "print(A,B)\n",
    "np.add(A,B,out=B)\n",
    "print(B)\n",
    "np.divide(A,2,out=A)\n",
    "print(A)\n",
    "np.negative(A,out=A)\n",
    "print(A)\n",
    "np.multiply(A,B,out=A)\n",
    "print(A)"
   ],
   "outputs": [
    {
     "output_type": "stream",
     "name": "stdout",
     "text": [
      "[1. 1. 1.] [2. 2. 2.]\n",
      "[3. 3. 3.]\n",
      "[0.5 0.5 0.5]\n",
      "[-0.5 -0.5 -0.5]\n",
      "[-1.5 -1.5 -1.5]\n"
     ]
    }
   ],
   "metadata": {}
  },
  {
   "cell_type": "code",
   "execution_count": 7,
   "source": [
    "# 日期\n",
    "yesterday = np.datetime64('today') - np.timedelta64(1)\n",
    "today     = np.datetime64('today')\n",
    "tomorrow  = np.datetime64('today') + np.timedelta64(1)\n",
    "print(yesterday)\n",
    "print(today)\n",
    "print(tomorrow)"
   ],
   "outputs": [
    {
     "output_type": "stream",
     "name": "stdout",
     "text": [
      "2021-06-14\n",
      "2021-06-15\n",
      "2021-06-16\n"
     ]
    }
   ],
   "metadata": {}
  },
  {
   "cell_type": "code",
   "execution_count": 8,
   "source": [
    "# 得到一个月的所有日期\n",
    "Z = np.arange('2016-07', '2016-08', dtype='datetime64[D]')\n",
    "print(Z)"
   ],
   "outputs": [
    {
     "output_type": "stream",
     "name": "stdout",
     "text": [
      "['2016-07-01' '2016-07-02' '2016-07-03' '2016-07-04' '2016-07-05'\n",
      " '2016-07-06' '2016-07-07' '2016-07-08' '2016-07-09' '2016-07-10'\n",
      " '2016-07-11' '2016-07-12' '2016-07-13' '2016-07-14' '2016-07-15'\n",
      " '2016-07-16' '2016-07-17' '2016-07-18' '2016-07-19' '2016-07-20'\n",
      " '2016-07-21' '2016-07-22' '2016-07-23' '2016-07-24' '2016-07-25'\n",
      " '2016-07-26' '2016-07-27' '2016-07-28' '2016-07-29' '2016-07-30'\n",
      " '2016-07-31']\n"
     ]
    }
   ],
   "metadata": {}
  },
  {
   "cell_type": "code",
   "execution_count": 8,
   "source": [
    "# 读写\n",
    "# io.StringIO\n",
    "# np.genfromtxt\n",
    "from io import StringIO\n",
    "\n",
    "# Fake file\n",
    "s = StringIO('''1, 2, 3, 4, 5\n",
    "\n",
    "                6,  ,  , 7, 8\n",
    "\n",
    "                 ,  , 9,10,11\n",
    "''')\n",
    "Z = np.genfromtxt(s, delimiter=\",\", dtype=np.int)\n",
    "print(Z)"
   ],
   "outputs": [
    {
     "output_type": "stream",
     "name": "stdout",
     "text": [
      "[[ 1  2  3  4  5]\n",
      " [ 6 -1 -1  7  8]\n",
      " [-1 -1  9 10 11]]\n",
      "/home/yaoqf/miniconda3/envs/dynamicgcn/lib/python3.7/site-packages/ipykernel_launcher.py:13: DeprecationWarning: `np.int` is a deprecated alias for the builtin `int`. To silence this warning, use `int` by itself. Doing this will not modify any behavior and is safe. When replacing `np.int`, you may wish to use e.g. `np.int64` or `np.int32` to specify the precision. If you wish to review your current use, check the release note link for additional information.\n",
      "Deprecated in NumPy 1.20; for more details and guidance: https://numpy.org/devdocs/release/1.20.0-notes.html#deprecations\n",
      "  del sys.path[0]\n"
     ]
    }
   ],
   "metadata": {}
  },
  {
   "cell_type": "code",
   "execution_count": null,
   "source": [
    "# np.savez_compressed(\"xxx.npz\", data)\n",
    "# np.load(filepath)[\"arr_0\"].astype(np.long)"
   ],
   "outputs": [],
   "metadata": {}
  },
  {
   "cell_type": "code",
   "execution_count": 3,
   "source": [
    "# np.bincount\n",
    "import numpy as np\n",
    "x=np.array([0,1,1,3,2,1,7]) \n",
    "np.bincount(x) # 统计每个索引值出现的次数"
   ],
   "outputs": [
    {
     "output_type": "execute_result",
     "data": {
      "text/plain": [
       "array([1, 3, 1, 1, 0, 0, 0, 1])"
      ]
     },
     "metadata": {},
     "execution_count": 3
    }
   ],
   "metadata": {}
  },
  {
   "cell_type": "markdown",
   "source": [
    "### pandas"
   ],
   "metadata": {}
  },
  {
   "cell_type": "code",
   "execution_count": null,
   "source": [
    "# 扩展Pandas中显示的列和行数\n",
    "## Pandas表中显示的行和列数量有限，可以根据自己的喜好进行自定义。\n",
    "import pandas as pd\n",
    "pd.set_option('display.max_rows', 500)\n",
    "pd.set_option('display.max_columns', 500)"
   ],
   "outputs": [],
   "metadata": {}
  },
  {
   "cell_type": "code",
   "execution_count": null,
   "source": [
    "# for idx, row in df.iterrows()"
   ],
   "outputs": [],
   "metadata": {}
  },
  {
   "cell_type": "code",
   "execution_count": 4,
   "source": [
    "# pandas.read_excel(path, 'sheet1')\n",
    "import pandas as pd\n",
    "data_path = 'test/test_pd/test.txt'\n",
    "sparse_features = ['C' + str(i) for i in range(1, 27)]\n",
    "dense_features = ['I' + str(i) for i in range(1, 14)]\n",
    "column_names = ['label']+dense_features+sparse_features \n",
    "data = pd.read_csv(data_path, sep='\\t', header=None, names=column_names) # 参数chunksize可按块读取，之后存放到到列表中再使用pd.concat(axis=0)连接起来\n",
    "data"
   ],
   "outputs": [
    {
     "output_type": "execute_result",
     "data": {
      "text/plain": [
       "   label   I1   I2    I3    I4    I5    I6  I7  I8   I9  ...       C17  \\\n",
       "0      0  1.0    1   5.0   0.0  1382   4.0  15   2  181  ...  e5ba7672   \n",
       "1      0  2.0    0  44.0   1.0   102   8.0   2   2    4  ...  07c540c4   \n",
       "2      0  2.0    0   1.0  14.0   767  89.0   4   2  245  ...  8efede7f   \n",
       "3      0  NaN  893   NaN   NaN  4392   NaN   0   0    0  ...  1e88c74f   \n",
       "4      0  3.0   -1   NaN   0.0     2   0.0   3   0    0  ...  1e88c74f   \n",
       "\n",
       "        C18       C19       C20       C21       C22       C23       C24  \\\n",
       "0  f54016b9  21ddcdc9  b1252a9d  07b5194c       NaN  3a171ecb  c5c50484   \n",
       "1  b04e4670  21ddcdc9  5840adea  60f6221e       NaN  3a171ecb  43f13e8b   \n",
       "2  3412118d       NaN       NaN  e587c466  ad3062eb  3a171ecb  3b183c5c   \n",
       "3  74ef3502       NaN       NaN  6b3a5ca6       NaN  3a171ecb  9117a34a   \n",
       "4  26b3c7a7       NaN       NaN  21c9516a       NaN  32c7478e  b34f3128   \n",
       "\n",
       "        C25       C26  \n",
       "0  e8b83407  9727dd16  \n",
       "1  e8b83407  731c3655  \n",
       "2       NaN       NaN  \n",
       "3       NaN       NaN  \n",
       "4       NaN       NaN  \n",
       "\n",
       "[5 rows x 40 columns]"
      ],
      "text/html": [
       "<div>\n",
       "<style scoped>\n",
       "    .dataframe tbody tr th:only-of-type {\n",
       "        vertical-align: middle;\n",
       "    }\n",
       "\n",
       "    .dataframe tbody tr th {\n",
       "        vertical-align: top;\n",
       "    }\n",
       "\n",
       "    .dataframe thead th {\n",
       "        text-align: right;\n",
       "    }\n",
       "</style>\n",
       "<table border=\"1\" class=\"dataframe\">\n",
       "  <thead>\n",
       "    <tr style=\"text-align: right;\">\n",
       "      <th></th>\n",
       "      <th>label</th>\n",
       "      <th>I1</th>\n",
       "      <th>I2</th>\n",
       "      <th>I3</th>\n",
       "      <th>I4</th>\n",
       "      <th>I5</th>\n",
       "      <th>I6</th>\n",
       "      <th>I7</th>\n",
       "      <th>I8</th>\n",
       "      <th>I9</th>\n",
       "      <th>...</th>\n",
       "      <th>C17</th>\n",
       "      <th>C18</th>\n",
       "      <th>C19</th>\n",
       "      <th>C20</th>\n",
       "      <th>C21</th>\n",
       "      <th>C22</th>\n",
       "      <th>C23</th>\n",
       "      <th>C24</th>\n",
       "      <th>C25</th>\n",
       "      <th>C26</th>\n",
       "    </tr>\n",
       "  </thead>\n",
       "  <tbody>\n",
       "    <tr>\n",
       "      <th>0</th>\n",
       "      <td>0</td>\n",
       "      <td>1.0</td>\n",
       "      <td>1</td>\n",
       "      <td>5.0</td>\n",
       "      <td>0.0</td>\n",
       "      <td>1382</td>\n",
       "      <td>4.0</td>\n",
       "      <td>15</td>\n",
       "      <td>2</td>\n",
       "      <td>181</td>\n",
       "      <td>...</td>\n",
       "      <td>e5ba7672</td>\n",
       "      <td>f54016b9</td>\n",
       "      <td>21ddcdc9</td>\n",
       "      <td>b1252a9d</td>\n",
       "      <td>07b5194c</td>\n",
       "      <td>NaN</td>\n",
       "      <td>3a171ecb</td>\n",
       "      <td>c5c50484</td>\n",
       "      <td>e8b83407</td>\n",
       "      <td>9727dd16</td>\n",
       "    </tr>\n",
       "    <tr>\n",
       "      <th>1</th>\n",
       "      <td>0</td>\n",
       "      <td>2.0</td>\n",
       "      <td>0</td>\n",
       "      <td>44.0</td>\n",
       "      <td>1.0</td>\n",
       "      <td>102</td>\n",
       "      <td>8.0</td>\n",
       "      <td>2</td>\n",
       "      <td>2</td>\n",
       "      <td>4</td>\n",
       "      <td>...</td>\n",
       "      <td>07c540c4</td>\n",
       "      <td>b04e4670</td>\n",
       "      <td>21ddcdc9</td>\n",
       "      <td>5840adea</td>\n",
       "      <td>60f6221e</td>\n",
       "      <td>NaN</td>\n",
       "      <td>3a171ecb</td>\n",
       "      <td>43f13e8b</td>\n",
       "      <td>e8b83407</td>\n",
       "      <td>731c3655</td>\n",
       "    </tr>\n",
       "    <tr>\n",
       "      <th>2</th>\n",
       "      <td>0</td>\n",
       "      <td>2.0</td>\n",
       "      <td>0</td>\n",
       "      <td>1.0</td>\n",
       "      <td>14.0</td>\n",
       "      <td>767</td>\n",
       "      <td>89.0</td>\n",
       "      <td>4</td>\n",
       "      <td>2</td>\n",
       "      <td>245</td>\n",
       "      <td>...</td>\n",
       "      <td>8efede7f</td>\n",
       "      <td>3412118d</td>\n",
       "      <td>NaN</td>\n",
       "      <td>NaN</td>\n",
       "      <td>e587c466</td>\n",
       "      <td>ad3062eb</td>\n",
       "      <td>3a171ecb</td>\n",
       "      <td>3b183c5c</td>\n",
       "      <td>NaN</td>\n",
       "      <td>NaN</td>\n",
       "    </tr>\n",
       "    <tr>\n",
       "      <th>3</th>\n",
       "      <td>0</td>\n",
       "      <td>NaN</td>\n",
       "      <td>893</td>\n",
       "      <td>NaN</td>\n",
       "      <td>NaN</td>\n",
       "      <td>4392</td>\n",
       "      <td>NaN</td>\n",
       "      <td>0</td>\n",
       "      <td>0</td>\n",
       "      <td>0</td>\n",
       "      <td>...</td>\n",
       "      <td>1e88c74f</td>\n",
       "      <td>74ef3502</td>\n",
       "      <td>NaN</td>\n",
       "      <td>NaN</td>\n",
       "      <td>6b3a5ca6</td>\n",
       "      <td>NaN</td>\n",
       "      <td>3a171ecb</td>\n",
       "      <td>9117a34a</td>\n",
       "      <td>NaN</td>\n",
       "      <td>NaN</td>\n",
       "    </tr>\n",
       "    <tr>\n",
       "      <th>4</th>\n",
       "      <td>0</td>\n",
       "      <td>3.0</td>\n",
       "      <td>-1</td>\n",
       "      <td>NaN</td>\n",
       "      <td>0.0</td>\n",
       "      <td>2</td>\n",
       "      <td>0.0</td>\n",
       "      <td>3</td>\n",
       "      <td>0</td>\n",
       "      <td>0</td>\n",
       "      <td>...</td>\n",
       "      <td>1e88c74f</td>\n",
       "      <td>26b3c7a7</td>\n",
       "      <td>NaN</td>\n",
       "      <td>NaN</td>\n",
       "      <td>21c9516a</td>\n",
       "      <td>NaN</td>\n",
       "      <td>32c7478e</td>\n",
       "      <td>b34f3128</td>\n",
       "      <td>NaN</td>\n",
       "      <td>NaN</td>\n",
       "    </tr>\n",
       "  </tbody>\n",
       "</table>\n",
       "<p>5 rows × 40 columns</p>\n",
       "</div>"
      ]
     },
     "metadata": {},
     "execution_count": 4
    }
   ],
   "metadata": {}
  },
  {
   "cell_type": "code",
   "execution_count": 5,
   "source": [
    "data['I1'].fillna(0,)"
   ],
   "outputs": [
    {
     "output_type": "execute_result",
     "data": {
      "text/plain": [
       "0    1.0\n",
       "1    2.0\n",
       "2    2.0\n",
       "3    0.0\n",
       "4    3.0\n",
       "Name: I1, dtype: float64"
      ]
     },
     "metadata": {},
     "execution_count": 5
    }
   ],
   "metadata": {}
  },
  {
   "cell_type": "code",
   "execution_count": 12,
   "source": [
    "# pd.get_dummies 实现one-hot\n",
    "df = pd.DataFrame([  \n",
    "            ['green' , 'A'],   \n",
    "            ['red'   , 'B'],   \n",
    "            ['blue'  , 'A']])  \n",
    "\n",
    "df.columns = ['color',  'class'] \n",
    "pd.get_dummies(df) "
   ],
   "outputs": [
    {
     "output_type": "execute_result",
     "data": {
      "text/plain": [
       "   color_blue  color_green  color_red  class_A  class_B\n",
       "0           0            1          0        1        0\n",
       "1           0            0          1        0        1\n",
       "2           1            0          0        1        0"
      ],
      "text/html": [
       "<div>\n",
       "<style scoped>\n",
       "    .dataframe tbody tr th:only-of-type {\n",
       "        vertical-align: middle;\n",
       "    }\n",
       "\n",
       "    .dataframe tbody tr th {\n",
       "        vertical-align: top;\n",
       "    }\n",
       "\n",
       "    .dataframe thead th {\n",
       "        text-align: right;\n",
       "    }\n",
       "</style>\n",
       "<table border=\"1\" class=\"dataframe\">\n",
       "  <thead>\n",
       "    <tr style=\"text-align: right;\">\n",
       "      <th></th>\n",
       "      <th>color_blue</th>\n",
       "      <th>color_green</th>\n",
       "      <th>color_red</th>\n",
       "      <th>class_A</th>\n",
       "      <th>class_B</th>\n",
       "    </tr>\n",
       "  </thead>\n",
       "  <tbody>\n",
       "    <tr>\n",
       "      <th>0</th>\n",
       "      <td>0</td>\n",
       "      <td>1</td>\n",
       "      <td>0</td>\n",
       "      <td>1</td>\n",
       "      <td>0</td>\n",
       "    </tr>\n",
       "    <tr>\n",
       "      <th>1</th>\n",
       "      <td>0</td>\n",
       "      <td>0</td>\n",
       "      <td>1</td>\n",
       "      <td>0</td>\n",
       "      <td>1</td>\n",
       "    </tr>\n",
       "    <tr>\n",
       "      <th>2</th>\n",
       "      <td>1</td>\n",
       "      <td>0</td>\n",
       "      <td>0</td>\n",
       "      <td>1</td>\n",
       "      <td>0</td>\n",
       "    </tr>\n",
       "  </tbody>\n",
       "</table>\n",
       "</div>"
      ]
     },
     "metadata": {},
     "execution_count": 12
    }
   ],
   "metadata": {}
  },
  {
   "cell_type": "code",
   "execution_count": 7,
   "source": [
    "# df.head() # 默认返回前5行数据\n",
    "# df.sample\n",
    "import pandas as pd\n",
    "df = pd.DataFrame({'name':['zhao','qian','sun','wang'],'mark':[150,122,155,132],'gender':['female','female','male','male']})\n",
    "print(df)\n",
    "print(df.head(1))\n",
    "print(df.sample(2))\n",
    "print(df.sample(frac=0.75))"
   ],
   "outputs": [
    {
     "output_type": "stream",
     "name": "stdout",
     "text": [
      "   name  mark  gender\n",
      "0  zhao   150  female\n",
      "1  qian   122  female\n",
      "2   sun   155    male\n",
      "3  wang   132    male\n",
      "   name  mark  gender\n",
      "0  zhao   150  female\n",
      "   name  mark  gender\n",
      "0  zhao   150  female\n",
      "2   sun   155    male\n",
      "   name  mark  gender\n",
      "2   sun   155    male\n",
      "1  qian   122  female\n",
      "3  wang   132    male\n"
     ]
    }
   ],
   "metadata": {}
  },
  {
   "cell_type": "code",
   "execution_count": 11,
   "source": [
    "# .index | .iloc[]\n",
    "# df.loc[df.user_id == u_id]\n",
    "# df.iat[0,1] 第一个参数为行索引，第二个为列索引\n",
    "print(df.index)\n",
    "print(len(df.index))\n",
    "print(df.iloc[2])"
   ],
   "outputs": [
    {
     "output_type": "stream",
     "name": "stdout",
     "text": [
      "RangeIndex(start=0, stop=4, step=1)\n",
      "4\n",
      "name       sun\n",
      "mark       155\n",
      "gender    male\n",
      "Name: 2, dtype: object\n"
     ]
    }
   ],
   "metadata": {}
  },
  {
   "cell_type": "code",
   "execution_count": null,
   "source": [
    "# df.to_numpy()\n",
    "# pd.DataFrame.from_dict\n",
    "    # orient可选值为'columns', 'index'，默认是前者，若为'index'，则将key作为索引"
   ],
   "outputs": [],
   "metadata": {}
  },
  {
   "cell_type": "code",
   "execution_count": null,
   "source": [
    "# df.dropna(inplace=True) 能够找到DataFrame类型数据的空值（缺失值），将空值所在的行/列删除后，将新的DataFrame作为返回值返回\n",
    "    # 参数how: 筛选方式。‘any’，表示该行/列只要有一个以上的空值，就删除该行/列；‘all’，表示该行/列全部都为空值，就删除该行/列。\n",
    "    # axis=1为列，默认为行\n",
    "# df.fillna(): 填充缺失值；仅运行该语句原对象不变，还需要赋值"
   ],
   "outputs": [],
   "metadata": {}
  },
  {
   "cell_type": "code",
   "execution_count": null,
   "source": [
    "# df.apply()"
   ],
   "outputs": [],
   "metadata": {}
  },
  {
   "cell_type": "code",
   "execution_count": null,
   "source": [
    "# df.sort_values(by='time', ascending=True) 其中time是列名\n",
    "    # df.sort_values(by=['user_id', 'time'], ascending=[True, True])\n",
    "# df.reset_index(drop=True) drop=True表示把原来的索引index列去掉，重置index"
   ],
   "outputs": [],
   "metadata": {}
  },
  {
   "cell_type": "code",
   "execution_count": null,
   "source": [
    "# 获取数据可以是df['time']或df.time\n",
    "# df.time.unique()\n",
    "# df.time.nunique()"
   ],
   "outputs": [],
   "metadata": {}
  },
  {
   "cell_type": "code",
   "execution_count": null,
   "source": [
    "# new_df = pd.DataFrame()\n",
    "# new_df = new_df.append(df, ignore_index=True)"
   ],
   "outputs": [],
   "metadata": {}
  },
  {
   "cell_type": "code",
   "execution_count": null,
   "source": [
    "# data[['xx', 'xxx', 'xxxx']]\n",
    "# data[(data['xxx']==12)&(data['xx']>5)]"
   ],
   "outputs": [],
   "metadata": {}
  },
  {
   "cell_type": "code",
   "execution_count": null,
   "source": [
    "# pd.concat([df1, df2], axis=0, ignore_index=True)  垂直叠加，ignore_index默认为False，为True即重新排列索引"
   ],
   "outputs": [],
   "metadata": {}
  },
  {
   "cell_type": "markdown",
   "source": [
    "### sklearn"
   ],
   "metadata": {}
  },
  {
   "cell_type": "code",
   "execution_count": null,
   "source": [
    "from sklearn import KMeans\n",
    "# kmeans = KMeans(n_clusters).fit(embeddings)\n",
    "# kmeans.labels_"
   ],
   "outputs": [],
   "metadata": {}
  },
  {
   "cell_type": "code",
   "execution_count": null,
   "source": [
    "# from sklearn.preprocessing import LabelEncoder, MinMaxScaler\n",
    "# from sklearn.model_selection import train_test_split\n",
    "# from sklearn.metrics import log_loss, roc_auc_score\n"
   ],
   "outputs": [],
   "metadata": {}
  },
  {
   "cell_type": "markdown",
   "source": [
    "### scipy"
   ],
   "metadata": {}
  },
  {
   "cell_type": "code",
   "execution_count": 2,
   "source": [
    "import scipy.sparse as sp\n",
    "# Dictionary of keys(DOK)\n",
    "a = sp.dok_matrix((3, 10))\n",
    "a[1, 2] = 2\n",
    "a[2, 2] = 2\n",
    "a[2, 3] = 1\n",
    "a[2, 4] = 3\n",
    "print(a)\n",
    "print('---------------------')\n",
    "print(a[2])\n",
    "print('---------------------')\n",
    "print(a[2].nonzero()[1])\n",
    "print(a[2].nonzero())\n",
    "print(a[2].values())\n",
    "print('====================')"
   ],
   "outputs": [
    {
     "output_type": "stream",
     "name": "stdout",
     "text": [
      "  (1, 2)\t2.0\n",
      "  (2, 2)\t2.0\n",
      "  (2, 3)\t1.0\n",
      "  (2, 4)\t3.0\n",
      "---------------------\n",
      "  (0, 2)\t2.0\n",
      "  (0, 3)\t1.0\n",
      "  (0, 4)\t3.0\n",
      "---------------------\n",
      "[2 3 4]\n",
      "(array([0, 0, 0], dtype=int32), array([2, 3, 4], dtype=int32))\n",
      "dict_values([2.0, 1.0, 3.0])\n",
      "====================\n"
     ]
    }
   ],
   "metadata": {}
  },
  {
   "cell_type": "code",
   "execution_count": 3,
   "source": [
    "a.keys()"
   ],
   "outputs": [
    {
     "output_type": "execute_result",
     "data": {
      "text/plain": [
       "dict_keys([(1, 2), (2, 2), (2, 3), (2, 4)])"
      ]
     },
     "metadata": {},
     "execution_count": 3
    }
   ],
   "metadata": {}
  },
  {
   "cell_type": "code",
   "execution_count": null,
   "source": [
    "# scipy.linalg.lu: LU分解：将矩阵A分解成一个下三角矩阵L和一个上三角矩阵U的乘积 A=LU，称为对矩阵A的LU分解"
   ],
   "outputs": [],
   "metadata": {}
  },
  {
   "cell_type": "markdown",
   "source": [
    "### math"
   ],
   "metadata": {}
  },
  {
   "cell_type": "code",
   "execution_count": null,
   "source": [
    "# int(math.floor/ceil)\n",
    "# math.log2 was introduced in Python 3.3，会出现问题: AttributeError: 'module' object has no attribute 'log2'\n",
    "    # 在早期的版本中可使用math.log(num, 2)"
   ],
   "outputs": [],
   "metadata": {}
  },
  {
   "cell_type": "markdown",
   "source": [
    "### nltk"
   ],
   "metadata": {}
  },
  {
   "cell_type": "code",
   "execution_count": null,
   "source": [
    "# nltk.download('xxx', download_dir)\n",
    "# nltk.data.path: list\n",
    "# from nltk.corpus import reuters\n",
    "# from nltk.corpus import stopwords\n",
    "# from nltk import word_tokenize\n",
    "    # word_tokenize（str_text)"
   ],
   "outputs": [],
   "metadata": {}
  },
  {
   "cell_type": "markdown",
   "source": [
    "### 神经元和神经网络实现"
   ],
   "metadata": {}
  },
  {
   "cell_type": "code",
   "execution_count": null,
   "source": [
    "'''\n",
    "线性回归/逻辑回归\n",
    "or/and 神经元\n",
    "xor\n",
    "'''"
   ],
   "outputs": [],
   "metadata": {}
  },
  {
   "cell_type": "code",
   "execution_count": 15,
   "source": [
    "# Define two vectors (lists): input my_x, weights my_w\n",
    "my_x = [0, 1, 1]\n",
    "my_w = [-10, 10, 5]"
   ],
   "outputs": [],
   "metadata": {}
  },
  {
   "cell_type": "code",
   "execution_count": 16,
   "source": [
    "# Multiply two lists element wise\n",
    "def mul(a, b):\n",
    "    \"\"\"\n",
    "    return a list c, same length as a, element c[i] = a[i] * b[i]\n",
    "    \"len(list)\" and \"[0] * n\" may be useful\n",
    "    \"\"\"\n",
    "    n = len(a)\n",
    "    c = [0] * n\n",
    "    for i in range(n):\n",
    "        c[i] = a[i] * b[i]\n",
    "    return c"
   ],
   "outputs": [],
   "metadata": {}
  },
  {
   "cell_type": "code",
   "execution_count": 17,
   "source": [
    "# Test mul() function\n",
    "mul(my_x, my_w)"
   ],
   "outputs": [
    {
     "output_type": "execute_result",
     "data": {
      "text/plain": [
       "[0, 10, 5]"
      ]
     },
     "metadata": {},
     "execution_count": 17
    }
   ],
   "metadata": {}
  },
  {
   "cell_type": "code",
   "execution_count": 18,
   "source": [
    "# Define a scalar: bias b\n",
    "my_b = -5"
   ],
   "outputs": [],
   "metadata": {}
  },
  {
   "cell_type": "code",
   "execution_count": 19,
   "source": [
    "# Neuron linear (internal) potential\n",
    "def linear_neuron(x, weights, bias):\n",
    "    \"\"\"\n",
    "    return a scalar value representing a scalar neuron\n",
    "    \"sum(list)\" computes the sum of the elements in a list\n",
    "    \"\"\"\n",
    "    return sum(mul(x, weights))+bias"
   ],
   "outputs": [],
   "metadata": {}
  },
  {
   "cell_type": "code",
   "execution_count": 20,
   "source": [
    "# Test linear_neuron() function\n",
    "linear_neuron(my_x, my_w, my_b)"
   ],
   "outputs": [
    {
     "output_type": "execute_result",
     "data": {
      "text/plain": [
       "10"
      ]
     },
     "metadata": {},
     "execution_count": 20
    }
   ],
   "metadata": {}
  },
  {
   "cell_type": "code",
   "execution_count": 21,
   "source": [
    "# Import exp() function (safe on lists)\n",
    "from numpy import exp"
   ],
   "outputs": [],
   "metadata": {}
  },
  {
   "cell_type": "code",
   "execution_count": 22,
   "source": [
    "# Logistic sigmoid\n",
    "def sigmoid(z):\n",
    "    \"\"\"\n",
    "    return the logistic sigmoid (use exp())\n",
    "    \"\"\"\n",
    "    return 1/(1+exp(-z))"
   ],
   "outputs": [],
   "metadata": {}
  },
  {
   "cell_type": "code",
   "execution_count": 23,
   "source": [
    "# Try out σ() for different z values\n",
    "for z in (-5, 0, 5): print(sigmoid(z))"
   ],
   "outputs": [
    {
     "output_type": "stream",
     "name": "stdout",
     "text": [
      "0.0066928509242848554\n",
      "0.5\n",
      "0.9933071490757153\n"
     ]
    }
   ],
   "metadata": {}
  },
  {
   "cell_type": "code",
   "execution_count": 24,
   "source": [
    "# Import some plotting stuff to graph sigmoid()\n",
    "from numpy import linspace\n",
    "from matplotlib.pyplot import plot, axhline, axvline, grid, style\n",
    "style.use('dark_background')"
   ],
   "outputs": [],
   "metadata": {}
  },
  {
   "cell_type": "code",
   "execution_count": 25,
   "source": [
    "# Get a pair of axis and grid lines centred in (0, 0)\n",
    "axhline(c='.2'); axvline(color='.2')\n",
    "grid(c='.1', ls='--')\n",
    "\n",
    "# Plot across a span of numbers\n",
    "z = linspace(-7.5, 7.5)\n",
    "plot(z, sigmoid(z))"
   ],
   "outputs": [
    {
     "output_type": "execute_result",
     "data": {
      "text/plain": [
       "[<matplotlib.lines.Line2D at 0x7f649edbdbd0>]"
      ]
     },
     "metadata": {},
     "execution_count": 25
    },
    {
     "output_type": "display_data",
     "data": {
      "text/plain": [
       "<Figure size 432x288 with 1 Axes>"
      ],
      "image/svg+xml": "<?xml version=\"1.0\" encoding=\"utf-8\" standalone=\"no\"?>\n<!DOCTYPE svg PUBLIC \"-//W3C//DTD SVG 1.1//EN\"\n  \"http://www.w3.org/Graphics/SVG/1.1/DTD/svg11.dtd\">\n<svg height=\"248.518125pt\" version=\"1.1\" viewBox=\"0 0 372.103125 248.518125\" width=\"372.103125pt\" xmlns=\"http://www.w3.org/2000/svg\" xmlns:xlink=\"http://www.w3.org/1999/xlink\">\n <metadata>\n  <rdf:RDF xmlns:cc=\"http://creativecommons.org/ns#\" xmlns:dc=\"http://purl.org/dc/elements/1.1/\" xmlns:rdf=\"http://www.w3.org/1999/02/22-rdf-syntax-ns#\">\n   <cc:Work>\n    <dc:type rdf:resource=\"http://purl.org/dc/dcmitype/StillImage\"/>\n    <dc:date>2021-06-09T17:29:51.465457</dc:date>\n    <dc:format>image/svg+xml</dc:format>\n    <dc:creator>\n     <cc:Agent>\n      <dc:title>Matplotlib v3.4.1, https://matplotlib.org/</dc:title>\n     </cc:Agent>\n    </dc:creator>\n   </cc:Work>\n  </rdf:RDF>\n </metadata>\n <defs>\n  <style type=\"text/css\">*{stroke-linecap:butt;stroke-linejoin:round;}</style>\n </defs>\n <g id=\"figure_1\">\n  <g id=\"patch_1\">\n   <path d=\"M 0 248.518125 \nL 372.103125 248.518125 \nL 372.103125 0 \nL 0 0 \nz\n\"/>\n  </g>\n  <g id=\"axes_1\">\n   <g id=\"patch_2\">\n    <path d=\"M 30.103125 224.64 \nL 364.903125 224.64 \nL 364.903125 7.2 \nL 30.103125 7.2 \nz\n\"/>\n   </g>\n   <g id=\"matplotlib.axis_1\">\n    <g id=\"xtick_1\">\n     <g id=\"line2d_1\">\n      <path clip-path=\"url(#p76883ff678)\" d=\"M 35.175852 224.64 \nL 35.175852 7.2 \n\" style=\"fill:none;stroke:#1a1a1a;stroke-dasharray:2.96,1.28;stroke-dashoffset:0;stroke-width:0.8;\"/>\n     </g>\n     <g id=\"line2d_2\">\n      <defs>\n       <path d=\"M 0 0 \nL 0 3.5 \n\" id=\"mb3526d15f8\" style=\"stroke:#ffffff;stroke-width:0.8;\"/>\n      </defs>\n      <g>\n       <use style=\"fill:#ffffff;stroke:#ffffff;stroke-width:0.8;\" x=\"35.175852\" xlink:href=\"#mb3526d15f8\" y=\"224.64\"/>\n      </g>\n     </g>\n     <g id=\"text_1\">\n      <!-- −8 -->\n      <g style=\"fill:#ffffff;\" transform=\"translate(27.804759 239.238437)scale(0.1 -0.1)\">\n       <defs>\n        <path d=\"M 678 2272 \nL 4684 2272 \nL 4684 1741 \nL 678 1741 \nL 678 2272 \nz\n\" id=\"DejaVuSans-2212\" transform=\"scale(0.015625)\"/>\n        <path d=\"M 2034 2216 \nQ 1584 2216 1326 1975 \nQ 1069 1734 1069 1313 \nQ 1069 891 1326 650 \nQ 1584 409 2034 409 \nQ 2484 409 2743 651 \nQ 3003 894 3003 1313 \nQ 3003 1734 2745 1975 \nQ 2488 2216 2034 2216 \nz\nM 1403 2484 \nQ 997 2584 770 2862 \nQ 544 3141 544 3541 \nQ 544 4100 942 4425 \nQ 1341 4750 2034 4750 \nQ 2731 4750 3128 4425 \nQ 3525 4100 3525 3541 \nQ 3525 3141 3298 2862 \nQ 3072 2584 2669 2484 \nQ 3125 2378 3379 2068 \nQ 3634 1759 3634 1313 \nQ 3634 634 3220 271 \nQ 2806 -91 2034 -91 \nQ 1263 -91 848 271 \nQ 434 634 434 1313 \nQ 434 1759 690 2068 \nQ 947 2378 1403 2484 \nz\nM 1172 3481 \nQ 1172 3119 1398 2916 \nQ 1625 2713 2034 2713 \nQ 2441 2713 2670 2916 \nQ 2900 3119 2900 3481 \nQ 2900 3844 2670 4047 \nQ 2441 4250 2034 4250 \nQ 1625 4250 1398 4047 \nQ 1172 3844 1172 3481 \nz\n\" id=\"DejaVuSans-38\" transform=\"scale(0.015625)\"/>\n       </defs>\n       <use xlink:href=\"#DejaVuSans-2212\"/>\n       <use x=\"83.789062\" xlink:href=\"#DejaVuSans-38\"/>\n      </g>\n     </g>\n    </g>\n    <g id=\"xtick_2\">\n     <g id=\"line2d_3\">\n      <path clip-path=\"url(#p76883ff678)\" d=\"M 75.75767 224.64 \nL 75.75767 7.2 \n\" style=\"fill:none;stroke:#1a1a1a;stroke-dasharray:2.96,1.28;stroke-dashoffset:0;stroke-width:0.8;\"/>\n     </g>\n     <g id=\"line2d_4\">\n      <g>\n       <use style=\"fill:#ffffff;stroke:#ffffff;stroke-width:0.8;\" x=\"75.75767\" xlink:href=\"#mb3526d15f8\" y=\"224.64\"/>\n      </g>\n     </g>\n     <g id=\"text_2\">\n      <!-- −6 -->\n      <g style=\"fill:#ffffff;\" transform=\"translate(68.386577 239.238437)scale(0.1 -0.1)\">\n       <defs>\n        <path d=\"M 2113 2584 \nQ 1688 2584 1439 2293 \nQ 1191 2003 1191 1497 \nQ 1191 994 1439 701 \nQ 1688 409 2113 409 \nQ 2538 409 2786 701 \nQ 3034 994 3034 1497 \nQ 3034 2003 2786 2293 \nQ 2538 2584 2113 2584 \nz\nM 3366 4563 \nL 3366 3988 \nQ 3128 4100 2886 4159 \nQ 2644 4219 2406 4219 \nQ 1781 4219 1451 3797 \nQ 1122 3375 1075 2522 \nQ 1259 2794 1537 2939 \nQ 1816 3084 2150 3084 \nQ 2853 3084 3261 2657 \nQ 3669 2231 3669 1497 \nQ 3669 778 3244 343 \nQ 2819 -91 2113 -91 \nQ 1303 -91 875 529 \nQ 447 1150 447 2328 \nQ 447 3434 972 4092 \nQ 1497 4750 2381 4750 \nQ 2619 4750 2861 4703 \nQ 3103 4656 3366 4563 \nz\n\" id=\"DejaVuSans-36\" transform=\"scale(0.015625)\"/>\n       </defs>\n       <use xlink:href=\"#DejaVuSans-2212\"/>\n       <use x=\"83.789062\" xlink:href=\"#DejaVuSans-36\"/>\n      </g>\n     </g>\n    </g>\n    <g id=\"xtick_3\">\n     <g id=\"line2d_5\">\n      <path clip-path=\"url(#p76883ff678)\" d=\"M 116.339489 224.64 \nL 116.339489 7.2 \n\" style=\"fill:none;stroke:#1a1a1a;stroke-dasharray:2.96,1.28;stroke-dashoffset:0;stroke-width:0.8;\"/>\n     </g>\n     <g id=\"line2d_6\">\n      <g>\n       <use style=\"fill:#ffffff;stroke:#ffffff;stroke-width:0.8;\" x=\"116.339489\" xlink:href=\"#mb3526d15f8\" y=\"224.64\"/>\n      </g>\n     </g>\n     <g id=\"text_3\">\n      <!-- −4 -->\n      <g style=\"fill:#ffffff;\" transform=\"translate(108.968395 239.238437)scale(0.1 -0.1)\">\n       <defs>\n        <path d=\"M 2419 4116 \nL 825 1625 \nL 2419 1625 \nL 2419 4116 \nz\nM 2253 4666 \nL 3047 4666 \nL 3047 1625 \nL 3713 1625 \nL 3713 1100 \nL 3047 1100 \nL 3047 0 \nL 2419 0 \nL 2419 1100 \nL 313 1100 \nL 313 1709 \nL 2253 4666 \nz\n\" id=\"DejaVuSans-34\" transform=\"scale(0.015625)\"/>\n       </defs>\n       <use xlink:href=\"#DejaVuSans-2212\"/>\n       <use x=\"83.789062\" xlink:href=\"#DejaVuSans-34\"/>\n      </g>\n     </g>\n    </g>\n    <g id=\"xtick_4\">\n     <g id=\"line2d_7\">\n      <path clip-path=\"url(#p76883ff678)\" d=\"M 156.921307 224.64 \nL 156.921307 7.2 \n\" style=\"fill:none;stroke:#1a1a1a;stroke-dasharray:2.96,1.28;stroke-dashoffset:0;stroke-width:0.8;\"/>\n     </g>\n     <g id=\"line2d_8\">\n      <g>\n       <use style=\"fill:#ffffff;stroke:#ffffff;stroke-width:0.8;\" x=\"156.921307\" xlink:href=\"#mb3526d15f8\" y=\"224.64\"/>\n      </g>\n     </g>\n     <g id=\"text_4\">\n      <!-- −2 -->\n      <g style=\"fill:#ffffff;\" transform=\"translate(149.550213 239.238437)scale(0.1 -0.1)\">\n       <defs>\n        <path d=\"M 1228 531 \nL 3431 531 \nL 3431 0 \nL 469 0 \nL 469 531 \nQ 828 903 1448 1529 \nQ 2069 2156 2228 2338 \nQ 2531 2678 2651 2914 \nQ 2772 3150 2772 3378 \nQ 2772 3750 2511 3984 \nQ 2250 4219 1831 4219 \nQ 1534 4219 1204 4116 \nQ 875 4013 500 3803 \nL 500 4441 \nQ 881 4594 1212 4672 \nQ 1544 4750 1819 4750 \nQ 2544 4750 2975 4387 \nQ 3406 4025 3406 3419 \nQ 3406 3131 3298 2873 \nQ 3191 2616 2906 2266 \nQ 2828 2175 2409 1742 \nQ 1991 1309 1228 531 \nz\n\" id=\"DejaVuSans-32\" transform=\"scale(0.015625)\"/>\n       </defs>\n       <use xlink:href=\"#DejaVuSans-2212\"/>\n       <use x=\"83.789062\" xlink:href=\"#DejaVuSans-32\"/>\n      </g>\n     </g>\n    </g>\n    <g id=\"xtick_5\">\n     <g id=\"line2d_9\">\n      <path clip-path=\"url(#p76883ff678)\" d=\"M 197.503125 224.64 \nL 197.503125 7.2 \n\" style=\"fill:none;stroke:#1a1a1a;stroke-dasharray:2.96,1.28;stroke-dashoffset:0;stroke-width:0.8;\"/>\n     </g>\n     <g id=\"line2d_10\">\n      <g>\n       <use style=\"fill:#ffffff;stroke:#ffffff;stroke-width:0.8;\" x=\"197.503125\" xlink:href=\"#mb3526d15f8\" y=\"224.64\"/>\n      </g>\n     </g>\n     <g id=\"text_5\">\n      <!-- 0 -->\n      <g style=\"fill:#ffffff;\" transform=\"translate(194.321875 239.238437)scale(0.1 -0.1)\">\n       <defs>\n        <path d=\"M 2034 4250 \nQ 1547 4250 1301 3770 \nQ 1056 3291 1056 2328 \nQ 1056 1369 1301 889 \nQ 1547 409 2034 409 \nQ 2525 409 2770 889 \nQ 3016 1369 3016 2328 \nQ 3016 3291 2770 3770 \nQ 2525 4250 2034 4250 \nz\nM 2034 4750 \nQ 2819 4750 3233 4129 \nQ 3647 3509 3647 2328 \nQ 3647 1150 3233 529 \nQ 2819 -91 2034 -91 \nQ 1250 -91 836 529 \nQ 422 1150 422 2328 \nQ 422 3509 836 4129 \nQ 1250 4750 2034 4750 \nz\n\" id=\"DejaVuSans-30\" transform=\"scale(0.015625)\"/>\n       </defs>\n       <use xlink:href=\"#DejaVuSans-30\"/>\n      </g>\n     </g>\n    </g>\n    <g id=\"xtick_6\">\n     <g id=\"line2d_11\">\n      <path clip-path=\"url(#p76883ff678)\" d=\"M 238.084943 224.64 \nL 238.084943 7.2 \n\" style=\"fill:none;stroke:#1a1a1a;stroke-dasharray:2.96,1.28;stroke-dashoffset:0;stroke-width:0.8;\"/>\n     </g>\n     <g id=\"line2d_12\">\n      <g>\n       <use style=\"fill:#ffffff;stroke:#ffffff;stroke-width:0.8;\" x=\"238.084943\" xlink:href=\"#mb3526d15f8\" y=\"224.64\"/>\n      </g>\n     </g>\n     <g id=\"text_6\">\n      <!-- 2 -->\n      <g style=\"fill:#ffffff;\" transform=\"translate(234.903693 239.238437)scale(0.1 -0.1)\">\n       <use xlink:href=\"#DejaVuSans-32\"/>\n      </g>\n     </g>\n    </g>\n    <g id=\"xtick_7\">\n     <g id=\"line2d_13\">\n      <path clip-path=\"url(#p76883ff678)\" d=\"M 278.666761 224.64 \nL 278.666761 7.2 \n\" style=\"fill:none;stroke:#1a1a1a;stroke-dasharray:2.96,1.28;stroke-dashoffset:0;stroke-width:0.8;\"/>\n     </g>\n     <g id=\"line2d_14\">\n      <g>\n       <use style=\"fill:#ffffff;stroke:#ffffff;stroke-width:0.8;\" x=\"278.666761\" xlink:href=\"#mb3526d15f8\" y=\"224.64\"/>\n      </g>\n     </g>\n     <g id=\"text_7\">\n      <!-- 4 -->\n      <g style=\"fill:#ffffff;\" transform=\"translate(275.485511 239.238437)scale(0.1 -0.1)\">\n       <use xlink:href=\"#DejaVuSans-34\"/>\n      </g>\n     </g>\n    </g>\n    <g id=\"xtick_8\">\n     <g id=\"line2d_15\">\n      <path clip-path=\"url(#p76883ff678)\" d=\"M 319.24858 224.64 \nL 319.24858 7.2 \n\" style=\"fill:none;stroke:#1a1a1a;stroke-dasharray:2.96,1.28;stroke-dashoffset:0;stroke-width:0.8;\"/>\n     </g>\n     <g id=\"line2d_16\">\n      <g>\n       <use style=\"fill:#ffffff;stroke:#ffffff;stroke-width:0.8;\" x=\"319.24858\" xlink:href=\"#mb3526d15f8\" y=\"224.64\"/>\n      </g>\n     </g>\n     <g id=\"text_8\">\n      <!-- 6 -->\n      <g style=\"fill:#ffffff;\" transform=\"translate(316.06733 239.238437)scale(0.1 -0.1)\">\n       <use xlink:href=\"#DejaVuSans-36\"/>\n      </g>\n     </g>\n    </g>\n    <g id=\"xtick_9\">\n     <g id=\"line2d_17\">\n      <path clip-path=\"url(#p76883ff678)\" d=\"M 359.830398 224.64 \nL 359.830398 7.2 \n\" style=\"fill:none;stroke:#1a1a1a;stroke-dasharray:2.96,1.28;stroke-dashoffset:0;stroke-width:0.8;\"/>\n     </g>\n     <g id=\"line2d_18\">\n      <g>\n       <use style=\"fill:#ffffff;stroke:#ffffff;stroke-width:0.8;\" x=\"359.830398\" xlink:href=\"#mb3526d15f8\" y=\"224.64\"/>\n      </g>\n     </g>\n     <g id=\"text_9\">\n      <!-- 8 -->\n      <g style=\"fill:#ffffff;\" transform=\"translate(356.649148 239.238437)scale(0.1 -0.1)\">\n       <use xlink:href=\"#DejaVuSans-38\"/>\n      </g>\n     </g>\n    </g>\n   </g>\n   <g id=\"matplotlib.axis_2\">\n    <g id=\"ytick_1\">\n     <g id=\"line2d_19\">\n      <path clip-path=\"url(#p76883ff678)\" d=\"M 30.103125 214.756364 \nL 364.903125 214.756364 \n\" style=\"fill:none;stroke:#1a1a1a;stroke-dasharray:2.96,1.28;stroke-dashoffset:0;stroke-width:0.8;\"/>\n     </g>\n     <g id=\"line2d_20\">\n      <defs>\n       <path d=\"M 0 0 \nL -3.5 0 \n\" id=\"m4ab493b4bb\" style=\"stroke:#ffffff;stroke-width:0.8;\"/>\n      </defs>\n      <g>\n       <use style=\"fill:#ffffff;stroke:#ffffff;stroke-width:0.8;\" x=\"30.103125\" xlink:href=\"#m4ab493b4bb\" y=\"214.756364\"/>\n      </g>\n     </g>\n     <g id=\"text_10\">\n      <!-- 0.0 -->\n      <g style=\"fill:#ffffff;\" transform=\"translate(7.2 218.555582)scale(0.1 -0.1)\">\n       <defs>\n        <path d=\"M 684 794 \nL 1344 794 \nL 1344 0 \nL 684 0 \nL 684 794 \nz\n\" id=\"DejaVuSans-2e\" transform=\"scale(0.015625)\"/>\n       </defs>\n       <use xlink:href=\"#DejaVuSans-30\"/>\n       <use x=\"63.623047\" xlink:href=\"#DejaVuSans-2e\"/>\n       <use x=\"95.410156\" xlink:href=\"#DejaVuSans-30\"/>\n      </g>\n     </g>\n    </g>\n    <g id=\"ytick_2\">\n     <g id=\"line2d_21\">\n      <path clip-path=\"url(#p76883ff678)\" d=\"M 30.103125 175.199952 \nL 364.903125 175.199952 \n\" style=\"fill:none;stroke:#1a1a1a;stroke-dasharray:2.96,1.28;stroke-dashoffset:0;stroke-width:0.8;\"/>\n     </g>\n     <g id=\"line2d_22\">\n      <g>\n       <use style=\"fill:#ffffff;stroke:#ffffff;stroke-width:0.8;\" x=\"30.103125\" xlink:href=\"#m4ab493b4bb\" y=\"175.199952\"/>\n      </g>\n     </g>\n     <g id=\"text_11\">\n      <!-- 0.2 -->\n      <g style=\"fill:#ffffff;\" transform=\"translate(7.2 178.999171)scale(0.1 -0.1)\">\n       <use xlink:href=\"#DejaVuSans-30\"/>\n       <use x=\"63.623047\" xlink:href=\"#DejaVuSans-2e\"/>\n       <use x=\"95.410156\" xlink:href=\"#DejaVuSans-32\"/>\n      </g>\n     </g>\n    </g>\n    <g id=\"ytick_3\">\n     <g id=\"line2d_23\">\n      <path clip-path=\"url(#p76883ff678)\" d=\"M 30.103125 135.643541 \nL 364.903125 135.643541 \n\" style=\"fill:none;stroke:#1a1a1a;stroke-dasharray:2.96,1.28;stroke-dashoffset:0;stroke-width:0.8;\"/>\n     </g>\n     <g id=\"line2d_24\">\n      <g>\n       <use style=\"fill:#ffffff;stroke:#ffffff;stroke-width:0.8;\" x=\"30.103125\" xlink:href=\"#m4ab493b4bb\" y=\"135.643541\"/>\n      </g>\n     </g>\n     <g id=\"text_12\">\n      <!-- 0.4 -->\n      <g style=\"fill:#ffffff;\" transform=\"translate(7.2 139.44276)scale(0.1 -0.1)\">\n       <use xlink:href=\"#DejaVuSans-30\"/>\n       <use x=\"63.623047\" xlink:href=\"#DejaVuSans-2e\"/>\n       <use x=\"95.410156\" xlink:href=\"#DejaVuSans-34\"/>\n      </g>\n     </g>\n    </g>\n    <g id=\"ytick_4\">\n     <g id=\"line2d_25\">\n      <path clip-path=\"url(#p76883ff678)\" d=\"M 30.103125 96.087129 \nL 364.903125 96.087129 \n\" style=\"fill:none;stroke:#1a1a1a;stroke-dasharray:2.96,1.28;stroke-dashoffset:0;stroke-width:0.8;\"/>\n     </g>\n     <g id=\"line2d_26\">\n      <g>\n       <use style=\"fill:#ffffff;stroke:#ffffff;stroke-width:0.8;\" x=\"30.103125\" xlink:href=\"#m4ab493b4bb\" y=\"96.087129\"/>\n      </g>\n     </g>\n     <g id=\"text_13\">\n      <!-- 0.6 -->\n      <g style=\"fill:#ffffff;\" transform=\"translate(7.2 99.886348)scale(0.1 -0.1)\">\n       <use xlink:href=\"#DejaVuSans-30\"/>\n       <use x=\"63.623047\" xlink:href=\"#DejaVuSans-2e\"/>\n       <use x=\"95.410156\" xlink:href=\"#DejaVuSans-36\"/>\n      </g>\n     </g>\n    </g>\n    <g id=\"ytick_5\">\n     <g id=\"line2d_27\">\n      <path clip-path=\"url(#p76883ff678)\" d=\"M 30.103125 56.530718 \nL 364.903125 56.530718 \n\" style=\"fill:none;stroke:#1a1a1a;stroke-dasharray:2.96,1.28;stroke-dashoffset:0;stroke-width:0.8;\"/>\n     </g>\n     <g id=\"line2d_28\">\n      <g>\n       <use style=\"fill:#ffffff;stroke:#ffffff;stroke-width:0.8;\" x=\"30.103125\" xlink:href=\"#m4ab493b4bb\" y=\"56.530718\"/>\n      </g>\n     </g>\n     <g id=\"text_14\">\n      <!-- 0.8 -->\n      <g style=\"fill:#ffffff;\" transform=\"translate(7.2 60.329937)scale(0.1 -0.1)\">\n       <use xlink:href=\"#DejaVuSans-30\"/>\n       <use x=\"63.623047\" xlink:href=\"#DejaVuSans-2e\"/>\n       <use x=\"95.410156\" xlink:href=\"#DejaVuSans-38\"/>\n      </g>\n     </g>\n    </g>\n    <g id=\"ytick_6\">\n     <g id=\"line2d_29\">\n      <path clip-path=\"url(#p76883ff678)\" d=\"M 30.103125 16.974307 \nL 364.903125 16.974307 \n\" style=\"fill:none;stroke:#1a1a1a;stroke-dasharray:2.96,1.28;stroke-dashoffset:0;stroke-width:0.8;\"/>\n     </g>\n     <g id=\"line2d_30\">\n      <g>\n       <use style=\"fill:#ffffff;stroke:#ffffff;stroke-width:0.8;\" x=\"30.103125\" xlink:href=\"#m4ab493b4bb\" y=\"16.974307\"/>\n      </g>\n     </g>\n     <g id=\"text_15\">\n      <!-- 1.0 -->\n      <g style=\"fill:#ffffff;\" transform=\"translate(7.2 20.773525)scale(0.1 -0.1)\">\n       <defs>\n        <path d=\"M 794 531 \nL 1825 531 \nL 1825 4091 \nL 703 3866 \nL 703 4441 \nL 1819 4666 \nL 2450 4666 \nL 2450 531 \nL 3481 531 \nL 3481 0 \nL 794 0 \nL 794 531 \nz\n\" id=\"DejaVuSans-31\" transform=\"scale(0.015625)\"/>\n       </defs>\n       <use xlink:href=\"#DejaVuSans-31\"/>\n       <use x=\"63.623047\" xlink:href=\"#DejaVuSans-2e\"/>\n       <use x=\"95.410156\" xlink:href=\"#DejaVuSans-30\"/>\n      </g>\n     </g>\n    </g>\n   </g>\n   <g id=\"line2d_31\">\n    <path clip-path=\"url(#p76883ff678)\" d=\"M 30.103125 214.756364 \nL 364.903125 214.756364 \n\" style=\"fill:none;stroke:#333333;stroke-linecap:square;stroke-width:1.5;\"/>\n   </g>\n   <g id=\"line2d_32\">\n    <path clip-path=\"url(#p76883ff678)\" d=\"M 197.503125 224.64 \nL 197.503125 7.2 \n\" style=\"fill:none;stroke:#333333;stroke-linecap:square;stroke-width:1.5;\"/>\n   </g>\n   <g id=\"line2d_33\">\n    <path clip-path=\"url(#p76883ff678)\" d=\"M 45.321307 214.647034 \nL 51.53281 214.607907 \nL 57.744312 214.554792 \nL 63.955815 214.482699 \nL 70.167318 214.38487 \nL 76.378821 214.25216 \nL 82.590324 214.072205 \nL 88.801826 213.828324 \nL 95.013329 213.498062 \nL 101.224832 213.051288 \nL 107.436335 212.447746 \nL 113.647837 211.633971 \nL 119.85934 210.539533 \nL 126.070843 209.072681 \nL 132.282346 207.115716 \nL 138.493849 204.520846 \nL 144.705351 201.107979 \nL 150.916854 196.666907 \nL 157.128357 190.967443 \nL 163.33986 183.781784 \nL 169.551362 174.922542 \nL 175.762865 164.29593 \nL 181.974368 151.961478 \nL 188.185871 138.179206 \nL 194.397374 123.418785 \nL 200.608876 108.311885 \nL 206.820379 93.551464 \nL 213.031882 79.769192 \nL 219.243385 67.43474 \nL 225.454888 56.808128 \nL 231.66639 47.948886 \nL 237.877893 40.763227 \nL 244.089396 35.063763 \nL 250.300899 30.622691 \nL 256.512401 27.209824 \nL 262.723904 24.614954 \nL 268.935407 22.65799 \nL 275.14691 21.191138 \nL 281.358413 20.0967 \nL 287.569915 19.282924 \nL 293.781418 18.679382 \nL 299.992921 18.232608 \nL 306.204424 17.902347 \nL 312.415926 17.658466 \nL 318.627429 17.478511 \nL 324.838932 17.3458 \nL 331.050435 17.247971 \nL 337.261938 17.175879 \nL 343.47344 17.122763 \nL 349.684943 17.083636 \n\" style=\"fill:none;stroke:#8dd3c7;stroke-linecap:square;stroke-width:1.5;\"/>\n   </g>\n   <g id=\"patch_3\">\n    <path d=\"M 30.103125 224.64 \nL 30.103125 7.2 \n\" style=\"fill:none;stroke:#ffffff;stroke-linecap:square;stroke-linejoin:miter;stroke-width:0.8;\"/>\n   </g>\n   <g id=\"patch_4\">\n    <path d=\"M 364.903125 224.64 \nL 364.903125 7.2 \n\" style=\"fill:none;stroke:#ffffff;stroke-linecap:square;stroke-linejoin:miter;stroke-width:0.8;\"/>\n   </g>\n   <g id=\"patch_5\">\n    <path d=\"M 30.103125 224.64 \nL 364.903125 224.64 \n\" style=\"fill:none;stroke:#ffffff;stroke-linecap:square;stroke-linejoin:miter;stroke-width:0.8;\"/>\n   </g>\n   <g id=\"patch_6\">\n    <path d=\"M 30.103125 7.2 \nL 364.903125 7.2 \n\" style=\"fill:none;stroke:#ffffff;stroke-linecap:square;stroke-linejoin:miter;stroke-width:0.8;\"/>\n   </g>\n  </g>\n </g>\n <defs>\n  <clipPath id=\"p76883ff678\">\n   <rect height=\"217.44\" width=\"334.8\" x=\"30.103125\" y=\"7.2\"/>\n  </clipPath>\n </defs>\n</svg>\n",
      "image/png": "[encoded data removed]"
     },
     "metadata": {}
    }
   ],
   "metadata": {}
  },
  {
   "cell_type": "code",
   "execution_count": 26,
   "source": [
    "# Full neuron function\n",
    "def neuron(x, weights, bias):\n",
    "    \"\"\"\n",
    "    Return a classical neuron output (reuse code above)\n",
    "    \"\"\"\n",
    "    return sigmoid(sum(mul(x, weights))+bias)"
   ],
   "outputs": [],
   "metadata": {}
  },
  {
   "cell_type": "code",
   "execution_count": 27,
   "source": [
    "# Test neuron() function\n",
    "neuron(my_x, my_w, my_b)"
   ],
   "outputs": [
    {
     "output_type": "execute_result",
     "data": {
      "text/plain": [
       "0.9999546021312976"
      ]
     },
     "metadata": {},
     "execution_count": 27
    }
   ],
   "metadata": {}
  },
  {
   "cell_type": "code",
   "execution_count": 28,
   "source": [
    "def or_neuron(x):\n",
    "    \"\"\"\n",
    "    Return x1 OR x2 (x1 + x2)\n",
    "    \"\"\"\n",
    "    return x[0] or x[1] "
   ],
   "outputs": [],
   "metadata": {}
  },
  {
   "cell_type": "code",
   "execution_count": 29,
   "source": [
    "# Defina a collection of inputs to test OR and AND\n",
    "my_x_collection = [\n",
    "    [0, 0],\n",
    "    [0, 1],\n",
    "    [1, 0],\n",
    "    [1, 1],\n",
    "]"
   ],
   "outputs": [],
   "metadata": {}
  },
  {
   "cell_type": "code",
   "execution_count": 30,
   "source": [
    "print('Checking OR neuron output')\n",
    "for my_x in my_x_collection:\n",
    "    print(my_x, f'{or_neuron(my_x):.3f}')"
   ],
   "outputs": [
    {
     "output_type": "stream",
     "name": "stdout",
     "text": [
      "Checking OR neuron output\n",
      "[0, 0] 0.000\n",
      "[0, 1] 1.000\n",
      "[1, 0] 1.000\n",
      "[1, 1] 1.000\n"
     ]
    }
   ],
   "metadata": {}
  },
  {
   "cell_type": "code",
   "execution_count": 31,
   "source": [
    "# Package AND neuron weights and bias\n",
    "def and_neuron(x):\n",
    "    \"\"\"\n",
    "    Return x1 AND x2 (x1 * x2)\n",
    "    \"\"\"\n",
    "    return x[0] and x[1]"
   ],
   "outputs": [],
   "metadata": {}
  },
  {
   "cell_type": "code",
   "execution_count": 32,
   "source": [
    "print('Checking AND neuron output')\n",
    "for my_x in my_x_collection:\n",
    "    print(my_x, f'{and_neuron(my_x):.3f}')"
   ],
   "outputs": [
    {
     "output_type": "stream",
     "name": "stdout",
     "text": [
      "Checking AND neuron output\n",
      "[0, 0] 0.000\n",
      "[0, 1] 0.000\n",
      "[1, 0] 0.000\n",
      "[1, 1] 1.000\n"
     ]
    }
   ],
   "metadata": {}
  },
  {
   "cell_type": "code",
   "execution_count": 33,
   "source": [
    "def not_neuron(x):\n",
    "    \"\"\"\n",
    "    Return NOT x1 (x1_)\n",
    "    \"\"\"\n",
    "    return not x[0]"
   ],
   "outputs": [],
   "metadata": {}
  },
  {
   "cell_type": "code",
   "execution_count": 34,
   "source": [
    "print('Checking NOT neuron output')\n",
    "for my_x in [[0], [1]]:\n",
    "    print(my_x, f'{not_neuron(my_x):.3f}')"
   ],
   "outputs": [
    {
     "output_type": "stream",
     "name": "stdout",
     "text": [
      "Checking NOT neuron output\n",
      "[0] 1.000\n",
      "[1] 0.000\n"
     ]
    }
   ],
   "metadata": {}
  },
  {
   "cell_type": "code",
   "execution_count": 35,
   "source": [
    "# Combine OR, AND, and NOT into a XOR neuron\n",
    "def xor_neuron(x):\n",
    "    \"\"\"\n",
    "    Return x1_ * x2 + x1 * x2_\n",
    "    \"\"\"\n",
    "    return (not x[0]) and x[1] or x[0] and (not x[1])"
   ],
   "outputs": [],
   "metadata": {}
  },
  {
   "cell_type": "code",
   "execution_count": 36,
   "source": [
    "print('Checking XOR neuron output')\n",
    "for my_x in my_x_collection:\n",
    "    print(my_x, f'{xor_neuron(my_x):.3f}')"
   ],
   "outputs": [
    {
     "output_type": "stream",
     "name": "stdout",
     "text": [
      "Checking XOR neuron output\n",
      "[0, 0] 0.000\n",
      "[0, 1] 1.000\n",
      "[1, 0] 1.000\n",
      "[1, 1] 0.000\n"
     ]
    }
   ],
   "metadata": {}
  },
  {
   "cell_type": "markdown",
   "source": [
    "### tensorflow"
   ],
   "metadata": {}
  },
  {
   "cell_type": "code",
   "execution_count": null,
   "source": [
    "# 模型网络继承object，入口函数是build()，在该函数下创建所有的训练和测试的所需要的操作\n",
    "# build()\n",
    "    # build_placeholder\n",
    "    # build_inputs: 输入特征和标签\n",
    "    # build_model: 嵌入层+DNN层+预测层\n",
    "        # 每一层需要with tf.variable_scope() as scope: 这个函数返回上下文管理器，用于定义创建变量(或层)的操作"
   ],
   "outputs": [],
   "metadata": {}
  }
 ],
 "metadata": {
  "interpreter": {
   "hash": "72506cc1e4b0dce5eb876f653d1c5faf29777724f7cbfb23a9a7a2a764425624"
  },
  "kernelspec": {
   "display_name": "Python 3.6.13 64-bit ('lnf': conda)",
   "name": "python3"
  },
  "language_info": {
   "name": "python",
   "version": ""
  },
  "metadata": {
   "interpreter": {
    "hash": "72506cc1e4b0dce5eb876f653d1c5faf29777724f7cbfb23a9a7a2a764425624"
   }
  },
  "orig_nbformat": 2
 },
 "nbformat": 4,
 "nbformat_minor": 2
}