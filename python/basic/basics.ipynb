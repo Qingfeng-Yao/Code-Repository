{
 "cells": [
  {
   "cell_type": "code",
   "execution_count": 1,
   "metadata": {},
   "outputs": [
    {
     "name": "stdout",
     "output_type": "stream",
     "text": [
      "sys.version_info(major=3, minor=6, micro=13, releaselevel='final', serial=0)\n",
      "True\n"
     ]
    }
   ],
   "source": [
    "# python版本\n",
    "import sys\n",
    "print(sys.version_info)\n",
    "print(sys.version_info > (3, 0))"
   ]
  },
  {
   "cell_type": "code",
   "execution_count": null,
   "metadata": {},
   "outputs": [],
   "source": [
    "# python中下划线(单下划线和双下划线)\n",
    "    # (1): __foo__: 一种约定，python内部的名字，用来区别其他用户自定义的命名，以防冲突\n",
    "\t# __new__是一个静态方法，而__init__是一个实例方法\n",
    "    \t    # __init__是当一个实例被创建的时候初始化的方法，但是它并不是实例化调用的第一个方法\n",
    "\t    # __new__才是实例化对象调用的第一个方法\n",
    "\t    # 只有在__new__返回一个cls的实例时后面的__init__才能被调用\n",
    "\t    # __new__会返回一个创建的实例，而__init__什么都不返回\n",
    "            # 当创建一个新实例时调用__new__，初始化一个实例时用__init__\n",
    "        # __metaclass__是创建类时起作用\n",
    "\t    # __metaclass__,__new__和__init__分别使用在类创建、实例创建和实例初始化的时候\n",
    "        # __repr__: 自定义对象输出\n",
    "        # 比较:\n",
    "\t    # def __eq__(self, other):\n",
    "\t    #     return self.value == other.value\n",
    "\n",
    "\t    # def __lt__(self, other):\n",
    "\t    #     return self.value < other.value\n",
    "\n",
    "\t    # def __ge__(self, other):\n",
    "\t    #     return self.value >= other.value\n",
    "        # 若想要让对象成为迭代器，则使用__iter__()，这允许我们调用next()\n",
    "\t# 在类里定义__slots__ = ('name', 'age') \n",
    "\t    # 用tuple定义允许绑定的属性名称，如只允许对实例添加name和age属性\n",
    "\t    # 使用__slots__要注意，__slots__定义的属性仅对当前类起作用，对继承的子类是不起作用的\n",
    "\t# __del__, __call__, __len__(), __str__(): 让一个类的实例像函数一样被调用，这些特殊方法，也叫魔法方法\n",
    "    # (2): _foo: 一种约定，用来指定变量私有\n",
    "    \t# 不能用from module import * 导入，其他方面和公有一样访问\n",
    "    # (3): __foo: 解析器用_classname__foo来代替这个名字，以区别和其他类相同的命名\n",
    "    \t# 它无法直接像公有成员一样随便访问，通过对象名._类名__xxx这样的方式可以访问"
   ]
  },
  {
   "cell_type": "code",
   "execution_count": 2,
   "metadata": {},
   "outputs": [
    {
     "name": "stdout",
     "output_type": "stream",
     "text": [
      "10\n",
      "10\n"
     ]
    },
    {
     "ename": "AttributeError",
     "evalue": "'person' object has no attribute '__age'",
     "output_type": "error",
     "traceback": [
      "\u001b[0;31m---------------------------------------------------------------------------\u001b[0m",
      "\u001b[0;31mAttributeError\u001b[0m                            Traceback (most recent call last)",
      "\u001b[0;32m<ipython-input-2-8f5d71d9483e>\u001b[0m in \u001b[0;36m<module>\u001b[0;34m\u001b[0m\n\u001b[1;32m      9\u001b[0m \u001b[0mprint\u001b[0m\u001b[0;34m(\u001b[0m\u001b[0mt\u001b[0m\u001b[0;34m.\u001b[0m\u001b[0mage\u001b[0m\u001b[0;34m(\u001b[0m\u001b[0;34m)\u001b[0m\u001b[0;34m)\u001b[0m\u001b[0;34m\u001b[0m\u001b[0;34m\u001b[0m\u001b[0m\n\u001b[1;32m     10\u001b[0m \u001b[0mprint\u001b[0m\u001b[0;34m(\u001b[0m\u001b[0mt\u001b[0m\u001b[0;34m.\u001b[0m\u001b[0m_person__age\u001b[0m\u001b[0;34m)\u001b[0m\u001b[0;34m\u001b[0m\u001b[0;34m\u001b[0m\u001b[0m\n\u001b[0;32m---> 11\u001b[0;31m \u001b[0mprint\u001b[0m\u001b[0;34m(\u001b[0m\u001b[0mt\u001b[0m\u001b[0;34m.\u001b[0m\u001b[0m__age\u001b[0m\u001b[0;34m)\u001b[0m\u001b[0;34m\u001b[0m\u001b[0;34m\u001b[0m\u001b[0m\n\u001b[0m",
      "\u001b[0;31mAttributeError\u001b[0m: 'person' object has no attribute '__age'"
     ]
    }
   ],
   "source": [
    "# python中下划线(3): __foo\n",
    "\t# 面向对象中实现只读属性: 将对象私有化，通过共有方法提供一个读取数据的接口\n",
    "class person:\n",
    "    def __init__(self, x):\n",
    "        self.__age = 10\n",
    "    def age(self):\n",
    "        return self.__age\n",
    "t = person(22)\n",
    "print(t.age())\n",
    "print(t._person__age)\n",
    "print(t.__age)"
   ]
  },
  {
   "cell_type": "code",
   "execution_count": 5,
   "metadata": {},
   "outputs": [
    {
     "name": "stdout",
     "output_type": "stream",
     "text": [
      ", world!\n",
      "{'_MyClass__superprivate': 'Hello', '_semiprivate': ', world!'}\n"
     ]
    }
   ],
   "source": [
    "# python中下划线(2)(3): _foo和__foo\n",
    "class MyClass():\n",
    "    def __init__(self):\n",
    "        self.__superprivate = \"Hello\"\n",
    "        self._semiprivate = \", world!\"\n",
    "mc = MyClass()\n",
    "print(mc._semiprivate)\n",
    "print(mc.__dict__)"
   ]
  },
  {
   "cell_type": "code",
   "execution_count": null,
   "metadata": {},
   "outputs": [],
   "source": [
    "# 迭代器和生成器\n",
    "    # (1): 将列表生成式中[]改成()之后数据结构会改变，从列表变为生成器\n",
    "        # 通过列表生成式，可以直接创建一个列表\n",
    "        # 但是，受到内存限制，列表容量肯定是有限的\n",
    "        # 而且，创建一个包含百万元素的列表，会占用很大的内存空间\n",
    "        # 如，我们只需要访问前面的几个元素，后面大部分元素所占的空间都是浪费的\n",
    "        # 因此，没有必要创建完整的列表(节省大量内存空间)\n",
    "        # 可以采用生成器：边循环，边计算的机制—>generator"
   ]
  },
  {
   "cell_type": "code",
   "execution_count": 6,
   "metadata": {},
   "outputs": [
    {
     "name": "stdout",
     "output_type": "stream",
     "text": [
      "[0, 1, 4, 9, 16, 25, 36, 49, 64, 81]\n",
      "<generator object <genexpr> at 0x7f75ed4bd830>\n"
     ]
    }
   ],
   "source": [
    "# 迭代器和生成器(1): []改成()\n",
    "L = [x*x for x in range(10)]\n",
    "print(L)\n",
    "g = (x*x for x in range(10))\n",
    "print(g)"
   ]
  },
  {
   "cell_type": "code",
   "execution_count": null,
   "metadata": {},
   "outputs": [],
   "source": [
    "# 鸭子类型\n",
    "    # (1): 概念\n",
    "    \t# 我们并不关心对象是什么类型，到底是不是鸭子，只关心行为\n",
    "    \t# 比如在python中，有很多file-like的东西，比如StringIO, GzipFile, socket，它们有很多相同的方法，我们把它们当作文件使用\n",
    "    \t# 又比如list.extend()方法中，我们并不关心它的参数是不是list，只要它是可迭代的，所以它的参数可以是list/tuple/dict/字符串/生成器等\n",
    "    \t# 鸭子类型在动态语言中经常使用，非常灵活"
   ]
  },
  {
   "cell_type": "code",
   "execution_count": null,
   "metadata": {},
   "outputs": [],
   "source": [
    "# 单例模式\n",
    "    # (1): 概念\n",
    "        # 一种常用的软件设计模式\n",
    "        # 在它的核心结构中只包含一个被称为单例类的特殊类\n",
    "        # 通过单例模式可以保证系统中一个类只有一个实例而且该实例易于外界访问\n",
    "        # 从而方便对实例个数进行控制并节约系统资源\n",
    "        # 如果希望在系统中某个类的对象只能存在一个，单例模式是最好的解决方案\n",
    "    # (2): 实现\n",
    "        # __new__()在__init__()之前被调用，用于生成实例对象\n",
    "        # 利用这个方法和类的属性的特点可以实现单例模式\n",
    "        # 单例模式是指创建唯一对象，单例模式设计的类只能实例"
   ]
  },
  {
   "cell_type": "code",
   "execution_count": 7,
   "metadata": {},
   "outputs": [
    {
     "name": "stdout",
     "output_type": "stream",
     "text": [
      "True\n"
     ]
    }
   ],
   "source": [
    "# 单例模式(2): 实现\n",
    "    # 使用__new__方法，new是真正创建实例对象的方法，所以重写基类的new方法\n",
    "class Singleton(object): \n",
    "    def __new__(cls, *args, **kw):\n",
    "        if not hasattr(cls, '_instance'):\n",
    "            orig = super(Singleton, cls)\n",
    "            cls._instance = orig.__new__(cls, *args, **kw)\n",
    "        return cls._instance\n",
    "\n",
    "class MyClass(Singleton):\n",
    "    pass\n",
    "c1=MyClass()\n",
    "c2=MyClass()\n",
    "print(c1 is c2)"
   ]
  },
  {
   "cell_type": "code",
   "execution_count": 8,
   "metadata": {},
   "outputs": [
    {
     "name": "stdout",
     "output_type": "stream",
     "text": [
      "True\n"
     ]
    }
   ],
   "source": [
    "# 单例模式(2): 实现\n",
    "    # 装饰器版本\n",
    "def singleton(cls): \n",
    "    instances = {}\n",
    "    def getinstance(*args, **kw):\n",
    "        if cls not in instances:\n",
    "            instances[cls] = cls(*args, **kw)\n",
    "        return instances[cls]\n",
    "    return getinstance\n",
    "\n",
    "@singleton\n",
    "class MyClass:\n",
    "    pass\n",
    "f1=MyClass()\n",
    "f2=MyClass()\n",
    "print(f1 is f2)"
   ]
  },
  {
   "cell_type": "code",
   "execution_count": 9,
   "metadata": {},
   "outputs": [
    {
     "name": "stdout",
     "output_type": "stream",
     "text": [
      "True\n"
     ]
    }
   ],
   "source": [
    "# 单例模式(2): 实现\n",
    "    # type是python的元类\n",
    "    # 元类是用于创建类对象的类\n",
    "    # 类对象创建实例对象时一定要调用call方法\n",
    "    # 因此在调用call时候保证始终只创建一个实例即可\n",
    "class Singleton(type):  \n",
    "    def __call__(cls, *args, **kwargs):\n",
    "        if not hasattr(cls, '_instance'):\n",
    "            cls._instance = super(Singleton, cls).__call__(*args, **kwargs)\n",
    "        return cls._instance\n",
    "\n",
    "class Foo(metaclass=Singleton):\n",
    "    pass\n",
    "\n",
    "foo1 = Foo()\n",
    "foo2 = Foo()\n",
    "print(foo1 is foo2)"
   ]
  },
  {
   "cell_type": "code",
   "execution_count": null,
   "metadata": {},
   "outputs": [],
   "source": [
    "# 单例模式(2): 实现\n",
    "    # import方法    \n",
    "    # 作为python的模块是天然的单例模式\n",
    "class My_Singleton(object): # mysingleton.py   \n",
    "    def foo(self):\n",
    "        pass\n",
    "\n",
    "my_singleton = My_Singleton()\n",
    "\n",
    "from mysingleton import my_singleton\n",
    "\n",
    "my_singleton.foo()"
   ]
  },
  {
   "cell_type": "code",
   "execution_count": null,
   "metadata": {},
   "outputs": [],
   "source": [
    "# 闭包\n",
    "    # (1): 概念 \n",
    "        # 闭包(closure)是函数式编程的重要的语法结构\n",
    "        # 闭包也是一种组织代码的结构，它同样提高了代码的可重复使用性\n",
    "        # 当一个内嵌函数引用其外部作用域的变量，我们就会得到一个闭包\n",
    "    # (2): 创建\n",
    "        # 创建一个闭包必须满足以下几点:\n",
    "            # 必须有一个内嵌函数\n",
    "            # 内嵌函数必须引用外部函数中的变量\n",
    "            # 外部函数的返回值必须是内嵌函数\n",
    "    # (3): 闭包的延迟绑定\n",
    "        # 内部函数被调用时，参数的值在闭包内进行查找"
   ]
  },
  {
   "cell_type": "code",
   "execution_count": 10,
   "metadata": {},
   "outputs": [
    {
     "name": "stdout",
     "output_type": "stream",
     "text": [
      "[6, 6, 6, 6]\n"
     ]
    }
   ],
   "source": [
    "# 闭包(3): 闭包的延迟绑定\n",
    "    # 当任何由multipliers()返回的函数被调用时\n",
    "    # i的值将在附近的范围进行查找\n",
    "    # 那时，不管返回的函数是否被调用\n",
    "    # for循环已经完成，i被赋予了最终的值3\n",
    "def multipliers():\n",
    "    return [lambda x: i*x for i in range(4)]\n",
    "print([m(2) for m in multipliers()])"
   ]
  },
  {
   "cell_type": "code",
   "execution_count": 11,
   "metadata": {},
   "outputs": [],
   "source": [
    "# 装饰器\n",
    "    # (1): 概念\n",
    "\t# 面向切面编程AOP(Aspect Oriented Programming)\n",
    "    \t# 装饰器是一个很著名的设计模式\n",
    "\t# 经常被用于有切面需求的场景\n",
    "\t# 较为经典的有插入日志、性能测试、事务处理等\n",
    "\t# 装饰器是解决这类问题的绝佳设计\n",
    "\t# 有了装饰器，我们就可以抽离出大量函数中与函数功能本身无关的雷同代码并继续重用\n",
    "\t# 概括的讲，装饰器的作用就是为已经存在的对象添加额外的功能\n",
    "    # (2): 实现\n",
    "    # (3): 内置装饰器"
   ]
  },
  {
   "cell_type": "code",
   "execution_count": 12,
   "metadata": {},
   "outputs": [
    {
     "name": "stdout",
     "output_type": "stream",
     "text": [
      "Hello backbp, 2021 Happy\n"
     ]
    },
    {
     "ename": "TimeException",
     "evalue": "函数已过时",
     "output_type": "error",
     "traceback": [
      "\u001b[0;31m---------------------------------------------------------------------------\u001b[0m",
      "\u001b[0;31mTimeException\u001b[0m                             Traceback (most recent call last)",
      "\u001b[0;32m<ipython-input-12-35237b0a473b>\u001b[0m in \u001b[0;36m<module>\u001b[0;34m\u001b[0m\n\u001b[1;32m     38\u001b[0m \u001b[0;34m\u001b[0m\u001b[0m\n\u001b[1;32m     39\u001b[0m \u001b[0mtest_1\u001b[0m\u001b[0;34m(\u001b[0m\u001b[0;34m\"backbp\"\u001b[0m\u001b[0;34m)\u001b[0m\u001b[0;34m\u001b[0m\u001b[0;34m\u001b[0m\u001b[0m\n\u001b[0;32m---> 40\u001b[0;31m \u001b[0mtest_2\u001b[0m\u001b[0;34m(\u001b[0m\u001b[0;34m\"backbp\"\u001b[0m\u001b[0;34m)\u001b[0m\u001b[0;34m\u001b[0m\u001b[0;34m\u001b[0m\u001b[0m\n\u001b[0m",
      "\u001b[0;32m<ipython-input-12-35237b0a473b>\u001b[0m in \u001b[0;36mwrapper\u001b[0;34m(*args, **kwargs)\u001b[0m\n\u001b[1;32m     25\u001b[0m             \u001b[0mfunc\u001b[0m\u001b[0;34m(\u001b[0m\u001b[0;34m*\u001b[0m\u001b[0margs\u001b[0m\u001b[0;34m,\u001b[0m \u001b[0;34m**\u001b[0m\u001b[0mkwargs\u001b[0m\u001b[0;34m)\u001b[0m\u001b[0;34m\u001b[0m\u001b[0;34m\u001b[0m\u001b[0m\n\u001b[1;32m     26\u001b[0m         \u001b[0;32melse\u001b[0m\u001b[0;34m:\u001b[0m\u001b[0;34m\u001b[0m\u001b[0;34m\u001b[0m\u001b[0m\n\u001b[0;32m---> 27\u001b[0;31m             \u001b[0;32mraise\u001b[0m \u001b[0mTimeException\u001b[0m\u001b[0;34m(\u001b[0m\u001b[0;34m\"函数已过时\"\u001b[0m\u001b[0;34m)\u001b[0m\u001b[0;34m\u001b[0m\u001b[0;34m\u001b[0m\u001b[0m\n\u001b[0m\u001b[1;32m     28\u001b[0m \u001b[0;34m\u001b[0m\u001b[0m\n\u001b[1;32m     29\u001b[0m     \u001b[0;32mreturn\u001b[0m \u001b[0mwrapper\u001b[0m\u001b[0;34m\u001b[0m\u001b[0;34m\u001b[0m\u001b[0m\n",
      "\u001b[0;31mTimeException\u001b[0m: 函数已过时"
     ]
    }
   ],
   "source": [
    "# 装饰器(2): 实现\n",
    "    # 写一个判断时间的装饰器\n",
    "import datetime\n",
    "\n",
    "class TimeException(Exception):\n",
    "    def __init__(self, exception_info):\n",
    "        super().__init__()\n",
    "        self.info = exception_info\n",
    "\n",
    "    def __str__(self):\n",
    "        return self.info\n",
    "\n",
    "def timecheck_1(func):\n",
    "    def wrapper(*args, **kwargs):\n",
    "        if datetime.datetime.now().year == 2021:\n",
    "            func(*args, **kwargs)\n",
    "        else:\n",
    "            raise TimeException(\"函数已过时\")\n",
    "\n",
    "    return wrapper\n",
    "\n",
    "def timecheck_2(func):\n",
    "    def wrapper(*args, **kwargs):\n",
    "        if datetime.datetime.now().year == 2020:\n",
    "            func(*args, **kwargs)\n",
    "        else:\n",
    "            raise TimeException(\"函数已过时\")\n",
    "\n",
    "    return wrapper\n",
    "\n",
    "@timecheck_1\n",
    "def test_1(name):\n",
    "    print(\"Hello {}, 2021 Happy\".format(name))\n",
    "\n",
    "@timecheck_2\n",
    "def test_2(name):\n",
    "    print(\"Hello {}, 2020 Happy\".format(name))\n",
    "\n",
    "test_1(\"backbp\")\n",
    "test_2(\"backbp\")"
   ]
  },
  {
   "cell_type": "code",
   "execution_count": 14,
   "metadata": {},
   "outputs": [
    {
     "name": "stdout",
     "output_type": "stream",
     "text": [
      "Time taken in fib: 0.3093498\n",
      "832040\n",
      "Time taken in fib_m: 0.0001593\n",
      "832040\n"
     ]
    }
   ],
   "source": [
    "# 装饰器(2): 实现\n",
    "    # 计算时间的装饰器\n",
    "import time\n",
    "def timeit(fn): \n",
    "    # *args and **kwargs are to support positional and named arguments of fn\n",
    "    def get_time(*args, **kwargs): \n",
    "        start = time.time() \n",
    "        output = fn(*args, **kwargs)\n",
    "        print(f\"Time taken in {fn.__name__}: {time.time() - start:.7f}\")\n",
    "        return output  # make sure that the decorator returns the output of fn\n",
    "    return get_time \n",
    "\n",
    "def fib_helper(n):\n",
    "    if n < 2:\n",
    "        return n\n",
    "    return fib_helper(n - 1) + fib_helper(n - 2)\n",
    "\n",
    "def fib_m_helper(n, computed):\n",
    "    if n in computed:\n",
    "        return computed[n]\n",
    "    computed[n] = fib_m_helper(n - 1, computed) + fib_m_helper(n - 2, computed)\n",
    "    return computed[n]\n",
    "\n",
    "@timeit\n",
    "def fib(n):\n",
    "    return fib_helper(n)\n",
    "\n",
    "@timeit\n",
    "def fib_m(n):\n",
    "    return fib_m_helper(n, {0: 0, 1: 1})\n",
    "\n",
    "print(fib(30))\n",
    "print(fib_m(30))"
   ]
  },
  {
   "cell_type": "code",
   "execution_count": 15,
   "metadata": {},
   "outputs": [
    {
     "name": "stdout",
     "output_type": "stream",
     "text": [
      "Time taken in fib: 0.0000699\n",
      "12586269025\n",
      "Time taken in fib_m: 0.0000405\n",
      "12586269025\n"
     ]
    }
   ],
   "source": [
    "# 装饰器(3): 内置装饰器\n",
    "    # 上述的memoization是缓存的一种形式，python中提供了内置装饰器让函数能够进行缓存\n",
    "    # lru表示least recently used\n",
    "import functools\n",
    "\n",
    "@functools.lru_cache()\n",
    "def fib_helper(n): # 重用之前已经计算过的数字\n",
    "    if n < 2:\n",
    "        return n\n",
    "    return fib_helper(n - 1) + fib_helper(n - 2)\n",
    "\n",
    "@timeit\n",
    "def fib(n):\n",
    "    \"\"\" fib is a wrapper function so that later we can change its behavior\n",
    "    at the top level without affecting the behavior at every recursion step.\n",
    "    \"\"\"\n",
    "    return fib_helper(n)\n",
    "\n",
    "print(fib(50))\n",
    "print(fib_m(50))"
   ]
  },
  {
   "cell_type": "code",
   "execution_count": null,
   "metadata": {},
   "outputs": [],
   "source": [
    "# 关键字\n",
    "    # (1): import\n",
    "\t# from parts import * \n",
    "    \t# 若在parts.py的第一行中指定__all__ = ['Encoder', 'Decoder', 'Loss']，则只会导入Encoder, Decoder, Loss\n",
    "    # (2): is\n",
    "\t# is是对比地址，==是对比值\n",
    "\t# is: 比较的是两个对象的id值是否相等，也就是比较俩对象是否为同一个实例对象，是否指向同一个内存地址\n",
    "    \t# ==: 比较的两个对象的内容/值是否相等，默认会调用对象的eq()方法\n",
    "    # (3): yield\n",
    "\t# 它首先是个return，就是在程序中返回某个值，返回之后程序就不再往下运行了\n",
    "\t# 看做return之后再把它看做一个是生成器(generator)的一部分(带yield的函数才是真正的迭代器)\n",
    "\t# yield from后面加上可迭代对象，它可以把可迭代对象里的每个元素一个一个的yield出来\n",
    "    # (4): global与nonlocal\n",
    "    \t# 第一，两者的功能不同\n",
    "\t    # global关键字修饰变量后标识该变量是全局变量，对该变量进行修改就是修改全局变量\n",
    "\t    # 而nonlocal关键字修饰变量后标识该变量是上一级函数中的局部变量\n",
    "\t    # 如果上一级函数中不存在该局部变量，nonlocal位置会发生错误(最上层的函数使用nonlocal修饰变量必定会报错)\n",
    "    \t# 第二，两者使用的范围不同\n",
    "\t    # global关键字可以用在任何地方，包括最上层函数中和嵌套函数中\n",
    "\t    # 即使之前未定义该变量，global修饰后也可以直接使用\n",
    "\t    # 而nonlocal关键字只能用于嵌套函数中，并且外层函数中定义了相应的局部变量，否则会发生错误(见第一)"
   ]
  },
  {
   "cell_type": "code",
   "execution_count": 16,
   "metadata": {},
   "outputs": [
    {
     "name": "stdout",
     "output_type": "stream",
     "text": [
      "starting...\n",
      "4\n",
      "********************\n",
      "res: None\n",
      "4\n"
     ]
    }
   ],
   "source": [
    "# 关键字(3): yield\n",
    "def foo():\n",
    "    print(\"starting...\")\n",
    "    while True:\n",
    "        res = yield 4\n",
    "        print(\"res:\",res)\n",
    "g = foo() # 因为foo函数中有yield关键字，所以foo函数并不会真的执行，而是先得到一个生成器g(相当于一个对象)\n",
    "print(next(g)) # 直到调用next方法，foo函数正式开始执行，先执行foo函数中的print方法，然后进入while循环\n",
    "# 程序遇到yield关键字，然后把yield看成return，return了一个4之后，程序停止，并没有执行赋值给res操作，此时next(g)语句执行完成，所以输出前两行\n",
    "print(\"*\"*20) \n",
    "print(next(g)) # 这个时候和上面那个差不多，不过不同的是，这个时候是从刚才那个next程序停止的地方开始执行的，也就是要执行res的赋值操作\n",
    "# 这时候要注意，这个时候赋值操作的右边是没有值的(因为刚才那个是return出去了，并没有给赋值操作的左边传参数)\n",
    "# 所以这个时候res赋值是None，所以接着下面的输出就是res: None\n",
    "# 程序会继续在while里执行，又一次碰到yield，这个时候同样return出4，然后程序停止，print函数输出的4就是这次return出的4"
   ]
  },
  {
   "cell_type": "code",
   "execution_count": null,
   "metadata": {},
   "outputs": [],
   "source": [
    "# python新式类和经典类\n",
    "    # (1): 区别\n",
    "    \t# 在python里凡是继承了object的类，都是新式类\n",
    "\t# python3里只有新式类\n",
    "\t# python2里面继承object的是新式类，没有写父类的是经典类\n",
    "\t# 经典类目前在python里基本没有应用\n",
    "\t# 保持class与type的统一: 对新式类的实例执行a.__class__与type(a)的结果是一致的，对于旧式类来说就不一样了\n",
    "\t# 对于多重继承的属性搜索顺序不一样: 新式类是采用广度优先搜索，旧式类采用深度优先搜索"
   ]
  },
  {
   "cell_type": "code",
   "execution_count": null,
   "metadata": {},
   "outputs": [],
   "source": [
    "# 复杂语句结构\n",
    "    # \"train\" if train else \"valid\" if val else \"test\""
   ]
  },
  {
   "cell_type": "code",
   "execution_count": null,
   "metadata": {},
   "outputs": [],
   "source": [
    "# 异常\n",
    "    # Exception: 常规错误的基类\n",
    "\t# try: ... except Exception as e: ...\n",
    "\t# raise Exception()\n",
    "    # RuntimeError: 一般的运行时错误\n",
    "\t# raise RuntimeError()\n",
    "    # KeyError\n",
    "    # 也可使用assert bool, \"print error msg\""
   ]
  },
  {
   "cell_type": "code",
   "execution_count": null,
   "metadata": {},
   "outputs": [],
   "source": [
    "# 数据类型\n",
    "    # (1): 数据类型转换\n",
    "\t# 获取整数的各位数: 将数字转换成一个字符数组(python中的字符串)(如A = map(int, str(N)))\n",
    "\t# 或者不断地把数字除以10，取整数的最后一个数字\n",
    "    # (2): python自省\n",
    "\t# 面向对象的语言所写的程序在运行时，所能知道对象的类型\n",
    "\t# 简单一句就是运行时能够获得对象的类型\n",
    "\t# 比如type(),dir(),getattr(),hasattr(),isinstance()\n",
    "    \t# getattr()传入对象名字和属性名称\n",
    "    \t# dir()获取对象所有的属性和方法"
   ]
  },
  {
   "cell_type": "code",
   "execution_count": 17,
   "metadata": {},
   "outputs": [
    {
     "name": "stdout",
     "output_type": "stream",
     "text": [
      "<class 'list'> <class 'dict'> <class 'bool'>\n",
      "True\n"
     ]
    }
   ],
   "source": [
    "# 数据类型(2): python自省\n",
    "a = [1,2,3]\n",
    "b = {'a':1,'b':2,'c':3}\n",
    "c = True\n",
    "print(type(a),type(b),type(c)) # <type 'list'> <type 'dict'> <type 'bool'>\n",
    "print(isinstance(a,list))  # True"
   ]
  },
  {
   "cell_type": "code",
   "execution_count": null,
   "metadata": {},
   "outputs": [],
   "source": [
    "# 变量\n",
    "    # (1): 分类\n",
    "\t# 类变量: 可在类的所有实例之间共享的值\n",
    "\t    # 也就是说，它们不是单独分配给每个实例的\n",
    "\t    # 例如下面第一个例子中，num_of_instance就是类变量，用于跟踪存在着多少个Test的实例\n",
    "\t# 实例变量: 实例化之后，每个实例单独拥有的变量\n",
    "    # (2): 变量的作用域(变量查找顺序)\n",
    "    \t# 函数作用域的LEGB顺序: L: local 函数内部作用域; E: enclosing 函数内部与内嵌函数之间; G: global 全局作用域; B: build-in 内置作用域\n",
    "    \t# python在函数里面的查找分为4种，称之为LEGB，也正是按照这顺序来查找的"
   ]
  },
  {
   "cell_type": "code",
   "execution_count": 18,
   "metadata": {},
   "outputs": [
    {
     "name": "stdout",
     "output_type": "stream",
     "text": [
      "0\n",
      "1\n",
      "jack 2\n",
      "lucy 2\n"
     ]
    }
   ],
   "source": [
    "# 变量(1): 分类\n",
    "class Test(object):  \n",
    "    num_of_instance = 0  \n",
    "    def __init__(self, name):  \n",
    "        self.name = name  \n",
    "        Test.num_of_instance += 1  \n",
    "  \n",
    "print(Test.num_of_instance)   # 0\n",
    "t1 = Test('jack')  \n",
    "print(Test.num_of_instance)   # 1\n",
    "t2 = Test('lucy')  \n",
    "print(t1.name , t1.num_of_instance)  # jack 2\n",
    "print(t2.name , t2.num_of_instance)  # lucy 2"
   ]
  },
  {
   "cell_type": "code",
   "execution_count": 19,
   "metadata": {},
   "outputs": [
    {
     "name": "stdout",
     "output_type": "stream",
     "text": [
      "bbb\n",
      "aaa\n",
      "aaa\n"
     ]
    }
   ],
   "source": [
    "# 变量(1): 分类\n",
    "class Person:\n",
    "    name=\"aaa\"\n",
    "\n",
    "p1=Person()\n",
    "p2=Person()\n",
    "p1.name=\"bbb\" # 实例调用了类变量，p1.name一开始是指向的类变量name=\"aaa\"\n",
    "# 但是在实例的作用域里把类变量的引用改变了，就变成了一个实例变量，self.name不再引用Person的类变量name了\n",
    "print(p1.name)  # bbb\n",
    "print(p2.name)  # aaa\n",
    "print(Person.name)  # aaa"
   ]
  },
  {
   "cell_type": "code",
   "execution_count": 20,
   "metadata": {},
   "outputs": [
    {
     "name": "stdout",
     "output_type": "stream",
     "text": [
      "[1]\n",
      "[1]\n",
      "[1]\n"
     ]
    }
   ],
   "source": [
    "# 变量(1): 分类\n",
    "class Person:\n",
    "    name=[]\n",
    "\n",
    "p1=Person()\n",
    "p2=Person()\n",
    "p1.name.append(1)\n",
    "print(p1.name)  # [1]\n",
    "print(p2.name)  # [1]\n",
    "print(Person.name)  # [1]"
   ]
  }
 ],
 "metadata": {
  "interpreter": {
   "hash": "8e0a5121830260c2b3ba71b278117289a5158901009d117b6fbf784f99dd631f"
  },
  "kernelspec": {
   "display_name": "Python 3.6.13 64-bit ('ctrtf': conda)",
   "language": "python",
   "name": "python3"
  },
  "language_info": {
   "codemirror_mode": {
    "name": "ipython",
    "version": 3
   },
   "file_extension": ".py",
   "mimetype": "text/x-python",
   "name": "python",
   "nbconvert_exporter": "python",
   "pygments_lexer": "ipython3",
   "version": "3.6.13"
  },
  "orig_nbformat": 4
 },
 "nbformat": 4,
 "nbformat_minor": 2
}
