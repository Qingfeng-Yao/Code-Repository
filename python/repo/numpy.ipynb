{
 "cells": [
  {
   "cell_type": "code",
   "execution_count": 1,
   "metadata": {},
   "outputs": [],
   "source": [
    "import numpy as np"
   ]
  },
  {
   "cell_type": "markdown",
   "metadata": {},
   "source": [
    "### 数组定义"
   ]
  },
  {
   "cell_type": "code",
   "execution_count": null,
   "metadata": {},
   "outputs": [],
   "source": [
    "# 若列表中的元素长度不一样，转成numpy数组时会出现错误：ValueError: setting an array element with a sequence"
   ]
  },
  {
   "cell_type": "markdown",
   "metadata": {},
   "source": [
    "### 常见函数操作"
   ]
  },
  {
   "cell_type": "code",
   "execution_count": null,
   "metadata": {},
   "outputs": [],
   "source": [
    "# np.take(list, order) order为打乱后的索引"
   ]
  },
  {
   "cell_type": "markdown",
   "metadata": {},
   "source": [
    "### 索引操作"
   ]
  },
  {
   "cell_type": "code",
   "execution_count": 2,
   "metadata": {},
   "outputs": [
    {
     "data": {
      "text/plain": [
       "array([5, 1, 6, 4, 2, 3, 0])"
      ]
     },
     "execution_count": 2,
     "metadata": {},
     "output_type": "execute_result"
    }
   ],
   "source": [
    "# 索引值应成numpy数组，否则会出现错误：TypeError: only integer scalar arrays can be converted to a scalar index \n",
    "\n",
    "\n",
    "# np.random.permutation\n",
    "np.random.permutation(7)"
   ]
  },
  {
   "cell_type": "markdown",
   "metadata": {},
   "source": [
    "### 下载和存储"
   ]
  },
  {
   "cell_type": "code",
   "execution_count": null,
   "metadata": {},
   "outputs": [],
   "source": [
    "# a = np.array([[1,2,3], [1,2,3]])\n",
    "# b = np.array([1,2])\n",
    "# np.savez(\"xxx.npz\", a=a, b=b)\n",
    "# data = np.load(\"xxx.npz\") # 如果对象是字典，则需要参数allow_pickle=True\n",
    "# data[\"a\"]返回array([[1,2,3], [1,2,3]])，如果值是字典，则array中的dtype=object，使用.tolist()可得到原始值\n",
    "# data.close()"
   ]
  }
 ],
 "metadata": {
  "interpreter": {
   "hash": "2b855680fa45ad400d17ada59186530cb5f63d874a71a7bef8ffe3c8b3c7f793"
  },
  "kernelspec": {
   "display_name": "Python 3.6.13 64-bit ('newspt': conda)",
   "name": "python3"
  },
  "language_info": {
   "codemirror_mode": {
    "name": "ipython",
    "version": 3
   },
   "file_extension": ".py",
   "mimetype": "text/x-python",
   "name": "python",
   "nbconvert_exporter": "python",
   "pygments_lexer": "ipython3",
   "version": "3.6.13"
  },
  "orig_nbformat": 4
 },
 "nbformat": 4,
 "nbformat_minor": 2
}
