{
 "cells": [
  {
   "cell_type": "code",
   "execution_count": null,
   "source": [
    "# np.take(list, order) order为打乱后的索引"
   ],
   "outputs": [],
   "metadata": {}
  },
  {
   "cell_type": "code",
   "execution_count": null,
   "source": [
    "# a = np.array([[1,2,3], [1,2,3]])\n",
    "# b = np.array([1,2])\n",
    "# np.savez(\"xxx.npz\", a=a, b=b)\n",
    "# data = np.load(\"xxx.npz\") # 如果对象是字典，则需要参数allow_pickle=True\n",
    "# data[\"a\"]返回array([[1,2,3], [1,2,3]])，如果值是字典，则array中的dtype=object，使用.tolist()可得到原始值\n",
    "# data.close()"
   ],
   "outputs": [],
   "metadata": {}
  }
 ],
 "metadata": {
  "orig_nbformat": 4,
  "language_info": {
   "name": "python",
   "version": "3.6.13"
  },
  "kernelspec": {
   "name": "python3",
   "display_name": "Python 3.6.13 64-bit ('newspt': conda)"
  },
  "interpreter": {
   "hash": "7b59c5483d7ef72ae2a93095cf9852406b9f470a1ab3e534ce2ebf832a0c7411"
  }
 },
 "nbformat": 4,
 "nbformat_minor": 2
}