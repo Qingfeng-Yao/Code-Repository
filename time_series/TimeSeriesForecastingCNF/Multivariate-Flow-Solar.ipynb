{
 "metadata": {
  "language_info": {
   "codemirror_mode": {
    "name": "ipython",
    "version": 3
   },
   "file_extension": ".py",
   "mimetype": "text/x-python",
   "name": "python",
   "nbconvert_exporter": "python",
   "pygments_lexer": "ipython3",
   "version": "3.7.9-final"
  },
  "orig_nbformat": 2,
  "kernelspec": {
   "name": "python3",
   "display_name": "Python 3.7.9 64-bit ('pytorchts': conda)",
   "metadata": {
    "interpreter": {
     "hash": "da6b144d85d0148b114dd56f401ddc89b1e599477ab9399037cd6b4eeb875e65"
    }
   }
  }
 },
 "nbformat": 4,
 "nbformat_minor": 2,
 "cells": [
  {
   "cell_type": "code",
   "execution_count": 46,
   "metadata": {},
   "outputs": [],
   "source": [
    "import numpy as np\n",
    "import pandas as pd\n",
    "\n",
    "import torch"
   ]
  },
  {
   "cell_type": "code",
   "execution_count": 47,
   "metadata": {},
   "outputs": [],
   "source": [
    "from pts.dataset import to_pandas, MultivariateGrouper, TrainDatasets\n",
    "from pts.dataset.repository import get_dataset, dataset_recipes\n",
    "from pts.model.tempflow import TempFlowEstimator\n",
    "from pts.model.transformer_tempflow import TransformerTempFlowEstimator\n",
    "from pts import Trainer\n",
    "from pts.evaluation import make_evaluation_predictions\n",
    "from pts.evaluation import MultivariateEvaluator"
   ]
  },
  {
   "cell_type": "code",
   "execution_count": 48,
   "metadata": {},
   "outputs": [],
   "source": [
    "device = torch.device(\"cuda\" if torch.cuda.is_available() else \"cpu\")"
   ]
  },
  {
   "source": [
    "## Prepeare data set"
   ],
   "cell_type": "markdown",
   "metadata": {}
  },
  {
   "cell_type": "code",
   "execution_count": 49,
   "metadata": {},
   "outputs": [
    {
     "output_type": "stream",
     "name": "stderr",
     "text": [
      "2021-02-27 21:18:23,008 - INFO - using dataset already processed in path /home/yaoqf/.pytorch/pytorch-ts/datasets/solar_nips.\n"
     ]
    }
   ],
   "source": [
    "dataset = get_dataset(\"solar_nips\", regenerate=False, shuffle=False) # 得到三个文件train/data.json、test/data.json以及metadata.json"
   ]
  },
  {
   "cell_type": "code",
   "execution_count": 50,
   "metadata": {},
   "outputs": [
    {
     "output_type": "execute_result",
     "data": {
      "text/plain": [
       "MetaData(freq='H', target=None, feat_static_cat=[CategoricalFeatureInfo(name='feat_static_cat', cardinality='137')], feat_static_real=[], feat_dynamic_real=[], feat_dynamic_cat=[], prediction_length=24)"
      ]
     },
     "metadata": {},
     "execution_count": 50
    }
   ],
   "source": [
    "dataset.metadata"
   ]
  },
  {
   "cell_type": "code",
   "execution_count": 51,
   "metadata": {},
   "outputs": [],
   "source": [
    "train_grouper = MultivariateGrouper(max_target_dim=int(dataset.metadata.feat_static_cat[0].cardinality))\n",
    "\n",
    "test_grouper = MultivariateGrouper(num_test_dates=int(len(dataset.test)/len(dataset.train)), \n",
    "                                   max_target_dim=int(dataset.metadata.feat_static_cat[0].cardinality))"
   ]
  },
  {
   "cell_type": "code",
   "execution_count": 52,
   "metadata": {},
   "outputs": [
    {
     "output_type": "stream",
     "name": "stderr",
     "text": [
      "2021-02-27 21:18:32,648 - INFO - first/last timestamp found: 2006-01-01 00:00:00/2006-10-20 00:00:00\n",
      "2021-02-27 21:18:32,649 - INFO - group training time-series to datasets\n",
      "2021-02-27 21:18:34,044 - INFO - first/last timestamp found: 2006-01-01 00:00:00/2006-10-27 00:00:00\n",
      "2021-02-27 21:18:34,048 - INFO - group test time-series to datasets\n"
     ]
    }
   ],
   "source": [
    "dataset_train = train_grouper(dataset.train)\n",
    "dataset_test = test_grouper(dataset.test)"
   ]
  },
  {
   "source": [
    "## Evaluator"
   ],
   "cell_type": "markdown",
   "metadata": {}
  },
  {
   "cell_type": "code",
   "execution_count": 53,
   "metadata": {},
   "outputs": [],
   "source": [
    "evaluator = MultivariateEvaluator(quantiles=(np.arange(20)/20.0)[1:],\n",
    "                                  target_agg_funcs={'sum': np.sum})"
   ]
  },
  {
   "source": [
    "## `GRU-MAF`"
   ],
   "cell_type": "markdown",
   "metadata": {}
  },
  {
   "cell_type": "code",
   "execution_count": 62,
   "metadata": {},
   "outputs": [],
   "source": [
    "estimator = TempFlowEstimator(\n",
    "    target_dim=int(dataset.metadata.feat_static_cat[0].cardinality),\n",
    "    prediction_length=dataset.metadata.prediction_length,\n",
    "    cell_type='GRU',\n",
    "    input_size=552,\n",
    "    freq=dataset.metadata.freq,\n",
    "    scaling=True,\n",
    "    dequantize=True,\n",
    "    flow_type='MAF',\n",
    "    trainer=Trainer(device=device,\n",
    "                    epochs=25,\n",
    "                    learning_rate=1e-3,\n",
    "                    num_batches_per_epoch=100,\n",
    "                    batch_size=64)\n",
    ")"
   ]
  },
  {
   "cell_type": "code",
   "execution_count": 63,
   "metadata": {},
   "outputs": [
    {
     "output_type": "stream",
     "name": "stderr",
     "text": [
      "99it [00:10,  9.71it/s, avg_epoch_loss=-26.2, epoch=0]\n",
      "99it [00:11,  8.92it/s, avg_epoch_loss=-146, epoch=1]\n",
      "99it [00:11,  8.95it/s, avg_epoch_loss=-165, epoch=2]\n",
      "99it [00:10,  9.31it/s, avg_epoch_loss=-178, epoch=3]\n",
      "99it [00:10,  9.29it/s, avg_epoch_loss=-185, epoch=4]\n",
      "99it [00:10,  9.19it/s, avg_epoch_loss=-190, epoch=5]\n",
      "99it [00:10,  9.12it/s, avg_epoch_loss=-194, epoch=6]\n",
      "99it [00:10,  9.12it/s, avg_epoch_loss=-197, epoch=7]\n",
      "99it [00:10,  9.16it/s, avg_epoch_loss=-200, epoch=8]\n",
      "99it [00:10,  9.26it/s, avg_epoch_loss=-203, epoch=9]\n",
      "99it [00:10,  9.45it/s, avg_epoch_loss=-205, epoch=10]\n",
      "99it [00:10,  9.20it/s, avg_epoch_loss=-207, epoch=11]\n",
      "99it [00:10,  9.22it/s, avg_epoch_loss=-208, epoch=12]\n",
      "99it [00:10,  9.20it/s, avg_epoch_loss=-209, epoch=13]\n",
      "99it [00:10,  9.16it/s, avg_epoch_loss=-211, epoch=14]\n",
      "99it [00:10,  9.28it/s, avg_epoch_loss=-212, epoch=15]\n",
      "99it [00:10,  9.61it/s, avg_epoch_loss=-213, epoch=16]\n",
      "99it [00:10,  9.35it/s, avg_epoch_loss=-214, epoch=17]\n",
      "99it [00:10,  9.18it/s, avg_epoch_loss=-215, epoch=18]\n",
      "99it [00:10,  9.35it/s, avg_epoch_loss=-216, epoch=19]\n",
      "99it [00:10,  9.43it/s, avg_epoch_loss=-216, epoch=20]\n",
      "99it [00:10,  9.14it/s, avg_epoch_loss=-217, epoch=21]\n",
      "99it [00:10,  9.00it/s, avg_epoch_loss=-218, epoch=22]\n",
      "99it [00:10,  9.13it/s, avg_epoch_loss=-219, epoch=23]\n",
      "99it [00:10,  9.22it/s, avg_epoch_loss=-219, epoch=24]\n",
      "Running evaluation: 7it [00:01,  4.11it/s]\n",
      "Running evaluation: 7it [00:01,  3.89it/s]\n",
      "Running evaluation: 7it [00:01,  4.14it/s]\n",
      "Running evaluation: 7it [00:01,  4.13it/s]\n",
      "Running evaluation: 7it [00:01,  4.08it/s]\n",
      "Running evaluation: 7it [00:01,  4.14it/s]\n",
      "Running evaluation: 7it [00:01,  4.08it/s]\n",
      "Running evaluation: 7it [00:01,  4.13it/s]\n",
      "Running evaluation: 7it [00:01,  4.12it/s]\n",
      "Running evaluation: 7it [00:01,  4.09it/s]\n",
      "Running evaluation: 7it [00:01,  4.16it/s]\n",
      "Running evaluation: 7it [00:01,  4.09it/s]\n",
      "Running evaluation: 7it [00:01,  4.15it/s]\n",
      "Running evaluation: 7it [00:01,  3.87it/s]\n",
      "Running evaluation: 7it [00:01,  3.94it/s]\n",
      "Running evaluation: 7it [00:01,  4.02it/s]\n",
      "Running evaluation: 7it [00:01,  4.13it/s]\n",
      "Running evaluation: 7it [00:01,  4.11it/s]\n",
      "Running evaluation: 7it [00:01,  4.12it/s]\n",
      "Running evaluation: 7it [00:01,  4.09it/s]\n",
      "Running evaluation: 7it [00:01,  4.15it/s]\n",
      "Running evaluation: 7it [00:01,  4.11it/s]\n",
      "Running evaluation: 7it [00:01,  4.13it/s]\n",
      "Running evaluation: 7it [00:01,  4.17it/s]\n",
      "Running evaluation: 7it [00:01,  4.08it/s]\n",
      "Running evaluation: 7it [00:01,  4.08it/s]\n",
      "Running evaluation: 7it [00:01,  4.11it/s]\n",
      "Running evaluation: 7it [00:01,  4.11it/s]\n",
      "Running evaluation: 7it [00:01,  4.07it/s]\n",
      "Running evaluation: 7it [00:01,  4.04it/s]\n",
      "Running evaluation: 7it [00:01,  4.10it/s]\n",
      "Running evaluation: 7it [00:01,  4.01it/s]\n",
      "Running evaluation: 7it [00:01,  4.10it/s]\n",
      "Running evaluation: 7it [00:01,  3.96it/s]\n",
      "Running evaluation: 7it [00:01,  4.05it/s]\n",
      "Running evaluation: 7it [00:01,  4.05it/s]\n",
      "Running evaluation: 7it [00:01,  4.12it/s]\n",
      "Running evaluation: 7it [00:01,  4.08it/s]\n",
      "Running evaluation: 7it [00:01,  4.15it/s]\n",
      "Running evaluation: 7it [00:01,  4.13it/s]\n",
      "Running evaluation: 7it [00:01,  4.12it/s]\n",
      "Running evaluation: 7it [00:01,  4.13it/s]\n",
      "Running evaluation: 7it [00:01,  4.02it/s]\n",
      "Running evaluation: 7it [00:01,  4.12it/s]\n",
      "Running evaluation: 7it [00:01,  4.09it/s]\n",
      "Running evaluation: 7it [00:01,  4.05it/s]\n",
      "Running evaluation: 7it [00:01,  4.14it/s]\n",
      "Running evaluation: 7it [00:01,  4.07it/s]\n",
      "Running evaluation: 7it [00:01,  4.12it/s]\n",
      "Running evaluation: 7it [00:01,  3.92it/s]\n",
      "Running evaluation: 7it [00:01,  4.10it/s]\n",
      "Running evaluation: 7it [00:01,  4.11it/s]\n",
      "Running evaluation: 7it [00:01,  4.06it/s]\n",
      "Running evaluation: 7it [00:01,  4.13it/s]\n",
      "Running evaluation: 7it [00:01,  4.08it/s]\n",
      "Running evaluation: 7it [00:01,  4.13it/s]\n",
      "Running evaluation: 7it [00:01,  4.13it/s]\n",
      "Running evaluation: 7it [00:01,  4.11it/s]\n",
      "Running evaluation: 7it [00:01,  4.15it/s]\n",
      "Running evaluation: 7it [00:01,  4.10it/s]\n",
      "Running evaluation: 7it [00:01,  4.04it/s]\n",
      "Running evaluation: 7it [00:01,  4.14it/s]\n",
      "Running evaluation: 7it [00:01,  4.05it/s]\n",
      "Running evaluation: 7it [00:01,  4.17it/s]\n",
      "Running evaluation: 7it [00:01,  4.09it/s]\n",
      "Running evaluation: 7it [00:01,  4.12it/s]\n",
      "Running evaluation: 7it [00:01,  4.14it/s]\n",
      "Running evaluation: 7it [00:01,  4.10it/s]\n",
      "Running evaluation: 7it [00:01,  4.08it/s]\n",
      "Running evaluation: 7it [00:01,  4.13it/s]\n",
      "Running evaluation: 7it [00:01,  4.13it/s]\n",
      "Running evaluation: 7it [00:01,  4.19it/s]\n",
      "Running evaluation: 7it [00:01,  4.09it/s]\n",
      "Running evaluation: 7it [00:01,  4.10it/s]\n",
      "Running evaluation: 7it [00:01,  4.16it/s]\n",
      "Running evaluation: 7it [00:01,  4.11it/s]\n",
      "Running evaluation: 7it [00:01,  4.13it/s]\n",
      "Running evaluation: 7it [00:01,  4.10it/s]\n",
      "Running evaluation: 7it [00:01,  4.15it/s]\n",
      "Running evaluation: 7it [00:01,  4.11it/s]\n",
      "Running evaluation: 7it [00:01,  4.09it/s]\n",
      "Running evaluation: 7it [00:01,  4.13it/s]\n",
      "Running evaluation: 7it [00:01,  4.07it/s]\n",
      "Running evaluation: 7it [00:01,  3.92it/s]\n",
      "Running evaluation: 7it [00:01,  3.80it/s]\n",
      "Running evaluation: 7it [00:01,  3.85it/s]\n",
      "Running evaluation: 7it [00:01,  3.89it/s]\n",
      "Running evaluation: 7it [00:01,  3.88it/s]\n",
      "Running evaluation: 7it [00:01,  3.93it/s]\n",
      "Running evaluation: 7it [00:01,  3.96it/s]\n",
      "Running evaluation: 7it [00:01,  3.95it/s]\n",
      "Running evaluation: 7it [00:01,  3.80it/s]\n",
      "Running evaluation: 7it [00:01,  4.10it/s]\n",
      "Running evaluation: 7it [00:01,  3.88it/s]\n",
      "Running evaluation: 7it [00:01,  3.87it/s]\n",
      "Running evaluation: 7it [00:01,  3.93it/s]\n",
      "Running evaluation: 7it [00:01,  3.88it/s]\n",
      "Running evaluation: 7it [00:01,  3.94it/s]\n",
      "Running evaluation: 7it [00:01,  3.87it/s]\n",
      "Running evaluation: 7it [00:01,  3.89it/s]\n",
      "Running evaluation: 7it [00:01,  3.91it/s]\n",
      "Running evaluation: 7it [00:01,  3.90it/s]\n",
      "Running evaluation: 7it [00:01,  3.90it/s]\n",
      "Running evaluation: 7it [00:01,  3.90it/s]\n",
      "Running evaluation: 7it [00:01,  3.86it/s]\n",
      "Running evaluation: 7it [00:01,  3.88it/s]\n",
      "Running evaluation: 7it [00:01,  3.87it/s]\n",
      "Running evaluation: 7it [00:01,  3.87it/s]\n",
      "Running evaluation: 7it [00:01,  3.98it/s]\n",
      "Running evaluation: 7it [00:01,  3.94it/s]\n",
      "Running evaluation: 7it [00:01,  3.95it/s]\n",
      "Running evaluation: 7it [00:01,  3.93it/s]\n",
      "Running evaluation: 7it [00:01,  3.95it/s]\n",
      "Running evaluation: 7it [00:01,  3.88it/s]\n",
      "Running evaluation: 7it [00:01,  3.92it/s]\n",
      "Running evaluation: 7it [00:01,  3.92it/s]\n",
      "Running evaluation: 7it [00:01,  3.94it/s]\n",
      "Running evaluation: 7it [00:01,  3.95it/s]\n",
      "Running evaluation: 7it [00:01,  4.00it/s]\n",
      "Running evaluation: 7it [00:01,  3.95it/s]\n",
      "Running evaluation: 7it [00:01,  3.93it/s]\n",
      "Running evaluation: 7it [00:01,  3.86it/s]\n",
      "Running evaluation: 7it [00:01,  3.95it/s]\n",
      "Running evaluation: 7it [00:01,  3.89it/s]\n",
      "Running evaluation: 7it [00:01,  3.86it/s]\n",
      "Running evaluation: 7it [00:01,  3.93it/s]\n",
      "Running evaluation: 7it [00:01,  3.89it/s]\n",
      "Running evaluation: 7it [00:01,  3.93it/s]\n",
      "Running evaluation: 7it [00:01,  3.91it/s]\n",
      "Running evaluation: 7it [00:01,  3.94it/s]\n",
      "Running evaluation: 7it [00:01,  3.91it/s]\n",
      "Running evaluation: 7it [00:01,  3.93it/s]\n",
      "Running evaluation: 7it [00:01,  3.95it/s]\n",
      "Running evaluation: 7it [00:01,  3.95it/s]\n",
      "Running evaluation: 7it [00:01,  3.95it/s]\n",
      "Running evaluation: 7it [00:01,  3.90it/s]\n",
      "Running evaluation: 7it [00:01,  3.96it/s]\n",
      "Running evaluation: 7it [00:01,  3.73it/s]\n"
     ]
    }
   ],
   "source": [
    "predictor = estimator.train(dataset_train)\n",
    "forecast_it, ts_it = make_evaluation_predictions(dataset=dataset_test,\n",
    "                                             predictor=predictor,\n",
    "                                             num_samples=100)\n",
    "forecasts = list(forecast_it)\n",
    "targets = list(ts_it)\n",
    "\n",
    "agg_metric, _ = evaluator(targets, forecasts, num_series=len(dataset_test))"
   ]
  },
  {
   "source": [
    "### Metrics"
   ],
   "cell_type": "markdown",
   "metadata": {}
  },
  {
   "cell_type": "code",
   "execution_count": 64,
   "metadata": {},
   "outputs": [
    {
     "output_type": "stream",
     "name": "stdout",
     "text": [
      "CRPS: 0.38148718058575826\nND: 0.48739644950924027\nNRMSE: 1.0032379403994989\nMSE: 954.7412421352797\n"
     ]
    }
   ],
   "source": [
    "print(\"CRPS: {}\".format(agg_metric['mean_wQuantileLoss']))\n",
    "print(\"ND: {}\".format(agg_metric['ND']))\n",
    "print(\"NRMSE: {}\".format(agg_metric['NRMSE']))\n",
    "print(\"MSE: {}\".format(agg_metric['MSE']))"
   ]
  },
  {
   "cell_type": "code",
   "execution_count": 65,
   "metadata": {},
   "outputs": [
    {
     "output_type": "stream",
     "name": "stdout",
     "text": [
      "CRPS-Sum: 0.32853644393810727\nND-Sum: 0.421502668453047\nNRMSE-Sum: 0.7682724166824968\nMSE-Sum: 10508710.428571431\n"
     ]
    }
   ],
   "source": [
    "print(\"CRPS-Sum: {}\".format(agg_metric['m_sum_mean_wQuantileLoss']))\n",
    "print(\"ND-Sum: {}\".format(agg_metric['m_sum_ND']))\n",
    "print(\"NRMSE-Sum: {}\".format(agg_metric['m_sum_NRMSE']))\n",
    "print(\"MSE-Sum: {}\".format(agg_metric['m_sum_MSE']))"
   ]
  },
  {
   "source": [
    "## `GRU-Real-NVP`"
   ],
   "cell_type": "markdown",
   "metadata": {}
  },
  {
   "cell_type": "code",
   "execution_count": 66,
   "metadata": {},
   "outputs": [],
   "source": [
    "estimator = TempFlowEstimator(\n",
    "    target_dim=int(dataset.metadata.feat_static_cat[0].cardinality),\n",
    "    prediction_length=dataset.metadata.prediction_length,\n",
    "    cell_type='GRU',\n",
    "    input_size=552,\n",
    "    freq=dataset.metadata.freq,\n",
    "    scaling=True,\n",
    "    dequantize=True,\n",
    "    n_blocks=4,\n",
    "    trainer=Trainer(device=device,\n",
    "                    epochs=45,\n",
    "                    learning_rate=1e-3,\n",
    "                    num_batches_per_epoch=100,\n",
    "                    batch_size=64)\n",
    ")"
   ]
  },
  {
   "cell_type": "code",
   "execution_count": 67,
   "metadata": {},
   "outputs": [
    {
     "output_type": "stream",
     "name": "stderr",
     "text": [
      "99it [00:11,  8.71it/s, avg_epoch_loss=-54.9, epoch=0]\n",
      "99it [00:10,  9.22it/s, avg_epoch_loss=-138, epoch=1]\n",
      "99it [00:10,  9.08it/s, avg_epoch_loss=-153, epoch=2]\n",
      "99it [00:11,  8.61it/s, avg_epoch_loss=-161, epoch=3]\n",
      "99it [00:11,  8.84it/s, avg_epoch_loss=-166, epoch=4]\n",
      "99it [00:11,  8.76it/s, avg_epoch_loss=-171, epoch=5]\n",
      "99it [00:10,  9.34it/s, avg_epoch_loss=-173, epoch=6]\n",
      "99it [00:10,  9.17it/s, avg_epoch_loss=-176, epoch=7]\n",
      "99it [00:11,  8.96it/s, avg_epoch_loss=-179, epoch=8]\n",
      "99it [00:10,  9.08it/s, avg_epoch_loss=-182, epoch=9]\n",
      "99it [00:11,  8.87it/s, avg_epoch_loss=-183, epoch=10]\n",
      "99it [00:11,  8.60it/s, avg_epoch_loss=-185, epoch=11]\n",
      "99it [00:10,  9.37it/s, avg_epoch_loss=-187, epoch=12]\n",
      "99it [00:10,  9.13it/s, avg_epoch_loss=-189, epoch=13]\n",
      "99it [00:12,  8.17it/s, avg_epoch_loss=-190, epoch=14]\n",
      "99it [00:11,  8.68it/s, avg_epoch_loss=-191, epoch=15]\n",
      "99it [00:10,  9.18it/s, avg_epoch_loss=-193, epoch=16]\n",
      "99it [00:11,  8.80it/s, avg_epoch_loss=-194, epoch=17]\n",
      "99it [00:11,  8.77it/s, avg_epoch_loss=-196, epoch=18]\n",
      "99it [00:10,  9.22it/s, avg_epoch_loss=-196, epoch=19]\n",
      "99it [00:11,  8.88it/s, avg_epoch_loss=-197, epoch=20]\n",
      "99it [00:10,  9.11it/s, avg_epoch_loss=-196, epoch=21]\n",
      "99it [00:11,  8.73it/s, avg_epoch_loss=-197, epoch=22]\n",
      "99it [00:11,  8.50it/s, avg_epoch_loss=-198, epoch=23]\n",
      "99it [00:11,  8.52it/s, avg_epoch_loss=-199, epoch=24]\n",
      "99it [00:10,  9.29it/s, avg_epoch_loss=-200, epoch=25]\n",
      "99it [00:10,  9.22it/s, avg_epoch_loss=-200, epoch=26]\n",
      "99it [00:10,  9.32it/s, avg_epoch_loss=-201, epoch=27]\n",
      "99it [00:11,  8.49it/s, avg_epoch_loss=-188, epoch=28]\n",
      "99it [00:10,  9.26it/s, avg_epoch_loss=-195, epoch=29]\n",
      "99it [00:11,  8.95it/s, avg_epoch_loss=-199, epoch=30]\n",
      "99it [00:11,  8.84it/s, avg_epoch_loss=-201, epoch=31]\n",
      "99it [00:10,  9.01it/s, avg_epoch_loss=-203, epoch=32]\n",
      "99it [00:12,  8.12it/s, avg_epoch_loss=-192, epoch=33]\n",
      "99it [00:11,  8.84it/s, avg_epoch_loss=-196, epoch=34]\n",
      "99it [00:11,  8.46it/s, avg_epoch_loss=-201, epoch=35]\n",
      "99it [00:11,  8.71it/s, avg_epoch_loss=-202, epoch=36]\n",
      "99it [00:11,  8.46it/s, avg_epoch_loss=-205, epoch=37]\n",
      "99it [00:11,  8.39it/s, avg_epoch_loss=-206, epoch=38]\n",
      "99it [00:11,  8.70it/s, avg_epoch_loss=-205, epoch=39]\n",
      "99it [00:11,  8.80it/s, avg_epoch_loss=-206, epoch=40]\n",
      "99it [00:12,  8.22it/s, avg_epoch_loss=-207, epoch=41]\n",
      "99it [00:11,  8.45it/s, avg_epoch_loss=-207, epoch=42]\n",
      "99it [00:11,  8.90it/s, avg_epoch_loss=-208, epoch=43]\n",
      "99it [00:11,  8.78it/s, avg_epoch_loss=-208, epoch=44]\n",
      "Running evaluation: 7it [00:01,  4.18it/s]\n",
      "Running evaluation: 7it [00:01,  4.14it/s]\n",
      "Running evaluation: 7it [00:01,  4.06it/s]\n",
      "Running evaluation: 7it [00:01,  4.12it/s]\n",
      "Running evaluation: 7it [00:01,  4.11it/s]\n",
      "Running evaluation: 7it [00:01,  4.14it/s]\n",
      "Running evaluation: 7it [00:01,  4.04it/s]\n",
      "Running evaluation: 7it [00:01,  4.11it/s]\n",
      "Running evaluation: 7it [00:01,  4.13it/s]\n",
      "Running evaluation: 7it [00:01,  4.14it/s]\n",
      "Running evaluation: 7it [00:01,  4.04it/s]\n",
      "Running evaluation: 7it [00:01,  4.15it/s]\n",
      "Running evaluation: 7it [00:01,  4.05it/s]\n",
      "Running evaluation: 7it [00:01,  4.12it/s]\n",
      "Running evaluation: 7it [00:01,  4.00it/s]\n",
      "Running evaluation: 7it [00:01,  4.03it/s]\n",
      "Running evaluation: 7it [00:01,  4.09it/s]\n",
      "Running evaluation: 7it [00:01,  4.08it/s]\n",
      "Running evaluation: 7it [00:01,  4.07it/s]\n",
      "Running evaluation: 7it [00:01,  4.00it/s]\n",
      "Running evaluation: 7it [00:01,  4.16it/s]\n",
      "Running evaluation: 7it [00:01,  4.05it/s]\n",
      "Running evaluation: 7it [00:01,  4.12it/s]\n",
      "Running evaluation: 7it [00:01,  4.15it/s]\n",
      "Running evaluation: 7it [00:01,  4.11it/s]\n",
      "Running evaluation: 7it [00:01,  4.12it/s]\n",
      "Running evaluation: 7it [00:01,  4.07it/s]\n",
      "Running evaluation: 7it [00:01,  4.12it/s]\n",
      "Running evaluation: 7it [00:01,  3.93it/s]\n",
      "Running evaluation: 7it [00:01,  3.92it/s]\n",
      "Running evaluation: 7it [00:01,  3.90it/s]\n",
      "Running evaluation: 7it [00:01,  3.89it/s]\n",
      "Running evaluation: 7it [00:01,  3.97it/s]\n",
      "Running evaluation: 7it [00:01,  4.07it/s]\n",
      "Running evaluation: 7it [00:01,  4.11it/s]\n",
      "Running evaluation: 7it [00:01,  4.05it/s]\n",
      "Running evaluation: 7it [00:01,  4.11it/s]\n",
      "Running evaluation: 7it [00:01,  3.82it/s]\n",
      "Running evaluation: 7it [00:01,  4.04it/s]\n",
      "Running evaluation: 7it [00:01,  3.86it/s]\n",
      "Running evaluation: 7it [00:01,  3.94it/s]\n",
      "Running evaluation: 7it [00:01,  4.03it/s]\n",
      "Running evaluation: 7it [00:01,  3.87it/s]\n",
      "Running evaluation: 7it [00:01,  3.73it/s]\n",
      "Running evaluation: 7it [00:01,  3.87it/s]\n",
      "Running evaluation: 7it [00:01,  3.93it/s]\n",
      "Running evaluation: 7it [00:01,  3.90it/s]\n",
      "Running evaluation: 7it [00:01,  3.84it/s]\n",
      "Running evaluation: 7it [00:01,  3.85it/s]\n",
      "Running evaluation: 7it [00:01,  3.92it/s]\n",
      "Running evaluation: 7it [00:01,  4.09it/s]\n",
      "Running evaluation: 7it [00:01,  3.86it/s]\n",
      "Running evaluation: 7it [00:01,  4.06it/s]\n",
      "Running evaluation: 7it [00:01,  3.89it/s]\n",
      "Running evaluation: 7it [00:01,  4.09it/s]\n",
      "Running evaluation: 7it [00:01,  3.89it/s]\n",
      "Running evaluation: 7it [00:01,  3.90it/s]\n",
      "Running evaluation: 7it [00:01,  3.92it/s]\n",
      "Running evaluation: 7it [00:01,  3.93it/s]\n",
      "Running evaluation: 7it [00:01,  3.85it/s]\n",
      "Running evaluation: 7it [00:01,  3.87it/s]\n",
      "Running evaluation: 7it [00:01,  3.91it/s]\n",
      "Running evaluation: 7it [00:01,  3.94it/s]\n",
      "Running evaluation: 7it [00:01,  3.85it/s]\n",
      "Running evaluation: 7it [00:01,  3.86it/s]\n",
      "Running evaluation: 7it [00:01,  3.87it/s]\n",
      "Running evaluation: 7it [00:01,  3.92it/s]\n",
      "Running evaluation: 7it [00:01,  3.92it/s]\n",
      "Running evaluation: 7it [00:01,  3.91it/s]\n",
      "Running evaluation: 7it [00:01,  3.94it/s]\n",
      "Running evaluation: 7it [00:01,  3.88it/s]\n",
      "Running evaluation: 7it [00:01,  3.91it/s]\n",
      "Running evaluation: 7it [00:01,  3.92it/s]\n",
      "Running evaluation: 7it [00:01,  3.96it/s]\n",
      "Running evaluation: 7it [00:01,  3.95it/s]\n",
      "Running evaluation: 7it [00:01,  3.87it/s]\n",
      "Running evaluation: 7it [00:01,  3.89it/s]\n",
      "Running evaluation: 7it [00:01,  3.89it/s]\n",
      "Running evaluation: 7it [00:01,  3.97it/s]\n",
      "Running evaluation: 7it [00:01,  3.83it/s]\n",
      "Running evaluation: 7it [00:01,  3.90it/s]\n",
      "Running evaluation: 7it [00:01,  3.91it/s]\n",
      "Running evaluation: 7it [00:01,  3.92it/s]\n",
      "Running evaluation: 7it [00:01,  3.90it/s]\n",
      "Running evaluation: 7it [00:01,  3.82it/s]\n",
      "Running evaluation: 7it [00:01,  3.89it/s]\n",
      "Running evaluation: 7it [00:01,  3.94it/s]\n",
      "Running evaluation: 7it [00:01,  3.88it/s]\n",
      "Running evaluation: 7it [00:01,  3.93it/s]\n",
      "Running evaluation: 7it [00:01,  3.88it/s]\n",
      "Running evaluation: 7it [00:01,  3.88it/s]\n",
      "Running evaluation: 7it [00:01,  3.95it/s]\n",
      "Running evaluation: 7it [00:01,  3.91it/s]\n",
      "Running evaluation: 7it [00:01,  3.87it/s]\n",
      "Running evaluation: 7it [00:01,  3.81it/s]\n",
      "Running evaluation: 7it [00:01,  3.94it/s]\n",
      "Running evaluation: 7it [00:01,  3.89it/s]\n",
      "Running evaluation: 7it [00:01,  3.89it/s]\n",
      "Running evaluation: 7it [00:01,  3.92it/s]\n",
      "Running evaluation: 7it [00:01,  3.91it/s]\n",
      "Running evaluation: 7it [00:01,  3.90it/s]\n",
      "Running evaluation: 7it [00:01,  4.09it/s]\n",
      "Running evaluation: 7it [00:01,  3.92it/s]\n",
      "Running evaluation: 7it [00:01,  3.91it/s]\n",
      "Running evaluation: 7it [00:01,  3.88it/s]\n",
      "Running evaluation: 7it [00:01,  3.86it/s]\n",
      "Running evaluation: 7it [00:01,  4.05it/s]\n",
      "Running evaluation: 7it [00:01,  4.15it/s]\n",
      "Running evaluation: 7it [00:01,  3.71it/s]\n",
      "Running evaluation: 7it [00:01,  3.87it/s]\n",
      "Running evaluation: 7it [00:01,  3.82it/s]\n",
      "Running evaluation: 7it [00:01,  3.88it/s]\n",
      "Running evaluation: 7it [00:01,  3.65it/s]\n",
      "Running evaluation: 7it [00:01,  3.99it/s]\n",
      "Running evaluation: 7it [00:01,  3.85it/s]\n",
      "Running evaluation: 7it [00:01,  3.95it/s]\n",
      "Running evaluation: 7it [00:01,  3.99it/s]\n",
      "Running evaluation: 7it [00:01,  3.93it/s]\n",
      "Running evaluation: 7it [00:01,  3.90it/s]\n",
      "Running evaluation: 7it [00:01,  3.96it/s]\n",
      "Running evaluation: 7it [00:01,  3.97it/s]\n",
      "Running evaluation: 7it [00:01,  3.87it/s]\n",
      "Running evaluation: 7it [00:01,  3.84it/s]\n",
      "Running evaluation: 7it [00:01,  3.96it/s]\n",
      "Running evaluation: 7it [00:01,  3.91it/s]\n",
      "Running evaluation: 7it [00:01,  3.92it/s]\n",
      "Running evaluation: 7it [00:01,  4.06it/s]\n",
      "Running evaluation: 7it [00:01,  3.89it/s]\n",
      "Running evaluation: 7it [00:01,  3.90it/s]\n",
      "Running evaluation: 7it [00:01,  3.98it/s]\n",
      "Running evaluation: 7it [00:01,  3.93it/s]\n",
      "Running evaluation: 7it [00:01,  3.93it/s]\n",
      "Running evaluation: 7it [00:01,  3.93it/s]\n",
      "Running evaluation: 7it [00:01,  3.96it/s]\n",
      "Running evaluation: 7it [00:01,  3.98it/s]\n",
      "Running evaluation: 7it [00:01,  3.94it/s]\n",
      "Running evaluation: 7it [00:01,  4.14it/s]\n",
      "Running evaluation: 7it [00:01,  3.83it/s]\n"
     ]
    }
   ],
   "source": [
    "predictor = estimator.train(dataset_train)\n",
    "forecast_it, ts_it = make_evaluation_predictions(dataset=dataset_test,\n",
    "                                             predictor=predictor,\n",
    "                                             num_samples=100)\n",
    "forecasts = list(forecast_it)\n",
    "targets = list(ts_it)\n",
    "\n",
    "agg_metric, _ = evaluator(targets, forecasts, num_series=len(dataset_test))"
   ]
  },
  {
   "source": [
    "### Metrics"
   ],
   "cell_type": "markdown",
   "metadata": {}
  },
  {
   "cell_type": "code",
   "execution_count": 68,
   "metadata": {},
   "outputs": [
    {
     "output_type": "stream",
     "name": "stdout",
     "text": [
      "CRPS: 0.40106700392773786\nND: 0.5202773674186033\nNRMSE: 1.0665755849085081\nMSE: 1079.0984367334806\n"
     ]
    }
   ],
   "source": [
    "print(\"CRPS: {}\".format(agg_metric['mean_wQuantileLoss']))\n",
    "print(\"ND: {}\".format(agg_metric['ND']))\n",
    "print(\"NRMSE: {}\".format(agg_metric['NRMSE']))\n",
    "print(\"MSE: {}\".format(agg_metric['MSE']))"
   ]
  },
  {
   "cell_type": "code",
   "execution_count": 69,
   "metadata": {},
   "outputs": [
    {
     "output_type": "stream",
     "name": "stdout",
     "text": [
      "CRPS-Sum: 0.36216298231000654\nND-Sum: 0.45842982523421666\nNRMSE-Sum: 0.8217251271877606\nMSE-Sum: 12021871.392857144\n"
     ]
    }
   ],
   "source": [
    "print(\"CRPS-Sum: {}\".format(agg_metric['m_sum_mean_wQuantileLoss']))\n",
    "print(\"ND-Sum: {}\".format(agg_metric['m_sum_ND']))\n",
    "print(\"NRMSE-Sum: {}\".format(agg_metric['m_sum_NRMSE']))\n",
    "print(\"MSE-Sum: {}\".format(agg_metric['m_sum_MSE']))"
   ]
  },
  {
   "source": [
    "## `Transformer-MAF`"
   ],
   "cell_type": "markdown",
   "metadata": {}
  },
  {
   "cell_type": "code",
   "execution_count": 70,
   "metadata": {},
   "outputs": [],
   "source": [
    "estimator = TransformerTempFlowEstimator(\n",
    "    d_model=16,\n",
    "    num_heads=4,\n",
    "    input_size=552,\n",
    "    target_dim=int(dataset.metadata.feat_static_cat[0].cardinality),\n",
    "    prediction_length=dataset.metadata.prediction_length,\n",
    "    context_length=dataset.metadata.prediction_length*4,\n",
    "    flow_type='MAF',\n",
    "    dequantize=True,\n",
    "    freq=dataset.metadata.freq,\n",
    "    trainer=Trainer(\n",
    "        device=device,\n",
    "        epochs=14,\n",
    "        learning_rate=1e-3,\n",
    "        num_batches_per_epoch=100,\n",
    "        batch_size=64,\n",
    "    )\n",
    ")"
   ]
  },
  {
   "cell_type": "code",
   "execution_count": 71,
   "metadata": {},
   "outputs": [
    {
     "output_type": "stream",
     "name": "stderr",
     "text": [
      "99it [00:11,  8.56it/s, avg_epoch_loss=-43.4, epoch=0]\n",
      "99it [00:11,  8.93it/s, avg_epoch_loss=-162, epoch=1]\n",
      "99it [00:11,  8.94it/s, avg_epoch_loss=-181, epoch=2]\n",
      "99it [00:10,  9.15it/s, avg_epoch_loss=-195, epoch=3]\n",
      "99it [00:11,  8.43it/s, avg_epoch_loss=-203, epoch=4]\n",
      "99it [00:11,  8.91it/s, avg_epoch_loss=-209, epoch=5]\n",
      "99it [00:11,  8.61it/s, avg_epoch_loss=-213, epoch=6]\n",
      "99it [00:11,  8.84it/s, avg_epoch_loss=-216, epoch=7]\n",
      "99it [00:11,  8.82it/s, avg_epoch_loss=-218, epoch=8]\n",
      "99it [00:11,  8.86it/s, avg_epoch_loss=-220, epoch=9]\n",
      "99it [00:10,  9.04it/s, avg_epoch_loss=-221, epoch=10]\n",
      "99it [00:11,  8.83it/s, avg_epoch_loss=-223, epoch=11]\n",
      "99it [00:10,  9.12it/s, avg_epoch_loss=-224, epoch=12]\n",
      "99it [00:11,  8.80it/s, avg_epoch_loss=-225, epoch=13]\n",
      "Running evaluation: 7it [00:01,  3.94it/s]\n",
      "Running evaluation: 7it [00:01,  3.98it/s]\n",
      "Running evaluation: 7it [00:01,  3.97it/s]\n",
      "Running evaluation: 7it [00:01,  3.94it/s]\n",
      "Running evaluation: 7it [00:01,  3.99it/s]\n",
      "Running evaluation: 7it [00:01,  3.92it/s]\n",
      "Running evaluation: 7it [00:01,  3.97it/s]\n",
      "Running evaluation: 7it [00:01,  4.07it/s]\n",
      "Running evaluation: 7it [00:01,  3.91it/s]\n",
      "Running evaluation: 7it [00:01,  3.93it/s]\n",
      "Running evaluation: 7it [00:01,  3.99it/s]\n",
      "Running evaluation: 7it [00:01,  3.92it/s]\n",
      "Running evaluation: 7it [00:01,  3.97it/s]\n",
      "Running evaluation: 7it [00:01,  3.95it/s]\n",
      "Running evaluation: 7it [00:01,  3.97it/s]\n",
      "Running evaluation: 7it [00:01,  4.00it/s]\n",
      "Running evaluation: 7it [00:01,  3.97it/s]\n",
      "Running evaluation: 7it [00:01,  3.97it/s]\n",
      "Running evaluation: 7it [00:01,  3.97it/s]\n",
      "Running evaluation: 7it [00:01,  3.96it/s]\n",
      "Running evaluation: 7it [00:01,  3.93it/s]\n",
      "Running evaluation: 7it [00:01,  3.94it/s]\n",
      "Running evaluation: 7it [00:01,  3.95it/s]\n",
      "Running evaluation: 7it [00:01,  4.03it/s]\n",
      "Running evaluation: 7it [00:01,  3.95it/s]\n",
      "Running evaluation: 7it [00:01,  4.02it/s]\n",
      "Running evaluation: 7it [00:01,  3.98it/s]\n",
      "Running evaluation: 7it [00:01,  3.93it/s]\n",
      "Running evaluation: 7it [00:01,  3.95it/s]\n",
      "Running evaluation: 7it [00:01,  4.03it/s]\n",
      "Running evaluation: 7it [00:01,  3.99it/s]\n",
      "Running evaluation: 7it [00:01,  3.98it/s]\n",
      "Running evaluation: 7it [00:01,  3.98it/s]\n",
      "Running evaluation: 7it [00:01,  4.00it/s]\n",
      "Running evaluation: 7it [00:01,  3.98it/s]\n",
      "Running evaluation: 7it [00:01,  3.99it/s]\n",
      "Running evaluation: 7it [00:01,  4.00it/s]\n",
      "Running evaluation: 7it [00:01,  3.98it/s]\n",
      "Running evaluation: 7it [00:01,  3.98it/s]\n",
      "Running evaluation: 7it [00:01,  3.94it/s]\n",
      "Running evaluation: 7it [00:01,  3.89it/s]\n",
      "Running evaluation: 7it [00:01,  3.95it/s]\n",
      "Running evaluation: 7it [00:01,  3.93it/s]\n",
      "Running evaluation: 7it [00:01,  3.95it/s]\n",
      "Running evaluation: 7it [00:01,  3.97it/s]\n",
      "Running evaluation: 7it [00:01,  3.92it/s]\n",
      "Running evaluation: 7it [00:01,  3.87it/s]\n",
      "Running evaluation: 7it [00:01,  4.03it/s]\n",
      "Running evaluation: 7it [00:01,  3.96it/s]\n",
      "Running evaluation: 7it [00:01,  4.07it/s]\n",
      "Running evaluation: 7it [00:01,  3.99it/s]\n",
      "Running evaluation: 7it [00:01,  3.93it/s]\n",
      "Running evaluation: 7it [00:01,  3.97it/s]\n",
      "Running evaluation: 7it [00:01,  3.92it/s]\n",
      "Running evaluation: 7it [00:01,  3.94it/s]\n",
      "Running evaluation: 7it [00:01,  3.95it/s]\n",
      "Running evaluation: 7it [00:01,  3.92it/s]\n",
      "Running evaluation: 7it [00:01,  3.73it/s]\n",
      "Running evaluation: 7it [00:01,  3.92it/s]\n",
      "Running evaluation: 7it [00:01,  3.94it/s]\n",
      "Running evaluation: 7it [00:01,  3.89it/s]\n",
      "Running evaluation: 7it [00:01,  3.95it/s]\n",
      "Running evaluation: 7it [00:01,  3.95it/s]\n",
      "Running evaluation: 7it [00:01,  3.68it/s]\n",
      "Running evaluation: 7it [00:01,  3.92it/s]\n",
      "Running evaluation: 7it [00:01,  3.97it/s]\n",
      "Running evaluation: 7it [00:01,  3.98it/s]\n",
      "Running evaluation: 7it [00:01,  4.02it/s]\n",
      "Running evaluation: 7it [00:01,  3.95it/s]\n",
      "Running evaluation: 7it [00:01,  4.00it/s]\n",
      "Running evaluation: 7it [00:01,  3.91it/s]\n",
      "Running evaluation: 7it [00:01,  3.94it/s]\n",
      "Running evaluation: 7it [00:01,  3.93it/s]\n",
      "Running evaluation: 7it [00:01,  3.94it/s]\n",
      "Running evaluation: 7it [00:01,  3.96it/s]\n",
      "Running evaluation: 7it [00:01,  3.97it/s]\n",
      "Running evaluation: 7it [00:01,  3.93it/s]\n",
      "Running evaluation: 7it [00:01,  3.96it/s]\n",
      "Running evaluation: 7it [00:01,  3.94it/s]\n",
      "Running evaluation: 7it [00:01,  3.99it/s]\n",
      "Running evaluation: 7it [00:01,  3.98it/s]\n",
      "Running evaluation: 7it [00:01,  3.97it/s]\n",
      "Running evaluation: 7it [00:01,  3.92it/s]\n",
      "Running evaluation: 7it [00:01,  3.90it/s]\n",
      "Running evaluation: 7it [00:01,  3.87it/s]\n",
      "Running evaluation: 7it [00:01,  3.92it/s]\n",
      "Running evaluation: 7it [00:01,  3.82it/s]\n",
      "Running evaluation: 7it [00:01,  3.90it/s]\n",
      "Running evaluation: 7it [00:01,  3.92it/s]\n",
      "Running evaluation: 7it [00:01,  3.92it/s]\n",
      "Running evaluation: 7it [00:01,  3.94it/s]\n",
      "Running evaluation: 7it [00:01,  3.97it/s]\n",
      "Running evaluation: 7it [00:01,  4.02it/s]\n",
      "Running evaluation: 7it [00:01,  4.01it/s]\n",
      "Running evaluation: 7it [00:01,  4.01it/s]\n",
      "Running evaluation: 7it [00:01,  3.93it/s]\n",
      "Running evaluation: 7it [00:01,  3.98it/s]\n",
      "Running evaluation: 7it [00:01,  3.94it/s]\n",
      "Running evaluation: 7it [00:01,  3.94it/s]\n",
      "Running evaluation: 7it [00:01,  3.93it/s]\n",
      "Running evaluation: 7it [00:01,  3.94it/s]\n",
      "Running evaluation: 7it [00:01,  3.96it/s]\n",
      "Running evaluation: 7it [00:01,  3.86it/s]\n",
      "Running evaluation: 7it [00:01,  3.97it/s]\n",
      "Running evaluation: 7it [00:01,  3.93it/s]\n",
      "Running evaluation: 7it [00:01,  4.19it/s]\n",
      "Running evaluation: 7it [00:01,  3.80it/s]\n",
      "Running evaluation: 7it [00:01,  3.96it/s]\n",
      "Running evaluation: 7it [00:01,  3.94it/s]\n",
      "Running evaluation: 7it [00:01,  3.92it/s]\n",
      "Running evaluation: 7it [00:01,  3.94it/s]\n",
      "Running evaluation: 7it [00:01,  3.98it/s]\n",
      "Running evaluation: 7it [00:01,  3.95it/s]\n",
      "Running evaluation: 7it [00:01,  3.97it/s]\n",
      "Running evaluation: 7it [00:01,  3.86it/s]\n",
      "Running evaluation: 7it [00:01,  4.00it/s]\n",
      "Running evaluation: 7it [00:01,  3.98it/s]\n",
      "Running evaluation: 7it [00:01,  3.92it/s]\n",
      "Running evaluation: 7it [00:01,  3.95it/s]\n",
      "Running evaluation: 7it [00:01,  3.94it/s]\n",
      "Running evaluation: 7it [00:01,  4.00it/s]\n",
      "Running evaluation: 7it [00:01,  3.84it/s]\n",
      "Running evaluation: 7it [00:01,  3.97it/s]\n",
      "Running evaluation: 7it [00:01,  3.97it/s]\n",
      "Running evaluation: 7it [00:01,  3.97it/s]\n",
      "Running evaluation: 7it [00:01,  3.99it/s]\n",
      "Running evaluation: 7it [00:01,  3.92it/s]\n",
      "Running evaluation: 7it [00:01,  3.78it/s]\n",
      "Running evaluation: 7it [00:01,  3.95it/s]\n",
      "Running evaluation: 7it [00:01,  3.94it/s]\n",
      "Running evaluation: 7it [00:01,  3.91it/s]\n",
      "Running evaluation: 7it [00:01,  3.85it/s]\n",
      "Running evaluation: 7it [00:01,  4.01it/s]\n",
      "Running evaluation: 7it [00:01,  3.91it/s]\n",
      "Running evaluation: 7it [00:01,  3.94it/s]\n",
      "Running evaluation: 7it [00:01,  3.95it/s]\n",
      "Running evaluation: 7it [00:01,  4.14it/s]\n",
      "Running evaluation: 7it [00:01,  3.76it/s]\n"
     ]
    }
   ],
   "source": [
    "predictor = estimator.train(dataset_train)\n",
    "forecast_it, ts_it = make_evaluation_predictions(dataset=dataset_test,\n",
    "                                             predictor=predictor,\n",
    "                                             num_samples=100)\n",
    "forecasts = list(forecast_it)\n",
    "targets = list(ts_it)\n",
    "\n",
    "agg_metric, _ = evaluator(targets, forecasts, num_series=len(dataset_test))"
   ]
  },
  {
   "source": [
    "### Metrics"
   ],
   "cell_type": "markdown",
   "metadata": {}
  },
  {
   "cell_type": "code",
   "execution_count": 72,
   "metadata": {},
   "outputs": [
    {
     "output_type": "stream",
     "name": "stdout",
     "text": [
      "CRPS: 0.3973669545116235\nND: 0.5272711915441427\nNRMSE: 1.0469494137161859\nMSE: 1039.7506092003248\n"
     ]
    }
   ],
   "source": [
    "print(\"CRPS: {}\".format(agg_metric['mean_wQuantileLoss']))\n",
    "print(\"ND: {}\".format(agg_metric['ND']))\n",
    "print(\"NRMSE: {}\".format(agg_metric['NRMSE']))\n",
    "print(\"MSE: {}\".format(agg_metric['MSE']))"
   ]
  },
  {
   "cell_type": "code",
   "execution_count": 73,
   "metadata": {},
   "outputs": [
    {
     "output_type": "stream",
     "name": "stdout",
     "text": [
      "CRPS-Sum: 0.3390463815731258\nND-Sum: 0.4433532171953211\nNRMSE-Sum: 0.8165239227580265\nMSE-Sum: 11870165.380952382\n"
     ]
    }
   ],
   "source": [
    "print(\"CRPS-Sum: {}\".format(agg_metric['m_sum_mean_wQuantileLoss']))\n",
    "print(\"ND-Sum: {}\".format(agg_metric['m_sum_ND']))\n",
    "print(\"NRMSE-Sum: {}\".format(agg_metric['m_sum_NRMSE']))\n",
    "print(\"MSE-Sum: {}\".format(agg_metric['m_sum_MSE']))"
   ]
  },
  {
   "cell_type": "code",
   "execution_count": null,
   "metadata": {},
   "outputs": [],
   "source": []
  }
 ]
}