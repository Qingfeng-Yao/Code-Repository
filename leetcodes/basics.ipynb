{
 "metadata": {
  "language_info": {
   "codemirror_mode": {
    "name": "ipython",
    "version": 3
   },
   "file_extension": ".py",
   "mimetype": "text/x-python",
   "name": "python",
   "nbconvert_exporter": "python",
   "pygments_lexer": "ipython3",
   "version": "3.7.10"
  },
  "orig_nbformat": 2,
  "kernelspec": {
   "name": "python3710jvsc74a57bd0905bede0b9d3779632e1b138e212cea750ec90152560e0dbe1d46137b0a12b61",
   "display_name": "Python 3.7.10 64-bit ('dynamicgcn': conda)"
  },
  "metadata": {
   "interpreter": {
    "hash": "72506cc1e4b0dce5eb876f653d1c5faf29777724f7cbfb23a9a7a2a764425624"
   }
  }
 },
 "nbformat": 4,
 "nbformat_minor": 2,
 "cells": [
  {
   "source": [
    "### 基本信息"
   ],
   "cell_type": "markdown",
   "metadata": {}
  },
  {
   "cell_type": "code",
   "execution_count": 12,
   "metadata": {},
   "outputs": [
    {
     "output_type": "stream",
     "name": "stdout",
     "text": [
      "sys.version_info(major=3, minor=7, micro=10, releaselevel='final', serial=0)\nTrue\n"
     ]
    }
   ],
   "source": [
    "# python版本\n",
    "import sys\n",
    "print(sys.version_info)\n",
    "print(sys.version_info > (3, 0))"
   ]
  },
  {
   "cell_type": "code",
   "execution_count": null,
   "metadata": {},
   "outputs": [],
   "source": [
    "# Python中单下划线和双下划线\n",
    "    ## __foo__:一种约定,Python内部的名字,用来区别其他用户自定义的命名,以防冲突，就是例如__init__(),__del__(),__call__()这些特殊方法\n",
    "        # __new__是一个静态方法,而__init__是一个实例方法.\n",
    "        # __new__方法会返回一个创建的实例,而__init__什么都不返回\n",
    "        # 只有在__new__返回一个cls的实例时后面的__init__才能被调用\n",
    "        # 当创建一个新实例时调用__new__,初始化一个实例时用__init__\n",
    "        # __metaclass__是创建类时起作用.所以我们可以分别使用__metaclass__,__new__和__init__来分别在类创建,实例创建和实例初始化的时候做一些小手脚\n",
    "    ## _foo:一种约定,用来指定变量私有.程序员用来指定私有变量的一种方式.不能用from module import * 导入，其他方面和公有一样访问\n",
    "    ## __foo:这个有真正的意义:解析器用_classname__foo来代替这个名字,以区别和其他类相同的命名,它无法直接像公有成员一样随便访问,通过对象名._类名__xxx这样的方式可以访问."
   ]
  },
  {
   "cell_type": "code",
   "execution_count": 11,
   "metadata": {},
   "outputs": [
    {
     "output_type": "error",
     "ename": "AttributeError",
     "evalue": "'MyClass' object has no attribute '__superprivate'",
     "traceback": [
      "\u001b[0;31m---------------------------------------------------------------------------\u001b[0m",
      "\u001b[0;31mAttributeError\u001b[0m                            Traceback (most recent call last)",
      "\u001b[0;32m<ipython-input-11-b5b24a72a279>\u001b[0m in \u001b[0;36m<module>\u001b[0;34m\u001b[0m\n\u001b[1;32m      4\u001b[0m         \u001b[0mself\u001b[0m\u001b[0;34m.\u001b[0m\u001b[0m_semiprivate\u001b[0m \u001b[0;34m=\u001b[0m \u001b[0;34m\", world!\"\u001b[0m\u001b[0;34m\u001b[0m\u001b[0;34m\u001b[0m\u001b[0m\n\u001b[1;32m      5\u001b[0m \u001b[0mmc\u001b[0m \u001b[0;34m=\u001b[0m \u001b[0mMyClass\u001b[0m\u001b[0;34m(\u001b[0m\u001b[0;34m)\u001b[0m\u001b[0;34m\u001b[0m\u001b[0;34m\u001b[0m\u001b[0m\n\u001b[0;32m----> 6\u001b[0;31m \u001b[0mprint\u001b[0m\u001b[0;34m(\u001b[0m\u001b[0mmc\u001b[0m\u001b[0;34m.\u001b[0m\u001b[0m__superprivate\u001b[0m\u001b[0;34m)\u001b[0m\u001b[0;34m\u001b[0m\u001b[0;34m\u001b[0m\u001b[0m\n\u001b[0m",
      "\u001b[0;31mAttributeError\u001b[0m: 'MyClass' object has no attribute '__superprivate'"
     ]
    }
   ],
   "source": [
    "class MyClass():\n",
    "    def __init__(self):\n",
    "        self.__superprivate = \"Hello\"\n",
    "        self._semiprivate = \", world!\"\n",
    "mc = MyClass()\n",
    "print(mc.__superprivate)"
   ]
  },
  {
   "cell_type": "code",
   "execution_count": 12,
   "metadata": {},
   "outputs": [
    {
     "output_type": "stream",
     "name": "stdout",
     "text": [
      ", world!\n{'_MyClass__superprivate': 'Hello', '_semiprivate': ', world!'}\n"
     ]
    }
   ],
   "source": [
    "print(mc._semiprivate)\n",
    "print(mc.__dict__)"
   ]
  },
  {
   "cell_type": "code",
   "execution_count": 16,
   "metadata": {},
   "outputs": [
    {
     "output_type": "stream",
     "name": "stdout",
     "text": [
      "[0, 1, 4, 9, 16, 25, 36, 49, 64, 81]\n<generator object <genexpr> at 0x7f24f217d1d0>\n"
     ]
    }
   ],
   "source": [
    "# 迭代器和生成器\n",
    "    ## 将列表生成式中[]改成()之后数据结构是否改变？ 答案：是，从列表变为生成器\n",
    "    ## 通过列表生成式，可以直接创建一个列表。但是，受到内存限制，列表容量肯定是有限的。而且，创建一个包含百万元素的列表，不仅是占用很大的内存空间，如：我们只需要访问前面的几个元素，后面大部分元素所占的空间都是浪费的。因此，没有必要创建完整的列表（节省大量内存空间）。在Python中，我们可以采用生成器：边循环，边计算的机制—>generator\n",
    "L = [x*x for x in range(10)]\n",
    "print(L)\n",
    "g = (x*x for x in range(10))\n",
    "print(g)\n"
   ]
  },
  {
   "cell_type": "code",
   "execution_count": null,
   "metadata": {},
   "outputs": [],
   "source": [
    "# 面向切面编程AOP(Aspect Oriented Programming)和装饰器\n",
    "    ## 装饰器是一个很著名的设计模式，经常被用于有切面需求的场景，较为经典的有插入日志、性能测试、事务处理等。装饰器是解决这类问题的绝佳设计，有了装饰器，我们就可以抽离出大量函数中与函数功能本身无关的雷同代码并继续重用。概括的讲，装饰器的作用就是为已经存在的对象添加额外的功能"
   ]
  },
  {
   "cell_type": "code",
   "execution_count": null,
   "metadata": {},
   "outputs": [],
   "source": [
    "# 鸭子类型\n",
    "    ## 我们并不关心对象是什么类型，到底是不是鸭子，只关心行为。\n",
    "    ## 比如在python中，有很多file-like的东西，比如StringIO,GzipFile,socket。它们有很多相同的方法，我们把它们当作文件使用。\n",
    "    ## 又比如list.extend()方法中,我们并不关心它的参数是不是list,只要它是可迭代的,所以它的参数可以是list/tuple/dict/字符串/生成器等.\n",
    "    ## 鸭子类型在动态语言中经常使用，非常灵活"
   ]
  },
  {
   "cell_type": "code",
   "execution_count": null,
   "metadata": {},
   "outputs": [],
   "source": [
    "# 单例模式\n",
    "    # 单例模式是一种常用的软件设计模式。在它的核心结构中只包含一个被称为单例类的特殊类。通过单例模式可以保证系统中一个类只有一个实例而且该实例易于外界访问，从而方便对实例个数的控制并节约系统资源。如果希望在系统中某个类的对象只能存在一个，单例模式是最好的解决方案。\n",
    "    # __new__()在__init__()之前被调用，用于生成实例对象。利用这个方法和类的属性的特点可以实现设计模式的单例模式。单例模式是指创建唯一对象，单例模式设计的类只能实例\n"
   ]
  },
  {
   "cell_type": "code",
   "execution_count": 2,
   "metadata": {},
   "outputs": [
    {
     "output_type": "stream",
     "name": "stdout",
     "text": [
      "True\n"
     ]
    }
   ],
   "source": [
    "class Singleton(object): # 使用__new__方法，new是真正创建实例对象的方法，所以重写基类的new方法\n",
    "    def __new__(cls, *args, **kw):\n",
    "        if not hasattr(cls, '_instance'):\n",
    "            orig = super(Singleton, cls)\n",
    "            cls._instance = orig.__new__(cls, *args, **kw)\n",
    "        return cls._instance\n",
    "\n",
    "class MyClass(Singleton):\n",
    "    pass\n",
    "c1=MyClass()\n",
    "c2=MyClass()\n",
    "print(c1 is c2)"
   ]
  },
  {
   "cell_type": "code",
   "execution_count": 1,
   "metadata": {},
   "outputs": [
    {
     "output_type": "stream",
     "name": "stdout",
     "text": [
      "True\n"
     ]
    }
   ],
   "source": [
    "def singleton(cls): # 装饰器版本\n",
    "    instances = {}\n",
    "    def getinstance(*args, **kw):\n",
    "        if cls not in instances:\n",
    "            instances[cls] = cls(*args, **kw)\n",
    "        return instances[cls]\n",
    "    return getinstance\n",
    "\n",
    "@singleton\n",
    "class MyClass:\n",
    "    pass\n",
    "f1=MyClass()\n",
    "f2=MyClass()\n",
    "print(f1 is f2)"
   ]
  },
  {
   "cell_type": "code",
   "execution_count": 4,
   "metadata": {},
   "outputs": [
    {
     "output_type": "stream",
     "name": "stdout",
     "text": [
      "True\n"
     ]
    }
   ],
   "source": [
    "class Singleton(type):  # type是python的元类，元类是用于创建类对象的类，类对象创建实例对象时一定要调用call方法，因此在调用call时候保证始终只创建一个实例即可\n",
    "    def __call__(cls, *args, **kwargs):\n",
    "        if not hasattr(cls, '_instance'):\n",
    "            cls._instance = super(Singleton, cls).__call__(*args, **kwargs)\n",
    "        return cls._instance\n",
    "\n",
    "class Foo(metaclass=Singleton):\n",
    "    pass\n",
    "\n",
    "foo1 = Foo()\n",
    "foo2 = Foo()\n",
    "print(foo1 is foo2)"
   ]
  },
  {
   "cell_type": "code",
   "execution_count": null,
   "metadata": {},
   "outputs": [],
   "source": [
    "class My_Singleton(object): # mysingleton.py   import方法    作为python的模块是天然的单例模式\n",
    "    def foo(self):\n",
    "        pass\n",
    "\n",
    "my_singleton = My_Singleton()\n",
    "\n",
    "# to use\n",
    "from mysingleton import my_singleton\n",
    "\n",
    "my_singleton.foo()"
   ]
  },
  {
   "cell_type": "code",
   "execution_count": null,
   "metadata": {},
   "outputs": [],
   "source": [
    "# 闭包(closure)是函数式编程的重要的语法结构。闭包也是一种组织代码的结构，它同样提高了代码的可重复使用性\n",
    "    # 当一个内嵌函数引用其外部作用域的变量,我们就会得到一个闭包\n",
    "    # 创建一个闭包必须满足以下几点:\n",
    "        # 必须有一个内嵌函数\n",
    "        # 内嵌函数必须引用外部函数中的变量\n",
    "        # 外部函数的返回值必须是内嵌函数"
   ]
  },
  {
   "cell_type": "code",
   "execution_count": null,
   "metadata": {},
   "outputs": [],
   "source": [
    "# Python函数式编程\n",
    "    # map | reduce | filter"
   ]
  },
  {
   "cell_type": "code",
   "execution_count": null,
   "metadata": {},
   "outputs": [],
   "source": [
    "# is是对比地址,==是对比值"
   ]
  },
  {
   "cell_type": "code",
   "execution_count": null,
   "metadata": {},
   "outputs": [],
   "source": [
    "# python新式类和经典类的区别\n",
    "    # 在python里凡是继承了object的类，都是新式类\n",
    "    # python3里只有新式类\n",
    "    # python2里面继承object的是新式类，没有写父类的是经典类\n",
    "    # 经典类目前在python里基本没有应用\n",
    "    # 保持class与type的统一: 对新式类的实例执行a.__class__与type(a)的结果是一致的，对于旧式类来说就不一样了\n",
    "    # 对于多重继承的属性搜索顺序不一样: 新式类是采用广度优先搜索，旧式类采用深度优先搜索"
   ]
  },
  {
   "source": [
    "### 关键词"
   ],
   "cell_type": "markdown",
   "metadata": {}
  },
  {
   "cell_type": "code",
   "execution_count": 14,
   "metadata": {},
   "outputs": [
    {
     "output_type": "stream",
     "name": "stdout",
     "text": [
      "starting...\n4\n********************\nres: None\n4\n"
     ]
    }
   ],
   "source": [
    "# yield: 它首先是个return，就是在程序中返回某个值，返回之后程序就不再往下运行了。看做return之后再把它看做一个是生成器（generator）的一部分（带yield的函数才是真正的迭代器）\n",
    "# yield from后面加上可迭代对象，它可以把可迭代对象里的每个元素一个一个的yield出来\n",
    "def foo():\n",
    "    print(\"starting...\")\n",
    "    while True:\n",
    "        res = yield 4\n",
    "        print(\"res:\",res)\n",
    "g = foo() # 因为foo函数中有yield关键字，所以foo函数并不会真的执行，而是先得到一个生成器g(相当于一个对象)\n",
    "print(next(g)) # 直到调用next方法，foo函数正式开始执行，先执行foo函数中的print方法，然后进入while循环。程序遇到yield关键字，然后把yield想想成return,return了一个4之后，程序停止，并没有执行赋值给res操作，此时next(g)语句执行完成，所以输出前两行\n",
    "print(\"*\"*20) \n",
    "print(next(g)) # 这个时候和上面那个差不多，不过不同的是，这个时候是从刚才那个next程序停止的地方开始执行的，也就是要执行res的赋值操作，这时候要注意，这个时候赋值操作的右边是没有值的（因为刚才那个是return出去了，并没有给赋值操作的左边传参数），所以这个时候res赋值是None,所以接着下面的输出就是res: None。程序会继续在while里执行，又一次碰到yield,这个时候同样return出4，然后程序停止，print函数输出的4就是这次return出的4"
   ]
  },
  {
   "cell_type": "code",
   "execution_count": null,
   "metadata": {},
   "outputs": [],
   "source": [
    "#global与nonlocal的区别\n",
    "    # 第一，两者的功能不同。global关键字修饰变量后标识该变量是全局变量，对该变量进行修改就是修改全局变量，而nonlocal关键字修饰变量后标识该变量是上一级函数中的局部变量，如果上一级函数中不存在该局部变量，nonlocal位置会发生错误（最上层的函数使用nonlocal修饰变量必定会报错）\n",
    "    # 第二，两者使用的范围不同。global关键字可以用在任何地方，包括最上层函数中和嵌套函数中，即使之前未定义该变量，global修饰后也可以直接使用，而nonlocal关键字只能用于嵌套函数中，并且外层函数中定义了相应的局部变量，否则会发生错误（见第一）"
   ]
  },
  {
   "source": [
    "### 数据类型"
   ],
   "cell_type": "markdown",
   "metadata": {}
  },
  {
   "cell_type": "code",
   "execution_count": null,
   "metadata": {},
   "outputs": [],
   "source": [
    "# 数据类型转换\n",
    "    ## 获取整数的各位数: 将数字转换成一个字符数组(python 中的字符串)(如A = map(int, str(N)))，或者不断地把数字除以 10，取整数的最后一个数字"
   ]
  },
  {
   "cell_type": "code",
   "execution_count": null,
   "metadata": {},
   "outputs": [],
   "source": [
    "# python自省就是面向对象的语言所写的程序在运行时,所能知道对象的类型.简单一句就是运行时能够获得对象的类型.比如type(),dir(),getattr(),hasattr(),isinstance()."
   ]
  },
  {
   "cell_type": "code",
   "execution_count": 10,
   "metadata": {},
   "outputs": [
    {
     "output_type": "stream",
     "name": "stdout",
     "text": [
      "<class 'list'> <class 'dict'> <class 'bool'>\nTrue\n"
     ]
    }
   ],
   "source": [
    "a = [1,2,3]\n",
    "b = {'a':1,'b':2,'c':3}\n",
    "c = True\n",
    "print(type(a),type(b),type(c)) # <type 'list'> <type 'dict'> <type 'bool'>\n",
    "print(isinstance(a,list))  # True"
   ]
  },
  {
   "source": [
    "### 变量"
   ],
   "cell_type": "markdown",
   "metadata": {}
  },
  {
   "cell_type": "code",
   "execution_count": null,
   "metadata": {},
   "outputs": [],
   "source": [
    "# 类变量：是可在类的所有实例之间共享的值（也就是说，它们不是单独分配给每个实例的）例如下面第一个例子中，num_of_instance 就是类变量，用于跟踪存在着多少个Test的实例。\n",
    "# 实例变量：实例化之后，每个实例单独拥有的变量"
   ]
  },
  {
   "cell_type": "code",
   "execution_count": 7,
   "metadata": {},
   "outputs": [
    {
     "output_type": "stream",
     "name": "stdout",
     "text": [
      "0\n1\njack 2\nlucy 2\n"
     ]
    }
   ],
   "source": [
    "class Test(object):  \n",
    "    num_of_instance = 0  \n",
    "    def __init__(self, name):  \n",
    "        self.name = name  \n",
    "        Test.num_of_instance += 1  \n",
    "  \n",
    "print(Test.num_of_instance)   # 0\n",
    "t1 = Test('jack')  \n",
    "print(Test.num_of_instance)   # 1\n",
    "t2 = Test('lucy')  \n",
    "print(t1.name , t1.num_of_instance)  # jack 2\n",
    "print(t2.name , t2.num_of_instance)  # lucy 2"
   ]
  },
  {
   "cell_type": "code",
   "execution_count": 9,
   "metadata": {},
   "outputs": [
    {
     "output_type": "stream",
     "name": "stdout",
     "text": [
      "bbb\naaa\naaa\n"
     ]
    }
   ],
   "source": [
    "class Person:\n",
    "    name=\"aaa\"\n",
    "\n",
    "p1=Person()\n",
    "p2=Person()\n",
    "p1.name=\"bbb\" # 实例调用了类变量,p1.name一开始是指向的类变量name=\"aaa\",但是在实例的作用域里把类变量的引用改变了,就变成了一个实例变量,self.name不再引用Person的类变量name了\n",
    "print(p1.name)  # bbb\n",
    "print(p2.name)  # aaa\n",
    "print(Person.name)  # aaa"
   ]
  },
  {
   "cell_type": "code",
   "execution_count": null,
   "metadata": {},
   "outputs": [],
   "source": [
    "class Person:\n",
    "    name=[]\n",
    "\n",
    "p1=Person()\n",
    "p2=Person()\n",
    "p1.name.append(1)\n",
    "print(p1.name)  # [1]\n",
    "print(p2.name)  # [1]\n",
    "print(Person.name)  # [1]"
   ]
  },
  {
   "source": [
    "### 对象"
   ],
   "cell_type": "markdown",
   "metadata": {}
  },
  {
   "cell_type": "code",
   "execution_count": null,
   "metadata": {},
   "outputs": [],
   "source": [
    "# 在python中，strings, tuples, 和numbers是不可更改的对象，而 list, dict, set 等则是可以修改的对象\n",
    "    # 当一个引用传递给函数的时候,函数自动复制一份引用,这个函数里的引用和外边的引用没有半毛关系了.所以下面第一个例子里函数把引用指向了一个不可变对象,当函数返回的时候,外面的引用没半毛感觉.而第二个例子就不一样了,函数内的引用指向的是可变对象,对它的操作就和定位了指针地址一样,在内存里进行修改"
   ]
  },
  {
   "cell_type": "code",
   "execution_count": 4,
   "metadata": {},
   "outputs": [
    {
     "output_type": "stream",
     "name": "stdout",
     "text": [
      "func_out 94867170013952 94867170013952\nfunc_in 94867170013952\nre-point 94867170013984 94867170013984\n1\n"
     ]
    }
   ],
   "source": [
    "a = 1\n",
    "def fun(a):\n",
    "    print(\"func_in\",id(a))   \n",
    "    a = 2\n",
    "    print(\"re-point\",id(a), id(2))  \n",
    "print(\"func_out\",id(a), id(1))  \n",
    "fun(a)\n",
    "print(a)  # 1"
   ]
  },
  {
   "cell_type": "code",
   "execution_count": 5,
   "metadata": {},
   "outputs": [
    {
     "output_type": "stream",
     "name": "stdout",
     "text": [
      "func_out 139797084417952\nfunc_in 139797084417952\n[1]\n"
     ]
    }
   ],
   "source": [
    "a = []\n",
    "def fun(a):\n",
    "    print(\"func_in\",id(a))  \n",
    "    a.append(1)\n",
    "print(\"func_out\",id(a))    \n",
    "fun(a)\n",
    "print(a)  "
   ]
  },
  {
   "source": [
    "### 方法"
   ],
   "cell_type": "markdown",
   "metadata": {}
  },
  {
   "cell_type": "code",
   "execution_count": null,
   "metadata": {},
   "outputs": [],
   "source": [
    "# Python有3个方法,即静态方法(staticmethod),类方法(classmethod)和实例方法\n",
    "    # 这里先理解下函数参数里面的self和cls.这个self和cls是对实例或者类的绑定,对于一般的函数来说我们可以这么调用foo(x),这个函数就是最常用的,它的工作跟任何东西(类,实例)无关.对于实例方法,我们知道在类里每次定义方法的时候都需要绑定这个实例,就是foo(self, x),为什么要这么做呢?因为实例方法的调用离不开实例,我们需要把实例自己传给函数,调用的时候是这样的a.foo(x)(其实是foo(a, x)).类方法一样,只不过它传递的是类而不是实例,A.class_foo(x)(也可以使用a.class_foo(x)).注意这里的self和cls可以替换别的参数,但是python的约定是这俩,还是不要改的好.\n",
    "# 对于静态方法其实和普通的方法一样,不需要对谁进行绑定,唯一的区别是调用的时候需要使用a.static_foo(x)或者A.static_foo(x)来调用"
   ]
  },
  {
   "cell_type": "code",
   "execution_count": 6,
   "metadata": {},
   "outputs": [],
   "source": [
    "def foo(x):\n",
    "    print(\"executing foo(%s)\"%(x))\n",
    "\n",
    "class A(object):\n",
    "    def foo(self,x):\n",
    "        print(\"executing foo(%s,%s)\"%(self,x))\n",
    "\n",
    "    @classmethod\n",
    "    def class_foo(cls,x):\n",
    "        print(\"executing class_foo(%s,%s)\"%(cls,x))\n",
    "\n",
    "    @staticmethod\n",
    "    def static_foo(x):\n",
    "        print(\"executing static_foo(%s)\"%x)\n",
    "\n",
    "a=A()"
   ]
  },
  {
   "source": [
    "### 函数"
   ],
   "cell_type": "markdown",
   "metadata": {}
  },
  {
   "cell_type": "code",
   "execution_count": null,
   "metadata": {},
   "outputs": [],
   "source": [
    "# 高阶函数: map | reduce | filter | sorted\n",
    "    # map()函数接收两个参数，一个是函数，一个是Iterable(如列表)，map将传入的函数依次作用到序列的每个元素，并把结果作为新的Iterator返回；Iterator是惰性序列，因此通过list()函数让它把整个序列都计算出来并返回一个list\n",
    "    # reduce把一个函数作用在一个序列[x1, x2, x3, ...]上，这个函数必须接收两个参数，reduce把结果继续和序列的下一个元素做累积计算\n",
    "        ## 在 functools 库下，自从 Python3 以来不再是默认就可以使用的函数\n",
    "    # filter()函数用于过滤序列，接收一个函数和一个序列，把传入的函数依次作用于每个元素，然后根据返回值是True还是False决定保留还是丢弃该元素   |   filter(str.isalnum, s.lower())\n",
    "    # sorted()函数可以接收一个key函数来实现自定义的排序 第三个参数reverse=True进行反向排序 默认是升序\n",
    "        ## key仅仅支持一个参数\n",
    "        ## key如何对两个参数做对比: from functools import cmp_to_key，然后key = cmp_to_key(lambda x,y: ...)\n",
    "        ## 传入两个参数(x,y)对应于(self,other)，这里的self表示当前的数，而other是前面已经出现比较过的对象\n",
    "# 关键字lambda表示匿名函数(和函数式编程有关)，冒号前面的x表示函数参数"
   ]
  },
  {
   "cell_type": "code",
   "execution_count": 5,
   "metadata": {},
   "outputs": [
    {
     "output_type": "stream",
     "name": "stdout",
     "text": [
      "[6, 7]\n"
     ]
    }
   ],
   "source": [
    "a = [1,2,3,4,5,6,7]\n",
    "b = filter(lambda x: x > 5, a)\n",
    "print(list(b))"
   ]
  },
  {
   "cell_type": "code",
   "execution_count": 6,
   "metadata": {},
   "outputs": [
    {
     "output_type": "execute_result",
     "data": {
      "text/plain": [
       "[2, 4, 6]"
      ]
     },
     "metadata": {},
     "execution_count": 6
    }
   ],
   "source": [
    "a = map(lambda x:x*2,[1,2,3])\n",
    "list(a)"
   ]
  },
  {
   "cell_type": "code",
   "execution_count": 8,
   "metadata": {},
   "outputs": [
    {
     "output_type": "execute_result",
     "data": {
      "text/plain": [
       "6"
      ]
     },
     "metadata": {},
     "execution_count": 8
    }
   ],
   "source": [
    "from functools import reduce\n",
    "reduce(lambda x,y:x*y,range(1,4)) # 求3的阶乘"
   ]
  },
  {
   "cell_type": "code",
   "execution_count": 6,
   "metadata": {},
   "outputs": [
    {
     "output_type": "stream",
     "name": "stdout",
     "text": [
      "[(1, 4), (2, 5), (3, 6)]\n[(1, 4), (2, 5), (3, 6)]\n[(1, 2, 3), (4, 5, 6)]\n"
     ]
    }
   ],
   "source": [
    "# zip\n",
    "a = [1,2,3]\n",
    "b = [4,5,6]\n",
    "zipped = zip(a,b) \n",
    "print(list(zipped)) # 打包为元组的列表\n",
    "c = [4,5,6,7,8]\n",
    "print(list(zip(a,c))) # 元素个数与最短的列表一致\n",
    "zipped = zip(a,b)\n",
    "print(list(zip(*zipped))) # 与 zip 相反，*zipped 可理解为解压，返回二维矩阵式"
   ]
  },
  {
   "cell_type": "code",
   "execution_count": null,
   "metadata": {},
   "outputs": [],
   "source": [
    "# enumerate(sequence, start=0): sequence为一个序列、迭代器或其他支持迭代对象；start为下标起始位置"
   ]
  },
  {
   "cell_type": "code",
   "execution_count": null,
   "metadata": {},
   "outputs": [],
   "source": [
    "# bin函数得到二进制的字符串，int函数有两个参数，第二个参数指明进制，如int(a,2)将a转换成二进制整数"
   ]
  },
  {
   "cell_type": "code",
   "execution_count": 2,
   "metadata": {},
   "outputs": [
    {
     "output_type": "stream",
     "name": "stdout",
     "text": [
      "[3, 2, 5, 1]\n"
     ]
    }
   ],
   "source": [
    "# reversed\n",
    "a = [1,5,2,3]\n",
    "print(list(reversed(a)))"
   ]
  },
  {
   "cell_type": "code",
   "execution_count": 2,
   "metadata": {},
   "outputs": [
    {
     "output_type": "stream",
     "name": "stdout",
     "text": [
      "flow\n3\n"
     ]
    }
   ],
   "source": [
    "# min/max\n",
    "strs = [\"flower\",\"flow\",\"flight\"]\n",
    "shortest = min(strs,key=len)\n",
    "print(shortest)\n",
    "\n",
    "import collections\n",
    "a = [1,2,2,3,3,3,3]\n",
    "counts = collections.Counter(a)\n",
    "print(max(counts.keys(), key=counts.get))"
   ]
  },
  {
   "cell_type": "code",
   "execution_count": null,
   "metadata": {},
   "outputs": [],
   "source": [
    "# 函数参数：*args和**kwargs\n",
    "    ## 当你不确定你的函数里将要传递多少参数时你可以用*args.例如,它可以传递任意数量的参数\n",
    "    ## **kwargs允许你使用没有事先定义的参数名\n",
    "    ## 也可以混着用.命名参数首先获得参数值然后所有的其他参数都传递给*args和**kwargs.命名参数在列表的最前端.例如:def table_things(titlestring, **kwargs).*args和**kwargs可以同时在函数的定义中,但是*args必须在**kwargs前面.\n",
    "    ## 当调用函数时你也可以用*和**语法\n"
   ]
  },
  {
   "cell_type": "code",
   "execution_count": null,
   "metadata": {},
   "outputs": [],
   "source": [
    "# 函数重载\n",
    "    ## 函数重载主要是为了解决两个问题。可变参数类型。可变参数个数。\n",
    "    ## 一个基本的设计原则是，仅仅当两个函数除了参数类型和参数个数不同以外，其功能是完全相同的，此时才使用函数重载，如果两个函数的功能其实不同，那么不应当使用重载，而应当使用一个名字不同的函数\n",
    "    ## 对于情况 1 ，函数功能相同，但是参数类型不同，python 如何处理？答案是根本不需要处理，因为 python 可以接受任何类型的参数，如果函数的功能相同，那么不同的参数类型在 python 中很可能是相同的代码，没有必要做成两个不同函数\n",
    "    ## 对于情况 2 ，函数功能相同，但参数个数不同，python 如何处理？大家知道，答案就是缺省参数。对那些缺少的参数设定为缺省参数即可解决问题。因为你假设函数功能相同，那么那些缺少的参数终归是需要用的\n",
    "    ## python不需要函数重载了"
   ]
  },
  {
   "cell_type": "code",
   "execution_count": 18,
   "metadata": {},
   "outputs": [
    {
     "output_type": "stream",
     "name": "stdout",
     "text": [
      "0. apple\n1. banana\n2. cabbage\n"
     ]
    }
   ],
   "source": [
    "def print_everything(*args): # 参数列表\n",
    "    for count, thing in enumerate(args):\n",
    "        print('{0}. {1}'.format(count, thing))\n",
    "print_everything('apple', 'banana', 'cabbage')"
   ]
  },
  {
   "cell_type": "code",
   "execution_count": 19,
   "metadata": {},
   "outputs": [
    {
     "output_type": "stream",
     "name": "stdout",
     "text": [
      "apple = fruit\ncabbage = vegetable\n"
     ]
    }
   ],
   "source": [
    "def table_things(**kwargs): # 字典\n",
    "    for name, value in kwargs.items():\n",
    "        print('{0} = {1}'.format(name, value))\n",
    "table_things(apple = 'fruit', cabbage = 'vegetable')"
   ]
  },
  {
   "cell_type": "code",
   "execution_count": 20,
   "metadata": {},
   "outputs": [
    {
     "output_type": "stream",
     "name": "stdout",
     "text": [
      "a = aardvark, b = baboon, c = cat\n"
     ]
    }
   ],
   "source": [
    "def print_three_things(a, b, c):\n",
    "    print('a = {0}, b = {1}, c = {2}'.format(a,b,c))\n",
    "mylist = ['aardvark', 'baboon', 'cat']\n",
    "print_three_things(*mylist)"
   ]
  },
  {
   "source": [
    "### 列表"
   ],
   "cell_type": "markdown",
   "metadata": {}
  },
  {
   "cell_type": "code",
   "execution_count": null,
   "metadata": {},
   "outputs": [],
   "source": [
    "# 反转[::-1] | 隔一位反转[::-2]\n",
    "# 奇数位和偶数位: [1::2] [0::2]"
   ]
  },
  {
   "cell_type": "code",
   "execution_count": 8,
   "metadata": {},
   "outputs": [
    {
     "output_type": "stream",
     "name": "stdout",
     "text": [
      "[]\n"
     ]
    }
   ],
   "source": [
    "# 代码将输出[],不会产生IndexError错误\n",
    "# 尝试获取list[10]和之后的成员，会导致IndexError。然而，尝试获取列表的切片，开始的index超过了成员个数不会产生IndexError，而是仅仅返回一个空列表\n",
    "l = ['a','b','c','d','e']\n",
    "print(l[10:])"
   ]
  },
  {
   "cell_type": "code",
   "execution_count": 2,
   "metadata": {},
   "outputs": [
    {
     "output_type": "stream",
     "name": "stdout",
     "text": [
      "{3}\n{1, 2, 4, 5}\n"
     ]
    }
   ],
   "source": [
    "# 给定两个列表，怎么找出他们相同的元素和不同的元素？\n",
    "list1 = [1,2,3]\n",
    "list2 = [3,4,5]\n",
    "set1 = set(list1)\n",
    "set2 = set(list2)\n",
    "print(set1 & set2)\n",
    "print(set1 ^ set2)"
   ]
  },
  {
   "cell_type": "code",
   "execution_count": 9,
   "metadata": {},
   "outputs": [
    {
     "output_type": "stream",
     "name": "stdout",
     "text": [
      "['b', 'c', 'd', 'a']\n"
     ]
    }
   ],
   "source": [
    "# 实现删除list里面的重复元素\n",
    "l1 = ['b','c','d','c','a','a']\n",
    "l2 = sorted(set(l1),key=l1.index)\n",
    "print(l2)"
   ]
  },
  {
   "cell_type": "code",
   "execution_count": 9,
   "metadata": {},
   "outputs": [
    {
     "output_type": "stream",
     "name": "stdout",
     "text": [
      "140072691165216\n140072692450880\n[2, 3, 4, 5, 6, 7, 8]\n[3, 4, 5, 6, 7, 8]\n[4, 5, 6, 7, 8]\n[5, 6, 7, 8]\n[6, 7, 8]\n[6, 7, 8]\n[6, 7, 8]\n[6, 7, 8]\n-----------\n140072691165216\n"
     ]
    }
   ],
   "source": [
    "# list.remove()\n",
    "# id(list)\n",
    "a = [1,2,3,4,5,6,7,8]\n",
    "print(id(a))\n",
    "print(id(a[:]))\n",
    "for i in a[:]:\n",
    "    if i>5:\n",
    "        pass\n",
    "    else:\n",
    "        a.remove(i)\n",
    "    print(a)\n",
    "print('-----------')\n",
    "print(id(a))"
   ]
  },
  {
   "cell_type": "code",
   "execution_count": 10,
   "metadata": {},
   "outputs": [
    {
     "output_type": "stream",
     "name": "stdout",
     "text": [
      "140072689783104\n140072689783104\n-----------\n[6, 7, 8]\n"
     ]
    }
   ],
   "source": [
    "a=[1,2,3,4,5,6,7,8] \n",
    "print(id(a))\n",
    "for i in range(len(a)-1,-1,-1): # 倒序删除\n",
    "    if a[i]>5:\n",
    "        pass\n",
    "    else:\n",
    "        a.remove(a[i])\n",
    "print(id(a))\n",
    "print('-----------')\n",
    "print(a)"
   ]
  },
  {
   "source": [
    "### 字典"
   ],
   "cell_type": "markdown",
   "metadata": {}
  },
  {
   "cell_type": "code",
   "execution_count": 5,
   "metadata": {},
   "outputs": [
    {
     "output_type": "stream",
     "name": "stdout",
     "text": [
      "{'k': 1, 'k1': 2, 'k2': 3, 'k3': 4}\n"
     ]
    }
   ],
   "source": [
    "# 字典生成/推导式\n",
    "    ## d = {key: value for (key, value) in iterable}\n",
    "s = \"k:1|k1:2|k2:3|k3:4\"\n",
    "d = {k:int(v) for t in s.split(\"|\") for k, v in (t.split(\":\"),)}\n",
    "print(d)"
   ]
  },
  {
   "cell_type": "code",
   "execution_count": null,
   "metadata": {},
   "outputs": [],
   "source": [
    "# 字典按value值进行排序\n",
    "    # sorted(d.items(),key=lambda x:x[1]) # x[0]代表用key进行排序；x[1]代表用value进行排序"
   ]
  },
  {
   "source": [
    "### 字符串"
   ],
   "cell_type": "markdown",
   "metadata": {}
  },
  {
   "cell_type": "code",
   "execution_count": null,
   "metadata": {},
   "outputs": [],
   "source": [
    "# .isalpha() | .isdigit() | .isalnum() | .islower() | .isupper() | .lower() | .upper() | .capitalize() | .istitle() | .isspace()\n",
    "# .split() | .replace() | .index() | .reverse()\n",
    "    # split(str, num): str为分隔符，默认为所有的空字符，包括空格、换行(\\n)、制表符(\\t)等；num为分割次数，默认为 -1，即分隔所有\n",
    "# ord() | chr()\n",
    "# .endswith()"
   ]
  },
  {
   "cell_type": "code",
   "execution_count": 27,
   "metadata": {},
   "outputs": [
    {
     "output_type": "stream",
     "name": "stdout",
     "text": [
      "电话号码是 :  2004959559\n123-45-67\n--------------------\n<_sre.SRE_Match object; span=(0, 3), match='www'>\nNone\n<_sre.SRE_Match object; span=(0, 9), match='010-12345'>\n('010', '12345')\n010-12345\n010-12345\n010\n12345\n"
     ]
    }
   ],
   "source": [
    "# 正则表达式\n",
    "import re\n",
    "'''\n",
    "^ 匹配字符串的开头 | ^\\d必须以数字开头 | $ 匹配字符串的末尾 | \\d$必须以数字结尾\n",
    "* 匹配0个或多个的字符 | + 匹配1个或多个的字符 | ? 匹配0个或1个字符 | . 匹配任意字符，除了换行符\n",
    "\\w 匹配一个字母或数字或下划线(\\W非单词) | \\s 匹配一个空格(也包括Tab等空白符)(\\S匹配任意非空字符) | \\b 匹配一个单词边界(如， 'er\\b' 可以匹配\"never\" 中的 'er'，但不能匹配 \"verb\" 中的 'er')(\\B匹配非单词边界)\n",
    "{n} n个 | {n,} 如{1,}相当于x+\n",
    "[\\u4e00-\\u9fa5]匹配中文 | [^abc] 匹配除了a、b、c以外的字符\n",
    "\n",
    "正则匹配默认是贪婪匹配，也就是匹配尽可能多的字符。后加个?就可以采用非贪婪匹配\n",
    "'''\n",
    "\n",
    "# re.sub与str.replace('', '')类似\n",
    "phone = \"2004-959-559\"\n",
    "num = re.sub(r'\\D', \"\", phone)\n",
    "print(\"电话号码是 : \", num)\n",
    "number = \"123 4-567\"\n",
    "print(re.sub('(...?(?=..))', r'\\1-', re.sub('\\D', '', number))) # \\1...\\9 匹配第n个分组的内容; (?=..) 前向肯定界定符/前向否定界定符 (?!..) 不包含..形式的串，它是不占位置的，起到一种指示作用\n",
    "print(\"-\"*20)\n",
    "\n",
    "# re.match 尝试从字符串的起始位置匹配一个模式，匹配成功re.match方法返回一个匹配的对象；如果不是起始位置匹配成功的话，match()就返回none\n",
    "print(re.match('www', 'www.runoob.com'))  # 在起始位置匹配\n",
    "print(re.match('com', 'www.runoob.com'))  # 不在起始位置匹配\n",
    "    # 正则表达式有提取子串的功能。用()表示的就是要提取的分组（Group）\n",
    "print(re.match(r'^(\\d{3})-(\\d{3,8})$', '010-12345'))\n",
    "print(re.match(r'^(\\d{3})-(\\d{3,8})$', '010-12345').groups()) # 返回元组\n",
    "print(re.match(r'^(\\d{3})-(\\d{3,8})$', '010-12345').group())\n",
    "print(re.match(r'^(\\d{3})-(\\d{3,8})$', '010-12345').group(0))\n",
    "print(re.match(r'^(\\d{3})-(\\d{3,8})$', '010-12345').group(1))\n",
    "print(re.match(r'^(\\d{3})-(\\d{3,8})$', '010-12345').group(2))\n"
   ]
  },
  {
   "cell_type": "code",
   "execution_count": 19,
   "metadata": {},
   "outputs": [
    {
     "output_type": "stream",
     "name": "stdout",
     "text": [
      "None\nNone\n<_sre.SRE_Match object; span=(3, 5), match='12'>\n--------------------\n['123', '456']\n['88', '12']\n"
     ]
    }
   ],
   "source": [
    "# compile 函数用于编译正则表达式，生成一个正则表达式（ Pattern ）对象\n",
    "pattern = re.compile(r'\\d+') \n",
    "m = pattern.match('one12twothree34four') # 查找头部，没有匹配\n",
    "print(m)\n",
    "m = pattern.match('one12twothree34four', 2, 10) # 从'e'的位置开始匹配，没有匹配\n",
    "print(m)\n",
    "m = pattern.match('one12twothree34four', 3, 10) # 从'1'的位置开始匹配，正好匹配\n",
    "print(m)\n",
    "print(\"-\"*20)\n",
    "\n",
    "# match是匹配一次，findall是匹配所有\n",
    "result1 = pattern.findall('runoob 123 google 456')\n",
    "result2 = pattern.findall('run88oob123google456', 0, 10)\n",
    "print(result1)\n",
    "print(result2)"
   ]
  },
  {
   "cell_type": "code",
   "execution_count": null,
   "metadata": {},
   "outputs": [],
   "source": [
    "# ASCII: '0':48; 'A':65; 'a':97"
   ]
  },
  {
   "cell_type": "code",
   "execution_count": 14,
   "metadata": {},
   "outputs": [
    {
     "output_type": "error",
     "ename": "TypeError",
     "evalue": "not all arguments converted during string formatting",
     "traceback": [
      "\u001b[0;31m---------------------------------------------------------------------------\u001b[0m",
      "\u001b[0;31mTypeError\u001b[0m                                 Traceback (most recent call last)",
      "\u001b[0;32m<ipython-input-14-831d062bccf9>\u001b[0m in \u001b[0;36m<module>\u001b[0;34m\u001b[0m\n\u001b[1;32m      1\u001b[0m \u001b[0;31m# 字符串格式化:%和.format\u001b[0m\u001b[0;34m\u001b[0m\u001b[0;34m\u001b[0m\u001b[0;34m\u001b[0m\u001b[0m\n\u001b[1;32m      2\u001b[0m \u001b[0mname\u001b[0m\u001b[0;34m=\u001b[0m\u001b[0;34m(\u001b[0m\u001b[0;36m1\u001b[0m\u001b[0;34m,\u001b[0m\u001b[0;36m2\u001b[0m\u001b[0;34m,\u001b[0m\u001b[0;36m3\u001b[0m\u001b[0;34m)\u001b[0m\u001b[0;34m\u001b[0m\u001b[0;34m\u001b[0m\u001b[0m\n\u001b[0;32m----> 3\u001b[0;31m \u001b[0mprint\u001b[0m\u001b[0;34m(\u001b[0m\u001b[0;34m\"hi there %s\"\u001b[0m \u001b[0;34m%\u001b[0m \u001b[0mname\u001b[0m\u001b[0;34m)\u001b[0m\u001b[0;34m\u001b[0m\u001b[0;34m\u001b[0m\u001b[0m\n\u001b[0m",
      "\u001b[0;31mTypeError\u001b[0m: not all arguments converted during string formatting"
     ]
    }
   ],
   "source": [
    "# 字符串格式化:%和.format\n",
    "## %无法传递元组，format没有问题\n",
    "name=(1,2,3)\n",
    "print(\"hi there %s\" % name)"
   ]
  },
  {
   "cell_type": "code",
   "execution_count": 15,
   "metadata": {},
   "outputs": [
    {
     "output_type": "stream",
     "name": "stdout",
     "text": [
      "hi there (1, 2, 3)\n"
     ]
    }
   ],
   "source": [
    "print(\"hi there %s\" % (name,) ) # 提供一个单元素的数组而不是一个参数"
   ]
  },
  {
   "cell_type": "code",
   "execution_count": null,
   "metadata": {},
   "outputs": [],
   "source": [
    "# 字符串前加u: 以Unicode格式进行编码，一般用在中文字符串前面，防止因为源码储存格式问题，导致再次使用时出现乱码\n",
    "# 加r: 去掉反斜杠的转义机制，常用于正则表达式\n",
    "# 加b: 表示这是一个bytes对象，网络编程中，服务器和浏览器只认bytes类型数据，如：send函数的参数和recv函数的返回值都是bytes类型\n",
    "# 加f: 表示在字符串内支持大括号内的python表达式\n",
    "# 在 Python3 中，bytes和str的互相转换方式是\n",
    "    # str.encode('utf-8')\n",
    "    # bytes.decode('utf-8')"
   ]
  },
  {
   "cell_type": "code",
   "execution_count": 11,
   "metadata": {},
   "outputs": [
    {
     "output_type": "stream",
     "name": "stdout",
     "text": [
      "abcdefghijklmnopqrstuvwxyz\nabcdefghijklmnopqrstuvwxyz\n"
     ]
    }
   ],
   "source": [
    "# 生成26个小写字母\n",
    "    # 方法一\n",
    "import string\n",
    "letters = string.ascii_lowercase\n",
    "print(letters)\n",
    "    # 方法二\n",
    "letters = \"\".join(map(chr, range(ord('a'), ord('z') + 1)))\n",
    "print(letters)"
   ]
  },
  {
   "source": [
    "### 矩阵操作"
   ],
   "cell_type": "markdown",
   "metadata": {}
  },
  {
   "cell_type": "code",
   "execution_count": null,
   "metadata": {},
   "outputs": [],
   "source": [
    "# 分别获取行列长度"
   ]
  },
  {
   "source": [
    "### 文件及目录操作"
   ],
   "cell_type": "markdown",
   "metadata": {}
  },
  {
   "cell_type": "code",
   "execution_count": 6,
   "metadata": {},
   "outputs": [],
   "source": [
    "# shutil提供了一系列对文件和文件集合的高阶操作\n",
    "import shutil \n",
    "import os\n",
    "from tensorboardX import SummaryWriter\n",
    "\n",
    "log_dir = \"test/\"\n",
    "if not os.path.exists(log_dir):\n",
    "    os.makedirs(log_dir)\n",
    "writer = SummaryWriter(log_dir) # log_dir下会产生一个文件\n",
    "shutil.rmtree(log_dir) # 递归删除一个目录以及目录内的所有内容，即log_dir消失"
   ]
  },
  {
   "cell_type": "code",
   "execution_count": 10,
   "metadata": {},
   "outputs": [
    {
     "output_type": "stream",
     "name": "stdout",
     "text": [
      "['test/test_glob/1.pkl', 'test/test_glob/2.pkl', 'test/test_glob/3.pkl']\n1.pkl\n"
     ]
    }
   ],
   "source": [
    "# glob.glob\n",
    "# os.path.basename\n",
    "import glob\n",
    "dirname = \"test/test_glob\"\n",
    "files = glob.glob(dirname+'/*.pkl') # 获取dir下所有的pkl文件\n",
    "print(files)\n",
    "print(os.path.basename(files[0])) # 获取文件名"
   ]
  },
  {
   "cell_type": "code",
   "execution_count": null,
   "metadata": {},
   "outputs": [],
   "source": [
    "# glob.iglob()函数获取一个可遍历对象，与glob.glob()的区别是：glob.glob()可同时获取所有的匹配路径，而glob.iglob()一次只能获取一个匹配路径"
   ]
  },
  {
   "cell_type": "code",
   "execution_count": null,
   "metadata": {},
   "outputs": [],
   "source": [
    "# os.remove(file)\n",
    "# os.listdir | os.path.join | os.path.isdir | os.path.isfile\n",
    "def print_directory_contents(sPath):\n",
    "# 这个函数接收文件夹的名称作为输入参数，返回该文件夹中文件的路径以及其包含文件夹中文件的路径\n",
    "    for s_child in os.listdir(s_path):\n",
    "        s_child_path = os.path.join(s_path, s_child)\n",
    "        if os.path.isdir(s_child_path):\n",
    "            print_directory_contents(s_child_path)\n",
    "        else:\n",
    "            print(s_child_path)"
   ]
  },
  {
   "cell_type": "code",
   "execution_count": 7,
   "metadata": {},
   "outputs": [
    {
     "output_type": "stream",
     "name": "stdout",
     "text": [
      "root:/home/yaoqf/yaoqingfeng/Code-Repository/leetcodes\ndirs:['test']\nfiles:['array_matrix.ipynb', 'subsequence.ipynb', 'others.ipynb', 'readme.md', 'backtrack.ipynb', 'design.ipynb', 'string.ipynb', 'basics.ipynb', 'binary.ipynb', 'array_others.ipynb', 'linktable.ipynb', 'array_basic.ipynb', 'sortings.ipynb', 'tree.ipynb']\nroot:/home/yaoqf/yaoqingfeng/Code-Repository/leetcodes/test\ndirs:['test_glob']\nfiles:[]\nroot:/home/yaoqf/yaoqingfeng/Code-Repository/leetcodes/test/test_glob\ndirs:[]\nfiles:['1.pkl', '2.pkl', '3.pkl']\n"
     ]
    }
   ],
   "source": [
    "# os.walk\n",
    "import os\n",
    "dir = '/home/yaoqf/yaoqingfeng/Code-Repository/leetcodes'\n",
    "for root,dirs,files in os.walk(dir):\n",
    "    print(\"root:{}\".format(root))\n",
    "    print(\"dirs:{}\".format(dirs))\n",
    "    print(\"files:{}\".format(files))\n"
   ]
  },
  {
   "cell_type": "code",
   "execution_count": 8,
   "metadata": {},
   "outputs": [
    {
     "output_type": "stream",
     "name": "stdout",
     "text": [
      "a .pyc\n"
     ]
    }
   ],
   "source": [
    "# os.path.splitext\n",
    "filename = \"a.pyc\"\n",
    "name,suf = os.path.splitext(filename)\n",
    "print(name,suf)"
   ]
  },
  {
   "cell_type": "code",
   "execution_count": null,
   "metadata": {},
   "outputs": [],
   "source": [
    "# 文件读写\n",
    "    # read 读取整个文件\n",
    "    # readline 读取下一行,使用生成器方法\n",
    "    # readlines 读取整个文件到一个迭代器以供我们遍历\n",
    "def get_lines():\n",
    "    with open('file.txt','rb') as f:\n",
    "        return f.readlines()\n",
    "    # 现在要处理一个大小为10G的文件，但是内存只有4G  -->   需要分批读入，太小会在读取操作花费过多时间\n",
    "def get_lines():\n",
    "    with open('file.txt','rb') as f:\n",
    "        for i in f:\n",
    "            yield i\n",
    "    # 分批读入数据要记录每次读入数据的位置\n",
    "from mmap import mmap # mmap是一种虚拟内存映射文件的方法，即将一个文件或者其它对象映射到进程的地址空间，实现文件磁盘地址和进程虚拟地址空间中一段虚拟地址的一一对映关系\n",
    "def get_lines(fp):\n",
    "    with open(fp,\"r+\") as f: # r是只读，r+是读写\n",
    "        m = mmap(f.fileno(), 0) # 第一个参数是文件描述符，第二个参数是要映射文件部分的大小（以字节为单位），这个值为0，则映射整个文件，如果大小大于文件当前大小，则扩展这个文件\n",
    "        tmp = 0\n",
    "        for i, char in enumerate(m):\n",
    "            if char==b\"\\n\":\n",
    "                yield m[tmp:i+1].decode()\n",
    "                tmp = i+1"
   ]
  },
  {
   "source": [
    "### 拷贝"
   ],
   "cell_type": "markdown",
   "metadata": {}
  },
  {
   "cell_type": "code",
   "execution_count": 9,
   "metadata": {},
   "outputs": [
    {
     "output_type": "stream",
     "name": "stdout",
     "text": [
      "a =  [1, 2, 3, 4, ['a', 'b', 'c'], 5]\nb =  [1, 2, 3, 4, ['a', 'b', 'c'], 5]\nc =  [1, 2, 3, 4, ['a', 'b', 'c']]\nd =  [1, 2, 3, 4, ['a', 'b']]\n"
     ]
    }
   ],
   "source": [
    "# copy(),deepcopy()\n",
    "import copy\n",
    "a = [1, 2, 3, 4, ['a', 'b']]  #原始对象\n",
    "\n",
    "b = a  #赋值，传对象的引用\n",
    "c = copy.copy(a)  #对象拷贝，浅拷贝\n",
    "d = copy.deepcopy(a)  #对象拷贝，深拷贝\n",
    "\n",
    "a.append(5)  #修改对象a\n",
    "a[4].append('c')  #修改对象a中的['a', 'b']数组对象\n",
    "\n",
    "print('a = ', a)\n",
    "print('b = ', b)\n",
    "print('c = ', c)\n",
    "print('d = ', d)"
   ]
  },
  {
   "source": [
    "### datetime"
   ],
   "cell_type": "markdown",
   "metadata": {}
  },
  {
   "cell_type": "code",
   "execution_count": 1,
   "metadata": {},
   "outputs": [
    {
     "output_type": "execute_result",
     "data": {
      "text/plain": [
       "93"
      ]
     },
     "metadata": {},
     "execution_count": 1
    }
   ],
   "source": [
    "import datetime\n",
    "# 输入日期， 判断这一天是这一年的第几天？ 2019.4.3\n",
    "def ymd():\n",
    "    year = input(\"请输入年份: \")\n",
    "    month = input(\"请输入月份: \")\n",
    "    day = input(\"请输入天: \")\n",
    "    date1 = datetime.date(year=int(year),month=int(month),day=int(day))\n",
    "    date2 = datetime.date(year=int(year),month=1,day=1)\n",
    "    return (date1-date2).days+1\n",
    "ymd()"
   ]
  },
  {
   "source": [
    "### random"
   ],
   "cell_type": "markdown",
   "metadata": {}
  },
  {
   "cell_type": "code",
   "execution_count": 2,
   "metadata": {},
   "outputs": [
    {
     "output_type": "stream",
     "name": "stdout",
     "text": [
      "[2, 1, 3, 4, 5]\n"
     ]
    }
   ],
   "source": [
    "import random\n",
    "# 打乱一个排好序的list对象alist\n",
    "alist = [1,2,3,4,5]\n",
    "random.shuffle(alist)\n",
    "print(alist)"
   ]
  },
  {
   "source": [
    "### itertools"
   ],
   "cell_type": "markdown",
   "metadata": {}
  },
  {
   "cell_type": "code",
   "execution_count": 5,
   "metadata": {},
   "outputs": [
    {
     "output_type": "stream",
     "name": "stdout",
     "text": [
      "[('a', 'b'), ('a', 'c'), ('b', 'c')]\n[('a', 'b'), ('a', 'c'), ('b', 'a'), ('b', 'c'), ('c', 'a'), ('c', 'b')]\n"
     ]
    }
   ],
   "source": [
    "# 排列组合\n",
    "import itertools\n",
    "\n",
    "print(list(itertools.combinations(\"abc\",2)))\n",
    "print(list(itertools.permutations(\"abc\",2)))\n"
   ]
  },
  {
   "cell_type": "code",
   "execution_count": 2,
   "metadata": {},
   "outputs": [
    {
     "output_type": "stream",
     "name": "stdout",
     "text": [
      "[('G', 'G'), ('G', 'E'), ('G', 'e'), ('G', 'k'), ('G', 's'), ('E', 'E'), ('E', 'e'), ('E', 'k'), ('E', 's'), ('e', 'e'), ('e', 'k'), ('e', 's'), ('k', 'k'), ('k', 's'), ('s', 's')]\n"
     ]
    }
   ],
   "source": [
    "from itertools import combinations_with_replacement \n",
    "\n",
    "a =\"GEeks\"\n",
    "print(list(combinations_with_replacement(a, 2))) # 包括本身"
   ]
  },
  {
   "cell_type": "code",
   "execution_count": 3,
   "metadata": {},
   "outputs": [
    {
     "output_type": "stream",
     "name": "stdout",
     "text": [
      "[1, 3, 6]\n"
     ]
    }
   ],
   "source": [
    "from itertools import accumulate\n",
    "\n",
    "s=[1,2,3]\n",
    "print(list(accumulate(s)))"
   ]
  },
  {
   "cell_type": "code",
   "execution_count": 11,
   "metadata": {},
   "outputs": [
    {
     "output_type": "stream",
     "name": "stdout",
     "text": [
      "[('g', 'G'), ('e', 'E'), ('e', 'E'), '2', ('k', 'K'), ('s', 'S'), '3']\n['gee2ks3', 'gee2kS3', 'gee2Ks3', 'gee2KS3', 'geE2ks3', 'geE2kS3', 'geE2Ks3', 'geE2KS3', 'gEe2ks3', 'gEe2kS3', 'gEe2Ks3', 'gEe2KS3', 'gEE2ks3', 'gEE2kS3', 'gEE2Ks3', 'gEE2KS3', 'Gee2ks3', 'Gee2kS3', 'Gee2Ks3', 'Gee2KS3', 'GeE2ks3', 'GeE2kS3', 'GeE2Ks3', 'GeE2KS3', 'GEe2ks3', 'GEe2kS3', 'GEe2Ks3', 'GEe2KS3', 'GEE2ks3', 'GEE2kS3', 'GEE2Ks3', 'GEE2KS3']\n"
     ]
    }
   ],
   "source": [
    "# 集合的笛卡尔乘积是从所有集合中选择每种可能的组合\n",
    "f = lambda x: (x.lower(), x.upper()) if x.isalpha() else x\n",
    "a =\"GEe2ks3\"\n",
    "print(list(map(f, a)))\n",
    "print(list(map(\"\".join, itertools.product(*map(f, a)))))"
   ]
  },
  {
   "source": [
    "### heapq"
   ],
   "cell_type": "markdown",
   "metadata": {}
  },
  {
   "cell_type": "code",
   "execution_count": 5,
   "metadata": {},
   "outputs": [
    {
     "output_type": "stream",
     "name": "stdout",
     "text": [
      "[1, 2, 9, 7, 3, 10]\n[2, 3, 9, 7, 10]\n[3, 7, 9, 10]\n3\n[3, 7, 9, 10]\n"
     ]
    }
   ],
   "source": [
    "# 堆\n",
    "import heapq\n",
    "a = [1, 2, 9, 7, 3]\n",
    "heapq.heappush(a,10)\n",
    "print(a)\n",
    "heapq.heappop(a) # 弹出最小的值\n",
    "print(a)\n",
    "heapq.heappop(a) # 弹出最小的值\n",
    "print(a)\n",
    "print(a[0]) # # 查看堆中最小的值，不弹出\n",
    "heapq.heapify(a) # 以线性时间将一个列表转为堆\n",
    "print(a)"
   ]
  },
  {
   "source": [
    "### collections"
   ],
   "cell_type": "markdown",
   "metadata": {}
  },
  {
   "cell_type": "code",
   "execution_count": 28,
   "metadata": {},
   "outputs": [
    {
     "output_type": "stream",
     "name": "stdout",
     "text": [
      "deque(['a', 'b', 'c', 'd', 'e', 'f', 'g'])\n"
     ]
    }
   ],
   "source": [
    "import collections\n",
    "\n",
    "# 队列\n",
    "d=collections.deque('abcdefg') # 和list很像\n",
    "print(d)"
   ]
  },
  {
   "cell_type": "code",
   "execution_count": 13,
   "metadata": {},
   "outputs": [
    {
     "output_type": "stream",
     "name": "stdout",
     "text": [
      "deque(['a', 'b', 'c', 'd', 'e', 'f', 'g'])\ndeque([5, 4, 3, 2, 1, 0])\ndeque(['a', 'b', 'c', 'd', 'e', 'f', 'g', 'h'])\n"
     ]
    }
   ],
   "source": [
    "# deque是通过extend方法初始化集合元素的，同时可以通过extendleft将结合元素从“左边”加入到集合中\n",
    "# append默认从集合的右边增加数组元素，而另一个appendleft可以从集合的左边增加元素\n",
    "# 与append和appendleft方法对应的还有pop和popleft方法分别用于从集合中取出元素\n",
    "d1=collections.deque()\n",
    "d2=collections.deque()\n",
    "d1.extend('abcdefg')\n",
    "d2.extendleft(range(6))\n",
    "print(d1)\n",
    "print(d2)\n",
    "d1.append('h')\n",
    "print(d1)\n",
    "\n"
   ]
  },
  {
   "cell_type": "code",
   "execution_count": 5,
   "metadata": {},
   "outputs": [
    {
     "output_type": "stream",
     "name": "stdout",
     "text": [
      "0\nCounter({'b': 3, 'a': 2, 'c': 1, 'd': 1})\n"
     ]
    }
   ],
   "source": [
    "# defaultdict: 创建一个类似dict对象，里面任何values都是int的实例，就算不存在的key，d[key]也有一个默认值0，可以自行赋值\n",
    "# Counter: 以字典的形式统计元素个数\n",
    "d = collections.defaultdict(int) # 接受一个工厂函数作为参数，可以是list、set、str等等，作用是当key不存在时，返回的是工厂函数的默认值。比如list对应[ ]，str对应的是空字符串，set对应set( )，int对应0\n",
    "print(d[1])\n",
    "A=['a','b','b','c','d','b','a']\n",
    "c = collections.Counter(A)\n",
    "print(c)\n"
   ]
  },
  {
   "cell_type": "code",
   "execution_count": 29,
   "metadata": {},
   "outputs": [
    {
     "output_type": "stream",
     "name": "stdout",
     "text": [
      "OrderedDict([('apple', 4), ('banana', 3), ('orange', 2), ('pear', 1)])\nOrderedDict([('pear', 1), ('orange', 2), ('banana', 3), ('apple', 4)])\n"
     ]
    }
   ],
   "source": [
    "# 实现了对字典对象中元素的排序\n",
    "dd = {'banana': 3, 'apple':4, 'pear': 1, 'orange': 2}\n",
    "#按key排序\n",
    "kd = collections.OrderedDict(sorted(dd.items(), key=lambda t: t[0]))\n",
    "print(kd)\n",
    "#按照value排序\n",
    "vd = collections.OrderedDict(sorted(dd.items(),key=lambda t:t[1]))\n",
    "print(vd)"
   ]
  },
  {
   "source": [
    "### Pandas"
   ],
   "cell_type": "markdown",
   "metadata": {}
  },
  {
   "cell_type": "code",
   "execution_count": 1,
   "metadata": {},
   "outputs": [],
   "source": [
    "# 扩展Pandas中显示的列和行数\n",
    "## Pandas表中显示的行和列数量有限，可以根据自己的喜好进行自定义。\n",
    "import pandas as pd\n",
    "pd.set_option('display.max_rows', 500)\n",
    "pd.set_option('display.max_columns', 500)"
   ]
  },
  {
   "source": [
    "### Matplotlib"
   ],
   "cell_type": "markdown",
   "metadata": {}
  },
  {
   "cell_type": "code",
   "execution_count": null,
   "metadata": {},
   "outputs": [],
   "source": [
    "# 创建绘图时，可能会看到此文本“<matplotlib.collections.PathCollection at 0x9fae910>”处\n",
    "## 要隐藏那行文字，可以在代码末尾加上分号"
   ]
  },
  {
   "source": [
    "### numpy"
   ],
   "cell_type": "markdown",
   "metadata": {}
  },
  {
   "cell_type": "code",
   "execution_count": 1,
   "metadata": {},
   "outputs": [
    {
     "output_type": "stream",
     "name": "stdout",
     "text": [
      "[4, 1, 0, 2, 3]\n[3, 5, 1, 2, 4]\n"
     ]
    }
   ],
   "source": [
    "# 打乱顺序\n",
    "import numpy as np\n",
    "idx = list(range(5))\n",
    "np.random.shuffle(idx)\n",
    "print(idx)\n",
    "\n",
    "import random\n",
    "a = [1,5,2,3,4]\n",
    "random.shuffle(a)\n",
    "print(a)"
   ]
  },
  {
   "cell_type": "code",
   "execution_count": 21,
   "metadata": {},
   "outputs": [
    {
     "output_type": "stream",
     "name": "stdout",
     "text": [
      "[-1 -1 -1 -1 -1 -1  1  1  1  1]\n(array([6, 7, 8, 9]),)\n"
     ]
    }
   ],
   "source": [
    "# numpy.where() 有两种用法：\n",
    "# 1、np.where(condition, x, y)：满足条件(condition)，输出x，不满足输出y\n",
    "# 2、np.where(condition)：只有条件 (condition)，没有x和y，则输出满足条件 (即非0) 元素的坐标 (等价于numpy.nonzero)。这里的坐标以tuple的形式给出，通常原数组有多少维，输出的tuple中就包含几个数组，分别对应符合条件元素的各维坐标。\n",
    "aa = np.arange(10)\n",
    "print(np.where(aa > 5,1,-1))\n",
    "print(np.where(aa > 5)) # 返回索引\n",
    "\n"
   ]
  },
  {
   "cell_type": "code",
   "execution_count": 2,
   "metadata": {},
   "outputs": [
    {
     "output_type": "stream",
     "name": "stdout",
     "text": [
      "[3 3 8 3]\n"
     ]
    }
   ],
   "source": [
    "# 值裁剪\n",
    "a=np.array([1,3,79,3])\n",
    "print(np.clip(a,3,8))"
   ]
  },
  {
   "source": [
    "### pandas"
   ],
   "cell_type": "markdown",
   "metadata": {}
  },
  {
   "cell_type": "code",
   "execution_count": null,
   "metadata": {},
   "outputs": [],
   "source": [
    "# pandas.read_excel(path, 'sheet1')"
   ]
  },
  {
   "cell_type": "code",
   "execution_count": null,
   "metadata": {},
   "outputs": [],
   "source": [
    "# df.head() # 默认返回前5行数据"
   ]
  }
 ]
}