{
 "metadata": {
  "language_info": {
   "codemirror_mode": {
    "name": "ipython",
    "version": 3
   },
   "file_extension": ".py",
   "mimetype": "text/x-python",
   "name": "python",
   "nbconvert_exporter": "python",
   "pygments_lexer": "ipython3",
   "version": "3.7.10"
  },
  "orig_nbformat": 2,
  "kernelspec": {
   "name": "python3710jvsc74a57bd0905bede0b9d3779632e1b138e212cea750ec90152560e0dbe1d46137b0a12b61",
   "display_name": "Python 3.7.10 64-bit ('dynamicgcn': conda)"
  },
  "metadata": {
   "interpreter": {
    "hash": "72506cc1e4b0dce5eb876f653d1c5faf29777724f7cbfb23a9a7a2a764425624"
   }
  }
 },
 "nbformat": 4,
 "nbformat_minor": 2,
 "cells": [
  {
   "source": [
    "### 基本信息"
   ],
   "cell_type": "markdown",
   "metadata": {}
  },
  {
   "cell_type": "code",
   "execution_count": 12,
   "metadata": {},
   "outputs": [
    {
     "output_type": "stream",
     "name": "stdout",
     "text": [
      "sys.version_info(major=3, minor=7, micro=10, releaselevel='final', serial=0)\nTrue\n"
     ]
    }
   ],
   "source": [
    "import sys\n",
    "print(sys.version_info)\n",
    "print(sys.version_info > (3, 0))"
   ]
  },
  {
   "source": [
    "### 关键词"
   ],
   "cell_type": "markdown",
   "metadata": {}
  },
  {
   "cell_type": "code",
   "execution_count": 14,
   "metadata": {},
   "outputs": [
    {
     "output_type": "stream",
     "name": "stdout",
     "text": [
      "starting...\n4\n********************\nres: None\n4\n"
     ]
    }
   ],
   "source": [
    "# yield: 它首先是个return，就是在程序中返回某个值，返回之后程序就不再往下运行了。看做return之后再把它看做一个是生成器（generator）的一部分（带yield的函数才是真正的迭代器）\n",
    "# yield from后面加上可迭代对象，它可以把可迭代对象里的每个元素一个一个的yield出来\n",
    "def foo():\n",
    "    print(\"starting...\")\n",
    "    while True:\n",
    "        res = yield 4\n",
    "        print(\"res:\",res)\n",
    "g = foo() # 因为foo函数中有yield关键字，所以foo函数并不会真的执行，而是先得到一个生成器g(相当于一个对象)\n",
    "print(next(g)) # 直到调用next方法，foo函数正式开始执行，先执行foo函数中的print方法，然后进入while循环。程序遇到yield关键字，然后把yield想想成return,return了一个4之后，程序停止，并没有执行赋值给res操作，此时next(g)语句执行完成，所以输出前两行\n",
    "print(\"*\"*20) \n",
    "print(next(g)) # 这个时候和上面那个差不多，不过不同的是，这个时候是从刚才那个next程序停止的地方开始执行的，也就是要执行res的赋值操作，这时候要注意，这个时候赋值操作的右边是没有值的（因为刚才那个是return出去了，并没有给赋值操作的左边传参数），所以这个时候res赋值是None,所以接着下面的输出就是res: None。程序会继续在while里执行，又一次碰到yield,这个时候同样return出4，然后程序停止，print函数输出的4就是这次return出的4"
   ]
  },
  {
   "cell_type": "code",
   "execution_count": null,
   "metadata": {},
   "outputs": [],
   "source": [
    "'''\n",
    "global与nonlocal的区别\n",
    "    第一，两者的功能不同。global关键字修饰变量后标识该变量是全局变量，对该变量进行修改就是修改全局变量，而nonlocal关键字修饰变量后标识该变量是上一级函数中的局部变量，如果上一级函数中不存在该局部变量，nonlocal位置会发生错误（最上层的函数使用nonlocal修饰变量必定会报错）\n",
    "    第二，两者使用的范围不同。global关键字可以用在任何地方，包括最上层函数中和嵌套函数中，即使之前未定义该变量，global修饰后也可以直接使用，而nonlocal关键字只能用于嵌套函数中，并且外层函数中定义了相应的局部变量，否则会发生错误（见第一）\n",
    "'''"
   ]
  },
  {
   "source": [
    "### 数据类型转换"
   ],
   "cell_type": "markdown",
   "metadata": {}
  },
  {
   "cell_type": "code",
   "execution_count": null,
   "metadata": {},
   "outputs": [],
   "source": [
    "# 获取整数的各位数: 将数字转换成一个字符数组(python 中的字符串)(如A = map(int, str(N)))，或者不断地把数字除以 10，取整数的最后一个数字"
   ]
  },
  {
   "source": [
    "### 函数"
   ],
   "cell_type": "markdown",
   "metadata": {}
  },
  {
   "cell_type": "code",
   "execution_count": null,
   "metadata": {},
   "outputs": [],
   "source": [
    "# 高阶函数: map | reduce | filter | sorted\n",
    "# map()函数接收两个参数，一个是函数，一个是Iterable(如列表)，map将传入的函数依次作用到序列的每个元素，并把结果作为新的Iterator返回；Iterator是惰性序列，因此通过list()函数让它把整个序列都计算出来并返回一个list\n",
    "# reduce把一个函数作用在一个序列[x1, x2, x3, ...]上，这个函数必须接收两个参数，reduce把结果继续和序列的下一个元素做累积计算\n",
    "## 在 functools 库下，自从 Python3 以来不再是默认就可以使用的函数\n",
    "# filter()函数用于过滤序列，接收一个函数和一个序列，把传入的函数依次作用于每个元素，然后根据返回值是True还是False决定保留还是丢弃该元素   |   filter(str.isalnum, s.lower())\n",
    "# sorted()函数可以接收一个key函数来实现自定义的排序 第三个参数reverse=True进行反向排序 默认是升序\n",
    "## key仅仅支持一个参数\n",
    "## key如何对两个参数做对比: from functools import cmp_to_key，然后key = cmp_to_key(lambda x,y: ...)\n",
    "## 传入两个参数(x,y)对应于(self,other)，这里的self表示当前的数，而other是前面已经出现比较过的对象\n",
    "# 关键字lambda表示匿名函数，冒号前面的x表示函数参数"
   ]
  },
  {
   "cell_type": "code",
   "execution_count": 6,
   "metadata": {},
   "outputs": [
    {
     "output_type": "stream",
     "name": "stdout",
     "text": [
      "[(1, 4), (2, 5), (3, 6)]\n[(1, 4), (2, 5), (3, 6)]\n[(1, 2, 3), (4, 5, 6)]\n"
     ]
    }
   ],
   "source": [
    "# zip\n",
    "a = [1,2,3]\n",
    "b = [4,5,6]\n",
    "zipped = zip(a,b) \n",
    "print(list(zipped)) # 打包为元组的列表\n",
    "c = [4,5,6,7,8]\n",
    "print(list(zip(a,c))) # 元素个数与最短的列表一致\n",
    "zipped = zip(a,b)\n",
    "print(list(zip(*zipped))) # 与 zip 相反，*zipped 可理解为解压，返回二维矩阵式"
   ]
  },
  {
   "cell_type": "code",
   "execution_count": null,
   "metadata": {},
   "outputs": [],
   "source": [
    "# enumerate(sequence, start=0): sequence为一个序列、迭代器或其他支持迭代对象；start为下标起始位置"
   ]
  },
  {
   "cell_type": "code",
   "execution_count": null,
   "metadata": {},
   "outputs": [],
   "source": [
    "# bin函数得到二进制的字符串，int函数有两个参数，第二个参数指明进制，如int(a,2)将a转换成二进制整数"
   ]
  },
  {
   "cell_type": "code",
   "execution_count": 2,
   "metadata": {},
   "outputs": [
    {
     "output_type": "stream",
     "name": "stdout",
     "text": [
      "[3, 2, 5, 1]\n"
     ]
    }
   ],
   "source": [
    "a = [1,5,2,3]\n",
    "print(list(reversed(a)))"
   ]
  },
  {
   "cell_type": "code",
   "execution_count": 2,
   "metadata": {},
   "outputs": [
    {
     "output_type": "stream",
     "name": "stdout",
     "text": [
      "flow\n3\n"
     ]
    }
   ],
   "source": [
    "strs = [\"flower\",\"flow\",\"flight\"]\n",
    "shortest = min(strs,key=len)\n",
    "print(shortest)\n",
    "\n",
    "import collections\n",
    "a = [1,2,2,3,3,3,3]\n",
    "counts = collections.Counter(a)\n",
    "print(max(counts.keys(), key=counts.get))"
   ]
  },
  {
   "source": [
    "### 切片"
   ],
   "cell_type": "markdown",
   "metadata": {}
  },
  {
   "cell_type": "code",
   "execution_count": null,
   "metadata": {},
   "outputs": [],
   "source": [
    "'''\n",
    "反转[::-1] | 隔一位反转[::-2]\n",
    "奇数位和偶数位: [1::2] [0::2]\n",
    "'''"
   ]
  },
  {
   "source": [
    "### 字符串"
   ],
   "cell_type": "markdown",
   "metadata": {}
  },
  {
   "cell_type": "code",
   "execution_count": null,
   "metadata": {},
   "outputs": [],
   "source": [
    "'''\n",
    ".isalpha() | .isalnum() | .islower() | .isupper() | .lower() | .upper() | .capitalize() | .istitle() | .isspace()\n",
    ".split() | .replace() | .index() | .reverse()\n",
    "    split(str, num): str为分隔符，默认为所有的空字符，包括空格、换行(\\n)、制表符(\\t)等；num为分割次数，默认为 -1，即分隔所有\n",
    "ord() | chr()\n",
    "'''"
   ]
  },
  {
   "cell_type": "code",
   "execution_count": 27,
   "metadata": {},
   "outputs": [
    {
     "output_type": "stream",
     "name": "stdout",
     "text": [
      "电话号码是 :  2004959559\n123-45-67\n--------------------\n<_sre.SRE_Match object; span=(0, 3), match='www'>\nNone\n<_sre.SRE_Match object; span=(0, 9), match='010-12345'>\n('010', '12345')\n010-12345\n010-12345\n010\n12345\n"
     ]
    }
   ],
   "source": [
    "# 正则表达式\n",
    "import re\n",
    "'''\n",
    "^ 匹配字符串的开头 | ^\\d必须以数字开头 | $ 匹配字符串的末尾 | \\d$必须以数字结尾\n",
    "* 匹配0个或多个的字符 | + 匹配1个或多个的字符 | ? 匹配0个或1个字符 | . 匹配任意字符，除了换行符\n",
    "\\w 匹配一个字母或数字或下划线(\\W非单词) | \\s 匹配一个空格(也包括Tab等空白符)(\\S匹配任意非空字符) | \\b 匹配一个单词边界(如， 'er\\b' 可以匹配\"never\" 中的 'er'，但不能匹配 \"verb\" 中的 'er')(\\B匹配非单词边界)\n",
    "{n} n个 | {n,} 如{1,}相当于x+\n",
    "[\\u4e00-\\u9fa5]匹配中文 | [^abc] 匹配除了a、b、c以外的字符\n",
    "\n",
    "正则匹配默认是贪婪匹配，也就是匹配尽可能多的字符。后加个?就可以采用非贪婪匹配\n",
    "'''\n",
    "\n",
    "# 与str.replace('', '')类似\n",
    "phone = \"2004-959-559\"\n",
    "num = re.sub(r'\\D', \"\", phone)\n",
    "print(\"电话号码是 : \", num)\n",
    "number = \"123 4-567\"\n",
    "print(re.sub('(...?(?=..))', r'\\1-', re.sub('\\D', '', number))) # \\1...\\9 匹配第n个分组的内容; (?=..) 前向肯定界定符/前向否定界定符 (?!..) 不包含..形式的串，它是不占位置的，起到一种指示作用\n",
    "print(\"-\"*20)\n",
    "\n",
    "# re.match 尝试从字符串的起始位置匹配一个模式，匹配成功re.match方法返回一个匹配的对象；如果不是起始位置匹配成功的话，match()就返回none\n",
    "print(re.match('www', 'www.runoob.com'))  # 在起始位置匹配\n",
    "print(re.match('com', 'www.runoob.com'))  # 不在起始位置匹配\n",
    "# 正则表达式有提取子串的功能。用()表示的就是要提取的分组（Group）\n",
    "print(re.match(r'^(\\d{3})-(\\d{3,8})$', '010-12345'))\n",
    "print(re.match(r'^(\\d{3})-(\\d{3,8})$', '010-12345').groups()) # 返回元组\n",
    "print(re.match(r'^(\\d{3})-(\\d{3,8})$', '010-12345').group())\n",
    "print(re.match(r'^(\\d{3})-(\\d{3,8})$', '010-12345').group(0))\n",
    "print(re.match(r'^(\\d{3})-(\\d{3,8})$', '010-12345').group(1))\n",
    "print(re.match(r'^(\\d{3})-(\\d{3,8})$', '010-12345').group(2))\n"
   ]
  },
  {
   "cell_type": "code",
   "execution_count": 19,
   "metadata": {},
   "outputs": [
    {
     "output_type": "stream",
     "name": "stdout",
     "text": [
      "None\nNone\n<_sre.SRE_Match object; span=(3, 5), match='12'>\n--------------------\n['123', '456']\n['88', '12']\n"
     ]
    }
   ],
   "source": [
    "# compile 函数用于编译正则表达式，生成一个正则表达式（ Pattern ）对象\n",
    "pattern = re.compile(r'\\d+') \n",
    "m = pattern.match('one12twothree34four') # 查找头部，没有匹配\n",
    "print(m)\n",
    "m = pattern.match('one12twothree34four', 2, 10) # 从'e'的位置开始匹配，没有匹配\n",
    "print(m)\n",
    "m = pattern.match('one12twothree34four', 3, 10) # 从'1'的位置开始匹配，正好匹配\n",
    "print(m)\n",
    "print(\"-\"*20)\n",
    "\n",
    "# match是匹配一次，findall是匹配所有\n",
    "result1 = pattern.findall('runoob 123 google 456')\n",
    "result2 = pattern.findall('run88oob123google456', 0, 10)\n",
    "print(result1)\n",
    "print(result2)"
   ]
  },
  {
   "cell_type": "code",
   "execution_count": null,
   "metadata": {},
   "outputs": [],
   "source": [
    "# ASCII: '0':48; 'A':65; 'a':97"
   ]
  },
  {
   "source": [
    "### 矩阵操作"
   ],
   "cell_type": "markdown",
   "metadata": {}
  },
  {
   "cell_type": "code",
   "execution_count": null,
   "metadata": {},
   "outputs": [],
   "source": [
    "'''\n",
    "分别获取行列长度\n",
    "'''"
   ]
  },
  {
   "source": [
    "### 文件及目录操作"
   ],
   "cell_type": "markdown",
   "metadata": {}
  },
  {
   "cell_type": "code",
   "execution_count": 6,
   "metadata": {},
   "outputs": [],
   "source": [
    "import shutil # 提供了一系列对文件和文件集合的高阶操作\n",
    "import os\n",
    "from tensorboardX import SummaryWriter\n",
    "\n",
    "log_dir = \"test/\"\n",
    "if not os.path.exists(log_dir):\n",
    "    os.makedirs(log_dir)\n",
    "writer = SummaryWriter(log_dir) # log_dir下会产生一个文件\n",
    "shutil.rmtree(log_dir) # 递归删除一个目录以及目录内的所有内容，即log_dir消失"
   ]
  },
  {
   "cell_type": "code",
   "execution_count": 10,
   "metadata": {},
   "outputs": [
    {
     "output_type": "stream",
     "name": "stdout",
     "text": [
      "['test/test_glob/1.pkl', 'test/test_glob/2.pkl', 'test/test_glob/3.pkl']\n1.pkl\n"
     ]
    }
   ],
   "source": [
    "import glob\n",
    "dirname = \"test/test_glob\"\n",
    "files = glob.glob(dirname+'/*.pkl') # 获取dir下所有的pkl文件\n",
    "print(files)\n",
    "print(os.path.basename(files[0])) # 获取文件名"
   ]
  },
  {
   "cell_type": "code",
   "execution_count": null,
   "metadata": {},
   "outputs": [],
   "source": [
    "'''\n",
    "os.remove(file)\n",
    "'''"
   ]
  },
  {
   "source": [
    "### itertools"
   ],
   "cell_type": "markdown",
   "metadata": {}
  },
  {
   "cell_type": "code",
   "execution_count": 5,
   "metadata": {},
   "outputs": [
    {
     "output_type": "stream",
     "name": "stdout",
     "text": [
      "[('a', 'b'), ('a', 'c'), ('b', 'c')]\n[('a', 'b'), ('a', 'c'), ('b', 'a'), ('b', 'c'), ('c', 'a'), ('c', 'b')]\n"
     ]
    }
   ],
   "source": [
    "# 排列组合\n",
    "import itertools\n",
    "\n",
    "print(list(itertools.combinations(\"abc\",2)))\n",
    "print(list(itertools.permutations(\"abc\",2)))\n"
   ]
  },
  {
   "cell_type": "code",
   "execution_count": 2,
   "metadata": {},
   "outputs": [
    {
     "output_type": "stream",
     "name": "stdout",
     "text": [
      "[('G', 'G'), ('G', 'E'), ('G', 'e'), ('G', 'k'), ('G', 's'), ('E', 'E'), ('E', 'e'), ('E', 'k'), ('E', 's'), ('e', 'e'), ('e', 'k'), ('e', 's'), ('k', 'k'), ('k', 's'), ('s', 's')]\n"
     ]
    }
   ],
   "source": [
    "from itertools import combinations_with_replacement \n",
    "\n",
    "a =\"GEeks\"\n",
    "print(list(combinations_with_replacement(a, 2))) # 包括本身"
   ]
  },
  {
   "cell_type": "code",
   "execution_count": 3,
   "metadata": {},
   "outputs": [
    {
     "output_type": "stream",
     "name": "stdout",
     "text": [
      "[1, 3, 6]\n"
     ]
    }
   ],
   "source": [
    "from itertools import accumulate\n",
    "\n",
    "s=[1,2,3]\n",
    "print(list(accumulate(s)))"
   ]
  },
  {
   "cell_type": "code",
   "execution_count": 11,
   "metadata": {},
   "outputs": [
    {
     "output_type": "stream",
     "name": "stdout",
     "text": [
      "[('g', 'G'), ('e', 'E'), ('e', 'E'), '2', ('k', 'K'), ('s', 'S'), '3']\n['gee2ks3', 'gee2kS3', 'gee2Ks3', 'gee2KS3', 'geE2ks3', 'geE2kS3', 'geE2Ks3', 'geE2KS3', 'gEe2ks3', 'gEe2kS3', 'gEe2Ks3', 'gEe2KS3', 'gEE2ks3', 'gEE2kS3', 'gEE2Ks3', 'gEE2KS3', 'Gee2ks3', 'Gee2kS3', 'Gee2Ks3', 'Gee2KS3', 'GeE2ks3', 'GeE2kS3', 'GeE2Ks3', 'GeE2KS3', 'GEe2ks3', 'GEe2kS3', 'GEe2Ks3', 'GEe2KS3', 'GEE2ks3', 'GEE2kS3', 'GEE2Ks3', 'GEE2KS3']\n"
     ]
    }
   ],
   "source": [
    "# 集合的笛卡尔乘积是从所有集合中选择每种可能的组合\n",
    "f = lambda x: (x.lower(), x.upper()) if x.isalpha() else x\n",
    "a =\"GEe2ks3\"\n",
    "print(list(map(f, a)))\n",
    "print(list(map(\"\".join, itertools.product(*map(f, a)))))"
   ]
  },
  {
   "source": [
    "### heapq"
   ],
   "cell_type": "markdown",
   "metadata": {}
  },
  {
   "cell_type": "code",
   "execution_count": 5,
   "metadata": {},
   "outputs": [
    {
     "output_type": "stream",
     "name": "stdout",
     "text": [
      "[1, 2, 9, 7, 3, 10]\n[2, 3, 9, 7, 10]\n[3, 7, 9, 10]\n3\n[3, 7, 9, 10]\n"
     ]
    }
   ],
   "source": [
    "# 堆\n",
    "import heapq\n",
    "a = [1, 2, 9, 7, 3]\n",
    "heapq.heappush(a,10)\n",
    "print(a)\n",
    "heapq.heappop(a) # 弹出最小的值\n",
    "print(a)\n",
    "heapq.heappop(a) # 弹出最小的值\n",
    "print(a)\n",
    "print(a[0]) # # 查看堆中最小的值，不弹出\n",
    "heapq.heapify(a) # 以线性时间将一个列表转为堆\n",
    "print(a)"
   ]
  },
  {
   "source": [
    "### collections"
   ],
   "cell_type": "markdown",
   "metadata": {}
  },
  {
   "cell_type": "code",
   "execution_count": 28,
   "metadata": {},
   "outputs": [
    {
     "output_type": "stream",
     "name": "stdout",
     "text": [
      "deque(['a', 'b', 'c', 'd', 'e', 'f', 'g'])\n"
     ]
    }
   ],
   "source": [
    "import collections\n",
    "\n",
    "# 队列\n",
    "d=collections.deque('abcdefg') # 和list很像\n",
    "print(d)"
   ]
  },
  {
   "cell_type": "code",
   "execution_count": 13,
   "metadata": {},
   "outputs": [
    {
     "output_type": "stream",
     "name": "stdout",
     "text": [
      "deque(['a', 'b', 'c', 'd', 'e', 'f', 'g'])\ndeque([5, 4, 3, 2, 1, 0])\ndeque(['a', 'b', 'c', 'd', 'e', 'f', 'g', 'h'])\n"
     ]
    }
   ],
   "source": [
    "# deque是通过extend方法初始化集合元素的，同时可以通过extendleft将结合元素从“左边”加入到集合中\n",
    "# append默认从集合的右边增加数组元素，而另一个appendleft可以从集合的左边增加元素\n",
    "# 与append和appendleft方法对应的还有pop和popleft方法分别用于从集合中取出元素\n",
    "d1=collections.deque()\n",
    "d2=collections.deque()\n",
    "d1.extend('abcdefg')\n",
    "d2.extendleft(range(6))\n",
    "print(d1)\n",
    "print(d2)\n",
    "d1.append('h')\n",
    "print(d1)\n",
    "\n"
   ]
  },
  {
   "cell_type": "code",
   "execution_count": 5,
   "metadata": {},
   "outputs": [
    {
     "output_type": "stream",
     "name": "stdout",
     "text": [
      "0\nCounter({'b': 3, 'a': 2, 'c': 1, 'd': 1})\n"
     ]
    }
   ],
   "source": [
    "# defaultdict: 创建一个类似dict对象，里面任何values都是int的实例，就算不存在的key，d[key]也有一个默认值0，可以自行赋值\n",
    "# Counter: 以字典的形式统计元素个数\n",
    "d = collections.defaultdict(int) # 接受一个工厂函数作为参数，可以是list、set、str等等，作用是当key不存在时，返回的是工厂函数的默认值。比如list对应[ ]，str对应的是空字符串，set对应set( )，int对应0\n",
    "print(d[1])\n",
    "A=['a','b','b','c','d','b','a']\n",
    "c = collections.Counter(A)\n",
    "print(c)\n"
   ]
  },
  {
   "cell_type": "code",
   "execution_count": 29,
   "metadata": {},
   "outputs": [
    {
     "output_type": "stream",
     "name": "stdout",
     "text": [
      "OrderedDict([('apple', 4), ('banana', 3), ('orange', 2), ('pear', 1)])\nOrderedDict([('pear', 1), ('orange', 2), ('banana', 3), ('apple', 4)])\n"
     ]
    }
   ],
   "source": [
    "# 实现了对字典对象中元素的排序\n",
    "dd = {'banana': 3, 'apple':4, 'pear': 1, 'orange': 2}\n",
    "#按key排序\n",
    "kd = collections.OrderedDict(sorted(dd.items(), key=lambda t: t[0]))\n",
    "print(kd)\n",
    "#按照value排序\n",
    "vd = collections.OrderedDict(sorted(dd.items(),key=lambda t:t[1]))\n",
    "print(vd)"
   ]
  },
  {
   "source": [
    "### numpy"
   ],
   "cell_type": "markdown",
   "metadata": {}
  },
  {
   "cell_type": "code",
   "execution_count": 19,
   "metadata": {},
   "outputs": [
    {
     "output_type": "stream",
     "name": "stdout",
     "text": [
      "[1, 3, 4, 0, 2]\n[2, 4, 1, 3, 5]\n"
     ]
    }
   ],
   "source": [
    "# 打乱顺序\n",
    "import numpy as np\n",
    "idx = list(range(5))\n",
    "np.random.shuffle(idx)\n",
    "print(idx)\n",
    "\n",
    "import random\n",
    "a = [1,5,2,3,4]\n",
    "random.shuffle(a)\n",
    "print(a)"
   ]
  },
  {
   "cell_type": "code",
   "execution_count": 21,
   "metadata": {},
   "outputs": [
    {
     "output_type": "stream",
     "name": "stdout",
     "text": [
      "[-1 -1 -1 -1 -1 -1  1  1  1  1]\n(array([6, 7, 8, 9]),)\n"
     ]
    }
   ],
   "source": [
    "# numpy.where() 有两种用法：\n",
    "# 1、np.where(condition, x, y)：满足条件(condition)，输出x，不满足输出y\n",
    "# 2、np.where(condition)：只有条件 (condition)，没有x和y，则输出满足条件 (即非0) 元素的坐标 (等价于numpy.nonzero)。这里的坐标以tuple的形式给出，通常原数组有多少维，输出的tuple中就包含几个数组，分别对应符合条件元素的各维坐标。\n",
    "aa = np.arange(10)\n",
    "print(np.where(aa > 5,1,-1))\n",
    "print(np.where(aa > 5)) # 返回索引\n",
    "\n"
   ]
  },
  {
   "cell_type": "code",
   "execution_count": null,
   "metadata": {},
   "outputs": [],
   "source": []
  }
 ]
}