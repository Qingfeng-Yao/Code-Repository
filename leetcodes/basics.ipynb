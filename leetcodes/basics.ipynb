{
 "metadata": {
  "language_info": {
   "codemirror_mode": {
    "name": "ipython",
    "version": 3
   },
   "file_extension": ".py",
   "mimetype": "text/x-python",
   "name": "python",
   "nbconvert_exporter": "python",
   "pygments_lexer": "ipython3",
   "version": "3.7.10"
  },
  "orig_nbformat": 2,
  "kernelspec": {
   "name": "python3710jvsc74a57bd0905bede0b9d3779632e1b138e212cea750ec90152560e0dbe1d46137b0a12b61",
   "display_name": "Python 3.7.10 64-bit ('dynamicgcn': conda)"
  },
  "metadata": {
   "interpreter": {
    "hash": "72506cc1e4b0dce5eb876f653d1c5faf29777724f7cbfb23a9a7a2a764425624"
   }
  }
 },
 "nbformat": 4,
 "nbformat_minor": 2,
 "cells": [
  {
   "source": [
    "### 基本信息"
   ],
   "cell_type": "markdown",
   "metadata": {}
  },
  {
   "cell_type": "code",
   "execution_count": 12,
   "metadata": {},
   "outputs": [
    {
     "output_type": "stream",
     "name": "stdout",
     "text": [
      "sys.version_info(major=3, minor=7, micro=10, releaselevel='final', serial=0)\nTrue\n"
     ]
    }
   ],
   "source": [
    "# python版本\n",
    "import sys\n",
    "print(sys.version_info)\n",
    "print(sys.version_info > (3, 0))"
   ]
  },
  {
   "cell_type": "code",
   "execution_count": null,
   "metadata": {},
   "outputs": [],
   "source": [
    "# Python中单下划线和双下划线\n",
    "    ## __foo__:一种约定,Python内部的名字,用来区别其他用户自定义的命名,以防冲突，就是例如__init__()/构造器(当一个实例被创建的时候初始化的方法，但是它并不是实例化调用的第一个方法，__new__才是实例化对象调用的第一个方法),__del__(),__call__()/让一个类的实例像函数一样被调用 这些特殊方法，也叫魔法方法\n",
    "        # __new__是一个静态方法,而__init__是一个实例方法.\n",
    "        # __new__方法会返回一个创建的实例,而__init__什么都不返回\n",
    "        # 只有在__new__返回一个cls的实例时后面的__init__才能被调用\n",
    "        # 当创建一个新实例时调用__new__,初始化一个实例时用__init__\n",
    "        # __metaclass__是创建类时起作用.所以我们可以分别使用__metaclass__,__new__和__init__来分别在类创建,实例创建和实例初始化的时候做一些小手脚\n",
    "        # __repr__(): 自定义对象输出\n",
    "        # 比较:\n",
    "            # def __eq__(self, other):\n",
    "            #     return self.value == other.value\n",
    "\n",
    "            # def __lt__(self, other):\n",
    "            #     return self.value < other.value\n",
    "\n",
    "            # def __ge__(self, other):\n",
    "            #     return self.value >= other.value\n",
    "        # 还可以重载__len__()、__str__()函数；若想要让对象成为迭代器，则使用__iter__()，这允许我们调用next()\n",
    "    ## _foo:一种约定,用来指定变量私有.程序员用来指定私有变量的一种方式.不能用from module import * 导入，其他方面和公有一样访问\n",
    "    ## __foo:这个有真正的意义:解析器用_classname__foo来代替这个名字,以区别和其他类相同的命名,它无法直接像公有成员一样随便访问,通过对象名._类名__xxx这样的方式可以访问."
   ]
  },
  {
   "cell_type": "code",
   "execution_count": 3,
   "metadata": {},
   "outputs": [
    {
     "output_type": "stream",
     "name": "stdout",
     "text": [
      "10\n"
     ]
    },
    {
     "output_type": "error",
     "ename": "AttributeError",
     "evalue": "'person' object has no attribute '__age'",
     "traceback": [
      "\u001b[0;31m---------------------------------------------------------------------------\u001b[0m",
      "\u001b[0;31mAttributeError\u001b[0m                            Traceback (most recent call last)",
      "\u001b[0;32m<ipython-input-3-6f1a76059f27>\u001b[0m in \u001b[0;36m<module>\u001b[0;34m\u001b[0m\n\u001b[1;32m      7\u001b[0m \u001b[0mt\u001b[0m \u001b[0;34m=\u001b[0m \u001b[0mperson\u001b[0m\u001b[0;34m(\u001b[0m\u001b[0;36m22\u001b[0m\u001b[0;34m)\u001b[0m\u001b[0;34m\u001b[0m\u001b[0;34m\u001b[0m\u001b[0m\n\u001b[1;32m      8\u001b[0m \u001b[0mprint\u001b[0m\u001b[0;34m(\u001b[0m\u001b[0mt\u001b[0m\u001b[0;34m.\u001b[0m\u001b[0mage\u001b[0m\u001b[0;34m(\u001b[0m\u001b[0;34m)\u001b[0m\u001b[0;34m)\u001b[0m\u001b[0;34m\u001b[0m\u001b[0;34m\u001b[0m\u001b[0m\n\u001b[0;32m----> 9\u001b[0;31m \u001b[0mt\u001b[0m\u001b[0;34m.\u001b[0m\u001b[0m__age\u001b[0m\u001b[0;34m\u001b[0m\u001b[0;34m\u001b[0m\u001b[0m\n\u001b[0m",
      "\u001b[0;31mAttributeError\u001b[0m: 'person' object has no attribute '__age'"
     ]
    }
   ],
   "source": [
    "# 面向对象中实现只读属性: 将对象私有化，通过共有方法提供一个读取数据的接口\n",
    "class person:\n",
    "    def __init__(self, x):\n",
    "        self.__age = 10\n",
    "    def age(self):\n",
    "        return self.__age\n",
    "t = person(22)\n",
    "print(t.age())\n",
    "t.__age"
   ]
  },
  {
   "cell_type": "code",
   "execution_count": 11,
   "metadata": {},
   "outputs": [
    {
     "output_type": "error",
     "ename": "AttributeError",
     "evalue": "'MyClass' object has no attribute '__superprivate'",
     "traceback": [
      "\u001b[0;31m---------------------------------------------------------------------------\u001b[0m",
      "\u001b[0;31mAttributeError\u001b[0m                            Traceback (most recent call last)",
      "\u001b[0;32m<ipython-input-11-b5b24a72a279>\u001b[0m in \u001b[0;36m<module>\u001b[0;34m\u001b[0m\n\u001b[1;32m      4\u001b[0m         \u001b[0mself\u001b[0m\u001b[0;34m.\u001b[0m\u001b[0m_semiprivate\u001b[0m \u001b[0;34m=\u001b[0m \u001b[0;34m\", world!\"\u001b[0m\u001b[0;34m\u001b[0m\u001b[0;34m\u001b[0m\u001b[0m\n\u001b[1;32m      5\u001b[0m \u001b[0mmc\u001b[0m \u001b[0;34m=\u001b[0m \u001b[0mMyClass\u001b[0m\u001b[0;34m(\u001b[0m\u001b[0;34m)\u001b[0m\u001b[0;34m\u001b[0m\u001b[0;34m\u001b[0m\u001b[0m\n\u001b[0;32m----> 6\u001b[0;31m \u001b[0mprint\u001b[0m\u001b[0;34m(\u001b[0m\u001b[0mmc\u001b[0m\u001b[0;34m.\u001b[0m\u001b[0m__superprivate\u001b[0m\u001b[0;34m)\u001b[0m\u001b[0;34m\u001b[0m\u001b[0;34m\u001b[0m\u001b[0m\n\u001b[0m",
      "\u001b[0;31mAttributeError\u001b[0m: 'MyClass' object has no attribute '__superprivate'"
     ]
    }
   ],
   "source": [
    "class MyClass():\n",
    "    def __init__(self):\n",
    "        self.__superprivate = \"Hello\"\n",
    "        self._semiprivate = \", world!\"\n",
    "mc = MyClass()\n",
    "print(mc.__superprivate)"
   ]
  },
  {
   "cell_type": "code",
   "execution_count": 12,
   "metadata": {},
   "outputs": [
    {
     "output_type": "stream",
     "name": "stdout",
     "text": [
      ", world!\n{'_MyClass__superprivate': 'Hello', '_semiprivate': ', world!'}\n"
     ]
    }
   ],
   "source": [
    "print(mc._semiprivate)\n",
    "print(mc.__dict__)"
   ]
  },
  {
   "cell_type": "code",
   "execution_count": 16,
   "metadata": {},
   "outputs": [
    {
     "output_type": "stream",
     "name": "stdout",
     "text": [
      "[0, 1, 4, 9, 16, 25, 36, 49, 64, 81]\n<generator object <genexpr> at 0x7f24f217d1d0>\n"
     ]
    }
   ],
   "source": [
    "# 迭代器和生成器\n",
    "    ## 将列表生成式中[]改成()之后数据结构是否改变？ 答案：是，从列表变为生成器\n",
    "    ## 通过列表生成式，可以直接创建一个列表。但是，受到内存限制，列表容量肯定是有限的。而且，创建一个包含百万元素的列表，不仅是占用很大的内存空间，如：我们只需要访问前面的几个元素，后面大部分元素所占的空间都是浪费的。因此，没有必要创建完整的列表（节省大量内存空间）。在Python中，我们可以采用生成器：边循环，边计算的机制—>generator\n",
    "L = [x*x for x in range(10)]\n",
    "print(L)\n",
    "g = (x*x for x in range(10))\n",
    "print(g)\n"
   ]
  },
  {
   "cell_type": "code",
   "execution_count": null,
   "metadata": {},
   "outputs": [],
   "source": [
    "# 鸭子类型\n",
    "    ## 我们并不关心对象是什么类型，到底是不是鸭子，只关心行为。\n",
    "    ## 比如在python中，有很多file-like的东西，比如StringIO,GzipFile,socket。它们有很多相同的方法，我们把它们当作文件使用。\n",
    "    ## 又比如list.extend()方法中,我们并不关心它的参数是不是list,只要它是可迭代的,所以它的参数可以是list/tuple/dict/字符串/生成器等.\n",
    "    ## 鸭子类型在动态语言中经常使用，非常灵活"
   ]
  },
  {
   "cell_type": "code",
   "execution_count": null,
   "metadata": {},
   "outputs": [],
   "source": [
    "# 单例模式\n",
    "    # 单例模式是一种常用的软件设计模式。在它的核心结构中只包含一个被称为单例类的特殊类。通过单例模式可以保证系统中一个类只有一个实例而且该实例易于外界访问，从而方便对实例个数的控制并节约系统资源。如果希望在系统中某个类的对象只能存在一个，单例模式是最好的解决方案。\n",
    "    # __new__()在__init__()之前被调用，用于生成实例对象。利用这个方法和类的属性的特点可以实现设计模式的单例模式。单例模式是指创建唯一对象，单例模式设计的类只能实例\n"
   ]
  },
  {
   "cell_type": "code",
   "execution_count": 2,
   "metadata": {},
   "outputs": [
    {
     "output_type": "stream",
     "name": "stdout",
     "text": [
      "True\n"
     ]
    }
   ],
   "source": [
    "class Singleton(object): # 使用__new__方法，new是真正创建实例对象的方法，所以重写基类的new方法\n",
    "    def __new__(cls, *args, **kw):\n",
    "        if not hasattr(cls, '_instance'):\n",
    "            orig = super(Singleton, cls)\n",
    "            cls._instance = orig.__new__(cls, *args, **kw)\n",
    "        return cls._instance\n",
    "\n",
    "class MyClass(Singleton):\n",
    "    pass\n",
    "c1=MyClass()\n",
    "c2=MyClass()\n",
    "print(c1 is c2)"
   ]
  },
  {
   "cell_type": "code",
   "execution_count": 1,
   "metadata": {},
   "outputs": [
    {
     "output_type": "stream",
     "name": "stdout",
     "text": [
      "True\n"
     ]
    }
   ],
   "source": [
    "def singleton(cls): # 装饰器版本\n",
    "    instances = {}\n",
    "    def getinstance(*args, **kw):\n",
    "        if cls not in instances:\n",
    "            instances[cls] = cls(*args, **kw)\n",
    "        return instances[cls]\n",
    "    return getinstance\n",
    "\n",
    "@singleton\n",
    "class MyClass:\n",
    "    pass\n",
    "f1=MyClass()\n",
    "f2=MyClass()\n",
    "print(f1 is f2)"
   ]
  },
  {
   "cell_type": "code",
   "execution_count": 4,
   "metadata": {},
   "outputs": [
    {
     "output_type": "stream",
     "name": "stdout",
     "text": [
      "True\n"
     ]
    }
   ],
   "source": [
    "class Singleton(type):  # type是python的元类，元类是用于创建类对象的类，类对象创建实例对象时一定要调用call方法，因此在调用call时候保证始终只创建一个实例即可\n",
    "    def __call__(cls, *args, **kwargs):\n",
    "        if not hasattr(cls, '_instance'):\n",
    "            cls._instance = super(Singleton, cls).__call__(*args, **kwargs)\n",
    "        return cls._instance\n",
    "\n",
    "class Foo(metaclass=Singleton):\n",
    "    pass\n",
    "\n",
    "foo1 = Foo()\n",
    "foo2 = Foo()\n",
    "print(foo1 is foo2)"
   ]
  },
  {
   "cell_type": "code",
   "execution_count": null,
   "metadata": {},
   "outputs": [],
   "source": [
    "class My_Singleton(object): # mysingleton.py   import方法    作为python的模块是天然的单例模式\n",
    "    def foo(self):\n",
    "        pass\n",
    "\n",
    "my_singleton = My_Singleton()\n",
    "\n",
    "# to use\n",
    "from mysingleton import my_singleton\n",
    "\n",
    "my_singleton.foo()"
   ]
  },
  {
   "cell_type": "code",
   "execution_count": null,
   "metadata": {},
   "outputs": [],
   "source": [
    "# 闭包(closure)是函数式编程的重要的语法结构。闭包也是一种组织代码的结构，它同样提高了代码的可重复使用性\n",
    "    # 当一个内嵌函数引用其外部作用域的变量,我们就会得到一个闭包\n",
    "    # 创建一个闭包必须满足以下几点:\n",
    "        # 必须有一个内嵌函数\n",
    "        # 内嵌函数必须引用外部函数中的变量\n",
    "        # 外部函数的返回值必须是内嵌函数"
   ]
  },
  {
   "cell_type": "code",
   "execution_count": 4,
   "metadata": {},
   "outputs": [
    {
     "output_type": "stream",
     "name": "stdout",
     "text": [
      "[6, 6, 6, 6]\n"
     ]
    }
   ],
   "source": [
    "# 闭包的延迟绑定\n",
    "    # 内部函数被调用时，参数的值在闭包内进行查找。因此，当任何由multipliers()返回的函数被调用时,i的值将在附近的范围进行查找。那时，不管返回的函数是否被调用，for循环已经完成，i被赋予了最终的值3\n",
    "def multipliers():\n",
    "    return [lambda x: i*x for i in range(4)]\n",
    "print([m(2) for m in multipliers()])"
   ]
  },
  {
   "cell_type": "code",
   "execution_count": 5,
   "metadata": {},
   "outputs": [
    {
     "output_type": "stream",
     "name": "stdout",
     "text": [
      "[0, 2, 4, 6]\n"
     ]
    }
   ],
   "source": [
    "def multipliers():\n",
    "    for i in range(4):\n",
    "        yield lambda x: i*x\n",
    "print([m(2) for m in multipliers()])"
   ]
  },
  {
   "cell_type": "code",
   "execution_count": 3,
   "metadata": {},
   "outputs": [
    {
     "output_type": "stream",
     "name": "stdout",
     "text": [
      "Hello backbp, 2021 Happy\n"
     ]
    }
   ],
   "source": [
    "# 面向切面编程AOP(Aspect Oriented Programming)和装饰器\n",
    "    # 装饰器是一个很著名的设计模式，经常被用于有切面需求的场景，较为经典的有插入日志、性能测试、事务处理等。装饰器是解决这类问题的绝佳设计，有了装饰器，我们就可以抽离出大量函数中与函数功能本身无关的雷同代码并继续重用。概括的讲，装饰器的作用就是为已经存在的对象添加额外的功能\n",
    "# 装饰器\n",
    "    # 写一个判断时间的装饰器\n",
    "import datetime\n",
    "\n",
    "class TimeException(Exception):\n",
    "    def __init__(self, exception_info):\n",
    "        super().__init__()\n",
    "        self.info = exception_info\n",
    "\n",
    "    def __str__(self):\n",
    "        return self.info\n",
    "\n",
    "def timecheck(func):\n",
    "    def wrapper(*args, **kwargs):\n",
    "        if datetime.datetime.now().year == 2021:\n",
    "            func(*args, **kwargs)\n",
    "        else:\n",
    "            raise TimeException(\"函数已过时\")\n",
    "\n",
    "    return wrapper\n",
    "\n",
    "@timecheck\n",
    "def test(name):\n",
    "    print(\"Hello {}, 2021 Happy\".format(name))\n",
    "\n",
    "test(\"backbp\")"
   ]
  },
  {
   "cell_type": "code",
   "execution_count": 6,
   "metadata": {},
   "outputs": [
    {
     "output_type": "stream",
     "name": "stdout",
     "text": [
      "Time taken in fib: 0.2612131\nTime taken in fib_m: 0.0000117\n"
     ]
    },
    {
     "output_type": "execute_result",
     "data": {
      "text/plain": [
       "832040"
      ]
     },
     "metadata": {},
     "execution_count": 6
    }
   ],
   "source": [
    "# 计算时间的装饰器\n",
    "import time\n",
    "def timeit(fn): \n",
    "    # *args and **kwargs are to support positional and named arguments of fn\n",
    "    def get_time(*args, **kwargs): \n",
    "        start = time.time() \n",
    "        output = fn(*args, **kwargs)\n",
    "        print(f\"Time taken in {fn.__name__}: {time.time() - start:.7f}\")\n",
    "        return output  # make sure that the decorator returns the output of fn\n",
    "    return get_time \n",
    "\n",
    "def fib_helper(n):\n",
    "    if n < 2:\n",
    "        return n\n",
    "    return fib_helper(n - 1) + fib_helper(n - 2)\n",
    "\n",
    "def fib_m_helper(n, computed):\n",
    "    if n in computed:\n",
    "        return computed[n]\n",
    "    computed[n] = fib_m_helper(n - 1, computed) + fib_m_helper(n - 2, computed)\n",
    "    return computed[n]\n",
    "\n",
    "@timeit\n",
    "def fib(n):\n",
    "    return fib_helper(n)\n",
    "\n",
    "@timeit\n",
    "def fib_m(n):\n",
    "    return fib_m_helper(n, {0: 0, 1: 1})\n",
    "\n",
    "fib(30)\n",
    "fib_m(30)"
   ]
  },
  {
   "cell_type": "code",
   "execution_count": 7,
   "metadata": {},
   "outputs": [
    {
     "output_type": "stream",
     "name": "stdout",
     "text": [
      "Time taken in fib: 0.0000758\nTime taken in fib_m: 0.0000570\n"
     ]
    },
    {
     "output_type": "execute_result",
     "data": {
      "text/plain": [
       "12586269025"
      ]
     },
     "metadata": {},
     "execution_count": 7
    }
   ],
   "source": [
    "# 上述的memoization是缓存的一种形式，python中提供了内置装饰器让函数能够进行缓存；lru表示least recently used\n",
    "import functools\n",
    "\n",
    "@functools.lru_cache()\n",
    "def fib_helper(n): # 重用之前已经计算过的数字\n",
    "    if n < 2:\n",
    "        return n\n",
    "    return fib_helper(n - 1) + fib_helper(n - 2)\n",
    "\n",
    "@timeit\n",
    "def fib(n):\n",
    "    \"\"\" fib is a wrapper function so that later we can change its behavior\n",
    "    at the top level without affecting the behavior at every recursion step.\n",
    "    \"\"\"\n",
    "    return fib_helper(n)\n",
    "\n",
    "fib(50)\n",
    "fib_m(50)"
   ]
  },
  {
   "cell_type": "code",
   "execution_count": null,
   "metadata": {},
   "outputs": [],
   "source": [
    "# Python函数式编程\n",
    "    # map | reduce | filter"
   ]
  },
  {
   "cell_type": "code",
   "execution_count": null,
   "metadata": {},
   "outputs": [],
   "source": [
    "# is是对比地址,==是对比值\n",
    "    # is：比较的是两个对象的id值是否相等，也就是比较俩对象是否为同一个实例对象。是否指向同一个内存地址\n",
    "    # == ： 比较的两个对象的内容/值是否相等，默认会调用对象的eq()方法"
   ]
  },
  {
   "cell_type": "code",
   "execution_count": null,
   "metadata": {},
   "outputs": [],
   "source": [
    "# python新式类和经典类的区别\n",
    "    # 在python里凡是继承了object的类，都是新式类\n",
    "    # python3里只有新式类\n",
    "    # python2里面继承object的是新式类，没有写父类的是经典类\n",
    "    # 经典类目前在python里基本没有应用\n",
    "    # 保持class与type的统一: 对新式类的实例执行a.__class__与type(a)的结果是一致的，对于旧式类来说就不一样了\n",
    "    # 对于多重继承的属性搜索顺序不一样: 新式类是采用广度优先搜索，旧式类采用深度优先搜索"
   ]
  },
  {
   "cell_type": "code",
   "execution_count": null,
   "metadata": {},
   "outputs": [],
   "source": [
    "# import\n",
    "    # 如: from parts import * \n",
    "    # 若在parts.py的第一行中指定__all__ = ['Encoder', 'Decoder', 'Loss']，则只会导入Encoder, Decoder, Loss"
   ]
  },
  {
   "source": [
    "### 关键词"
   ],
   "cell_type": "markdown",
   "metadata": {}
  },
  {
   "cell_type": "code",
   "execution_count": 14,
   "metadata": {},
   "outputs": [
    {
     "output_type": "stream",
     "name": "stdout",
     "text": [
      "starting...\n4\n********************\nres: None\n4\n"
     ]
    }
   ],
   "source": [
    "# yield: 它首先是个return，就是在程序中返回某个值，返回之后程序就不再往下运行了。看做return之后再把它看做一个是生成器（generator）的一部分（带yield的函数才是真正的迭代器）\n",
    "# yield from后面加上可迭代对象，它可以把可迭代对象里的每个元素一个一个的yield出来\n",
    "def foo():\n",
    "    print(\"starting...\")\n",
    "    while True:\n",
    "        res = yield 4\n",
    "        print(\"res:\",res)\n",
    "g = foo() # 因为foo函数中有yield关键字，所以foo函数并不会真的执行，而是先得到一个生成器g(相当于一个对象)\n",
    "print(next(g)) # 直到调用next方法，foo函数正式开始执行，先执行foo函数中的print方法，然后进入while循环。程序遇到yield关键字，然后把yield想想成return,return了一个4之后，程序停止，并没有执行赋值给res操作，此时next(g)语句执行完成，所以输出前两行\n",
    "print(\"*\"*20) \n",
    "print(next(g)) # 这个时候和上面那个差不多，不过不同的是，这个时候是从刚才那个next程序停止的地方开始执行的，也就是要执行res的赋值操作，这时候要注意，这个时候赋值操作的右边是没有值的（因为刚才那个是return出去了，并没有给赋值操作的左边传参数），所以这个时候res赋值是None,所以接着下面的输出就是res: None。程序会继续在while里执行，又一次碰到yield,这个时候同样return出4，然后程序停止，print函数输出的4就是这次return出的4"
   ]
  },
  {
   "cell_type": "code",
   "execution_count": null,
   "metadata": {},
   "outputs": [],
   "source": [
    "#global与nonlocal的区别\n",
    "    # 第一，两者的功能不同。global关键字修饰变量后标识该变量是全局变量，对该变量进行修改就是修改全局变量，而nonlocal关键字修饰变量后标识该变量是上一级函数中的局部变量，如果上一级函数中不存在该局部变量，nonlocal位置会发生错误（最上层的函数使用nonlocal修饰变量必定会报错）\n",
    "    # 第二，两者使用的范围不同。global关键字可以用在任何地方，包括最上层函数中和嵌套函数中，即使之前未定义该变量，global修饰后也可以直接使用，而nonlocal关键字只能用于嵌套函数中，并且外层函数中定义了相应的局部变量，否则会发生错误（见第一）"
   ]
  },
  {
   "source": [
    "### 数据类型"
   ],
   "cell_type": "markdown",
   "metadata": {}
  },
  {
   "cell_type": "code",
   "execution_count": null,
   "metadata": {},
   "outputs": [],
   "source": [
    "# 数据类型转换\n",
    "    ## 获取整数的各位数: 将数字转换成一个字符数组(python 中的字符串)(如A = map(int, str(N)))，或者不断地把数字除以 10，取整数的最后一个数字"
   ]
  },
  {
   "cell_type": "code",
   "execution_count": null,
   "metadata": {},
   "outputs": [],
   "source": [
    "# python自省就是面向对象的语言所写的程序在运行时,所能知道对象的类型.简单一句就是运行时能够获得对象的类型.比如type(),dir(),getattr(),hasattr(),isinstance().\n",
    "    # getattr()传入对象名字和属性名称\n",
    "    # dir()获取对象所有的属性和方法"
   ]
  },
  {
   "cell_type": "code",
   "execution_count": 10,
   "metadata": {},
   "outputs": [
    {
     "output_type": "stream",
     "name": "stdout",
     "text": [
      "<class 'list'> <class 'dict'> <class 'bool'>\nTrue\n"
     ]
    }
   ],
   "source": [
    "a = [1,2,3]\n",
    "b = {'a':1,'b':2,'c':3}\n",
    "c = True\n",
    "print(type(a),type(b),type(c)) # <type 'list'> <type 'dict'> <type 'bool'>\n",
    "print(isinstance(a,list))  # True"
   ]
  },
  {
   "source": [
    "### 变量"
   ],
   "cell_type": "markdown",
   "metadata": {}
  },
  {
   "cell_type": "code",
   "execution_count": null,
   "metadata": {},
   "outputs": [],
   "source": [
    "# 类变量：是可在类的所有实例之间共享的值（也就是说，它们不是单独分配给每个实例的）例如下面第一个例子中，num_of_instance 就是类变量，用于跟踪存在着多少个Test的实例。\n",
    "# 实例变量：实例化之后，每个实例单独拥有的变量"
   ]
  },
  {
   "cell_type": "code",
   "execution_count": 7,
   "metadata": {},
   "outputs": [
    {
     "output_type": "stream",
     "name": "stdout",
     "text": [
      "0\n1\njack 2\nlucy 2\n"
     ]
    }
   ],
   "source": [
    "class Test(object):  \n",
    "    num_of_instance = 0  \n",
    "    def __init__(self, name):  \n",
    "        self.name = name  \n",
    "        Test.num_of_instance += 1  \n",
    "  \n",
    "print(Test.num_of_instance)   # 0\n",
    "t1 = Test('jack')  \n",
    "print(Test.num_of_instance)   # 1\n",
    "t2 = Test('lucy')  \n",
    "print(t1.name , t1.num_of_instance)  # jack 2\n",
    "print(t2.name , t2.num_of_instance)  # lucy 2"
   ]
  },
  {
   "cell_type": "code",
   "execution_count": 9,
   "metadata": {},
   "outputs": [
    {
     "output_type": "stream",
     "name": "stdout",
     "text": [
      "bbb\naaa\naaa\n"
     ]
    }
   ],
   "source": [
    "class Person:\n",
    "    name=\"aaa\"\n",
    "\n",
    "p1=Person()\n",
    "p2=Person()\n",
    "p1.name=\"bbb\" # 实例调用了类变量,p1.name一开始是指向的类变量name=\"aaa\",但是在实例的作用域里把类变量的引用改变了,就变成了一个实例变量,self.name不再引用Person的类变量name了\n",
    "print(p1.name)  # bbb\n",
    "print(p2.name)  # aaa\n",
    "print(Person.name)  # aaa"
   ]
  },
  {
   "cell_type": "code",
   "execution_count": null,
   "metadata": {},
   "outputs": [],
   "source": [
    "class Person:\n",
    "    name=[]\n",
    "\n",
    "p1=Person()\n",
    "p2=Person()\n",
    "p1.name.append(1)\n",
    "print(p1.name)  # [1]\n",
    "print(p2.name)  # [1]\n",
    "print(Person.name)  # [1]"
   ]
  },
  {
   "cell_type": "code",
   "execution_count": null,
   "metadata": {},
   "outputs": [],
   "source": [
    "# 变量的作用域(变量查找顺序)\n",
    "    # 函数作用域的LEGB顺序: L: local 函数内部作用域; E: enclosing 函数内部与内嵌函数之间; G: global 全局作用域; B: build-in 内置作用\n",
    "    # python在函数里面的查找分为4种，称之为LEGB，也正是按照这顺序来查找的"
   ]
  },
  {
   "source": [
    "### 对象"
   ],
   "cell_type": "markdown",
   "metadata": {}
  },
  {
   "cell_type": "code",
   "execution_count": null,
   "metadata": {},
   "outputs": [],
   "source": [
    "# 在python中，strings, tuples, 和numbers是不可更改的对象，而 list, dict, set 等则是可以修改的对象\n",
    "    # 当进行修改操作时，可变类型传递的是内存中的地址，也就是说，直接修改内存中的值，并没有开辟新的内存；不可变类型被改变时，并没有改变原内存地址中的值，而是开辟一块新的内存，将原地址中的值复制过去，对这块新开辟的内存中的值进行操作\n",
    "    # 当一个引用传递给函数的时候,函数自动复制一份引用,这个函数里的引用和外边的引用没有半毛关系了.所以下面第一个例子里函数把引用指向了一个不可变对象,当函数返回的时候,外面的引用没半毛感觉.而第二个例子就不一样了,函数内的引用指向的是可变对象,对它的操作就和定位了指针地址一样,在内存里进行修改"
   ]
  },
  {
   "cell_type": "code",
   "execution_count": 4,
   "metadata": {},
   "outputs": [
    {
     "output_type": "stream",
     "name": "stdout",
     "text": [
      "func_out 94867170013952 94867170013952\nfunc_in 94867170013952\nre-point 94867170013984 94867170013984\n1\n"
     ]
    }
   ],
   "source": [
    "a = 1\n",
    "def fun(a):\n",
    "    print(\"func_in\",id(a))   \n",
    "    a = 2\n",
    "    print(\"re-point\",id(a), id(2))  \n",
    "print(\"func_out\",id(a), id(1))  \n",
    "fun(a)\n",
    "print(a)  # 1"
   ]
  },
  {
   "cell_type": "code",
   "execution_count": 5,
   "metadata": {},
   "outputs": [
    {
     "output_type": "stream",
     "name": "stdout",
     "text": [
      "func_out 139797084417952\nfunc_in 139797084417952\n[1]\n"
     ]
    }
   ],
   "source": [
    "a = []\n",
    "def fun(a):\n",
    "    print(\"func_in\",id(a))  \n",
    "    a.append(1)\n",
    "print(\"func_out\",id(a))    \n",
    "fun(a)\n",
    "print(a)  "
   ]
  },
  {
   "cell_type": "code",
   "execution_count": null,
   "metadata": {},
   "outputs": [],
   "source": [
    "# 面向对象\n",
    "    # 面向对象是相当于面向过程而言的，面向过程语言是一种基于功能分析的，以算法为中心的程序设计方法，而面向对象是一种基于结构分析的，以数据为中心的程序设计思想。在面向对象语言中有一个很重要的东西，叫做类。面向对象有三大特性：封装、继承、多态"
   ]
  },
  {
   "source": [
    "### 方法"
   ],
   "cell_type": "markdown",
   "metadata": {}
  },
  {
   "cell_type": "code",
   "execution_count": null,
   "metadata": {},
   "outputs": [],
   "source": [
    "# Python有3个方法,即静态方法(staticmethod),类方法(classmethod)和实例方法\n",
    "    # 这里先理解下函数参数里面的self和cls.这个self和cls是对实例或者类的绑定,对于一般的函数来说我们可以这么调用foo(x),这个函数就是最常用的,它的工作跟任何东西(类,实例)无关.对于实例方法,我们知道在类里每次定义方法的时候都需要绑定这个实例,就是foo(self, x),为什么要这么做呢?因为实例方法的调用离不开实例,我们需要把实例自己传给函数,调用的时候是这样的a.foo(x)(其实是foo(a, x)).类方法一样,只不过它传递的是类而不是实例,A.class_foo(x)(也可以使用a.class_foo(x)).注意这里的self和cls可以替换别的参数,但是python的约定是这俩,还是不要改的好.\n",
    "# 对于静态方法其实和普通的方法一样,不需要对谁进行绑定,唯一的区别是调用的时候需要使用a.static_foo(x)或者A.static_foo(x)来调用"
   ]
  },
  {
   "cell_type": "code",
   "execution_count": 6,
   "metadata": {},
   "outputs": [],
   "source": [
    "def foo(x):\n",
    "    print(\"executing foo(%s)\"%(x))\n",
    "\n",
    "class A(object):\n",
    "    def foo(self,x):\n",
    "        print(\"executing foo(%s,%s)\"%(self,x))\n",
    "\n",
    "    @classmethod\n",
    "    def class_foo(cls,x):\n",
    "        print(\"executing class_foo(%s,%s)\"%(cls,x))\n",
    "\n",
    "    @staticmethod\n",
    "    def static_foo(x):\n",
    "        print(\"executing static_foo(%s)\"%x)\n",
    "\n",
    "a=A()"
   ]
  },
  {
   "source": [
    "### 函数"
   ],
   "cell_type": "markdown",
   "metadata": {}
  },
  {
   "cell_type": "code",
   "execution_count": null,
   "metadata": {},
   "outputs": [],
   "source": [
    "# 高阶函数: map | reduce | filter | sorted\n",
    "    # map()函数接收两个参数，一个是函数，一个是Iterable(如列表)，map将传入的函数依次作用到序列的每个元素，并把结果作为新的Iterator返回；Iterator是惰性序列，因此通过list()函数让它把整个序列都计算出来并返回一个list\n",
    "    # reduce把一个函数作用在一个序列[x1, x2, x3, ...]上，这个函数必须接收两个参数，reduce把结果继续和序列的下一个元素做累积计算；reduce函数中的第三个参数为其中函数的第一个参数的初始值\n",
    "        ## 在 functools 库下，自从 Python3 以来不再是默认就可以使用的函数\n",
    "    # filter()函数用于过滤序列，接收一个函数和一个序列，把传入的函数依次作用于每个元素，然后根据返回值是True还是False决定保留还是丢弃该元素   |   filter(str.isalnum, s.lower())\n",
    "    # sorted()函数可以接收一个key函数来实现自定义的排序 第三个参数reverse=True进行反向排序 默认是升序\n",
    "        ## key仅仅支持一个参数\n",
    "        ## key如何对两个参数做对比: from functools import cmp_to_key，然后key = cmp_to_key(lambda x,y: ...)\n",
    "        ## 传入两个参数(x,y)对应于(self,other)，这里的self表示当前的数，而other是前面已经出现比较过的对象\n",
    "# 关键字lambda表示匿名函数(和函数式编程有关)，冒号前面的x表示函数参数\n",
    "    # 返回值可结合and和or进行条件选择"
   ]
  },
  {
   "cell_type": "code",
   "execution_count": 5,
   "metadata": {},
   "outputs": [
    {
     "output_type": "stream",
     "name": "stdout",
     "text": [
      "[6, 7]\n"
     ]
    }
   ],
   "source": [
    "a = [1,2,3,4,5,6,7]\n",
    "b = filter(lambda x: x > 5, a)\n",
    "print(list(b))"
   ]
  },
  {
   "cell_type": "code",
   "execution_count": 6,
   "metadata": {},
   "outputs": [
    {
     "output_type": "execute_result",
     "data": {
      "text/plain": [
       "[2, 4, 6]"
      ]
     },
     "metadata": {},
     "execution_count": 6
    }
   ],
   "source": [
    "a = map(lambda x:x*2,[1,2,3])\n",
    "list(a)"
   ]
  },
  {
   "cell_type": "code",
   "execution_count": 9,
   "metadata": {},
   "outputs": [
    {
     "output_type": "execute_result",
     "data": {
      "text/plain": [
       "[1, 4, 9]"
      ]
     },
     "metadata": {},
     "execution_count": 9
    }
   ],
   "source": [
    "a = map(lambda x,y:x*y,[1,2,3],[1,2,3])\n",
    "list(a)"
   ]
  },
  {
   "cell_type": "code",
   "execution_count": 14,
   "metadata": {},
   "outputs": [
    {
     "output_type": "stream",
     "name": "stdout",
     "text": [
      "6\n6\n16\n"
     ]
    }
   ],
   "source": [
    "from functools import reduce\n",
    "print(reduce(lambda x,y:x*y,range(1,4))) # 求3的阶乘\n",
    "print(reduce(lambda x,y:x+y,range(1,4)))\n",
    "print(reduce(lambda x,y:x+y,range(1,4),10))"
   ]
  },
  {
   "cell_type": "code",
   "execution_count": 46,
   "metadata": {},
   "outputs": [
    {
     "output_type": "stream",
     "name": "stdout",
     "text": [
      "Second_large_num is : 56\n"
     ]
    }
   ],
   "source": [
    "# lambda返回值可结合and和or进行条件选择\n",
    "    # 找出一个整数数组中，第二大的数\n",
    "    # 设置两个标志位一个存储最大数一个存储次大数\n",
    "from functools import reduce\n",
    "num_list = [34, 11, 23, 56, 78, 0, 9, 12, 3, 7, 5]\n",
    "num = reduce(lambda ot, x: ot[1] < x and (ot[1], x) or ot[0] < x and (x, ot[1]) or ot, num_list, (0, 0))[0]\n",
    "print(\"Second_large_num is :\", num)"
   ]
  },
  {
   "cell_type": "code",
   "execution_count": 6,
   "metadata": {},
   "outputs": [
    {
     "output_type": "stream",
     "name": "stdout",
     "text": [
      "[(1, 4), (2, 5), (3, 6)]\n[(1, 4), (2, 5), (3, 6)]\n[(1, 2, 3), (4, 5, 6)]\n"
     ]
    }
   ],
   "source": [
    "# zip\n",
    "a = [1,2,3]\n",
    "b = [4,5,6]\n",
    "zipped = zip(a,b) \n",
    "print(list(zipped)) # 打包为元组的列表\n",
    "c = [4,5,6,7,8]\n",
    "print(list(zip(a,c))) # 元素个数与最短的列表一致\n",
    "zipped = zip(a,b)\n",
    "print(list(zip(*zipped))) # 与 zip 相反，*zipped 可理解为解压，返回二维矩阵式"
   ]
  },
  {
   "cell_type": "code",
   "execution_count": null,
   "metadata": {},
   "outputs": [],
   "source": [
    "# enumerate(sequence, start=0): sequence为一个序列、迭代器或其他支持迭代对象；start为下标起始位置"
   ]
  },
  {
   "cell_type": "code",
   "execution_count": null,
   "metadata": {},
   "outputs": [],
   "source": [
    "# bin函数得到二进制的字符串，int函数有两个参数，第二个参数指明进制，如int(a,2)将a转换成二进制整数"
   ]
  },
  {
   "cell_type": "code",
   "execution_count": 2,
   "metadata": {},
   "outputs": [
    {
     "output_type": "stream",
     "name": "stdout",
     "text": [
      "[3, 2, 5, 1]\n"
     ]
    }
   ],
   "source": [
    "# reversed\n",
    "a = [1,5,2,3]\n",
    "print(list(reversed(a)))"
   ]
  },
  {
   "cell_type": "code",
   "execution_count": 2,
   "metadata": {},
   "outputs": [
    {
     "output_type": "stream",
     "name": "stdout",
     "text": [
      "flow\n3\n"
     ]
    }
   ],
   "source": [
    "# min/max\n",
    "strs = [\"flower\",\"flow\",\"flight\"]\n",
    "shortest = min(strs,key=len)\n",
    "print(shortest)\n",
    "\n",
    "import collections\n",
    "a = [1,2,2,3,3,3,3]\n",
    "counts = collections.Counter(a)\n",
    "print(max(counts.keys(), key=counts.get))"
   ]
  },
  {
   "cell_type": "code",
   "execution_count": null,
   "metadata": {},
   "outputs": [],
   "source": [
    "# sum(iter, start=0)\n",
    "    # strat参数指明初始值"
   ]
  },
  {
   "cell_type": "code",
   "execution_count": 13,
   "metadata": {},
   "outputs": [
    {
     "output_type": "stream",
     "name": "stdout",
     "text": [
      "21\n2\n"
     ]
    }
   ],
   "source": [
    "# eval(): 用来执行一个字符串表达式，并返回表达式的值\n",
    "x = 7\n",
    "print(eval( '3 * x' ))\n",
    "t = \"%s * 1\" % '2'\n",
    "print(eval(t))"
   ]
  },
  {
   "cell_type": "code",
   "execution_count": null,
   "metadata": {},
   "outputs": [],
   "source": [
    "# super() 函数: 调用父类(超类)的一个方法\n",
    "    # 一个常见用法是在 __init__() 方法中确保父类被正确的初始化了\n",
    "class A:\n",
    "    def __init__(self):\n",
    "        self.x = 0\n",
    "\n",
    "class B(A):\n",
    "    def __init__(self):\n",
    "        super().__init__()\n",
    "        self.y = 1\n",
    "    # 另外一个常见用法出现在覆盖Python特殊方法的代码中\n",
    "        # __setattr__() 的实现包含一个名字检查。 如果某个属性名以下划线(_)开头，就通过 super() 调用原始的 __setattr__() ， 否则的话就委派给内部的代理对象 self._obj 去处理。 这看上去有点意思，因为就算没有显式的指明某个类的父类， super() 仍然可以有效的工作\n",
    "class Proxy:\n",
    "    def __init__(self, obj):\n",
    "        self._obj = obj\n",
    "\n",
    "    # Delegate attribute lookup to internal obj\n",
    "    def __getattr__(self, name):\n",
    "        return getattr(self._obj, name)\n",
    "\n",
    "    # Delegate attribute assignment\n",
    "    def __setattr__(self, name, value):\n",
    "        if name.startswith('_'):\n",
    "            super().__setattr__(name, value) # Call original __setattr__\n",
    "        else:\n",
    "            setattr(self._obj, name, value)\n"
   ]
  },
  {
   "cell_type": "code",
   "execution_count": 1,
   "metadata": {},
   "outputs": [
    {
     "output_type": "stream",
     "name": "stdout",
     "text": [
      "{'self': <__main__.Model1 object at 0x7f9b606bc3d0>, 'hidden_size': 100, 'num_layers': 3, 'learning_rate': 0.0003}\n"
     ]
    }
   ],
   "source": [
    "# locals()函数: 返回一个含有定义在局部命名空间中变量的字典\n",
    "class Model1:\n",
    "    def __init__(self, hidden_size=100, num_layers=3, learning_rate=3e-4):\n",
    "        print(locals())\n",
    "        self.hidden_size = hidden_size\n",
    "        self.num_layers = num_layers\n",
    "        self.learning_rate = learning_rate\n",
    "\n",
    "model1 = Model1()"
   ]
  },
  {
   "cell_type": "code",
   "execution_count": 2,
   "metadata": {},
   "outputs": [
    {
     "output_type": "stream",
     "name": "stdout",
     "text": [
      "{'hidden_size': 100, 'num_layers': 3, 'learning_rate': 0.0003}\n"
     ]
    }
   ],
   "source": [
    "# 对象的所有属性存储在它的__dict__\n",
    "print(model1.__dict__)"
   ]
  },
  {
   "cell_type": "code",
   "execution_count": 4,
   "metadata": {},
   "outputs": [
    {
     "output_type": "stream",
     "name": "stdout",
     "text": [
      "{'hidden_size': 100, 'num_layers': 3, 'learning_rate': 0.0003}\n{'hidden_size': 100, 'num_layers': 3, 'learning_rate': 0.0003}\n"
     ]
    }
   ],
   "source": [
    "# 可利用locals()和__dict__进行快速赋值\n",
    "class Model2:\n",
    "    def __init__(self, hidden_size=100, num_layers=3, learning_rate=3e-4):\n",
    "        params = locals()\n",
    "        del params['self']\n",
    "        self.__dict__ = params\n",
    "\n",
    "model2 = Model2()\n",
    "print(model2.__dict__)\n",
    "\n",
    "# 或者进行如下的快速赋值\n",
    "class Model3:\n",
    "    def __init__(self, **kwargs):\n",
    "        self.__dict__ = kwargs\n",
    "\n",
    "model3 = Model3(hidden_size=100, num_layers=3, learning_rate=3e-4)\n",
    "print(model3.__dict__)"
   ]
  },
  {
   "cell_type": "code",
   "execution_count": null,
   "metadata": {},
   "outputs": [],
   "source": [
    "# 函数参数：*args和**kwargs\n",
    "    ## 当你不确定你的函数里将要传递多少参数时你可以用*args.例如,它可以传递任意数量的参数\n",
    "    ## **kwargs允许你使用没有事先定义的参数名\n",
    "    ## 也可以混着用.命名参数首先获得参数值然后所有的其他参数都传递给*args和**kwargs.命名参数在列表的最前端.例如:def table_things(titlestring, **kwargs).*args和**kwargs可以同时在函数的定义中,但是*args必须在**kwargs前面.\n",
    "    ## 当调用函数时你也可以用*和**语法\n"
   ]
  },
  {
   "cell_type": "code",
   "execution_count": null,
   "metadata": {},
   "outputs": [],
   "source": [
    "# 函数重载\n",
    "    ## 函数重载主要是为了解决两个问题。可变参数类型。可变参数个数。\n",
    "    ## 一个基本的设计原则是，仅仅当两个函数除了参数类型和参数个数不同以外，其功能是完全相同的，此时才使用函数重载，如果两个函数的功能其实不同，那么不应当使用重载，而应当使用一个名字不同的函数\n",
    "    ## 对于情况 1 ，函数功能相同，但是参数类型不同，python 如何处理？答案是根本不需要处理，因为 python 可以接受任何类型的参数，如果函数的功能相同，那么不同的参数类型在 python 中很可能是相同的代码，没有必要做成两个不同函数\n",
    "    ## 对于情况 2 ，函数功能相同，但参数个数不同，python 如何处理？大家知道，答案就是缺省参数。对那些缺少的参数设定为缺省参数即可解决问题。因为你假设函数功能相同，那么那些缺少的参数终归是需要用的\n",
    "    ## python不需要函数重载了"
   ]
  },
  {
   "cell_type": "code",
   "execution_count": 18,
   "metadata": {},
   "outputs": [
    {
     "output_type": "stream",
     "name": "stdout",
     "text": [
      "0. apple\n1. banana\n2. cabbage\n"
     ]
    }
   ],
   "source": [
    "def print_everything(*args): # 参数列表\n",
    "    for count, thing in enumerate(args):\n",
    "        print('{0}. {1}'.format(count, thing))\n",
    "print_everything('apple', 'banana', 'cabbage')"
   ]
  },
  {
   "cell_type": "code",
   "execution_count": 19,
   "metadata": {},
   "outputs": [
    {
     "output_type": "stream",
     "name": "stdout",
     "text": [
      "apple = fruit\ncabbage = vegetable\n"
     ]
    }
   ],
   "source": [
    "def table_things(**kwargs): # 字典\n",
    "    for name, value in kwargs.items():\n",
    "        print('{0} = {1}'.format(name, value))\n",
    "table_things(apple = 'fruit', cabbage = 'vegetable')"
   ]
  },
  {
   "cell_type": "code",
   "execution_count": 20,
   "metadata": {},
   "outputs": [
    {
     "output_type": "stream",
     "name": "stdout",
     "text": [
      "a = aardvark, b = baboon, c = cat\n"
     ]
    }
   ],
   "source": [
    "def print_three_things(a, b, c):\n",
    "    print('a = {0}, b = {1}, c = {2}'.format(a,b,c))\n",
    "mylist = ['aardvark', 'baboon', 'cat']\n",
    "print_three_things(*mylist)"
   ]
  },
  {
   "source": [
    "### 列表"
   ],
   "cell_type": "markdown",
   "metadata": {}
  },
  {
   "cell_type": "code",
   "execution_count": 11,
   "metadata": {},
   "outputs": [
    {
     "output_type": "stream",
     "name": "stdout",
     "text": [
      "[0, 1, 2, 3, 4, 5, 6, 7, 8, 9]\n[8, 6, 4, 2, 0]\n[1, 3, 5, 7, 9]\n"
     ]
    }
   ],
   "source": [
    "# 反转[::-1] | 隔一位反转[::-2]\n",
    "# 奇数位和偶数位: [1::2] [0::2]\n",
    "elems = list(range(10))\n",
    "print(elems)\n",
    "reversed_evens = elems[-2::-2]\n",
    "print(reversed_evens)\n",
    "del elems[::2]\n",
    "print(elems)"
   ]
  },
  {
   "cell_type": "code",
   "execution_count": 44,
   "metadata": {},
   "outputs": [
    {
     "output_type": "execute_result",
     "data": {
      "text/plain": [
       "[3, 1, 2, 4]"
      ]
     },
     "metadata": {},
     "execution_count": 44
    }
   ],
   "source": [
    "# insert | pop\n",
    "a = [1,2,3,4]\n",
    "a.insert(0, a.pop(2))\n",
    "a"
   ]
  },
  {
   "cell_type": "code",
   "execution_count": 12,
   "metadata": {},
   "outputs": [
    {
     "output_type": "stream",
     "name": "stdout",
     "text": [
      "[0, 20, 30, 40, 2, 3, 4, 5, 6, 7, 8, 9]\n[0, 0.2, 0.3, 0.5, 1, 2, 3, 4, 5, 6, 7, 8, 9]\n"
     ]
    }
   ],
   "source": [
    "# 插入\n",
    "elems = list(range(10))\n",
    "elems[1:2] = [20, 30, 40] # 替换索引1\n",
    "print(elems)\n",
    "elems = list(range(10))\n",
    "elems[1:1] = [0.2, 0.3, 0.5] # 在索引0和1之间插入\n",
    "print(elems)"
   ]
  },
  {
   "cell_type": "code",
   "execution_count": 8,
   "metadata": {},
   "outputs": [
    {
     "output_type": "stream",
     "name": "stdout",
     "text": [
      "[]\n"
     ]
    }
   ],
   "source": [
    "# 代码将输出[],不会产生IndexError错误\n",
    "# 尝试获取list[10]和之后的成员，会导致IndexError。然而，尝试获取列表的切片，开始的index超过了成员个数不会产生IndexError，而是仅仅返回一个空列表\n",
    "l = ['a','b','c','d','e']\n",
    "print(l[10:])"
   ]
  },
  {
   "cell_type": "code",
   "execution_count": 2,
   "metadata": {},
   "outputs": [
    {
     "output_type": "stream",
     "name": "stdout",
     "text": [
      "{3}\n{1, 2, 4, 5}\n"
     ]
    }
   ],
   "source": [
    "# 给定两个列表，怎么找出他们相同的元素和不同的元素？\n",
    "list1 = [1,2,3]\n",
    "list2 = [3,4,5]\n",
    "set1 = set(list1)\n",
    "set2 = set(list2)\n",
    "print(set1 & set2)\n",
    "print(set1 ^ set2)"
   ]
  },
  {
   "cell_type": "code",
   "execution_count": 9,
   "metadata": {},
   "outputs": [
    {
     "output_type": "stream",
     "name": "stdout",
     "text": [
      "['b', 'c', 'd', 'a']\n"
     ]
    }
   ],
   "source": [
    "# 实现删除list里面的重复元素\n",
    "l1 = ['b','c','d','c','a','a']\n",
    "l2 = sorted(set(l1),key=l1.index)\n",
    "print(l2)"
   ]
  },
  {
   "cell_type": "code",
   "execution_count": 9,
   "metadata": {},
   "outputs": [
    {
     "output_type": "stream",
     "name": "stdout",
     "text": [
      "140072691165216\n140072692450880\n[2, 3, 4, 5, 6, 7, 8]\n[3, 4, 5, 6, 7, 8]\n[4, 5, 6, 7, 8]\n[5, 6, 7, 8]\n[6, 7, 8]\n[6, 7, 8]\n[6, 7, 8]\n[6, 7, 8]\n-----------\n140072691165216\n"
     ]
    }
   ],
   "source": [
    "# list.remove()\n",
    "# id(list)\n",
    "a = [1,2,3,4,5,6,7,8]\n",
    "print(id(a))\n",
    "print(id(a[:]))\n",
    "for i in a[:]:\n",
    "    if i>5:\n",
    "        pass\n",
    "    else:\n",
    "        a.remove(i)\n",
    "    print(a)\n",
    "print('-----------')\n",
    "print(id(a))"
   ]
  },
  {
   "cell_type": "code",
   "execution_count": 10,
   "metadata": {},
   "outputs": [
    {
     "output_type": "stream",
     "name": "stdout",
     "text": [
      "140072689783104\n140072689783104\n-----------\n[6, 7, 8]\n"
     ]
    }
   ],
   "source": [
    "a=[1,2,3,4,5,6,7,8] \n",
    "print(id(a))\n",
    "for i in range(len(a)-1,-1,-1): # 倒序删除\n",
    "    if a[i]>5:\n",
    "        pass\n",
    "    else:\n",
    "        a.remove(a[i])\n",
    "print(id(a))\n",
    "print('-----------')\n",
    "print(a)"
   ]
  },
  {
   "cell_type": "code",
   "execution_count": 15,
   "metadata": {},
   "outputs": [
    {
     "output_type": "stream",
     "name": "stdout",
     "text": [
      "[1, 2, 3, 4, 5, 6]\n[1, 2, 3, 4, 5, 6, 7, 8, 9, 10, 11, 12, 13]\n"
     ]
    }
   ],
   "source": [
    "# 用sum展平一个列表\n",
    "    # sum函数的初始值为[]，则执行列表合并\n",
    "list_of_lists = [[1], [2, 3], [4, 5, 6]]\n",
    "print(sum(list_of_lists, []))\n",
    "# 如果一个列表中有嵌套的列表，可以进行递归展平\n",
    "nested_lists = [[1, 2], [[3, 4], [5, 6], [[7, 8], [9, 10], [[11, [12, 13]]]]]]\n",
    "flatten = lambda x: [y for l in x for y in flatten(l)] if type(x) is list else [x]\n",
    "print(flatten(nested_lists))"
   ]
  },
  {
   "source": [
    "### 字典"
   ],
   "cell_type": "markdown",
   "metadata": {}
  },
  {
   "cell_type": "code",
   "execution_count": 5,
   "metadata": {},
   "outputs": [
    {
     "output_type": "stream",
     "name": "stdout",
     "text": [
      "{'k': 1, 'k1': 2, 'k2': 3, 'k3': 4}\n"
     ]
    }
   ],
   "source": [
    "# 字典生成/推导式\n",
    "    ## d = {key: value for (key, value) in iterable}\n",
    "s = \"k:1|k1:2|k2:3|k3:4\"\n",
    "d = {k:int(v) for t in s.split(\"|\") for k, v in (t.split(\":\"),)}\n",
    "print(d)"
   ]
  },
  {
   "cell_type": "code",
   "execution_count": null,
   "metadata": {},
   "outputs": [],
   "source": [
    "# 字典按value值进行排序\n",
    "    # sorted(d.items(),key=lambda x:x[1]) # x[0]代表用key进行排序；x[1]代表用value进行排序"
   ]
  },
  {
   "cell_type": "code",
   "execution_count": 37,
   "metadata": {},
   "outputs": [
    {
     "output_type": "execute_result",
     "data": {
      "text/plain": [
       "(1, 2)"
      ]
     },
     "metadata": {},
     "execution_count": 37
    }
   ],
   "source": [
    "# __getitem__\n",
    "d = {'k': 1, 'k1': 2, 'k2': 3, 'k3': 4}\n",
    "d['k'],d.__getitem__('k1')"
   ]
  },
  {
   "cell_type": "code",
   "execution_count": 39,
   "metadata": {},
   "outputs": [
    {
     "output_type": "stream",
     "name": "stdout",
     "text": [
      "[1, 2, 3]\n"
     ]
    }
   ],
   "source": [
    "# 从列表构建字典: fromkeys  |  可对列表进行去重\n",
    "b = {}\n",
    "a = [1,1,2,2,3]\n",
    "b = b.fromkeys(a)\n",
    "c = list(b.keys())\n",
    "print(c)"
   ]
  },
  {
   "source": [
    "### 字符串"
   ],
   "cell_type": "markdown",
   "metadata": {}
  },
  {
   "cell_type": "code",
   "execution_count": null,
   "metadata": {},
   "outputs": [],
   "source": [
    "# .isalpha() | .isdigit() | .isalnum() | .islower() | .isupper() | .lower() | .upper() | .capitalize() | .istitle() | .isspace()\n",
    "# .split() | .replace() | .index() | .reverse()\n",
    "    # split(str, num): str为分隔符，默认为所有的空字符，包括空格、换行(\\n)、制表符(\\t)等；num为分割次数，默认为 -1，即分隔所有\n",
    "# ord() | chr()\n",
    "# .endswith()"
   ]
  },
  {
   "cell_type": "code",
   "execution_count": 27,
   "metadata": {},
   "outputs": [
    {
     "output_type": "stream",
     "name": "stdout",
     "text": [
      "电话号码是 :  2004959559\n123-45-67\n--------------------\n<_sre.SRE_Match object; span=(0, 3), match='www'>\nNone\n<_sre.SRE_Match object; span=(0, 9), match='010-12345'>\n('010', '12345')\n010-12345\n010-12345\n010\n12345\n"
     ]
    }
   ],
   "source": [
    "# 正则表达式\n",
    "import re\n",
    "'''\n",
    "^ 匹配字符串的开头 | ^\\d必须以数字开头 | $ 匹配字符串的末尾 | \\d$必须以数字结尾\n",
    "* 匹配0个或多个的字符 | + 匹配1个或多个的字符 | ? 匹配0个或1个字符 相当于{0,1} | . 匹配任意字符，除了换行符\n",
    "\\w 匹配一个字母或数字或下划线(\\W非单词) | \\s 匹配一个空格(也包括Tab等空白符)(\\S匹配任意非空字符) | \\b 匹配一个单词边界(如， 'er\\b' 可以匹配\"never\" 中的 'er'，但不能匹配 \"verb\" 中的 'er')(\\B匹配非单词边界)\n",
    "{n} n个 | {n,} 如{1,}相当于x+\n",
    "[\\u4e00-\\u9fa5]匹配中文 | [^abc] 匹配除了a、b、c以外的字符\n",
    "\n",
    "正则匹配默认是贪婪匹配，也就是匹配尽可能多的字符。后加个?就可以采用非贪婪匹配\n",
    "    当?后缀于*,+,?,{n},{n,},{n,m}之后，则代表非贪心匹配模式，也就是说，尽可能少的匹配左边的字符或表达式\n",
    "'''\n",
    "\n",
    "# re.sub与str.replace('', '')类似\n",
    "    # re.sub(pat,newpat,s) 对字符串中s的包含的所有符合pat的连续字符串进行替换，如果newpat为str,那么就是替换为newpat,如果newpat是函数，那么就按照函数返回值替换。sub函数两个有默认值的参数分别是count表示最多只处理前几个匹配的字符串，默认为0表示全部处理；最后一个是flags，默认为0\n",
    "phone = \"2004-959-559\"\n",
    "num = re.sub(r'\\D', \"\", phone)\n",
    "print(\"电话号码是 : \", num)\n",
    "number = \"123 4-567\"\n",
    "print(re.sub('(...?(?=..))', r'\\1-', re.sub('\\D', '', number))) # \\1...\\9 匹配第n个分组的内容; (?=..) 前向肯定界定符/前向否定界定符 (?!..) 不包含..形式的串，它是不占位置的，起到一种指示作用\n",
    "print(\"-\"*20)\n",
    "\n",
    "# re.match 尝试从字符串的起始位置匹配一个模式，匹配成功re.match方法返回一个匹配的对象；如果不是起始位置匹配成功的话，match()就返回none\n",
    "print(re.match('www', 'www.runoob.com'))  # 在起始位置匹配\n",
    "print(re.match('com', 'www.runoob.com'))  # 不在起始位置匹配\n",
    "    # 正则表达式有提取子串的功能。用()表示的就是要提取的分组（Group）\n",
    "print(re.match(r'^(\\d{3})-(\\d{3,8})$', '010-12345'))\n",
    "print(re.match(r'^(\\d{3})-(\\d{3,8})$', '010-12345').groups()) # 返回元组\n",
    "print(re.match(r'^(\\d{3})-(\\d{3,8})$', '010-12345').group())\n",
    "print(re.match(r'^(\\d{3})-(\\d{3,8})$', '010-12345').group(0))\n",
    "print(re.match(r'^(\\d{3})-(\\d{3,8})$', '010-12345').group(1))\n",
    "print(re.match(r'^(\\d{3})-(\\d{3,8})$', '010-12345').group(2))\n"
   ]
  },
  {
   "cell_type": "code",
   "execution_count": 8,
   "metadata": {},
   "outputs": [
    {
     "output_type": "stream",
     "name": "stdout",
     "text": [
      "<re.Match object; span=(11, 14), match='com'>\n"
     ]
    }
   ],
   "source": [
    "# re.search(pat, s)\n",
    "    # 从字符串s的任意位置都进行匹配，比如(‘123’,’01234’)就是匹配上了，只要s存在符合pat的连续字符串就算匹配上了，没有匹配上返回None，匹配上返回matchobject\n",
    "import re\n",
    "print(re.search('com', 'www.runoob.com'))"
   ]
  },
  {
   "cell_type": "code",
   "execution_count": null,
   "metadata": {},
   "outputs": [],
   "source": [
    "# 过滤评论中的表情？re.sub\n",
    "pattern = re.compile(u'[\\uD800-\\uDBFF][\\uDC00-\\uDFFF]')\n",
    "pattern.sub('',text)"
   ]
  },
  {
   "cell_type": "code",
   "execution_count": 19,
   "metadata": {},
   "outputs": [
    {
     "output_type": "stream",
     "name": "stdout",
     "text": [
      "None\nNone\n<_sre.SRE_Match object; span=(3, 5), match='12'>\n--------------------\n['123', '456']\n['88', '12']\n"
     ]
    }
   ],
   "source": [
    "# compile 函数用于编译正则表达式，生成一个正则表达式（ Pattern ）对象\n",
    "pattern = re.compile(r'\\d+') \n",
    "m = pattern.match('one12twothree34four') # 查找头部，没有匹配\n",
    "print(m)\n",
    "m = pattern.match('one12twothree34four', 2, 10) # 从'e'的位置开始匹配，没有匹配\n",
    "print(m)\n",
    "m = pattern.match('one12twothree34four', 3, 10) # 从'1'的位置开始匹配，正好匹配\n",
    "print(m)\n",
    "print(\"-\"*20)\n",
    "\n",
    "# match是匹配一次，findall是匹配所有\n",
    "result1 = pattern.findall('runoob 123 google 456')\n",
    "result2 = pattern.findall('run88oob123google456', 0, 10)\n",
    "print(result1)\n",
    "print(result2)"
   ]
  },
  {
   "cell_type": "code",
   "execution_count": 6,
   "metadata": {},
   "outputs": [
    {
     "output_type": "stream",
     "name": "stdout",
     "text": [
      "2\n5\n"
     ]
    }
   ],
   "source": [
    "# str.find()\n",
    "print('aabbcc'.find('bb')) # 返回str中第一次出现的substr的第一个字母的标号，如果str中没有substr则返回-1，也就是说从左边算起的第一次出现的substr的首字母标号\n",
    "# str.index()\n",
    "    # index()函数类似于find()函数，在Python中也是在字符串中查找子串第一次出现的位置，跟find()不同的是，未找到则抛出异常\n",
    "# str.rfind()：倒序字符串查找函数\n",
    "print('adsfddf'.rfind('d')) # 返回str中最后出现的substr的第一个字母的标号，如果str中没有substr则返回-1，也就是说从右边算起的第一次出现的substr的首字母标号\n",
    "# str.rindex()\n",
    "    # rindex()函数类似于rfind()函数，在Python中也是在字符串中倒序查找子串最后一次出现的位置，跟rfind()不同的是，未找到则抛出异常"
   ]
  },
  {
   "cell_type": "code",
   "execution_count": null,
   "metadata": {},
   "outputs": [],
   "source": [
    "# ASCII: '0':48; 'A':65; 'a':97"
   ]
  },
  {
   "cell_type": "code",
   "execution_count": 14,
   "metadata": {},
   "outputs": [
    {
     "output_type": "error",
     "ename": "TypeError",
     "evalue": "not all arguments converted during string formatting",
     "traceback": [
      "\u001b[0;31m---------------------------------------------------------------------------\u001b[0m",
      "\u001b[0;31mTypeError\u001b[0m                                 Traceback (most recent call last)",
      "\u001b[0;32m<ipython-input-14-831d062bccf9>\u001b[0m in \u001b[0;36m<module>\u001b[0;34m\u001b[0m\n\u001b[1;32m      1\u001b[0m \u001b[0;31m# 字符串格式化:%和.format\u001b[0m\u001b[0;34m\u001b[0m\u001b[0;34m\u001b[0m\u001b[0;34m\u001b[0m\u001b[0m\n\u001b[1;32m      2\u001b[0m \u001b[0mname\u001b[0m\u001b[0;34m=\u001b[0m\u001b[0;34m(\u001b[0m\u001b[0;36m1\u001b[0m\u001b[0;34m,\u001b[0m\u001b[0;36m2\u001b[0m\u001b[0;34m,\u001b[0m\u001b[0;36m3\u001b[0m\u001b[0;34m)\u001b[0m\u001b[0;34m\u001b[0m\u001b[0;34m\u001b[0m\u001b[0m\n\u001b[0;32m----> 3\u001b[0;31m \u001b[0mprint\u001b[0m\u001b[0;34m(\u001b[0m\u001b[0;34m\"hi there %s\"\u001b[0m \u001b[0;34m%\u001b[0m \u001b[0mname\u001b[0m\u001b[0;34m)\u001b[0m\u001b[0;34m\u001b[0m\u001b[0;34m\u001b[0m\u001b[0m\n\u001b[0m",
      "\u001b[0;31mTypeError\u001b[0m: not all arguments converted during string formatting"
     ]
    }
   ],
   "source": [
    "# 字符串格式化:%和.format\n",
    "## %无法传递元组，format没有问题\n",
    "name=(1,2,3)\n",
    "print(\"hi there %s\" % name)"
   ]
  },
  {
   "cell_type": "code",
   "execution_count": 15,
   "metadata": {},
   "outputs": [
    {
     "output_type": "stream",
     "name": "stdout",
     "text": [
      "hi there (1, 2, 3)\n"
     ]
    }
   ],
   "source": [
    "print(\"hi there %s\" % (name,) ) # 提供一个单元素的数组而不是一个参数"
   ]
  },
  {
   "cell_type": "code",
   "execution_count": null,
   "metadata": {},
   "outputs": [],
   "source": [
    "# 字符串前加u: 以Unicode格式进行编码，一般用在中文字符串前面，防止因为源码储存格式问题，导致再次使用时出现乱码\n",
    "# 加r: 去掉反斜杠的转义机制，常用于正则表达式\n",
    "# 加b: 表示这是一个bytes对象，网络编程中，服务器和浏览器只认bytes类型数据，如：send函数的参数和recv函数的返回值都是bytes类型\n",
    "# 加f: 表示在字符串内支持大括号内的python表达式\n",
    "# 在 Python3 中，bytes和str的互相转换方式是\n",
    "    # str.encode('utf-8')\n",
    "    # bytes.decode('utf-8')"
   ]
  },
  {
   "cell_type": "code",
   "execution_count": 11,
   "metadata": {},
   "outputs": [
    {
     "output_type": "stream",
     "name": "stdout",
     "text": [
      "abcdefghijklmnopqrstuvwxyz\nabcdefghijklmnopqrstuvwxyz\n"
     ]
    }
   ],
   "source": [
    "# 生成26个小写字母\n",
    "    # 方法一\n",
    "import string\n",
    "letters = string.ascii_lowercase\n",
    "print(letters)\n",
    "    # 方法二\n",
    "letters = \"\".join(map(chr, range(ord('a'), ord('z') + 1)))\n",
    "print(letters)"
   ]
  },
  {
   "source": [
    "### 矩阵操作"
   ],
   "cell_type": "markdown",
   "metadata": {}
  },
  {
   "cell_type": "code",
   "execution_count": null,
   "metadata": {},
   "outputs": [],
   "source": [
    "# 分别获取行列长度"
   ]
  },
  {
   "source": [
    "### 文件及目录操作"
   ],
   "cell_type": "markdown",
   "metadata": {}
  },
  {
   "cell_type": "code",
   "execution_count": 6,
   "metadata": {},
   "outputs": [],
   "source": [
    "# shutil提供了一系列对文件和文件集合的高阶操作\n",
    "import shutil \n",
    "import os\n",
    "from tensorboardX import SummaryWriter\n",
    "\n",
    "log_dir = \"test/\"\n",
    "if not os.path.exists(log_dir):\n",
    "    os.makedirs(log_dir)\n",
    "writer = SummaryWriter(log_dir) # log_dir下会产生一个文件\n",
    "shutil.rmtree(log_dir) # 递归删除一个目录以及目录内的所有内容，即log_dir消失"
   ]
  },
  {
   "cell_type": "code",
   "execution_count": 10,
   "metadata": {},
   "outputs": [
    {
     "output_type": "stream",
     "name": "stdout",
     "text": [
      "['test/test_glob/1.pkl', 'test/test_glob/2.pkl', 'test/test_glob/3.pkl']\n1.pkl\n"
     ]
    }
   ],
   "source": [
    "# glob.glob\n",
    "# os.path.basename\n",
    "import glob\n",
    "dirname = \"test/test_glob\"\n",
    "files = glob.glob(dirname+'/*.pkl') # 获取dir下所有的pkl文件\n",
    "print(files)\n",
    "print(os.path.basename(files[0])) # 获取文件名"
   ]
  },
  {
   "cell_type": "code",
   "execution_count": null,
   "metadata": {},
   "outputs": [],
   "source": [
    "# glob.iglob()函数获取一个可遍历对象，与glob.glob()的区别是：glob.glob()可同时获取所有的匹配路径，而glob.iglob()一次只能获取一个匹配路径"
   ]
  },
  {
   "cell_type": "code",
   "execution_count": null,
   "metadata": {},
   "outputs": [],
   "source": [
    "# os.remove(file)\n",
    "# os.listdir | os.path.join | os.path.isdir | os.path.isfile\n",
    "def print_directory_contents(sPath):\n",
    "# 这个函数接收文件夹的名称作为输入参数，返回该文件夹中文件的路径以及其包含文件夹中文件的路径\n",
    "    for s_child in os.listdir(s_path):\n",
    "        s_child_path = os.path.join(s_path, s_child)\n",
    "        if os.path.isdir(s_child_path):\n",
    "            print_directory_contents(s_child_path)\n",
    "        else:\n",
    "            print(s_child_path)"
   ]
  },
  {
   "cell_type": "code",
   "execution_count": 7,
   "metadata": {},
   "outputs": [
    {
     "output_type": "stream",
     "name": "stdout",
     "text": [
      "root:/home/yaoqf/yaoqingfeng/Code-Repository/leetcodes\ndirs:['test']\nfiles:['array_matrix.ipynb', 'subsequence.ipynb', 'others.ipynb', 'readme.md', 'backtrack.ipynb', 'design.ipynb', 'string.ipynb', 'basics.ipynb', 'binary.ipynb', 'array_others.ipynb', 'linktable.ipynb', 'array_basic.ipynb', 'sortings.ipynb', 'tree.ipynb']\nroot:/home/yaoqf/yaoqingfeng/Code-Repository/leetcodes/test\ndirs:['test_glob']\nfiles:[]\nroot:/home/yaoqf/yaoqingfeng/Code-Repository/leetcodes/test/test_glob\ndirs:[]\nfiles:['1.pkl', '2.pkl', '3.pkl']\n"
     ]
    }
   ],
   "source": [
    "# os.walk\n",
    "import os\n",
    "dir = '/home/yaoqf/yaoqingfeng/Code-Repository/leetcodes'\n",
    "for root,dirs,files in os.walk(dir):\n",
    "    print(\"root:{}\".format(root))\n",
    "    print(\"dirs:{}\".format(dirs))\n",
    "    print(\"files:{}\".format(files))\n"
   ]
  },
  {
   "cell_type": "code",
   "execution_count": 8,
   "metadata": {},
   "outputs": [
    {
     "output_type": "stream",
     "name": "stdout",
     "text": [
      "a .pyc\n"
     ]
    }
   ],
   "source": [
    "# os.path.splitext\n",
    "filename = \"a.pyc\"\n",
    "name,suf = os.path.splitext(filename)\n",
    "print(name,suf)"
   ]
  },
  {
   "cell_type": "code",
   "execution_count": null,
   "metadata": {},
   "outputs": [],
   "source": [
    "# 文件读写\n",
    "    # read 读取整个文件\n",
    "    # readline 读取下一行,使用生成器方法\n",
    "    # readlines 读取整个文件到一个迭代器以供我们遍历\n",
    "def get_lines():\n",
    "    with open('file.txt','rb') as f:\n",
    "        return f.readlines()\n",
    "    # 现在要处理一个大小为10G的文件，但是内存只有4G  -->   需要分批读入，太小会在读取操作花费过多时间\n",
    "def get_lines():\n",
    "    with open('file.txt','rb') as f:\n",
    "        for i in f:\n",
    "            yield i\n",
    "    # 分批读入数据要记录每次读入数据的位置\n",
    "from mmap import mmap # mmap是一种虚拟内存映射文件的方法，即将一个文件或者其它对象映射到进程的地址空间，实现文件磁盘地址和进程虚拟地址空间中一段虚拟地址的一一对映关系\n",
    "def get_lines(fp):\n",
    "    with open(fp,\"r+\") as f: # r是只读，r+是读写\n",
    "        m = mmap(f.fileno(), 0) # 第一个参数是文件描述符，第二个参数是要映射文件部分的大小（以字节为单位），这个值为0，则映射整个文件，如果大小大于文件当前大小，则扩展这个文件\n",
    "        tmp = 0\n",
    "        for i, char in enumerate(m):\n",
    "            if char==b\"\\n\":\n",
    "                yield m[tmp:i+1].decode()\n",
    "                tmp = i+1"
   ]
  },
  {
   "source": [
    "### 拷贝"
   ],
   "cell_type": "markdown",
   "metadata": {}
  },
  {
   "cell_type": "code",
   "execution_count": 9,
   "metadata": {},
   "outputs": [
    {
     "output_type": "stream",
     "name": "stdout",
     "text": [
      "a =  [1, 2, 3, 4, ['a', 'b', 'c'], 5]\nb =  [1, 2, 3, 4, ['a', 'b', 'c'], 5]\nc =  [1, 2, 3, 4, ['a', 'b', 'c']]\nd =  [1, 2, 3, 4, ['a', 'b']]\n"
     ]
    }
   ],
   "source": [
    "# copy(),deepcopy()\n",
    "import copy\n",
    "a = [1, 2, 3, 4, ['a', 'b']]  #原始对象\n",
    "\n",
    "b = a  #赋值，传对象的引用\n",
    "c = copy.copy(a)  #对象拷贝，浅拷贝\n",
    "d = copy.deepcopy(a)  #对象拷贝，深拷贝\n",
    "\n",
    "a.append(5)  #修改对象a\n",
    "a[4].append('c')  #修改对象a中的['a', 'b']数组对象\n",
    "\n",
    "print('a = ', a)\n",
    "print('b = ', b)\n",
    "print('c = ', c)\n",
    "print('d = ', d)"
   ]
  },
  {
   "source": [
    "### datetime"
   ],
   "cell_type": "markdown",
   "metadata": {}
  },
  {
   "cell_type": "code",
   "execution_count": 1,
   "metadata": {},
   "outputs": [
    {
     "output_type": "execute_result",
     "data": {
      "text/plain": [
       "93"
      ]
     },
     "metadata": {},
     "execution_count": 1
    }
   ],
   "source": [
    "import datetime\n",
    "# 输入日期， 判断这一天是这一年的第几天？ 2019.4.3\n",
    "def ymd():\n",
    "    year = input(\"请输入年份: \")\n",
    "    month = input(\"请输入月份: \")\n",
    "    day = input(\"请输入天: \")\n",
    "    date1 = datetime.date(year=int(year),month=int(month),day=int(day))\n",
    "    date2 = datetime.date(year=int(year),month=1,day=1)\n",
    "    return (date1-date2).days+1\n",
    "ymd()"
   ]
  },
  {
   "source": [
    "### random"
   ],
   "cell_type": "markdown",
   "metadata": {}
  },
  {
   "cell_type": "code",
   "execution_count": 2,
   "metadata": {},
   "outputs": [
    {
     "output_type": "stream",
     "name": "stdout",
     "text": [
      "[2, 1, 3, 4, 5]\n"
     ]
    }
   ],
   "source": [
    "import random\n",
    "# 打乱一个排好序的list对象alist\n",
    "alist = [1,2,3,4,5]\n",
    "random.shuffle(alist)\n",
    "print(alist)"
   ]
  },
  {
   "source": [
    "### itertools"
   ],
   "cell_type": "markdown",
   "metadata": {}
  },
  {
   "cell_type": "code",
   "execution_count": 5,
   "metadata": {},
   "outputs": [
    {
     "output_type": "stream",
     "name": "stdout",
     "text": [
      "[('a', 'b'), ('a', 'c'), ('b', 'c')]\n[('a', 'b'), ('a', 'c'), ('b', 'a'), ('b', 'c'), ('c', 'a'), ('c', 'b')]\n"
     ]
    }
   ],
   "source": [
    "# 排列组合\n",
    "import itertools\n",
    "\n",
    "print(list(itertools.combinations(\"abc\",2)))\n",
    "print(list(itertools.permutations(\"abc\",2)))\n"
   ]
  },
  {
   "cell_type": "code",
   "execution_count": 2,
   "metadata": {},
   "outputs": [
    {
     "output_type": "stream",
     "name": "stdout",
     "text": [
      "[('G', 'G'), ('G', 'E'), ('G', 'e'), ('G', 'k'), ('G', 's'), ('E', 'E'), ('E', 'e'), ('E', 'k'), ('E', 's'), ('e', 'e'), ('e', 'k'), ('e', 's'), ('k', 'k'), ('k', 's'), ('s', 's')]\n"
     ]
    }
   ],
   "source": [
    "from itertools import combinations_with_replacement \n",
    "\n",
    "a =\"GEeks\"\n",
    "print(list(combinations_with_replacement(a, 2))) # 包括本身"
   ]
  },
  {
   "cell_type": "code",
   "execution_count": 3,
   "metadata": {},
   "outputs": [
    {
     "output_type": "stream",
     "name": "stdout",
     "text": [
      "[1, 3, 6]\n"
     ]
    }
   ],
   "source": [
    "from itertools import accumulate\n",
    "\n",
    "s=[1,2,3]\n",
    "print(list(accumulate(s)))"
   ]
  },
  {
   "cell_type": "code",
   "execution_count": 11,
   "metadata": {},
   "outputs": [
    {
     "output_type": "stream",
     "name": "stdout",
     "text": [
      "[('g', 'G'), ('e', 'E'), ('e', 'E'), '2', ('k', 'K'), ('s', 'S'), '3']\n['gee2ks3', 'gee2kS3', 'gee2Ks3', 'gee2KS3', 'geE2ks3', 'geE2kS3', 'geE2Ks3', 'geE2KS3', 'gEe2ks3', 'gEe2kS3', 'gEe2Ks3', 'gEe2KS3', 'gEE2ks3', 'gEE2kS3', 'gEE2Ks3', 'gEE2KS3', 'Gee2ks3', 'Gee2kS3', 'Gee2Ks3', 'Gee2KS3', 'GeE2ks3', 'GeE2kS3', 'GeE2Ks3', 'GeE2KS3', 'GEe2ks3', 'GEe2kS3', 'GEe2Ks3', 'GEe2KS3', 'GEE2ks3', 'GEE2kS3', 'GEE2Ks3', 'GEE2KS3']\n"
     ]
    }
   ],
   "source": [
    "# 集合的笛卡尔乘积是从所有集合中选择每种可能的组合\n",
    "f = lambda x: (x.lower(), x.upper()) if x.isalpha() else x\n",
    "a =\"GEe2ks3\"\n",
    "print(list(map(f, a)))\n",
    "print(list(map(\"\".join, itertools.product(*map(f, a)))))"
   ]
  },
  {
   "source": [
    "### heapq"
   ],
   "cell_type": "markdown",
   "metadata": {}
  },
  {
   "cell_type": "code",
   "execution_count": 5,
   "metadata": {},
   "outputs": [
    {
     "output_type": "stream",
     "name": "stdout",
     "text": [
      "[1, 2, 9, 7, 3, 10]\n[2, 3, 9, 7, 10]\n[3, 7, 9, 10]\n3\n[3, 7, 9, 10]\n"
     ]
    }
   ],
   "source": [
    "# 堆\n",
    "import heapq\n",
    "a = [1, 2, 9, 7, 3]\n",
    "heapq.heappush(a,10)\n",
    "print(a)\n",
    "heapq.heappop(a) # 弹出最小的值\n",
    "print(a)\n",
    "heapq.heappop(a) # 弹出最小的值\n",
    "print(a)\n",
    "print(a[0]) # # 查看堆中最小的值，不弹出\n",
    "heapq.heapify(a) # 以线性时间将一个列表转为堆\n",
    "print(a)"
   ]
  },
  {
   "source": [
    "### collections"
   ],
   "cell_type": "markdown",
   "metadata": {}
  },
  {
   "cell_type": "code",
   "execution_count": 28,
   "metadata": {},
   "outputs": [
    {
     "output_type": "stream",
     "name": "stdout",
     "text": [
      "deque(['a', 'b', 'c', 'd', 'e', 'f', 'g'])\n"
     ]
    }
   ],
   "source": [
    "import collections\n",
    "\n",
    "# 队列\n",
    "d=collections.deque('abcdefg') # 和list很像\n",
    "print(d)"
   ]
  },
  {
   "cell_type": "code",
   "execution_count": 13,
   "metadata": {},
   "outputs": [
    {
     "output_type": "stream",
     "name": "stdout",
     "text": [
      "deque(['a', 'b', 'c', 'd', 'e', 'f', 'g'])\ndeque([5, 4, 3, 2, 1, 0])\ndeque(['a', 'b', 'c', 'd', 'e', 'f', 'g', 'h'])\n"
     ]
    }
   ],
   "source": [
    "# deque是通过extend方法初始化集合元素的，同时可以通过extendleft将结合元素从“左边”加入到集合中\n",
    "# append默认从集合的右边增加数组元素，而另一个appendleft可以从集合的左边增加元素\n",
    "# 与append和appendleft方法对应的还有pop和popleft方法分别用于从集合中取出元素\n",
    "d1=collections.deque()\n",
    "d2=collections.deque()\n",
    "d1.extend('abcdefg')\n",
    "d2.extendleft(range(6))\n",
    "print(d1)\n",
    "print(d2)\n",
    "d1.append('h')\n",
    "print(d1)\n",
    "\n"
   ]
  },
  {
   "cell_type": "code",
   "execution_count": 5,
   "metadata": {},
   "outputs": [
    {
     "output_type": "stream",
     "name": "stdout",
     "text": [
      "0\nCounter({'b': 3, 'a': 2, 'c': 1, 'd': 1})\n"
     ]
    }
   ],
   "source": [
    "# defaultdict: 创建一个类似dict对象，里面任何values都是int的实例，就算不存在的key，d[key]也有一个默认值0，可以自行赋值\n",
    "# Counter: 以字典的形式统计元素个数\n",
    "d = collections.defaultdict(int) # 接受一个工厂函数作为参数，可以是list、set、str等等，作用是当key不存在时，返回的是工厂函数的默认值。比如list对应[ ]，str对应的是空字符串，set对应set( )，int对应0\n",
    "print(d[1])\n",
    "A=['a','b','b','c','d','b','a']\n",
    "c = collections.Counter(A)\n",
    "print(c)\n"
   ]
  },
  {
   "cell_type": "code",
   "execution_count": 41,
   "metadata": {},
   "outputs": [
    {
     "output_type": "execute_result",
     "data": {
      "text/plain": [
       "[('b', 3), ('a', 2)]"
      ]
     },
     "metadata": {},
     "execution_count": 41
    }
   ],
   "source": [
    "# Counter中值最大的前几个key\n",
    "import collections\n",
    "A=['a','b','b','c','d','b','a']\n",
    "c = collections.Counter(A)\n",
    "c.most_common(2) # 不加参数则输出全部\n"
   ]
  },
  {
   "cell_type": "code",
   "execution_count": 29,
   "metadata": {},
   "outputs": [
    {
     "output_type": "stream",
     "name": "stdout",
     "text": [
      "OrderedDict([('apple', 4), ('banana', 3), ('orange', 2), ('pear', 1)])\nOrderedDict([('pear', 1), ('orange', 2), ('banana', 3), ('apple', 4)])\n"
     ]
    }
   ],
   "source": [
    "# 实现了对字典对象中元素的排序\n",
    "dd = {'banana': 3, 'apple':4, 'pear': 1, 'orange': 2}\n",
    "#按key排序\n",
    "kd = collections.OrderedDict(sorted(dd.items(), key=lambda t: t[0]))\n",
    "print(kd)\n",
    "#按照value排序\n",
    "vd = collections.OrderedDict(sorted(dd.items(),key=lambda t:t[1]))\n",
    "print(vd)"
   ]
  },
  {
   "source": [
    "### Pandas"
   ],
   "cell_type": "markdown",
   "metadata": {}
  },
  {
   "cell_type": "code",
   "execution_count": 1,
   "metadata": {},
   "outputs": [],
   "source": [
    "# 扩展Pandas中显示的列和行数\n",
    "## Pandas表中显示的行和列数量有限，可以根据自己的喜好进行自定义。\n",
    "import pandas as pd\n",
    "pd.set_option('display.max_rows', 500)\n",
    "pd.set_option('display.max_columns', 500)"
   ]
  },
  {
   "source": [
    "### Matplotlib"
   ],
   "cell_type": "markdown",
   "metadata": {}
  },
  {
   "cell_type": "code",
   "execution_count": null,
   "metadata": {},
   "outputs": [],
   "source": [
    "# 创建绘图时，可能会看到此文本“<matplotlib.collections.PathCollection at 0x9fae910>”处\n",
    "## 要隐藏那行文字，可以在代码末尾加上分号"
   ]
  },
  {
   "source": [
    "### numpy"
   ],
   "cell_type": "markdown",
   "metadata": {}
  },
  {
   "cell_type": "code",
   "execution_count": 2,
   "metadata": {},
   "outputs": [
    {
     "output_type": "stream",
     "name": "stdout",
     "text": [
      "1.20.2\nblas_mkl_info:\n  NOT AVAILABLE\nblis_info:\n  NOT AVAILABLE\nopenblas_info:\n    libraries = ['openblas', 'openblas']\n    library_dirs = ['/usr/local/lib']\n    language = c\n    define_macros = [('HAVE_CBLAS', None)]\nblas_opt_info:\n    libraries = ['openblas', 'openblas']\n    library_dirs = ['/usr/local/lib']\n    language = c\n    define_macros = [('HAVE_CBLAS', None)]\nlapack_mkl_info:\n  NOT AVAILABLE\nopenblas_lapack_info:\n    libraries = ['openblas', 'openblas']\n    library_dirs = ['/usr/local/lib']\n    language = c\n    define_macros = [('HAVE_CBLAS', None)]\nlapack_opt_info:\n    libraries = ['openblas', 'openblas']\n    library_dirs = ['/usr/local/lib']\n    language = c\n    define_macros = [('HAVE_CBLAS', None)]\n"
     ]
    }
   ],
   "source": [
    "import numpy as np\n",
    "## numpy版本以及配置\n",
    "print(np.__version__)\n",
    "np.show_config()"
   ]
  },
  {
   "cell_type": "code",
   "execution_count": 8,
   "metadata": {},
   "outputs": [
    {
     "output_type": "stream",
     "name": "stdout",
     "text": [
      "[[0. 0. 0.]\n [0. 0. 0.]]\n[10 11 12 13 14 15 16 17 18 19 20 21 22 23 24 25 26 27 28 29 30 31 32 33\n 34 35 36 37 38 39 40 41 42 43 44 45 46 47 48 49]\n[[0 1 2]\n [3 4 5]\n [6 7 8]]\n"
     ]
    }
   ],
   "source": [
    "## 创建数组\n",
    "print(np.zeros((2,3))) # 这是一个null矩阵\n",
    "print(np.arange(10,50))\n",
    "print(np.arange(9).reshape(3, 3))"
   ]
  },
  {
   "cell_type": "code",
   "execution_count": 5,
   "metadata": {},
   "outputs": [
    {
     "output_type": "stream",
     "name": "stdout",
     "text": [
      "6 x 8 = 48 bytes\n"
     ]
    }
   ],
   "source": [
    "# 确定每个数组的内存大小\n",
    "a = np.zeros((2,3))\n",
    "print(\"%d x %d = %d bytes\" % (a.size, a.itemsize, a.size * a.itemsize))"
   ]
  },
  {
   "cell_type": "code",
   "execution_count": 9,
   "metadata": {},
   "outputs": [
    {
     "output_type": "stream",
     "name": "stdout",
     "text": [
      "(array([0, 1, 4]),)\n"
     ]
    }
   ],
   "source": [
    "# 找非零元素的索引\n",
    "nz = np.nonzero([1,2,0,0,4,0])\n",
    "print(nz)"
   ]
  },
  {
   "cell_type": "code",
   "execution_count": 1,
   "metadata": {},
   "outputs": [
    {
     "output_type": "stream",
     "name": "stdout",
     "text": [
      "[4, 1, 0, 2, 3]\n[3, 5, 1, 2, 4]\n"
     ]
    }
   ],
   "source": [
    "# np.random.shuffle\n",
    "# 打乱顺序\n",
    "import numpy as np\n",
    "idx = list(range(5))\n",
    "np.random.shuffle(idx)\n",
    "print(idx)\n",
    "\n",
    "import random\n",
    "a = [1,5,2,3,4]\n",
    "random.shuffle(a)\n",
    "print(a)"
   ]
  },
  {
   "cell_type": "code",
   "execution_count": null,
   "metadata": {},
   "outputs": [],
   "source": [
    "# np.random.choice(a, size=None, replace=True, p=None)\n",
    "    # 从数组中随机抽取元素\n",
    "    # 从a(只要是ndarray都可以，但必须是一维的)中随机抽取数字，并组成指定大小(size)的数组\n",
    "    # replace:True表示可以取相同数字，False表示不可以取相同数字\n",
    "    # 与数组a相对应，表示取数组a中每个元素的概率，默认为选取每个元素的概率相同"
   ]
  },
  {
   "cell_type": "code",
   "execution_count": 21,
   "metadata": {},
   "outputs": [
    {
     "output_type": "stream",
     "name": "stdout",
     "text": [
      "[-1 -1 -1 -1 -1 -1  1  1  1  1]\n(array([6, 7, 8, 9]),)\n"
     ]
    }
   ],
   "source": [
    "# numpy.where() 有两种用法：\n",
    "# 1、np.where(condition, x, y)：满足条件(condition)，输出x，不满足输出y\n",
    "# 2、np.where(condition)：只有条件 (condition)，没有x和y，则输出满足条件 (即非0) 元素的坐标 (等价于numpy.nonzero)。这里的坐标以tuple的形式给出，通常原数组有多少维，输出的tuple中就包含几个数组，分别对应符合条件元素的各维坐标。\n",
    "aa = np.arange(10)\n",
    "print(np.where(aa > 5,1,-1))\n",
    "print(np.where(aa > 5)) # 返回索引\n",
    "\n"
   ]
  },
  {
   "cell_type": "code",
   "execution_count": 2,
   "metadata": {},
   "outputs": [
    {
     "output_type": "stream",
     "name": "stdout",
     "text": [
      "[3 3 8 3]\n"
     ]
    }
   ],
   "source": [
    "# 值裁剪\n",
    "a=np.array([1,3,79,3])\n",
    "print(np.clip(a,3,8))"
   ]
  },
  {
   "source": [
    "### pandas"
   ],
   "cell_type": "markdown",
   "metadata": {}
  },
  {
   "cell_type": "code",
   "execution_count": null,
   "metadata": {},
   "outputs": [],
   "source": [
    "# pandas.read_excel(path, 'sheet1')"
   ]
  },
  {
   "cell_type": "code",
   "execution_count": null,
   "metadata": {},
   "outputs": [],
   "source": [
    "# df.head() # 默认返回前5行数据"
   ]
  },
  {
   "source": [
    "### 神经元和神经网络实现"
   ],
   "cell_type": "markdown",
   "metadata": {}
  },
  {
   "cell_type": "code",
   "execution_count": null,
   "metadata": {},
   "outputs": [],
   "source": [
    "'''\n",
    "线性回归/逻辑回归\n",
    "or/and 神经元\n",
    "xor\n",
    "'''"
   ]
  },
  {
   "cell_type": "code",
   "execution_count": 15,
   "metadata": {},
   "outputs": [],
   "source": [
    "# Define two vectors (lists): input my_x, weights my_w\n",
    "my_x = [0, 1, 1]\n",
    "my_w = [-10, 10, 5]"
   ]
  },
  {
   "cell_type": "code",
   "execution_count": 16,
   "metadata": {},
   "outputs": [],
   "source": [
    "# Multiply two lists element wise\n",
    "def mul(a, b):\n",
    "    \"\"\"\n",
    "    return a list c, same length as a, element c[i] = a[i] * b[i]\n",
    "    \"len(list)\" and \"[0] * n\" may be useful\n",
    "    \"\"\"\n",
    "    n = len(a)\n",
    "    c = [0] * n\n",
    "    for i in range(n):\n",
    "        c[i] = a[i] * b[i]\n",
    "    return c"
   ]
  },
  {
   "cell_type": "code",
   "execution_count": 17,
   "metadata": {},
   "outputs": [
    {
     "output_type": "execute_result",
     "data": {
      "text/plain": [
       "[0, 10, 5]"
      ]
     },
     "metadata": {},
     "execution_count": 17
    }
   ],
   "source": [
    "# Test mul() function\n",
    "mul(my_x, my_w)"
   ]
  },
  {
   "cell_type": "code",
   "execution_count": 18,
   "metadata": {},
   "outputs": [],
   "source": [
    "# Define a scalar: bias b\n",
    "my_b = -5"
   ]
  },
  {
   "cell_type": "code",
   "execution_count": 19,
   "metadata": {},
   "outputs": [],
   "source": [
    "# Neuron linear (internal) potential\n",
    "def linear_neuron(x, weights, bias):\n",
    "    \"\"\"\n",
    "    return a scalar value representing a scalar neuron\n",
    "    \"sum(list)\" computes the sum of the elements in a list\n",
    "    \"\"\"\n",
    "    return sum(mul(x, weights))+bias"
   ]
  },
  {
   "cell_type": "code",
   "execution_count": 20,
   "metadata": {},
   "outputs": [
    {
     "output_type": "execute_result",
     "data": {
      "text/plain": [
       "10"
      ]
     },
     "metadata": {},
     "execution_count": 20
    }
   ],
   "source": [
    "# Test linear_neuron() function\n",
    "linear_neuron(my_x, my_w, my_b)"
   ]
  },
  {
   "cell_type": "code",
   "execution_count": 21,
   "metadata": {},
   "outputs": [],
   "source": [
    "# Import exp() function (safe on lists)\n",
    "from numpy import exp"
   ]
  },
  {
   "cell_type": "code",
   "execution_count": 22,
   "metadata": {},
   "outputs": [],
   "source": [
    "# Logistic sigmoid\n",
    "def sigmoid(z):\n",
    "    \"\"\"\n",
    "    return the logistic sigmoid (use exp())\n",
    "    \"\"\"\n",
    "    return 1/(1+exp(-z))"
   ]
  },
  {
   "cell_type": "code",
   "execution_count": 23,
   "metadata": {},
   "outputs": [
    {
     "output_type": "stream",
     "name": "stdout",
     "text": [
      "0.0066928509242848554\n0.5\n0.9933071490757153\n"
     ]
    }
   ],
   "source": [
    "# Try out σ() for different z values\n",
    "for z in (-5, 0, 5): print(sigmoid(z))"
   ]
  },
  {
   "cell_type": "code",
   "execution_count": 24,
   "metadata": {},
   "outputs": [],
   "source": [
    "# Import some plotting stuff to graph sigmoid()\n",
    "from numpy import linspace\n",
    "from matplotlib.pyplot import plot, axhline, axvline, grid, style\n",
    "style.use('dark_background')"
   ]
  },
  {
   "cell_type": "code",
   "execution_count": 25,
   "metadata": {},
   "outputs": [
    {
     "output_type": "execute_result",
     "data": {
      "text/plain": [
       "[<matplotlib.lines.Line2D at 0x7f649edbdbd0>]"
      ]
     },
     "metadata": {},
     "execution_count": 25
    },
    {
     "output_type": "display_data",
     "data": {
      "text/plain": "<Figure size 432x288 with 1 Axes>",
      "image/svg+xml": "<?xml version=\"1.0\" encoding=\"utf-8\" standalone=\"no\"?>\n<!DOCTYPE svg PUBLIC \"-//W3C//DTD SVG 1.1//EN\"\n  \"http://www.w3.org/Graphics/SVG/1.1/DTD/svg11.dtd\">\n<svg height=\"248.518125pt\" version=\"1.1\" viewBox=\"0 0 372.103125 248.518125\" width=\"372.103125pt\" xmlns=\"http://www.w3.org/2000/svg\" xmlns:xlink=\"http://www.w3.org/1999/xlink\">\n <metadata>\n  <rdf:RDF xmlns:cc=\"http://creativecommons.org/ns#\" xmlns:dc=\"http://purl.org/dc/elements/1.1/\" xmlns:rdf=\"http://www.w3.org/1999/02/22-rdf-syntax-ns#\">\n   <cc:Work>\n    <dc:type rdf:resource=\"http://purl.org/dc/dcmitype/StillImage\"/>\n    <dc:date>2021-06-09T17:29:51.465457</dc:date>\n    <dc:format>image/svg+xml</dc:format>\n    <dc:creator>\n     <cc:Agent>\n      <dc:title>Matplotlib v3.4.1, https://matplotlib.org/</dc:title>\n     </cc:Agent>\n    </dc:creator>\n   </cc:Work>\n  </rdf:RDF>\n </metadata>\n <defs>\n  <style type=\"text/css\">*{stroke-linecap:butt;stroke-linejoin:round;}</style>\n </defs>\n <g id=\"figure_1\">\n  <g id=\"patch_1\">\n   <path d=\"M 0 248.518125 \nL 372.103125 248.518125 \nL 372.103125 0 \nL 0 0 \nz\n\"/>\n  </g>\n  <g id=\"axes_1\">\n   <g id=\"patch_2\">\n    <path d=\"M 30.103125 224.64 \nL 364.903125 224.64 \nL 364.903125 7.2 \nL 30.103125 7.2 \nz\n\"/>\n   </g>\n   <g id=\"matplotlib.axis_1\">\n    <g id=\"xtick_1\">\n     <g id=\"line2d_1\">\n      <path clip-path=\"url(#p76883ff678)\" d=\"M 35.175852 224.64 \nL 35.175852 7.2 \n\" style=\"fill:none;stroke:#1a1a1a;stroke-dasharray:2.96,1.28;stroke-dashoffset:0;stroke-width:0.8;\"/>\n     </g>\n     <g id=\"line2d_2\">\n      <defs>\n       <path d=\"M 0 0 \nL 0 3.5 \n\" id=\"mb3526d15f8\" style=\"stroke:#ffffff;stroke-width:0.8;\"/>\n      </defs>\n      <g>\n       <use style=\"fill:#ffffff;stroke:#ffffff;stroke-width:0.8;\" x=\"35.175852\" xlink:href=\"#mb3526d15f8\" y=\"224.64\"/>\n      </g>\n     </g>\n     <g id=\"text_1\">\n      <!-- −8 -->\n      <g style=\"fill:#ffffff;\" transform=\"translate(27.804759 239.238437)scale(0.1 -0.1)\">\n       <defs>\n        <path d=\"M 678 2272 \nL 4684 2272 \nL 4684 1741 \nL 678 1741 \nL 678 2272 \nz\n\" id=\"DejaVuSans-2212\" transform=\"scale(0.015625)\"/>\n        <path d=\"M 2034 2216 \nQ 1584 2216 1326 1975 \nQ 1069 1734 1069 1313 \nQ 1069 891 1326 650 \nQ 1584 409 2034 409 \nQ 2484 409 2743 651 \nQ 3003 894 3003 1313 \nQ 3003 1734 2745 1975 \nQ 2488 2216 2034 2216 \nz\nM 1403 2484 \nQ 997 2584 770 2862 \nQ 544 3141 544 3541 \nQ 544 4100 942 4425 \nQ 1341 4750 2034 4750 \nQ 2731 4750 3128 4425 \nQ 3525 4100 3525 3541 \nQ 3525 3141 3298 2862 \nQ 3072 2584 2669 2484 \nQ 3125 2378 3379 2068 \nQ 3634 1759 3634 1313 \nQ 3634 634 3220 271 \nQ 2806 -91 2034 -91 \nQ 1263 -91 848 271 \nQ 434 634 434 1313 \nQ 434 1759 690 2068 \nQ 947 2378 1403 2484 \nz\nM 1172 3481 \nQ 1172 3119 1398 2916 \nQ 1625 2713 2034 2713 \nQ 2441 2713 2670 2916 \nQ 2900 3119 2900 3481 \nQ 2900 3844 2670 4047 \nQ 2441 4250 2034 4250 \nQ 1625 4250 1398 4047 \nQ 1172 3844 1172 3481 \nz\n\" id=\"DejaVuSans-38\" transform=\"scale(0.015625)\"/>\n       </defs>\n       <use xlink:href=\"#DejaVuSans-2212\"/>\n       <use x=\"83.789062\" xlink:href=\"#DejaVuSans-38\"/>\n      </g>\n     </g>\n    </g>\n    <g id=\"xtick_2\">\n     <g id=\"line2d_3\">\n      <path clip-path=\"url(#p76883ff678)\" d=\"M 75.75767 224.64 \nL 75.75767 7.2 \n\" style=\"fill:none;stroke:#1a1a1a;stroke-dasharray:2.96,1.28;stroke-dashoffset:0;stroke-width:0.8;\"/>\n     </g>\n     <g id=\"line2d_4\">\n      <g>\n       <use style=\"fill:#ffffff;stroke:#ffffff;stroke-width:0.8;\" x=\"75.75767\" xlink:href=\"#mb3526d15f8\" y=\"224.64\"/>\n      </g>\n     </g>\n     <g id=\"text_2\">\n      <!-- −6 -->\n      <g style=\"fill:#ffffff;\" transform=\"translate(68.386577 239.238437)scale(0.1 -0.1)\">\n       <defs>\n        <path d=\"M 2113 2584 \nQ 1688 2584 1439 2293 \nQ 1191 2003 1191 1497 \nQ 1191 994 1439 701 \nQ 1688 409 2113 409 \nQ 2538 409 2786 701 \nQ 3034 994 3034 1497 \nQ 3034 2003 2786 2293 \nQ 2538 2584 2113 2584 \nz\nM 3366 4563 \nL 3366 3988 \nQ 3128 4100 2886 4159 \nQ 2644 4219 2406 4219 \nQ 1781 4219 1451 3797 \nQ 1122 3375 1075 2522 \nQ 1259 2794 1537 2939 \nQ 1816 3084 2150 3084 \nQ 2853 3084 3261 2657 \nQ 3669 2231 3669 1497 \nQ 3669 778 3244 343 \nQ 2819 -91 2113 -91 \nQ 1303 -91 875 529 \nQ 447 1150 447 2328 \nQ 447 3434 972 4092 \nQ 1497 4750 2381 4750 \nQ 2619 4750 2861 4703 \nQ 3103 4656 3366 4563 \nz\n\" id=\"DejaVuSans-36\" transform=\"scale(0.015625)\"/>\n       </defs>\n       <use xlink:href=\"#DejaVuSans-2212\"/>\n       <use x=\"83.789062\" xlink:href=\"#DejaVuSans-36\"/>\n      </g>\n     </g>\n    </g>\n    <g id=\"xtick_3\">\n     <g id=\"line2d_5\">\n      <path clip-path=\"url(#p76883ff678)\" d=\"M 116.339489 224.64 \nL 116.339489 7.2 \n\" style=\"fill:none;stroke:#1a1a1a;stroke-dasharray:2.96,1.28;stroke-dashoffset:0;stroke-width:0.8;\"/>\n     </g>\n     <g id=\"line2d_6\">\n      <g>\n       <use style=\"fill:#ffffff;stroke:#ffffff;stroke-width:0.8;\" x=\"116.339489\" xlink:href=\"#mb3526d15f8\" y=\"224.64\"/>\n      </g>\n     </g>\n     <g id=\"text_3\">\n      <!-- −4 -->\n      <g style=\"fill:#ffffff;\" transform=\"translate(108.968395 239.238437)scale(0.1 -0.1)\">\n       <defs>\n        <path d=\"M 2419 4116 \nL 825 1625 \nL 2419 1625 \nL 2419 4116 \nz\nM 2253 4666 \nL 3047 4666 \nL 3047 1625 \nL 3713 1625 \nL 3713 1100 \nL 3047 1100 \nL 3047 0 \nL 2419 0 \nL 2419 1100 \nL 313 1100 \nL 313 1709 \nL 2253 4666 \nz\n\" id=\"DejaVuSans-34\" transform=\"scale(0.015625)\"/>\n       </defs>\n       <use xlink:href=\"#DejaVuSans-2212\"/>\n       <use x=\"83.789062\" xlink:href=\"#DejaVuSans-34\"/>\n      </g>\n     </g>\n    </g>\n    <g id=\"xtick_4\">\n     <g id=\"line2d_7\">\n      <path clip-path=\"url(#p76883ff678)\" d=\"M 156.921307 224.64 \nL 156.921307 7.2 \n\" style=\"fill:none;stroke:#1a1a1a;stroke-dasharray:2.96,1.28;stroke-dashoffset:0;stroke-width:0.8;\"/>\n     </g>\n     <g id=\"line2d_8\">\n      <g>\n       <use style=\"fill:#ffffff;stroke:#ffffff;stroke-width:0.8;\" x=\"156.921307\" xlink:href=\"#mb3526d15f8\" y=\"224.64\"/>\n      </g>\n     </g>\n     <g id=\"text_4\">\n      <!-- −2 -->\n      <g style=\"fill:#ffffff;\" transform=\"translate(149.550213 239.238437)scale(0.1 -0.1)\">\n       <defs>\n        <path d=\"M 1228 531 \nL 3431 531 \nL 3431 0 \nL 469 0 \nL 469 531 \nQ 828 903 1448 1529 \nQ 2069 2156 2228 2338 \nQ 2531 2678 2651 2914 \nQ 2772 3150 2772 3378 \nQ 2772 3750 2511 3984 \nQ 2250 4219 1831 4219 \nQ 1534 4219 1204 4116 \nQ 875 4013 500 3803 \nL 500 4441 \nQ 881 4594 1212 4672 \nQ 1544 4750 1819 4750 \nQ 2544 4750 2975 4387 \nQ 3406 4025 3406 3419 \nQ 3406 3131 3298 2873 \nQ 3191 2616 2906 2266 \nQ 2828 2175 2409 1742 \nQ 1991 1309 1228 531 \nz\n\" id=\"DejaVuSans-32\" transform=\"scale(0.015625)\"/>\n       </defs>\n       <use xlink:href=\"#DejaVuSans-2212\"/>\n       <use x=\"83.789062\" xlink:href=\"#DejaVuSans-32\"/>\n      </g>\n     </g>\n    </g>\n    <g id=\"xtick_5\">\n     <g id=\"line2d_9\">\n      <path clip-path=\"url(#p76883ff678)\" d=\"M 197.503125 224.64 \nL 197.503125 7.2 \n\" style=\"fill:none;stroke:#1a1a1a;stroke-dasharray:2.96,1.28;stroke-dashoffset:0;stroke-width:0.8;\"/>\n     </g>\n     <g id=\"line2d_10\">\n      <g>\n       <use style=\"fill:#ffffff;stroke:#ffffff;stroke-width:0.8;\" x=\"197.503125\" xlink:href=\"#mb3526d15f8\" y=\"224.64\"/>\n      </g>\n     </g>\n     <g id=\"text_5\">\n      <!-- 0 -->\n      <g style=\"fill:#ffffff;\" transform=\"translate(194.321875 239.238437)scale(0.1 -0.1)\">\n       <defs>\n        <path d=\"M 2034 4250 \nQ 1547 4250 1301 3770 \nQ 1056 3291 1056 2328 \nQ 1056 1369 1301 889 \nQ 1547 409 2034 409 \nQ 2525 409 2770 889 \nQ 3016 1369 3016 2328 \nQ 3016 3291 2770 3770 \nQ 2525 4250 2034 4250 \nz\nM 2034 4750 \nQ 2819 4750 3233 4129 \nQ 3647 3509 3647 2328 \nQ 3647 1150 3233 529 \nQ 2819 -91 2034 -91 \nQ 1250 -91 836 529 \nQ 422 1150 422 2328 \nQ 422 3509 836 4129 \nQ 1250 4750 2034 4750 \nz\n\" id=\"DejaVuSans-30\" transform=\"scale(0.015625)\"/>\n       </defs>\n       <use xlink:href=\"#DejaVuSans-30\"/>\n      </g>\n     </g>\n    </g>\n    <g id=\"xtick_6\">\n     <g id=\"line2d_11\">\n      <path clip-path=\"url(#p76883ff678)\" d=\"M 238.084943 224.64 \nL 238.084943 7.2 \n\" style=\"fill:none;stroke:#1a1a1a;stroke-dasharray:2.96,1.28;stroke-dashoffset:0;stroke-width:0.8;\"/>\n     </g>\n     <g id=\"line2d_12\">\n      <g>\n       <use style=\"fill:#ffffff;stroke:#ffffff;stroke-width:0.8;\" x=\"238.084943\" xlink:href=\"#mb3526d15f8\" y=\"224.64\"/>\n      </g>\n     </g>\n     <g id=\"text_6\">\n      <!-- 2 -->\n      <g style=\"fill:#ffffff;\" transform=\"translate(234.903693 239.238437)scale(0.1 -0.1)\">\n       <use xlink:href=\"#DejaVuSans-32\"/>\n      </g>\n     </g>\n    </g>\n    <g id=\"xtick_7\">\n     <g id=\"line2d_13\">\n      <path clip-path=\"url(#p76883ff678)\" d=\"M 278.666761 224.64 \nL 278.666761 7.2 \n\" style=\"fill:none;stroke:#1a1a1a;stroke-dasharray:2.96,1.28;stroke-dashoffset:0;stroke-width:0.8;\"/>\n     </g>\n     <g id=\"line2d_14\">\n      <g>\n       <use style=\"fill:#ffffff;stroke:#ffffff;stroke-width:0.8;\" x=\"278.666761\" xlink:href=\"#mb3526d15f8\" y=\"224.64\"/>\n      </g>\n     </g>\n     <g id=\"text_7\">\n      <!-- 4 -->\n      <g style=\"fill:#ffffff;\" transform=\"translate(275.485511 239.238437)scale(0.1 -0.1)\">\n       <use xlink:href=\"#DejaVuSans-34\"/>\n      </g>\n     </g>\n    </g>\n    <g id=\"xtick_8\">\n     <g id=\"line2d_15\">\n      <path clip-path=\"url(#p76883ff678)\" d=\"M 319.24858 224.64 \nL 319.24858 7.2 \n\" style=\"fill:none;stroke:#1a1a1a;stroke-dasharray:2.96,1.28;stroke-dashoffset:0;stroke-width:0.8;\"/>\n     </g>\n     <g id=\"line2d_16\">\n      <g>\n       <use style=\"fill:#ffffff;stroke:#ffffff;stroke-width:0.8;\" x=\"319.24858\" xlink:href=\"#mb3526d15f8\" y=\"224.64\"/>\n      </g>\n     </g>\n     <g id=\"text_8\">\n      <!-- 6 -->\n      <g style=\"fill:#ffffff;\" transform=\"translate(316.06733 239.238437)scale(0.1 -0.1)\">\n       <use xlink:href=\"#DejaVuSans-36\"/>\n      </g>\n     </g>\n    </g>\n    <g id=\"xtick_9\">\n     <g id=\"line2d_17\">\n      <path clip-path=\"url(#p76883ff678)\" d=\"M 359.830398 224.64 \nL 359.830398 7.2 \n\" style=\"fill:none;stroke:#1a1a1a;stroke-dasharray:2.96,1.28;stroke-dashoffset:0;stroke-width:0.8;\"/>\n     </g>\n     <g id=\"line2d_18\">\n      <g>\n       <use style=\"fill:#ffffff;stroke:#ffffff;stroke-width:0.8;\" x=\"359.830398\" xlink:href=\"#mb3526d15f8\" y=\"224.64\"/>\n      </g>\n     </g>\n     <g id=\"text_9\">\n      <!-- 8 -->\n      <g style=\"fill:#ffffff;\" transform=\"translate(356.649148 239.238437)scale(0.1 -0.1)\">\n       <use xlink:href=\"#DejaVuSans-38\"/>\n      </g>\n     </g>\n    </g>\n   </g>\n   <g id=\"matplotlib.axis_2\">\n    <g id=\"ytick_1\">\n     <g id=\"line2d_19\">\n      <path clip-path=\"url(#p76883ff678)\" d=\"M 30.103125 214.756364 \nL 364.903125 214.756364 \n\" style=\"fill:none;stroke:#1a1a1a;stroke-dasharray:2.96,1.28;stroke-dashoffset:0;stroke-width:0.8;\"/>\n     </g>\n     <g id=\"line2d_20\">\n      <defs>\n       <path d=\"M 0 0 \nL -3.5 0 \n\" id=\"m4ab493b4bb\" style=\"stroke:#ffffff;stroke-width:0.8;\"/>\n      </defs>\n      <g>\n       <use style=\"fill:#ffffff;stroke:#ffffff;stroke-width:0.8;\" x=\"30.103125\" xlink:href=\"#m4ab493b4bb\" y=\"214.756364\"/>\n      </g>\n     </g>\n     <g id=\"text_10\">\n      <!-- 0.0 -->\n      <g style=\"fill:#ffffff;\" transform=\"translate(7.2 218.555582)scale(0.1 -0.1)\">\n       <defs>\n        <path d=\"M 684 794 \nL 1344 794 \nL 1344 0 \nL 684 0 \nL 684 794 \nz\n\" id=\"DejaVuSans-2e\" transform=\"scale(0.015625)\"/>\n       </defs>\n       <use xlink:href=\"#DejaVuSans-30\"/>\n       <use x=\"63.623047\" xlink:href=\"#DejaVuSans-2e\"/>\n       <use x=\"95.410156\" xlink:href=\"#DejaVuSans-30\"/>\n      </g>\n     </g>\n    </g>\n    <g id=\"ytick_2\">\n     <g id=\"line2d_21\">\n      <path clip-path=\"url(#p76883ff678)\" d=\"M 30.103125 175.199952 \nL 364.903125 175.199952 \n\" style=\"fill:none;stroke:#1a1a1a;stroke-dasharray:2.96,1.28;stroke-dashoffset:0;stroke-width:0.8;\"/>\n     </g>\n     <g id=\"line2d_22\">\n      <g>\n       <use style=\"fill:#ffffff;stroke:#ffffff;stroke-width:0.8;\" x=\"30.103125\" xlink:href=\"#m4ab493b4bb\" y=\"175.199952\"/>\n      </g>\n     </g>\n     <g id=\"text_11\">\n      <!-- 0.2 -->\n      <g style=\"fill:#ffffff;\" transform=\"translate(7.2 178.999171)scale(0.1 -0.1)\">\n       <use xlink:href=\"#DejaVuSans-30\"/>\n       <use x=\"63.623047\" xlink:href=\"#DejaVuSans-2e\"/>\n       <use x=\"95.410156\" xlink:href=\"#DejaVuSans-32\"/>\n      </g>\n     </g>\n    </g>\n    <g id=\"ytick_3\">\n     <g id=\"line2d_23\">\n      <path clip-path=\"url(#p76883ff678)\" d=\"M 30.103125 135.643541 \nL 364.903125 135.643541 \n\" style=\"fill:none;stroke:#1a1a1a;stroke-dasharray:2.96,1.28;stroke-dashoffset:0;stroke-width:0.8;\"/>\n     </g>\n     <g id=\"line2d_24\">\n      <g>\n       <use style=\"fill:#ffffff;stroke:#ffffff;stroke-width:0.8;\" x=\"30.103125\" xlink:href=\"#m4ab493b4bb\" y=\"135.643541\"/>\n      </g>\n     </g>\n     <g id=\"text_12\">\n      <!-- 0.4 -->\n      <g style=\"fill:#ffffff;\" transform=\"translate(7.2 139.44276)scale(0.1 -0.1)\">\n       <use xlink:href=\"#DejaVuSans-30\"/>\n       <use x=\"63.623047\" xlink:href=\"#DejaVuSans-2e\"/>\n       <use x=\"95.410156\" xlink:href=\"#DejaVuSans-34\"/>\n      </g>\n     </g>\n    </g>\n    <g id=\"ytick_4\">\n     <g id=\"line2d_25\">\n      <path clip-path=\"url(#p76883ff678)\" d=\"M 30.103125 96.087129 \nL 364.903125 96.087129 \n\" style=\"fill:none;stroke:#1a1a1a;stroke-dasharray:2.96,1.28;stroke-dashoffset:0;stroke-width:0.8;\"/>\n     </g>\n     <g id=\"line2d_26\">\n      <g>\n       <use style=\"fill:#ffffff;stroke:#ffffff;stroke-width:0.8;\" x=\"30.103125\" xlink:href=\"#m4ab493b4bb\" y=\"96.087129\"/>\n      </g>\n     </g>\n     <g id=\"text_13\">\n      <!-- 0.6 -->\n      <g style=\"fill:#ffffff;\" transform=\"translate(7.2 99.886348)scale(0.1 -0.1)\">\n       <use xlink:href=\"#DejaVuSans-30\"/>\n       <use x=\"63.623047\" xlink:href=\"#DejaVuSans-2e\"/>\n       <use x=\"95.410156\" xlink:href=\"#DejaVuSans-36\"/>\n      </g>\n     </g>\n    </g>\n    <g id=\"ytick_5\">\n     <g id=\"line2d_27\">\n      <path clip-path=\"url(#p76883ff678)\" d=\"M 30.103125 56.530718 \nL 364.903125 56.530718 \n\" style=\"fill:none;stroke:#1a1a1a;stroke-dasharray:2.96,1.28;stroke-dashoffset:0;stroke-width:0.8;\"/>\n     </g>\n     <g id=\"line2d_28\">\n      <g>\n       <use style=\"fill:#ffffff;stroke:#ffffff;stroke-width:0.8;\" x=\"30.103125\" xlink:href=\"#m4ab493b4bb\" y=\"56.530718\"/>\n      </g>\n     </g>\n     <g id=\"text_14\">\n      <!-- 0.8 -->\n      <g style=\"fill:#ffffff;\" transform=\"translate(7.2 60.329937)scale(0.1 -0.1)\">\n       <use xlink:href=\"#DejaVuSans-30\"/>\n       <use x=\"63.623047\" xlink:href=\"#DejaVuSans-2e\"/>\n       <use x=\"95.410156\" xlink:href=\"#DejaVuSans-38\"/>\n      </g>\n     </g>\n    </g>\n    <g id=\"ytick_6\">\n     <g id=\"line2d_29\">\n      <path clip-path=\"url(#p76883ff678)\" d=\"M 30.103125 16.974307 \nL 364.903125 16.974307 \n\" style=\"fill:none;stroke:#1a1a1a;stroke-dasharray:2.96,1.28;stroke-dashoffset:0;stroke-width:0.8;\"/>\n     </g>\n     <g id=\"line2d_30\">\n      <g>\n       <use style=\"fill:#ffffff;stroke:#ffffff;stroke-width:0.8;\" x=\"30.103125\" xlink:href=\"#m4ab493b4bb\" y=\"16.974307\"/>\n      </g>\n     </g>\n     <g id=\"text_15\">\n      <!-- 1.0 -->\n      <g style=\"fill:#ffffff;\" transform=\"translate(7.2 20.773525)scale(0.1 -0.1)\">\n       <defs>\n        <path d=\"M 794 531 \nL 1825 531 \nL 1825 4091 \nL 703 3866 \nL 703 4441 \nL 1819 4666 \nL 2450 4666 \nL 2450 531 \nL 3481 531 \nL 3481 0 \nL 794 0 \nL 794 531 \nz\n\" id=\"DejaVuSans-31\" transform=\"scale(0.015625)\"/>\n       </defs>\n       <use xlink:href=\"#DejaVuSans-31\"/>\n       <use x=\"63.623047\" xlink:href=\"#DejaVuSans-2e\"/>\n       <use x=\"95.410156\" xlink:href=\"#DejaVuSans-30\"/>\n      </g>\n     </g>\n    </g>\n   </g>\n   <g id=\"line2d_31\">\n    <path clip-path=\"url(#p76883ff678)\" d=\"M 30.103125 214.756364 \nL 364.903125 214.756364 \n\" style=\"fill:none;stroke:#333333;stroke-linecap:square;stroke-width:1.5;\"/>\n   </g>\n   <g id=\"line2d_32\">\n    <path clip-path=\"url(#p76883ff678)\" d=\"M 197.503125 224.64 \nL 197.503125 7.2 \n\" style=\"fill:none;stroke:#333333;stroke-linecap:square;stroke-width:1.5;\"/>\n   </g>\n   <g id=\"line2d_33\">\n    <path clip-path=\"url(#p76883ff678)\" d=\"M 45.321307 214.647034 \nL 51.53281 214.607907 \nL 57.744312 214.554792 \nL 63.955815 214.482699 \nL 70.167318 214.38487 \nL 76.378821 214.25216 \nL 82.590324 214.072205 \nL 88.801826 213.828324 \nL 95.013329 213.498062 \nL 101.224832 213.051288 \nL 107.436335 212.447746 \nL 113.647837 211.633971 \nL 119.85934 210.539533 \nL 126.070843 209.072681 \nL 132.282346 207.115716 \nL 138.493849 204.520846 \nL 144.705351 201.107979 \nL 150.916854 196.666907 \nL 157.128357 190.967443 \nL 163.33986 183.781784 \nL 169.551362 174.922542 \nL 175.762865 164.29593 \nL 181.974368 151.961478 \nL 188.185871 138.179206 \nL 194.397374 123.418785 \nL 200.608876 108.311885 \nL 206.820379 93.551464 \nL 213.031882 79.769192 \nL 219.243385 67.43474 \nL 225.454888 56.808128 \nL 231.66639 47.948886 \nL 237.877893 40.763227 \nL 244.089396 35.063763 \nL 250.300899 30.622691 \nL 256.512401 27.209824 \nL 262.723904 24.614954 \nL 268.935407 22.65799 \nL 275.14691 21.191138 \nL 281.358413 20.0967 \nL 287.569915 19.282924 \nL 293.781418 18.679382 \nL 299.992921 18.232608 \nL 306.204424 17.902347 \nL 312.415926 17.658466 \nL 318.627429 17.478511 \nL 324.838932 17.3458 \nL 331.050435 17.247971 \nL 337.261938 17.175879 \nL 343.47344 17.122763 \nL 349.684943 17.083636 \n\" style=\"fill:none;stroke:#8dd3c7;stroke-linecap:square;stroke-width:1.5;\"/>\n   </g>\n   <g id=\"patch_3\">\n    <path d=\"M 30.103125 224.64 \nL 30.103125 7.2 \n\" style=\"fill:none;stroke:#ffffff;stroke-linecap:square;stroke-linejoin:miter;stroke-width:0.8;\"/>\n   </g>\n   <g id=\"patch_4\">\n    <path d=\"M 364.903125 224.64 \nL 364.903125 7.2 \n\" style=\"fill:none;stroke:#ffffff;stroke-linecap:square;stroke-linejoin:miter;stroke-width:0.8;\"/>\n   </g>\n   <g id=\"patch_5\">\n    <path d=\"M 30.103125 224.64 \nL 364.903125 224.64 \n\" style=\"fill:none;stroke:#ffffff;stroke-linecap:square;stroke-linejoin:miter;stroke-width:0.8;\"/>\n   </g>\n   <g id=\"patch_6\">\n    <path d=\"M 30.103125 7.2 \nL 364.903125 7.2 \n\" style=\"fill:none;stroke:#ffffff;stroke-linecap:square;stroke-linejoin:miter;stroke-width:0.8;\"/>\n   </g>\n  </g>\n </g>\n <defs>\n  <clipPath id=\"p76883ff678\">\n   <rect height=\"217.44\" width=\"334.8\" x=\"30.103125\" y=\"7.2\"/>\n  </clipPath>\n </defs>\n</svg>\n",
      "image/png": "[encoded data removed]"
     },
     "metadata": {}
    }
   ],
   "source": [
    "# Get a pair of axis and grid lines centred in (0, 0)\n",
    "axhline(c='.2'); axvline(color='.2')\n",
    "grid(c='.1', ls='--')\n",
    "\n",
    "# Plot across a span of numbers\n",
    "z = linspace(-7.5, 7.5)\n",
    "plot(z, sigmoid(z))"
   ]
  },
  {
   "cell_type": "code",
   "execution_count": 26,
   "metadata": {},
   "outputs": [],
   "source": [
    "# Full neuron function\n",
    "def neuron(x, weights, bias):\n",
    "    \"\"\"\n",
    "    Return a classical neuron output (reuse code above)\n",
    "    \"\"\"\n",
    "    return sigmoid(sum(mul(x, weights))+bias)"
   ]
  },
  {
   "cell_type": "code",
   "execution_count": 27,
   "metadata": {},
   "outputs": [
    {
     "output_type": "execute_result",
     "data": {
      "text/plain": [
       "0.9999546021312976"
      ]
     },
     "metadata": {},
     "execution_count": 27
    }
   ],
   "source": [
    "# Test neuron() function\n",
    "neuron(my_x, my_w, my_b)"
   ]
  },
  {
   "cell_type": "code",
   "execution_count": 28,
   "metadata": {},
   "outputs": [],
   "source": [
    "def or_neuron(x):\n",
    "    \"\"\"\n",
    "    Return x1 OR x2 (x1 + x2)\n",
    "    \"\"\"\n",
    "    return x[0] or x[1] "
   ]
  },
  {
   "cell_type": "code",
   "execution_count": 29,
   "metadata": {},
   "outputs": [],
   "source": [
    "# Defina a collection of inputs to test OR and AND\n",
    "my_x_collection = [\n",
    "    [0, 0],\n",
    "    [0, 1],\n",
    "    [1, 0],\n",
    "    [1, 1],\n",
    "]"
   ]
  },
  {
   "cell_type": "code",
   "execution_count": 30,
   "metadata": {},
   "outputs": [
    {
     "output_type": "stream",
     "name": "stdout",
     "text": [
      "Checking OR neuron output\n[0, 0] 0.000\n[0, 1] 1.000\n[1, 0] 1.000\n[1, 1] 1.000\n"
     ]
    }
   ],
   "source": [
    "print('Checking OR neuron output')\n",
    "for my_x in my_x_collection:\n",
    "    print(my_x, f'{or_neuron(my_x):.3f}')"
   ]
  },
  {
   "cell_type": "code",
   "execution_count": 31,
   "metadata": {},
   "outputs": [],
   "source": [
    "# Package AND neuron weights and bias\n",
    "def and_neuron(x):\n",
    "    \"\"\"\n",
    "    Return x1 AND x2 (x1 * x2)\n",
    "    \"\"\"\n",
    "    return x[0] and x[1]"
   ]
  },
  {
   "cell_type": "code",
   "execution_count": 32,
   "metadata": {},
   "outputs": [
    {
     "output_type": "stream",
     "name": "stdout",
     "text": [
      "Checking AND neuron output\n[0, 0] 0.000\n[0, 1] 0.000\n[1, 0] 0.000\n[1, 1] 1.000\n"
     ]
    }
   ],
   "source": [
    "print('Checking AND neuron output')\n",
    "for my_x in my_x_collection:\n",
    "    print(my_x, f'{and_neuron(my_x):.3f}')"
   ]
  },
  {
   "cell_type": "code",
   "execution_count": 33,
   "metadata": {},
   "outputs": [],
   "source": [
    "def not_neuron(x):\n",
    "    \"\"\"\n",
    "    Return NOT x1 (x1_)\n",
    "    \"\"\"\n",
    "    return not x[0]"
   ]
  },
  {
   "cell_type": "code",
   "execution_count": 34,
   "metadata": {},
   "outputs": [
    {
     "output_type": "stream",
     "name": "stdout",
     "text": [
      "Checking NOT neuron output\n[0] 1.000\n[1] 0.000\n"
     ]
    }
   ],
   "source": [
    "print('Checking NOT neuron output')\n",
    "for my_x in [[0], [1]]:\n",
    "    print(my_x, f'{not_neuron(my_x):.3f}')"
   ]
  },
  {
   "cell_type": "code",
   "execution_count": 35,
   "metadata": {},
   "outputs": [],
   "source": [
    "# Combine OR, AND, and NOT into a XOR neuron\n",
    "def xor_neuron(x):\n",
    "    \"\"\"\n",
    "    Return x1_ * x2 + x1 * x2_\n",
    "    \"\"\"\n",
    "    return (not x[0]) and x[1] or x[0] and (not x[1])"
   ]
  },
  {
   "cell_type": "code",
   "execution_count": 36,
   "metadata": {},
   "outputs": [
    {
     "output_type": "stream",
     "name": "stdout",
     "text": [
      "Checking XOR neuron output\n[0, 0] 0.000\n[0, 1] 1.000\n[1, 0] 1.000\n[1, 1] 0.000\n"
     ]
    }
   ],
   "source": [
    "print('Checking XOR neuron output')\n",
    "for my_x in my_x_collection:\n",
    "    print(my_x, f'{xor_neuron(my_x):.3f}')"
   ]
  },
  {
   "cell_type": "code",
   "execution_count": null,
   "metadata": {},
   "outputs": [],
   "source": []
  }
 ]
}