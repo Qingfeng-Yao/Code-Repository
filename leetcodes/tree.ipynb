{
 "metadata": {
  "language_info": {
   "codemirror_mode": {
    "name": "ipython",
    "version": 3
   },
   "file_extension": ".py",
   "mimetype": "text/x-python",
   "name": "python",
   "nbconvert_exporter": "python",
   "pygments_lexer": "ipython3",
   "version": 3
  },
  "orig_nbformat": 2
 },
 "nbformat": 4,
 "nbformat_minor": 2,
 "cells": [
  {
   "cell_type": "code",
   "execution_count": null,
   "metadata": {},
   "outputs": [],
   "source": [
    "'''\n",
    "1、递归: 700 | 617\n",
    "    三种遍历:\n",
    "        前序遍历: 中左右\n",
    "        中序遍历: 左中右\n",
    "        后序遍历: 左右中\n",
    "    深度优先搜索dfs: 965 | 538 | 872\n",
    "2、迭代: \n",
    "    引入while循环: 700\n",
    "    结合队列: \n",
    "        广度优先搜索bfs: 617\n",
    "        层相关: 637 | 429 | 590\n",
    "3、二叉搜索树\n",
    "    每个结点大于左子树上任意一个节点的值，小于右子树上任意一个节点的值\n",
    "4、新建一棵树\n",
    "    根据列表中的节点值，创建等价的只含有右节点的二叉搜索树，其过程等价于根据节点值创建一个链表: 897\n",
    "'''"
   ]
  },
  {
   "cell_type": "code",
   "execution_count": null,
   "metadata": {},
   "outputs": [],
   "source": [
    "# 二叉树的定义\n",
    "class TreeNode:\n",
    "    def __init__(self, x):\n",
    "        self.val = x\n",
    "        self.left = None\n",
    "        self.right = None\n",
    "\n",
    "# 二叉树的前序遍历\n",
    "def pre_order(root):\n",
    "    #根节点非空入队列递归遍历\n",
    "    if root:\n",
    "        #节点值入队列\n",
    "        result.append(root.val)\n",
    "        #递归遍历左节点\n",
    "        pre_order(root.left)\n",
    "        #递归遍历右节点\n",
    "        pre_order(root.right)\n",
    "\n",
    "# 二叉树的中序遍历\n",
    "def in_order(root):\n",
    "    #根节点非空入队列递归遍历\n",
    "    if root:\n",
    "        #递归遍历左节点\n",
    "        in_order(root.left)\n",
    "        #节点值入队列\n",
    "        result.append(root.val)\n",
    "        #递归遍历右节点\n",
    "        in_order(root.right)\n",
    "\n",
    "# 二叉树的后序遍历\n",
    "def post_order(root):\n",
    "    #根节点非空入队列递归遍历\n",
    "    if root:\n",
    "        #递归遍历左节点\n",
    "        post_order(root.left)\n",
    "        #递归遍历右节点\n",
    "        post_order(root.right)\n",
    "        #节点值入队列\n",
    "        result.append(root.val)"
   ]
  },
  {
   "source": [
    "### 700: 二叉搜索树中的搜索"
   ],
   "cell_type": "markdown",
   "metadata": {}
  },
  {
   "cell_type": "code",
   "execution_count": null,
   "metadata": {},
   "outputs": [],
   "source": [
    "def searchBST(root: TreeNode, val: int) -> TreeNode: # 递归\n",
    "    if root is None or val == root.val:\n",
    "        return root\n",
    "    \n",
    "    return searchBST(root.left, val) if val < root.val else searchBST(root.right, val)\n",
    "\n",
    "def searchBST(root: TreeNode, val: int) -> TreeNode: # 迭代\n",
    "    while root is not None and root.val != val:\n",
    "        root = root.left if val < root.val else root.right\n",
    "    return root"
   ]
  },
  {
   "source": [
    "### 617: 合并二叉树"
   ],
   "cell_type": "markdown",
   "metadata": {}
  },
  {
   "cell_type": "code",
   "execution_count": null,
   "metadata": {},
   "outputs": [],
   "source": [
    "def mergeTrees(t1: TreeNode, t2: TreeNode) -> TreeNode:\n",
    "    if not t1:\n",
    "        return t2\n",
    "    if not t2:\n",
    "        return t1\n",
    "    \n",
    "    merged = TreeNode(t1.val + t2.val)\n",
    "    merged.left = mergeTrees(t1.left, t2.left)\n",
    "    merged.right = mergeTrees(t1.right, t2.right)\n",
    "    return merged\n",
    "\n",
    "def mergeTrees(t1: TreeNode, t2: TreeNode) -> TreeNode: # bfs\n",
    "    if not t1:\n",
    "        return t2\n",
    "    if not t2:\n",
    "        return t1\n",
    "    \n",
    "    merged = TreeNode(t1.val + t2.val)\n",
    "    queue = collections.deque([merged])\n",
    "    queue1 = collections.deque([t1])\n",
    "    queue2 = collections.deque([t2])\n",
    "\n",
    "    while queue1 and queue2:\n",
    "        node = queue.popleft()\n",
    "        node1 = queue1.popleft()\n",
    "        node2 = queue2.popleft()\n",
    "        left1, right1 = node1.left, node1.right\n",
    "        left2, right2 = node2.left, node2.right\n",
    "        if left1 or left2:\n",
    "            if left1 and left2:\n",
    "                left = TreeNode(left1.val + left2.val)\n",
    "                node.left = left\n",
    "                queue.append(left)\n",
    "                queue1.append(left1)\n",
    "                queue2.append(left2)\n",
    "            elif left1:\n",
    "                node.left = left1\n",
    "            elif left2:\n",
    "                node.left = left2\n",
    "        if right1 or right2:\n",
    "            if right1 and right2:\n",
    "                right = TreeNode(right1.val + right2.val)\n",
    "                node.right = right\n",
    "                queue.append(right)\n",
    "                queue1.append(right1)\n",
    "                queue2.append(right2)\n",
    "            elif right1:\n",
    "                node.right = right1\n",
    "            elif right2:\n",
    "                node.right = right2\n",
    "    \n",
    "    return merged"
   ]
  },
  {
   "source": [
    "### 965: 单值二叉树"
   ],
   "cell_type": "markdown",
   "metadata": {}
  },
  {
   "cell_type": "code",
   "execution_count": null,
   "metadata": {},
   "outputs": [],
   "source": [
    "def isUnivalTree(root): # 深度优先搜索\n",
    "    vals = []\n",
    "\n",
    "    def dfs(node):\n",
    "        if node:\n",
    "            vals.append(node.val)\n",
    "            dfs(node.left)\n",
    "            dfs(node.right)\n",
    "\n",
    "    dfs(root)\n",
    "    return len(set(vals)) == 1"
   ]
  },
  {
   "source": [
    "### 538: 把二叉搜索树转换为累加树"
   ],
   "cell_type": "markdown",
   "metadata": {}
  },
  {
   "cell_type": "code",
   "execution_count": null,
   "metadata": {},
   "outputs": [],
   "source": [
    "def convertBST(root: TreeNode) -> TreeNode: # dfs+nonlocal\n",
    "    def dfs(node):\n",
    "        nonlocal total\n",
    "        if node:\n",
    "            dfs(node.right)\n",
    "            total += node.val\n",
    "            node.val = total\n",
    "            dfs(node.left)\n",
    "\n",
    "    total = 0\n",
    "    dfs(root)\n",
    "    return root"
   ]
  },
  {
   "source": [
    "### 872: 叶子相似的树"
   ],
   "cell_type": "markdown",
   "metadata": {}
  },
  {
   "cell_type": "code",
   "execution_count": null,
   "metadata": {},
   "outputs": [],
   "source": [
    "def leafSimilar(root1: TreeNode, root2: TreeNode) -> bool: # 引入yield\n",
    "    def dfs(node):\n",
    "        if node:\n",
    "            if not node.left and not node.right:\n",
    "                yield node.val\n",
    "            yield from dfs(node.left)\n",
    "            yield from dfs(node.right)\n",
    "\n",
    "    return list(dfs(root1)) == list(dfs(root2))"
   ]
  },
  {
   "source": [
    "### 637: 二叉树的层平均值"
   ],
   "cell_type": "markdown",
   "metadata": {}
  },
  {
   "cell_type": "code",
   "execution_count": null,
   "metadata": {},
   "outputs": [],
   "source": [
    "def averageOfLevels(root: TreeNode) -> List[float]: # 广度优先搜索/考虑层\n",
    "    averages = list()\n",
    "    queue = collections.deque([root])\n",
    "    while queue:\n",
    "        total = 0\n",
    "        size = len(queue)\n",
    "        for _ in range(size):\n",
    "            node = queue.popleft()\n",
    "            total += node.val\n",
    "            left, right = node.left, node.right\n",
    "            if left:\n",
    "                queue.append(left)\n",
    "            if right:\n",
    "                queue.append(right)\n",
    "        averages.append(total / size)\n",
    "    return averages"
   ]
  },
  {
   "source": [
    "### 429: N叉树的层序遍历"
   ],
   "cell_type": "markdown",
   "metadata": {}
  },
  {
   "cell_type": "code",
   "execution_count": null,
   "metadata": {},
   "outputs": [],
   "source": [
    "def levelOrder(root: 'Node') -> List[List[int]]: # 广度优先搜索\n",
    "    if root is None:\n",
    "        return []        \n",
    "\n",
    "    result = []\n",
    "    previous_layer = [root]\n",
    "\n",
    "    while previous_layer:\n",
    "        current_layer = []\n",
    "        result.append([])\n",
    "        for node in previous_layer:\n",
    "            result[-1].append(node.val)\n",
    "            current_layer.extend(node.children)\n",
    "        previous_layer = current_layer\n",
    "    return result"
   ]
  },
  {
   "source": [
    "### 590: N叉树的后序遍历"
   ],
   "cell_type": "markdown",
   "metadata": {}
  },
  {
   "cell_type": "code",
   "execution_count": null,
   "metadata": {},
   "outputs": [],
   "source": [
    "def postorder(root): # 迭代\n",
    "    \"\"\"\n",
    "    :type root: Node\n",
    "    :rtype: List[int]\n",
    "    \"\"\"\n",
    "    if root is None:\n",
    "        return []\n",
    "    \n",
    "    stack, output = [root, ], []\n",
    "    while stack:\n",
    "        root = stack.pop()\n",
    "        if root is not None:\n",
    "            output.append(root.val)\n",
    "        for c in root.children:\n",
    "            stack.append(c)\n",
    "            \n",
    "    return output[::-1]"
   ]
  },
  {
   "source": [
    "### 897: 递增顺序查找树"
   ],
   "cell_type": "markdown",
   "metadata": {}
  },
  {
   "cell_type": "code",
   "execution_count": null,
   "metadata": {},
   "outputs": [],
   "source": [
    "def increasingBST_1(root: TreeNode) -> TreeNode: # 中序遍历之后生成新的树\n",
    "    order = []\n",
    "    def in_order(root):\n",
    "        if root:\n",
    "            in_order(root.left)\n",
    "            order.append(root.val)\n",
    "            in_order(root.right)\n",
    "\n",
    "    in_order(root)\n",
    "    dummyNode = TreeNode(-1)\n",
    "    currNode = dummyNode\n",
    "    for v in order:\n",
    "        currNode.right = TreeNode(v)\n",
    "        currNode = currNode.right\n",
    "\n",
    "    return dummyNode.right\n",
    "\n",
    "def increasingBST_2(root: TreeNode) -> TreeNode: # 在中序遍历的过程中改变节点指向+nonlocal\n",
    "    dummyNode = TreeNode(-1)\n",
    "    currNode = dummyNode\n",
    "    def in_order(root):\n",
    "        nonlocal currNode\n",
    "        if root:\n",
    "            in_order(root.left)\n",
    "            # 在中序遍历的过程中修改节点指向\n",
    "            currNode.right = root\n",
    "            root.left = None\n",
    "            currNode = root\n",
    "            in_order(root.right)\n",
    "    in_order(root)\n",
    "    \n",
    "    return dummyNode.right"
   ]
  }
 ]
}