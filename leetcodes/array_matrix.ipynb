{
 "metadata": {
  "language_info": {
   "codemirror_mode": {
    "name": "ipython",
    "version": 3
   },
   "file_extension": ".py",
   "mimetype": "text/x-python",
   "name": "python",
   "nbconvert_exporter": "python",
   "pygments_lexer": "ipython3",
   "version": 3
  },
  "orig_nbformat": 2
 },
 "nbformat": 4,
 "nbformat_minor": 2,
 "cells": [
  {
   "cell_type": "code",
   "execution_count": null,
   "metadata": {},
   "outputs": [],
   "source": [
    "'''\n",
    "遍历:\n",
    "    获取行列长度(引入额外的空间):\n",
    "        867(矩阵转置)\n",
    "        566(矩阵重塑)\n",
    "        54(螺旋矩阵)\n",
    "        深度优先搜索/递归: 463\n",
    "        生成树(递归): 427\n",
    "    利用zip: 944 | 14\n",
    "'''"
   ]
  },
  {
   "source": [
    "### 867: 转置矩阵"
   ],
   "cell_type": "markdown",
   "metadata": {}
  },
  {
   "cell_type": "code",
   "execution_count": null,
   "metadata": {},
   "outputs": [],
   "source": [
    "def transpose(matrix: List[List[int]]) -> List[List[int]]:\n",
    "    m, n = len(matrix), len(matrix[0])\n",
    "    transposed = [[0] * m for _ in range(n)]\n",
    "    for i in range(m):\n",
    "        for j in range(n):\n",
    "            transposed[j][i] = matrix[i][j]\n",
    "    return transposed"
   ]
  },
  {
   "source": [
    "### 566: 重塑矩阵"
   ],
   "cell_type": "markdown",
   "metadata": {}
  },
  {
   "cell_type": "code",
   "execution_count": null,
   "metadata": {},
   "outputs": [],
   "source": [
    "def matrixReshape(nums: List[List[int]], r: int, c: int) -> List[List[int]]:\n",
    "    m, n = len(nums), len(nums[0])\n",
    "    if m * n != r * c:\n",
    "        return nums\n",
    "    \n",
    "    ans = [[0] * c for _ in range(r)]\n",
    "    for x in range(m * n):\n",
    "        ans[x // c][x % c] = nums[x // n][x % n]\n",
    "    \n",
    "    return ans"
   ]
  },
  {
   "source": [
    "### 54: 螺旋矩阵"
   ],
   "cell_type": "markdown",
   "metadata": {}
  },
  {
   "cell_type": "code",
   "execution_count": null,
   "metadata": {},
   "outputs": [],
   "source": [
    "def spiralOrder(matrix: List[List[int]]) -> List[int]:\n",
    "    rows, columns = len(matrix), len(matrix[0])\n",
    "    order = list()\n",
    "\n",
    "    left, right, top, bottom = 0, columns - 1, 0, rows - 1\n",
    "    while left <= right and top <= bottom:\n",
    "        for column in range(left, right + 1):\n",
    "            order.append(matrix[top][column])\n",
    "        for row in range(top + 1, bottom + 1):\n",
    "            order.append(matrix[row][right])\n",
    "        if left < right and top < bottom:\n",
    "            for column in range(right - 1, left, -1):\n",
    "                order.append(matrix[bottom][column])\n",
    "            for row in range(bottom, top, -1):\n",
    "                order.append(matrix[row][left])\n",
    "        left, right, top, bottom = left + 1, right - 1, top + 1, bottom - 1\n",
    "    return order"
   ]
  },
  {
   "source": [
    "### 463: 岛屿的周长"
   ],
   "cell_type": "markdown",
   "metadata": {}
  },
  {
   "cell_type": "code",
   "execution_count": null,
   "metadata": {},
   "outputs": [],
   "source": [
    "def islandPerimeter(grid: List[List[int]]) -> int:\n",
    "    dx = [0, 1, 0, -1]\n",
    "    dy = [1, 0, -1, 0]\n",
    "\n",
    "    def dfs(x, y, grid, n, m):\n",
    "        if x<0 or x>=n or y<0 or y>=m or not grid[x][y]:\n",
    "            return 1\n",
    "        if grid[x][y] == 2:\n",
    "            return 0\n",
    "        \n",
    "        grid[x][y] = 2\n",
    "        res = 0\n",
    "        for i in range(4):\n",
    "            tx = x + dx[i]\n",
    "            ty = y + dy[j]\n",
    "            res += dfs(tx, ty, grid, n, m)\n",
    "\n",
    "        return res\n",
    "\n",
    "    ans = 0\n",
    "    n, m = len(grid), len(grid[0])\n",
    "    for i in range(n):\n",
    "        for j in range(m):\n",
    "            if grid[i][j]:\n",
    "                ans += dfs(i, j, grid, n, m)\n",
    "\n",
    "    return ans"
   ]
  },
  {
   "source": [
    "### 427: 建立四叉树"
   ],
   "cell_type": "markdown",
   "metadata": {}
  },
  {
   "cell_type": "code",
   "execution_count": null,
   "metadata": {},
   "outputs": [],
   "source": [
    "class Node:\n",
    "    def __init__(self, val, isLeaf, topLeft, topRight, bottomLeft, bottomRight):\n",
    "        self.val = val\n",
    "        self.isLeaf = isLeaf\n",
    "        self.topLeft = topLeft\n",
    "        self.topRight = topRight\n",
    "        self.bottomLeft = bottomLeft\n",
    "        self.bottomRight = bottomRight\n",
    "        \n",
    "def construct(grid: List[List[int]]) -> 'Node':\n",
    "    m = len(grid)\n",
    "    n = len(grid[0])\n",
    "\n",
    "    def constructTree(grid, lx, ly, hx, hy):\n",
    "        isleaf = True\n",
    "        for i in range(lx, hx+1):\n",
    "            for j in range(ly, hy+1):\n",
    "                if grid[i][j] != grid[lx][ly]:\n",
    "                    isleaf = False\n",
    "                    break\n",
    "\n",
    "        if isleaf:\n",
    "            return Node(grid[lx][ly], isleaf)\n",
    "        mx = (lx+hx)//2\n",
    "        my = (ly+hy)//2\n",
    "        topleft = constructTree(grid, lx, ly, mx, my)\n",
    "        topright = constructTree(grid, lx, my+1, mx, hy)\n",
    "        bottomleft = constructTree(grid, mx+1, ly, hx, my)\n",
    "        bottomright = constructTree(grid, mx+1, my+1, hx, hy)\n",
    "\n",
    "        return Node(True, isleaf, topleft, topright, bottomleft, bottomright)\n",
    "\n",
    "    return constructTree(grid, 0, 0, m-1, n-1)"
   ]
  },
  {
   "source": [
    "### 944: 删列造序"
   ],
   "cell_type": "markdown",
   "metadata": {}
  },
  {
   "cell_type": "code",
   "execution_count": null,
   "metadata": {},
   "outputs": [],
   "source": [
    "def minDeletionSize(A):\n",
    "    ans = 0\n",
    "    for col in zip(*A):\n",
    "        if any(col[i] > col[i+1] for i in range(len(col) - 1)):\n",
    "            ans += 1\n",
    "    return ans"
   ]
  },
  {
   "source": [
    "### 14: 最长公共前缀"
   ],
   "cell_type": "markdown",
   "metadata": {}
  },
  {
   "cell_type": "code",
   "execution_count": null,
   "metadata": {},
   "outputs": [],
   "source": [
    "def longestCommonPrefix(strs: List[str]) -> str:\n",
    "    ans = \"\"\n",
    "    n = len(strs)\n",
    "    for col in zip(*strs):\n",
    "        if any(c!=col[0] for c in col):\n",
    "            return ans\n",
    "        ans += col[0]\n",
    "\n",
    "    return ans"
   ]
  }
 ]
}