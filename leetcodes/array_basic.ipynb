{
 "metadata": {
  "language_info": {
   "codemirror_mode": {
    "name": "ipython",
    "version": 3
   },
   "file_extension": ".py",
   "mimetype": "text/x-python",
   "name": "python",
   "nbconvert_exporter": "python",
   "pygments_lexer": "ipython3",
   "version": 3
  },
  "orig_nbformat": 2
 },
 "nbformat": 4,
 "nbformat_minor": 2,
 "cells": [
  {
   "cell_type": "code",
   "execution_count": null,
   "metadata": {},
   "outputs": [],
   "source": [
    "'''\n",
    "1、排序\n",
    "    .sort(key)或sorted(): 905 | 937 | 179\n",
    "2、遍历\n",
    "    哈希表: 1\n",
    "    栈: 496(找右边第 1 个大于比自己大的数)\n",
    "    队列: 239(单调队列)\n",
    "    双指针: \n",
    "        两边指针: 15 | 977\n",
    "        两个输入: 350/88(整数数组) | 415(字符串)\n",
    "        排序(涉及索引): 922 | 283 | 942\n",
    "3、动态规划(最值/递推公式): 动态数组(索引和元素值/动态转移公式): 122 | 1696(使用队列存储历史记录进而实现动态转移) | 1691(元素值叠加: 动态数组长度加1) | 509(递推公式)\n",
    "    最值: 设置数组，值与目标值有关，但索引不是动态的: 1674(索引为和/遍历动态索引/差分数组做区间更新)\n",
    "    最值: 堆(最小值): 1675\n",
    "    动态函数+递归+字典: 788\n",
    "    博弈: 1690\n",
    "4、二分查找(查找部分有序数组中的某个值)(确定中间索引+while): 852 | 33\n",
    "'''"
   ]
  },
  {
   "source": [
    "### 905: 按奇偶排序数组"
   ],
   "cell_type": "markdown",
   "metadata": {}
  },
  {
   "cell_type": "code",
   "execution_count": null,
   "metadata": {},
   "outputs": [],
   "source": [
    "def sortArrayByParity(A):\n",
    "    A.sort(key = lambda x: x % 2)\n",
    "    return A"
   ]
  },
  {
   "source": [
    "### 937: 重新排列日志文件"
   ],
   "cell_type": "markdown",
   "metadata": {}
  },
  {
   "cell_type": "code",
   "execution_count": null,
   "metadata": {},
   "outputs": [],
   "source": [
    "def reorderLogFiles(logs):\n",
    "    def f(log):\n",
    "        id_, rest = log.split(\" \", 1)\n",
    "        return (0, rest, id_) if rest[0].isalpha() else (1,)\n",
    "\n",
    "    return sorted(logs, key = f)"
   ]
  },
  {
   "source": [
    "### 179: 最大数"
   ],
   "cell_type": "markdown",
   "metadata": {}
  },
  {
   "cell_type": "code",
   "execution_count": null,
   "metadata": {},
   "outputs": [],
   "source": [
    "def largestNumber(nums: List[int]) -> str:\n",
    "    ans = sorted(map(str, nums), key=cmp_to_key(lambda x,y: int(y+x)-int(x+y)))\n",
    "    return str(int(\"\".join(ans)))"
   ]
  },
  {
   "source": [
    "### 1: 两数之和"
   ],
   "cell_type": "markdown",
   "metadata": {}
  },
  {
   "cell_type": "code",
   "execution_count": null,
   "metadata": {},
   "outputs": [],
   "source": [
    "def twoSum(nums: List[int], target: int) -> List[int]:\n",
    "    hashtable = dict()\n",
    "    for i, v in enumerate(nums):\n",
    "        if target - v in hashtable:\n",
    "            return [hashtable[target - v], i]\n",
    "        hashtable[v] = i\n",
    "\n",
    "    return [] "
   ]
  },
  {
   "source": [
    "### 496: 下一个更大元素 I"
   ],
   "cell_type": "markdown",
   "metadata": {}
  },
  {
   "cell_type": "code",
   "execution_count": null,
   "metadata": {},
   "outputs": [],
   "source": [
    "def nextGreaterElement(nums1: List[int], nums2: List[int]) -> List[int]:\n",
    "    n1 = len(nums1)\n",
    "    n2 = len(nums2)\n",
    "    stack = []\n",
    "    d = {}\n",
    "    for i in range(n2):\n",
    "        while len(stack) != 0 and stack[-1] < nums2[i]:\n",
    "            d[stack[-1]] = nums2[i]\n",
    "            stack.pop()\n",
    "\n",
    "        stack.append(nums2[i])\n",
    "\n",
    "    ans = []\n",
    "    for i in range(n1):\n",
    "        ans.append(d.get(nums1[i], -1))\n",
    "\n",
    "    return ans"
   ]
  },
  {
   "source": [
    "### 239: 滑动窗口最大值"
   ],
   "cell_type": "markdown",
   "metadata": {}
  },
  {
   "cell_type": "code",
   "execution_count": null,
   "metadata": {},
   "outputs": [],
   "source": [
    "def maxSlidingWindow(nums: List[int], k: int) -> List[int]:\n",
    "    n = len(nums)\n",
    "    q = collections.deque()\n",
    "    for i in range(k):\n",
    "        while q and nums[i] >= nums[q[-1]]:\n",
    "            q.pop()\n",
    "        q.append(i)\n",
    "\n",
    "    ans = [nums[q[0]]]\n",
    "    for i in range(k, n):\n",
    "        while q and nums[i] >= nums[q[-1]]:\n",
    "            q.pop()\n",
    "        q.append(i)\n",
    "        while q[0] <= i - k:\n",
    "            q.popleft()\n",
    "        ans.append(nums[q[0]])\n",
    "    \n",
    "    return ans"
   ]
  },
  {
   "source": [
    "### 15: 三数之和"
   ],
   "cell_type": "markdown",
   "metadata": {}
  },
  {
   "cell_type": "code",
   "execution_count": null,
   "metadata": {},
   "outputs": [],
   "source": [
    "# 将三重循环优化成二重循环，对于最后两重循环优化成双指针，因为第二重和第三重由于和的关系是有联系的\n",
    "def threeSum(nums: List[int]) -> List[List[int]]:\n",
    "    n = len(nums)\n",
    "    nums.sort()\n",
    "    ans = list()\n",
    "\n",
    "    # 枚举 a\n",
    "    for first in range(n):\n",
    "        # 需要和上一次枚举的数不相同\n",
    "        if first > 0 and nums[first] == nums[first - 1]:\n",
    "            continue\n",
    "        # c 对应的指针初始指向数组的最右端\n",
    "        third = n - 1\n",
    "        target = -nums[first]\n",
    "        # 枚举 b\n",
    "        for second in range(first + 1, n):\n",
    "            # 需要和上一次枚举的数不相同\n",
    "            if second > first + 1 and nums[second] == nums[second - 1]:\n",
    "                continue\n",
    "            # 需要保证 b 的指针在 c 的指针的左侧\n",
    "            while second < third and nums[second] + nums[third] > target:\n",
    "                third -= 1\n",
    "            # 如果指针重合，随着 b 后续的增加\n",
    "            # 就不会有满足 a+b+c=0 并且 b<c 的 c 了，可以退出循环\n",
    "            if second == third:\n",
    "                break\n",
    "            if nums[second] + nums[third] == target:\n",
    "                ans.append([nums[first], nums[second], nums[third]])\n",
    "\n",
    "    return ans"
   ]
  },
  {
   "source": [
    "### 977: 有序数组的平方"
   ],
   "cell_type": "markdown",
   "metadata": {}
  },
  {
   "cell_type": "code",
   "execution_count": null,
   "metadata": {},
   "outputs": [],
   "source": [
    "def sortedSquares(nums: List[int]) -> List[int]:\n",
    "    n = len(nums)\n",
    "    ans = [0] * n\n",
    "    \n",
    "    i, j, pos = 0, n - 1, n - 1 # 双指针从两边\n",
    "    while i <= j:\n",
    "        if nums[i] * nums[i] > nums[j] * nums[j]:\n",
    "            ans[pos] = nums[i] * nums[i]\n",
    "            i += 1\n",
    "        else:\n",
    "            ans[pos] = nums[j] * nums[j]\n",
    "            j -= 1\n",
    "        pos -= 1\n",
    "    \n",
    "    return ans"
   ]
  },
  {
   "source": [
    "### 350: 两个数组的交集 II"
   ],
   "cell_type": "markdown",
   "metadata": {}
  },
  {
   "cell_type": "code",
   "execution_count": null,
   "metadata": {},
   "outputs": [],
   "source": [
    "def intersect(nums1: List[int], nums2: List[int]) -> List[int]:\n",
    "    nums1.sort()\n",
    "    nums2.sort()\n",
    "\n",
    "    length1, length2 = len(nums1), len(nums2)\n",
    "    intersection = list()\n",
    "    index1 = index2 = 0\n",
    "    while index1 < length1 and index2 < length2:\n",
    "        if nums1[index1] < nums2[index2]:\n",
    "            index1 += 1\n",
    "        elif nums1[index1] > nums2[index2]:\n",
    "            index2 += 1\n",
    "        else:\n",
    "            intersection.append(nums1[index1])\n",
    "            index1 += 1\n",
    "            index2 += 1\n",
    "    \n",
    "    return intersection"
   ]
  },
  {
   "source": [
    "### 88: 合并两个有序数组"
   ],
   "cell_type": "markdown",
   "metadata": {}
  },
  {
   "cell_type": "code",
   "execution_count": null,
   "metadata": {},
   "outputs": [],
   "source": [
    "def merge(nums1: List[int], m: int, nums2: List[int], n: int) -> None:\n",
    "    \"\"\"\n",
    "    Do not return anything, modify nums1 in-place instead.\n",
    "    \"\"\"\n",
    "    i=m-1\n",
    "    j=n-1\n",
    "    tail=m+n-1\n",
    "    while i>=0 or j>=0:\n",
    "        if i==-1:\n",
    "            nums1[tail] = nums2[j]\n",
    "            tail -= 1\n",
    "            j -= 1\n",
    "        elif j==-1:\n",
    "            nums1[tail] = nums1[i]\n",
    "            tail -= 1\n",
    "            i -= 1\n",
    "        elif nums1[i]<nums2[j]:\n",
    "            nums1[tail] = nums2[j]\n",
    "            tail -= 1\n",
    "            j -= 1\n",
    "        else:\n",
    "            nums1[tail] = nums1[i]\n",
    "            tail -= 1\n",
    "            i -= 1"
   ]
  },
  {
   "source": [
    "### 415: 字符串相加"
   ],
   "cell_type": "markdown",
   "metadata": {}
  },
  {
   "cell_type": "code",
   "execution_count": null,
   "metadata": {},
   "outputs": [],
   "source": [
    "# 模拟「竖式加法」的过程\n",
    "# 定义两个指针i和j分别指向num_1和num_2的末尾，即最低位，同时定义一个变量add维护当前是否有进位，然后从末尾到开头逐位相加即可\n",
    "def addStrings(num1: str, num2: str) -> str:\n",
    "    i = len(num1)-1\n",
    "    j = len(num2)-1\n",
    "    add = 0\n",
    "    ans = []\n",
    "    while i>=0 or j>=0 or add!=0:\n",
    "        x = ord(num1[i])-ord('0') if i>=0 else 0\n",
    "        y = ord(num2[j])-ord('0') if j>=0 else 0\n",
    "        result = x+y+add\n",
    "        ans.append(chr(result%10+ord('0')))\n",
    "        add = result//10\n",
    "        i -= 1\n",
    "        j -= 1\n",
    "\n",
    "    return \"\".join(ans[::-1])"
   ]
  },
  {
   "source": [
    "### 922: 按奇偶排序数组 II"
   ],
   "cell_type": "markdown",
   "metadata": {}
  },
  {
   "cell_type": "code",
   "execution_count": null,
   "metadata": {},
   "outputs": [],
   "source": [
    "def sortArrayByParityII(nums: List[int]) -> List[int]:\n",
    "    n = len(nums)\n",
    "    j = 1\n",
    "    for i in range(0, n, 2): # 为数组的偶数下标部分和奇数下标部分分别维护指针i和j\n",
    "        if nums[i] % 2 != 0:\n",
    "            while nums[j] % 2 != 0:\n",
    "                j += 2\n",
    "            nums[i], nums[j] = nums[j], nums[i]\n",
    "\n",
    "    return nums"
   ]
  },
  {
   "source": [
    "### 283: 移动零"
   ],
   "cell_type": "markdown",
   "metadata": {}
  },
  {
   "cell_type": "code",
   "execution_count": null,
   "metadata": {},
   "outputs": [],
   "source": [
    "def moveZeroes(nums: List[int]) -> None: # 使用双指针，左指针指向当前已经处理好的序列的尾部，右指针指向待处理序列的头部\n",
    "    n = len(nums)\n",
    "    left = right = 0\n",
    "    while right < n:\n",
    "        if nums[right] != 0:\n",
    "            nums[left], nums[right] = nums[right], nums[left]\n",
    "            left += 1\n",
    "        right += 1"
   ]
  },
  {
   "source": [
    "### 942: 增减字符串匹配"
   ],
   "cell_type": "markdown",
   "metadata": {}
  },
  {
   "cell_type": "code",
   "execution_count": null,
   "metadata": {},
   "outputs": [],
   "source": [
    "def diStringMatch(S):\n",
    "    lo, hi = 0, len(S)\n",
    "    ans = []\n",
    "    for x in S:\n",
    "        if x == 'I':\n",
    "            ans.append(lo)\n",
    "            lo += 1\n",
    "        else:\n",
    "            ans.append(hi)\n",
    "            hi -= 1\n",
    "\n",
    "    return ans + [lo]"
   ]
  },
  {
   "source": [
    "### 122: 买卖股票的最佳时机 II"
   ],
   "cell_type": "markdown",
   "metadata": {}
  },
  {
   "cell_type": "code",
   "execution_count": null,
   "metadata": {},
   "outputs": [],
   "source": [
    "# 定义状态dp[i][0]表示第 i 天交易完后手里没有股票的最大利润，dp[i][1]表示第 i 天交易完后手里持有一支股票的最大利润\n",
    "def maxProfit(prices: List[int]) -> int:\n",
    "    n = len(prices)\n",
    "    dp = [[0]*2 for _ in range(n)]\n",
    "    dp[0][1] = -prices[0]\n",
    "    for i in range(1,n):\n",
    "        dp[i][0] = max(dp[i-1][0], dp[i-1][1]+prices[i])\n",
    "        dp[i][1] = max(dp[i-1][0]-prices[i], dp[i-1][1])\n",
    "\n",
    "    return dp[-1][0]\n"
   ]
  },
  {
   "source": [
    "### 1696: 跳跃游戏 VI"
   ],
   "cell_type": "markdown",
   "metadata": {}
  },
  {
   "cell_type": "code",
   "execution_count": null,
   "metadata": {},
   "outputs": [],
   "source": [
    "def maxResult(nums: List[int], k: int) -> int:\n",
    "    dp = [0] * len(nums)\n",
    "    dp[0] = nums[0]\n",
    "    d = deque([(nums[0],0)])\n",
    "    for i in range(1, len(nums)):\n",
    "        dp[i] = nums[i] + d[0][0]\n",
    "\n",
    "        while d and d[-1][0] < dp[i]:  \n",
    "            d.pop()                 \n",
    "        d.append((dp[i],i))            \n",
    "\n",
    "        if i-k == d[0][1]:              \n",
    "            d.popleft()              \n",
    "\n",
    "    return dp[-1]"
   ]
  },
  {
   "source": [
    "### 1691: 堆叠长方体的最大高度"
   ],
   "cell_type": "markdown",
   "metadata": {}
  },
  {
   "cell_type": "code",
   "execution_count": null,
   "metadata": {},
   "outputs": [],
   "source": [
    "def maxHeight(cuboids: List[List[int]]) -> int:\n",
    "    cuboids = [[0, 0, 0]] + sorted(map(sorted, cuboids))\n",
    "    dp = [0] * len(cuboids)\n",
    "    for j in range(1, len(cuboids)):\n",
    "        for i in range(j):\n",
    "            if all(cuboids[i][k] <= cuboids[j][k] for k in range(3)):\n",
    "                dp[j] = max(dp[j], dp[i] + cuboids[j][2])\n",
    "    return max(dp)"
   ]
  },
  {
   "source": [
    "### 509: 斐波那契数"
   ],
   "cell_type": "markdown",
   "metadata": {}
  },
  {
   "cell_type": "code",
   "execution_count": null,
   "metadata": {},
   "outputs": [],
   "source": [
    "def fib(n: int) -> int:\n",
    "    if n<2:\n",
    "        return n\n",
    "    dp = [0]*(n+1)\n",
    "    dp[0]=0\n",
    "    dp[1]=1\n",
    "    for i in range(2, n+1):\n",
    "        dp[i]=dp[i-1]+dp[i-2]\n",
    "    return dp[-1]"
   ]
  },
  {
   "source": [
    "### 1674: 使数组互补的最少操作次数"
   ],
   "cell_type": "markdown",
   "metadata": {}
  },
  {
   "cell_type": "code",
   "execution_count": null,
   "metadata": {},
   "outputs": [],
   "source": [
    "# 假设 res[x] 表示的是，nums[i] + nums[n - 1 - i] 为 x 的时候，需要多少次操作。我们只需要计算出所有的 x 对应的 res[x], 取最小值就好了\n",
    "# nums[i] + nums[n - 1 - i] 最小是 2，即将两个数都修改为 1；最大是 2 * limit，即将两个数都修改成 limit。所以，res[x] 中 x 的取值范围是 [2, 2 * limit]。我们用一个 res[2 * limit + 1] 的数组就好\n",
    "# 关键是，如何求出每一个 res[x] 位置的值，即修改后互补的数字和为 x，需要多少操作？\n",
    "## 为了叙述方便，假设 nums[i] 为 A；nums[n - 1 - i] 为 B。\n",
    "## 如果修改后两个数字的和是 A + B，我们使用的操作数是 0 (没有修改))\n",
    "## 否则的话，如果修改后两个数字和在 [1 + min(A, B), limit + max(A, B)] 的范围，我们使用的操作数是 1 (只需要修改 A 或者 B 就好)\n",
    "## 否则的话，如果修改后两个数字和在 [2, 2 * limit] 的范围，我们使用的操作数是2(两个数字都要修改))\n",
    "# 我们的算法是遍历每一组 nums[i] 和 nums[n - 1 - i]\n",
    "## 先将 [2, 2 * limit] 的范围需要的操作数 + 2\n",
    "## 之后，将 [1 + min(A, B), limit + max(A, B)] 的范围需要的操作数 - 1（即 2 - 1 = 1，操作 1 次）\n",
    "## 之后，将 [A + B] 位置的值再 -1（即 1 - 1 = 0，操作 0 次）\n",
    "# 可以看出，整个过程都是在做区间更新\n",
    "# 差分数组 diff[i]，存储的是 res[i] - res[i - 1]；而差分数组 diff[0...i] 的和，就是 res[i] 的值\n",
    "# 如果我们想给 [l, r] 的区间加上一个数字 a, 只需要 diff[l] += a，diff[r + 1] -= a\n",
    "def minMoves(nums: List[int], limit: int) -> int:\n",
    "    diff = [0] * (2*limit+2)\n",
    "    n = len(nums)\n",
    "\n",
    "    for i in range(n//2):\n",
    "        A = nums[i]\n",
    "        B = nums[n-1-i]\n",
    "\n",
    "        l = 2\n",
    "        r = 2 * limit\n",
    "        diff[l] += 2\n",
    "        diff[r + 1] -= 2\n",
    "\n",
    "        l = 1 + min(A, B)\n",
    "        r = limit + max(A, B)\n",
    "        diff[l] += -1\n",
    "        diff[r + 1] -= -1\n",
    "\n",
    "        l = A + B\n",
    "        r = A + B\n",
    "        diff[l] += -1\n",
    "        diff[r + 1] -= -1\n",
    "\n",
    "    res = n\n",
    "    sum = 0\n",
    "    for i in range(2, 2 * limit+1):\n",
    "        sum += diff[i]\n",
    "        if sum < res:\n",
    "            res = sum\n",
    "    return res"
   ]
  },
  {
   "source": [
    "### 1675: 数组的最小偏移量"
   ],
   "cell_type": "markdown",
   "metadata": {}
  },
  {
   "cell_type": "code",
   "execution_count": null,
   "metadata": {},
   "outputs": [],
   "source": [
    "def minimumDeviation(nums: List[int]) -> int:\n",
    "    h = []\n",
    "    n = len(nums)\n",
    "    curr_min = float('inf')\n",
    "    for n in nums:\n",
    "        if n % 2 == 1:\n",
    "            n *= 2  # odd value can only be multiplied by 2 once. We do it now.\n",
    "        curr_min = min(curr_min, n) # keep track of the minimum value\n",
    "        heappush(h, -n)\n",
    "    devi = -h[0] - curr_min \n",
    "    while h[0] % 2 == 0: # the deviation will stop changing when the maximum value is odd which can not be devided by 2 any more.\n",
    "        e = -heappop(h)\n",
    "        while e % 2 == 0 and e >= -h[0]: # we keep track of the deviation while reducing the maximum number.\n",
    "            devi = min(devi, e - curr_min)\n",
    "            e = e // 2\n",
    "        curr_min = min(curr_min, e)\n",
    "        heappush(h, -e)\n",
    "        devi = min(devi, -h[0] - curr_min)\n",
    "    return devi"
   ]
  },
  {
   "source": [
    "### 788: 旋转数字\n"
   ],
   "cell_type": "markdown",
   "metadata": {}
  },
  {
   "cell_type": "code",
   "execution_count": null,
   "metadata": {},
   "outputs": [],
   "source": [
    "# 状态可以表示为三个变量 i, equality_flag, involution_flag。其中 i 表示当前正在写第 i 位数字；equality_flag 表示已经写出的 j 位数字是否等于 N 的 j 位前缀；involution_flag 表示从最高位到比当前位高一位的这段前缀中是否含有 2569 中的任意一个数字\n",
    "# dp(i, equality_flag, involution_flag) 表示在特定 equality_flag，involution_flag 的状态下，有多少种从 i 到末尾的后缀能组成一个好数。最终的结果为 dp(0, True, False)\n",
    "def rotatedDigits(N): \n",
    "    A = map(int, str(N))  \n",
    "\n",
    "    memo = {}\n",
    "    def dp(i, equality_flag, involution_flag):\n",
    "        if i == len(A): return +(involution_flag)\n",
    "        if (i, equality_flag, involution_flag) not in memo:\n",
    "            ans = 0\n",
    "            for d in range(A[i] + 1 if equality_flag else 10):\n",
    "                if d in {3, 4, 7}: continue\n",
    "                ans += dp(i+1, equality_flag and d == A[i],\n",
    "                            involution_flag or d in {2, 5, 6, 9})\n",
    "            memo[i, equality_flag, involution_flag] = ans\n",
    "        return memo[i, equality_flag, involution_flag]\n",
    "\n",
    "    return dp(0, True, False)"
   ]
  },
  {
   "source": [
    "### 1690: 石子游戏 VII"
   ],
   "cell_type": "markdown",
   "metadata": {}
  },
  {
   "cell_type": "code",
   "execution_count": null,
   "metadata": {},
   "outputs": [],
   "source": [
    "# 设dp[i][j]是当石子只剩下s[i:j]时先手能赢的最大分差\n",
    "# 无论是 B 想要缩短得分差，或者 A 想要扩大得分差，其本质就是这次操作能得到与对手最大的得分差\n",
    "def stoneGameVII(stones: List[int]) -> int:\n",
    "    dp = [[0] * len(stones) for _ in range(len(stones))]\n",
    "    p_sum = [0] + list(accumulate(stones))\n",
    "    for i in range(len(stones) - 2, -1, -1):\n",
    "        for j in range(i + 1, len(stones)):\n",
    "            dp[i][j] = max(p_sum[j + 1] - p_sum[i + 1] - dp[i + 1][j], # 去掉最左边\n",
    "                            p_sum[j] - p_sum[i] - dp[i][j - 1]) # 去掉最右边\n",
    "    return dp[0][len(stones) - 1]"
   ]
  },
  {
   "source": [
    "### 852: 山脉数组的峰顶索引"
   ],
   "cell_type": "markdown",
   "metadata": {}
  },
  {
   "cell_type": "code",
   "execution_count": null,
   "metadata": {},
   "outputs": [],
   "source": [
    "def peakIndexInMountainArray(A):\n",
    "    lo, hi = 0, len(A) - 1\n",
    "    while lo < hi:\n",
    "        mi = (lo + hi) / 2 \n",
    "        if A[mi] < A[mi + 1]:\n",
    "            lo = mi + 1\n",
    "        else:\n",
    "            hi = mi\n",
    "    return lo"
   ]
  },
  {
   "source": [
    "### 33: 搜索旋转排序数组"
   ],
   "cell_type": "markdown",
   "metadata": {}
  },
  {
   "cell_type": "code",
   "execution_count": null,
   "metadata": {},
   "outputs": [],
   "source": [
    "def search(nums: List[int], target: int) -> int:\n",
    "    l, r = 0, len(nums) - 1\n",
    "    while l <= r:\n",
    "        mid = (l + r) // 2\n",
    "        if nums[mid] == target:\n",
    "            return mid\n",
    "        if nums[0] <= nums[mid]:\n",
    "            if nums[0] <= target < nums[mid]:\n",
    "                r = mid - 1\n",
    "            else:\n",
    "                l = mid + 1\n",
    "        else:\n",
    "            if nums[mid] < target <= nums[len(nums) - 1]:\n",
    "                l = mid + 1\n",
    "            else:\n",
    "                r = mid - 1\n",
    "    return -1"
   ]
  }
 ]
}