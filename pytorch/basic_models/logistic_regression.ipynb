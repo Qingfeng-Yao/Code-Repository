{
 "metadata": {
  "language_info": {
   "codemirror_mode": {
    "name": "ipython",
    "version": 3
   },
   "file_extension": ".py",
   "mimetype": "text/x-python",
   "name": "python",
   "nbconvert_exporter": "python",
   "pygments_lexer": "ipython3",
   "version": "3.7.9"
  },
  "orig_nbformat": 2,
  "kernelspec": {
   "name": "python379jvsc74a57bd0cc86fbc300e6d473e5cf532321586f93c8d337e756c8fe34a22a2b65e82a1ba0",
   "display_name": "Python 3.7.9 64-bit ('piprnn': conda)"
  },
  "metadata": {
   "interpreter": {
    "hash": "72506cc1e4b0dce5eb876f653d1c5faf29777724f7cbfb23a9a7a2a764425624"
   }
  }
 },
 "nbformat": 4,
 "nbformat_minor": 2,
 "cells": [
  {
   "cell_type": "code",
   "execution_count": null,
   "metadata": {},
   "outputs": [],
   "source": [
    "'''\n",
    "逻辑回归: MNIST分类\n",
    "    nn.Linear+softmax\n",
    "'''"
   ]
  },
  {
   "cell_type": "code",
   "execution_count": 1,
   "metadata": {},
   "outputs": [],
   "source": [
    "import torch\n",
    "import torch.nn as nn\n",
    "import torchvision\n",
    "import torchvision.transforms as transforms"
   ]
  },
  {
   "cell_type": "code",
   "execution_count": 2,
   "metadata": {},
   "outputs": [],
   "source": [
    "# Hyper-parameters \n",
    "input_size = 28 * 28    # 784\n",
    "num_classes = 10\n",
    "num_epochs = 5\n",
    "batch_size = 100\n",
    "learning_rate = 0.001"
   ]
  },
  {
   "cell_type": "code",
   "execution_count": 21,
   "metadata": {},
   "outputs": [],
   "source": [
    "# MNIST dataset (images and labels)\n",
    "train_dataset = torchvision.datasets.MNIST(root='../data', \n",
    "                                           train=True, \n",
    "                                           transform=transforms.ToTensor(),\n",
    "                                           download=True)\n",
    "\n",
    "test_dataset = torchvision.datasets.MNIST(root='../data', \n",
    "                                          train=False, \n",
    "                                          transform=transforms.ToTensor())\n",
    "\n",
    "# Data loader (input pipeline)\n",
    "train_loader = torch.utils.data.DataLoader(dataset=train_dataset, \n",
    "                                           batch_size=batch_size, \n",
    "                                           shuffle=True)\n",
    "\n",
    "test_loader = torch.utils.data.DataLoader(dataset=test_dataset, \n",
    "                                          batch_size=batch_size, \n",
    "                                          shuffle=False)\n"
   ]
  },
  {
   "cell_type": "code",
   "execution_count": 17,
   "metadata": {},
   "outputs": [],
   "source": [
    "# Logistic regression model\n",
    "model = nn.Linear(input_size, num_classes)\n",
    "\n",
    "# Loss and optimizer\n",
    "# nn.CrossEntropyLoss() computes softmax internally\n",
    "criterion = nn.CrossEntropyLoss()  \n",
    "optimizer = torch.optim.SGD(model.parameters(), lr=learning_rate)  "
   ]
  },
  {
   "cell_type": "code",
   "execution_count": 18,
   "metadata": {},
   "outputs": [
    {
     "output_type": "stream",
     "name": "stdout",
     "text": [
      "Epoch [1/5], Step [100/600], Loss: 2.2425\n",
      "Epoch [1/5], Step [200/600], Loss: 2.1308\n",
      "Epoch [1/5], Step [300/600], Loss: 2.0622\n",
      "Epoch [1/5], Step [400/600], Loss: 1.9655\n",
      "Epoch [1/5], Step [500/600], Loss: 1.9156\n",
      "Epoch [1/5], Step [600/600], Loss: 1.8079\n",
      "Epoch [2/5], Step [100/600], Loss: 1.7581\n",
      "Epoch [2/5], Step [200/600], Loss: 1.7276\n",
      "Epoch [2/5], Step [300/600], Loss: 1.5723\n",
      "Epoch [2/5], Step [400/600], Loss: 1.6111\n",
      "Epoch [2/5], Step [500/600], Loss: 1.4608\n",
      "Epoch [2/5], Step [600/600], Loss: 1.4634\n",
      "Epoch [3/5], Step [100/600], Loss: 1.3861\n",
      "Epoch [3/5], Step [200/600], Loss: 1.3971\n",
      "Epoch [3/5], Step [300/600], Loss: 1.3746\n",
      "Epoch [3/5], Step [400/600], Loss: 1.4005\n",
      "Epoch [3/5], Step [500/600], Loss: 1.2331\n",
      "Epoch [3/5], Step [600/600], Loss: 1.3179\n",
      "Epoch [4/5], Step [100/600], Loss: 1.2286\n",
      "Epoch [4/5], Step [200/600], Loss: 1.2236\n",
      "Epoch [4/5], Step [300/600], Loss: 1.1129\n",
      "Epoch [4/5], Step [400/600], Loss: 1.2405\n",
      "Epoch [4/5], Step [500/600], Loss: 1.1771\n",
      "Epoch [4/5], Step [600/600], Loss: 1.0554\n",
      "Epoch [5/5], Step [100/600], Loss: 1.1439\n",
      "Epoch [5/5], Step [200/600], Loss: 1.0921\n",
      "Epoch [5/5], Step [300/600], Loss: 1.0097\n",
      "Epoch [5/5], Step [400/600], Loss: 1.0162\n",
      "Epoch [5/5], Step [500/600], Loss: 0.9890\n",
      "Epoch [5/5], Step [600/600], Loss: 0.9341\n"
     ]
    }
   ],
   "source": [
    "# Train the model\n",
    "total_step = len(train_loader)\n",
    "for epoch in range(num_epochs):\n",
    "    for i, (images, labels) in enumerate(train_loader):\n",
    "        # Reshape images to (batch_size, input_size)\n",
    "        images = images.reshape(-1, input_size)\n",
    "        \n",
    "        # Forward pass\n",
    "        outputs = model(images)\n",
    "        loss = criterion(outputs, labels)\n",
    "        \n",
    "        # Backward and optimize\n",
    "        optimizer.zero_grad()\n",
    "        loss.backward()\n",
    "        optimizer.step()\n",
    "        \n",
    "        if (i+1) % 100 == 0:\n",
    "            print ('Epoch [{}/{}], Step [{}/{}], Loss: {:.4f}' \n",
    "                   .format(epoch+1, num_epochs, i+1, total_step, loss.item()))"
   ]
  },
  {
   "cell_type": "code",
   "execution_count": 19,
   "metadata": {},
   "outputs": [
    {
     "output_type": "stream",
     "name": "stdout",
     "text": [
      "Accuracy of the model on the 10000 test images: 82.7699966430664 %\n"
     ]
    }
   ],
   "source": [
    "# Test the model\n",
    "# In test phase, we don't need to compute gradients (for memory efficiency)\n",
    "with torch.no_grad():\n",
    "    correct = 0\n",
    "    total = 0\n",
    "    for images, labels in test_loader:\n",
    "        images = images.reshape(-1, input_size)\n",
    "        outputs = model(images)\n",
    "        _, predicted = torch.max(outputs.data, 1)\n",
    "        total += labels.size(0)\n",
    "        correct += (predicted == labels).sum()\n",
    "\n",
    "    print('Accuracy of the model on the 10000 test images: {} %'.format(100 * correct / total))\n",
    "\n",
    "# Save the model checkpoint\n",
    "torch.save(model.state_dict(), 'logr_model.ckpt')"
   ]
  },
  {
   "cell_type": "code",
   "execution_count": null,
   "metadata": {},
   "outputs": [],
   "source": []
  }
 ]
}