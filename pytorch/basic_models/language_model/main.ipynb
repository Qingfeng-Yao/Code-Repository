{
 "metadata": {
  "language_info": {
   "codemirror_mode": {
    "name": "ipython",
    "version": 3
   },
   "file_extension": ".py",
   "mimetype": "text/x-python",
   "name": "python",
   "nbconvert_exporter": "python",
   "pygments_lexer": "ipython3",
   "version": "3.7.9"
  },
  "orig_nbformat": 2,
  "kernelspec": {
   "name": "python379jvsc74a57bd0cc86fbc300e6d473e5cf532321586f93c8d337e756c8fe34a22a2b65e82a1ba0",
   "display_name": "Python 3.7.9 64-bit ('piprnn': conda)"
  }
 },
 "nbformat": 4,
 "nbformat_minor": 2,
 "cells": [
  {
   "cell_type": "code",
   "execution_count": null,
   "metadata": {},
   "outputs": [],
   "source": [
    "'''\n",
    "语言模型: \n",
    "    nn.Embedding(vocab_size, embed_size)\n",
    "    nn.LSTM\n",
    "    nn.Linear(hidden_size, vocab_size)\n",
    "'''"
   ]
  },
  {
   "cell_type": "code",
   "execution_count": 3,
   "metadata": {},
   "outputs": [],
   "source": [
    "import torch\n",
    "import torch.nn as nn\n",
    "import numpy as np\n",
    "from torch.nn.utils import clip_grad_norm_\n",
    "from data_utils import Dictionary, Corpus"
   ]
  },
  {
   "cell_type": "code",
   "execution_count": 4,
   "metadata": {},
   "outputs": [],
   "source": [
    "# Device configuration\n",
    "device = torch.device('cuda' if torch.cuda.is_available() else 'cpu')\n",
    "\n",
    "# Hyper-parameters\n",
    "embed_size = 128\n",
    "hidden_size = 1024\n",
    "num_layers = 1\n",
    "num_epochs = 5\n",
    "num_samples = 1000     # number of words to be sampled\n",
    "batch_size = 20\n",
    "seq_length = 30\n",
    "learning_rate = 0.002"
   ]
  },
  {
   "cell_type": "code",
   "execution_count": 5,
   "metadata": {},
   "outputs": [],
   "source": [
    "# Load \"Penn Treebank\" dataset\n",
    "corpus = Corpus()\n",
    "ids = corpus.get_data('data/train.txt', batch_size)\n",
    "vocab_size = len(corpus.dictionary)\n",
    "num_batches = ids.size(1) // seq_length"
   ]
  },
  {
   "cell_type": "code",
   "execution_count": 6,
   "metadata": {},
   "outputs": [
    {
     "output_type": "stream",
     "name": "stdout",
     "text": [
      "10000 1549\n"
     ]
    }
   ],
   "source": [
    "print(vocab_size, num_batches)"
   ]
  },
  {
   "cell_type": "code",
   "execution_count": 7,
   "metadata": {},
   "outputs": [],
   "source": [
    "# RNN based language model\n",
    "class RNNLM(nn.Module):\n",
    "    def __init__(self, vocab_size, embed_size, hidden_size, num_layers):\n",
    "        super(RNNLM, self).__init__()\n",
    "        self.embed = nn.Embedding(vocab_size, embed_size)\n",
    "        self.lstm = nn.LSTM(embed_size, hidden_size, num_layers, batch_first=True)\n",
    "        self.linear = nn.Linear(hidden_size, vocab_size)\n",
    "        \n",
    "    def forward(self, x, h):\n",
    "        # Embed word ids to vectors\n",
    "        x = self.embed(x)\n",
    "        \n",
    "        # Forward propagate LSTM\n",
    "        out, (h, c) = self.lstm(x, h)\n",
    "        \n",
    "        # Reshape output to (batch_size*sequence_length, hidden_size)\n",
    "        out = out.reshape(out.size(0)*out.size(1), out.size(2))\n",
    "        \n",
    "        # Decode hidden states of all time steps\n",
    "        out = self.linear(out)\n",
    "        return out, (h, c)"
   ]
  },
  {
   "cell_type": "code",
   "execution_count": 8,
   "metadata": {},
   "outputs": [],
   "source": [
    "model = RNNLM(vocab_size, embed_size, hidden_size, num_layers).to(device)"
   ]
  },
  {
   "cell_type": "code",
   "execution_count": 9,
   "metadata": {},
   "outputs": [],
   "source": [
    "# Loss and optimizer\n",
    "criterion = nn.CrossEntropyLoss()\n",
    "optimizer = torch.optim.Adam(model.parameters(), lr=learning_rate)\n"
   ]
  },
  {
   "cell_type": "code",
   "execution_count": 10,
   "metadata": {},
   "outputs": [],
   "source": [
    "# Truncated backpropagation\n",
    "def detach(states):\n",
    "    return [state.detach() for state in states] "
   ]
  },
  {
   "cell_type": "code",
   "execution_count": 11,
   "metadata": {},
   "outputs": [
    {
     "output_type": "stream",
     "name": "stdout",
     "text": [
      "Epoch [1/5], Step[0/1549], Loss: 9.2103, Perplexity: 9999.90\n",
      "Epoch [1/5], Step[100/1549], Loss: 6.0328, Perplexity: 416.89\n",
      "Epoch [1/5], Step[200/1549], Loss: 5.9168, Perplexity: 371.23\n",
      "Epoch [1/5], Step[300/1549], Loss: 5.7606, Perplexity: 317.53\n",
      "Epoch [1/5], Step[400/1549], Loss: 5.6947, Perplexity: 297.29\n",
      "Epoch [1/5], Step[500/1549], Loss: 5.1537, Perplexity: 173.08\n",
      "Epoch [1/5], Step[600/1549], Loss: 5.1857, Perplexity: 178.70\n",
      "Epoch [1/5], Step[700/1549], Loss: 5.3456, Perplexity: 209.69\n",
      "Epoch [1/5], Step[800/1549], Loss: 5.1897, Perplexity: 179.42\n",
      "Epoch [1/5], Step[900/1549], Loss: 5.0702, Perplexity: 159.20\n",
      "Epoch [1/5], Step[1000/1549], Loss: 5.1146, Perplexity: 166.44\n",
      "Epoch [1/5], Step[1100/1549], Loss: 5.3627, Perplexity: 213.30\n",
      "Epoch [1/5], Step[1200/1549], Loss: 5.2040, Perplexity: 181.99\n",
      "Epoch [1/5], Step[1300/1549], Loss: 5.1129, Perplexity: 166.16\n",
      "Epoch [1/5], Step[1400/1549], Loss: 4.8448, Perplexity: 127.08\n",
      "Epoch [1/5], Step[1500/1549], Loss: 5.1624, Perplexity: 174.58\n",
      "Epoch [2/5], Step[0/1549], Loss: 5.4084, Perplexity: 223.28\n",
      "Epoch [2/5], Step[100/1549], Loss: 4.5596, Perplexity: 95.54\n",
      "Epoch [2/5], Step[200/1549], Loss: 4.6873, Perplexity: 108.56\n",
      "Epoch [2/5], Step[300/1549], Loss: 4.7025, Perplexity: 110.22\n",
      "Epoch [2/5], Step[400/1549], Loss: 4.5789, Perplexity: 97.41\n",
      "Epoch [2/5], Step[500/1549], Loss: 4.1555, Perplexity: 63.78\n",
      "Epoch [2/5], Step[600/1549], Loss: 4.4085, Perplexity: 82.14\n",
      "Epoch [2/5], Step[700/1549], Loss: 4.4676, Perplexity: 87.14\n",
      "Epoch [2/5], Step[800/1549], Loss: 4.4280, Perplexity: 83.76\n",
      "Epoch [2/5], Step[900/1549], Loss: 4.2476, Perplexity: 69.94\n",
      "Epoch [2/5], Step[1000/1549], Loss: 4.3130, Perplexity: 74.66\n",
      "Epoch [2/5], Step[1100/1549], Loss: 4.5815, Perplexity: 97.66\n",
      "Epoch [2/5], Step[1200/1549], Loss: 4.5059, Perplexity: 90.55\n",
      "Epoch [2/5], Step[1300/1549], Loss: 4.2448, Perplexity: 69.74\n",
      "Epoch [2/5], Step[1400/1549], Loss: 3.9507, Perplexity: 51.97\n",
      "Epoch [2/5], Step[1500/1549], Loss: 4.3722, Perplexity: 79.22\n",
      "Epoch [3/5], Step[0/1549], Loss: 4.4021, Perplexity: 81.63\n",
      "Epoch [3/5], Step[100/1549], Loss: 3.9200, Perplexity: 50.40\n",
      "Epoch [3/5], Step[200/1549], Loss: 4.1013, Perplexity: 60.42\n",
      "Epoch [3/5], Step[300/1549], Loss: 4.0068, Perplexity: 54.97\n",
      "Epoch [3/5], Step[400/1549], Loss: 3.8948, Perplexity: 49.14\n",
      "Epoch [3/5], Step[500/1549], Loss: 3.4671, Perplexity: 32.04\n",
      "Epoch [3/5], Step[600/1549], Loss: 3.7885, Perplexity: 44.19\n",
      "Epoch [3/5], Step[700/1549], Loss: 3.7860, Perplexity: 44.08\n",
      "Epoch [3/5], Step[800/1549], Loss: 3.7937, Perplexity: 44.42\n",
      "Epoch [3/5], Step[900/1549], Loss: 3.5294, Perplexity: 34.11\n",
      "Epoch [3/5], Step[1000/1549], Loss: 3.6584, Perplexity: 38.80\n",
      "Epoch [3/5], Step[1100/1549], Loss: 3.7729, Perplexity: 43.51\n",
      "Epoch [3/5], Step[1200/1549], Loss: 3.8013, Perplexity: 44.76\n",
      "Epoch [3/5], Step[1300/1549], Loss: 3.5021, Perplexity: 33.19\n",
      "Epoch [3/5], Step[1400/1549], Loss: 3.2537, Perplexity: 25.89\n",
      "Epoch [3/5], Step[1500/1549], Loss: 3.6628, Perplexity: 38.97\n",
      "Epoch [4/5], Step[0/1549], Loss: 3.5027, Perplexity: 33.21\n",
      "Epoch [4/5], Step[100/1549], Loss: 3.3067, Perplexity: 27.30\n",
      "Epoch [4/5], Step[200/1549], Loss: 3.6052, Perplexity: 36.79\n",
      "Epoch [4/5], Step[300/1549], Loss: 3.4378, Perplexity: 31.12\n",
      "Epoch [4/5], Step[400/1549], Loss: 3.4555, Perplexity: 31.68\n",
      "Epoch [4/5], Step[500/1549], Loss: 2.9351, Perplexity: 18.82\n",
      "Epoch [4/5], Step[600/1549], Loss: 3.3899, Perplexity: 29.66\n",
      "Epoch [4/5], Step[700/1549], Loss: 3.2024, Perplexity: 24.59\n",
      "Epoch [4/5], Step[800/1549], Loss: 3.3119, Perplexity: 27.44\n",
      "Epoch [4/5], Step[900/1549], Loss: 2.9874, Perplexity: 19.83\n",
      "Epoch [4/5], Step[1000/1549], Loss: 3.1397, Perplexity: 23.10\n",
      "Epoch [4/5], Step[1100/1549], Loss: 3.2054, Perplexity: 24.66\n",
      "Epoch [4/5], Step[1200/1549], Loss: 3.2767, Perplexity: 26.49\n",
      "Epoch [4/5], Step[1300/1549], Loss: 3.0331, Perplexity: 20.76\n",
      "Epoch [4/5], Step[1400/1549], Loss: 2.7148, Perplexity: 15.10\n",
      "Epoch [4/5], Step[1500/1549], Loss: 3.1666, Perplexity: 23.73\n",
      "Epoch [5/5], Step[0/1549], Loss: 3.0016, Perplexity: 20.12\n",
      "Epoch [5/5], Step[100/1549], Loss: 2.9741, Perplexity: 19.57\n",
      "Epoch [5/5], Step[200/1549], Loss: 3.2027, Perplexity: 24.60\n",
      "Epoch [5/5], Step[300/1549], Loss: 3.0614, Perplexity: 21.36\n",
      "Epoch [5/5], Step[400/1549], Loss: 3.0864, Perplexity: 21.90\n",
      "Epoch [5/5], Step[500/1549], Loss: 2.5964, Perplexity: 13.42\n",
      "Epoch [5/5], Step[600/1549], Loss: 3.0076, Perplexity: 20.24\n",
      "Epoch [5/5], Step[700/1549], Loss: 2.8233, Perplexity: 16.83\n",
      "Epoch [5/5], Step[800/1549], Loss: 3.0125, Perplexity: 20.34\n",
      "Epoch [5/5], Step[900/1549], Loss: 2.7197, Perplexity: 15.18\n",
      "Epoch [5/5], Step[1000/1549], Loss: 2.8889, Perplexity: 17.97\n",
      "Epoch [5/5], Step[1100/1549], Loss: 2.9298, Perplexity: 18.72\n",
      "Epoch [5/5], Step[1200/1549], Loss: 2.9568, Perplexity: 19.24\n",
      "Epoch [5/5], Step[1300/1549], Loss: 2.6972, Perplexity: 14.84\n",
      "Epoch [5/5], Step[1400/1549], Loss: 2.3913, Perplexity: 10.93\n",
      "Epoch [5/5], Step[1500/1549], Loss: 2.8488, Perplexity: 17.27\n"
     ]
    }
   ],
   "source": [
    "# Train the model\n",
    "for epoch in range(num_epochs):\n",
    "    # Set initial hidden and cell states\n",
    "    states = (torch.zeros(num_layers, batch_size, hidden_size).to(device),\n",
    "              torch.zeros(num_layers, batch_size, hidden_size).to(device))\n",
    "    \n",
    "    for i in range(0, ids.size(1) - seq_length, seq_length):\n",
    "        # Get mini-batch inputs and targets\n",
    "        inputs = ids[:, i:i+seq_length].to(device)\n",
    "        targets = ids[:, (i+1):(i+1)+seq_length].to(device)\n",
    "        \n",
    "        # Forward pass\n",
    "        states = detach(states)\n",
    "        outputs, states = model(inputs, states)\n",
    "        loss = criterion(outputs, targets.reshape(-1))\n",
    "        \n",
    "        # Backward and optimize\n",
    "        optimizer.zero_grad()\n",
    "        loss.backward()\n",
    "        clip_grad_norm_(model.parameters(), 0.5)\n",
    "        optimizer.step()\n",
    "\n",
    "        step = (i+1) // seq_length\n",
    "        if step % 100 == 0:\n",
    "            print ('Epoch [{}/{}], Step[{}/{}], Loss: {:.4f}, Perplexity: {:5.2f}'\n",
    "                   .format(epoch+1, num_epochs, step, num_batches, loss.item(), np.exp(loss.item())))"
   ]
  },
  {
   "cell_type": "code",
   "execution_count": 12,
   "metadata": {},
   "outputs": [
    {
     "output_type": "stream",
     "name": "stdout",
     "text": [
      "Sampled [100/1000] words and save to sample.txt\n",
      "Sampled [200/1000] words and save to sample.txt\n",
      "Sampled [300/1000] words and save to sample.txt\n",
      "Sampled [400/1000] words and save to sample.txt\n",
      "Sampled [500/1000] words and save to sample.txt\n",
      "Sampled [600/1000] words and save to sample.txt\n",
      "Sampled [700/1000] words and save to sample.txt\n",
      "Sampled [800/1000] words and save to sample.txt\n",
      "Sampled [900/1000] words and save to sample.txt\n",
      "Sampled [1000/1000] words and save to sample.txt\n"
     ]
    }
   ],
   "source": [
    "# Test the model\n",
    "with torch.no_grad():\n",
    "    with open('sample.txt', 'w') as f:\n",
    "        # Set intial hidden ane cell states\n",
    "        state = (torch.zeros(num_layers, 1, hidden_size).to(device),\n",
    "                 torch.zeros(num_layers, 1, hidden_size).to(device))\n",
    "\n",
    "        # Select one word id randomly\n",
    "        prob = torch.ones(vocab_size)\n",
    "        input = torch.multinomial(prob, num_samples=1).unsqueeze(1).to(device)\n",
    "\n",
    "        for i in range(num_samples):\n",
    "            # Forward propagate RNN \n",
    "            output, state = model(input, state)\n",
    "\n",
    "            # Sample a word id\n",
    "            prob = output.exp()\n",
    "            word_id = torch.multinomial(prob, num_samples=1).item()\n",
    "\n",
    "            # Fill input with sampled word id for the next time step\n",
    "            input.fill_(word_id)\n",
    "\n",
    "            # File write\n",
    "            word = corpus.dictionary.idx2word[word_id]\n",
    "            word = '\\n' if word == '<eos>' else word + ' '\n",
    "            f.write(word)\n",
    "\n",
    "            if (i+1) % 100 == 0:\n",
    "                print('Sampled [{}/{}] words and save to {}'.format(i+1, num_samples, 'sample.txt'))\n",
    "\n",
    "# Save the model checkpoints\n",
    "torch.save(model.state_dict(), 'lm_model.ckpt')"
   ]
  },
  {
   "cell_type": "code",
   "execution_count": null,
   "metadata": {},
   "outputs": [],
   "source": []
  }
 ]
}