{
 "metadata": {
  "language_info": {
   "codemirror_mode": {
    "name": "ipython",
    "version": 3
   },
   "file_extension": ".py",
   "mimetype": "text/x-python",
   "name": "python",
   "nbconvert_exporter": "python",
   "pygments_lexer": "ipython3",
   "version": "3.7.10"
  },
  "orig_nbformat": 2,
  "kernelspec": {
   "name": "python3710jvsc74a57bd03741168104164854fb79797301d42feb14a813506f4e2673a44440553c6e38ac",
   "display_name": "Python 3.7.10 64-bit ('geo': conda)"
  },
  "metadata": {
   "interpreter": {
    "hash": "3741168104164854fb79797301d42feb14a813506f4e2673a44440553c6e38ac"
   }
  }
 },
 "nbformat": 4,
 "nbformat_minor": 2,
 "cells": [
  {
   "cell_type": "code",
   "execution_count": 1,
   "metadata": {},
   "outputs": [],
   "source": [
    "from ogb.graphproppred import PygGraphPropPredDataset\n",
    "from torch_geometric.data import DataLoader"
   ]
  },
  {
   "cell_type": "code",
   "execution_count": 2,
   "metadata": {},
   "outputs": [
    {
     "output_type": "stream",
     "name": "stdout",
     "text": [
      "Downloading http://snap.stanford.edu/ogb/data/graphproppred/csv_mol_download/hiv.zip\n",
      "Downloaded 0.00 GB: 100%|██████████| 3/3 [00:08<00:00,  2.95s/it]\n",
      "Extracting dataset/hiv.zip\n",
      "Processing...\n",
      "Loading necessary files...\n",
      "This might take a while.\n",
      " 26%|██▌       | 10761/41127 [00:00<00:00, 107517.82it/s]Processing graphs...\n",
      "100%|██████████| 41127/41127 [00:00<00:00, 89665.98it/s]\n",
      "  9%|▉         | 3782/41127 [00:00<00:01, 27275.97it/s]Converting graphs into PyG objects...\n",
      "100%|██████████| 41127/41127 [00:00<00:00, 58392.57it/s]\n",
      "Saving...\n",
      "Done!\n"
     ]
    }
   ],
   "source": [
    "# Download and process data at './dataset/ogbg_molhiv/'\n",
    "dataset = PygGraphPropPredDataset(name = \"ogbg-molhiv\", root = 'dataset/')"
   ]
  },
  {
   "cell_type": "code",
   "execution_count": 3,
   "metadata": {},
   "outputs": [],
   "source": [
    "split_idx = dataset.get_idx_split() \n",
    "train_loader = DataLoader(dataset[split_idx[\"train\"]], batch_size=32, shuffle=True)\n",
    "valid_loader = DataLoader(dataset[split_idx[\"valid\"]], batch_size=32, shuffle=False)\n",
    "test_loader = DataLoader(dataset[split_idx[\"test\"]], batch_size=32, shuffle=False)"
   ]
  },
  {
   "cell_type": "code",
   "execution_count": 4,
   "metadata": {},
   "outputs": [],
   "source": [
    "from ogb.graphproppred import Evaluator"
   ]
  },
  {
   "cell_type": "code",
   "execution_count": 5,
   "metadata": {},
   "outputs": [],
   "source": [
    "evaluator = Evaluator(name = \"ogbg-molhiv\")"
   ]
  },
  {
   "cell_type": "code",
   "execution_count": 6,
   "metadata": {},
   "outputs": [
    {
     "output_type": "stream",
     "name": "stdout",
     "text": [
      "==== Expected input format of Evaluator for ogbg-molhiv\n{'y_true': y_true, 'y_pred': y_pred}\n- y_true: numpy ndarray or torch tensor of shape (num_graph, num_task)\n- y_pred: numpy ndarray or torch tensor of shape (num_graph, num_task)\nwhere y_pred stores score values (for computing AUC score),\nnum_task is 1, and each row corresponds to one graph.\nnan values in y_true are ignored during evaluation.\n\n==== Expected output format of Evaluator for ogbg-molhiv\n{'rocauc': rocauc}\n- rocauc (float): ROC-AUC score averaged across 1 task(s)\n\n"
     ]
    }
   ],
   "source": [
    "print(evaluator.expected_input_format) \n",
    "print(evaluator.expected_output_format) "
   ]
  },
  {
   "cell_type": "code",
   "execution_count": null,
   "metadata": {},
   "outputs": [],
   "source": [
    "# input_dict = {\"y_true\": y_true, \"y_pred\": y_pred}\n",
    "# result_dict = evaluator.eval(input_dict) # E.g., {\"rocauc\": 0.7321}"
   ]
  }
 ]
}