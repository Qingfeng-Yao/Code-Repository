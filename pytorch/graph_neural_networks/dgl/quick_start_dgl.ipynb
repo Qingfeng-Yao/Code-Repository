{
 "metadata": {
  "language_info": {
   "codemirror_mode": {
    "name": "ipython",
    "version": 3
   },
   "file_extension": ".py",
   "mimetype": "text/x-python",
   "name": "python",
   "nbconvert_exporter": "python",
   "pygments_lexer": "ipython3",
   "version": "3.6.13"
  },
  "orig_nbformat": 2,
  "kernelspec": {
   "name": "python3613jvsc74a57bd0e0daaf21f9d554f7484e588af2ed83984cca78a6cc4212915be2e8669b09988c",
   "display_name": "Python 3.6.13 64-bit ('dgl': conda)"
  },
  "metadata": {
   "interpreter": {
    "hash": "e0daaf21f9d554f7484e588af2ed83984cca78a6cc4212915be2e8669b09988c"
   }
  }
 },
 "nbformat": 4,
 "nbformat_minor": 2,
 "cells": [
  {
   "cell_type": "code",
   "execution_count": 1,
   "metadata": {},
   "outputs": [
    {
     "output_type": "stream",
     "name": "stderr",
     "text": [
      "Using backend: pytorch\n"
     ]
    }
   ],
   "source": [
    "import dgl\n",
    "import torch as th"
   ]
  },
  {
   "cell_type": "code",
   "execution_count": 2,
   "metadata": {},
   "outputs": [],
   "source": [
    "# 在GPU上使用DGLGraph: 可以将整张图复制到GPU上，这会将图结构和特征数据都拷贝到指定的设备\n",
    "u, v = th.tensor([0, 1, 2]), th.tensor([2, 3, 4])\n",
    "g = dgl.graph((u, v))"
   ]
  },
  {
   "cell_type": "code",
   "execution_count": 3,
   "metadata": {},
   "outputs": [
    {
     "output_type": "execute_result",
     "data": {
      "text/plain": [
       "device(type='cpu')"
      ]
     },
     "metadata": {},
     "execution_count": 3
    }
   ],
   "source": [
    "g.ndata['x'] = th.randn(5, 3)\n",
    "g.device"
   ]
  },
  {
   "cell_type": "code",
   "execution_count": 4,
   "metadata": {},
   "outputs": [
    {
     "output_type": "execute_result",
     "data": {
      "text/plain": [
       "device(type='cuda', index=0)"
      ]
     },
     "metadata": {},
     "execution_count": 4
    }
   ],
   "source": [
    "cuda_g = g.to('cuda:0') \n",
    "cuda_g.device"
   ]
  },
  {
   "cell_type": "code",
   "execution_count": 5,
   "metadata": {},
   "outputs": [
    {
     "output_type": "execute_result",
     "data": {
      "text/plain": [
       "device(type='cuda', index=0)"
      ]
     },
     "metadata": {},
     "execution_count": 5
    }
   ],
   "source": [
    "cuda_g.ndata['x'].device "
   ]
  },
  {
   "cell_type": "code",
   "execution_count": 6,
   "metadata": {},
   "outputs": [
    {
     "output_type": "execute_result",
     "data": {
      "text/plain": [
       "device(type='cuda', index=0)"
      ]
     },
     "metadata": {},
     "execution_count": 6
    }
   ],
   "source": [
    "# 或者先将构造的张量先复制到GPU上，然后构造好的图就在GPU上\n",
    "u, v = u.to('cuda:0'), v.to('cuda:0')\n",
    "g = dgl.graph((u, v))\n",
    "g.device"
   ]
  },
  {
   "cell_type": "code",
   "execution_count": 7,
   "metadata": {},
   "outputs": [],
   "source": [
    "# 测试数据类\n",
    "from dgl.data import SSTDataset"
   ]
  },
  {
   "cell_type": "code",
   "execution_count": 9,
   "metadata": {},
   "outputs": [],
   "source": [
    "# get dataset\n",
    "train_data = SSTDataset(raw_dir='data/')"
   ]
  },
  {
   "cell_type": "code",
   "execution_count": null,
   "metadata": {},
   "outputs": [],
   "source": []
  }
 ]
}