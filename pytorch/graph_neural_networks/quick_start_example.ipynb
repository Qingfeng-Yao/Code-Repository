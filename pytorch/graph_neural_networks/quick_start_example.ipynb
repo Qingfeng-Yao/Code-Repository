{
 "metadata": {
  "language_info": {
   "codemirror_mode": {
    "name": "ipython",
    "version": 3
   },
   "file_extension": ".py",
   "mimetype": "text/x-python",
   "name": "python",
   "nbconvert_exporter": "python",
   "pygments_lexer": "ipython3",
   "version": "3.7.10"
  },
  "orig_nbformat": 2,
  "kernelspec": {
   "name": "python3710jvsc74a57bd0905bede0b9d3779632e1b138e212cea750ec90152560e0dbe1d46137b0a12b61",
   "display_name": "Python 3.7.10 64-bit ('dynamicgcn': conda)"
  },
  "metadata": {
   "interpreter": {
    "hash": "905bede0b9d3779632e1b138e212cea750ec90152560e0dbe1d46137b0a12b61"
   }
  }
 },
 "nbformat": 4,
 "nbformat_minor": 2,
 "cells": [
  {
   "source": [
    "## 数据"
   ],
   "cell_type": "markdown",
   "metadata": {}
  },
  {
   "source": [
    "- torch_geometric.data\n",
    "    - Data\n",
    "    - DataLoader\n",
    "- torch_geometric.datasets\n",
    "- torch_geometric.transforms"
   ],
   "cell_type": "markdown",
   "metadata": {}
  },
  {
   "cell_type": "code",
   "execution_count": null,
   "metadata": {},
   "outputs": [],
   "source": [
    "'''\n",
    "单个图由torch_geometric.data.Data的一个实例描述\n",
    "具体属性：\n",
    "    data.x: 结点特征矩阵，[num_nodes, num_node_features]\n",
    "    data.edge_index: COO格式，[2, num_edges]，type为torch.long\n",
    "'''"
   ]
  },
  {
   "cell_type": "code",
   "execution_count": 1,
   "metadata": {},
   "outputs": [],
   "source": [
    "import torch\n",
    "from torch_geometric.data import Data"
   ]
  },
  {
   "cell_type": "code",
   "execution_count": 2,
   "metadata": {},
   "outputs": [
    {
     "output_type": "execute_result",
     "data": {
      "text/plain": [
       "Data(edge_index=[2, 4], x=[3, 1])"
      ]
     },
     "metadata": {},
     "execution_count": 2
    }
   ],
   "source": [
    "# 创建一个无权无向图，三个结点，四条边，每个结点只有一个特征\n",
    "edge_index = torch.tensor([[0, 1, 1, 2],\n",
    "                           [1, 0, 2, 1]], dtype=torch.long) # 若edge_index = torch.tensor([[0, 1], [1, 0], [1, 2], [2, 1]], dtype=torch.long)，则data = Data(x=x, edge_index=edge_index.t().contiguous())\n",
    "x = torch.tensor([[-1], [0], [1]], dtype=torch.float)\n",
    "\n",
    "data = Data(x=x, edge_index=edge_index)\n",
    "data"
   ]
  },
  {
   "cell_type": "code",
   "execution_count": 3,
   "metadata": {},
   "outputs": [
    {
     "output_type": "stream",
     "name": "stdout",
     "text": [
      "['x', 'edge_index']\ntensor([[-1.],\n        [ 0.],\n        [ 1.]])\n"
     ]
    }
   ],
   "source": [
    "print(data.keys)\n",
    "print(data['x'])\n"
   ]
  },
  {
   "cell_type": "code",
   "execution_count": 4,
   "metadata": {},
   "outputs": [
    {
     "output_type": "stream",
     "name": "stdout",
     "text": [
      "3 4 1 False False False\n"
     ]
    }
   ],
   "source": [
    "print(data.num_nodes, data.num_edges, data.num_node_features, data.contains_isolated_nodes(), data.contains_self_loops(), data.is_directed())"
   ]
  },
  {
   "cell_type": "code",
   "execution_count": 5,
   "metadata": {},
   "outputs": [],
   "source": [
    "device = torch.device('cuda')\n",
    "data = data.to(device)"
   ]
  },
  {
   "cell_type": "code",
   "execution_count": null,
   "metadata": {},
   "outputs": [],
   "source": [
    "'''\n",
    "常见基准数据集\n",
    "    所有Planetoid数据集: Cora, Citeseer, Pubmed\n",
    "    所有图分类数据集\n",
    "    QM7和QM9数据集\n",
    "    一些3D mesh/point cloud数据集，如FAUST, ModelNet10/40和ShapeNet\n",
    "这些数据集的初始化为自动下载源文件，并处理成上述Data格式\n",
    "'''"
   ]
  },
  {
   "cell_type": "code",
   "execution_count": 6,
   "metadata": {},
   "outputs": [],
   "source": [
    "# 下载ENZYMES数据集，包含600个图，共6类\n",
    "from torch_geometric.datasets import TUDataset"
   ]
  },
  {
   "cell_type": "code",
   "execution_count": 7,
   "metadata": {},
   "outputs": [],
   "source": [
    "dataset = TUDataset(root='data/ENZYMES', name='ENZYMES')"
   ]
  },
  {
   "cell_type": "code",
   "execution_count": 8,
   "metadata": {},
   "outputs": [
    {
     "output_type": "execute_result",
     "data": {
      "text/plain": [
       "ENZYMES(600)"
      ]
     },
     "metadata": {},
     "execution_count": 8
    }
   ],
   "source": [
    "dataset"
   ]
  },
  {
   "cell_type": "code",
   "execution_count": 9,
   "metadata": {},
   "outputs": [
    {
     "output_type": "stream",
     "name": "stdout",
     "text": [
      "6 3\n"
     ]
    }
   ],
   "source": [
    "print(dataset.num_classes, dataset.num_node_features)"
   ]
  },
  {
   "cell_type": "code",
   "execution_count": 10,
   "metadata": {},
   "outputs": [
    {
     "output_type": "execute_result",
     "data": {
      "text/plain": [
       "Data(edge_index=[2, 168], x=[37, 3], y=[1])"
      ]
     },
     "metadata": {},
     "execution_count": 10
    }
   ],
   "source": [
    "data = dataset[0] # 获取第一个图，168/2=84个无向边，该图被赋予一个类\n",
    "data"
   ]
  },
  {
   "cell_type": "code",
   "execution_count": 11,
   "metadata": {},
   "outputs": [
    {
     "output_type": "execute_result",
     "data": {
      "text/plain": [
       "True"
      ]
     },
     "metadata": {},
     "execution_count": 11
    }
   ],
   "source": [
    "data.is_undirected()"
   ]
  },
  {
   "cell_type": "code",
   "execution_count": 12,
   "metadata": {},
   "outputs": [
    {
     "output_type": "stream",
     "name": "stdout",
     "text": [
      "ENZYMES(540) ENZYMES(60)\n"
     ]
    }
   ],
   "source": [
    "train_dataset = dataset[:540]\n",
    "test_dataset = dataset[540:]\n",
    "print(train_dataset, test_dataset)"
   ]
  },
  {
   "cell_type": "code",
   "execution_count": 13,
   "metadata": {},
   "outputs": [],
   "source": [
    "dataset = dataset.shuffle() # 等价于perm = torch.randperm(len(dataset))  dataset = dataset[perm]"
   ]
  },
  {
   "cell_type": "code",
   "execution_count": 14,
   "metadata": {},
   "outputs": [],
   "source": [
    "# 下载Cora数据集(用于半监督图结点分类的基准数据集)\n",
    "from torch_geometric.datasets import Planetoid"
   ]
  },
  {
   "cell_type": "code",
   "execution_count": 15,
   "metadata": {},
   "outputs": [],
   "source": [
    "dataset = Planetoid(root='data/Cora', name='Cora') # 若遇到错误RemoteDisconnected: Remote end closed connection without response，则可直接从github上下载原始数据到目录data/Cora下"
   ]
  },
  {
   "cell_type": "code",
   "execution_count": 16,
   "metadata": {},
   "outputs": [
    {
     "output_type": "execute_result",
     "data": {
      "text/plain": [
       "1"
      ]
     },
     "metadata": {},
     "execution_count": 16
    }
   ],
   "source": [
    "len(dataset)"
   ]
  },
  {
   "cell_type": "code",
   "execution_count": 17,
   "metadata": {},
   "outputs": [
    {
     "output_type": "stream",
     "name": "stdout",
     "text": [
      "7 1433\n"
     ]
    }
   ],
   "source": [
    "print(dataset.num_classes, dataset.num_node_features)"
   ]
  },
  {
   "cell_type": "code",
   "execution_count": 18,
   "metadata": {},
   "outputs": [
    {
     "output_type": "stream",
     "name": "stdout",
     "text": [
      "Data(edge_index=[2, 10556], test_mask=[2708], train_mask=[2708], val_mask=[2708], x=[2708, 1433], y=[2708])\n"
     ]
    }
   ],
   "source": [
    "data = dataset[0]\n",
    "print(data)"
   ]
  },
  {
   "cell_type": "code",
   "execution_count": 19,
   "metadata": {},
   "outputs": [
    {
     "output_type": "stream",
     "name": "stdout",
     "text": [
      "True 140 500 1000\n"
     ]
    }
   ],
   "source": [
    "print(data.is_undirected(), data.train_mask.sum().item(), data.val_mask.sum().item(), data.test_mask.sum().item()) # mask表示对应的划分使用到的结点"
   ]
  },
  {
   "cell_type": "code",
   "execution_count": null,
   "metadata": {},
   "outputs": [],
   "source": [
    "'''\n",
    "Mini-batches和DataLoader\n",
    "'''"
   ]
  },
  {
   "cell_type": "code",
   "execution_count": 20,
   "metadata": {},
   "outputs": [],
   "source": [
    "from torch_geometric.datasets import TUDataset\n",
    "from torch_geometric.data import DataLoader"
   ]
  },
  {
   "cell_type": "code",
   "execution_count": 21,
   "metadata": {},
   "outputs": [],
   "source": [
    "dataset = TUDataset(root='data/ENZYMES', name='ENZYMES', use_node_attr=True)\n",
    "loader = DataLoader(dataset, batch_size=32, shuffle=True)"
   ]
  },
  {
   "cell_type": "code",
   "execution_count": 22,
   "metadata": {},
   "outputs": [
    {
     "output_type": "stream",
     "name": "stdout",
     "text": [
      "Batch(batch=[1116], edge_index=[2, 4172], ptr=[33], x=[1116, 21], y=[32])\n32\nBatch(batch=[1235], edge_index=[2, 4422], ptr=[33], x=[1235, 21], y=[32])\n32\nBatch(batch=[979], edge_index=[2, 3760], ptr=[33], x=[979, 21], y=[32])\n32\nBatch(batch=[1011], edge_index=[2, 3862], ptr=[33], x=[1011, 21], y=[32])\n32\nBatch(batch=[1047], edge_index=[2, 4166], ptr=[33], x=[1047, 21], y=[32])\n32\nBatch(batch=[1069], edge_index=[2, 4114], ptr=[33], x=[1069, 21], y=[32])\n32\nBatch(batch=[1009], edge_index=[2, 3916], ptr=[33], x=[1009, 21], y=[32])\n32\nBatch(batch=[1013], edge_index=[2, 3850], ptr=[33], x=[1013, 21], y=[32])\n32\nBatch(batch=[950], edge_index=[2, 3656], ptr=[33], x=[950, 21], y=[32])\n32\nBatch(batch=[977], edge_index=[2, 3894], ptr=[33], x=[977, 21], y=[32])\n32\nBatch(batch=[1026], edge_index=[2, 4004], ptr=[33], x=[1026, 21], y=[32])\n32\nBatch(batch=[1008], edge_index=[2, 3634], ptr=[33], x=[1008, 21], y=[32])\n32\nBatch(batch=[1000], edge_index=[2, 3892], ptr=[33], x=[1000, 21], y=[32])\n32\nBatch(batch=[933], edge_index=[2, 3776], ptr=[33], x=[933, 21], y=[32])\n32\nBatch(batch=[1020], edge_index=[2, 4004], ptr=[33], x=[1020, 21], y=[32])\n32\nBatch(batch=[1110], edge_index=[2, 4046], ptr=[33], x=[1110, 21], y=[32])\n32\nBatch(batch=[1109], edge_index=[2, 4188], ptr=[33], x=[1109, 21], y=[32])\n32\nBatch(batch=[1115], edge_index=[2, 4074], ptr=[33], x=[1115, 21], y=[32])\n32\nBatch(batch=[853], edge_index=[2, 3134], ptr=[25], x=[853, 21], y=[24])\n24\n"
     ]
    }
   ],
   "source": [
    "for batch in loader:\n",
    "    print(batch) # batch是个列向量，将每个结点映射到它对应的图中\n",
    "    print(batch.num_graphs)"
   ]
  },
  {
   "cell_type": "code",
   "execution_count": 23,
   "metadata": {},
   "outputs": [
    {
     "output_type": "stream",
     "name": "stdout",
     "text": [
      "Batch(batch=[1026], edge_index=[2, 4048], ptr=[33], x=[1026, 21], y=[32])\n32\ntorch.Size([32, 21])\nBatch(batch=[1187], edge_index=[2, 4080], ptr=[33], x=[1187, 21], y=[32])\n32\ntorch.Size([32, 21])\nBatch(batch=[1087], edge_index=[2, 4158], ptr=[33], x=[1087, 21], y=[32])\n32\ntorch.Size([32, 21])\nBatch(batch=[1027], edge_index=[2, 3880], ptr=[33], x=[1027, 21], y=[32])\n32\ntorch.Size([32, 21])\nBatch(batch=[1084], edge_index=[2, 4310], ptr=[33], x=[1084, 21], y=[32])\n32\ntorch.Size([32, 21])\nBatch(batch=[1085], edge_index=[2, 4028], ptr=[33], x=[1085, 21], y=[32])\n32\ntorch.Size([32, 21])\nBatch(batch=[949], edge_index=[2, 3810], ptr=[33], x=[949, 21], y=[32])\n32\ntorch.Size([32, 21])\nBatch(batch=[1000], edge_index=[2, 3998], ptr=[33], x=[1000, 21], y=[32])\n32\ntorch.Size([32, 21])\nBatch(batch=[1038], edge_index=[2, 3878], ptr=[33], x=[1038, 21], y=[32])\n32\ntorch.Size([32, 21])\nBatch(batch=[1066], edge_index=[2, 4162], ptr=[33], x=[1066, 21], y=[32])\n32\ntorch.Size([32, 21])\nBatch(batch=[1048], edge_index=[2, 3880], ptr=[33], x=[1048, 21], y=[32])\n32\ntorch.Size([32, 21])\nBatch(batch=[1100], edge_index=[2, 4048], ptr=[33], x=[1100, 21], y=[32])\n32\ntorch.Size([32, 21])\nBatch(batch=[1025], edge_index=[2, 3828], ptr=[33], x=[1025, 21], y=[32])\n32\ntorch.Size([32, 21])\nBatch(batch=[1003], edge_index=[2, 3910], ptr=[33], x=[1003, 21], y=[32])\n32\ntorch.Size([32, 21])\nBatch(batch=[1126], edge_index=[2, 4470], ptr=[33], x=[1126, 21], y=[32])\n32\ntorch.Size([32, 21])\nBatch(batch=[992], edge_index=[2, 3788], ptr=[33], x=[992, 21], y=[32])\n32\ntorch.Size([32, 21])\nBatch(batch=[1015], edge_index=[2, 3554], ptr=[33], x=[1015, 21], y=[32])\n32\ntorch.Size([32, 21])\nBatch(batch=[1057], edge_index=[2, 4068], ptr=[33], x=[1057, 21], y=[32])\n32\ntorch.Size([32, 21])\nBatch(batch=[665], edge_index=[2, 2666], ptr=[25], x=[665, 21], y=[24])\n24\ntorch.Size([24, 21])\n"
     ]
    }
   ],
   "source": [
    "from torch_scatter import scatter_mean\n",
    "for data in loader:\n",
    "    print(data)\n",
    "    print(data.num_graphs)\n",
    "    x = scatter_mean(data.x, data.batch, dim=0)\n",
    "    print(x.size())"
   ]
  },
  {
   "cell_type": "code",
   "execution_count": null,
   "metadata": {},
   "outputs": [],
   "source": [
    "'''\n",
    "Data Transforms: 以Data为输入，返回一个变换后的Data\n",
    "可用torch_geometric.transforms.Compose链接变换\n",
    "'''"
   ]
  },
  {
   "cell_type": "code",
   "execution_count": 24,
   "metadata": {},
   "outputs": [
    {
     "output_type": "stream",
     "name": "stdout",
     "text": [
      "Processing...\n",
      "Done!\n"
     ]
    }
   ],
   "source": [
    "from torch_geometric.datasets import ShapeNet\n",
    "dataset = ShapeNet(root='data/ShapeNet', categories=['Airplane']) # 点云数据集，包含17000个3D形状的点云，共有16个形状类别"
   ]
  },
  {
   "cell_type": "code",
   "execution_count": 25,
   "metadata": {},
   "outputs": [
    {
     "output_type": "execute_result",
     "data": {
      "text/plain": [
       "Data(category=[1], pos=[2518, 3], x=[2518, 3], y=[2518])"
      ]
     },
     "metadata": {},
     "execution_count": 25
    }
   ],
   "source": [
    "dataset[0]"
   ]
  },
  {
   "cell_type": "code",
   "execution_count": 26,
   "metadata": {},
   "outputs": [
    {
     "output_type": "stream",
     "name": "stdout",
     "text": [
      "Processing...\n",
      "Done!\n",
      "Data(category=[1], edge_index=[2, 15108], pos=[2518, 3], x=[2518, 3], y=[2518])\n"
     ]
    }
   ],
   "source": [
    "# 通过生成最近邻图来将点云数据集变换成图数据集\n",
    "import torch_geometric.transforms as T\n",
    "dataset = ShapeNet(root='data/ShapeNet', categories=['Airplane'],\n",
    "                    pre_transform=T.KNNGraph(k=6)) # 需要先删除之前生成的processed; 还可添加参数transform=T.RandomTranslate(0.01)\n",
    "print(dataset[0])\n"
   ]
  },
  {
   "source": [
    "## 图上的学习方法"
   ],
   "cell_type": "markdown",
   "metadata": {}
  },
  {
   "source": [
    "- torch_geometric.nn"
   ],
   "cell_type": "markdown",
   "metadata": {}
  },
  {
   "cell_type": "code",
   "execution_count": 27,
   "metadata": {},
   "outputs": [],
   "source": [
    "dataset = Planetoid(root='data/Cora', name='Cora')"
   ]
  },
  {
   "cell_type": "code",
   "execution_count": 28,
   "metadata": {},
   "outputs": [
    {
     "output_type": "stream",
     "name": "stdout",
     "text": [
      "Cora()\n"
     ]
    }
   ],
   "source": [
    "print(dataset)"
   ]
  },
  {
   "cell_type": "code",
   "execution_count": 29,
   "metadata": {},
   "outputs": [],
   "source": [
    "## 执行两层GCN\n",
    "import torch.nn.functional as F\n",
    "from torch_geometric.nn import GCNConv\n",
    "\n",
    "class Net(torch.nn.Module):\n",
    "    def __init__(self):\n",
    "        super(Net, self).__init__()\n",
    "        self.conv1 = GCNConv(dataset.num_node_features, 16)\n",
    "        self.conv2 = GCNConv(16, dataset.num_classes)\n",
    "\n",
    "    def forward(self, data):\n",
    "        x, edge_index = data.x, data.edge_index\n",
    "\n",
    "        x = self.conv1(x, edge_index)\n",
    "        x = F.relu(x)\n",
    "        x = F.dropout(x, training=self.training)\n",
    "        x = self.conv2(x, edge_index)\n",
    "\n",
    "        return F.log_softmax(x, dim=1)"
   ]
  },
  {
   "cell_type": "code",
   "execution_count": 30,
   "metadata": {},
   "outputs": [],
   "source": [
    "device = torch.device('cuda' if torch.cuda.is_available() else 'cpu')\n",
    "model = Net().to(device)\n",
    "data = dataset[0].to(device)\n",
    "optimizer = torch.optim.Adam(model.parameters(), lr=0.01, weight_decay=5e-4)\n",
    "\n",
    "model.train()\n",
    "for epoch in range(200):\n",
    "    optimizer.zero_grad()\n",
    "    out = model(data)\n",
    "    loss = F.nll_loss(out[data.train_mask], data.y[data.train_mask])\n",
    "    loss.backward()\n",
    "    optimizer.step()"
   ]
  },
  {
   "cell_type": "code",
   "execution_count": 31,
   "metadata": {},
   "outputs": [
    {
     "output_type": "stream",
     "name": "stdout",
     "text": [
      "Accuracy: 0.7940\n"
     ]
    }
   ],
   "source": [
    "model.eval()\n",
    "_, pred = model(data).max(dim=1)\n",
    "correct = int(pred[data.test_mask].eq(data.y[data.test_mask]).sum().item())\n",
    "acc = correct / int(data.test_mask.sum())\n",
    "print('Accuracy: {:.4f}'.format(acc))"
   ]
  },
  {
   "cell_type": "code",
   "execution_count": null,
   "metadata": {},
   "outputs": [],
   "source": []
  }
 ]
}