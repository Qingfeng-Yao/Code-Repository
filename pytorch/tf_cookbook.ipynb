{
 "cells": [
  {
   "cell_type": "markdown",
   "metadata": {},
   "source": [
    "- 基本概念\n",
    "    - tf.logging\n",
    "    - 数据类型 \n",
    "    - 激活函数\n",
    "    - 损失函数\n",
    "- 变量\n",
    "- 常见张量计算\n",
    "- 常见张量操作\n",
    "- 构建网络\n",
    "    - scope\n",
    "    - 嵌入层及其他网络层\n",
    "    - 其他操作: 归一化"
   ]
  },
  {
   "cell_type": "markdown",
   "metadata": {},
   "source": [
    "## 基本概念"
   ]
  },
  {
   "cell_type": "code",
   "execution_count": 4,
   "metadata": {},
   "outputs": [
    {
     "data": {
      "text/plain": [
       "'1.10.0'"
      ]
     },
     "execution_count": 4,
     "metadata": {},
     "output_type": "execute_result"
    }
   ],
   "source": [
    "import tensorflow as tf\n",
    "# tensorflow1.0: 静态图\n",
    "tf.__version__"
   ]
  },
  {
   "cell_type": "code",
   "execution_count": 3,
   "metadata": {},
   "outputs": [
    {
     "name": "stdout",
     "output_type": "stream",
     "text": [
      "INFO:tensorflow:...\n"
     ]
    }
   ],
   "source": [
    "# tf.logging 本身就调用了 logging ，会产生两套 handlers，使得每次tf.logging.info(\"...\") 时会将其中内容打印两遍\n",
    "tf.logging.info(\"...\")"
   ]
  },
  {
   "cell_type": "code",
   "execution_count": null,
   "metadata": {},
   "outputs": [],
   "source": [
    "# dtype\n",
    "    # tf.int64\n",
    "    # tf.float32\n",
    "    # tf.bool"
   ]
  },
  {
   "cell_type": "code",
   "execution_count": null,
   "metadata": {},
   "outputs": [],
   "source": [
    "# 激活函数\n",
    "    # tf.nn.softmax\n",
    "    # tf.nn.sigmoid"
   ]
  },
  {
   "cell_type": "code",
   "execution_count": null,
   "metadata": {},
   "outputs": [],
   "source": [
    "# 损失函数\n",
    "    # tf.nn.sigmoid_cross_entropy_with_logits"
   ]
  },
  {
   "cell_type": "markdown",
   "metadata": {},
   "source": [
    "## 变量"
   ]
  },
  {
   "cell_type": "code",
   "execution_count": null,
   "metadata": {},
   "outputs": [],
   "source": [
    "# tf.constant(list) | tf.constant(\"\", shape=[1, 1])"
   ]
  },
  {
   "cell_type": "code",
   "execution_count": null,
   "metadata": {},
   "outputs": [],
   "source": [
    "# tf.identity(input_tensor)：返回一个和input_tensor形状相同的tensor"
   ]
  },
  {
   "cell_type": "code",
   "execution_count": null,
   "metadata": {},
   "outputs": [],
   "source": [
    "# tf.ones_like | tf.zeros_like"
   ]
  },
  {
   "cell_type": "code",
   "execution_count": null,
   "metadata": {},
   "outputs": [],
   "source": [
    "# tf.SparseTensor(values,indices,dense_shape)：三个参数均可使用np.array定义，定义稀疏tensor，可以节省内存\n",
    "# tf.sparse_tensor_to_dense(sp_input,default_value=0)：将 SparseTensor 转换为稠密张量\n",
    "# tf.sparse_to_dense(sparse_indices, output_shape, sparse_values, default_value=0)"
   ]
  },
  {
   "cell_type": "code",
   "execution_count": null,
   "metadata": {},
   "outputs": [],
   "source": [
    "# tf.Variable(initial_value=0, name=\"global_step\", trainable=False, dtype=tf.int64)"
   ]
  },
  {
   "cell_type": "code",
   "execution_count": null,
   "metadata": {},
   "outputs": [],
   "source": [
    "# tf.get_variable(name=\"\", shape=[,], collections=[模型变量集合名称, tf.GraphKeys.GLOBAL_VARIABLES, ops.GraphKeys.MODEL_VARIABLES], initializer=tf.truncated_normal_initializer(stddev=0.001))"
   ]
  },
  {
   "cell_type": "code",
   "execution_count": null,
   "metadata": {},
   "outputs": [],
   "source": [
    "# tf.get_collection(key)：可以用来获取key集合中的所有变量，返回一个列表。如GraphKeys类包含许多标准集合名，如tf.GraphKeys.REGULARIZATION_LOSSES、tf.GraphKeys.VARIABLES、tf.GraphKeys.TRAINABLE_VARIABLES、tf.GraphKeys.GLOBAL_STEP、tf.GraphKeys.GLOBAL_VARIABLES、tf.GraphKeys.UPDATE_OPS\n",
    "\n",
    "# tf.add_to_collection('all_loss', self.loss)\n",
    "# tf.get_collection('all_loss')"
   ]
  },
  {
   "cell_type": "markdown",
   "metadata": {},
   "source": [
    "## 常见张量计算"
   ]
  },
  {
   "cell_type": "code",
   "execution_count": null,
   "metadata": {},
   "outputs": [],
   "source": [
    "# tf.reduce_sum | tf.reduce_mean | tf.reduce_max\n",
    "    # 如果不指定维度，则计算所有元素"
   ]
  },
  {
   "cell_type": "code",
   "execution_count": null,
   "metadata": {},
   "outputs": [],
   "source": [
    "# tf.pow | tf.square | tf.add | tf.sqrt"
   ]
  },
  {
   "cell_type": "code",
   "execution_count": null,
   "metadata": {},
   "outputs": [],
   "source": [
    "# 乘法\n",
    "    # tf.multiply(x, y)：两个矩阵中对应元素各自相乘\n",
    "    # tf.matmul(a, b)：将矩阵a乘以矩阵b"
   ]
  },
  {
   "cell_type": "code",
   "execution_count": null,
   "metadata": {},
   "outputs": [],
   "source": [
    "# tf.logical_or(x, y)：期望输入布尔类型。输入类型为张量，如果张量包含多个元素，则将按元素进行逻辑或运算"
   ]
  },
  {
   "cell_type": "markdown",
   "metadata": {},
   "source": [
    "## 常见张量操作"
   ]
  },
  {
   "cell_type": "code",
   "execution_count": null,
   "metadata": {},
   "outputs": [],
   "source": [
    "# tensor.get_shape().as_list()\n",
    "# tf.shape：获取张量的形状\n",
    "# tf.reshape(tensor, shape)：若shape为[]，输出标量；若shape为[-1]，则展平张量\n",
    "# tf.expand_dims(input,axis=None)：在axis轴处给input增加一个维度"
   ]
  },
  {
   "cell_type": "code",
   "execution_count": null,
   "metadata": {},
   "outputs": [],
   "source": [
    "# tf.concat(values, axis)：按照指定的已经存在的轴进行拼接\n",
    "# tf.stack(values, axis)：按照指定的新建的轴进行拼接"
   ]
  },
  {
   "cell_type": "code",
   "execution_count": null,
   "metadata": {},
   "outputs": [],
   "source": [
    "# tf.tile(input, multiples)：两个参数形状需要一致，第二个参数指明每个维度的复制次数"
   ]
  },
  {
   "cell_type": "code",
   "execution_count": null,
   "metadata": {},
   "outputs": [],
   "source": [
    "# tf.split(input_tensor,num_or_size_splits,axis=0)：num_or_size_splits如果是个整数n，就将输入的tensor分为n个子tensor。如果是个list T，就将输入的tensor分为len(T)个子tensor"
   ]
  },
  {
   "cell_type": "code",
   "execution_count": null,
   "metadata": {},
   "outputs": [],
   "source": [
    "# tf.argmax | tf.maximum"
   ]
  },
  {
   "cell_type": "code",
   "execution_count": null,
   "metadata": {},
   "outputs": [],
   "source": [
    "# tf.equal(A, B)：对比这两个矩阵或者向量的相等的元素，如果是相等的那就返回True，否则返回False，返回的值的矩阵维度和A是一样的"
   ]
  },
  {
   "cell_type": "code",
   "execution_count": null,
   "metadata": {},
   "outputs": [],
   "source": [
    "# tf.where(condition, x=None, y=None)：若只有参数condition，则返回condition中为True的索引。若有x和y，则x, y相同维度，返回值是对应元素，condition中元素为True的元素替换为x中的元素，为False的元素替换为y中对应元素"
   ]
  },
  {
   "cell_type": "code",
   "execution_count": null,
   "metadata": {},
   "outputs": [],
   "source": [
    "# tf.sequence_mask(lengths,maxlen=None,dtype=tf.bool)：用于数据填充。返回值mask张量：默认mask张量就是布尔格式的一种张量表达，只有True和 False 格式，也可以通过参数dtype指定其他数据格式。参数lengths：表示的是长度；可以是标量，也可以是列表 [ ] ，也可以是二维列表[ [ ],[ ] ,…]，甚至是多维列表…，一般列表类型的用的比较多。参数maxlen：当默认None，默认从lengths中获取最大的那个数字，决定返回mask张量的长度；当为N时，返回的是N长度"
   ]
  },
  {
   "cell_type": "code",
   "execution_count": null,
   "metadata": {},
   "outputs": [],
   "source": [
    "# tf.assign(A, new_number)：这个函数的功能主要是把A的值变为new_number\n",
    "# tf.assign_add(ref,value)：更新ref的值，通过增加value，即：ref = ref + value"
   ]
  },
  {
   "cell_type": "markdown",
   "metadata": {},
   "source": [
    "## 构建网络"
   ]
  },
  {
   "cell_type": "code",
   "execution_count": null,
   "metadata": {},
   "outputs": [],
   "source": [
    "# with arg_scope(self_define_arg_scope(weight_decay=...)):"
   ]
  },
  {
   "cell_type": "code",
   "execution_count": null,
   "metadata": {},
   "outputs": [],
   "source": [
    "# with tf.variable_scope(name_or_scope=\"...\", partitioner=self_define_partitioner(ps_num, partition_size), reuse=tf.AUTO_REUSE) as scope:"
   ]
  },
  {
   "cell_type": "code",
   "execution_count": null,
   "metadata": {},
   "outputs": [],
   "source": [
    "# with variable_scope.variable_scope(\"hiddenlayer_name\",reuse=tf.AUTO_REUSE) as hidden_layer_scope:"
   ]
  },
  {
   "cell_type": "code",
   "execution_count": null,
   "metadata": {},
   "outputs": [],
   "source": [
    "# with tf.name_scope(\"...\"):"
   ]
  },
  {
   "cell_type": "code",
   "execution_count": null,
   "metadata": {},
   "outputs": [],
   "source": [
    "# 嵌入\n",
    "# tf.nn.embedding_lookup(嵌入矩阵, 索引)"
   ]
  },
  {
   "cell_type": "code",
   "execution_count": null,
   "metadata": {},
   "outputs": [],
   "source": [
    "# from tensorflow.contrib import layers"
   ]
  },
  {
   "cell_type": "code",
   "execution_count": null,
   "metadata": {},
   "outputs": [],
   "source": [
    "# layers.input_from_feature_columns(columns_to_tensors=self.features,feature_columns=[feature_column],scope=tf.variable_scope)\n",
    "# layers.fully_connected(输入, 输出维度, activation_fn=tf.nn.softmax, variables_collections=模型变量名称, outputs_collections=模型变量名称, scope=variable_scope.variable_scope)\n",
    "# layers.linear(输入, 输出维度, scope=tf.variable_scope, variables_collections=[模型变量名称], outputs_collections=[模型变量名称])\n",
    "# layers.batch_norm(input_vec, scale=True, is_training=self.is_training,scope=variable_scope.variable_scope, variables_collections=模型变量名称, outputs_collections=模型变量名称)"
   ]
  },
  {
   "cell_type": "code",
   "execution_count": null,
   "metadata": {},
   "outputs": [],
   "source": [
    "# 归一化\n",
    "# tf.nn.l2_normalize(张量)：元素除以各自的范数"
   ]
  }
 ],
 "metadata": {
  "interpreter": {
   "hash": "dbbf180547979de83b0f3e635da0b334b607bbd5ed71c61d1ea69a8ffcc4665b"
  },
  "kernelspec": {
   "display_name": "Python 3.6.13 64-bit ('tfone': conda)",
   "name": "python3"
  },
  "language_info": {
   "codemirror_mode": {
    "name": "ipython",
    "version": 3
   },
   "file_extension": ".py",
   "mimetype": "text/x-python",
   "name": "python",
   "nbconvert_exporter": "python",
   "pygments_lexer": "ipython3",
   "version": "3.6.13"
  },
  "orig_nbformat": 4
 },
 "nbformat": 4,
 "nbformat_minor": 2
}