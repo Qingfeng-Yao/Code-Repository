{
 "cells": [
  {
   "cell_type": "markdown",
   "metadata": {},
   "source": [
    "## bubble sort 冒泡排序"
   ]
  },
  {
   "cell_type": "code",
   "execution_count": 1,
   "metadata": {},
   "outputs": [
    {
     "output_type": "stream",
     "name": "stdout",
     "text": "[-1, 2, 4, 5, 6, 6, 7, 8, 10]\n"
    }
   ],
   "source": [
    "def bubble_sort(a):\n",
    "    # 从数组的第一位开始，很后面的值比较（以2为窗口移动）----> 大值沉底\n",
    "    length = len(a)\n",
    "    if length <= 1:\n",
    "        return\n",
    "\n",
    "    for i in range(length):\n",
    "        made_swap = False\n",
    "        for j in range(length - i - 1):\n",
    "            if a[j] > a[j + 1]:\n",
    "                a[j], a[j + 1] = a[j + 1], a[j]\n",
    "                made_swap = True\n",
    "        if not made_swap:\n",
    "            break\n",
    "\n",
    "array = [5, 6, -1, 4, 2, 8, 10, 7, 6]\n",
    "bubble_sort(array)\n",
    "print(array)"
   ]
  },
  {
   "cell_type": "markdown",
   "metadata": {},
   "source": [
    "## insertion sort 插入排序"
   ]
  },
  {
   "cell_type": "code",
   "execution_count": 2,
   "metadata": {},
   "outputs": [
    {
     "output_type": "stream",
     "name": "stdout",
     "text": "[-1, 2, 4, 5, 6, 6, 7, 8, 10]\n"
    }
   ],
   "source": [
    "def insertion_sort(a):\n",
    "    # 从数组的第二位开始（保存该值），不断和前面比较 ----> 确定插入的位置\n",
    "    length = len(a)\n",
    "    if length <= 1:\n",
    "        return\n",
    "\n",
    "    for i in range(1, length):\n",
    "        value = a[i]\n",
    "        j = i - 1\n",
    "        while j >= 0 and a[j] > value:\n",
    "            a[j + 1] = a[j]\n",
    "            j -= 1\n",
    "        a[j + 1] = value\n",
    "\n",
    "array = [5, 6, -1, 4, 2, 8, 10, 7, 6]\n",
    "insertion_sort(array)\n",
    "print(array)"
   ]
  },
  {
   "cell_type": "markdown",
   "metadata": {},
   "source": [
    "## selection sort 选择排序"
   ]
  },
  {
   "cell_type": "code",
   "execution_count": 3,
   "metadata": {},
   "outputs": [
    {
     "output_type": "stream",
     "name": "stdout",
     "text": "[-1, 2, 4, 5, 6, 6, 7, 8, 10]\n"
    }
   ],
   "source": [
    "def selection_sort(a):\n",
    "    # 从数组的第一位开始，认为它是最小值，然后与后面的所有值进行比较 ----> 将最小值筛选出来\n",
    "    length = len(a)\n",
    "    if length <= 1:\n",
    "        return\n",
    "\n",
    "    for i in range(length):\n",
    "        min_index = i\n",
    "        min_val = a[i]\n",
    "        for j in range(i, length):\n",
    "            if a[j] < min_val:\n",
    "                min_val = a[j]\n",
    "                min_index = j\n",
    "        a[i], a[min_index] = a[min_index], a[i]\n",
    "\n",
    "array = [5, 6, -1, 4, 2, 8, 10, 7, 6]\n",
    "selection_sort(array)\n",
    "print(array)"
   ]
  },
  {
   "cell_type": "markdown",
   "metadata": {},
   "source": [
    "## merge sort 归并排序"
   ]
  },
  {
   "cell_type": "code",
   "execution_count": 5,
   "metadata": {},
   "outputs": [
    {
     "output_type": "stream",
     "name": "stdout",
     "text": "[3, 5, 6, 7, 8]\n[2, 2, 2, 2]\n[1, 2, 3, 4]\n[-2, -1, 3, 3, 5, 7, 8, 9, 9]\n"
    }
   ],
   "source": [
    "def merge_sort(a):\n",
    "    _merge_sort_between(a, 0, len(a) - 1)  # 需要三个参数：待排序的数组，左索引，右索引；然后确定中间索引，递归\n",
    "\n",
    "def _merge_sort_between(a, low, high):\n",
    "    # The indices are inclusive for both low and high.\n",
    "    if low < high:\n",
    "        mid = low + (high - low) // 2\n",
    "        _merge_sort_between(a, low, mid)\n",
    "        _merge_sort_between(a, mid + 1, high)\n",
    "        _merge(a, low, mid, high)\n",
    "\n",
    "def _merge(a, low, mid, high):\n",
    "    # a[low:mid], a[mid+1, high] are sorted.\n",
    "    # _merge() takes two sorted subarrays of a and merges them into a single sorted subarray of a.\n",
    "\n",
    "    i, j = low, mid + 1\n",
    "    tmp = []\n",
    "    while i <= mid and j <= high:\n",
    "        if a[i] <= a[j]:\n",
    "            tmp.append(a[i])\n",
    "            i += 1\n",
    "        else:\n",
    "            tmp.append(a[j])\n",
    "            j += 1\n",
    "    start = i if i <= mid else j\n",
    "    end = mid if i <= mid else high\n",
    "    tmp.extend(a[start:end + 1])\n",
    "    a[low:high + 1] = tmp\n",
    "\n",
    "a1 = [3, 5, 6, 7, 8]\n",
    "a2 = [2, 2, 2, 2]\n",
    "a3 = [4, 3, 2, 1]\n",
    "a4 = [5, -1, 9, 3, 7, 8, 3, -2, 9]\n",
    "merge_sort(a1)\n",
    "print(a1)\n",
    "merge_sort(a2)\n",
    "print(a2)\n",
    "merge_sort(a3)\n",
    "print(a3)\n",
    "merge_sort(a4)\n",
    "print(a4)"
   ]
  },
  {
   "cell_type": "markdown",
   "metadata": {},
   "source": [
    "## heapsort 堆排序"
   ]
  },
  {
   "cell_type": "code",
   "execution_count": 2,
   "metadata": {},
   "outputs": [
    {
     "output_type": "stream",
     "name": "stdout",
     "text": [
      "[16, 14, 10, 8, 7, 9, 3, 2, 4, 1]\n"
     ]
    }
   ],
   "source": [
    "def parent(i):\n",
    "    return (i-1)//2\n",
    "\n",
    "def left(i):\n",
    "    return 2*i+1\n",
    "\n",
    "def right(i):\n",
    "    return 2*i+2\n",
    "\n",
    "def heap_sort(a):\n",
    "    length = len(a)\n",
    "\n",
    "    _build_max_heap(a, length) # 此时根有最大值\n",
    "\n",
    "    for i in range(length-1, 0, -1): # 一个个交换元素 此时A[n]存储有准确的值\n",
    "        a[0], a[i] = a[i], a[0]\n",
    "        _max_heapify(a, i, 0)\n",
    "\n",
    "def _build_max_heap(a, length):\n",
    "    for i in range(length//2-1, -1, -1):  # 索引从0开始\n",
    "        _max_heapify(a, length , i)\n",
    "\n",
    "# construct a sub-tree whose root is node i\n",
    "def _max_heapify(a, length, i):\n",
    "    l = left(i)\n",
    "    r = right(i)\n",
    "    largest = 0\n",
    "  \n",
    "    if l <= length-1 and a[i] < a[l]: \n",
    "        largest = l \n",
    "    else:\n",
    "        largest = i\n",
    "  \n",
    "    if r <= length-1 and a[largest] < a[r]: \n",
    "        largest = r \n",
    "  \n",
    "    if largest != i: \n",
    "        a[i], a[largest] = a[largest], a[i]  \n",
    "        _max_heapify(a, length, largest) \n",
    "\n",
    "a = [16,14,10,8,7,9,3,2,4,1]\n",
    "heap_sort(a)\n",
    "print(a)"
   ]
  },
  {
   "cell_type": "markdown",
   "metadata": {},
   "source": [
    "## quick sort 快速排序"
   ]
  },
  {
   "cell_type": "code",
   "execution_count": 1,
   "metadata": {},
   "outputs": [
    {
     "output_type": "stream",
     "name": "stdout",
     "text": "[0, 2, 3, 4, 5, 7, 7, 9, 9, 32]\n"
    }
   ],
   "source": [
    "def quicksort(items, p, r):\n",
    "    if p < r:\n",
    "        q = partition(items, p, r)\n",
    "        quicksort(items, p, q-1)\n",
    "        quicksort(items, q+1, r)\n",
    "\n",
    "def partition(items, p, r):\n",
    "    x = items[r] # pivot的值\n",
    "    i = p-1 \n",
    "    for j in range(p, r):\n",
    "        if items[j] <= x:\n",
    "            i = i + 1\n",
    "            items[i],items[j] = items[j],items[i]\n",
    "\n",
    "    items[i+1],items[r] = items[r],items[i+1]\n",
    "    return i+1 # pivot的索引\n",
    "\n",
    "items = [2,5,9,3,7,32,9,7,0,4]\n",
    "quicksort(items, 0, len(items)-1)\n",
    "print(items)"
   ]
  },
  {
   "cell_type": "code",
   "execution_count": null,
   "metadata": {},
   "outputs": [],
   "source": []
  }
 ],
 "metadata": {
  "language_info": {
   "name": "python",
   "codemirror_mode": {
    "name": "ipython",
    "version": 3
   },
   "version": "3.8.5"
  },
  "orig_nbformat": 2,
  "file_extension": ".py",
  "mimetype": "text/x-python",
  "name": "python",
  "npconvert_exporter": "python",
  "pygments_lexer": "ipython3",
  "version": 3,
  "kernelspec": {
   "name": "python3",
   "display_name": "Python 3.8.5 64-bit ('base': conda)",
   "metadata": {
    "interpreter": {
     "hash": "d24216a0e3b29d1c8fc2c8b04f9c145c493f063f4d75feb6fcf45df083af4ebe"
    }
   }
  }
 },
 "nbformat": 4,
 "nbformat_minor": 2
}