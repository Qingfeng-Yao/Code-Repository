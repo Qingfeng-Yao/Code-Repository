{
 "cells": [
  {
   "cell_type": "markdown",
   "metadata": {},
   "source": [
    "## 优先队列的一些操作"
   ]
  },
  {
   "cell_type": "code",
   "execution_count": 9,
   "metadata": {},
   "outputs": [
    {
     "output_type": "stream",
     "name": "stdout",
     "text": "[10, 7, 5, 2, 3]\n10\n10\n[7, 3, 5, 2]\n"
    }
   ],
   "source": [
    "class p_queue(object):\n",
    "    def __init__(self):\n",
    "        self._queue = []     \n",
    "        self._index = 0 \n",
    "\n",
    "    def parent(self, i):\n",
    "        return (i-1)//2\n",
    "\n",
    "    def left(self, i):\n",
    "        return 2*i+1\n",
    "\n",
    "    def right(self, i):\n",
    "        return 2*i+2\n",
    "\n",
    "    def _max_heapify(self, a, length, i):\n",
    "        l = self.left(i)\n",
    "        r = self.right(i)\n",
    "        largest = 0\n",
    "    \n",
    "        if l <= length-1 and a[i] < a[l]: \n",
    "            largest = l \n",
    "        else:\n",
    "            largest = i\n",
    "    \n",
    "        if r <= length-1 and a[largest] < a[r]: \n",
    "            largest = r \n",
    "    \n",
    "        if largest != i: \n",
    "            a[i], a[largest] = a[largest], a[i]  \n",
    "            self._max_heapify(a, length, largest) \n",
    "\n",
    "    def insert(self, x):\n",
    "        self._index += 1\n",
    "        self._queue.append(x)\n",
    "        i = self._index - 1\n",
    "        while i > 0 and self._queue[self.parent(i)] < self._queue[i]:\n",
    "            self._queue[self.parent(i)], self._queue[i] = self._queue[i], self._queue[self.parent(i)]\n",
    "            i = self.parent(i)\n",
    "\n",
    "    def maximum(self):\n",
    "        if self._index <= 0:\n",
    "            print(\"error!\")\n",
    "            return -1\n",
    "        return self._queue[0]\n",
    "\n",
    "    def extract_max(self):\n",
    "        if self._index <= 0:\n",
    "            print(\"error!\")\n",
    "            return -1\n",
    "        max = self._queue[0]\n",
    "        self._queue[0] = self._queue[self._index-1]\n",
    "        self._index -= 1\n",
    "        self._queue.pop()\n",
    "        self._max_heapify(self._queue, self._index, 0)\n",
    "        return max\n",
    "\n",
    "pq = p_queue()\n",
    "pq.insert(5)\n",
    "pq.insert(2)\n",
    "pq.insert(7)\n",
    "pq.insert(10)\n",
    "pq.insert(3)\n",
    "print(pq._queue)\n",
    "print(pq.maximum())\n",
    "print(pq.extract_max())\n",
    "print(pq._queue)"
   ]
  }
 ],
 "metadata": {
  "language_info": {
   "codemirror_mode": {
    "name": "ipython",
    "version": 3
   },
   "file_extension": ".py",
   "mimetype": "text/x-python",
   "name": "python",
   "nbconvert_exporter": "python",
   "pygments_lexer": "ipython3",
   "version": "3.8.2-final"
  },
  "orig_nbformat": 2,
  "kernelspec": {
   "name": "python38264bitcvddconda2d095ec0671443a79dcb8f6b63ed7cac",
   "display_name": "Python 3.8.2 64-bit ('cvdd': conda)"
  }
 },
 "nbformat": 4,
 "nbformat_minor": 2
}