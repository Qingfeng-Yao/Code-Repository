{
 "metadata": {
  "language_info": {
   "codemirror_mode": {
    "name": "ipython",
    "version": 3
   },
   "file_extension": ".py",
   "mimetype": "text/x-python",
   "name": "python",
   "nbconvert_exporter": "python",
   "pygments_lexer": "ipython3",
   "version": "3.7.9"
  },
  "orig_nbformat": 2,
  "kernelspec": {
   "name": "python379jvsc74a57bd0cc86fbc300e6d473e5cf532321586f93c8d337e756c8fe34a22a2b65e82a1ba0",
   "display_name": "Python 3.7.9 64-bit ('piprnn': conda)"
  },
  "metadata": {
   "interpreter": {
    "hash": "72506cc1e4b0dce5eb876f653d1c5faf29777724f7cbfb23a9a7a2a764425624"
   }
  }
 },
 "nbformat": 4,
 "nbformat_minor": 2,
 "cells": [
  {
   "cell_type": "code",
   "execution_count": 6,
   "metadata": {},
   "outputs": [],
   "source": [
    "import pandas as pd\n",
    "data=pd.read_excel('data/chinese/复旦大学中文文本分类语料.xlsx','sheet1') \n"
   ]
  },
  {
   "cell_type": "code",
   "execution_count": 7,
   "metadata": {},
   "outputs": [
    {
     "output_type": "execute_result",
     "data": {
      "text/plain": [
       "   分类                                                 正文\n",
       "0  艺术  ﻿【 文献号 】1-2432\\n【原文出处】出版发行研究\\n【原刊地名】京\\n【原刊期号】1...\n",
       "1  艺术  ﻿【 文献号 】1-2435\\n【原文出处】扬州师院学报：社科版\\n【原刊期号】199504...\n",
       "2  艺术  ﻿【 文献号 】1-2785\\n【原文出处】南通师专学报：社科版\\n【原刊期号】199503...\n",
       "3  艺术  ﻿【 文献号 】1-3021\\n【原文出处】社会科学战线\\n【原刊地名】长春\\n【原刊期号】...\n",
       "4  艺术  ﻿【 文献号 】1-3062\\n【原文出处】上海文化\\n【原刊期号】199505\\n【原刊页..."
      ],
      "text/html": "<div>\n<style scoped>\n    .dataframe tbody tr th:only-of-type {\n        vertical-align: middle;\n    }\n\n    .dataframe tbody tr th {\n        vertical-align: top;\n    }\n\n    .dataframe thead th {\n        text-align: right;\n    }\n</style>\n<table border=\"1\" class=\"dataframe\">\n  <thead>\n    <tr style=\"text-align: right;\">\n      <th></th>\n      <th>分类</th>\n      <th>正文</th>\n    </tr>\n  </thead>\n  <tbody>\n    <tr>\n      <th>0</th>\n      <td>艺术</td>\n      <td>﻿【 文献号 】1-2432\\n【原文出处】出版发行研究\\n【原刊地名】京\\n【原刊期号】1...</td>\n    </tr>\n    <tr>\n      <th>1</th>\n      <td>艺术</td>\n      <td>﻿【 文献号 】1-2435\\n【原文出处】扬州师院学报：社科版\\n【原刊期号】199504...</td>\n    </tr>\n    <tr>\n      <th>2</th>\n      <td>艺术</td>\n      <td>﻿【 文献号 】1-2785\\n【原文出处】南通师专学报：社科版\\n【原刊期号】199503...</td>\n    </tr>\n    <tr>\n      <th>3</th>\n      <td>艺术</td>\n      <td>﻿【 文献号 】1-3021\\n【原文出处】社会科学战线\\n【原刊地名】长春\\n【原刊期号】...</td>\n    </tr>\n    <tr>\n      <th>4</th>\n      <td>艺术</td>\n      <td>﻿【 文献号 】1-3062\\n【原文出处】上海文化\\n【原刊期号】199505\\n【原刊页...</td>\n    </tr>\n  </tbody>\n</table>\n</div>"
     },
     "metadata": {},
     "execution_count": 7
    }
   ],
   "source": [
    "data.head()"
   ]
  },
  {
   "cell_type": "code",
   "execution_count": 8,
   "metadata": {},
   "outputs": [
    {
     "output_type": "stream",
     "name": "stdout",
     "text": [
      "<class 'pandas.core.frame.DataFrame'>\nRangeIndex: 9249 entries, 0 to 9248\nData columns (total 2 columns):\n #   Column  Non-Null Count  Dtype \n---  ------  --------------  ----- \n 0   分类      9249 non-null   object\n 1   正文      9249 non-null   object\ndtypes: object(2)\nmemory usage: 144.6+ KB\n"
     ]
    }
   ],
   "source": [
    "data.info()"
   ]
  },
  {
   "cell_type": "code",
   "execution_count": 9,
   "metadata": {},
   "outputs": [
    {
     "output_type": "execute_result",
     "data": {
      "text/plain": [
       "array(['艺术', '文学', '哲学', '通信', '能源', '历史', '矿藏', '空间', '教育', '交通', '计算机',\n",
       "       '环境', '电子', '农业', '体育', '时政', '医疗', '经济', '法律'], dtype=object)"
      ]
     },
     "metadata": {},
     "execution_count": 9
    }
   ],
   "source": [
    "data.分类.unique()"
   ]
  },
  {
   "cell_type": "code",
   "execution_count": null,
   "metadata": {},
   "outputs": [],
   "source": []
  }
 ]
}