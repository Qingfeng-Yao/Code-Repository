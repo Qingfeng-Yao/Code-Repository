{
 "metadata": {
  "language_info": {
   "codemirror_mode": {
    "name": "ipython",
    "version": 3
   },
   "file_extension": ".py",
   "mimetype": "text/x-python",
   "name": "python",
   "nbconvert_exporter": "python",
   "pygments_lexer": "ipython3",
   "version": "3.7.9"
  },
  "orig_nbformat": 2,
  "kernelspec": {
   "name": "python379jvsc74a57bd0cc86fbc300e6d473e5cf532321586f93c8d337e756c8fe34a22a2b65e82a1ba0",
   "display_name": "Python 3.7.9 64-bit ('piprnn': conda)"
  },
  "metadata": {
   "interpreter": {
    "hash": "72506cc1e4b0dce5eb876f653d1c5faf29777724f7cbfb23a9a7a2a764425624"
   }
  }
 },
 "nbformat": 4,
 "nbformat_minor": 2,
 "cells": [
  {
   "source": [
    "## 数据构建"
   ],
   "cell_type": "markdown",
   "metadata": {}
  },
  {
   "cell_type": "code",
   "execution_count": 1,
   "metadata": {},
   "outputs": [],
   "source": [
    "import pandas as pd\n",
    "data=pd.read_excel('data/chinese/复旦大学中文文本分类语料.xlsx','sheet1') \n"
   ]
  },
  {
   "cell_type": "code",
   "execution_count": 7,
   "metadata": {},
   "outputs": [
    {
     "output_type": "execute_result",
     "data": {
      "text/plain": [
       "   分类                                                 正文\n",
       "0  艺术  ﻿【 文献号 】1-2432\\n【原文出处】出版发行研究\\n【原刊地名】京\\n【原刊期号】1...\n",
       "1  艺术  ﻿【 文献号 】1-2435\\n【原文出处】扬州师院学报：社科版\\n【原刊期号】199504...\n",
       "2  艺术  ﻿【 文献号 】1-2785\\n【原文出处】南通师专学报：社科版\\n【原刊期号】199503...\n",
       "3  艺术  ﻿【 文献号 】1-3021\\n【原文出处】社会科学战线\\n【原刊地名】长春\\n【原刊期号】...\n",
       "4  艺术  ﻿【 文献号 】1-3062\\n【原文出处】上海文化\\n【原刊期号】199505\\n【原刊页..."
      ],
      "text/html": "<div>\n<style scoped>\n    .dataframe tbody tr th:only-of-type {\n        vertical-align: middle;\n    }\n\n    .dataframe tbody tr th {\n        vertical-align: top;\n    }\n\n    .dataframe thead th {\n        text-align: right;\n    }\n</style>\n<table border=\"1\" class=\"dataframe\">\n  <thead>\n    <tr style=\"text-align: right;\">\n      <th></th>\n      <th>分类</th>\n      <th>正文</th>\n    </tr>\n  </thead>\n  <tbody>\n    <tr>\n      <th>0</th>\n      <td>艺术</td>\n      <td>﻿【 文献号 】1-2432\\n【原文出处】出版发行研究\\n【原刊地名】京\\n【原刊期号】1...</td>\n    </tr>\n    <tr>\n      <th>1</th>\n      <td>艺术</td>\n      <td>﻿【 文献号 】1-2435\\n【原文出处】扬州师院学报：社科版\\n【原刊期号】199504...</td>\n    </tr>\n    <tr>\n      <th>2</th>\n      <td>艺术</td>\n      <td>﻿【 文献号 】1-2785\\n【原文出处】南通师专学报：社科版\\n【原刊期号】199503...</td>\n    </tr>\n    <tr>\n      <th>3</th>\n      <td>艺术</td>\n      <td>﻿【 文献号 】1-3021\\n【原文出处】社会科学战线\\n【原刊地名】长春\\n【原刊期号】...</td>\n    </tr>\n    <tr>\n      <th>4</th>\n      <td>艺术</td>\n      <td>﻿【 文献号 】1-3062\\n【原文出处】上海文化\\n【原刊期号】199505\\n【原刊页...</td>\n    </tr>\n  </tbody>\n</table>\n</div>"
     },
     "metadata": {},
     "execution_count": 7
    }
   ],
   "source": [
    "data.head()"
   ]
  },
  {
   "cell_type": "code",
   "execution_count": 8,
   "metadata": {},
   "outputs": [
    {
     "output_type": "stream",
     "name": "stdout",
     "text": [
      "<class 'pandas.core.frame.DataFrame'>\nRangeIndex: 9249 entries, 0 to 9248\nData columns (total 2 columns):\n #   Column  Non-Null Count  Dtype \n---  ------  --------------  ----- \n 0   分类      9249 non-null   object\n 1   正文      9249 non-null   object\ndtypes: object(2)\nmemory usage: 144.6+ KB\n"
     ]
    }
   ],
   "source": [
    "data.info()"
   ]
  },
  {
   "cell_type": "code",
   "execution_count": 9,
   "metadata": {},
   "outputs": [
    {
     "output_type": "execute_result",
     "data": {
      "text/plain": [
       "array(['艺术', '文学', '哲学', '通信', '能源', '历史', '矿藏', '空间', '教育', '交通', '计算机',\n",
       "       '环境', '电子', '农业', '体育', '时政', '医疗', '经济', '法律'], dtype=object)"
      ]
     },
     "metadata": {},
     "execution_count": 9
    }
   ],
   "source": [
    "data.分类.unique()"
   ]
  },
  {
   "source": [
    "# 对文本数据的正文字段进行分词，这里是在Linux上运行的，可以开启jieba的并行分词模式，分词速度是平常的好多倍，具体看你的CPU核心数\n",
    "# 设置可靠的自定义词典，以便分词更精准；采用分词效果更好的分词器，如pyltp、THULAC、Hanlp等；编写预处理类，就像下面要谈到的数字特征归一化，去掉文本中的#@￥%……&等等"
   ],
   "cell_type": "code",
   "metadata": {},
   "execution_count": null,
   "outputs": []
  },
  {
   "cell_type": "code",
   "execution_count": 2,
   "metadata": {},
   "outputs": [
    {
     "output_type": "stream",
     "name": "stderr",
     "text": [
      "Building prefix dict from the default dictionary ...\n",
      "Loading model from cache /tmp/jieba.cache\n",
      "Loading model cost 0.633 seconds.\n",
      "Prefix dict has been built successfully.\n"
     ]
    }
   ],
   "source": [
    "import jieba\n",
    "jieba.enable_parallel(56) #并行分词开启\n",
    "data['文本分词'] = data['正文'].apply(lambda i:jieba.cut(i) )"
   ]
  },
  {
   "cell_type": "code",
   "execution_count": 3,
   "metadata": {},
   "outputs": [],
   "source": [
    "data['文本分词'] = [' '.join(i) for i in data['文本分词']]"
   ]
  },
  {
   "cell_type": "code",
   "execution_count": 5,
   "metadata": {},
   "outputs": [
    {
     "output_type": "execute_result",
     "data": {
      "text/plain": [
       "   分类                                                 正文  \\\n",
       "0  艺术  ﻿【 文献号 】1-2432\\n【原文出处】出版发行研究\\n【原刊地名】京\\n【原刊期号】1...   \n",
       "1  艺术  ﻿【 文献号 】1-2435\\n【原文出处】扬州师院学报：社科版\\n【原刊期号】199504...   \n",
       "2  艺术  ﻿【 文献号 】1-2785\\n【原文出处】南通师专学报：社科版\\n【原刊期号】199503...   \n",
       "3  艺术  ﻿【 文献号 】1-3021\\n【原文出处】社会科学战线\\n【原刊地名】长春\\n【原刊期号】...   \n",
       "4  艺术  ﻿【 文献号 】1-3062\\n【原文出处】上海文化\\n【原刊期号】199505\\n【原刊页...   \n",
       "\n",
       "                                                文本分词  \n",
       "0  ﻿ 【   文献号   】 1 - 2432 \\n 【 原文 出处 】 出版发行 研究 \\n...  \n",
       "1  ﻿ 【   文献号   】 1 - 2435 \\n 【 原文 出处 】 扬州 师院 学报 ：...  \n",
       "2  ﻿ 【   文献号   】 1 - 2785 \\n 【 原文 出处 】 南通 师专 学报 ：...  \n",
       "3  ﻿ 【   文献号   】 1 - 3021 \\n 【 原文 出处 】 社会科学 战线 \\n...  \n",
       "4  ﻿ 【   文献号   】 1 - 3062 \\n 【 原文 出处 】 上海 文化 \\n 【...  "
      ],
      "text/html": "<div>\n<style scoped>\n    .dataframe tbody tr th:only-of-type {\n        vertical-align: middle;\n    }\n\n    .dataframe tbody tr th {\n        vertical-align: top;\n    }\n\n    .dataframe thead th {\n        text-align: right;\n    }\n</style>\n<table border=\"1\" class=\"dataframe\">\n  <thead>\n    <tr style=\"text-align: right;\">\n      <th></th>\n      <th>分类</th>\n      <th>正文</th>\n      <th>文本分词</th>\n    </tr>\n  </thead>\n  <tbody>\n    <tr>\n      <th>0</th>\n      <td>艺术</td>\n      <td>﻿【 文献号 】1-2432\\n【原文出处】出版发行研究\\n【原刊地名】京\\n【原刊期号】1...</td>\n      <td>﻿ 【   文献号   】 1 - 2432 \\n 【 原文 出处 】 出版发行 研究 \\n...</td>\n    </tr>\n    <tr>\n      <th>1</th>\n      <td>艺术</td>\n      <td>﻿【 文献号 】1-2435\\n【原文出处】扬州师院学报：社科版\\n【原刊期号】199504...</td>\n      <td>﻿ 【   文献号   】 1 - 2435 \\n 【 原文 出处 】 扬州 师院 学报 ：...</td>\n    </tr>\n    <tr>\n      <th>2</th>\n      <td>艺术</td>\n      <td>﻿【 文献号 】1-2785\\n【原文出处】南通师专学报：社科版\\n【原刊期号】199503...</td>\n      <td>﻿ 【   文献号   】 1 - 2785 \\n 【 原文 出处 】 南通 师专 学报 ：...</td>\n    </tr>\n    <tr>\n      <th>3</th>\n      <td>艺术</td>\n      <td>﻿【 文献号 】1-3021\\n【原文出处】社会科学战线\\n【原刊地名】长春\\n【原刊期号】...</td>\n      <td>﻿ 【   文献号   】 1 - 3021 \\n 【 原文 出处 】 社会科学 战线 \\n...</td>\n    </tr>\n    <tr>\n      <th>4</th>\n      <td>艺术</td>\n      <td>﻿【 文献号 】1-3062\\n【原文出处】上海文化\\n【原刊期号】199505\\n【原刊页...</td>\n      <td>﻿ 【   文献号   】 1 - 3062 \\n 【 原文 出处 】 上海 文化 \\n 【...</td>\n    </tr>\n  </tbody>\n</table>\n</div>"
     },
     "metadata": {},
     "execution_count": 5
    }
   ],
   "source": [
    "data.head()"
   ]
  },
  {
   "cell_type": "code",
   "execution_count": 14,
   "metadata": {},
   "outputs": [],
   "source": [
    "# 这是一个典型的文本多分类问题 \n",
    "# 针对该问题，采用kaggle上通用的Multi-Class Log-Loss作为评测指标\n",
    "import numpy as np\n",
    "def multiclass_logloss(actual, predicted, eps=1e-15):\n",
    "    \"\"\"对数损失度量（Logarithmic Loss  Metric）的多分类版本。\n",
    "    :param actual: 包含actual target classes的数组\n",
    "    :param predicted: 分类预测结果矩阵, 每个类别都有一个概率\n",
    "    \"\"\"\n",
    "    # Convert 'actual' to a binary array if it's not already:\n",
    "    if len(actual.shape) == 1:\n",
    "        actual2 = np.zeros((actual.shape[0], predicted.shape[1]))\n",
    "        for i, val in enumerate(actual):\n",
    "            actual2[i, val] = 1\n",
    "        actual = actual2\n",
    "\n",
    "    clip = np.clip(predicted, eps, 1 - eps)\n",
    "    rows = actual.shape[0]\n",
    "    vsota = np.sum(actual * np.log(clip))\n",
    "    return -1.0 / rows * vsota"
   ]
  },
  {
   "cell_type": "code",
   "execution_count": 4,
   "metadata": {},
   "outputs": [],
   "source": [
    "# 用scikit-learn中的LabelEncoder将文本标签（Text Label）转化为数字(Integer)\n",
    "from sklearn import preprocessing\n",
    "lbl_enc = preprocessing.LabelEncoder()\n",
    "y = lbl_enc.fit_transform(data.分类.values)\n"
   ]
  },
  {
   "cell_type": "code",
   "execution_count": 5,
   "metadata": {},
   "outputs": [],
   "source": [
    "# 将数据分成训练和验证集\n",
    "from sklearn.model_selection import train_test_split\n",
    "xtrain, xvalid, ytrain, yvalid = train_test_split(data.文本分词.values, y, \n",
    "                                                  stratify=y, \n",
    "                                                  random_state=42, \n",
    "                                                  test_size=0.1, shuffle=True) # stratify: 为了保持split前类的分布"
   ]
  },
  {
   "cell_type": "code",
   "execution_count": 6,
   "metadata": {},
   "outputs": [
    {
     "output_type": "stream",
     "name": "stdout",
     "text": [
      "(8324,)\n(925,)\n"
     ]
    }
   ],
   "source": [
    "print (xtrain.shape)\n",
    "print (xvalid.shape)"
   ]
  },
  {
   "source": [
    "## 模型构建"
   ],
   "cell_type": "markdown",
   "metadata": {}
  },
  {
   "source": [
    "### TFIDF+逻辑回归"
   ],
   "cell_type": "markdown",
   "metadata": {}
  },
  {
   "cell_type": "code",
   "execution_count": 35,
   "metadata": {},
   "outputs": [],
   "source": [
    "# 将scikit-learn中的TfidfVectorizer类稍稍改写下，以便将文本中的数字特征统一表示成\"#NUMBER\"，达到一定的降噪效果\n",
    "from sklearn.feature_extraction.text import TfidfVectorizer, CountVectorizer\n",
    "def number_normalizer(tokens):\n",
    "    \"\"\" 将所有数字标记映射为一个占位符（Placeholder）。\n",
    "    对于许多实际应用场景来说，以数字开头的tokens不是很有用，\n",
    "    但这样tokens的存在也有一定相关性。 通过将所有数字都表示成同一个符号，可以达到降维的目的。\n",
    "    \"\"\"\n",
    "    return (\"#NUMBER\" if token[0].isdigit() else token for token in tokens)\n",
    "\n",
    "\n",
    "class NumberNormalizingVectorizer(TfidfVectorizer):\n",
    "    def build_tokenizer(self):\n",
    "        tokenize = super(NumberNormalizingVectorizer, self).build_tokenizer()\n",
    "        return lambda doc: list(number_normalizer(tokenize(doc)))"
   ]
  },
  {
   "cell_type": "code",
   "execution_count": 7,
   "metadata": {},
   "outputs": [],
   "source": [
    "stwlist=[line.strip() for line in open('data/chinese/停用词汇总.txt', 'r', encoding='utf-8').readlines()]"
   ]
  },
  {
   "cell_type": "code",
   "execution_count": 36,
   "metadata": {},
   "outputs": [
    {
     "output_type": "stream",
     "name": "stderr",
     "text": [
      "/home/yaoqf/miniconda3/envs/piprnn/lib/python3.7/site-packages/sklearn/feature_extraction/text.py:300: UserWarning: Your stop_words may be inconsistent with your preprocessing. Tokenizing the stop words generated tokens ['#NUMBER', 'al', 'betted', 'ceo', 'h_tml', 'lex', 'mon', 'nan', 'nbsp', 'sown', 'u3000', 'understands', 'understood', 'web1', '于2004', '于2005', '于2006', '于2007', '于2008', '在2004', 'ｌｉ', 'ｚｘｆｉｔｌ'] not in stop_words.\n  'stop_words.' % sorted(inconsistent))\n"
     ]
    }
   ],
   "source": [
    "tfv = NumberNormalizingVectorizer(min_df=3,  \n",
    "                                  max_df=0.5,\n",
    "                                  max_features=None,                 \n",
    "                                  ngram_range=(1, 2), \n",
    "                                  use_idf=True,\n",
    "                                  smooth_idf=True,\n",
    "                                  stop_words = stwlist) # max_df最大文档频率；ngram_range默认为(1, 1)，只有unigrams\n",
    "\n",
    "# 使用TF-IDF来fit训练集和测试集（半监督学习）\n",
    "tfv.fit(list(xtrain) + list(xvalid))\n",
    "xtrain_tfv =  tfv.transform(xtrain) \n",
    "xvalid_tfv = tfv.transform(xvalid)\n",
    "# 下面的提示是由于使用了自定义的tokenizer，当停用词使用了自定义的tokenizer做检查时发现不一致就会出现下面的提示"
   ]
  },
  {
   "cell_type": "code",
   "execution_count": 13,
   "metadata": {},
   "outputs": [
    {
     "output_type": "stream",
     "name": "stdout",
     "text": [
      "logloss: 0.607 \n",
      "/home/yaoqf/miniconda3/envs/piprnn/lib/python3.7/site-packages/sklearn/linear_model/logistic.py:947: ConvergenceWarning: lbfgs failed to converge. Increase the number of iterations.\n",
      "  \"of iterations.\", ConvergenceWarning)\n"
     ]
    },
    {
     "output_type": "error",
     "ename": "ValueError",
     "evalue": "Classification metrics can't handle a mix of continuous-multioutput and multiclass targets",
     "traceback": [
      "\u001b[0;31m---------------------------------------------------------------------------\u001b[0m",
      "\u001b[0;31mValueError\u001b[0m                                Traceback (most recent call last)",
      "\u001b[0;32m<ipython-input-13-91b4c7a36e39>\u001b[0m in \u001b[0;36m<module>\u001b[0;34m\u001b[0m\n\u001b[1;32m      7\u001b[0m \u001b[0;34m\u001b[0m\u001b[0m\n\u001b[1;32m      8\u001b[0m \u001b[0mprint\u001b[0m \u001b[0;34m(\u001b[0m\u001b[0;34m\"logloss: %0.3f \"\u001b[0m \u001b[0;34m%\u001b[0m \u001b[0mmulticlass_logloss\u001b[0m\u001b[0;34m(\u001b[0m\u001b[0myvalid\u001b[0m\u001b[0;34m,\u001b[0m \u001b[0mpredictions\u001b[0m\u001b[0;34m)\u001b[0m\u001b[0;34m)\u001b[0m\u001b[0;34m\u001b[0m\u001b[0;34m\u001b[0m\u001b[0m\n\u001b[0;32m----> 9\u001b[0;31m \u001b[0mprint\u001b[0m\u001b[0;34m(\u001b[0m\u001b[0mclassification_report\u001b[0m\u001b[0;34m(\u001b[0m\u001b[0mpredictions\u001b[0m\u001b[0;34m,\u001b[0m \u001b[0myvalid\u001b[0m\u001b[0;34m)\u001b[0m\u001b[0;34m)\u001b[0m\u001b[0;34m\u001b[0m\u001b[0;34m\u001b[0m\u001b[0m\n\u001b[0m",
      "\u001b[0;32m~/miniconda3/envs/piprnn/lib/python3.7/site-packages/sklearn/metrics/classification.py\u001b[0m in \u001b[0;36mclassification_report\u001b[0;34m(y_true, y_pred, labels, target_names, sample_weight, digits, output_dict)\u001b[0m\n\u001b[1;32m   1850\u001b[0m     \"\"\"\n\u001b[1;32m   1851\u001b[0m \u001b[0;34m\u001b[0m\u001b[0m\n\u001b[0;32m-> 1852\u001b[0;31m     \u001b[0my_type\u001b[0m\u001b[0;34m,\u001b[0m \u001b[0my_true\u001b[0m\u001b[0;34m,\u001b[0m \u001b[0my_pred\u001b[0m \u001b[0;34m=\u001b[0m \u001b[0m_check_targets\u001b[0m\u001b[0;34m(\u001b[0m\u001b[0my_true\u001b[0m\u001b[0;34m,\u001b[0m \u001b[0my_pred\u001b[0m\u001b[0;34m)\u001b[0m\u001b[0;34m\u001b[0m\u001b[0;34m\u001b[0m\u001b[0m\n\u001b[0m\u001b[1;32m   1853\u001b[0m \u001b[0;34m\u001b[0m\u001b[0m\n\u001b[1;32m   1854\u001b[0m     \u001b[0mlabels_given\u001b[0m \u001b[0;34m=\u001b[0m \u001b[0;32mTrue\u001b[0m\u001b[0;34m\u001b[0m\u001b[0;34m\u001b[0m\u001b[0m\n",
      "\u001b[0;32m~/miniconda3/envs/piprnn/lib/python3.7/site-packages/sklearn/metrics/classification.py\u001b[0m in \u001b[0;36m_check_targets\u001b[0;34m(y_true, y_pred)\u001b[0m\n\u001b[1;32m     79\u001b[0m     \u001b[0;32mif\u001b[0m \u001b[0mlen\u001b[0m\u001b[0;34m(\u001b[0m\u001b[0my_type\u001b[0m\u001b[0;34m)\u001b[0m \u001b[0;34m>\u001b[0m \u001b[0;36m1\u001b[0m\u001b[0;34m:\u001b[0m\u001b[0;34m\u001b[0m\u001b[0;34m\u001b[0m\u001b[0m\n\u001b[1;32m     80\u001b[0m         raise ValueError(\"Classification metrics can't handle a mix of {0} \"\n\u001b[0;32m---> 81\u001b[0;31m                          \"and {1} targets\".format(type_true, type_pred))\n\u001b[0m\u001b[1;32m     82\u001b[0m \u001b[0;34m\u001b[0m\u001b[0m\n\u001b[1;32m     83\u001b[0m     \u001b[0;31m# We can't have more than one value on y_type => The set is no more needed\u001b[0m\u001b[0;34m\u001b[0m\u001b[0;34m\u001b[0m\u001b[0;34m\u001b[0m\u001b[0m\n",
      "\u001b[0;31mValueError\u001b[0m: Classification metrics can't handle a mix of continuous-multioutput and multiclass targets"
     ]
    }
   ],
   "source": [
    "#利用提取的TFIDF特征来fit一个简单的Logistic Regression \n",
    "from sklearn.linear_model import LogisticRegression\n",
    "from sklearn.metrics import classification_report\n",
    "clf = LogisticRegression(C=1.0,solver='lbfgs',multi_class='multinomial')\n",
    "clf.fit(xtrain_tfv, ytrain)\n",
    "predictions = clf.predict_proba(xvalid_tfv)\n",
    "\n",
    "print (\"logloss: %0.3f \" % multiclass_logloss(yvalid, predictions))\n",
    "print(classification_report(predictions, yvalid))"
   ]
  },
  {
   "source": [
    "### TF+逻辑回归"
   ],
   "cell_type": "markdown",
   "metadata": {}
  },
  {
   "cell_type": "code",
   "execution_count": 37,
   "metadata": {},
   "outputs": [
    {
     "output_type": "stream",
     "name": "stderr",
     "text": [
      "/home/yaoqf/miniconda3/envs/piprnn/lib/python3.7/site-packages/sklearn/feature_extraction/text.py:300: UserWarning: Your stop_words may be inconsistent with your preprocessing. Tokenizing the stop words generated tokens ['119', '126', '8syl7qb', 'al', 'betted', 'ceo', 'h_tml', 'lex', 'mon', 'nan', 'nbsp', 'sown', 'u3000', 'understands', 'understood', 'web1', '①①', '①②', '①③', '①④', '①⑤', '①⑥', '①⑦', '①⑧', '①⑨', '①ａ', '①ｂ', '①ｃ', '①ｄ', '①ｅ', '①ｆ', '①ｇ', '①ｈ', '①ｉ', '①ｏ', '②①', '②②', '②③', '②④', '②⑤', '②⑥', '②⑦', '②⑧', '②⑩', '②ａ', '②ｂ', '②ｄ', '②ｅ', '②ｆ', '②ｇ', '②ｈ', '②ｉ', '②ｊ', '③①', '③⑩', '③ａ', '③ｂ', '③ｃ', '③ｄ', '③ｅ', '③ｆ', '③ｇ', '③ｈ', '④ａ', '④ｂ', '④ｃ', '④ｄ', '④ｅ', '⑤ａ', '⑤ｂ', '⑤ｄ', '⑤ｅ', '⑤ｆ', '于2004', '于2005', '于2006', '于2007', '于2008', '在2004', '１２', 'ｌｉ', 'ｚｘｆｉｔｌ'] not in stop_words.\n  'stop_words.' % sorted(inconsistent))\n"
     ]
    }
   ],
   "source": [
    "# 使用词汇计数（Word Counts）\n",
    "ctv = CountVectorizer(min_df=3,\n",
    "                      max_df=0.5,\n",
    "                      ngram_range=(1,2),\n",
    "                      stop_words = stwlist)\n",
    "\n",
    "# 使用Count Vectorizer来fit训练集和测试集（半监督学习）\n",
    "ctv.fit(list(xtrain) + list(xvalid))\n",
    "xtrain_ctv =  ctv.transform(xtrain) \n",
    "xvalid_ctv = ctv.transform(xvalid)"
   ]
  },
  {
   "cell_type": "code",
   "execution_count": 15,
   "metadata": {},
   "outputs": [
    {
     "output_type": "stream",
     "name": "stdout",
     "text": [
      "logloss: 0.769 \n",
      "/home/yaoqf/miniconda3/envs/piprnn/lib/python3.7/site-packages/sklearn/linear_model/logistic.py:947: ConvergenceWarning: lbfgs failed to converge. Increase the number of iterations.\n",
      "  \"of iterations.\", ConvergenceWarning)\n"
     ]
    },
    {
     "output_type": "error",
     "ename": "ValueError",
     "evalue": "Classification metrics can't handle a mix of continuous-multioutput and multiclass targets",
     "traceback": [
      "\u001b[0;31m---------------------------------------------------------------------------\u001b[0m",
      "\u001b[0;31mValueError\u001b[0m                                Traceback (most recent call last)",
      "\u001b[0;32m<ipython-input-15-5affa807704a>\u001b[0m in \u001b[0;36m<module>\u001b[0;34m\u001b[0m\n\u001b[1;32m      4\u001b[0m \u001b[0;34m\u001b[0m\u001b[0m\n\u001b[1;32m      5\u001b[0m \u001b[0mprint\u001b[0m \u001b[0;34m(\u001b[0m\u001b[0;34m\"logloss: %0.3f \"\u001b[0m \u001b[0;34m%\u001b[0m \u001b[0mmulticlass_logloss\u001b[0m\u001b[0;34m(\u001b[0m\u001b[0myvalid\u001b[0m\u001b[0;34m,\u001b[0m \u001b[0mpredictions\u001b[0m\u001b[0;34m)\u001b[0m\u001b[0;34m)\u001b[0m\u001b[0;34m\u001b[0m\u001b[0;34m\u001b[0m\u001b[0m\n\u001b[0;32m----> 6\u001b[0;31m \u001b[0mprint\u001b[0m\u001b[0;34m(\u001b[0m\u001b[0mclassification_report\u001b[0m\u001b[0;34m(\u001b[0m\u001b[0mpredictions\u001b[0m\u001b[0;34m,\u001b[0m \u001b[0myvalid\u001b[0m\u001b[0;34m)\u001b[0m\u001b[0;34m)\u001b[0m\u001b[0;34m\u001b[0m\u001b[0;34m\u001b[0m\u001b[0m\n\u001b[0m",
      "\u001b[0;32m~/miniconda3/envs/piprnn/lib/python3.7/site-packages/sklearn/metrics/classification.py\u001b[0m in \u001b[0;36mclassification_report\u001b[0;34m(y_true, y_pred, labels, target_names, sample_weight, digits, output_dict)\u001b[0m\n\u001b[1;32m   1850\u001b[0m     \"\"\"\n\u001b[1;32m   1851\u001b[0m \u001b[0;34m\u001b[0m\u001b[0m\n\u001b[0;32m-> 1852\u001b[0;31m     \u001b[0my_type\u001b[0m\u001b[0;34m,\u001b[0m \u001b[0my_true\u001b[0m\u001b[0;34m,\u001b[0m \u001b[0my_pred\u001b[0m \u001b[0;34m=\u001b[0m \u001b[0m_check_targets\u001b[0m\u001b[0;34m(\u001b[0m\u001b[0my_true\u001b[0m\u001b[0;34m,\u001b[0m \u001b[0my_pred\u001b[0m\u001b[0;34m)\u001b[0m\u001b[0;34m\u001b[0m\u001b[0;34m\u001b[0m\u001b[0m\n\u001b[0m\u001b[1;32m   1853\u001b[0m \u001b[0;34m\u001b[0m\u001b[0m\n\u001b[1;32m   1854\u001b[0m     \u001b[0mlabels_given\u001b[0m \u001b[0;34m=\u001b[0m \u001b[0;32mTrue\u001b[0m\u001b[0;34m\u001b[0m\u001b[0;34m\u001b[0m\u001b[0m\n",
      "\u001b[0;32m~/miniconda3/envs/piprnn/lib/python3.7/site-packages/sklearn/metrics/classification.py\u001b[0m in \u001b[0;36m_check_targets\u001b[0;34m(y_true, y_pred)\u001b[0m\n\u001b[1;32m     79\u001b[0m     \u001b[0;32mif\u001b[0m \u001b[0mlen\u001b[0m\u001b[0;34m(\u001b[0m\u001b[0my_type\u001b[0m\u001b[0;34m)\u001b[0m \u001b[0;34m>\u001b[0m \u001b[0;36m1\u001b[0m\u001b[0;34m:\u001b[0m\u001b[0;34m\u001b[0m\u001b[0;34m\u001b[0m\u001b[0m\n\u001b[1;32m     80\u001b[0m         raise ValueError(\"Classification metrics can't handle a mix of {0} \"\n\u001b[0;32m---> 81\u001b[0;31m                          \"and {1} targets\".format(type_true, type_pred))\n\u001b[0m\u001b[1;32m     82\u001b[0m \u001b[0;34m\u001b[0m\u001b[0m\n\u001b[1;32m     83\u001b[0m     \u001b[0;31m# We can't have more than one value on y_type => The set is no more needed\u001b[0m\u001b[0;34m\u001b[0m\u001b[0;34m\u001b[0m\u001b[0;34m\u001b[0m\u001b[0m\n",
      "\u001b[0;31mValueError\u001b[0m: Classification metrics can't handle a mix of continuous-multioutput and multiclass targets"
     ]
    }
   ],
   "source": [
    "clf = LogisticRegression(C=1.0,solver='lbfgs',multi_class='multinomial')\n",
    "clf.fit(xtrain_ctv, ytrain)\n",
    "predictions = clf.predict_proba(xvalid_ctv)\n",
    "\n",
    "print (\"logloss: %0.3f \" % multiclass_logloss(yvalid, predictions))\n",
    "print(classification_report(predictions, yvalid))"
   ]
  },
  {
   "source": [
    "### TFIDF+朴素贝叶斯"
   ],
   "cell_type": "markdown",
   "metadata": {}
  },
  {
   "cell_type": "code",
   "execution_count": 18,
   "metadata": {},
   "outputs": [
    {
     "output_type": "stream",
     "name": "stdout",
     "text": [
      "logloss: 0.841 \n"
     ]
    }
   ],
   "source": [
    "#利用提取的TFIDF特征来fitNaive Bayes\n",
    "from sklearn.naive_bayes import MultinomialNB\n",
    "clf = MultinomialNB()\n",
    "clf.fit(xtrain_tfv, ytrain)\n",
    "predictions = clf.predict_proba(xvalid_tfv)\n",
    "\n",
    "print (\"logloss: %0.3f \" % multiclass_logloss(yvalid, predictions))"
   ]
  },
  {
   "source": [
    "### TF+朴素贝叶斯"
   ],
   "cell_type": "markdown",
   "metadata": {}
  },
  {
   "cell_type": "code",
   "execution_count": 19,
   "metadata": {},
   "outputs": [
    {
     "output_type": "stream",
     "name": "stdout",
     "text": [
      "logloss: 3.780 \n"
     ]
    }
   ],
   "source": [
    "#利用提取的word counts特征来fitNaive Bayes\n",
    "clf = MultinomialNB()\n",
    "clf.fit(xtrain_ctv, ytrain)\n",
    "predictions = clf.predict_proba(xvalid_ctv)\n",
    "\n",
    "print (\"logloss: %0.3f \" % multiclass_logloss(yvalid, predictions))"
   ]
  },
  {
   "source": [
    "### TFIDF+SVD+Stand+SVM"
   ],
   "cell_type": "markdown",
   "metadata": {}
  },
  {
   "cell_type": "code",
   "execution_count": 20,
   "metadata": {},
   "outputs": [],
   "source": [
    "# 由于SVM需要花费大量时间，因此在应用SVM之前，我们将使用奇异值分解（Singular Value Decomposition ）来减少TF-IDF中的特征数量\n",
    "# 同时，在使用SVM之前，我们还需要将数据标准化（Standardize Data ）\n",
    "#使用SVD进行降维，components设为120，对于SVM来说，SVD的components的合适调整区间一般为120~200 \n",
    "from sklearn.svm import SVC\n",
    "from sklearn import decomposition\n",
    "\n",
    "svd = decomposition.TruncatedSVD(n_components=120)\n",
    "svd.fit(xtrain_tfv)\n",
    "xtrain_svd = svd.transform(xtrain_tfv)\n",
    "xvalid_svd = svd.transform(xvalid_tfv)\n",
    "\n",
    "#对从SVD获得的数据进行缩放\n",
    "scl = preprocessing.StandardScaler()\n",
    "scl.fit(xtrain_svd)\n",
    "xtrain_svd_scl = scl.transform(xtrain_svd)\n",
    "xvalid_svd_scl = scl.transform(xvalid_svd)"
   ]
  },
  {
   "cell_type": "code",
   "execution_count": 21,
   "metadata": {},
   "outputs": [
    {
     "output_type": "stream",
     "name": "stdout",
     "text": [
      "logloss: 0.344 \n"
     ]
    }
   ],
   "source": [
    "# 调用下SVM模型\n",
    "clf = SVC(C=1.0, probability=True) # since we need probabilities\n",
    "clf.fit(xtrain_svd_scl, ytrain)\n",
    "predictions = clf.predict_proba(xvalid_svd_scl)\n",
    "\n",
    "print (\"logloss: %0.3f \" % multiclass_logloss(yvalid, predictions))"
   ]
  },
  {
   "source": [
    "### TFIDF+xgboost"
   ],
   "cell_type": "markdown",
   "metadata": {}
  },
  {
   "cell_type": "code",
   "execution_count": 22,
   "metadata": {},
   "outputs": [
    {
     "output_type": "stream",
     "name": "stderr",
     "text": [
      "/home/yaoqf/miniconda3/envs/piprnn/lib/python3.7/site-packages/xgboost/sklearn.py:888: UserWarning: The use of label encoder in XGBClassifier is deprecated and will be removed in a future release. To remove this warning, do the following: 1) Pass option use_label_encoder=False when constructing XGBClassifier object; and 2) Encode your labels (y) as integers starting with 0, i.e. 0, 1, 2, ..., [num_class - 1].\n",
      "  warnings.warn(label_encoder_deprecation_msg, UserWarning)\n",
      "[14:27:21] WARNING: ../src/learner.cc:1061: Starting in XGBoost 1.3.0, the default evaluation metric used with the objective 'multi:softprob' was changed from 'merror' to 'mlogloss'. Explicitly set eval_metric if you'd like to restore the old behavior.\n",
      "logloss: 0.179 \n"
     ]
    }
   ],
   "source": [
    "# 基于tf-idf特征，使用xgboost\n",
    "import xgboost as xgb\n",
    "clf = xgb.XGBClassifier(max_depth=7, n_estimators=200, colsample_bytree=0.8, \n",
    "                        subsample=0.8, nthread=10, learning_rate=0.1)\n",
    "clf.fit(xtrain_tfv.tocsc(), ytrain)\n",
    "predictions = clf.predict_proba(xvalid_tfv.tocsc())\n",
    "\n",
    "print (\"logloss: %0.3f \" % multiclass_logloss(yvalid, predictions))"
   ]
  },
  {
   "source": [
    "### TF+xgboost"
   ],
   "cell_type": "markdown",
   "metadata": {}
  },
  {
   "cell_type": "code",
   "execution_count": 23,
   "metadata": {},
   "outputs": [
    {
     "output_type": "stream",
     "name": "stdout",
     "text": [
      "[14:45:32] WARNING: ../src/learner.cc:1061: Starting in XGBoost 1.3.0, the default evaluation metric used with the objective 'multi:softprob' was changed from 'merror' to 'mlogloss'. Explicitly set eval_metric if you'd like to restore the old behavior.\n",
      "logloss: 0.157 \n"
     ]
    }
   ],
   "source": [
    "# 基于word counts特征，使用xgboost\n",
    "clf = xgb.XGBClassifier(max_depth=7, n_estimators=200, colsample_bytree=0.8, \n",
    "                        subsample=0.8, nthread=10, learning_rate=0.1)\n",
    "clf.fit(xtrain_ctv.tocsc(), ytrain)\n",
    "predictions = clf.predict_proba(xvalid_ctv.tocsc())\n",
    "\n",
    "print (\"logloss: %0.3f \" % multiclass_logloss(yvalid, predictions))"
   ]
  },
  {
   "source": [
    "### TFIDF+SVD+xgboost"
   ],
   "cell_type": "markdown",
   "metadata": {}
  },
  {
   "cell_type": "code",
   "execution_count": 24,
   "metadata": {},
   "outputs": [
    {
     "output_type": "stream",
     "name": "stdout",
     "text": [
      "[15:03:32] WARNING: ../src/learner.cc:1061: Starting in XGBoost 1.3.0, the default evaluation metric used with the objective 'multi:softprob' was changed from 'merror' to 'mlogloss'. Explicitly set eval_metric if you'd like to restore the old behavior.\n",
      "logloss: 0.392 \n"
     ]
    }
   ],
   "source": [
    "# 基于tf-idf的svd特征，使用xgboost\n",
    "clf = xgb.XGBClassifier(max_depth=7, n_estimators=200, colsample_bytree=0.8, \n",
    "                        subsample=0.8, nthread=10, learning_rate=0.1)\n",
    "clf.fit(xtrain_svd, ytrain)\n",
    "predictions = clf.predict_proba(xvalid_svd)\n",
    "\n",
    "print (\"logloss: %0.3f \" % multiclass_logloss(yvalid, predictions))"
   ]
  },
  {
   "source": [
    "### TFIDF+SVD+Stand+xgboost"
   ],
   "cell_type": "markdown",
   "metadata": {}
  },
  {
   "cell_type": "code",
   "execution_count": 25,
   "metadata": {},
   "outputs": [
    {
     "output_type": "stream",
     "name": "stdout",
     "text": [
      "[15:13:52] WARNING: ../src/learner.cc:1061: Starting in XGBoost 1.3.0, the default evaluation metric used with the objective 'multi:softprob' was changed from 'merror' to 'mlogloss'. Explicitly set eval_metric if you'd like to restore the old behavior.\n",
      "logloss: 0.428 \n"
     ]
    }
   ],
   "source": [
    "# 再对经过数据标准化(Scaling)的tf-idf-svd特征使用xgboost\n",
    "clf = xgb.XGBClassifier(nthread=10)\n",
    "clf.fit(xtrain_svd_scl, ytrain)\n",
    "predictions = clf.predict_proba(xvalid_svd_scl)\n",
    "\n",
    "print (\"logloss: %0.3f \" % multiclass_logloss(yvalid, predictions))\n"
   ]
  },
  {
   "source": [
    "### 网格搜索+TFIDF+SVD+逻辑回归"
   ],
   "cell_type": "markdown",
   "metadata": {}
  },
  {
   "cell_type": "code",
   "execution_count": 26,
   "metadata": {},
   "outputs": [],
   "source": [
    "# 网格搜索（Grid Search）: 一种超参数优化的技巧，你可以通过获取最优的参数组合来产生良好的文本分类效果\n",
    "# 在开始网格搜索之前，我们需要创建一个评分函数，这可以通过scikit-learn的make_scorer函数完成的\n",
    "from sklearn import metrics, pipeline\n",
    "mll_scorer = metrics.make_scorer(multiclass_logloss, greater_is_better=False, needs_proba=True)"
   ]
  },
  {
   "cell_type": "code",
   "execution_count": 27,
   "metadata": {},
   "outputs": [],
   "source": [
    "# 接下来，我们需要一个pipeline。 为了演示，我将使用由SVD（进行特征缩放）和逻辑回归模型组成的pipeline\n",
    "#SVD初始化\n",
    "from sklearn.decomposition import TruncatedSVD\n",
    "svd = TruncatedSVD()\n",
    "    \n",
    "# Standard Scaler初始化\n",
    "scl = preprocessing.StandardScaler()\n",
    "\n",
    "# 再一次使用Logistic Regression\n",
    "lr_model = LogisticRegression()\n",
    "\n",
    "# 创建pipeline \n",
    "clf = pipeline.Pipeline([('svd', svd),\n",
    "                         ('scl', scl),\n",
    "                         ('lr', lr_model)])"
   ]
  },
  {
   "cell_type": "code",
   "execution_count": 28,
   "metadata": {},
   "outputs": [],
   "source": [
    "# 接下来我们需要一个参数网格（A Grid of Parameters）：\n",
    "param_grid = {'svd__n_components' : [120, 180],\n",
    "              'lr__C': [0.1, 1.0, 10], \n",
    "              'lr__penalty': ['l1', 'l2']}"
   ]
  },
  {
   "cell_type": "code",
   "execution_count": 29,
   "metadata": {},
   "outputs": [
    {
     "output_type": "stream",
     "name": "stdout",
     "text": [
      "Fitting 2 folds for each of 12 candidates, totalling 24 fits\n",
      "[Parallel(n_jobs=-1)]: Using backend LokyBackend with 56 concurrent workers.\n",
      "[Parallel(n_jobs=-1)]: Done   1 tasks      | elapsed:  2.8min\n",
      "[Parallel(n_jobs=-1)]: Done   3 out of  24 | elapsed:  2.9min remaining: 20.5min\n",
      "[Parallel(n_jobs=-1)]: Done   6 out of  24 | elapsed:  3.0min remaining:  9.1min\n",
      "[Parallel(n_jobs=-1)]: Done   9 out of  24 | elapsed:  3.5min remaining:  5.9min\n",
      "[Parallel(n_jobs=-1)]: Done  12 out of  24 | elapsed:  4.0min remaining:  4.0min\n",
      "[Parallel(n_jobs=-1)]: Done  15 out of  24 | elapsed:  4.1min remaining:  2.5min\n",
      "[Parallel(n_jobs=-1)]: Done  18 out of  24 | elapsed:  4.4min remaining:  1.5min\n",
      "[Parallel(n_jobs=-1)]: Done  21 out of  24 | elapsed:  4.5min remaining:   38.6s\n",
      "[Parallel(n_jobs=-1)]: Done  24 out of  24 | elapsed:  5.3min remaining:    0.0s\n",
      "[Parallel(n_jobs=-1)]: Done  24 out of  24 | elapsed:  5.3min finished\n",
      "/home/yaoqf/miniconda3/envs/piprnn/lib/python3.7/site-packages/sklearn/linear_model/logistic.py:432: FutureWarning: Default solver will be changed to 'lbfgs' in 0.22. Specify a solver to silence this warning.\n",
      "  FutureWarning)\n",
      "/home/yaoqf/miniconda3/envs/piprnn/lib/python3.7/site-packages/sklearn/linear_model/logistic.py:469: FutureWarning: Default multi_class will be changed to 'auto' in 0.22. Specify the multi_class option to silence this warning.\n",
      "  \"this warning.\", FutureWarning)\n",
      "Best score: -0.367\n",
      "Best parameters set:\n",
      "\tlr__C: 1.0\n",
      "\tlr__penalty: 'l1'\n",
      "\tsvd__n_components: 180\n"
     ]
    }
   ],
   "source": [
    "# 对于SVD，我们评估120和180个分量（Components），对于逻辑回归，我们评估三个不同的学习率C值，其中惩罚函数为l1和l2\n",
    "# 网格搜索模型（Grid Search Model）初始化\n",
    "from sklearn.model_selection import GridSearchCV\n",
    "model = GridSearchCV(estimator=clf, param_grid=param_grid, scoring=mll_scorer,\n",
    "                                 verbose=10, n_jobs=-1, iid=True, refit=True, cv=2)\n",
    "\n",
    "#fit网格搜索模型\n",
    "model.fit(xtrain_tfv, ytrain)  #为了减少计算量，这里我们仅使用xtrain\n",
    "print(\"Best score: %0.3f\" % model.best_score_)\n",
    "print(\"Best parameters set:\")\n",
    "best_parameters = model.best_estimator_.get_params()\n",
    "for param_name in sorted(param_grid.keys()):\n",
    "    print(\"\\t%s: %r\" % (param_name, best_parameters[param_name]))\n"
   ]
  },
  {
   "source": [
    "### 网格搜索+TFIDF+SVD+朴素贝叶斯"
   ],
   "cell_type": "markdown",
   "metadata": {}
  },
  {
   "cell_type": "code",
   "execution_count": 30,
   "metadata": {},
   "outputs": [
    {
     "output_type": "stream",
     "name": "stdout",
     "text": [
      "Fitting 2 folds for each of 6 candidates, totalling 12 fits\n",
      "[Parallel(n_jobs=-1)]: Using backend LokyBackend with 56 concurrent workers.\n",
      "[Parallel(n_jobs=-1)]: Done   1 tasks      | elapsed:    4.6s\n",
      "[Parallel(n_jobs=-1)]: Done   2 tasks      | elapsed:    5.9s\n",
      "[Parallel(n_jobs=-1)]: Done   3 out of  12 | elapsed:    6.0s remaining:   17.9s\n",
      "[Parallel(n_jobs=-1)]: Done   5 out of  12 | elapsed:    6.7s remaining:    9.4s\n",
      "[Parallel(n_jobs=-1)]: Done   7 out of  12 | elapsed:    6.7s remaining:    4.8s\n",
      "[Parallel(n_jobs=-1)]: Done   9 out of  12 | elapsed:    6.7s remaining:    2.2s\n",
      "[Parallel(n_jobs=-1)]: Done  12 out of  12 | elapsed:    6.8s finished\n",
      "Best score: -0.783\n",
      "Best parameters set:\n",
      "\tnb__alpha: 0.01\n"
     ]
    }
   ],
   "source": [
    "nb_model = MultinomialNB()\n",
    "\n",
    "# 创建pipeline \n",
    "clf = pipeline.Pipeline([('nb', nb_model)])\n",
    "\n",
    "# 搜索参数设置\n",
    "param_grid = {'nb__alpha': [0.001, 0.01, 0.1, 1, 10, 100]}\n",
    "\n",
    "# 网格搜索模型（Grid Search Model）初始化\n",
    "model = GridSearchCV(estimator=clf, param_grid=param_grid, scoring=mll_scorer,\n",
    "                                 verbose=10, n_jobs=-1, iid=True, refit=True, cv=2)\n",
    "\n",
    "# fit网格搜索模型\n",
    "model.fit(xtrain_tfv, ytrain)  # 为了减少计算量，这里我们仅使用xtrain\n",
    "print(\"Best score: %0.3f\" % model.best_score_)\n",
    "print(\"Best parameters set:\")\n",
    "best_parameters = model.best_estimator_.get_params()\n",
    "for param_name in sorted(param_grid.keys()):\n",
    "    print(\"\\t%s: %r\" % (param_name, best_parameters[param_name]))"
   ]
  },
  {
   "source": [
    "### 基于word2vec的词嵌入"
   ],
   "cell_type": "markdown",
   "metadata": {}
  },
  {
   "cell_type": "code",
   "execution_count": 8,
   "metadata": {},
   "outputs": [],
   "source": [
    "X=data['文本分词']\n",
    "X=[i.split() for i in X]"
   ]
  },
  {
   "cell_type": "code",
   "execution_count": 9,
   "metadata": {},
   "outputs": [
    {
     "output_type": "stream",
     "name": "stdout",
     "text": [
      "Found 119790 word vectors.\n"
     ]
    }
   ],
   "source": [
    "# 训练word2vec词向量:\n",
    "import gensim\n",
    "\n",
    "model = gensim.models.Word2Vec(X,min_count =5,window =8,vector_size=100)   # X是经分词后的文本构成的list，也就是tokens的列表的列表\n",
    "embeddings_index = dict(zip(model.wv.index_to_key, model.wv.vectors))\n",
    "\n",
    "print('Found %s word vectors.' % len(embeddings_index))"
   ]
  },
  {
   "cell_type": "code",
   "execution_count": 37,
   "metadata": {},
   "outputs": [
    {
     "output_type": "execute_result",
     "data": {
      "text/plain": [
       "array([-2.0753336 , -3.24562   , -1.7440916 , -1.0641257 ,  0.07990439,\n",
       "       -1.6532873 ,  0.19504979, -0.45225587,  1.4039006 ,  0.3728696 ,\n",
       "       -4.3212523 ,  1.2374814 , -2.4979463 , -0.34326115,  0.1271953 ,\n",
       "       -1.9488493 , -1.8547392 , -1.519167  ,  0.02743584,  1.514501  ,\n",
       "       -0.8076854 ,  2.236369  ,  1.798642  ,  1.1343637 ,  0.6369065 ,\n",
       "       -1.9509858 ,  0.9435685 , -3.5797098 , -2.8106194 , -0.39179415,\n",
       "        1.1827027 , -0.9123246 , -1.3226672 ,  1.6173434 ,  1.5838022 ,\n",
       "       -0.8958759 ,  1.1502815 ,  0.14905936, -1.1554657 ,  0.94903773,\n",
       "        2.5181758 ,  1.4764676 , -0.00658648, -1.2471029 , -1.0260888 ,\n",
       "       -2.9987311 , -0.04199202,  2.9657953 ,  0.05197916, -1.8273337 ,\n",
       "        2.2278676 , -0.6589001 , -3.083529  , -0.73008853,  2.4676669 ,\n",
       "        1.7655442 , -0.00957161,  2.2353344 ,  0.3395955 , -0.8379713 ,\n",
       "        4.40888   , -0.27573213,  1.2394832 ,  2.2964668 ,  0.97332007,\n",
       "       -0.90037125, -0.42723814,  1.3714274 , -2.3780425 ,  1.9270196 ,\n",
       "       -1.7923422 , -0.17465475, -2.290824  ,  1.1959835 ,  1.9953994 ,\n",
       "       -1.1001755 ,  0.7264926 ,  0.01786379,  0.4859524 ,  2.8274693 ,\n",
       "        1.1398814 , -2.3067212 ,  0.72773606,  3.2994103 , -0.61401063,\n",
       "        0.27969596, -0.4483243 ,  0.43831703,  0.6124807 , -0.2788726 ,\n",
       "       -1.7348905 ,  1.5172144 ,  0.69353825, -1.576285  , -1.6557697 ,\n",
       "       -1.7993462 , -2.9940321 ,  0.12587334, -3.080685  , -2.4699576 ],\n",
       "      dtype=float32)"
      ]
     },
     "metadata": {},
     "execution_count": 37
    }
   ],
   "source": [
    "# Word2Vec还有3个值得关注的参数，iter是模型训练时迭代的次数，假如参与训练的文本量较少，就需要把这个参数调大一些；sg是模型训练算法的类别，1 代表 skip-gram，;0代表 CBOW;window控制窗口，它指当前词和预测词之间的最大距离，如果设得较小，那么模型学习到的是词汇间的功能性特征（词性相异），如果设置得较大，会学习到词汇之间的相似性特征（词性相同）的大小，假如语料够多，笔者一般会设置得大一些，8~10\n",
    "embeddings_index['汽车']"
   ]
  },
  {
   "cell_type": "code",
   "execution_count": 10,
   "metadata": {},
   "outputs": [],
   "source": [
    "# 该函数会将语句转化为一个标准化的向量（Normalized Vector）\n",
    "import numpy as np\n",
    "def sent2vec(s):\n",
    "    import jieba\n",
    "    # jieba.enable_parallel() #并行分词开启\n",
    "    words = str(s).lower()\n",
    "    words = jieba.lcut(words) # jieba.cut生成的是一个生成器，jieba.lcut 直接生成的就是一个list\n",
    "    words = [w for w in words if not w in stwlist]\n",
    "    M = []\n",
    "    for w in words:\n",
    "        try:\n",
    "            M.append(embeddings_index[w])\n",
    "        except:\n",
    "            continue\n",
    "    M = np.array(M)\n",
    "    v = M.sum(axis=0)\n",
    "    if type(v) != np.ndarray:\n",
    "        return np.zeros(100)\n",
    "    return v / np.sqrt((v ** 2).sum())"
   ]
  },
  {
   "cell_type": "code",
   "execution_count": 11,
   "metadata": {},
   "outputs": [
    {
     "output_type": "stream",
     "name": "stderr",
     "text": [
      "100%|██████████| 8324/8324 [2:18:37<00:00,  1.00it/s]\n",
      "100%|██████████| 925/925 [14:59<00:00,  1.03it/s]\n"
     ]
    }
   ],
   "source": [
    "# 对训练集和验证集使用上述函数，进行文本向量化处理\n",
    "from tqdm import tqdm\n",
    "xtrain_w2v = [sent2vec(x) for x in tqdm(xtrain)]\n",
    "xvalid_w2v = [sent2vec(x) for x in tqdm(xvalid)]"
   ]
  },
  {
   "cell_type": "code",
   "execution_count": 12,
   "metadata": {},
   "outputs": [],
   "source": [
    "xtrain_w2v = np.array(xtrain_w2v)\n",
    "xvalid_w2v = np.array(xvalid_w2v)"
   ]
  },
  {
   "source": [
    "### word2vec+xgboost"
   ],
   "cell_type": "markdown",
   "metadata": {}
  },
  {
   "cell_type": "code",
   "execution_count": 15,
   "metadata": {},
   "outputs": [
    {
     "output_type": "stream",
     "name": "stdout",
     "text": [
      "[08:57:50] WARNING: ../src/learner.cc:541: \n",
      "Parameters: { silent } might not be used.\n",
      "\n",
      "  This may not be accurate due to some parameters are only used in language bindings but\n",
      "  passed down to XGBoost core.  Or some parameters are not used but slip through this\n",
      "  verification. Please open an issue if you find above cases.\n",
      "\n",
      "\n",
      "[08:57:51] WARNING: ../src/learner.cc:1061: Starting in XGBoost 1.3.0, the default evaluation metric used with the objective 'multi:softprob' was changed from 'merror' to 'mlogloss'. Explicitly set eval_metric if you'd like to restore the old behavior.\n",
      "logloss: 0.463 \n"
     ]
    }
   ],
   "source": [
    "# 基于word2vec特征在一个简单的Xgboost模型上进行拟合\n",
    "import xgboost as xgb\n",
    "clf = xgb.XGBClassifier(nthread=10, silent=False)\n",
    "clf.fit(xtrain_w2v, ytrain)\n",
    "predictions = clf.predict_proba(xvalid_w2v)\n",
    "\n",
    "print (\"logloss: %0.3f \" % multiclass_logloss(yvalid, predictions))"
   ]
  },
  {
   "cell_type": "code",
   "execution_count": 16,
   "metadata": {},
   "outputs": [
    {
     "output_type": "stream",
     "name": "stdout",
     "text": [
      "[08:58:48] WARNING: ../src/learner.cc:541: \n",
      "Parameters: { silent } might not be used.\n",
      "\n",
      "  This may not be accurate due to some parameters are only used in language bindings but\n",
      "  passed down to XGBoost core.  Or some parameters are not used but slip through this\n",
      "  verification. Please open an issue if you find above cases.\n",
      "\n",
      "\n",
      "[08:58:48] WARNING: ../src/learner.cc:1061: Starting in XGBoost 1.3.0, the default evaluation metric used with the objective 'multi:softprob' was changed from 'merror' to 'mlogloss'. Explicitly set eval_metric if you'd like to restore the old behavior.\n",
      "logloss: 0.409 \n"
     ]
    }
   ],
   "source": [
    "# 基于word2vec特征在一个简单的Xgboost模型上进行拟合\n",
    "clf = xgb.XGBClassifier(max_depth=7, n_estimators=200, colsample_bytree=0.8, \n",
    "                        subsample=0.8, nthread=10, learning_rate=0.1, silent=False)\n",
    "clf.fit(xtrain_w2v, ytrain)\n",
    "predictions = clf.predict_proba(xvalid_w2v)\n",
    "\n",
    "print (\"logloss: %0.3f \" % multiclass_logloss(yvalid, predictions))"
   ]
  },
  {
   "source": [
    "### word2vec+Stand+FC"
   ],
   "cell_type": "markdown",
   "metadata": {}
  },
  {
   "cell_type": "code",
   "execution_count": 17,
   "metadata": {},
   "outputs": [],
   "source": [
    "# 在使用神经网络前，对数据进行缩放\n",
    "from sklearn import preprocessing\n",
    "scl = preprocessing.StandardScaler()\n",
    "xtrain_w2v_scl = scl.fit_transform(xtrain_w2v)\n",
    "xvalid_w2v_scl = scl.transform(xvalid_w2v)"
   ]
  },
  {
   "cell_type": "code",
   "execution_count": 20,
   "metadata": {},
   "outputs": [],
   "source": [
    "# 对标签进行binarize处理\n",
    "from keras.utils import np_utils\n",
    "ytrain_enc = np_utils.to_categorical(ytrain)\n",
    "yvalid_enc = np_utils.to_categorical(yvalid)"
   ]
  },
  {
   "cell_type": "code",
   "execution_count": 21,
   "metadata": {},
   "outputs": [],
   "source": [
    "from keras.models import Sequential\n",
    "from keras.layers.recurrent import LSTM, GRU\n",
    "from keras.layers.core import Dense, Activation, Dropout\n",
    "from keras.layers.embeddings import Embedding\n",
    "from keras.layers.normalization import BatchNormalization"
   ]
  },
  {
   "cell_type": "code",
   "execution_count": 25,
   "metadata": {},
   "outputs": [],
   "source": [
    "#创建1个3层的序列神经网络（Sequential Neural Net）\n",
    "model = Sequential()\n",
    "\n",
    "model.add(Dense(300, input_dim=100, activation='relu'))\n",
    "model.add(Dropout(0.2))\n",
    "model.add(BatchNormalization())\n",
    "\n",
    "model.add(Dense(300, activation='relu'))\n",
    "model.add(Dropout(0.3))\n",
    "model.add(BatchNormalization())\n",
    "\n",
    "model.add(Dense(19))\n",
    "model.add(Activation('softmax'))\n",
    "\n",
    "# 模型编译\n",
    "model.compile(loss='categorical_crossentropy', optimizer='adam')"
   ]
  },
  {
   "cell_type": "code",
   "execution_count": 26,
   "metadata": {},
   "outputs": [
    {
     "output_type": "stream",
     "name": "stdout",
     "text": [
      "Epoch 1/5\n",
      "131/131 [==============================] - 7s 9ms/step - loss: 1.2851 - val_loss: 0.5520\n",
      "Epoch 2/5\n",
      "131/131 [==============================] - 1s 5ms/step - loss: 0.5459 - val_loss: 0.4341\n",
      "Epoch 3/5\n",
      "131/131 [==============================] - 1s 5ms/step - loss: 0.4286 - val_loss: 0.4038\n",
      "Epoch 4/5\n",
      "131/131 [==============================] - 1s 5ms/step - loss: 0.3992 - val_loss: 0.4088\n",
      "Epoch 5/5\n",
      "131/131 [==============================] - 1s 5ms/step - loss: 0.3724 - val_loss: 0.3694\n"
     ]
    },
    {
     "output_type": "execute_result",
     "data": {
      "text/plain": [
       "<keras.callbacks.History at 0x7f33830db310>"
      ]
     },
     "metadata": {},
     "execution_count": 26
    }
   ],
   "source": [
    "model.fit(xtrain_w2v_scl, y=ytrain_enc, batch_size=64, \n",
    "          epochs=5, verbose=1, \n",
    "          validation_data=(xvalid_w2v_scl, yvalid_enc))"
   ]
  },
  {
   "source": [
    "### word2vec+LSTM"
   ],
   "cell_type": "markdown",
   "metadata": {}
  },
  {
   "cell_type": "code",
   "execution_count": 27,
   "metadata": {},
   "outputs": [],
   "source": [
    "# 使用 keras tokenizer\n",
    "from keras.layers import GlobalMaxPooling1D, Conv1D, MaxPooling1D, Flatten, Bidirectional, SpatialDropout1D\n",
    "from keras.preprocessing import sequence, text\n",
    "from keras.callbacks import EarlyStopping\n",
    "token = text.Tokenizer(num_words=None)\n",
    "max_len = 70\n",
    "\n",
    "token.fit_on_texts(list(xtrain) + list(xvalid))\n",
    "xtrain_seq = token.texts_to_sequences(xtrain)\n",
    "xvalid_seq = token.texts_to_sequences(xvalid)\n",
    "\n",
    "#对文本序列进行zero填充\n",
    "xtrain_pad = sequence.pad_sequences(xtrain_seq, maxlen=max_len)\n",
    "xvalid_pad = sequence.pad_sequences(xvalid_seq, maxlen=max_len)\n",
    "\n",
    "word_index = token.word_index"
   ]
  },
  {
   "cell_type": "code",
   "execution_count": 28,
   "metadata": {},
   "outputs": [
    {
     "output_type": "stream",
     "name": "stderr",
     "text": [
      "100%|██████████| 381293/381293 [00:00<00:00, 847545.80it/s]\n"
     ]
    }
   ],
   "source": [
    "# 基于已有的数据集中的词汇创建一个词嵌入矩阵（Embedding Matrix）\n",
    "embedding_matrix = np.zeros((len(word_index) + 1, 100))\n",
    "for word, i in tqdm(word_index.items()):\n",
    "    embedding_vector = embeddings_index.get(word)\n",
    "    if embedding_vector is not None:\n",
    "        embedding_matrix[i] = embedding_vector"
   ]
  },
  {
   "cell_type": "code",
   "execution_count": 29,
   "metadata": {},
   "outputs": [],
   "source": [
    "# 基于前面训练的Word2vec词向量，使用1个两层的LSTM模型\n",
    "model = Sequential()\n",
    "model.add(Embedding(len(word_index) + 1,\n",
    "                     100,\n",
    "                     weights=[embedding_matrix],\n",
    "                     input_length=max_len,\n",
    "                     trainable=False))\n",
    "model.add(SpatialDropout1D(0.3))\n",
    "model.add(LSTM(100, dropout=0.3, recurrent_dropout=0.3))\n",
    "\n",
    "model.add(Dense(1024, activation='relu'))\n",
    "model.add(Dropout(0.8))\n",
    "\n",
    "model.add(Dense(1024, activation='relu'))\n",
    "model.add(Dropout(0.8))\n",
    "\n",
    "model.add(Dense(19))\n",
    "model.add(Activation('softmax'))\n",
    "model.compile(loss='categorical_crossentropy', optimizer='adam')"
   ]
  },
  {
   "cell_type": "code",
   "execution_count": 30,
   "metadata": {},
   "outputs": [
    {
     "output_type": "stream",
     "name": "stdout",
     "text": [
      "Epoch 1/100\n",
      "17/17 [==============================] - 21s 406ms/step - loss: 2.6188 - val_loss: 1.9474\n",
      "Epoch 2/100\n",
      "17/17 [==============================] - 7s 386ms/step - loss: 2.0928 - val_loss: 1.8875\n",
      "Epoch 3/100\n",
      "17/17 [==============================] - 6s 383ms/step - loss: 1.9744 - val_loss: 1.8106\n",
      "Epoch 4/100\n",
      "17/17 [==============================] - 6s 362ms/step - loss: 1.8989 - val_loss: 1.7270\n",
      "Epoch 5/100\n",
      "17/17 [==============================] - 6s 344ms/step - loss: 1.8543 - val_loss: 1.6636\n",
      "Epoch 6/100\n",
      "17/17 [==============================] - 6s 367ms/step - loss: 1.7961 - val_loss: 1.6120\n",
      "Epoch 7/100\n",
      "17/17 [==============================] - 6s 371ms/step - loss: 1.7797 - val_loss: 1.5689\n",
      "Epoch 8/100\n",
      "17/17 [==============================] - 6s 375ms/step - loss: 1.7364 - val_loss: 1.5271\n",
      "Epoch 9/100\n",
      "17/17 [==============================] - 6s 381ms/step - loss: 1.6643 - val_loss: 1.4775\n",
      "Epoch 10/100\n",
      "17/17 [==============================] - 6s 374ms/step - loss: 1.6516 - val_loss: 1.4205\n",
      "Epoch 11/100\n",
      "17/17 [==============================] - 6s 381ms/step - loss: 1.6029 - val_loss: 1.3544\n",
      "Epoch 12/100\n",
      "17/17 [==============================] - 6s 364ms/step - loss: 1.5247 - val_loss: 1.2770\n",
      "Epoch 13/100\n",
      "17/17 [==============================] - 6s 365ms/step - loss: 1.4750 - val_loss: 1.2036\n",
      "Epoch 14/100\n",
      "17/17 [==============================] - 6s 358ms/step - loss: 1.4241 - val_loss: 1.1488\n",
      "Epoch 15/100\n",
      "17/17 [==============================] - 6s 365ms/step - loss: 1.3684 - val_loss: 1.1175\n",
      "Epoch 16/100\n",
      "17/17 [==============================] - 6s 369ms/step - loss: 1.3215 - val_loss: 1.0755\n",
      "Epoch 17/100\n",
      "17/17 [==============================] - 6s 355ms/step - loss: 1.2660 - val_loss: 1.0566\n",
      "Epoch 18/100\n",
      "17/17 [==============================] - 6s 364ms/step - loss: 1.2189 - val_loss: 1.0035\n",
      "Epoch 19/100\n",
      "17/17 [==============================] - 7s 387ms/step - loss: 1.2049 - val_loss: 0.9641\n",
      "Epoch 20/100\n",
      "17/17 [==============================] - 7s 393ms/step - loss: 1.1548 - val_loss: 0.9323\n",
      "Epoch 21/100\n",
      "17/17 [==============================] - 6s 368ms/step - loss: 1.1484 - val_loss: 0.9068\n",
      "Epoch 22/100\n",
      "17/17 [==============================] - 6s 359ms/step - loss: 1.1273 - val_loss: 0.8972\n",
      "Epoch 23/100\n",
      "17/17 [==============================] - 6s 362ms/step - loss: 1.0899 - val_loss: 0.8387\n",
      "Epoch 24/100\n",
      "17/17 [==============================] - 6s 374ms/step - loss: 1.0759 - val_loss: 0.8364\n",
      "Epoch 25/100\n",
      "17/17 [==============================] - 6s 375ms/step - loss: 1.0241 - val_loss: 0.8366\n",
      "Epoch 26/100\n",
      "17/17 [==============================] - 7s 386ms/step - loss: 1.0226 - val_loss: 0.8211\n",
      "Epoch 27/100\n",
      "17/17 [==============================] - 6s 353ms/step - loss: 1.0065 - val_loss: 0.8030\n",
      "Epoch 28/100\n",
      "17/17 [==============================] - 6s 364ms/step - loss: 0.9743 - val_loss: 0.7855\n",
      "Epoch 29/100\n",
      "17/17 [==============================] - 6s 372ms/step - loss: 0.9551 - val_loss: 0.7762\n",
      "Epoch 30/100\n",
      "17/17 [==============================] - 7s 386ms/step - loss: 0.9617 - val_loss: 0.7569\n",
      "Epoch 31/100\n",
      "17/17 [==============================] - 6s 361ms/step - loss: 0.9231 - val_loss: 0.7372\n",
      "Epoch 32/100\n",
      "17/17 [==============================] - 6s 371ms/step - loss: 0.9040 - val_loss: 0.7474\n",
      "Epoch 33/100\n",
      "17/17 [==============================] - 6s 382ms/step - loss: 0.8735 - val_loss: 0.7284\n",
      "Epoch 34/100\n",
      "17/17 [==============================] - 6s 382ms/step - loss: 0.8945 - val_loss: 0.7259\n",
      "Epoch 35/100\n",
      "17/17 [==============================] - 6s 369ms/step - loss: 0.8380 - val_loss: 0.7284\n",
      "Epoch 36/100\n",
      "17/17 [==============================] - 6s 382ms/step - loss: 0.8579 - val_loss: 0.7137\n",
      "Epoch 37/100\n",
      "17/17 [==============================] - 6s 375ms/step - loss: 0.8582 - val_loss: 0.7188\n",
      "Epoch 38/100\n",
      "17/17 [==============================] - 6s 373ms/step - loss: 0.8412 - val_loss: 0.7160\n",
      "Epoch 39/100\n",
      "17/17 [==============================] - 6s 373ms/step - loss: 0.8419 - val_loss: 0.7295\n",
      "Epoch 40/100\n",
      "17/17 [==============================] - 6s 367ms/step - loss: 0.8250 - val_loss: 0.7209\n",
      "Epoch 41/100\n",
      "17/17 [==============================] - 6s 374ms/step - loss: 0.8210 - val_loss: 0.7075\n",
      "Epoch 42/100\n",
      "17/17 [==============================] - 6s 362ms/step - loss: 0.8020 - val_loss: 0.6895\n",
      "Epoch 43/100\n",
      "17/17 [==============================] - 6s 381ms/step - loss: 0.8154 - val_loss: 0.6926\n",
      "Epoch 44/100\n",
      "17/17 [==============================] - 6s 370ms/step - loss: 0.8016 - val_loss: 0.6757\n",
      "Epoch 45/100\n",
      "17/17 [==============================] - 6s 367ms/step - loss: 0.8028 - val_loss: 0.6795\n",
      "Epoch 46/100\n",
      "17/17 [==============================] - 6s 369ms/step - loss: 0.7712 - val_loss: 0.6708\n",
      "Epoch 47/100\n",
      "17/17 [==============================] - 6s 382ms/step - loss: 0.7689 - val_loss: 0.6638\n",
      "Epoch 48/100\n",
      "17/17 [==============================] - 6s 371ms/step - loss: 0.7577 - val_loss: 0.6667\n",
      "Epoch 49/100\n",
      "17/17 [==============================] - 6s 366ms/step - loss: 0.7588 - val_loss: 0.6646\n",
      "Epoch 50/100\n",
      "17/17 [==============================] - 6s 374ms/step - loss: 0.7208 - val_loss: 0.6564\n",
      "Epoch 51/100\n",
      "17/17 [==============================] - 6s 366ms/step - loss: 0.7485 - val_loss: 0.6603\n",
      "Epoch 52/100\n",
      "17/17 [==============================] - 6s 373ms/step - loss: 0.7340 - val_loss: 0.6565\n",
      "Epoch 53/100\n",
      "17/17 [==============================] - 6s 368ms/step - loss: 0.7446 - val_loss: 0.6485\n",
      "Epoch 54/100\n",
      "17/17 [==============================] - 6s 372ms/step - loss: 0.7317 - val_loss: 0.6475\n",
      "Epoch 55/100\n",
      "17/17 [==============================] - 6s 366ms/step - loss: 0.7013 - val_loss: 0.6669\n",
      "Epoch 56/100\n",
      "17/17 [==============================] - 6s 361ms/step - loss: 0.7211 - val_loss: 0.6433\n",
      "Epoch 57/100\n",
      "17/17 [==============================] - 6s 366ms/step - loss: 0.7101 - val_loss: 0.6433\n",
      "Epoch 58/100\n",
      "17/17 [==============================] - 6s 374ms/step - loss: 0.7048 - val_loss: 0.6437\n",
      "Epoch 59/100\n",
      "17/17 [==============================] - 6s 365ms/step - loss: 0.6746 - val_loss: 0.6473\n",
      "Epoch 60/100\n",
      "17/17 [==============================] - 6s 368ms/step - loss: 0.7014 - val_loss: 0.6411\n",
      "Epoch 61/100\n",
      "17/17 [==============================] - 6s 366ms/step - loss: 0.6765 - val_loss: 0.6429\n",
      "Epoch 62/100\n",
      "17/17 [==============================] - 6s 362ms/step - loss: 0.6779 - val_loss: 0.6325\n",
      "Epoch 63/100\n",
      "17/17 [==============================] - 6s 365ms/step - loss: 0.6783 - val_loss: 0.6337\n",
      "Epoch 64/100\n",
      "17/17 [==============================] - 6s 372ms/step - loss: 0.6869 - val_loss: 0.6581\n",
      "Epoch 65/100\n",
      "17/17 [==============================] - 6s 366ms/step - loss: 0.6664 - val_loss: 0.6615\n",
      "Epoch 66/100\n",
      "17/17 [==============================] - 6s 359ms/step - loss: 0.6398 - val_loss: 0.6593\n",
      "Epoch 67/100\n",
      "17/17 [==============================] - 6s 359ms/step - loss: 0.6568 - val_loss: 0.6607\n",
      "Epoch 68/100\n",
      "17/17 [==============================] - 6s 366ms/step - loss: 0.6478 - val_loss: 0.6394\n",
      "Epoch 69/100\n",
      "17/17 [==============================] - 6s 374ms/step - loss: 0.6632 - val_loss: 0.6297\n",
      "Epoch 70/100\n",
      "17/17 [==============================] - 6s 369ms/step - loss: 0.6621 - val_loss: 0.6272\n",
      "Epoch 71/100\n",
      "17/17 [==============================] - 6s 359ms/step - loss: 0.6594 - val_loss: 0.6537\n",
      "Epoch 72/100\n",
      "17/17 [==============================] - 6s 350ms/step - loss: 0.6537 - val_loss: 0.6434\n",
      "Epoch 73/100\n",
      "17/17 [==============================] - 6s 359ms/step - loss: 0.6224 - val_loss: 0.6410\n",
      "Epoch 74/100\n",
      "17/17 [==============================] - 6s 368ms/step - loss: 0.6187 - val_loss: 0.6536\n",
      "Epoch 75/100\n",
      "17/17 [==============================] - 6s 371ms/step - loss: 0.6421 - val_loss: 0.6397\n",
      "Epoch 76/100\n",
      "17/17 [==============================] - 6s 370ms/step - loss: 0.6130 - val_loss: 0.6313\n",
      "Epoch 77/100\n",
      "17/17 [==============================] - 6s 379ms/step - loss: 0.6084 - val_loss: 0.6433\n",
      "Epoch 78/100\n",
      "17/17 [==============================] - 6s 365ms/step - loss: 0.6363 - val_loss: 0.6286\n",
      "Epoch 79/100\n",
      "17/17 [==============================] - 6s 356ms/step - loss: 0.6129 - val_loss: 0.6399\n",
      "Epoch 80/100\n",
      "17/17 [==============================] - 6s 364ms/step - loss: 0.6033 - val_loss: 0.6315\n",
      "Epoch 81/100\n",
      "17/17 [==============================] - 6s 384ms/step - loss: 0.5995 - val_loss: 0.6216\n",
      "Epoch 82/100\n",
      "17/17 [==============================] - 6s 373ms/step - loss: 0.6334 - val_loss: 0.6186\n",
      "Epoch 83/100\n",
      "17/17 [==============================] - 6s 359ms/step - loss: 0.6325 - val_loss: 0.6295\n",
      "Epoch 84/100\n",
      "17/17 [==============================] - 6s 369ms/step - loss: 0.6019 - val_loss: 0.6493\n",
      "Epoch 85/100\n",
      "17/17 [==============================] - 6s 358ms/step - loss: 0.6227 - val_loss: 0.6618\n",
      "Epoch 86/100\n",
      "17/17 [==============================] - 6s 369ms/step - loss: 0.5993 - val_loss: 0.6385\n",
      "Epoch 87/100\n",
      "17/17 [==============================] - 6s 374ms/step - loss: 0.5870 - val_loss: 0.6316\n",
      "Epoch 88/100\n",
      "17/17 [==============================] - 6s 359ms/step - loss: 0.5759 - val_loss: 0.6382\n",
      "Epoch 89/100\n",
      "17/17 [==============================] - 6s 356ms/step - loss: 0.5944 - val_loss: 0.6185\n",
      "Epoch 90/100\n",
      "17/17 [==============================] - 6s 365ms/step - loss: 0.5781 - val_loss: 0.6250\n",
      "Epoch 91/100\n",
      "17/17 [==============================] - 6s 373ms/step - loss: 0.5811 - val_loss: 0.6057\n",
      "Epoch 92/100\n",
      "17/17 [==============================] - 6s 369ms/step - loss: 0.5964 - val_loss: 0.6137\n",
      "Epoch 93/100\n",
      "17/17 [==============================] - 6s 355ms/step - loss: 0.5772 - val_loss: 0.6326\n",
      "Epoch 94/100\n",
      "17/17 [==============================] - 6s 353ms/step - loss: 0.5761 - val_loss: 0.6293\n",
      "Epoch 95/100\n",
      "17/17 [==============================] - 6s 362ms/step - loss: 0.5560 - val_loss: 0.6105\n",
      "Epoch 96/100\n",
      "17/17 [==============================] - 6s 355ms/step - loss: 0.5533 - val_loss: 0.6044\n",
      "Epoch 97/100\n",
      "17/17 [==============================] - 6s 359ms/step - loss: 0.5837 - val_loss: 0.6120\n",
      "Epoch 98/100\n",
      "17/17 [==============================] - 6s 361ms/step - loss: 0.5805 - val_loss: 0.6012\n",
      "Epoch 99/100\n",
      "17/17 [==============================] - 6s 366ms/step - loss: 0.5603 - val_loss: 0.6275\n",
      "Epoch 100/100\n",
      "17/17 [==============================] - 6s 368ms/step - loss: 0.5440 - val_loss: 0.6221\n"
     ]
    },
    {
     "output_type": "execute_result",
     "data": {
      "text/plain": [
       "<keras.callbacks.History at 0x7f329828ae50>"
      ]
     },
     "metadata": {},
     "execution_count": 30
    }
   ],
   "source": [
    "model.fit(xtrain_pad, y=ytrain_enc, batch_size=512, epochs=100, verbose=1, validation_data=(xvalid_pad, yvalid_enc))"
   ]
  },
  {
   "source": [
    "### word2vec+LSTM+earlystopping"
   ],
   "cell_type": "markdown",
   "metadata": {}
  },
  {
   "cell_type": "code",
   "execution_count": 31,
   "metadata": {},
   "outputs": [
    {
     "output_type": "stream",
     "name": "stdout",
     "text": [
      "Epoch 1/100\n",
      "17/17 [==============================] - 13s 534ms/step - loss: 2.5754 - val_loss: 1.9414\n",
      "Epoch 2/100\n",
      "17/17 [==============================] - 6s 353ms/step - loss: 2.0827 - val_loss: 1.8691\n",
      "Epoch 3/100\n",
      "17/17 [==============================] - 6s 372ms/step - loss: 1.9748 - val_loss: 1.7996\n",
      "Epoch 4/100\n",
      "17/17 [==============================] - 6s 361ms/step - loss: 1.9054 - val_loss: 1.7235\n",
      "Epoch 5/100\n",
      "17/17 [==============================] - 6s 360ms/step - loss: 1.8650 - val_loss: 1.6801\n",
      "Epoch 6/100\n",
      "17/17 [==============================] - 6s 381ms/step - loss: 1.8095 - val_loss: 1.6264\n",
      "Epoch 7/100\n",
      "17/17 [==============================] - 6s 358ms/step - loss: 1.7523 - val_loss: 1.5858\n",
      "Epoch 8/100\n",
      "17/17 [==============================] - 6s 372ms/step - loss: 1.7216 - val_loss: 1.5196\n",
      "Epoch 9/100\n",
      "17/17 [==============================] - 6s 383ms/step - loss: 1.6541 - val_loss: 1.4692\n",
      "Epoch 10/100\n",
      "17/17 [==============================] - 6s 365ms/step - loss: 1.6273 - val_loss: 1.4220\n",
      "Epoch 11/100\n",
      "17/17 [==============================] - 6s 370ms/step - loss: 1.6103 - val_loss: 1.3634\n",
      "Epoch 12/100\n",
      "17/17 [==============================] - 6s 368ms/step - loss: 1.5185 - val_loss: 1.2801\n",
      "Epoch 13/100\n",
      "17/17 [==============================] - 6s 363ms/step - loss: 1.4999 - val_loss: 1.2175\n",
      "Epoch 14/100\n",
      "17/17 [==============================] - 6s 373ms/step - loss: 1.3992 - val_loss: 1.1811\n",
      "Epoch 15/100\n",
      "17/17 [==============================] - 6s 362ms/step - loss: 1.3663 - val_loss: 1.1305\n",
      "Epoch 16/100\n",
      "17/17 [==============================] - 6s 379ms/step - loss: 1.3173 - val_loss: 1.1166\n",
      "Epoch 17/100\n",
      "17/17 [==============================] - 6s 364ms/step - loss: 1.2648 - val_loss: 1.0639\n",
      "Epoch 18/100\n",
      "17/17 [==============================] - 6s 364ms/step - loss: 1.2383 - val_loss: 1.0431\n",
      "Epoch 19/100\n",
      "17/17 [==============================] - 6s 367ms/step - loss: 1.1899 - val_loss: 1.0065\n",
      "Epoch 20/100\n",
      "17/17 [==============================] - 6s 357ms/step - loss: 1.1897 - val_loss: 0.9816\n",
      "Epoch 21/100\n",
      "17/17 [==============================] - 6s 366ms/step - loss: 1.1676 - val_loss: 0.9642\n",
      "Epoch 22/100\n",
      "17/17 [==============================] - 6s 362ms/step - loss: 1.1140 - val_loss: 0.9307\n",
      "Epoch 23/100\n",
      "17/17 [==============================] - 6s 361ms/step - loss: 1.0738 - val_loss: 0.9035\n",
      "Epoch 24/100\n",
      "17/17 [==============================] - 6s 374ms/step - loss: 1.0689 - val_loss: 0.8825\n",
      "Epoch 25/100\n",
      "17/17 [==============================] - 6s 362ms/step - loss: 1.0177 - val_loss: 0.8944\n",
      "Epoch 26/100\n",
      "17/17 [==============================] - 6s 365ms/step - loss: 1.0230 - val_loss: 0.8569\n",
      "Epoch 27/100\n",
      "17/17 [==============================] - 6s 370ms/step - loss: 1.0135 - val_loss: 0.8602\n",
      "Epoch 28/100\n",
      "17/17 [==============================] - 6s 351ms/step - loss: 0.9689 - val_loss: 0.8553\n",
      "Epoch 29/100\n",
      "17/17 [==============================] - 6s 361ms/step - loss: 0.9802 - val_loss: 0.8336\n",
      "Epoch 30/100\n",
      "17/17 [==============================] - 6s 359ms/step - loss: 0.9521 - val_loss: 0.8134\n",
      "Epoch 31/100\n",
      "17/17 [==============================] - 6s 361ms/step - loss: 0.9295 - val_loss: 0.8037\n",
      "Epoch 32/100\n",
      "17/17 [==============================] - 6s 358ms/step - loss: 0.9323 - val_loss: 0.8011\n",
      "Epoch 33/100\n",
      "17/17 [==============================] - 6s 372ms/step - loss: 0.9336 - val_loss: 0.8097\n",
      "Epoch 34/100\n",
      "17/17 [==============================] - 6s 365ms/step - loss: 0.9061 - val_loss: 0.8018\n",
      "Epoch 35/100\n",
      "17/17 [==============================] - 6s 360ms/step - loss: 0.8901 - val_loss: 0.7769\n",
      "Epoch 36/100\n",
      "17/17 [==============================] - 6s 362ms/step - loss: 0.8904 - val_loss: 0.7702\n",
      "Epoch 37/100\n",
      "17/17 [==============================] - 6s 364ms/step - loss: 0.8757 - val_loss: 0.7597\n",
      "Epoch 38/100\n",
      "17/17 [==============================] - 6s 364ms/step - loss: 0.8821 - val_loss: 0.7809\n",
      "Epoch 39/100\n",
      "17/17 [==============================] - 6s 361ms/step - loss: 0.8459 - val_loss: 0.7507\n",
      "Epoch 40/100\n",
      "17/17 [==============================] - 6s 365ms/step - loss: 0.8268 - val_loss: 0.7457\n",
      "Epoch 41/100\n",
      "17/17 [==============================] - 6s 358ms/step - loss: 0.8190 - val_loss: 0.7407\n",
      "Epoch 42/100\n",
      "17/17 [==============================] - 6s 350ms/step - loss: 0.8163 - val_loss: 0.7396\n",
      "Epoch 43/100\n",
      "17/17 [==============================] - 6s 352ms/step - loss: 0.8106 - val_loss: 0.7313\n",
      "Epoch 44/100\n",
      "17/17 [==============================] - 6s 358ms/step - loss: 0.7751 - val_loss: 0.7458\n",
      "Epoch 45/100\n",
      "17/17 [==============================] - 6s 371ms/step - loss: 0.7963 - val_loss: 0.7366\n",
      "Epoch 46/100\n",
      "17/17 [==============================] - 6s 362ms/step - loss: 0.8130 - val_loss: 0.7465\n"
     ]
    },
    {
     "output_type": "execute_result",
     "data": {
      "text/plain": [
       "<keras.callbacks.History at 0x7f32982ef110>"
      ]
     },
     "metadata": {},
     "execution_count": 31
    }
   ],
   "source": [
    "# 基于前面训练的Word2vec词向量，使用1个两层的LSTM模型\n",
    "model = Sequential()\n",
    "model.add(Embedding(len(word_index) + 1,\n",
    "                     100,\n",
    "                     weights=[embedding_matrix],\n",
    "                     input_length=max_len,\n",
    "                     trainable=False))\n",
    "model.add(SpatialDropout1D(0.3))\n",
    "model.add(LSTM(100, dropout=0.3, recurrent_dropout=0.3))\n",
    "\n",
    "model.add(Dense(1024, activation='relu'))\n",
    "model.add(Dropout(0.8))\n",
    "\n",
    "model.add(Dense(1024, activation='relu'))\n",
    "model.add(Dropout(0.8))\n",
    "\n",
    "model.add(Dense(19))\n",
    "model.add(Activation('softmax'))\n",
    "model.compile(loss='categorical_crossentropy', optimizer='adam')\n",
    "\n",
    "#在模型拟合时，使用early stopping这个回调函数（Callback Function）\n",
    "earlystop = EarlyStopping(monitor='val_loss', min_delta=0, patience=3, verbose=0, mode='auto')\n",
    "model.fit(xtrain_pad, y=ytrain_enc, batch_size=512, epochs=100, \n",
    "          verbose=1, validation_data=(xvalid_pad, yvalid_enc), callbacks=[earlystop])\n",
    "\n"
   ]
  },
  {
   "source": [
    "### word2vec+BiLSTM+earlystopping"
   ],
   "cell_type": "markdown",
   "metadata": {}
  },
  {
   "cell_type": "code",
   "execution_count": 32,
   "metadata": {},
   "outputs": [
    {
     "output_type": "stream",
     "name": "stdout",
     "text": [
      "Epoch 1/100\n",
      "17/17 [==============================] - 24s 801ms/step - loss: 2.6548 - val_loss: 1.9470\n",
      "Epoch 2/100\n",
      "17/17 [==============================] - 11s 680ms/step - loss: 2.1310 - val_loss: 1.8760\n",
      "Epoch 3/100\n",
      "17/17 [==============================] - 11s 663ms/step - loss: 2.0105 - val_loss: 1.7913\n",
      "Epoch 4/100\n",
      "17/17 [==============================] - 11s 663ms/step - loss: 1.9196 - val_loss: 1.7078\n",
      "Epoch 5/100\n",
      "17/17 [==============================] - 11s 655ms/step - loss: 1.8438 - val_loss: 1.6009\n",
      "Epoch 6/100\n",
      "17/17 [==============================] - 12s 681ms/step - loss: 1.7625 - val_loss: 1.5076\n",
      "Epoch 7/100\n",
      "17/17 [==============================] - 12s 695ms/step - loss: 1.6804 - val_loss: 1.4118\n",
      "Epoch 8/100\n",
      "17/17 [==============================] - 12s 673ms/step - loss: 1.6003 - val_loss: 1.2909\n",
      "Epoch 9/100\n",
      "17/17 [==============================] - 11s 661ms/step - loss: 1.5302 - val_loss: 1.2350\n",
      "Epoch 10/100\n",
      "17/17 [==============================] - 12s 683ms/step - loss: 1.4726 - val_loss: 1.1652\n",
      "Epoch 11/100\n",
      "17/17 [==============================] - 11s 669ms/step - loss: 1.3784 - val_loss: 1.0765\n",
      "Epoch 12/100\n",
      "17/17 [==============================] - 11s 660ms/step - loss: 1.3283 - val_loss: 1.0117\n",
      "Epoch 13/100\n",
      "17/17 [==============================] - 12s 679ms/step - loss: 1.2709 - val_loss: 0.9767\n",
      "Epoch 14/100\n",
      "17/17 [==============================] - 11s 675ms/step - loss: 1.2375 - val_loss: 0.9349\n",
      "Epoch 15/100\n",
      "17/17 [==============================] - 11s 680ms/step - loss: 1.1881 - val_loss: 0.9243\n",
      "Epoch 16/100\n",
      "17/17 [==============================] - 12s 680ms/step - loss: 1.1595 - val_loss: 0.8853\n",
      "Epoch 17/100\n",
      "17/17 [==============================] - 12s 679ms/step - loss: 1.1239 - val_loss: 0.8639\n",
      "Epoch 18/100\n",
      "17/17 [==============================] - 11s 653ms/step - loss: 1.0826 - val_loss: 0.8453\n",
      "Epoch 19/100\n",
      "17/17 [==============================] - 11s 675ms/step - loss: 1.0396 - val_loss: 0.8348\n",
      "Epoch 20/100\n",
      "17/17 [==============================] - 11s 658ms/step - loss: 1.0081 - val_loss: 0.8246\n",
      "Epoch 21/100\n",
      "17/17 [==============================] - 12s 680ms/step - loss: 0.9885 - val_loss: 0.7854\n",
      "Epoch 22/100\n",
      "17/17 [==============================] - 11s 674ms/step - loss: 0.9702 - val_loss: 0.7797\n",
      "Epoch 23/100\n",
      "17/17 [==============================] - 11s 669ms/step - loss: 0.9241 - val_loss: 0.7775\n",
      "Epoch 24/100\n",
      "17/17 [==============================] - 11s 666ms/step - loss: 0.9134 - val_loss: 0.7590\n",
      "Epoch 25/100\n",
      "17/17 [==============================] - 12s 684ms/step - loss: 0.9146 - val_loss: 0.7346\n",
      "Epoch 26/100\n",
      "17/17 [==============================] - 12s 678ms/step - loss: 0.8907 - val_loss: 0.7298\n",
      "Epoch 27/100\n",
      "17/17 [==============================] - 11s 656ms/step - loss: 0.8587 - val_loss: 0.7117\n",
      "Epoch 28/100\n",
      "17/17 [==============================] - 12s 685ms/step - loss: 0.8581 - val_loss: 0.7160\n",
      "Epoch 29/100\n",
      "17/17 [==============================] - 11s 659ms/step - loss: 0.8352 - val_loss: 0.7274\n",
      "Epoch 30/100\n",
      "17/17 [==============================] - 11s 655ms/step - loss: 0.8114 - val_loss: 0.6860\n",
      "Epoch 31/100\n",
      "17/17 [==============================] - 11s 655ms/step - loss: 0.7995 - val_loss: 0.6790\n",
      "Epoch 32/100\n",
      "17/17 [==============================] - 11s 670ms/step - loss: 0.7979 - val_loss: 0.7071\n",
      "Epoch 33/100\n",
      "17/17 [==============================] - 12s 682ms/step - loss: 0.7885 - val_loss: 0.6883\n",
      "Epoch 34/100\n",
      "17/17 [==============================] - 12s 690ms/step - loss: 0.7746 - val_loss: 0.6803\n"
     ]
    },
    {
     "output_type": "execute_result",
     "data": {
      "text/plain": [
       "<keras.callbacks.History at 0x7f3280496f90>"
      ]
     },
     "metadata": {},
     "execution_count": 32
    }
   ],
   "source": [
    "# 基于前面训练的Word2vec词向量，构建1个2层的Bidirectional LSTM \n",
    "model = Sequential()\n",
    "model.add(Embedding(len(word_index) + 1,\n",
    "                     100,\n",
    "                     weights=[embedding_matrix],\n",
    "                     input_length=max_len,\n",
    "                     trainable=False))\n",
    "model.add(SpatialDropout1D(0.3))\n",
    "model.add(Bidirectional(LSTM(100, dropout=0.3, recurrent_dropout=0.3)))\n",
    "\n",
    "model.add(Dense(1024, activation='relu'))\n",
    "model.add(Dropout(0.8))\n",
    "\n",
    "model.add(Dense(1024, activation='relu'))\n",
    "model.add(Dropout(0.8))\n",
    "\n",
    "model.add(Dense(19))\n",
    "model.add(Activation('softmax'))\n",
    "model.compile(loss='categorical_crossentropy', optimizer='adam')\n",
    "\n",
    "#在模型拟合时，使用early stopping这个回调函数（Callback Function）\n",
    "earlystop = EarlyStopping(monitor='val_loss', min_delta=0, patience=3, verbose=0, mode='auto')\n",
    "model.fit(xtrain_pad, y=ytrain_enc, batch_size=512, epochs=100, \n",
    "          verbose=1, validation_data=(xvalid_pad, yvalid_enc), callbacks=[earlystop])"
   ]
  },
  {
   "source": [
    "### word2vec+GRU+earlystopping"
   ],
   "cell_type": "markdown",
   "metadata": {}
  },
  {
   "cell_type": "code",
   "execution_count": 33,
   "metadata": {},
   "outputs": [
    {
     "output_type": "stream",
     "name": "stdout",
     "text": [
      "Epoch 1/100\n",
      "17/17 [==============================] - 20s 716ms/step - loss: 2.6093 - val_loss: 1.9207\n",
      "Epoch 2/100\n",
      "17/17 [==============================] - 10s 561ms/step - loss: 2.0843 - val_loss: 1.9000\n",
      "Epoch 3/100\n",
      "17/17 [==============================] - 10s 575ms/step - loss: 2.0162 - val_loss: 1.7845\n",
      "Epoch 4/100\n",
      "17/17 [==============================] - 9s 556ms/step - loss: 1.9248 - val_loss: 1.7458\n",
      "Epoch 5/100\n",
      "17/17 [==============================] - 10s 578ms/step - loss: 1.8696 - val_loss: 1.6806\n",
      "Epoch 6/100\n",
      "17/17 [==============================] - 9s 558ms/step - loss: 1.8325 - val_loss: 1.6313\n",
      "Epoch 7/100\n",
      "17/17 [==============================] - 9s 549ms/step - loss: 1.7906 - val_loss: 1.5782\n",
      "Epoch 8/100\n",
      "17/17 [==============================] - 10s 565ms/step - loss: 1.7351 - val_loss: 1.5161\n",
      "Epoch 9/100\n",
      "17/17 [==============================] - 10s 566ms/step - loss: 1.6993 - val_loss: 1.4394\n",
      "Epoch 10/100\n",
      "17/17 [==============================] - 10s 560ms/step - loss: 1.6214 - val_loss: 1.3770\n",
      "Epoch 11/100\n",
      "17/17 [==============================] - 10s 576ms/step - loss: 1.5792 - val_loss: 1.3269\n",
      "Epoch 12/100\n",
      "17/17 [==============================] - 10s 576ms/step - loss: 1.5296 - val_loss: 1.2748\n",
      "Epoch 13/100\n",
      "17/17 [==============================] - 10s 568ms/step - loss: 1.4494 - val_loss: 1.2455\n",
      "Epoch 14/100\n",
      "17/17 [==============================] - 10s 573ms/step - loss: 1.4060 - val_loss: 1.1654\n",
      "Epoch 15/100\n",
      "17/17 [==============================] - 10s 581ms/step - loss: 1.3322 - val_loss: 1.0850\n",
      "Epoch 16/100\n",
      "17/17 [==============================] - 10s 575ms/step - loss: 1.3139 - val_loss: 1.0408\n",
      "Epoch 17/100\n",
      "17/17 [==============================] - 10s 585ms/step - loss: 1.2617 - val_loss: 0.9793\n",
      "Epoch 18/100\n",
      "17/17 [==============================] - 10s 566ms/step - loss: 1.2280 - val_loss: 0.9375\n",
      "Epoch 19/100\n",
      "17/17 [==============================] - 10s 565ms/step - loss: 1.2006 - val_loss: 0.9426\n",
      "Epoch 20/100\n",
      "17/17 [==============================] - 10s 575ms/step - loss: 1.1307 - val_loss: 0.8966\n",
      "Epoch 21/100\n",
      "17/17 [==============================] - 10s 584ms/step - loss: 1.0616 - val_loss: 0.8513\n",
      "Epoch 22/100\n",
      "17/17 [==============================] - 10s 573ms/step - loss: 1.0562 - val_loss: 0.8505\n",
      "Epoch 23/100\n",
      "17/17 [==============================] - 11s 637ms/step - loss: 1.0423 - val_loss: 0.8093\n",
      "Epoch 24/100\n",
      "17/17 [==============================] - 10s 589ms/step - loss: 1.0179 - val_loss: 0.7956\n",
      "Epoch 25/100\n",
      "17/17 [==============================] - 10s 594ms/step - loss: 0.9868 - val_loss: 0.7797\n",
      "Epoch 26/100\n",
      "17/17 [==============================] - 10s 579ms/step - loss: 0.9632 - val_loss: 0.7746\n",
      "Epoch 27/100\n",
      "17/17 [==============================] - 10s 563ms/step - loss: 0.9384 - val_loss: 0.7489\n",
      "Epoch 28/100\n",
      "17/17 [==============================] - 10s 567ms/step - loss: 0.9366 - val_loss: 0.7288\n",
      "Epoch 29/100\n",
      "17/17 [==============================] - 10s 604ms/step - loss: 0.9021 - val_loss: 0.6923\n",
      "Epoch 30/100\n",
      "17/17 [==============================] - 10s 584ms/step - loss: 0.8790 - val_loss: 0.7033\n",
      "Epoch 31/100\n",
      "17/17 [==============================] - 10s 590ms/step - loss: 0.8625 - val_loss: 0.6892\n",
      "Epoch 32/100\n",
      "17/17 [==============================] - 10s 596ms/step - loss: 0.8553 - val_loss: 0.6858\n",
      "Epoch 33/100\n",
      "17/17 [==============================] - 10s 586ms/step - loss: 0.8296 - val_loss: 0.6838\n",
      "Epoch 34/100\n",
      "17/17 [==============================] - 10s 576ms/step - loss: 0.8597 - val_loss: 0.6724\n",
      "Epoch 35/100\n",
      "17/17 [==============================] - 10s 563ms/step - loss: 0.8226 - val_loss: 0.6578\n",
      "Epoch 36/100\n",
      "17/17 [==============================] - 10s 574ms/step - loss: 0.8219 - val_loss: 0.6508\n",
      "Epoch 37/100\n",
      "17/17 [==============================] - 10s 582ms/step - loss: 0.8303 - val_loss: 0.6573\n",
      "Epoch 38/100\n",
      "17/17 [==============================] - 10s 577ms/step - loss: 0.7950 - val_loss: 0.6641\n",
      "Epoch 39/100\n",
      "17/17 [==============================] - 10s 585ms/step - loss: 0.8070 - val_loss: 0.6465\n",
      "Epoch 40/100\n",
      "17/17 [==============================] - 10s 580ms/step - loss: 0.7752 - val_loss: 0.6444\n",
      "Epoch 41/100\n",
      "17/17 [==============================] - 10s 574ms/step - loss: 0.7607 - val_loss: 0.6446\n",
      "Epoch 42/100\n",
      "17/17 [==============================] - 10s 579ms/step - loss: 0.7433 - val_loss: 0.6305\n",
      "Epoch 43/100\n",
      "17/17 [==============================] - 10s 569ms/step - loss: 0.7430 - val_loss: 0.6089\n",
      "Epoch 44/100\n",
      "17/17 [==============================] - 10s 583ms/step - loss: 0.7620 - val_loss: 0.6235\n",
      "Epoch 45/100\n",
      "17/17 [==============================] - 10s 576ms/step - loss: 0.7416 - val_loss: 0.6263\n",
      "Epoch 46/100\n",
      "17/17 [==============================] - 10s 580ms/step - loss: 0.7441 - val_loss: 0.6138\n"
     ]
    },
    {
     "output_type": "execute_result",
     "data": {
      "text/plain": [
       "<keras.callbacks.History at 0x7f325050ec50>"
      ]
     },
     "metadata": {},
     "execution_count": 33
    }
   ],
   "source": [
    "# 基于前面训练的Word2vec词向量，构建1个2层的GRU模型\n",
    "model = Sequential()\n",
    "model.add(Embedding(len(word_index) + 1,\n",
    "                     100,\n",
    "                     weights=[embedding_matrix],\n",
    "                     input_length=max_len,\n",
    "                     trainable=False))\n",
    "model.add(SpatialDropout1D(0.3))\n",
    "model.add(GRU(100, dropout=0.3, recurrent_dropout=0.3, return_sequences=True))\n",
    "model.add(GRU(100, dropout=0.3, recurrent_dropout=0.3))\n",
    "\n",
    "model.add(Dense(1024, activation='relu'))\n",
    "model.add(Dropout(0.8))\n",
    "\n",
    "model.add(Dense(1024, activation='relu'))\n",
    "model.add(Dropout(0.8))\n",
    "\n",
    "model.add(Dense(19))\n",
    "model.add(Activation('softmax'))\n",
    "model.compile(loss='categorical_crossentropy', optimizer='adam')\n",
    "\n",
    "#在模型拟合时，使用early stopping这个回调函数（Callback Function）\n",
    "earlystop = EarlyStopping(monitor='val_loss', min_delta=0, patience=3, verbose=0, mode='auto')\n",
    "model.fit(xtrain_pad, y=ytrain_enc, batch_size=512, epochs=100, \n",
    "          verbose=1, validation_data=(xvalid_pad, yvalid_enc), callbacks=[earlystop])"
   ]
  },
  {
   "source": [
    "### 模型集成（Model Ensembling）"
   ],
   "cell_type": "markdown",
   "metadata": {}
  },
  {
   "cell_type": "code",
   "execution_count": 38,
   "metadata": {},
   "outputs": [],
   "source": [
    "#创建一个Ensembling主类，具体使用方法见下一个cell\n",
    "import numpy as np\n",
    "from sklearn.metrics import roc_auc_score\n",
    "from sklearn.preprocessing import LabelEncoder\n",
    "from sklearn.model_selection import StratifiedKFold, KFold\n",
    "import pandas as pd\n",
    "import os\n",
    "import sys\n",
    "import logging\n",
    "\n",
    "logging.basicConfig(\n",
    "    level=logging.DEBUG,\n",
    "    format=\"[%(asctime)s] %(levelname)s %(message)s\",\n",
    "    datefmt=\"%H:%M:%S\", stream=sys.stdout)\n",
    "logger = logging.getLogger(__name__)\n",
    "\n",
    "\n",
    "class Ensembler(object):\n",
    "    def __init__(self, model_dict, num_folds=3, task_type='classification', optimize=roc_auc_score,\n",
    "                 lower_is_better=False, save_path=None):\n",
    "        \"\"\"\n",
    "        Ensembler init function\n",
    "        :param model_dict: 模型字典 \n",
    "        :param num_folds: ensembling所用的fold数量\n",
    "        :param task_type: 分类（classification） 还是回归（regression）\n",
    "        :param optimize: 优化函数，比如 AUC, logloss, F1等，必须有2个函数，即y_test 和 y_pred\n",
    "        :param lower_is_better: 优化函数（Optimization Function）的值越低越好还是越高越好\n",
    "        :param save_path: 模型保存路径\n",
    "        \"\"\"\n",
    "\n",
    "        self.model_dict = model_dict\n",
    "        self.levels = len(self.model_dict)\n",
    "        self.num_folds = num_folds\n",
    "        self.task_type = task_type\n",
    "        self.optimize = optimize\n",
    "        self.lower_is_better = lower_is_better\n",
    "        self.save_path = save_path\n",
    "\n",
    "        self.training_data = None\n",
    "        self.test_data = None\n",
    "        self.y = None\n",
    "        self.lbl_enc = None\n",
    "        self.y_enc = None\n",
    "        self.train_prediction_dict = None\n",
    "        self.test_prediction_dict = None\n",
    "        self.num_classes = None\n",
    "\n",
    "    def fit(self, training_data, y, lentrain):\n",
    "        \"\"\"\n",
    "        :param training_data: 二维表格形式的训练数据\n",
    "        :param y: 二进制的, 多分类或回归\n",
    "        :return: 用于预测的模型链（Chain of Models）\n",
    "\n",
    "        \"\"\"\n",
    "\n",
    "        self.training_data = training_data\n",
    "        self.y = y\n",
    "\n",
    "        if self.task_type == 'classification':\n",
    "            self.num_classes = len(np.unique(self.y))\n",
    "            logger.info(\"Found %d classes\", self.num_classes)\n",
    "            self.lbl_enc = LabelEncoder()\n",
    "            self.y_enc = self.lbl_enc.fit_transform(self.y)\n",
    "            kf = StratifiedKFold(n_splits=self.num_folds)\n",
    "            train_prediction_shape = (lentrain, self.num_classes)\n",
    "        else:\n",
    "            self.num_classes = -1\n",
    "            self.y_enc = self.y\n",
    "            kf = KFold(n_splits=self.num_folds)\n",
    "            train_prediction_shape = (lentrain, 1)\n",
    "\n",
    "        self.train_prediction_dict = {}\n",
    "        for level in range(self.levels):\n",
    "            self.train_prediction_dict[level] = np.zeros((train_prediction_shape[0],\n",
    "                                                          train_prediction_shape[1] * len(self.model_dict[level])))\n",
    "\n",
    "        for level in range(self.levels):\n",
    "\n",
    "            if level == 0:\n",
    "                temp_train = self.training_data\n",
    "            else:\n",
    "                temp_train = self.train_prediction_dict[level - 1]\n",
    "\n",
    "            for model_num, model in enumerate(self.model_dict[level]):\n",
    "                validation_scores = []\n",
    "                foldnum = 1\n",
    "                for train_index, valid_index in kf.split(self.train_prediction_dict[0], self.y_enc):\n",
    "                    logger.info(\"Training Level %d Fold # %d. Model # %d\", level, foldnum, model_num)\n",
    "\n",
    "                    if level != 0:\n",
    "                        l_training_data = temp_train[train_index]\n",
    "                        l_validation_data = temp_train[valid_index]\n",
    "                        model.fit(l_training_data, self.y_enc[train_index])\n",
    "                    else:\n",
    "                        l0_training_data = temp_train[0][model_num]\n",
    "                        if type(l0_training_data) == list:\n",
    "                            l_training_data = [x[train_index] for x in l0_training_data]\n",
    "                            l_validation_data = [x[valid_index] for x in l0_training_data]\n",
    "                        else:\n",
    "                            l_training_data = l0_training_data[train_index]\n",
    "                            l_validation_data = l0_training_data[valid_index]\n",
    "                        model.fit(l_training_data, self.y_enc[train_index])\n",
    "\n",
    "                    logger.info(\"Predicting Level %d. Fold # %d. Model # %d\", level, foldnum, model_num)\n",
    "\n",
    "                    if self.task_type == 'classification':\n",
    "                        temp_train_predictions = model.predict_proba(l_validation_data)\n",
    "                        self.train_prediction_dict[level][valid_index,\n",
    "                        (model_num * self.num_classes):(model_num * self.num_classes) +\n",
    "                                                       self.num_classes] = temp_train_predictions\n",
    "\n",
    "                    else:\n",
    "                        temp_train_predictions = model.predict(l_validation_data)\n",
    "                        self.train_prediction_dict[level][valid_index, model_num] = temp_train_predictions\n",
    "                    validation_score = self.optimize(self.y_enc[valid_index], temp_train_predictions)\n",
    "                    validation_scores.append(validation_score)\n",
    "                    logger.info(\"Level %d. Fold # %d. Model # %d. Validation Score = %f\", level, foldnum, model_num,\n",
    "                                validation_score)\n",
    "                    foldnum += 1\n",
    "                avg_score = np.mean(validation_scores)\n",
    "                std_score = np.std(validation_scores)\n",
    "                logger.info(\"Level %d. Model # %d. Mean Score = %f. Std Dev = %f\", level, model_num,\n",
    "                            avg_score, std_score)\n",
    "\n",
    "            logger.info(\"Saving predictions for level # %d\", level)\n",
    "            train_predictions_df = pd.DataFrame(self.train_prediction_dict[level])\n",
    "            train_predictions_df.to_csv(os.path.join(self.save_path, \"train_predictions_level_\" + str(level) + \".csv\"),\n",
    "                                        index=False, header=None)\n",
    "\n",
    "        return self.train_prediction_dict\n",
    "\n",
    "    def predict(self, test_data, lentest):\n",
    "        self.test_data = test_data\n",
    "        if self.task_type == 'classification':\n",
    "            test_prediction_shape = (lentest, self.num_classes)\n",
    "        else:\n",
    "            test_prediction_shape = (lentest, 1)\n",
    "\n",
    "        self.test_prediction_dict = {}\n",
    "        for level in range(self.levels):\n",
    "            self.test_prediction_dict[level] = np.zeros((test_prediction_shape[0],\n",
    "                                                         test_prediction_shape[1] * len(self.model_dict[level])))\n",
    "        self.test_data = test_data\n",
    "        for level in range(self.levels):\n",
    "            if level == 0:\n",
    "                temp_train = self.training_data\n",
    "                temp_test = self.test_data\n",
    "            else:\n",
    "                temp_train = self.train_prediction_dict[level - 1]\n",
    "                temp_test = self.test_prediction_dict[level - 1]\n",
    "\n",
    "            for model_num, model in enumerate(self.model_dict[level]):\n",
    "\n",
    "                logger.info(\"Training Fulldata Level %d. Model # %d\", level, model_num)\n",
    "                if level == 0:\n",
    "                    model.fit(temp_train[0][model_num], self.y_enc)\n",
    "                else:\n",
    "                    model.fit(temp_train, self.y_enc)\n",
    "\n",
    "                logger.info(\"Predicting Test Level %d. Model # %d\", level, model_num)\n",
    "\n",
    "                if self.task_type == 'classification':\n",
    "                    if level == 0:\n",
    "                        temp_test_predictions = model.predict_proba(temp_test[0][model_num])\n",
    "                    else:\n",
    "                        temp_test_predictions = model.predict_proba(temp_test)\n",
    "                    self.test_prediction_dict[level][:, (model_num * self.num_classes): (model_num * self.num_classes) +\n",
    "                                                                                        self.num_classes] = temp_test_predictions\n",
    "\n",
    "                else:\n",
    "                    if level == 0:\n",
    "                        temp_test_predictions = model.predict(temp_test[0][model_num])\n",
    "                    else:\n",
    "                        temp_test_predictions = model.predict(temp_test)\n",
    "                    self.test_prediction_dict[level][:, model_num] = temp_test_predictions\n",
    "\n",
    "            test_predictions_df = pd.DataFrame(self.test_prediction_dict[level])\n",
    "            test_predictions_df.to_csv(os.path.join(self.save_path, \"test_predictions_level_\" + str(level) + \".csv\"),\n",
    "                                       index=False, header=None)\n",
    "\n",
    "        return self.test_prediction_dict"
   ]
  },
  {
   "cell_type": "code",
   "execution_count": 39,
   "metadata": {},
   "outputs": [
    {
     "output_type": "stream",
     "name": "stdout",
     "text": [
      "[10:58:35] INFO Found 19 classes\n",
      "[10:58:35] INFO Training Level 0 Fold # 1. Model # 0\n",
      "/home/yaoqf/miniconda3/envs/piprnn/lib/python3.7/site-packages/sklearn/linear_model/logistic.py:432: FutureWarning: Default solver will be changed to 'lbfgs' in 0.22. Specify a solver to silence this warning.\n",
      "  FutureWarning)\n",
      "/home/yaoqf/miniconda3/envs/piprnn/lib/python3.7/site-packages/sklearn/linear_model/logistic.py:469: FutureWarning: Default multi_class will be changed to 'auto' in 0.22. Specify the multi_class option to silence this warning.\n",
      "  \"this warning.\", FutureWarning)\n",
      "[10:59:18] INFO Predicting Level 0. Fold # 1. Model # 0\n",
      "[10:59:18] INFO Level 0. Fold # 1. Model # 0. Validation Score = 0.779958\n",
      "[10:59:18] INFO Training Level 0 Fold # 2. Model # 0\n",
      "[11:00:04] INFO Predicting Level 0. Fold # 2. Model # 0\n",
      "[11:00:04] INFO Level 0. Fold # 2. Model # 0. Validation Score = 0.781615\n",
      "[11:00:04] INFO Training Level 0 Fold # 3. Model # 0\n",
      "[11:00:46] INFO Predicting Level 0. Fold # 3. Model # 0\n",
      "[11:00:46] INFO Level 0. Fold # 3. Model # 0. Validation Score = 0.757153\n",
      "[11:00:46] INFO Level 0. Model # 0. Mean Score = 0.772909. Std Dev = 0.011162\n",
      "[11:00:46] INFO Training Level 0 Fold # 1. Model # 1\n",
      "/home/yaoqf/miniconda3/envs/piprnn/lib/python3.7/site-packages/sklearn/linear_model/logistic.py:432: FutureWarning: Default solver will be changed to 'lbfgs' in 0.22. Specify a solver to silence this warning.\n",
      "  FutureWarning)\n",
      "/home/yaoqf/miniconda3/envs/piprnn/lib/python3.7/site-packages/sklearn/linear_model/logistic.py:469: FutureWarning: Default multi_class will be changed to 'auto' in 0.22. Specify the multi_class option to silence this warning.\n",
      "  \"this warning.\", FutureWarning)\n",
      "[11:05:23] INFO Predicting Level 0. Fold # 1. Model # 1\n",
      "[11:05:23] INFO Level 0. Fold # 1. Model # 1. Validation Score = 0.504900\n",
      "[11:05:23] INFO Training Level 0 Fold # 2. Model # 1\n",
      "[11:09:49] INFO Predicting Level 0. Fold # 2. Model # 1\n",
      "[11:09:49] INFO Level 0. Fold # 2. Model # 1. Validation Score = 0.466170\n",
      "[11:09:49] INFO Training Level 0 Fold # 3. Model # 1\n",
      "[11:14:20] INFO Predicting Level 0. Fold # 3. Model # 1\n",
      "[11:14:20] INFO Level 0. Fold # 3. Model # 1. Validation Score = 0.483075\n",
      "[11:14:20] INFO Level 0. Model # 1. Mean Score = 0.484715. Std Dev = 0.015854\n",
      "[11:14:20] INFO Training Level 0 Fold # 1. Model # 2\n",
      "[11:14:21] INFO Predicting Level 0. Fold # 1. Model # 2\n",
      "[11:14:21] INFO Level 0. Fold # 1. Model # 2. Validation Score = 0.875033\n",
      "[11:14:21] INFO Training Level 0 Fold # 2. Model # 2\n",
      "[11:14:22] INFO Predicting Level 0. Fold # 2. Model # 2\n",
      "[11:14:22] INFO Level 0. Fold # 2. Model # 2. Validation Score = 0.846181\n",
      "[11:14:22] INFO Training Level 0 Fold # 3. Model # 2\n",
      "[11:14:23] INFO Predicting Level 0. Fold # 3. Model # 2\n",
      "[11:14:23] INFO Level 0. Fold # 3. Model # 2. Validation Score = 0.748684\n",
      "[11:14:23] INFO Level 0. Model # 2. Mean Score = 0.823299. Std Dev = 0.054060\n",
      "[11:14:23] INFO Training Level 0 Fold # 1. Model # 3\n",
      "[11:14:23] INFO Predicting Level 0. Fold # 1. Model # 3\n",
      "[11:14:24] INFO Level 0. Fold # 1. Model # 3. Validation Score = 3.960693\n",
      "[11:14:24] INFO Training Level 0 Fold # 2. Model # 3\n",
      "[11:14:24] INFO Predicting Level 0. Fold # 2. Model # 3\n",
      "[11:14:24] INFO Level 0. Fold # 2. Model # 3. Validation Score = 4.010302\n",
      "[11:14:24] INFO Training Level 0 Fold # 3. Model # 3\n",
      "[11:14:25] INFO Predicting Level 0. Fold # 3. Model # 3\n",
      "[11:14:25] INFO Level 0. Fold # 3. Model # 3. Validation Score = 3.551927\n",
      "[11:14:25] INFO Level 0. Model # 3. Mean Score = 3.840974. Std Dev = 0.205388\n",
      "[11:14:25] INFO Saving predictions for level # 0\n",
      "[11:14:26] INFO Training Level 1 Fold # 1. Model # 0\n",
      "[11:14:26] WARNING: ../src/learner.cc:541: \n",
      "Parameters: { silent } might not be used.\n",
      "\n",
      "  This may not be accurate due to some parameters are only used in language bindings but\n",
      "  passed down to XGBoost core.  Or some parameters are not used but slip through this\n",
      "  verification. Please open an issue if you find above cases.\n",
      "\n",
      "\n",
      "[11:14:26] WARNING: ../src/learner.cc:1061: Starting in XGBoost 1.3.0, the default evaluation metric used with the objective 'multi:softprob' was changed from 'merror' to 'mlogloss'. Explicitly set eval_metric if you'd like to restore the old behavior.\n",
      "/home/yaoqf/miniconda3/envs/piprnn/lib/python3.7/site-packages/xgboost/sklearn.py:888: UserWarning: The use of label encoder in XGBClassifier is deprecated and will be removed in a future release. To remove this warning, do the following: 1) Pass option use_label_encoder=False when constructing XGBClassifier object; and 2) Encode your labels (y) as integers starting with 0, i.e. 0, 1, 2, ..., [num_class - 1].\n",
      "  warnings.warn(label_encoder_deprecation_msg, UserWarning)\n",
      "[11:14:34] INFO Predicting Level 1. Fold # 1. Model # 0\n",
      "[11:14:34] INFO Level 1. Fold # 1. Model # 0. Validation Score = 0.328837\n",
      "[11:14:34] INFO Training Level 1 Fold # 2. Model # 0\n",
      "[11:14:34] WARNING: ../src/learner.cc:541: \n",
      "Parameters: { silent } might not be used.\n",
      "\n",
      "  This may not be accurate due to some parameters are only used in language bindings but\n",
      "  passed down to XGBoost core.  Or some parameters are not used but slip through this\n",
      "  verification. Please open an issue if you find above cases.\n",
      "\n",
      "\n",
      "[11:14:34] WARNING: ../src/learner.cc:1061: Starting in XGBoost 1.3.0, the default evaluation metric used with the objective 'multi:softprob' was changed from 'merror' to 'mlogloss'. Explicitly set eval_metric if you'd like to restore the old behavior.\n",
      "[11:14:43] INFO Predicting Level 1. Fold # 2. Model # 0\n",
      "[11:14:43] INFO Level 1. Fold # 2. Model # 0. Validation Score = 0.308484\n",
      "[11:14:43] INFO Training Level 1 Fold # 3. Model # 0\n",
      "[11:14:43] WARNING: ../src/learner.cc:541: \n",
      "Parameters: { silent } might not be used.\n",
      "\n",
      "  This may not be accurate due to some parameters are only used in language bindings but\n",
      "  passed down to XGBoost core.  Or some parameters are not used but slip through this\n",
      "  verification. Please open an issue if you find above cases.\n",
      "\n",
      "\n",
      "[11:14:43] WARNING: ../src/learner.cc:1061: Starting in XGBoost 1.3.0, the default evaluation metric used with the objective 'multi:softprob' was changed from 'merror' to 'mlogloss'. Explicitly set eval_metric if you'd like to restore the old behavior.\n",
      "[11:14:51] INFO Predicting Level 1. Fold # 3. Model # 0\n",
      "[11:14:51] INFO Level 1. Fold # 3. Model # 0. Validation Score = 0.280555\n",
      "[11:14:51] INFO Level 1. Model # 0. Mean Score = 0.305958. Std Dev = 0.019792\n",
      "[11:14:51] INFO Saving predictions for level # 1\n",
      "[11:14:51] INFO Training Fulldata Level 0. Model # 0\n",
      "/home/yaoqf/miniconda3/envs/piprnn/lib/python3.7/site-packages/sklearn/linear_model/logistic.py:432: FutureWarning: Default solver will be changed to 'lbfgs' in 0.22. Specify a solver to silence this warning.\n",
      "  FutureWarning)\n",
      "/home/yaoqf/miniconda3/envs/piprnn/lib/python3.7/site-packages/sklearn/linear_model/logistic.py:469: FutureWarning: Default multi_class will be changed to 'auto' in 0.22. Specify the multi_class option to silence this warning.\n",
      "  \"this warning.\", FutureWarning)\n",
      "[11:15:49] INFO Predicting Test Level 0. Model # 0\n",
      "[11:15:49] INFO Training Fulldata Level 0. Model # 1\n",
      "[11:22:23] INFO Predicting Test Level 0. Model # 1\n",
      "[11:22:23] INFO Training Fulldata Level 0. Model # 2\n",
      "[11:22:23] INFO Predicting Test Level 0. Model # 2\n",
      "[11:22:23] INFO Training Fulldata Level 0. Model # 3\n",
      "[11:22:24] INFO Predicting Test Level 0. Model # 3\n",
      "[11:22:25] INFO Training Fulldata Level 1. Model # 0\n",
      "[11:22:25] WARNING: ../src/learner.cc:541: \n",
      "Parameters: { silent } might not be used.\n",
      "\n",
      "  This may not be accurate due to some parameters are only used in language bindings but\n",
      "  passed down to XGBoost core.  Or some parameters are not used but slip through this\n",
      "  verification. Please open an issue if you find above cases.\n",
      "\n",
      "\n",
      "[11:22:25] WARNING: ../src/learner.cc:1061: Starting in XGBoost 1.3.0, the default evaluation metric used with the objective 'multi:softprob' was changed from 'merror' to 'mlogloss'. Explicitly set eval_metric if you'd like to restore the old behavior.\n",
      "/home/yaoqf/miniconda3/envs/piprnn/lib/python3.7/site-packages/xgboost/sklearn.py:888: UserWarning: The use of label encoder in XGBClassifier is deprecated and will be removed in a future release. To remove this warning, do the following: 1) Pass option use_label_encoder=False when constructing XGBClassifier object; and 2) Encode your labels (y) as integers starting with 0, i.e. 0, 1, 2, ..., [num_class - 1].\n",
      "  warnings.warn(label_encoder_deprecation_msg, UserWarning)\n",
      "[11:22:34] INFO Predicting Test Level 1. Model # 0\n"
     ]
    }
   ],
   "source": [
    "#为每个level的集成指定使用数据：\n",
    "from sklearn.naive_bayes import MultinomialNB\n",
    "from sklearn.linear_model import LogisticRegression\n",
    "train_data_dict = {0: [xtrain_tfv, xtrain_ctv, xtrain_tfv, xtrain_ctv], 1: [xtrain_w2v]}\n",
    "test_data_dict = {0: [xvalid_tfv, xvalid_ctv, xvalid_tfv, xvalid_ctv], 1: [xvalid_w2v]}\n",
    "\n",
    "model_dict = {0: [LogisticRegression(), LogisticRegression(), MultinomialNB(alpha=0.1), MultinomialNB()],\n",
    "\n",
    "              1: [xgb.XGBClassifier(silent=True, n_estimators=120, max_depth=7)]}\n",
    "\n",
    "ens = Ensembler(model_dict=model_dict, num_folds=3, task_type='classification',\n",
    "                optimize=multiclass_logloss, lower_is_better=True, save_path='')\n",
    "\n",
    "ens.fit(train_data_dict, ytrain, lentrain=xtrain_w2v.shape[0])\n",
    "preds = ens.predict(test_data_dict, lentest=xvalid_w2v.shape[0])"
   ]
  },
  {
   "cell_type": "code",
   "execution_count": 40,
   "metadata": {},
   "outputs": [
    {
     "output_type": "stream",
     "name": "stdout",
     "text": [
      "logloss: 0.298 \n"
     ]
    }
   ],
   "source": [
    "print (\"logloss: %0.3f \" % multiclass_logloss(yvalid, preds[1]))"
   ]
  },
  {
   "cell_type": "code",
   "execution_count": null,
   "metadata": {},
   "outputs": [],
   "source": []
  }
 ]
}